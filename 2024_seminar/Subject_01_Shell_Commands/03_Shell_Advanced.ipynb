{
 "cells": [
  {
   "cell_type": "markdown",
   "id": "b31c61df-1a1f-4a0c-83d6-a9523f970ff4",
   "metadata": {},
   "source": [
    "# More Commands for Searches, File Management, and Admin"
   ]
  }
 ],
 "metadata": {
  "kernelspec": {
   "display_name": "Python 3 (ipykernel)",
   "language": "python",
   "name": "python3"
  },
  "language_info": {
   "codemirror_mode": {
    "name": "ipython",
    "version": 3
   },
   "file_extension": ".py",
   "mimetype": "text/x-python",
   "name": "python",
   "nbconvert_exporter": "python",
   "pygments_lexer": "ipython3",
   "version": "3.12.5"
  }
 },
 "nbformat": 4,
 "nbformat_minor": 5
}
