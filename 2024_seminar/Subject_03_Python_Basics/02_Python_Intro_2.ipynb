{
 "cells": [
  {
   "cell_type": "markdown",
   "id": "844a4461-41fc-473e-b619-7e618bd7225c",
   "metadata": {},
   "source": [
    "## Designing Basic Programs\n",
    "\n",
    "If we wished to design a program to give us a specified output, we can define variables and print them in one or more print statements.\n",
    "\n",
    "For example, to design a program that prints a student's name, year of college, and eye color, we can define those variables for an individual or for multiple individuals and we can print statements to output each of these to the console in a sentence: \n"
   ]
  },
  {
   "cell_type": "code",
   "execution_count": 6,
   "id": "9c95d387-8718-4784-bb38-099e182c3b55",
   "metadata": {},
   "outputs": [
    {
     "name": "stdout",
     "output_type": "stream",
     "text": [
      "Hello, I'm  Jack , my college year is Senior and my eyes are blue\n",
      "Hello, I'm  Jill , my college year is Freshman and my eyes are brown\n"
     ]
    }
   ],
   "source": [
    "name_1 = \"Jack\"\n",
    "name_2 = \"Jill\"\n",
    "\n",
    "college_year_1 = \"Senior\"\n",
    "college_year_2 = \"Freshman\"\n",
    "\n",
    "eye_color_1 = \"blue\"\n",
    "eye_color_2 = \"brown\"\n",
    "\n",
    "print(\"Hello, I'm \",name_1, \", my college year is\", college_year_1, \"and my eyes \\\n",
    "are\", eye_color_1)\n",
    "\n",
    "print(\"Hello, I'm \",name_2, \", my college year is\", college_year_2, \"and my eyes \\\n",
    "are\", eye_color_2)"
   ]
  },
  {
   "cell_type": "markdown",
   "id": "9f3ea264-220e-45f3-8056-63816cb1520a",
   "metadata": {},
   "source": [
    "### If Statements\n",
    "\n",
    "But we may not wish to add a new print statement for every student. What if Jack graduated last year and we need to double check if he is a student before printing the statement? We can define a new property called \"current_student\" and set it to yes or no."
   ]
  },
  {
   "cell_type": "markdown",
   "id": "dca9dac2-f612-437c-960f-5ac48d65ca39",
   "metadata": {},
   "source": [
    "Then we can set what is called an \"if\" condition to only run the subsequent code under the condition that the current_student value is \"yes\"."
   ]
  },
  {
   "cell_type": "code",
   "execution_count": 16,
   "id": "454101af-22d8-4bcd-b7f3-19025e50f791",
   "metadata": {},
   "outputs": [
    {
     "name": "stdout",
     "output_type": "stream",
     "text": [
      "Hello, I'm  Jill , my college year is Freshman and my eyes are brown\n"
     ]
    }
   ],
   "source": [
    "current_student1 = \"no\"\n",
    "\n",
    "if current_student1 == \"yes\":\n",
    "\n",
    "    print(\"Hello, I'm \",name_1, \", my college year is\", college_year_1, \"and my eyes are\", eye_color_1)\n",
    "\n",
    "current_student_2 = \"yes\"\n",
    "\n",
    "if current_student_2 == \"yes\":\n",
    "\n",
    "    print(\"Hello, I'm \",name_2, \", my college year is\", college_year_2, \"and my eyes are\", eye_color_2)"
   ]
  },
  {
   "cell_type": "markdown",
   "id": "135f592e-19d3-4399-ba79-ce58935aa52a",
   "metadata": {},
   "source": [
    "We notice in the print statement, the student with current_student set to \"no\" did not have their statement printed. Only Jill printed because her value for current_student is set to \"yes\". \n",
    "\n",
    "This is a very crude way of achieving this, but it demonstrates the power of an if statement. We will later talk about processes we might use to make this sort of thing automatic, and how the value of current_student could be tracked dynamically. "
   ]
  },
  {
   "cell_type": "markdown",
   "id": "ec37ddb6-9437-400d-8930-dd70a074c794",
   "metadata": {},
   "source": [
    "## True vs. False\n",
    "\n",
    "In Python, True and False are the two Boolean values used to represent truth and falsity. These values are part of Python's bool type and are essential for controlling the flow of a program. True represents something that is logically correct, while False represents something that is not.\n",
    "\n",
    "In conditional statements, such as if, Python evaluates expressions to determine whether they are True or False. For example, the expression 5 > 3 evaluates to True, while 3 > 5 evaluates to False. Other data types, such as numbers and strings, also have truth values. For instance, non-zero numbers and non-empty strings are considered True, whereas 0 and empty strings(\"\") are considered False. Understanding how Python evaluates true and false is key to writing logical, decision-making code.\n",
    "\n",
    "* Note: True and False are case sensitive and must be capitalized in Python\n",
    "\n",
    "Here, we declare a variable called studying_coding and we set it to True. Printing the value stored in that variable produces True in the console."
   ]
  },
  {
   "cell_type": "code",
   "execution_count": 2,
   "id": "8bfd6385-6077-4d4f-b668-2ea65299a957",
   "metadata": {},
   "outputs": [
    {
     "name": "stdout",
     "output_type": "stream",
     "text": [
      "True\n"
     ]
    }
   ],
   "source": [
    "studying_coding = True\n",
    "print(studying_coding)"
   ]
  },
  {
   "cell_type": "markdown",
   "id": "51769f4e-8e98-4f1d-96ad-68fc4ac2b810",
   "metadata": {},
   "source": [
    "We can also see that certain values are evaluated as True or False by default:"
   ]
  },
  {
   "cell_type": "code",
   "execution_count": 5,
   "id": "586666fc-edda-4c2e-adea-15fc2444bc4f",
   "metadata": {},
   "outputs": [
    {
     "name": "stdout",
     "output_type": "stream",
     "text": [
      "The number 7 was evaluated as True because this printed\n"
     ]
    }
   ],
   "source": [
    "lucky_number = 7\n",
    "\n",
    "if lucky_number:\n",
    "    print(\"The number 7 was evaluated as True because this printed\")"
   ]
  },
  {
   "cell_type": "code",
   "execution_count": null,
   "id": "ec0279b5-5b50-4754-b16f-684d097a9c0d",
   "metadata": {},
   "outputs": [],
   "source": [
    "lucky_number = 0\n",
    "\n",
    "if lucky_number:\n",
    "    print(\"The number 0 was evaluated as False because this did not print\")"
   ]
  },
  {
   "cell_type": "markdown",
   "id": "c22431bc-d3ae-4bae-95b8-3b2df26949a2",
   "metadata": {},
   "source": [
    "Nothing prints when we run this because 0 is evaluated as false. Similarly we can compare the behavior of a string with something inside of it versus a string that is empty:"
   ]
  },
  {
   "cell_type": "code",
   "execution_count": 6,
   "id": "750757a1-98c4-44b6-8515-f219aea4c3b8",
   "metadata": {},
   "outputs": [
    {
     "name": "stdout",
     "output_type": "stream",
     "text": [
      "The string Seven was evaluated as True because this printed\n"
     ]
    }
   ],
   "source": [
    "lucky_number = \"Seven\"\n",
    "\n",
    "if lucky_number:\n",
    "    print(\"The string Seven was evaluated as True because this printed\")\n",
    "\n",
    "lucky_number = \"\"\n",
    "\n",
    "if lucky_number:\n",
    "    print(\"The empty string \"\" was evaluated as False because this did not print\")"
   ]
  },
  {
   "cell_type": "markdown",
   "id": "e6e20d44-e044-4531-a47d-181ab1f40e98",
   "metadata": {},
   "source": [
    "### And Statements\n",
    "\n",
    "In Python, once you understand basic data types like integers, strings, and booleans, and you understand how to use if statements to make decisions in your code, you’re ready to learn about combining conditions with logical operators.\n",
    "\n",
    "One of the most commonly used logical operators is \"and\". The and statement allows you to check multiple conditions at the same time. For example, if you want to check whether two conditions are both true, you can use and to combine them in a single if statement. If both conditions evaluate to True, the code inside the if block will run. If either condition is False, the block will be skipped. This makes and useful when you need to ensure that multiple criteria are met before performing an action in your program.\n",
    "\n",
    "Below, we see that if either condition in the and statement is False, the code indented code block does not run: "
   ]
  },
  {
   "cell_type": "code",
   "execution_count": 8,
   "id": "bd863853-c517-4603-86ca-17e78ee0fab3",
   "metadata": {},
   "outputs": [],
   "source": [
    "presented_id = True\n",
    "ticket_scanned = False\n",
    "\n",
    "if presented_id and ticket_scanned:\n",
    "\n",
    "    print(\"Admit person to 21+ concert\")\n"
   ]
  },
  {
   "cell_type": "markdown",
   "id": "8d07b6f8-ef9e-4947-b875-72d6b5c3524d",
   "metadata": {},
   "source": [
    "### An aside about indentation\n",
    "\n",
    "In Python, indentation is crucial and plays a key role in defining the structure of your code. Unlike many other programming languages that use braces or keywords to mark blocks of code, Python uses indentation (spaces or tabs) to determine which statements belong to the same block.\n",
    "\n",
    "For example, in an if statement, all lines of code indented underneath it are considered part of the block that will run if the condition is true. Without proper indentation, your code will raise an error, as Python won’t know how to interpret the structure. This makes it very important to consistently indent your code, usually with 4 spaces, to ensure clarity and avoid errors.\n",
    "\n",
    "When both conditions in the above example are True, the indented code block runs and prints our message:"
   ]
  },
  {
   "cell_type": "code",
   "execution_count": 9,
   "id": "9238fce5-a03e-4234-852a-408da3b1f4b2",
   "metadata": {},
   "outputs": [
    {
     "name": "stdout",
     "output_type": "stream",
     "text": [
      "Admit person to 21+ concert\n"
     ]
    }
   ],
   "source": [
    "presented_id = True\n",
    "ticket_scanned = True\n",
    "\n",
    "if presented_id and ticket_scanned:\n",
    "\n",
    "    print(\"Admit person to 21+ concert\")"
   ]
  },
  {
   "cell_type": "code",
   "execution_count": null,
   "id": "472a651a-8811-4b4d-ae83-bf5333461e67",
   "metadata": {},
   "outputs": [],
   "source": []
  }
 ],
 "metadata": {
  "kernelspec": {
   "display_name": "Python 3 (ipykernel)",
   "language": "python",
   "name": "python3"
  },
  "language_info": {
   "codemirror_mode": {
    "name": "ipython",
    "version": 3
   },
   "file_extension": ".py",
   "mimetype": "text/x-python",
   "name": "python",
   "nbconvert_exporter": "python",
   "pygments_lexer": "ipython3",
   "version": "3.12.5"
  }
 },
 "nbformat": 4,
 "nbformat_minor": 5
}
