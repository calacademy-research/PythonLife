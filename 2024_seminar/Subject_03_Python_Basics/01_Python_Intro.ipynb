{
 "cells": [
  {
   "cell_type": "markdown",
   "id": "eab7d9c3-1402-4fb2-b5ca-b86b3ae59410",
   "metadata": {},
   "source": [
    "# Welcome to the CCG's Science Coding Course Series,\n",
    "\n",
    "## Your instructors are: Joe Russack\n",
    "\n",
    "## Topics\n",
    "\n",
    "- Welcome to Science Coding Courses!\n",
    "- What is Python? Why it is useful?\n",
    "- Launching Jupyter Notebooks\n",
    "- Running simple programs in Python using UNIX commands\n",
    "\n",
    "## Course Schedule\n",
    "TBA\n",
    "\n",
    "## Introduction\n",
    "\n",
    "### What are you going to learn?\n",
    "\n",
    "In this  class, you will embark on a journey to learn the fundamentals of one of the world's most popular and versatile programming languages. We will learn how to leverage Python's interactive shell and write code that can be executed from the command line. The course will cover essential concepts such as variables, data types, and basic operations.\n",
    "\n",
    "In a subsequent module, we will be progressing to more complex topics like control structures (if-else statements, loops) and functions. There we will also explore Python's powerful built-in data structures, including lists, tuples, and dictionaries, and learn how to manipulate them efficiently. These are particularly useful tools for scientific analysis and visualization.\n",
    "\n",
    "### Why Python?\n",
    "\n",
    "Python has become a powerhouse for scientific analysis due to its versatility, extensive ecosystem of libraries, and ease of use. Clear syntax and dynamic typing make it accessible to researchers and scientists who may not have a strong programming background, allowing them to quickly translate their ideas into code.\n",
    "\n",
    "Python's scientific computing stack, including libraries like NumPy for numerical computations, Pandas for data manipulation, and Matplotlib for data visualization, provides a robust foundation for complex analyses. Additionally, specialized libraries such as SciPy for scientific and technical computing, Scikit-learn for machine learning, and Biopython for bioinformatics extend Python's capabilities to various scientific domains. Furthermore, Python's interactive environments like Jupyter notebooks facilitate exploratory data analysis, enabling scientists to document their work, share results, and create reproducible research. This combination of user-friendliness, powerful tools, and a supportive community has made Python a useful tool in fields ranging from physics and astronomy to biology and environmental science.\n",
    "\n",
    "\n",
    "## Getting Started\n",
    "\n",
    "### First things first\n",
    "\n",
    "- We are assuming that you have Python installed\n",
    "- You have familiarity with basic UNIX commands, or at least feel comfortable using them with a reference\n",
    "- We are assuming that you have used Jupyter notebooks, or will be able to install and run it because of the previous two items on this list\n",
    "\n",
    "### Jupyter Notebooks\n",
    "\n",
    "Please launch Jupyter Notebooks and navigate to the shared course modules to follow along. Assuming you have previously installed the package, you can simply type:\n",
    "\n",
    "    $ jupyter lab\n",
    "\n",
    "If you do not have the package installed, you can do so by typing:\n",
    "\n",
    "    $ pip install notebook\n",
    "\n",
    "This command uses the Pip Installs Packages command to install Jupyter notebook\n",
    "\n",
    "\n",
    "Next you would activate what is called a virtual environment, which can be thought of as a container for installing and managing packages efficiently.\n",
    "\n",
    "    $ python -m venv venv\n",
    "\n",
    "The first \"venv\" tells Python to activate a virtual environment, and the second \"venv\" names the environment, so the last word in the above command is arbitrary and up to you. Finally the virtual environment must be activated using the command:\n",
    "\n",
    "    $ source insert/path/to/venv\n",
    "\n",
    "Now you should be able to run the first command above \"jupyter lab\"! \n",
    "\n",
    "### The simplest program\n",
    "\n",
    "We might think of a simple program as something that does some math operation or gives us some bit of information, but even simpler than that would be the print() statement. In order to monitor programs we build using code, we have to build in statements that will show in the terminal. \n",
    "\n",
    "In Python, the print() function is used to display information on the screen, making it one of the most commonly used functions in the language. A basic print() statement takes one or more arguments and outputs them as text. For example, print(\"Hello, world!\") will display the string \"Hello, world!\" in the console.\n",
    "\n",
    "Try it: \n",
    "\n",
    "Open a Python kearnel in Jupyter notebook and type:\n"
   ]
  },
  {
   "cell_type": "code",
   "execution_count": 2,
   "id": "57365b48-c274-4445-9e0b-39efd7ad9044",
   "metadata": {},
   "outputs": [
    {
     "name": "stdout",
     "output_type": "stream",
     "text": [
      "1\n"
     ]
    }
   ],
   "source": [
    "print(1)"
   ]
  },
  {
   "cell_type": "raw",
   "id": "1f02ad56-b817-4b2e-864c-417b441667ca",
   "metadata": {},
   "source": [
    "We see that the number one was printed in the terminal. Try printing a word or phrase inside quotation marks:"
   ]
  },
  {
   "cell_type": "code",
   "execution_count": 3,
   "id": "5e6a3655-9ee2-4111-972a-6347f1f8547b",
   "metadata": {},
   "outputs": [
    {
     "name": "stdout",
     "output_type": "stream",
     "text": [
      "This can be anything as long as we ensure quotation marks on both sides\n"
     ]
    }
   ],
   "source": [
    "print(\"This can be anything as long as we ensure quotation marks on both sides\")"
   ]
  },
  {
   "cell_type": "raw",
   "id": "139bc0e7-cdbd-475e-b6c8-e99cf58c7c3d",
   "metadata": {},
   "source": [
    "The phrase is printed to the terminal. This text in quotations is referred to in programming languages as a string. The number 1 is referred to as an integer. Strings and integers are an example of data types, of which there are many to learn about. \n",
    "\n",
    "You can print multiple items by separating them with commas, and Python will automatically insert a space between them. The function can also handle different types of data, such as integers or variables, converting them to strings before printing.\n",
    "\n",
    "By default, print() adds a new line at the end of the output, but this behavior can be customized using the end parameter. For example, if we were printing twice:"
   ]
  },
  {
   "cell_type": "code",
   "execution_count": 4,
   "id": "7fb711b0-1fcb-4179-8d3c-db3c325402af",
   "metadata": {},
   "outputs": [
    {
     "name": "stdout",
     "output_type": "stream",
     "text": [
      "Hello\n",
      "World\n"
     ]
    }
   ],
   "source": [
    "print(\"Hello\")\n",
    "print(\"World\")"
   ]
  },
  {
   "cell_type": "raw",
   "id": "b4181ab0-481a-44ff-aedc-278bbd9b92bc",
   "metadata": {},
   "source": [
    "But if we were to use end:"
   ]
  },
  {
   "cell_type": "code",
   "execution_count": 5,
   "id": "62ea1952-6f6e-4f7a-9582-9aacafbccfa3",
   "metadata": {},
   "outputs": [
    {
     "name": "stdout",
     "output_type": "stream",
     "text": [
      "Hello World\n"
     ]
    }
   ],
   "source": [
    "print(\"Hello\", end=\" \")\n",
    "print(\"World\")"
   ]
  },
  {
   "cell_type": "markdown",
   "id": "6f70e9bb-9aef-42be-a1c1-eda9077f6a47",
   "metadata": {},
   "source": [
    "We get both statements on the same line. This makes the print() function a flexible tool for debugging and displaying output in Python programs.\n",
    "\n",
    "## Data Types\n",
    "\n",
    "### What is a type?\n",
    "Computers - as we have previously observerd - aren't terribly smart. While we are able to represent information like \"Hello\" and \"3.14159\", it's pretty clear that the things we might do with the value of Pi and a greeting are pretty different. It's hard to divide two strings, and it doesn't make a lot of sense to remove the apostrophies from an integer. In fact, internally, Python has the ability to represent these data very differently. Each kind of data is called a \"Type\". Soon, we will work directly with types, but the important thing to know for now is that they exist, and that every kind of data is of a \"Type\". Here are the basics (and, in parenthesis, some synonyms/similar types):\n",
    "\n",
    "Integer (int, long)\n",
    "Float (double)\n",
    "String (char - sort of)\n",
    "Boolean\n",
    "many others... how many others: complex, class, function what else first class objects\n",
    "\n",
    "### Values, variables and calculations\n",
    "\n",
    "In order to begin writing code, we need to know what kind of data our programs will accept. The most basic way of expressing some piece of data in Python is called a value. We store values by declaring them:"
   ]
  },
  {
   "cell_type": "code",
   "execution_count": null,
   "id": "9ad0928b-cc9e-43bc-b1f6-964d663ebad1",
   "metadata": {},
   "outputs": [],
   "source": [
    "some_data = \"A string\"\n",
    "numerical_data = 250,000\n",
    "another_string = \"Remember: This can be anything\"\n",
    "another_number = 4.75"
   ]
  },
  {
   "cell_type": "markdown",
   "id": "87c4b1e7-3a93-48b8-8b66-0432d796f17d",
   "metadata": {},
   "source": [
    "The names of the values on the left are arbitrary, but they should reflect something significant about that piece of information so that it can be easily referred back to. For example if I were saving information about a guy named Peter who is 38 years old and works at the California Academy of Science as a volunter, I would name each of the pieces of data with tags describing them:"
   ]
  },
  {
   "cell_type": "code",
   "execution_count": null,
   "id": "d80d5aac-1029-481a-8afc-463747361e90",
   "metadata": {},
   "outputs": [],
   "source": [
    "name = \"Peter Martinez\"\n",
    "age = 38\n",
    "workplace = \"Cal Academy\"\n",
    "job_title = \"Volunteer\""
   ]
  },
  {
   "cell_type": "markdown",
   "id": "4a5b3fb5-cb9d-4727-a01c-74120f48f701",
   "metadata": {},
   "source": [
    "I just as easily could have done this: "
   ]
  },
  {
   "cell_type": "code",
   "execution_count": null,
   "id": "47613187-f740-481c-8710-7cf0d4d2c67f",
   "metadata": {},
   "outputs": [],
   "source": [
    "value1 = \"Peter\"\n",
    "value2 = 38\n",
    "value3 = \"Cal Academy\"\n",
    "value4 = \"Volunteer\""
   ]
  },
  {
   "cell_type": "markdown",
   "id": "0336d04b-9ac7-49c8-a81c-fb97cf079d75",
   "metadata": {},
   "source": [
    "But this naming has little significance and would quickly become confusing if I wanted to begin adding other users or decide to make other changes. These values we declared have now been saved in what we call variables because they can later be changed:"
   ]
  },
  {
   "cell_type": "code",
   "execution_count": 6,
   "id": "543e2b15-20b0-4eb9-bb87-2a80f1fd4634",
   "metadata": {},
   "outputs": [
    {
     "name": "stdout",
     "output_type": "stream",
     "text": [
      "39\n"
     ]
    }
   ],
   "source": [
    "age = 38\n",
    "age = 39\n",
    "print(age)"
   ]
  },
  {
   "cell_type": "markdown",
   "id": "d4006ff3-aa15-4ccc-a57d-0e8479388379",
   "metadata": {},
   "source": [
    "Although we defined age to be 38, the second line updated the value to 39, so the variable \"age\" was 39 when we reached the print statement. This is so because program are read <strong>sequentially</strong> from top to bottom. Sequence is an important concept in programming and is one of the fundamental principles on which all code operates.\n",
    "\n",
    "Now that we can declare values, we can use those values to do simple things like calculate sums:"
   ]
  },
  {
   "cell_type": "code",
   "execution_count": 8,
   "id": "6e42a6c2-76a5-497c-ae31-1762f8313cdf",
   "metadata": {},
   "outputs": [
    {
     "name": "stdout",
     "output_type": "stream",
     "text": [
      "100\n"
     ]
    }
   ],
   "source": [
    "x = 25\n",
    "y = 75\n",
    "\n",
    "print(x + y)\n"
   ]
  },
  {
   "cell_type": "markdown",
   "id": "27c99309-10d0-4947-9fc3-551b63c1ae95",
   "metadata": {},
   "source": [
    "Python ran a calculation for us! We can even do things like add different data types to each other, but we must first convert the age to a string: "
   ]
  },
  {
   "cell_type": "code",
   "execution_count": 11,
   "id": "13d86442-09e3-4f2b-bcd0-e3e5c4f11f87",
   "metadata": {},
   "outputs": [
    {
     "name": "stdout",
     "output_type": "stream",
     "text": [
      "My name is Peter and I am 38\n"
     ]
    }
   ],
   "source": [
    "intro = \"My name is Peter and I am \"\n",
    "age = 38\n",
    "print(intro + str(age))"
   ]
  },
  {
   "cell_type": "code",
   "execution_count": null,
   "id": "2af95b87-963c-4608-938b-763464bc5b4c",
   "metadata": {},
   "outputs": [],
   "source": [
    "We can print as many things in a row as we want by separating them with commas:"
   ]
  },
  {
   "cell_type": "code",
   "execution_count": 12,
   "id": "d87dd112-0983-4c56-bdce-2973e36bb56e",
   "metadata": {},
   "outputs": [
    {
     "name": "stdout",
     "output_type": "stream",
     "text": [
      "My name is Peter and I am 38 years old\n"
     ]
    }
   ],
   "source": [
    "print(\"My name is Peter and I am\", age, \"years old\")"
   ]
  },
  {
   "cell_type": "code",
   "execution_count": null,
   "id": "a83b0f34-6bf2-4fb3-9754-9aa34dd61c1b",
   "metadata": {},
   "outputs": [],
   "source": [
    "If we use commas, we do not have to convert age into a string."
   ]
  }
 ],
 "metadata": {
  "kernelspec": {
   "display_name": "Python 3 (ipykernel)",
   "language": "python",
   "name": "python3"
  },
  "language_info": {
   "codemirror_mode": {
    "name": "ipython",
    "version": 3
   },
   "file_extension": ".py",
   "mimetype": "text/x-python",
   "name": "python",
   "nbconvert_exporter": "python",
   "pygments_lexer": "ipython3",
   "version": "3.12.5"
  }
 },
 "nbformat": 4,
 "nbformat_minor": 5
}
