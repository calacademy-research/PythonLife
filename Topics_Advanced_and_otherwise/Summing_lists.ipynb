{
 "cells": [
  {
   "cell_type": "markdown",
   "metadata": {},
   "source": [
    "## Summing Lists and Counting Characters"
   ]
  },
  {
   "cell_type": "markdown",
   "metadata": {},
   "source": [
    "### Summing lists by looping through each item\n",
    "We are going to quickly look at 3 ways to loop through the items in a list and add them up. Then we are going to see a way to do this type of thing more generally that doesn't directly involve looping through each item."
   ]
  },
  {
   "cell_type": "code",
   "execution_count": null,
   "metadata": {},
   "outputs": [],
   "source": [
    "# here's the simple list we will use\n",
    "numlist = [1, 2, 3.2, 4.7]\n",
    "print numlist"
   ]
  },
  {
   "cell_type": "markdown",
   "metadata": {},
   "source": [
    "**(1)** <font color='blue'>**while loop**</font> -- this is probably most familiar to those with other programming language experience."
   ]
  },
  {
   "cell_type": "code",
   "execution_count": null,
   "metadata": {},
   "outputs": [],
   "source": [
    "numlist = [1, 2, 3.2, 4.7]\n",
    "\n",
    "addition = 0; i = 0\n",
    "while i < len(numlist):\n",
    "    addition = addition + numlist[i]\n",
    "    i = i+1\n",
    "    \n",
    "print addition"
   ]
  },
  {
   "cell_type": "markdown",
   "metadata": {},
   "source": [
    "Here's the same loop using the **+=** operator. I think it reads more cleanly. We'll use this when we can."
   ]
  },
  {
   "cell_type": "code",
   "execution_count": null,
   "metadata": {},
   "outputs": [],
   "source": [
    "addition = 0; i = 0\n",
    "while i < len(numlist):\n",
    "    addition += numlist[i]\n",
    "    i += 1\n",
    "\n",
    "print addition"
   ]
  },
  {
   "cell_type": "markdown",
   "metadata": {},
   "source": [
    "**(2)** <font color='blue'>**for loop**</font> -- this initializes and increments the index with just one line by using the **range()** function, the while loop took 3 statements to handle that."
   ]
  },
  {
   "cell_type": "code",
   "execution_count": null,
   "metadata": {},
   "outputs": [],
   "source": [
    "numlist = [1, 2, 3.2, 4.7]\n",
    "\n",
    "addition = 0\n",
    "for i in range( len(numlist) ):\n",
    "    addition += numlist[i]\n",
    "    \n",
    "print addition"
   ]
  },
  {
   "cell_type": "markdown",
   "metadata": {},
   "source": [
    "**(3a)** <font color='blue'>**for .. in loop**</font> -- we don't actually need the index. this will return each list item in turn so we can deal with it. cleanest look so far."
   ]
  },
  {
   "cell_type": "code",
   "execution_count": null,
   "metadata": {},
   "outputs": [],
   "source": [
    "numlist = [1, 2, 3.2, 4.7]\n",
    "\n",
    "addition = 0\n",
    "for val in numlist:\n",
    "    addition += val\n",
    "    \n",
    "print addition"
   ]
  },
  {
   "cell_type": "markdown",
   "metadata": {},
   "source": [
    "**(3b)** <font color='blue'>**for .. in loop**</font> -- to get the index and value of each item in turn, this style loop can do that by passing the list to the **enumerate()** function."
   ]
  },
  {
   "cell_type": "code",
   "execution_count": null,
   "metadata": {},
   "outputs": [],
   "source": [
    "numlist = [1, 2, 3.2, 4.7]\n",
    "\n",
    "addition = 0\n",
    "for i, val in enumerate(numlist):\n",
    "    addition += val\n",
    "    \n",
    "print \"{} sum with last index of {}\".format(addition, i)"
   ]
  },
  {
   "cell_type": "markdown",
   "metadata": {},
   "source": [
    "### The sum() built-in function\n",
    "***Sum*** is a special case in Python. There's a built-in function called **sum()** that sums a list.\n",
    "Anything else than adding up int or float values and you have to do it some other way. That's what we will look at in the next sections. Let's see sum() in action."
   ]
  },
  {
   "cell_type": "code",
   "execution_count": null,
   "metadata": {},
   "outputs": [],
   "source": [
    "# there's a built-in sum() function for numeric lists: int and float types.\n",
    "# anything more complicated you'll have to do yourself\n",
    "\n",
    "print sum([1, 2, 3.2, 4.7])\n",
    "numlist = [1, 2, 3.2, 4.7]\n",
    "print sum(numlist), \"it still adds up\""
   ]
  },
  {
   "cell_type": "markdown",
   "metadata": {},
   "source": [
    "You might notice above that <font color='green'>**print**</font> is in <font color='green'>**bold green**</font> and <font color='green'>sum</font> is in <font color='green'>regular green</font>. This is Jupyter's way of distiguishing *keywords* from *built-in* functions.\n",
    "\n",
    "Why do we care? Because built-in names can be reused as variable names. That means you lose them as a function. Yikes!\n",
    "\n",
    "I've seen more than a few questions on Stack Overflow that were due to someone assiging a value to the variable named **sum** and then trying to use the **sum()** function later in their code. You'll get this green highlighting of built-ins in ***IPython*** but not the ***Python*** command line interpreter. Everybody that has Jupyter installed will have **IPython** installed too. I'd recommend using it over the regular Python interpreter.\n",
    "\n",
    "A quick example so you won't do this, or if you do, you can recognize what happened. (I'm using an advanced syntax to restore sum(), ignore that for now)"
   ]
  },
  {
   "cell_type": "code",
   "execution_count": null,
   "metadata": {},
   "outputs": [],
   "source": [
    "summation = sum([1, 2, 3.2, 4.7])\n",
    "print summation, \"from variable named summation\"\n",
    "print sum([1, 2, 3.2, 4.7]), \"directly from sum() function\"\n",
    "\n",
    "# this is what gets us in hot water -- not typically such a direct assignment to sum\n",
    "sum = sum([1, 2, 3.2, 4.7])\n",
    "\n",
    "print sum, \"from variable named sum -- huh?\"\n",
    "print\n",
    "print \"trying to use sum as a function again\"\n",
    "try:\n",
    "    print sum([1, 2, 3.2, 4.7]), \"directly from sum() function after sum assignment\"\n",
    "finally:\n",
    "    del sum # this restores the sum() function our variable was hiding"
   ]
  },
  {
   "cell_type": "markdown",
   "metadata": {},
   "source": [
    "### Summing numbers represented as strings as well as int and float types\n",
    "We'll have more to say about this below, but I want to point out a way to handle lists where numbers are represented as strings, or as int or float values.\n",
    "\n",
    "You might have read numeric values in from a file and they'll be strings. We'll define a function to handle both cases."
   ]
  },
  {
   "cell_type": "code",
   "execution_count": null,
   "metadata": {},
   "outputs": [],
   "source": [
    "allnumlist = [1, 2, 3.2, 4.7]\n",
    "strnumlist = ['1', '2', '3.2', '4.7'] # same list but the numbers are strings\n",
    "\n",
    "def sum_list(numlist):\n",
    "    addition = 0\n",
    "    for val in numlist:\n",
    "        addition += float(val)\n",
    "    return addition\n",
    "        \n",
    "print \"{} summed from {}\".format( sum_list(allnumlist), allnumlist)\n",
    "print \"{} summed from {}\".format( sum_list(strnumlist), strnumlist )"
   ]
  },
  {
   "cell_type": "markdown",
   "metadata": {},
   "source": [
    "The reason that the above function **sum_list** works for both types of list is that every value is converted to a float via the **float(val)** call. This is true whether the value is a string, an int, or float.\n",
    "Only potential downside to this is that a sum of ints gets turned into a float representation.\n",
    "We'll work on that a little bit below."
   ]
  },
  {
   "cell_type": "markdown",
   "metadata": {},
   "source": [
    "### Handling more than addition of lists\n",
    "\n",
    "There's a more general function named **reduce()** we can use to do things to list items, e.g, multiply the values. Of course, we can do that with the loops we looked at above but this function handles things for you in the general case.\n",
    "\n",
    "**reduce()** lets us call a function on each list item in turn and return the result from the function\n",
    "after it is applied to each of these items. There's a 3rd argument that lets us define the starting value. We can leave that 3rd arg out if we have a list of int or float values."
   ]
  },
  {
   "cell_type": "code",
   "execution_count": null,
   "metadata": {},
   "outputs": [],
   "source": [
    "# define a function to multiply 2 values and pass it to reduce\n",
    "\n",
    "def mult(current_result, next_item_in_list):\n",
    "    return current_result * next_item_in_list\n",
    "\n",
    "numlist = [1, 2, 3.2, 4.7]\n",
    "print reduce(mult, numlist)"
   ]
  },
  {
   "cell_type": "markdown",
   "metadata": {},
   "source": [
    "Here's another way we could do mixed type additions. I.e., numbers that are strings, ints, and floats. This one uses **reduce()** as well, so we can concentrate on what we are doing instead of the looping over the elements.\n",
    "\n",
    "We'll define a function **add()** that adds 2 things and returns the results. It calls a function **to_num()** on the item that turns a string numeric into a float but leaves non-strings as is.\n",
    "\n",
    "**to_num()** is defined after the **add()** function. It could just as easily have been defined before, as long as it's defined before it is used.\n"
   ]
  },
  {
   "cell_type": "code",
   "execution_count": null,
   "metadata": {},
   "outputs": [],
   "source": [
    "def add(current_result, next_item_in_list):\n",
    "    return current_result + to_num( next_item_in_list )\n",
    "\n",
    "def to_num(d):\n",
    "    return float(d) if isinstance(d, basestring) else d\n",
    "\n",
    "mixed_types = [1,'25',3, 3.2]\n",
    "print mixed_types, \"notice '25' is a numeric string, not an int or float type\"\n",
    "\n",
    "print \"sum:\", reduce(add, mixed_types, 0) # pass 0 as 3rd arg so first item can be a string"
   ]
  },
  {
   "cell_type": "markdown",
   "metadata": {},
   "source": [
    "The **to_num()** function, though short, may look very foreign to you. Ignore its implementation complexity if you'd like. (It depends on the fact that in Python everything is an instance of an object. It also uses a form of if..else that returns an expression without having to do an assignment in each clause.)\n",
    "\n",
    "---\n",
    "We can do the same thing as above but do the addition inline with what is called a **lambda** function in Python.\n",
    "These are often called *anonymous functions* in other languages: that just means a function without a name.\n",
    "\n",
    "Though the syntax is different than **def** for named functions, it is similar. The **lambda** function can only be a single line. We'll show average while we're at it."
   ]
  },
  {
   "cell_type": "code",
   "execution_count": null,
   "metadata": {},
   "outputs": [],
   "source": [
    "# we won't use an add() function here, we'll use its equivalent lambda function in the reduce() call\n",
    "\n",
    "def to_num(d):\n",
    "    return float(d) if isinstance(d, basestring) else d\n",
    "\n",
    "mixed_types = [1,'25',3, 3.2]\n",
    "mixed_sum = reduce(lambda cursum,nxtitem: cursum+to_num(nxtitem), mixed_types, 0)\n",
    "\n",
    "print \"sum: {} avg: {}\".format( mixed_sum, mixed_sum/len(mixed_types) )"
   ]
  },
  {
   "cell_type": "markdown",
   "metadata": {},
   "source": [
    "We run into a problem with both of the above when the string is not convertible to an int or a float value, even if it begins with digits. We'll be reusing the **to_num()** function we defined above in the following code block."
   ]
  },
  {
   "cell_type": "code",
   "execution_count": null,
   "metadata": {},
   "outputs": [],
   "source": [
    "bad_mixed_types = mixed_types + ['22 skidoo']\n",
    "print bad_mixed_types\n",
    "\n",
    "another_mixed_sum = reduce(lambda a,d: a+to_num(d), bad_mixed_types, 0)\n",
    "print another_mixed_sum"
   ]
  },
  {
   "cell_type": "markdown",
   "metadata": {},
   "source": [
    "Let's ease into a solution for this.\n",
    "I like to define a function named **atoi()** that closely replicates the semantics of this\n",
    "same named function from the C programming language. Its best feature is that it <font color='blue'>stops at a non-digit</font>; it doesn't <font color='red'>explode</font> aka throw an error.\n",
    "\n",
    "The **int()** and **float()** functions do throw an error, ie, explode, if there are alphas in the string, ***anywhere***. You saw this above. This makes for very brittle code.\n",
    "\n",
    "**atoi()** also skips any space at the beginning, as do **int()** and **float()**. In our **atoi()**, if the arg isn't a string we'll just return the arg.\n"
   ]
  },
  {
   "cell_type": "code",
   "execution_count": null,
   "metadata": {},
   "outputs": [],
   "source": [
    "def atoi(int_str=\"\"):\n",
    "    if not hasattr(int_str,\"lstrip\"):\n",
    "        return int_str # could be an int or float passed in (if not, good luck downstream)\n",
    "\n",
    "    istr = int_str.lstrip()\n",
    "    rslt = 0; mult = 1; \n",
    "    val0 = ord('0'); val9 = ord('9')\n",
    "    \n",
    "    if len(istr) and istr[0] in ['+', '-']: # handle negative ints and allow + too\n",
    "        if istr[0] == '-': mult = -1; \n",
    "        istr = istr[1:]\n",
    "        \n",
    "    for ch in istr:\n",
    "        val = ord(ch)\n",
    "        if val0 <= val <= val9: # it's a digit: slide everything over by 10s and add the digit\n",
    "            rslt = rslt*10 + (val-val0)\n",
    "        else: # not a digit, we'll take whatever we have so far\n",
    "            break\n",
    "            \n",
    "    return rslt * mult\n",
    "\n",
    "# now let's test it to see what we get\n",
    "def atoi_test(int_str): print \"{:5d} from {}\".format(atoi(int_str), repr(int_str))\n",
    "        \n",
    "atoi_test(\"  -22skidoo0123456789\")\n",
    "atoi_test(\"327\")\n",
    "atoi_test(\" 12.34\") # note we get ints not floats from atoi()\n",
    "atoi_test(\"twelve\")\n",
    "atoi_test(12)\n"
   ]
  },
  {
   "cell_type": "markdown",
   "metadata": {},
   "source": [
    "Now we are going to do what we did beforehand that created the error but with the **atoi()** function instead of **to_num()** ."
   ]
  },
  {
   "cell_type": "code",
   "execution_count": null,
   "metadata": {},
   "outputs": [],
   "source": [
    "bad_mixed_types = mixed_types + ['22 skidoo']\n",
    "print bad_mixed_types\n",
    "\n",
    "another_mixed_sum = reduce(lambda a,d: a+atoi(d), bad_mixed_types, 0)\n",
    "print another_mixed_sum\n",
    "print \"If the above is 32.2 + 22 it worked\""
   ]
  },
  {
   "cell_type": "markdown",
   "metadata": {},
   "source": [
    "The above worked. However, we have only put **int**s into strings, not a **float** value. Let's see what happens there."
   ]
  },
  {
   "cell_type": "code",
   "execution_count": null,
   "metadata": {},
   "outputs": [],
   "source": [
    "v3_mixed_types = ['fenix', '3.14'] + bad_mixed_types\n",
    "v4_mixed_types = ['fenix', 3.14]   + bad_mixed_types\n",
    "\n",
    "print v3_mixed_types\n",
    "sum3 = reduce(lambda a,d: a+atoi(d), v3_mixed_types, 0)\n",
    "print sum3\n",
    "print\n",
    "print v4_mixed_types\n",
    "sum4 = reduce(lambda a,d: a+atoi(d), v4_mixed_types, 0)\n",
    "print sum4\n",
    "print\n",
    "print \"Difference:\", sum4 - sum3"
   ]
  },
  {
   "cell_type": "markdown",
   "metadata": {},
   "source": [
    "The value **'3.14'** in v3_mixed_types was turned into an **int 3** instead of **float 3.14**.\n",
    "That's why we have a difference of ***.14***\n",
    "\n",
    "In some cases that might be what we want, but this way is treating a string '3.14'\n",
    "differently than a float 3.14 and that seems inconsistent.\n",
    "We could change our to_num function to always convert to int as the **to_num_v3()** example below does."
   ]
  },
  {
   "cell_type": "code",
   "execution_count": null,
   "metadata": {},
   "outputs": [],
   "source": [
    "def to_num_v3(d): return atoi(d) if isinstance(d, basestring) else int(d)\n",
    "print reduce(lambda a,d: a+to_num_v3(d), v3_mixed_types, 0)"
   ]
  },
  {
   "cell_type": "markdown",
   "metadata": {},
   "source": [
    "The above makes things consistent but I would prefer keeping floats float, wouldn't you.\n",
    "\n",
    "Let's make a **strtonum()** function that does what atoi() does for an integer string\n",
    "but also can return a float if there is a fractional part after a period.\n",
    "<br/>There's a few ways we could do this, however, we'll just see if we can add some smarts to the atoi() algorithm."
   ]
  },
  {
   "cell_type": "code",
   "execution_count": null,
   "metadata": {},
   "outputs": [],
   "source": [
    "def strtonum(num_str=\"\"):\n",
    "    if not hasattr(num_str,\"lstrip\"):\n",
    "        return num_str # could be an int or float passed in (if not, good luck downstream)\n",
    "\n",
    "    nstr = num_str.lstrip()\n",
    "    rslt = 0; mult = 1; \n",
    "    val0 = ord('0'); val9 = ord('9')\n",
    "    frac = \"\"\n",
    "    \n",
    "    if len(nstr) and nstr[0] in ['+', '-']: # handle negative ints and allow + too\n",
    "        if nstr[0] == '-': mult = -1; \n",
    "        nstr = nstr[1:] # delete first char (either a + or a -)\n",
    "        \n",
    "    for ch in nstr:\n",
    "        val = ord(ch)\n",
    "        if val0 <= val <= val9: # it's a digit\n",
    "            if len(frac)==0: # slide everything over by 10s and add the digit\n",
    "                rslt = rslt*10 + (val-val0)\n",
    "            else: # gather fractional part in a string\n",
    "                frac += ch\n",
    "        elif ch == '.' and len(frac)==0:\n",
    "            frac = \"0.\"\n",
    "        else: # not a digit, we'll take whatever we have so far\n",
    "            break\n",
    "            \n",
    "    return (rslt * mult) if len(frac)==0 else (rslt+float(frac)) * mult\n",
    "    "
   ]
  },
  {
   "cell_type": "markdown",
   "metadata": {},
   "source": [
    "Make sure that the above has been run so we have defined **strtonum()** and we'll see what it does with ['fenix 5', '3.14', 1, '25', 3, 3.2, '22 skidoo'] "
   ]
  },
  {
   "cell_type": "code",
   "execution_count": null,
   "metadata": {
    "scrolled": true
   },
   "outputs": [],
   "source": [
    "v3_mixed_types = ['fenix 5', '3.14', 1, '25', 3, 3.2, '22 skidoo']\n",
    "for val in v3_mixed_types:\n",
    "    num = strtonum(val)\n",
    "    print \"{:>11s} == {:>4} {}\".format(repr(val), num, type(num))"
   ]
  },
  {
   "cell_type": "markdown",
   "metadata": {},
   "source": [
    "Let's rerun the code where we had the difference of .14 substituting **strtonum()** for **atoi()** in the lambda function we use in reduce()."
   ]
  },
  {
   "cell_type": "code",
   "execution_count": null,
   "metadata": {},
   "outputs": [],
   "source": [
    "v3_mixed_types = ['fenix', '3.14'] + bad_mixed_types\n",
    "v4_mixed_types = ['fenix', 3.14]   + bad_mixed_types\n",
    "\n",
    "print v3_mixed_types\n",
    "sum3 = reduce(lambda a,d: a+strtonum(d), v3_mixed_types, 0)\n",
    "print sum3\n",
    "print\n",
    "print v4_mixed_types\n",
    "sum4 = reduce(lambda a,d: a+strtonum(d), v4_mixed_types, 0)\n",
    "print sum4\n",
    "print\n",
    "print \"Difference:\", sum4 - sum3"
   ]
  },
  {
   "cell_type": "markdown",
   "metadata": {},
   "source": [
    "Things look pretty good with this solution. We can combine int, float, or numeric strings, the way you'd expect. We can also handle strings that would cause an error with the typical Python built-ins int() and float().\n",
    "And int values stay int and aren't converted to float. Btw, the sum() function maintains this too.\n",
    "\n",
    "---\n",
    "Remember though that 'Fahrenheit 451' becomes 0, while '451 Fahrenheit' becomes 451. You can replace the alphas at the beginning of a string with the regular expression module **re** and its **sub()** method. \n",
    "We'll see this below but won't work this into our strtonum() strategy. Then we'll move on."
   ]
  },
  {
   "cell_type": "code",
   "execution_count": null,
   "metadata": {},
   "outputs": [],
   "source": [
    "import re # re is python's regular expression module\n",
    "F451 = 'Fahrenheit 451'\n",
    "\n",
    "rip_prefix_alphas = re.sub(\"^[a-zA-Z ]*\", \"\", F451) # we're also getting rid of prefix spaces\n",
    "print repr(rip_prefix_alphas)"
   ]
  },
  {
   "cell_type": "markdown",
   "metadata": {},
   "source": [
    "### Counting Characters\n",
    "We can count the number of a specific character, or substring, with the string **count()** method."
   ]
  },
  {
   "cell_type": "code",
   "execution_count": 5,
   "metadata": {},
   "outputs": [
    {
     "name": "stdout",
     "output_type": "stream",
     "text": [
      "G: 24\n",
      "C: 18\n",
      "GTG: 3\n"
     ]
    }
   ],
   "source": [
    "seq = \"ATGTTCTGGGCCGCACGCGTGCTACACTGAGCGGGTCAACGGGTGAGGATGTGCGAGAGCACTTCCCAAT\"\n",
    "\n",
    "print 'G:', seq.count('G')\n",
    "print 'C:', seq.count('C')\n",
    "print 'GTG:', seq.count('GTG')"
   ]
  },
  {
   "cell_type": "markdown",
   "metadata": {},
   "source": [
    "Let's use the counts to calculate GC percentage of the same nucleotide string."
   ]
  },
  {
   "cell_type": "code",
   "execution_count": null,
   "metadata": {},
   "outputs": [],
   "source": [
    "seq = \"ATGTTCTGGGCCGCACGCGTGCTACACTGAGCGGGTCAACGGGTGAGGATGTGCGAGAGCACTTCCCAAT\"\n",
    "GCnum = seq.count('G') + seq.count('C')\n",
    "\n",
    "GCfrac = (GCnum+0.0) / len(seq) # we add 0.0 to get float division (not needed in python3)\n",
    "GCpct = 100 * GCfrac # we print GCfrac using a % format specifier, but this is how you'd get the percentage\n",
    "\n",
    "print '{0} GC is {0:.1%} of seq length {1} having {2} G,C'.format(GCfrac, len(seq), GCnum)"
   ]
  },
  {
   "cell_type": "markdown",
   "metadata": {},
   "source": [
    "Another way to display the counts is to define a function to print all our characters counts at once.\n",
    "\n",
    "Notice we pass in 'ACGT' as the characters to count in **prt_chrnum(**'ACGT', seq**)**"
   ]
  },
  {
   "cell_type": "code",
   "execution_count": null,
   "metadata": {},
   "outputs": [],
   "source": [
    "def prt_chrnum(chrs, st, fmtstr=\"{} {}\", toupper=False): \n",
    "    if toupper:\n",
    "        chrs = chrs.upper(); st = st.upper()\n",
    "    for ch in chrs:\n",
    "        print fmtstr.format(ch, st.count(ch))\n",
    "        \n",
    "seq = \"ATGTTCTGGGCCGCACGCGTGCTACACTGAGCGGGTCAACGGGTGAGGATGTGCGAGAGCACTTCCCAAT\"\n",
    "prt_chrnum('ACGT', seq)"
   ]
  },
  {
   "cell_type": "markdown",
   "metadata": {},
   "source": [
    "The above works to print the char and its count, but we usually need to use the char\n",
    "counts in calculations.\n",
    "\n",
    "Let's make a Python dictionary with them by **def**ining a function that's similar to **prt_chrnum()** which we'll call **create_chrnum_map()**."
   ]
  },
  {
   "cell_type": "code",
   "execution_count": null,
   "metadata": {},
   "outputs": [],
   "source": [
    "def create_chrnum_map(chrs, st, toupper=False):\n",
    "    chrnum_map = {} # {} represents an empty dictionary\n",
    "    if toupper:\n",
    "        chrs = chrs.upper(); st = st.upper()\n",
    "    for ch in chrs:\n",
    "        chrnum_map[ch] = st.count(ch)\n",
    "    return chrnum_map\n",
    "\n",
    "seq = \"ATGTTCTGGGCCGCACGCGTGCTACACTGAGCGGGTCAACGGGTGAGGATGTGCGAGAGCACTTCCCAAT\"\n",
    "print create_chrnum_map('ACGT',seq)"
   ]
  },
  {
   "cell_type": "markdown",
   "metadata": {},
   "source": [
    "Let's use the dictionary created by **create_chrnum_map()** to calculate GC percentage of a nucleotide string just like before with the counts."
   ]
  },
  {
   "cell_type": "code",
   "execution_count": null,
   "metadata": {},
   "outputs": [],
   "source": [
    "seq = \"ATGTTCTGGGCCGCACGCGTGCTACACTGAGCGGGTCAACGGGTGAGGATGTGCGAGAGCACTTCCCAAT\"\n",
    "nucmap = create_chrnum_map('ACGT',seq)\n",
    "print nucmap\n",
    "print\n",
    "\n",
    "# only difference is how we get our G and our C counts. now we ask the map, aka dictionary, for them\n",
    "GCnum = nucmap['G'] + nucmap['C']\n",
    "\n",
    "GCfrac = GCnum*1.0 / len(seq) # we multiply by 1.0 to get float division (not needed in python3)\n",
    "GCpct = 100 * GCfrac # we print GCfrac using a % format specifier, but this is how you'd get the percentage\n",
    "\n",
    "print '{0} GC is {0:.1%} of seq length {1}'.format(GCfrac,len(seq))"
   ]
  },
  {
   "cell_type": "markdown",
   "metadata": {},
   "source": [
    "There's a slightly different way to create a dictionary that is more *modern*. It is called dictionary comprehension. And frankly I don't think it's that easy to comprehend (the term comes from set theory).\n",
    "I use the traditional method.\n",
    "\n",
    "However, let's take a quick look. You might like it. It is more compact."
   ]
  },
  {
   "cell_type": "code",
   "execution_count": null,
   "metadata": {},
   "outputs": [],
   "source": [
    "seq = \"ATGTTCTGGGCCGCACGCGTGCTACACTGAGCGGGTCAACGGGTGAGGATGTGCGAGAGCACTTCCCAAT\"\n",
    "\n",
    "nucmap = {ch: seq.count(ch) for ch in seq}\n",
    "print nucmap"
   ]
  },
  {
   "cell_type": "markdown",
   "metadata": {},
   "source": [
    "In the above, the variable name before the colon, **ch**, becomes the dictionary element's key and the expression after the colon but before the Python keyword <font color='green'>**for**</font> is that key's value.\n",
    "That's the **seq.count(ch)** part in the example.\n",
    "Each key, **ch** in this example, is created in turn by the Python code after the value expression.\n",
    "\n",
    "This dictionary comprehension was preceded in Python's version history by list comprehension which uses a similar syntax to create lists."
   ]
  },
  {
   "cell_type": "markdown",
   "metadata": {},
   "source": [
    "---\n",
    "Let's look at how to count the characters ourselves by looping through them. We'll just count Gs or Cs."
   ]
  },
  {
   "cell_type": "code",
   "execution_count": null,
   "metadata": {},
   "outputs": [],
   "source": [
    "seq = \"ATGTTCTGGGCCGCACGCGTGCTACACTGAGCGGGTCAACGGGTGAGGATGTGCGAGAGCACTTCCCAAT\"\n",
    "GCnum = 0\n",
    "for n in seq:\n",
    "    if n == 'G' or n == 'C':\n",
    "        GCnum += 1\n",
    "\n",
    "print GCnum"
   ]
  },
  {
   "cell_type": "markdown",
   "metadata": {},
   "source": [
    "To recap, here was our way using **count**; we'll use this in the next section."
   ]
  },
  {
   "cell_type": "code",
   "execution_count": null,
   "metadata": {},
   "outputs": [],
   "source": [
    "seq = \"ATGTTCTGGGCCGCACGCGTGCTACACTGAGCGGGTCAACGGGTGAGGATGTGCGAGAGCACTTCCCAAT\"\n",
    "GCnum = seq.count('G') + seq.count('C')\n",
    "print GCnum"
   ]
  },
  {
   "cell_type": "markdown",
   "metadata": {},
   "source": [
    "### Checking code efficiency\n",
    "If we were doing this through a 200 million read FASTQ file we would want to use the faster of the 2 techniques. Don't worry about this if you are only processing a few items.\n",
    "\n",
    "To find the speed of python code we can use **timeit** from the timeit module. It repeats your enough times to get a good sense of how long it takes."
   ]
  },
  {
   "cell_type": "code",
   "execution_count": 1,
   "metadata": {},
   "outputs": [
    {
     "name": "stdout",
     "output_type": "stream",
     "text": [
      "count() repeating a million times took: 0.618541955948 seconds\n"
     ]
    }
   ],
   "source": [
    "import timeit\n",
    "seq = \"ATGTTCTGGGCCGCACGCGTGCTACACTGAGCGGGTCAACGGGTGAGGATGTGCGAGAGCACTTCCCAAT\"\n",
    "repeat = 1000000\n",
    "\n",
    "# count()\n",
    "tmc = timeit.timeit(\"GCnum = seq.count('G') + seq.count('C')\",\n",
    "              'seq = \"ATGTTCTGGGCCGCACGCGTGCTACACTGAGCGGGTCAACGGGTGAGGATGTGCGAGAGCACTTCCCAAT\"',\n",
    "              number=repeat)\n",
    "print \"count() repeating a million times took: {} seconds\".format(tmc)"
   ]
  },
  {
   "cell_type": "code",
   "execution_count": 2,
   "metadata": {},
   "outputs": [
    {
     "name": "stdout",
     "output_type": "stream",
     "text": [
      "for loop repeating a million times took: 6.00534892082 seconds\n"
     ]
    }
   ],
   "source": [
    "# for loop\n",
    "for_loop = \"\"\"GCnum = 0\n",
    "for n in seq:\n",
    "    if n == 'G' or n == 'C':\n",
    "        GCnum += 1\n",
    "\"\"\"\n",
    "tmf = timeit.timeit(for_loop,\n",
    "              'seq = \"ATGTTCTGGGCCGCACGCGTGCTACACTGAGCGGGTCAACGGGTGAGGATGTGCGAGAGCACTTCCCAAT\"',\n",
    "              number=repeat)\n",
    "print \"for loop repeating a million times took: {} seconds\".format(tmf)"
   ]
  },
  {
   "cell_type": "code",
   "execution_count": 3,
   "metadata": {},
   "outputs": [
    {
     "name": "stdout",
     "output_type": "stream",
     "text": [
      "So the count loop was 9.71 times faster. 0.6185 to 6.005 seconds\n"
     ]
    }
   ],
   "source": [
    "print \"So the count loop was {:.3} times faster. {:.4} to {:.4} seconds\".format(tmf/tmc,tmc,tmf)"
   ]
  },
  {
   "cell_type": "markdown",
   "metadata": {},
   "source": [
    "We usually call these though a defined function. How much overhead does that take. Let's try the **count()** in a function."
   ]
  },
  {
   "cell_type": "code",
   "execution_count": 4,
   "metadata": {},
   "outputs": [
    {
     "name": "stdout",
     "output_type": "stream",
     "text": [
      "\n",
      "Calling these 2 each 10 million times...\n",
      "\n",
      "count() in a function repeating 10 million times took: 5.0343 seconds (4.4767 seconds times inline).\n",
      "\n",
      "So function overhead was about 0.558 seconds for 10 million calls.\n"
     ]
    }
   ],
   "source": [
    "import timeit\n",
    "\n",
    "def countGC(seq):\n",
    "    GCnum = seq.count('G') + seq.count('C')\n",
    "    return GCnum\n",
    "\n",
    "seq = \"ATGTTCTGGGCCGCACGCGTGCTACACTGAGCGGGTCAACGGGTGAGGATGTGCGAGAGCACTTCCCAAT\"\n",
    "repeat = 10000000\n",
    "\n",
    "print \"\\nCalling these 2 each 10 million times...\\n\"\n",
    "\n",
    "# count()\n",
    "tmc = timeit.timeit(\"GCnum = seq.count('G') + seq.count('C')\", 'from __main__ import countGC, seq', number=repeat)\n",
    "\n",
    "# count() in a function\n",
    "tmcf = timeit.timeit('countGC(seq)', 'from __main__ import countGC, seq',number=repeat)\n",
    "\n",
    "print \"count() in a function repeating 10 million times took: {:.5} seconds ({:.5} seconds times inline).\".format(tmcf, tmc)\n",
    "print\n",
    "print \"So function overhead was about {:.3} seconds for 10 million calls.\".format(tmcf - tmc)"
   ]
  },
  {
   "cell_type": "markdown",
   "metadata": {},
   "source": [
    "### Quick digression on the <font color='green'>enumerate</font> built-in function"
   ]
  },
  {
   "cell_type": "code",
   "execution_count": null,
   "metadata": {},
   "outputs": [],
   "source": [
    "numlist = [1, 2, 3.2, 4.7]\n",
    "\n",
    "enum_list = list( enumerate(numlist) )\n",
    "print enum_list\n",
    "\n",
    "third_item = enum_list[2]\n",
    "print third_item, \"is the 3rd element of the list\"\n",
    "print\n",
    "\n",
    "print \"You can assign variables from this 'tuple' by indexing it.\"\n",
    "\n",
    "item_index = third_item[0]\n",
    "item_value = third_item[1]\n",
    "print item_index, \"is the index of\", item_value\n",
    "print\n",
    "\n",
    "print \"But the Pythonic way is to use multiple assignment from the 'tuple'\"\n",
    "\n",
    "item_index, item_value = third_item\n",
    "print item_index, \"is the index of\", item_value, \"(same as before)\""
   ]
  },
  {
   "cell_type": "code",
   "execution_count": null,
   "metadata": {},
   "outputs": [],
   "source": [
    "letters = 'abcdefgh'\n",
    "# indexes  01234567\n",
    "print \"letters =  '{}'\\nindexes are 01234567\".format(letters)"
   ]
  }
 ],
 "metadata": {
  "anaconda-cloud": {},
  "kernelspec": {
   "display_name": "Python 2",
   "language": "python",
   "name": "python2"
  },
  "language_info": {
   "codemirror_mode": {
    "name": "ipython",
    "version": 2
   },
   "file_extension": ".py",
   "mimetype": "text/x-python",
   "name": "python",
   "nbconvert_exporter": "python",
   "pygments_lexer": "ipython2",
   "version": "2.7.10"
  }
 },
 "nbformat": 4,
 "nbformat_minor": 1
}
