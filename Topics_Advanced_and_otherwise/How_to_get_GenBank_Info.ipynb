{
 "cells": [
  {
   "cell_type": "markdown",
   "metadata": {},
   "source": [
    "### Working with GenBank data\n",
    "There's a very useful module that makes dealing with common bioinformatic sequence and other formats relatively easy. Even if it doesn't look that simple, at least it has done a lot of work that would have been needed if you implemented this from the ground up.\n",
    "\n",
    "This is called the **BioPython** module.\n",
    "\n",
    "You use it via the module name **Bio** that you import into your Python session or file.\n",
    "\n",
    "NCBI changed their requirements for accessing them via the Internet to require https instead of just http. Actually, I believe, this was a change that all federal government web sites were encouraged to make.\n",
    "\n",
    "Since the NCBI website locations are embedded in the BioPython code you need to have ***Version 1.68*** or greater. The latest version from July 2017 is ***1.70*** and it handles MAF and NEXUS formats better than earlier versions.\n",
    "#### Installing the BioPython module onto your computer\n",
    "You can use **pip** to install this module via the bash terminal command:\n",
    "\n",
    "**pip install biopython**"
   ]
  },
  {
   "cell_type": "markdown",
   "metadata": {},
   "source": [
    "After it is installed check its version."
   ]
  },
  {
   "cell_type": "code",
   "execution_count": 6,
   "metadata": {},
   "outputs": [
    {
     "name": "stdout",
     "output_type": "stream",
     "text": [
      "biopython version number is: 1.70\n"
     ]
    }
   ],
   "source": [
    "import Bio\n",
    "print \"biopython version number is:\", Bio.__version__"
   ]
  },
  {
   "cell_type": "markdown",
   "metadata": {},
   "source": [
    "If it is version 1.68 or greater, we should be good to go.\n",
    "\n",
    "The first thing we are going to do is define a Python function that prints summary info based on a query."
   ]
  },
  {
   "cell_type": "code",
   "execution_count": 7,
   "metadata": {
    "scrolled": true
   },
   "outputs": [
    {
     "name": "stderr",
     "output_type": "stream",
     "text": [
      "3 results for \"Strix[Title] AND mitochondrion[Title]\"\n"
     ]
    },
    {
     "name": "stdout",
     "output_type": "stream",
     "text": [
      "Accn | TaxonID | Length | Title\n",
      "MF431745 | 1053996 | 18975 | Strix varia varia voucher CNHM<USA-OH>:ORNITH:B41533 mitochondrion, complete genome\n",
      "MF431746 | 311401 | 19889 | Strix occidentalis caurina voucher CAS:ORN:98821 mitochondrion, complete genome\n",
      "KC953095 | 126835 | 16307 | Strix leptogrammica mitochondrion, complete genome\n"
     ]
    }
   ],
   "source": [
    "#!/usr/bin/env python\n",
    "\n",
    "# usage: esummary.py \"quoted_query_string\"\n",
    "#\n",
    "# return the summary records that correspond to the query\n",
    "# number of matching records written to stderr\n",
    "# first line is column names of Accn TaxID Length and Title\n",
    "# rest of lines are summaries with these fields for the records\n",
    "# fields separated by | since that is not a likely character in Title\n",
    "\n",
    "import sys\n",
    "from Bio import Entrez\n",
    "Entrez.email = \"ccg@calacademy.org\"\n",
    "\n",
    "def inJupyter(): # see if we are running in an iPython or Jupyter notebook\n",
    "    try:\n",
    "        get_ipython\n",
    "    except:\n",
    "        return False\n",
    "    else:\n",
    "        return True\n",
    "\n",
    "def eSummary(qryStr):\n",
    "    global rec # only so we can inspect value (eg keys) later in a Jupyter notebook\n",
    "    handle = Entrez.esearch(db=\"nucleotide\", term=qryStr, retmax=10000)\n",
    "    record = Entrez.read(handle)\n",
    "    numIDs = int(record[\"Count\"])\n",
    "    sys.stderr.write(str(numIDs) + \" results for \\\"\"+qryStr+\"\\\"\\n\")\n",
    "    if numIDs < 1:\n",
    "        sys.exit(0)\n",
    "\n",
    "    if inNoteBook and numIDs > maxToShow: # while testing limit to maxToShow\n",
    "        numIDs = maxToShow\n",
    "\n",
    "    id_list = record[\"IdList\"]\n",
    "    id_list.sort()\n",
    "\n",
    "    print \"Accn | TaxonID | Length | Title\"\n",
    "    startIx = 0; sliceSize = min(numIDs,200) # can't send too large a request at a time, so cut it up into this size slices\n",
    "    while numIDs > 0:\n",
    "        ids = \",\".join( id_list[startIx : startIx+sliceSize] )\n",
    "\n",
    "        handle = Entrez.esummary(db=\"nucleotide\", id=ids)\n",
    "        records = Entrez.read(handle)\n",
    "\n",
    "        for rec in records:\n",
    "            print rec['Caption'], '|', rec['TaxId'], '|', rec['Length'], '|', rec['Title']\n",
    "\n",
    "        numIDs  -= sliceSize\n",
    "        startIx += sliceSize\n",
    "        \n",
    "def usage():\n",
    "    sys.stderr.write(\"Usage: esummary.py \\\"query_str\\\"\\n   Ex: esummary.py \\\"Strix[Title] AND mitochondrial[Title]\\\"\\n\");\n",
    "    sys.exit(0)\n",
    "\n",
    "# set vars that allow us to run in Jupyter notebook or from command line file\n",
    "inNoteBook = inJupyter()\n",
    "if inNoteBook:\n",
    "    maxToShow = 25\n",
    "    qryStr = \"Strix[Title] AND mitochondrion[Title]\"\n",
    "    #qryStr = \"1246431282 1246431296 523582230\"\n",
    "    #qryStr = \"KC953095 MF431746 MF431745 KU365899 MF001440\"\n",
    "else:\n",
    "    if len(sys.argv) < 2:\n",
    "        usage()\n",
    "    qryStr = sys.argv[1] # ex: \"Strix[Title] AND mitochondrion[Title]\"\n",
    "\n",
    "# get our summaries with the defined query string\n",
    "eSummary(qryStr)\n"
   ]
  },
  {
   "cell_type": "code",
   "execution_count": 7,
   "metadata": {},
   "outputs": [
    {
     "data": {
      "text/plain": [
       "{'Status': 'live', 'Comment': '  ', 'Caption': 'KC953095', 'AccessionVersion': 'KC953095.1', 'Title': 'Strix leptogrammica mitochondrion, complete genome', 'CreateDate': '2013/07/20', 'Extra': 'gi|523582230|gb|KC953095.1|[523582230]', 'TaxId': 126835, 'ReplacedBy': '', u'Item': [], 'Length': 16307, 'Flags': 256, 'UpdateDate': '2014/09/11', u'Id': '523582230', 'Gi': 523582230}"
      ]
     },
     "execution_count": 7,
     "metadata": {},
     "output_type": "execute_result"
    }
   ],
   "source": [
    "rec"
   ]
  },
  {
   "cell_type": "code",
   "execution_count": 35,
   "metadata": {},
   "outputs": [
    {
     "name": "stderr",
     "output_type": "stream",
     "text": [
      "3 results for \"KC953095 KX773380 MF431746\"\n"
     ]
    },
    {
     "name": "stdout",
     "output_type": "stream",
     "text": [
      "Accn | TaxonID | Length | Title\n",
      "KX773380 | 109736 | 575 | Centropyge vrolikii isolate cvr45 cytochrome b (cytb) gene, partial cds; mitochondrial\n",
      "MF431746 | 311401 | 19889 | Strix occidentalis caurina voucher CAS:ORN:98821 mitochondrion, complete genome\n",
      "KC953095 | 126835 | 16307 | Strix leptogrammica mitochondrion, complete genome\n"
     ]
    }
   ],
   "source": [
    "eSummary(\"KC953095 KX773380 MF431746\")"
   ]
  },
  {
   "cell_type": "code",
   "execution_count": 38,
   "metadata": {
    "scrolled": false
   },
   "outputs": [
    {
     "name": "stderr",
     "output_type": "stream",
     "text": [
      "191 results for \"Centropyge flavissimi and rRNA\"\n"
     ]
    },
    {
     "name": "stdout",
     "output_type": "stream",
     "text": [
      "Accn | TaxonID | Length | Title\n",
      "KU365899 | 1474813 | 16432 | Centropyge interrupta mitochondrion, complete genome\n",
      "KY129718 | 586785 | 356 | Centropyge bispinosa isolate 1 small subunit ribosomal RNA gene, partial sequence\n",
      "KU244249 | 586790 | 6964 | Centropyge multicolor voucher 278 18S ribosomal RNA gene, partial sequence; internal transcribed spacer 1, 5.8S ribosomal RNA gene, and internal transcribed spacer 2, complete sequence; and 28S ribosomal RNA gene, partial sequence\n",
      "KU244251 | 1489734 | 6803 | Centropyge woodheadi voucher 333 18S ribosomal RNA gene, partial sequence; internal transcribed spacer 1, 5.8S ribosomal RNA gene, and internal transcribed spacer 2, complete sequence; and 28S ribosomal RNA gene, partial sequence\n",
      "KX499480 | 1445868 | 16843 | Centropyge deborae voucher 373 mitochondrion, complete genome\n",
      "KU356780 | 466111 | 6810 | Centropyge aurantia voucher 352 18S ribosomal RNA gene, internal transcribed spacer 1, 5.8S ribosomal RNA gene, internal transcribed spacer 2, and 28S ribosomal RNA gene, complete sequence\n",
      "KU356781 | 1474818 | 6790 | Centropyge venusta voucher 362 18S ribosomal RNA gene, internal transcribed spacer 1, 5.8S ribosomal RNA gene, internal transcribed spacer 2, and 28S ribosomal RNA gene, complete sequence\n",
      "KU356782 | 586787 | 6842 | Centropyge flavissima voucher 364 18S ribosomal RNA gene, internal transcribed spacer 1, 5.8S ribosomal RNA gene, internal transcribed spacer 2, and 28S ribosomal RNA gene, complete sequence\n",
      "KU356783 | 586788 | 6812 | Centropyge heraldi voucher 365 18S ribosomal RNA gene, internal transcribed spacer 1, 5.8S ribosomal RNA gene, internal transcribed spacer 2, and 28S ribosomal RNA gene, complete sequence\n",
      "KU356784 | 1474813 | 6965 | Centropyge interrupta voucher 367 18S ribosomal RNA gene, internal transcribed spacer 1, 5.8S ribosomal RNA gene, internal transcribed spacer 2, and 28S ribosomal RNA gene, complete sequence\n",
      "KU356785 | 1474814 | 6969 | Centropyge joculator voucher 369 18S ribosomal RNA gene, internal transcribed spacer 1, 5.8S ribosomal RNA gene, internal transcribed spacer 2, and 28S ribosomal RNA gene, complete sequence\n",
      "KU356786 | 1445868 | 6763 | Centropyge deborae voucher 373 18S ribosomal RNA gene, internal transcribed spacer 1, 5.8S ribosomal RNA gene, internal transcribed spacer 2, and 28S ribosomal RNA gene, complete sequence\n",
      "KU356787 | 109727 | 6854 | Centropyge flavicauda voucher 388 18S ribosomal RNA gene, internal transcribed spacer 1, 5.8S ribosomal RNA gene, internal transcribed spacer 2, and 28S ribosomal RNA gene, complete sequence\n",
      "KU356788 | 109725 | 6816 | Centropyge eibli voucher 389 18S ribosomal RNA gene, internal transcribed spacer 1, 5.8S ribosomal RNA gene, internal transcribed spacer 2, and 28S ribosomal RNA gene, complete sequence\n",
      "KU356790 | 109732 | 6656 | Centropyge nox voucher 397 18S ribosomal RNA gene, internal transcribed spacer 1, 5.8S ribosomal RNA gene, internal transcribed spacer 2, and 28S ribosomal RNA gene, complete sequence\n",
      "KU356792 | 367072 | 6861 | Centropyge acanthops voucher 424 18S ribosomal RNA gene, internal transcribed spacer 1, 5.8S ribosomal RNA gene, internal transcribed spacer 2, and 28S ribosomal RNA gene, complete sequence\n",
      "KU363797 | 586787 | 6801 | Centropyge flavissima voucher 234 18S ribosomal RNA gene, internal transcribed spacer 1, 5.8S ribosomal RNA gene, internal transcribed spacer 2, and 28S ribosomal RNA gene, complete sequence\n",
      "NC_034953 | 109732 | 16871 | Centropyge nox voucher 397 mitochondrion, complete genome\n",
      "NC_036676 | 1445868 | 16843 | Centropyge deborae voucher 373 mitochondrion, complete genome\n",
      "MF001440 | 109736 | 16966 | Centropyge vrolikii mitochondrion, complete genome\n",
      "EF616901 | 466111 | 882 | Centropyge aurantia 12S ribosomal RNA gene, partial sequence; mitochondrial\n",
      "EF616983 | 466111 | 575 | Centropyge aurantia 16S ribosomal RNA gene, partial sequence; mitochondrial\n",
      "AP006006 | 586789 | 16509 | Centropyge loricula mitochondrial DNA, complete genome\n",
      "NC_009872 | 586789 | 16509 | Centropyge loricula mitochondrion, complete genome\n",
      "FJ616393 | 109723 | 942 | Centropyge bicolor voucher FMNH MIN00-19 T99 12S ribosomal RNA gene, partial sequence; mitochondrial\n"
     ]
    }
   ],
   "source": [
    "eSummary(\"Centropyge flavissimi and rRNA\")"
   ]
  },
  {
   "cell_type": "code",
   "execution_count": 9,
   "metadata": {
    "scrolled": true
   },
   "outputs": [
    {
     "name": "stdout",
     "output_type": "stream",
     "text": [
      "Accn | Length | UpdateDate | Title | Taxonomy\n",
      "KC953095 | 16307 | 11-SEP-2014 | Strix leptogrammica mitochondrion, complete genome | Eukaryota; Metazoa; Chordata; Craniata; Vertebrata; Euteleostomi; Archelosauria; Archosauria; Dinosauria; Saurischia; Theropoda; Coelurosauria; Aves; Neognathae; Strigiformes; Strigidae; Strix\n",
      "KX773380 | 575 | 04-OCT-2016 | Centropyge vrolikii isolate cvr45 cytochrome b (cytb) gene, partial cds; mitochondrial | Eukaryota; Metazoa; Chordata; Craniata; Vertebrata; Euteleostomi; Actinopterygii; Neopterygii; Teleostei; Neoteleostei; Acanthomorphata; Eupercaria; Pomacanthidae; Centropyge\n",
      "MF431746 | 19889 | 01-OCT-2017 | Strix occidentalis caurina voucher CAS:ORN:98821 mitochondrion, complete genome | Eukaryota; Metazoa; Chordata; Craniata; Vertebrata; Euteleostomi; Archelosauria; Archosauria; Dinosauria; Saurischia; Theropoda; Coelurosauria; Aves; Neognathae; Strigiformes; Strigidae; Strix\n"
     ]
    }
   ],
   "source": [
    "#!/usr/bin/env python\n",
    "\n",
    "# usage: efetch.py IDs [ [-gb] | [-f <feature_name>|all [-q <qualifier_name>|all]] [-s max_seqlen] ]\n",
    "#\n",
    "# return the summary records that correspond to the Accession IDs \n",
    "# number of matching records written to stderr\n",
    "# first line is column names of gID TaxID Length and Title\n",
    "# rest of lines are summaries with these fields for the records\n",
    "# fields separated by | since that is not a likely character in Title\n",
    "\n",
    "import sys\n",
    "from Bio import Entrez\n",
    "Entrez.email = \"ccg@calacademy.org\"\n",
    "\n",
    "from IPython.core.debugger import set_trace\n",
    "\n",
    "def inJupyter(): # see if we are running in an iPython or Jupyter notebook\n",
    "    try:\n",
    "        get_ipython\n",
    "    except:\n",
    "        return False\n",
    "    else:\n",
    "        return True\n",
    "\n",
    "def get_feature_qualifier_list(rec, feature_name, qualifier_name):\n",
    "    result = []\n",
    "    if not 'GBSeq_feature-table' in rec or feature_name == \"\":\n",
    "        return result\n",
    "    \n",
    "    # build list of all qualifier values for feature_name[qualifier_name]\n",
    "    # special case of feature_name of \"all\" for ALL feature_names\n",
    "    # also special case for empty qualifier_name puts name of feature and name of qualifier in the list\n",
    "    #   and if qualifier_name is \"all\" then also include value with feature and qualifier name\n",
    "    special_case_qual = (qualifier_name == \"\" or qualifier_name.lower() == \"all\")\n",
    "    \n",
    "    for feat in rec['GBSeq_feature-table']:\n",
    "        if (feature_name.lower() == \"all\" or feat['GBFeature_key'] == feature_name) and 'GBFeature_quals' in feat:\n",
    "            for qual in feat['GBFeature_quals']:\n",
    "                if qual['GBQualifier_name'] == qualifier_name:\n",
    "                    result.append( qual['GBQualifier_value'] )\n",
    "                elif special_case_qual: # special case: put feature name and qualifier name and maybe val in list\n",
    "                    inf = feat['GBFeature_key'] + \" \\t\" + qual['GBQualifier_name']\n",
    "                    if qualifier_name.lower() == \"all\":\n",
    "                        inf += \" \\t\" + qual['GBQualifier_value']\n",
    "                    result.append(inf)\n",
    "    return result\n",
    "    \n",
    "def efetch(IDs, mode=\"xml\", seq_end=-1, feat_name=\"\", qual_name=\"\"): #IDs is a string with comma separated values, each an ID\n",
    "    global rec # only so we can inspect value (eg keys) later in a Jupyter notebook\n",
    "    \n",
    "    showing_feature = (feat_name != \"\")\n",
    "    if mode == \"xml\" and feat_name == \"\":\n",
    "        print \"Accn | Length | UpdateDate | Title | Taxonomy\"\n",
    "\n",
    "    # if use a short seq_stop this speeds up retrieval quite a bit. but you won't get actual length values\n",
    "    if seq_end <= 0:\n",
    "        handle = Entrez.efetch(db=\"nucleotide\", id=IDs, rettype=\"gb\", retmode=mode)\n",
    "    else:\n",
    "        handle = Entrez.efetch(db=\"nucleotide\", id=IDs, rettype=\"gb\", retmode=mode, strand=1,seq_start=1,seq_stop=seq_end)\n",
    "\n",
    "    if mode == \"text\":\n",
    "        print(handle.read())\n",
    "    else:\n",
    "        records = Entrez.read(handle)\n",
    "        for rec in records:\n",
    "            # set_trace() #enter ipdb debugger if we want to look at records interactively in Jupyter notebook\n",
    "            if not showing_feature:\n",
    "                print rec['GBSeq_primary-accession'], '|', rec['GBSeq_length'], '|', rec['GBSeq_update-date'], '|', \\\n",
    "                      rec['GBSeq_definition'],        '|', rec['GBSeq_taxonomy']\n",
    "            else:\n",
    "                features = get_feature_qualifier_list(rec, feat_name, qual_name)\n",
    "                for qual in features:\n",
    "                    print rec['GBSeq_primary-accession'] + \" \\t\" + qual\n",
    "                    \n",
    "def usage():\n",
    "    sys.stderr.write('''\n",
    "    Usage: efetch.py <ID1> [<ID2> ...] [ [-gb] | [-f <feature_name>|all [-q <qualifier_name>|all]] [-s max_seqlen] ]\n",
    "    \n",
    "    Examples:\n",
    "        efetch.py KX773372 KX773303     # show Accn Length UpdateDate Title Taxonomy for each ID\n",
    "        efetch.py KX773372 -gb          # show full textual GenBank output format\n",
    "        efetch.py KX773372 -f source    # show name of a specific feature and each of its qualifier names\n",
    "        efetch.py KX773372 -f source -q organelle # show specific feature and a specific qualifier value\n",
    "        efetch.py MF431746 -f source -q all       # show specific feature and each of its qualifier names and value\n",
    "        efetch.py MF431746 -f all                 # show names of each feature and each of its qualifier names\n",
    "        efetch.py KX773372 -s 200       # limit the size of the sequence retrieved. this also limits which features are retrieved.\n",
    "\n",
    "''');\n",
    "    sys.exit(0)\n",
    "\n",
    "def get_options(arg_list, min_args=2):\n",
    "    class options:\n",
    "        argv           = arg_list\n",
    "        id_list        = []\n",
    "        mode           = \"xml\"\n",
    "        sequence_max   = -1\n",
    "        feature_name   = \"\"\n",
    "        qualifier_name = \"\"\n",
    "        def number_of_ids(): # this is how a class method is defined\n",
    "            return len(id_list)\n",
    "\n",
    "    num_args = len(options.argv)\n",
    "    if num_args < min_args:\n",
    "        usage()\n",
    "\n",
    "    lst = options.id_list\n",
    "    ixArg = 0; ixLast = num_args-1;\n",
    "    while ixArg < ixLast:\n",
    "        ixArg += 1\n",
    "        idStr = arg_list[ixArg]\n",
    "        if idStr[0] != \"-\":\n",
    "            lst.append(idStr)\n",
    "        elif idStr == \"-gb\" or idStr == \"-text\":\n",
    "            options.mode = \"text\"\n",
    "        else: # get options that have a value after the option flag\n",
    "            optionType = idStr[1].lower()\n",
    "            if optionType in \"sfq\" and ixArg < ixLast: # -s, -f or -q has a value after\n",
    "                ixArg += 1\n",
    "                optVal = arg_list[ixArg]\n",
    "                if optionType == \"f\":\n",
    "                    options.feature_name = optVal\n",
    "                elif optionType == \"q\":\n",
    "                    options.qualifier_name = optVal\n",
    "                elif optionType == \"s\":\n",
    "                    options.sequence_max = optVal\n",
    "    return options\n",
    "\n",
    "# main code entrypoint\n",
    "if inJupyter():\n",
    "    efetch(\"KC953095,KX773380,MF431746\")\n",
    "else:\n",
    "    ops = get_options(sys.argv)\n",
    "    ids = \",\".join( ops.id_list )\n",
    "    \n",
    "    # call efetch with comma delimited set of IDs and optionally seq max, feature and qualifier name\n",
    "    efetch(ids, ops.mode, seq_end=ops.sequence_max, feat_name=ops.feature_name, qual_name=ops.qualifier_name)"
   ]
  },
  {
   "cell_type": "code",
   "execution_count": 68,
   "metadata": {
    "scrolled": true
   },
   "outputs": [
    {
     "name": "stdout",
     "output_type": "stream",
     "text": [
      "KC953095 \tChina: Anhui, South Anhui National Wild Animal Rescue Centre\n",
      "KX773380 \tPalau\n",
      "MF431746 \tUSA: 260 Piedmont Road, Larkspur, Marin County, California\n"
     ]
    }
   ],
   "source": [
    "efetch(\"KC953095,KX773380,MF431746\", feat_name=\"source\", qual_name=\"country\")"
   ]
  },
  {
   "cell_type": "code",
   "execution_count": 69,
   "metadata": {
    "scrolled": false
   },
   "outputs": [
    {
     "name": "stdout",
     "output_type": "stream",
     "text": [
      "KC953095 \tsource \torganism \tStrix leptogrammica\n",
      "KC953095 \tsource \torganelle \tmitochondrion\n",
      "KC953095 \tsource \tmol_type \tgenomic DNA\n",
      "KC953095 \tsource \tdb_xref \ttaxon:126835\n",
      "KC953095 \tsource \ttissue_type \tfeather\n",
      "KC953095 \tsource \tcountry \tChina: Anhui, South Anhui National Wild Animal Rescue Centre\n",
      "KC953095 \tsource \tcollection_date \tJun-2012\n",
      "KX773380 \tsource \torganism \tCentropyge vrolikii\n",
      "KX773380 \tsource \torganelle \tmitochondrion\n",
      "KX773380 \tsource \tmol_type \tgenomic DNA\n",
      "KX773380 \tsource \tisolate \tcvr45\n",
      "KX773380 \tsource \tdb_xref \ttaxon:109736\n",
      "KX773380 \tsource \tcountry \tPalau\n",
      "MF431746 \tsource \torganism \tStrix occidentalis caurina\n",
      "MF431746 \tsource \torganelle \tmitochondrion\n",
      "MF431746 \tsource \tmol_type \tgenomic DNA\n",
      "MF431746 \tsource \tsub_species \tcaurina\n",
      "MF431746 \tsource \tspecimen_voucher \tCAS:ORN:98821\n",
      "MF431746 \tsource \tdb_xref \ttaxon:311401\n",
      "MF431746 \tsource \tsex \tfemale\n",
      "MF431746 \tsource \ttissue_type \tblood\n",
      "MF431746 \tsource \tdev_stage \tadult\n",
      "MF431746 \tsource \tcountry \tUSA: 260 Piedmont Road, Larkspur, Marin County, California\n",
      "MF431746 \tsource \tlat_lon \t37.929565 N 122.540200 W\n"
     ]
    }
   ],
   "source": [
    "efetch(\"KC953095,KX773380,MF431746\", feat_name=\"source\", qual_name=\"all\")"
   ]
  },
  {
   "cell_type": "code",
   "execution_count": 10,
   "metadata": {},
   "outputs": [
    {
     "name": "stdout",
     "output_type": "stream",
     "text": [
      "KC953095 \ttRNA-Phe\n",
      "KC953095 \ttRNA-Val\n",
      "KC953095 \ttRNA-Leu\n",
      "KC953095 \ttRNA-Ile\n",
      "KC953095 \ttRNA-Gln\n",
      "KC953095 \ttRNA-Met\n",
      "KC953095 \ttRNA-Trp\n",
      "KC953095 \ttRNA-Ala\n",
      "KC953095 \ttRNA-Asn\n",
      "KC953095 \ttRNA-Cys\n",
      "KC953095 \ttRNA-Tyr\n",
      "KC953095 \ttRNA-Ser\n",
      "KC953095 \ttRNA-Asp\n",
      "KC953095 \ttRNA-Lys\n",
      "KC953095 \ttRNA-Gly\n",
      "KC953095 \ttRNA-Arg\n",
      "KC953095 \ttRNA-His\n",
      "KC953095 \ttRNA-Ser\n",
      "KC953095 \ttRNA-Leu\n",
      "KC953095 \ttRNA-Thr\n",
      "KC953095 \ttRNA-Pro\n",
      "KC953095 \ttRNA-Glu\n"
     ]
    }
   ],
   "source": [
    "efetch(\"KC953095\", feat_name=\"tRNA\", qual_name=\"product\")"
   ]
  },
  {
   "cell_type": "code",
   "execution_count": 11,
   "metadata": {},
   "outputs": [
    {
     "name": "stdout",
     "output_type": "stream",
     "text": [
      "KC953095 \ttRNA \tproduct \ttRNA-Phe\n",
      "KC953095 \ttRNA \ttranscription \tGTCCCTGTAGCTTACAAATAAAGCATGGCACTGAAGATGCCAAGATGGTGGGCCAATCCCAGTACA\n",
      "KC953095 \ttRNA \tproduct \ttRNA-Val\n",
      "KC953095 \ttRNA \ttranscription \tCAGGACGTAGCTACGATACCAAAGCATTCAGCTTACACCTGAAAGATATCTGTACCTATCAGATCGCCCTGA\n",
      "KC953095 \ttRNA \tproduct \ttRNA-Leu\n",
      "KC953095 \ttRNA \tcodon_recognized \tUUR\n",
      "KC953095 \ttRNA \ttranscription \tGCTAGCGTGGCAGAGCCCGGCAAGTGCAAAAGGCTTAAGCCCTTTACCCCAGAGGTTCAAATCCTCTCCCTAGCT\n",
      "KC953095 \ttRNA \tproduct \ttRNA-Ile\n",
      "KC953095 \ttRNA \ttranscription \tGGAAATGTGCCTGAATGCAAAGGGTCACTATGATAAAGTGAACATGGAGGTACACCAACCCTCTCATTTCCT\n",
      "KC953095 \ttRNA \tproduct \ttRNA-Gln\n",
      "KC953095 \ttRNA \ttranscription \tTAGGAAATAATATAAAGGAAGTATGAAGGGTTTTGGTCTCTTCTGTGTAGGTTCGACTCCTGCTTTTCTAA\n",
      "KC953095 \ttRNA \tproduct \ttRNA-Met\n",
      "KC953095 \ttRNA \ttranscription \tAGTAGGGTCAGCTAACAAAGCTATCGGGCCCATACCCCGAAAATGACGGTTTAACCCCATCCCCCACTA\n",
      "KC953095 \ttRNA \tproduct \ttRNA-Trp\n",
      "KC953095 \ttRNA \ttranscription \tAGAAACTTAGGATAACCTACCTTAAACCGAAGGCCTTCAAAGCCTTAAACAAGAGTTAAACCCTCTTAGTTTCTG\n",
      "KC953095 \ttRNA \tproduct \ttRNA-Ala\n",
      "KC953095 \ttRNA \ttranscription \tAAGGTCCTAGCTTAATTAAAGTGTCTGAGTTGCATTTAGAAGATGCAGGTTAGTGCCCTGCGGGCCTTA\n",
      "KC953095 \ttRNA \tproduct \ttRNA-Asn\n",
      "KC953095 \ttRNA \ttranscription \tTAGGCAGAAGCCTGTGTGGTTTGGGCACCTAGCTGTTAACTAGGTTTTTATGGGATCAAGGCCCATCTGTCTAG\n",
      "KC953095 \ttRNA \tproduct \ttRNA-Cys\n",
      "KC953095 \ttRNA \ttranscription \tGGCCCTGTGGTGAAGGATTCATGTTGAGTTGCAAGCTCATCGATGTGCATTGAGAGTGCGCCGGGGTCT\n",
      "KC953095 \ttRNA \tproduct \ttRNA-Tyr\n",
      "KC953095 \ttRNA \ttranscription \tGGTAAGATGGCTGAGTGTTGTAAGCGTTAGGCTGTAGTCCTTTTTACAGAGGTTTGATTCCTCTTCTTATCG\n",
      "KC953095 \ttRNA \tproduct \ttRNA-Ser\n",
      "KC953095 \ttRNA \tcodon_recognized \tUCN\n",
      "KC953095 \ttRNA \ttranscription \tAGAAAGAAGCATGAGTGGTGATGCGGTTGGCTTGAAACCAGCGTGTGAGGGTTCGACTCCTTCCTTTCTTG\n",
      "KC953095 \ttRNA \tproduct \ttRNA-Asp\n",
      "KC953095 \ttRNA \ttranscription \tGGAGTATTAGTAAACCTATTACATAGCCTTGTCAAGACTAAATCACAGGTGAAAACCCTGTATACCCCA\n",
      "KC953095 \ttRNA \tproduct \ttRNA-Lys\n",
      "KC953095 \ttRNA \ttranscription \tCATTAAGTAACTATGTACCAGCACTAGCCTTTTAAGCTAGCGAAAGAGGACTACTTCCCCTCCTTAATGA\n",
      "KC953095 \ttRNA \tproduct \ttRNA-Gly\n",
      "KC953095 \ttRNA \ttranscription \tGCTCTTCTAGTATACTAATTACAATTGACTTCCAATCTTTAAAATCTGGATCAAACCCAGAGAAGAGCA\n",
      "KC953095 \ttRNA \tproduct \ttRNA-Arg\n",
      "KC953095 \ttRNA \ttranscription \tAGAAAGTTAGTCTAACCAAGACAGTTGATTTCGACTCAACAGACCATAGCTTACCCCTATGACTTTCTC\n",
      "KC953095 \ttRNA \tproduct \ttRNA-His\n",
      "KC953095 \ttRNA \ttranscription \tGCAAGTATAGTTTAAACCCAAACATTAGACTGTGATCCTAAAAATAGAAGTTAGACCCTTCTTACCTGCC\n",
      "KC953095 \ttRNA \tproduct \ttRNA-Ser\n",
      "KC953095 \ttRNA \tcodon_recognized \tAGY\n",
      "KC953095 \ttRNA \ttranscription \tGAGGGGAGGTTCAACCAACAAGAACTGCTAATTCCTGTATCTGAGTTTAAACCCTCAGCCCCCTTA\n",
      "KC953095 \ttRNA \tproduct \ttRNA-Leu\n",
      "KC953095 \ttRNA \tcodon_recognized \tCUN\n",
      "KC953095 \ttRNA \ttranscription \tACTTTTAAAGGATAATAGAAATCCACTGGTCTTAGGAGCCACCCATCTTGGTGCAAATCCAAGTAAAAGTA\n",
      "KC953095 \ttRNA \tproduct \ttRNA-Thr\n",
      "KC953095 \ttRNA \ttranscription \tAAAACTGTAACAATCATTTATCATGTTCATCCTCAAAAAATTCACCGATCAATCAAACAAACCATAGGG\n",
      "KC953095 \ttRNA \tproduct \ttRNA-Pro\n",
      "KC953095 \ttRNA \ttranscription \tTTTGTTTGATTGATCGGTGAATTTTTTTGATAATGAACACGAAATGATTGTTACAGTTTCTCTAGAATTG\n",
      "KC953095 \ttRNA \tproduct \ttRNA-Glu\n",
      "KC953095 \ttRNA \ttranscription \tTCGTTGGCTGGCCAGATTTACCGACCCTGAGGGGATGTTGCCATAACTAAGTCAAGCTTGCGCTTATTGCTTA\n"
     ]
    }
   ],
   "source": [
    "efetch(\"KC953095\", feat_name=\"tRNA\", qual_name=\"all\")"
   ]
  },
  {
   "cell_type": "code",
   "execution_count": 80,
   "metadata": {},
   "outputs": [
    {
     "name": "stdout",
     "output_type": "stream",
     "text": [
      "['China: Anhui, South Anhui National Wild Animal Rescue Centre']\n"
     ]
    }
   ],
   "source": [
    "feature_name = 'source'; qualifier_name = 'country'\n",
    "#feature_name = 'rRNA'; qualifier_name = 'product'\n",
    "print get_feature_qualifier_list(rec, feature_name, qualifier_name)"
   ]
  },
  {
   "cell_type": "code",
   "execution_count": 79,
   "metadata": {},
   "outputs": [
    {
     "name": "stdout",
     "output_type": "stream",
     "text": [
      "Accn | Length | UpdateDate | Title | Taxonomy\n",
      "KC953095 | 16307 | 11-SEP-2014 | Strix leptogrammica mitochondrion, complete genome | Eukaryota; Metazoa; Chordata; Craniata; Vertebrata; Euteleostomi; Archelosauria; Archosauria; Dinosauria; Saurischia; Theropoda; Coelurosauria; Aves; Neognathae; Strigiformes; Strigidae; Strix\n"
     ]
    }
   ],
   "source": [
    "efetch(\"KC953095\")"
   ]
  },
  {
   "cell_type": "code",
   "execution_count": 12,
   "metadata": {},
   "outputs": [
    {
     "name": "stdout",
     "output_type": "stream",
     "text": [
      "LOCUS       KX773372                 575 bp    DNA     linear   VRT 04-OCT-2016\n",
      "DEFINITION  Centropyge vrolikii isolate cvr37 cytochrome b (cytb) gene, partial\n",
      "            cds; mitochondrial.\n",
      "ACCESSION   KX773372\n",
      "VERSION     KX773372.1\n",
      "KEYWORDS    .\n",
      "SOURCE      mitochondrion Centropyge vrolikii (pearlscale angelfish)\n",
      "  ORGANISM  Centropyge vrolikii\n",
      "            Eukaryota; Metazoa; Chordata; Craniata; Vertebrata; Euteleostomi;\n",
      "            Actinopterygii; Neopterygii; Teleostei; Neoteleostei;\n",
      "            Acanthomorphata; Eupercaria; Pomacanthidae; Centropyge.\n",
      "REFERENCE   1  (bases 1 to 575)\n",
      "  AUTHORS   DiBattista,J.D., Gaither,M.R., Hobbs,J.-P.A., Rocha,L.A. and\n",
      "            Bowen,B.W.\n",
      "  TITLE     Angelfishes, paper tigers and the devilish taxonomy of the\n",
      "            Centropyge flavissima complex\n",
      "  JOURNAL   J. Hered. (2016) In press\n",
      "   PUBMED   27651391\n",
      "  REMARK    Publication Status: Available-Online prior to print\n",
      "REFERENCE   2  (bases 1 to 575)\n",
      "  AUTHORS   DiBattista,J.D., Gaither,M.R., Hobbs,J.-P.A., Rocha,L.A. and\n",
      "            Bowen,B.W.\n",
      "  TITLE     Direct Submission\n",
      "  JOURNAL   Submitted (24-AUG-2016) Environment and Agriculture, Curtin\n",
      "            University, PO Box U1987, Perth, WA 6845, Australia\n",
      "COMMENT     ##Assembly-Data-START##\n",
      "            Assembly Method       :: Geneious v. 8.1.5\n",
      "            Sequencing Technology :: Sanger dideoxy sequencing\n",
      "            ##Assembly-Data-END##\n",
      "FEATURES             Location/Qualifiers\n",
      "     source          1..575\n",
      "                     /organism=\"Centropyge vrolikii\"\n",
      "                     /organelle=\"mitochondrion\"\n",
      "                     /mol_type=\"genomic DNA\"\n",
      "                     /isolate=\"cvr37\"\n",
      "                     /db_xref=\"taxon:109736\"\n",
      "                     /country=\"Palau\"\n",
      "     gene            <1..>575\n",
      "                     /gene=\"cytb\"\n",
      "     CDS             <1..>575\n",
      "                     /gene=\"cytb\"\n",
      "                     /codon_start=1\n",
      "                     /transl_table=2\n",
      "                     /product=\"cytochrome b\"\n",
      "                     /protein_id=\"AOS88111.1\"\n",
      "                     /translation=\"QIVTGLFLAMHYTSDIATAFSSVAHICRDVNYGWLIRNLHANGA\n",
      "                     SFFFICIYFHIGRGLYYGSYLNKEAWNIGVILLLLVMMTAFVGYVLPWGQMSFWGATV\n",
      "                     ITNLLSAVPYVGNTLVQWIWGGFSVDNATLTRFFAFHFLLPFIIAAMSLIHLLFLHEQ\n",
      "                     GANNPLGLNSDSDKIPFHPYFSYKDLLGFAIL\"\n",
      "ORIGIN      \n",
      "        1 caaatcgtca caggactatt cctggctata cactacacct cagatattgc aacagctttc\n",
      "       61 tcatccgttg cccatatctg tcgagacgtg aactatgggt gactaatccg aaacctccac\n",
      "      121 gctaacggag catccttctt tttcatctgc atttacttcc acattggccg aggcctatac\n",
      "      181 tatggctctt acctaaacaa agaagcatga aatattggtg ttattctcct tctattagtc\n",
      "      241 atgataaccg ctttcgttgg ctatgtcctc ccctgaggac aaatatcatt ttgaggggcc\n",
      "      301 actgttatta ccaacctcct atccgctgtc ccttacgtcg gcaacaccct ggtccaatga\n",
      "      361 atttgagggg ggttctcagt agacaatgca actctcactc gcttctttgc attccacttc\n",
      "      421 cttttaccct ttatcatcgc ggctataagc cttattcacc ttctatttct tcacgaacaa\n",
      "      481 ggtgcaaaca accctctcgg cctaaactca gactcagaca aaatcccctt ccatccttac\n",
      "      541 ttctcttaca aggacctcct aggattcgct attct\n",
      "//\n",
      "\n",
      "\n"
     ]
    }
   ],
   "source": [
    "efetch(\"KX773372\", \"text\")"
   ]
  },
  {
   "cell_type": "code",
   "execution_count": 73,
   "metadata": {
    "scrolled": false
   },
   "outputs": [
    {
     "name": "stdout",
     "output_type": "stream",
     "text": [
      "LOCUS       KC953095                 180 bp    DNA     linear   VRT 11-SEP-2014\n",
      "DEFINITION  Strix leptogrammica mitochondrion, complete genome.\n",
      "ACCESSION   KC953095 REGION: 1..180\n",
      "VERSION     KC953095.1\n",
      "KEYWORDS    .\n",
      "SOURCE      mitochondrion Strix leptogrammica\n",
      "  ORGANISM  Strix leptogrammica\n",
      "            Eukaryota; Metazoa; Chordata; Craniata; Vertebrata; Euteleostomi;\n",
      "            Archelosauria; Archosauria; Dinosauria; Saurischia; Theropoda;\n",
      "            Coelurosauria; Aves; Neognathae; Strigiformes; Strigidae; Strix.\n",
      "REFERENCE   1  (bases 1 to 180)\n",
      "  AUTHORS   Liu,G., Zhou,L. and Gu,C.\n",
      "  TITLE     The complete mitochondrial genome of Brown wood owl Strix\n",
      "            leptogrammica (Strigiformes: Strigidae)\n",
      "  JOURNAL   Mitochondrial DNA 25 (5), 370-371 (2014)\n",
      "   PUBMED   25204537\n",
      "REFERENCE   2  (bases 1 to 180)\n",
      "  AUTHORS   Liu,G. and Zhou,L.\n",
      "  TITLE     Direct Submission\n",
      "  JOURNAL   Submitted (19-APR-2013) School of Resource and Environmental\n",
      "            Engineering, Anhui University, 111 Jiulong Road, Hefei, Anhui\n",
      "            230601, China\n",
      "FEATURES             Location/Qualifiers\n",
      "     source          1..180\n",
      "                     /organism=\"Strix leptogrammica\"\n",
      "                     /organelle=\"mitochondrion\"\n",
      "                     /mol_type=\"genomic DNA\"\n",
      "                     /db_xref=\"taxon:126835\"\n",
      "                     /tissue_type=\"feather\"\n",
      "                     /country=\"China: Anhui, South Anhui National Wild Animal\n",
      "                     Rescue Centre\"\n",
      "                     /collection_date=\"Jun-2012\"\n",
      "     tRNA            1..66\n",
      "                     /product=\"tRNA-Phe\"\n",
      "     rRNA            67..>180\n",
      "                     /product=\"12S ribosomal RNA\"\n",
      "ORIGIN      \n",
      "        1 gtccctgtag cttacaaata aagcatggca ctgaagatgc caagatggtg ggccaatccc\n",
      "       61 agtacaaaga cttagtccca accttaccgt taattcctgc caaacacata catgcaagca\n",
      "      121 tccacatccc agtgtaaatg cccatccacc ctatcagagg tagaaggagc aggcatcagg\n",
      "//\n",
      "\n",
      "\n"
     ]
    }
   ],
   "source": [
    "efetch(\"KC953095\", \"text\", 180)"
   ]
  },
  {
   "cell_type": "code",
   "execution_count": 74,
   "metadata": {
    "scrolled": false
   },
   "outputs": [
    {
     "data": {
      "text/plain": [
       "[u'GBSeq_moltype',\n",
       " u'GBSeq_source',\n",
       " u'GBSeq_sequence',\n",
       " u'GBSeq_primary-accession',\n",
       " u'GBSeq_definition',\n",
       " u'GBSeq_accession-version',\n",
       " u'GBSeq_topology',\n",
       " u'GBSeq_length',\n",
       " u'GBSeq_feature-table',\n",
       " u'GBSeq_create-date',\n",
       " u'GBSeq_other-seqids',\n",
       " u'GBSeq_division',\n",
       " u'GBSeq_taxonomy',\n",
       " u'GBSeq_references',\n",
       " u'GBSeq_update-date',\n",
       " u'GBSeq_organism',\n",
       " u'GBSeq_locus',\n",
       " u'GBSeq_strandedness']"
      ]
     },
     "execution_count": 74,
     "metadata": {},
     "output_type": "execute_result"
    }
   ],
   "source": [
    "rec.keys()"
   ]
  },
  {
   "cell_type": "code",
   "execution_count": 25,
   "metadata": {},
   "outputs": [
    {
     "name": "stdout",
     "output_type": "stream",
     "text": [
      "KX773372 \tsource \torganism \tCentropyge vrolikii\n",
      "KX773372 \tsource \torganelle \tmitochondrion\n",
      "KX773372 \tsource \tmol_type \tgenomic DNA\n",
      "KX773372 \tsource \tisolate \tcvr37\n",
      "KX773372 \tsource \tdb_xref \ttaxon:109736\n",
      "KX773372 \tsource \tcountry \tPalau\n"
     ]
    }
   ],
   "source": [
    "efetch(\"KX773372\", feat_name=\"source\", qual_name=\"all\")"
   ]
  },
  {
   "cell_type": "code",
   "execution_count": 17,
   "metadata": {},
   "outputs": [
    {
     "name": "stdout",
     "output_type": "stream",
     "text": [
      "ops object attributes:\n",
      "argv: ['pgm', 'KC953095', '-f', 'source', '-q', 'all']\n",
      "feature_name: source\n",
      "id_list: ['KC953095']\n",
      "mode: xml\n",
      "qualifier_name: all\n",
      "sequence_max: -1\n",
      "\n",
      "KC953095 \tsource \torganism \tStrix leptogrammica\n",
      "KC953095 \tsource \torganelle \tmitochondrion\n",
      "KC953095 \tsource \tmol_type \tgenomic DNA\n",
      "KC953095 \tsource \tdb_xref \ttaxon:126835\n",
      "KC953095 \tsource \ttissue_type \tfeather\n",
      "KC953095 \tsource \tcountry \tChina: Anhui, South Anhui National Wild Animal Rescue Centre\n",
      "KC953095 \tsource \tcollection_date \tJun-2012\n"
     ]
    }
   ],
   "source": [
    "def print_object_attrs(obj):\n",
    "    attrs = [a for a in dir(obj) if not a.startswith('__') and not callable(getattr(obj,a))]\n",
    "    for attr in attrs:\n",
    "        print attr + \":\", getattr(obj, attr)\n",
    "\n",
    "def print_object_methods(obj):\n",
    "    methods = [a for a in dir(obj) if callable(getattr(obj,a)) and not a.startswith('__')]\n",
    "    for method in methods:\n",
    "        print method\n",
    "\n",
    "ops = get_options([\"pgm\", \"KC953095\",\"-f\", \"source\", \"-q\", \"all\"])\n",
    "ids = \",\".join( ops.id_list )\n",
    "print \"ops object attributes:\"; print_object_attrs(ops); print #debug stmt, comment out this line to remove debug\n",
    " \n",
    "# call efetch with comma delimited set of IDs and optionally seq max, feature and qualifier name\n",
    "efetch(ids, ops.mode, seq_end=ops.sequence_max, feat_name=ops.feature_name, qual_name=ops.qualifier_name)"
   ]
  },
  {
   "cell_type": "code",
   "execution_count": null,
   "metadata": {},
   "outputs": [],
   "source": []
  }
 ],
 "metadata": {
  "kernelspec": {
   "display_name": "Python 2",
   "language": "python",
   "name": "python2"
  },
  "language_info": {
   "codemirror_mode": {
    "name": "ipython",
    "version": 2
   },
   "file_extension": ".py",
   "mimetype": "text/x-python",
   "name": "python",
   "nbconvert_exporter": "python",
   "pygments_lexer": "ipython2",
   "version": "2.7.10"
  }
 },
 "nbformat": 4,
 "nbformat_minor": 2
}
