{
 "cells": [
  {
   "cell_type": "markdown",
   "metadata": {},
   "source": [
    "### Working with GenBank data\n",
    "There's a very useful module that makes dealing with common bioinformatic sequence and other formats relatively easy. Even if it doesn't look that simple, at least it has done a lot of work that would have been needed if you implemented this from the ground up.\n",
    "\n",
    "This is called the **BioPython** module.\n",
    "\n",
    "You use it via the module name **Bio** that you import into your Python session or file.\n",
    "\n",
    "NCBI changed their requirements for accessing them via the Internet to require https instead of just http. I believe this was a change that all federal government web sites were encouraged to make.\n",
    "\n",
    "Since the NCBI website locations are embedded in the BioPython code you need to have ***Version 1.68*** or greater. The latest version from July 2017 is ***1.70*** and it handles MAF and NEXUS formats better than earlier versions.\n",
    "#### Installing the BioPython module onto your computer\n",
    "You can use **pip** to install this module via the bash terminal command:\n",
    "\n",
    "**pip install biopython**"
   ]
  },
  {
   "cell_type": "markdown",
   "metadata": {},
   "source": [
    "After it is installed check its version."
   ]
  },
  {
   "cell_type": "code",
   "execution_count": null,
   "metadata": {},
   "outputs": [],
   "source": [
    "import Bio\n",
    "print \"biopython version number is:\", Bio.__version__"
   ]
  },
  {
   "cell_type": "markdown",
   "metadata": {},
   "source": [
    "If it is version 1.68 or greater, we should be good to go.\n",
    "\n",
    "The first thing we are going to do is define a Python function that prints summary info based on a query.\n",
    "\n",
    "#### Click on the cell below and Run it."
   ]
  },
  {
   "cell_type": "code",
   "execution_count": null,
   "metadata": {
    "scrolled": true
   },
   "outputs": [],
   "source": [
    "#!/usr/bin/env python\n",
    "\n",
    "# usage: esummary.py \"quoted_query_string\"\n",
    "#\n",
    "# return the summary records that correspond to the query\n",
    "# number of matching records written to stderr\n",
    "# first line is column names of Accn TaxID Length and Title\n",
    "# rest of lines are summaries with these fields for the records\n",
    "# fields separated by | since that is not a likely character in Title\n",
    "\n",
    "import sys\n",
    "from Bio import Entrez\n",
    "Entrez.email = \"ccg@calacademy.org\"\n",
    "\n",
    "def inJupyter(): # see if we are running in an iPython or Jupyter notebook\n",
    "    try:\n",
    "        get_ipython\n",
    "    except:\n",
    "        return False\n",
    "    else:\n",
    "        return True\n",
    "\n",
    "def eSummary(qryStr, return_accns = False, max_to_show = -1):\n",
    "    global rec # only so we can inspect it (eg keys) later in a Jupyter notebook\n",
    "    handle = Entrez.esearch(db=\"nucleotide\", term=qryStr, retmax=10000)\n",
    "    record = Entrez.read(handle)\n",
    "    numIDs = int(record[\"Count\"])\n",
    "    sys.stderr.write(str(numIDs) + \" results for \\\"\"+qryStr+\"\\\"\\n\")\n",
    "    if numIDs < 1:\n",
    "        sys.exit(0)\n",
    "\n",
    "    if inJupyter() and max_to_show==-1: max_to_show = max_jupyter_recs\n",
    "\n",
    "    if max_to_show > 0 and numIDs > max_to_show: # limit to max_to_show\n",
    "        numIDs = max_to_show\n",
    "\n",
    "    id_list = record[\"IdList\"]\n",
    "    id_list.sort()\n",
    "\n",
    "    found_accns = [] # list containing the found accession numbers\n",
    "    if not return_accns: print \"Accn | TaxonID | Length | Title\"\n",
    "    startIx = 0; sliceSize = min(numIDs,200) # can't send too large a request at a time, so cut it up into this size slices\n",
    "    while numIDs > 0:\n",
    "        ids = \",\".join( id_list[startIx : startIx+sliceSize] )\n",
    "\n",
    "        handle = Entrez.esummary(db=\"nucleotide\", id=ids)\n",
    "        records = Entrez.read(handle)\n",
    "\n",
    "        for rec in records:\n",
    "            Accn = rec['Caption']\n",
    "            if not return_accns:\n",
    "                print Accn, '|', rec['TaxId'], '|', rec['Length'], '|', rec['Title']\n",
    "            else:\n",
    "                found_accns.append(Accn)\n",
    "\n",
    "        numIDs  -= sliceSize\n",
    "        startIx += sliceSize\n",
    "\n",
    "    if return_accns:\n",
    "        return found_accns\n",
    "\n",
    "def usage():\n",
    "    sys.stderr.write('''\n",
    "Usage: esummary.py \\\"query_str\\\"\n",
    "    Ex: esummary.py \\\"Strix[Title] AND mitochondrial[Title]\\\"\n",
    "    \n",
    "''')\n",
    "    sys.exit(0)\n",
    "\n",
    "# if we are in Jupyter notebook, run an example query and limit output to 25 records\n",
    "if inJupyter():\n",
    "    qryStr = \"Strix[Title] AND mitochondrion[Title]\"\n",
    "    #qryStr = \"1246431282 1246431296 523582230\"\n",
    "    #qryStr = \"KC953095 MF431746 MF431745 KU365899 MF001440\"\n",
    "    max_jupyter_recs = 25 # only show up to 25 results if using in Jupyter\n",
    "elif len(sys.argv) < 2:\n",
    "    usage()\n",
    "else:\n",
    "    qryStr = sys.argv[1] # ex: \"Strix[Title] AND mitochondrion[Title]\"\n",
    "\n",
    "eSummary(qryStr) # get our summaries with the defined query string\n"
   ]
  },
  {
   "cell_type": "markdown",
   "metadata": {},
   "source": [
    "When you run the Python code in the cell above, it shows 3 summary records as a test to make sure everything is connected up and working.\n",
    "\n",
    "But the nice thing is that now that we have **def**ined the **eSummary** function, it is available to call in this notebook. There are two example queries in the following cells. Click, or use the arrow keys, to select a cell and then Run them. After that, if you'd like, add another cell below them and try a search query of your own."
   ]
  },
  {
   "cell_type": "code",
   "execution_count": null,
   "metadata": {},
   "outputs": [],
   "source": [
    "eSummary(\"KC953095 KX773380 MF431746\")"
   ]
  },
  {
   "cell_type": "code",
   "execution_count": null,
   "metadata": {
    "scrolled": false
   },
   "outputs": [],
   "source": [
    "eSummary(\"Centropyge flavissimi and rRNA\")"
   ]
  },
  {
   "cell_type": "markdown",
   "metadata": {},
   "source": [
    "You might notice that we didn't get all 191 results above. That's because the function only shows 25 when we are in the Jupyter notebook. However, the **esummary.py** file that is in this directory will show every result when you run it from the command line.\n",
    "\n",
    "---\n",
    "I'm sure you want to know what else is considered *summary* information for a GenBank record. You can, of course, look that up in the documentation on the web. But, for the database on which we just ran our query (*nucleotide* in this case), we can look at all the information returned for the last result. We used the **rec** variable to hold each record and so just like any other Python variable we can look to see what it contains.\n",
    "\n",
    "Run the cell below that has **print rec** in it."
   ]
  },
  {
   "cell_type": "code",
   "execution_count": null,
   "metadata": {},
   "outputs": [],
   "source": [
    "print rec"
   ]
  },
  {
   "cell_type": "markdown",
   "metadata": {},
   "source": [
    "There's nothing special about that **rec** name, we could have called it by whatever valid Python variable name we wanted.\n",
    "\n",
    "What you see above is how Python shows you a **dict**ionary variable. The dictionary is enclosed in set braces {} and each item in the dictionary has the format **key: value** separated by commas. The first item is named 'Status' and has the value 'live' and the last item is named 'Gi' and has the value 239583884. That is, if you ran the search above last. If you ran other searches, the keys should still be there but the values would be different.\n",
    "\n",
    "This shows us we could add some additional fields to Accn, TaxonID, Length, Title. For example, show the CreateDate and the UpdateDate. But not a lot more than that. If we want more we need a different call to GenBank.\n",
    "\n",
    "---\n",
    "Now let's make a script that will return more of the information than esummary. It will show us an example when run. However, importantly, it will define the **efetch** function that we can use for more purposes in this notebook page."
   ]
  },
  {
   "cell_type": "code",
   "execution_count": null,
   "metadata": {
    "scrolled": true
   },
   "outputs": [],
   "source": [
    "#!/usr/bin/env python\n",
    "\n",
    "# usage: efetch.py IDs [ [-gb] | [-f <feature_name>|all [-q <qualifier_name>|all]] [-s max_seqlen] ]\n",
    "#\n",
    "# return the summary records that correspond to the Accession IDs \n",
    "# number of matching records written to stderr\n",
    "# first line is column names of gID TaxID Length and Title\n",
    "# rest of lines are summaries with these fields for the records\n",
    "# fields separated by | since that is not a likely character in Title\n",
    "\n",
    "import sys\n",
    "from Bio import Entrez\n",
    "Entrez.email = \"ccg@calacademy.org\"\n",
    "\n",
    "from IPython.core.debugger import set_trace\n",
    "\n",
    "def inJupyter(): # see if we are running in an iPython or Jupyter notebook\n",
    "    try:\n",
    "        get_ipython\n",
    "    except:\n",
    "        return False\n",
    "    else:\n",
    "        return True\n",
    "\n",
    "def get_feature_qualifier_list(rec, feature_name, qualifier_name):\n",
    "    result = []\n",
    "    if not 'GBSeq_feature-table' in rec or feature_name == \"\":\n",
    "        return result\n",
    "    \n",
    "    # build list of all qualifier values for feature_name[qualifier_name]\n",
    "    # special case of feature_name of \"all\" for ALL feature_names\n",
    "    # also special case for empty qualifier_name puts name of feature and name of qualifier in the list\n",
    "    #   and if qualifier_name is \"all\" then also include value with feature and qualifier name\n",
    "    special_case_qual = (qualifier_name == \"\" or qualifier_name.lower() == \"all\")\n",
    "    \n",
    "    for feat in rec['GBSeq_feature-table']:\n",
    "        if (feature_name.lower() == \"all\" or feat['GBFeature_key'] == feature_name) and 'GBFeature_quals' in feat:\n",
    "            for qual in feat['GBFeature_quals']:\n",
    "                if qual['GBQualifier_name'] == qualifier_name:\n",
    "                    result.append( qual['GBQualifier_value'] )\n",
    "                elif special_case_qual: # special case: put feature name and qualifier name and maybe val in list\n",
    "                    inf = feat['GBFeature_key'] + \" \\t\" + qual['GBQualifier_name']\n",
    "                    if qualifier_name.lower() == \"all\":\n",
    "                        inf += \" \\t\" + qual['GBQualifier_value']\n",
    "                    result.append(inf)\n",
    "    return result\n",
    "\n",
    "def efetch(IDs, mode=\"xml\", seq_end=-1, feat_name=\"\", qual_name=\"\", prt_result=True, result_list=None):\n",
    "    #IDs is a string with comma separated values, each an ID\n",
    "    global rec # only so we can inspect value (eg keys) later in a Jupyter notebook\n",
    "    \n",
    "    showing_feature = (feat_name != \"\"); sep = \" | \"\n",
    "    if prt_result and mode == \"xml\" and feat_name == \"\":\n",
    "        print \"Accn | Length | UpdateDate | Title | Taxonomy\"\n",
    "\n",
    "    # if use a short seq_stop this speeds up retrieval quite a bit. but you won't get actual length values\n",
    "    if seq_end <= 0:\n",
    "        handle = Entrez.efetch(db=\"nucleotide\", id=IDs, rettype=\"gb\", retmode=mode)\n",
    "    else:\n",
    "        handle = Entrez.efetch(db=\"nucleotide\", id=IDs, rettype=\"gb\", retmode=mode, strand=1,seq_start=1,seq_stop=seq_end)\n",
    "\n",
    "    if mode == \"text\":\n",
    "        print(handle.read())\n",
    "    else:\n",
    "        records = Entrez.read(handle)\n",
    "        for rec in records:\n",
    "            # set_trace() #enter ipdb debugger if we want to look at records interactively in Jupyter notebook\n",
    "            if not showing_feature:\n",
    "                pln = rec['GBSeq_primary-accession'] + sep + rec['GBSeq_length'] + sep + \\\n",
    "                      rec['GBSeq_update-date'] + sep + rec['GBSeq_definition'] + sep + rec['GBSeq_taxonomy']\n",
    "                if prt_result: print pln\n",
    "                if type(result_list) is list:\n",
    "                    result_list.append( pln.split(sep) )\n",
    "            else:\n",
    "                features = get_feature_qualifier_list(rec, feat_name, qual_name)\n",
    "                for qual in features:\n",
    "                    pln = rec['GBSeq_primary-accession'] + \" \\t\" + qual\n",
    "                    if prt_result: print pln\n",
    "                    if type(result_list) is list:\n",
    "                        result_list.append( pln.split() )\n",
    "                    \n",
    "def usage():\n",
    "    sys.stderr.write('''\n",
    "    Usage: efetch.py <ID1> [<ID2> ...] [ [-gb] | [-f <feature_name>|all [-q <qualifier_name>|all]] [-s max_seqlen] ]\n",
    "    \n",
    "    Examples:\n",
    "        efetch.py KX773372 KX773303     # show Accn Length UpdateDate Title Taxonomy for each ID\n",
    "        efetch.py KX773372 -gb          # show full textual GenBank output format\n",
    "        efetch.py KX773372 -f source    # show name of a specific feature and each of its qualifier names\n",
    "        efetch.py KX773372 -f source -q organelle # show specific feature and a specific qualifier value\n",
    "        efetch.py MF431746 -f source -q all       # show specific feature and each of its qualifier names and value\n",
    "        efetch.py MF431746 -f all                 # show names of each feature and each of its qualifier names\n",
    "        efetch.py KX773372 -s 200       # limit the size of the sequence retrieved. this also limits which features are retrieved.\n",
    "\n",
    "''');\n",
    "    sys.exit(0)\n",
    "\n",
    "def get_options(arg_list, min_args=2):\n",
    "    class options:\n",
    "        argv           = arg_list\n",
    "        id_list        = []\n",
    "        mode           = \"xml\"\n",
    "        sequence_max   = -1\n",
    "        feature_name   = \"\"\n",
    "        qualifier_name = \"\"\n",
    "        def number_of_ids(): # this is how a class method is defined\n",
    "            return len(id_list)\n",
    "\n",
    "    num_args = len(options.argv)\n",
    "    if num_args < min_args:\n",
    "        usage()\n",
    "\n",
    "    lst = options.id_list\n",
    "    ixArg = 0; ixLast = num_args-1;\n",
    "    while ixArg < ixLast:\n",
    "        ixArg += 1\n",
    "        idStr = arg_list[ixArg]\n",
    "        if idStr[0] != \"-\":\n",
    "            lst.append(idStr)\n",
    "        elif idStr == \"-gb\" or idStr == \"-text\":\n",
    "            options.mode = \"text\"\n",
    "        else: # get options that have a value after the option flag\n",
    "            optionType = idStr[1].lower()\n",
    "            if optionType in \"sfq\" and ixArg < ixLast: # -s, -f or -q has a value after\n",
    "                ixArg += 1\n",
    "                optVal = arg_list[ixArg]\n",
    "                if optionType == \"f\":\n",
    "                    options.feature_name = optVal\n",
    "                elif optionType == \"q\":\n",
    "                    options.qualifier_name = optVal\n",
    "                elif optionType == \"s\":\n",
    "                    options.sequence_max = optVal\n",
    "    return options\n",
    "\n",
    "# main code entrypoint\n",
    "if inJupyter():\n",
    "    efetch(\"KC953095,KX773380,MF431746\")\n",
    "else:\n",
    "    ops = get_options(sys.argv)\n",
    "    ids = \",\".join( ops.id_list )\n",
    "    \n",
    "    # call efetch with comma delimited set of IDs and optionally seq max, feature and qualifier name\n",
    "    efetch(ids, ops.mode, seq_end=ops.sequence_max, feat_name=ops.feature_name, qual_name=ops.qualifier_name)"
   ]
  },
  {
   "cell_type": "code",
   "execution_count": null,
   "metadata": {
    "scrolled": true
   },
   "outputs": [],
   "source": [
    "efetch(\"KC953095,KX773380,MF431746\", feat_name=\"source\", qual_name=\"country\")"
   ]
  },
  {
   "cell_type": "code",
   "execution_count": null,
   "metadata": {
    "scrolled": false
   },
   "outputs": [],
   "source": [
    "efetch(\"KC953095,KX773380,MF431746\", feat_name=\"source\", qual_name=\"all\")"
   ]
  },
  {
   "cell_type": "code",
   "execution_count": null,
   "metadata": {},
   "outputs": [],
   "source": [
    "efetch(\"KC953095\", feat_name=\"tRNA\", qual_name=\"product\")"
   ]
  },
  {
   "cell_type": "code",
   "execution_count": null,
   "metadata": {},
   "outputs": [],
   "source": [
    "efetch(\"KC953095\", feat_name=\"tRNA\", qual_name=\"all\")"
   ]
  },
  {
   "cell_type": "code",
   "execution_count": null,
   "metadata": {},
   "outputs": [],
   "source": [
    "feature_name = 'source'; qualifier_name = 'country'\n",
    "#feature_name = 'rRNA'; qualifier_name = 'product'\n",
    "print get_feature_qualifier_list(rec, feature_name, qualifier_name)"
   ]
  },
  {
   "cell_type": "code",
   "execution_count": null,
   "metadata": {},
   "outputs": [],
   "source": [
    "rslts = []\n",
    "efetch(\"KC953095\" ,result_list=rslts, prt_result=False)\n",
    "print rslts"
   ]
  },
  {
   "cell_type": "code",
   "execution_count": null,
   "metadata": {},
   "outputs": [],
   "source": [
    "efetch(\"KX773372\", \"text\")"
   ]
  },
  {
   "cell_type": "code",
   "execution_count": null,
   "metadata": {
    "scrolled": false
   },
   "outputs": [],
   "source": [
    "efetch(\"KC953095\", \"text\", 180)"
   ]
  },
  {
   "cell_type": "code",
   "execution_count": null,
   "metadata": {
    "scrolled": false
   },
   "outputs": [],
   "source": [
    "rec.keys()"
   ]
  },
  {
   "cell_type": "code",
   "execution_count": null,
   "metadata": {},
   "outputs": [],
   "source": [
    "efetch(\"KX773372\", feat_name=\"source\", qual_name=\"all\")"
   ]
  },
  {
   "cell_type": "markdown",
   "metadata": {},
   "source": [
    "### Some testing code that you can skip if reading this on your own."
   ]
  },
  {
   "cell_type": "code",
   "execution_count": null,
   "metadata": {},
   "outputs": [],
   "source": [
    "def print_object_attrs(obj):\n",
    "    attrs = [a for a in dir(obj) if not a.startswith('__') and not callable(getattr(obj,a))]\n",
    "    for attr in attrs:\n",
    "        print attr + \":\", getattr(obj, attr)\n",
    "\n",
    "def print_object_methods(obj):\n",
    "    methods = [a for a in dir(obj) if callable(getattr(obj,a)) and not a.startswith('__')]\n",
    "    for method in methods:\n",
    "        print method\n",
    "\n",
    "ops = get_options([\"pgm\", \"KC953095\",\"-f\", \"source\", \"-q\", \"all\"])\n",
    "ids = \",\".join( ops.id_list )\n",
    "#print \"ops object attributes:\"; print_object_attrs(ops); print #debug stmt, comment out this line to remove debug\n",
    "\n",
    "# call efetch with comma delimited set of IDs and optionally seq max, feature and qualifier name\n",
    "efetch(ids, ops.mode, seq_end=ops.sequence_max, feat_name=ops.feature_name, qual_name=ops.qualifier_name)"
   ]
  },
  {
   "cell_type": "markdown",
   "metadata": {},
   "source": [
    "### Using eSummary and efetch together\n",
    "The **efetch** function isn't quite as flexible as the **eSummary** function. While efetch requires a string of Accession IDs, eSummary can take any type of GenBank query.\n",
    "\n",
    "We can get eSummary to return a list of the Accession IDs that it found and turn those into a string for efetch.\n",
    "\n",
    "First, let's see eSummary return those IDs."
   ]
  },
  {
   "cell_type": "code",
   "execution_count": null,
   "metadata": {},
   "outputs": [],
   "source": [
    "accn_list = eSummary(\"Strix[Title] AND mitochondrion[Title]\", True)\n",
    "print \"Here's my list:\",accn_list"
   ]
  },
  {
   "cell_type": "markdown",
   "metadata": {},
   "source": [
    "If you look at the first line above at the end of the statement, you'll see we added a **True** as the second parameter to the eSummary function. That tells the function to return a list of the Accession IDs instead of printing out our summary.\n",
    "\n",
    "We capture that ID list in the variable called **accn_list** and print it.\n",
    "\n",
    "However, we can just turn it into a comma separated string and store it in the variable accn_str"
   ]
  },
  {
   "cell_type": "code",
   "execution_count": null,
   "metadata": {},
   "outputs": [],
   "source": [
    "accn_str = \",\".join(accn_list)\n",
    "print accn_str"
   ]
  },
  {
   "cell_type": "markdown",
   "metadata": {},
   "source": [
    "Then we can pass accn_str to efetch and see what *source* Features they have."
   ]
  },
  {
   "cell_type": "code",
   "execution_count": null,
   "metadata": {},
   "outputs": [],
   "source": [
    "efetch(accn_str, feat_name=\"source\", qual_name=\"all\")"
   ]
  },
  {
   "cell_type": "markdown",
   "metadata": {},
   "source": [
    "### There's much more you can do with the BioPython module.<br>Check it out at *biopython.org* or search for biopython in your browser."
   ]
  },
  {
   "cell_type": "markdown",
   "metadata": {},
   "source": [
    "### We'll look at some more bioinformatic examples below\n",
    "Let's make a Codon to Amino Acid map using a Python dictionary data type.\n",
    "Then use it to look up a few codons."
   ]
  },
  {
   "cell_type": "code",
   "execution_count": 2,
   "metadata": {},
   "outputs": [
    {
     "name": "stdout",
     "output_type": "stream",
     "text": [
      "codon CGG is Amino Acid R.\n",
      "codon TCG is Amino Acid S.\n"
     ]
    }
   ],
   "source": [
    "def get_AA_map():\n",
    "    return {\n",
    "        'ATA':'I', 'ATC':'I', 'ATT':'I', 'ATG':'M',\n",
    "        'ACA':'T', 'ACC':'T', 'ACG':'T', 'ACT':'T',\n",
    "        'AAC':'N', 'AAT':'N', 'AAA':'K', 'AAG':'K',\n",
    "        'AGC':'S', 'AGT':'S', 'AGA':'R', 'AGG':'R',                 \n",
    "        'CTA':'L', 'CTC':'L', 'CTG':'L', 'CTT':'L',\n",
    "        'CCA':'P', 'CCC':'P', 'CCG':'P', 'CCT':'P',\n",
    "        'CAC':'H', 'CAT':'H', 'CAA':'Q', 'CAG':'Q',\n",
    "        'CGA':'R', 'CGC':'R', 'CGG':'R', 'CGT':'R',\n",
    "        'GTA':'V', 'GTC':'V', 'GTG':'V', 'GTT':'V',\n",
    "        'GCA':'A', 'GCC':'A', 'GCG':'A', 'GCT':'A',\n",
    "        'GAC':'D', 'GAT':'D', 'GAA':'E', 'GAG':'E',\n",
    "        'GGA':'G', 'GGC':'G', 'GGG':'G', 'GGT':'G',\n",
    "        'TCA':'S', 'TCC':'S', 'TCG':'S', 'TCT':'S',\n",
    "        'TTC':'F', 'TTT':'F', 'TTA':'L', 'TTG':'L',\n",
    "        'TAC':'Y', 'TAT':'Y', 'TAA':'*', 'TAG':'*',\n",
    "        'TGC':'C', 'TGT':'C', 'TGA':'*', 'TGG':'W',\n",
    "    }\n",
    "\n",
    "nt_AA_map = get_AA_map()\n",
    "codon = \"CGG\"\n",
    "print \"codon {} is Amino Acid {}.\".format( codon.upper(), nt_AA_map[ codon.upper() ] )\n",
    "\n",
    "codon = \"tcg\"\n",
    "print \"codon {} is Amino Acid {}.\".format( codon.upper(), nt_AA_map[ codon.upper() ] )"
   ]
  },
  {
   "cell_type": "markdown",
   "metadata": {},
   "source": [
    "### Translate from DNA to Coding Protein\n",
    "Now let's see if we can translate this Turkey virus gene (Genbank with accession ID **X63408**)"
   ]
  },
  {
   "cell_type": "code",
   "execution_count": null,
   "metadata": {},
   "outputs": [],
   "source": [
    "gene = \"atgccagtggtaataccctgcagaagggtgacagcaataattaagtgcaatgcacttggattgtgtatgg\" + \\\n",
    "       \"ttcgtaagatatatgattatagtattgcgagctggagtgatttaatagaggaagtagccaatatggtcct\" + \\\n",
    "       \"aatagatcacatcaataggaaacaatgtgtggagtgtcgaaaagattttgagtttatagctatatatacctcatataattag\"\n",
    "gene = gene.upper()\n",
    "\n",
    "codon_nts = len(gene) - (len(gene) % 3) # only want multiple of 3 characters\n",
    "nt_AA_map = get_AA_map()\n",
    "\n",
    "translation = \"\"\n",
    "for ix in range(0, codon_nts, 3):\n",
    "    codon = gene[ix: ix+3]\n",
    "    aa = nt_AA_map[codon]\n",
    "    translation += aa  # equivalently in 1 line: translation += nt_AA_map[ gene[ix: ix+3] ]\n",
    "\n",
    "print translation"
   ]
  },
  {
   "cell_type": "markdown",
   "metadata": {},
   "source": [
    "### Simple ORF finding\n",
    "That worked. So let's put the whole 791nt sequence from Genbank X63408 into a string and see if we can make an ORF finder to search through it."
   ]
  },
  {
   "cell_type": "code",
   "execution_count": 12,
   "metadata": {},
   "outputs": [
    {
     "name": "stdout",
     "output_type": "stream",
     "text": [
      "gggacaagtgaagatgtctaggcgaaatccctgcagatatgaaatacggggcaaatgcaacaggggatcatcctgtacatttaaccataattattggtcctggcctgatcatgtgctcttagtcagagcaaactacatgcttaaccaattattgagaaacacagacaggacagatggcctatccttgatatcaggggcaggacgagaagatagaacccaggattttgttctaggatctgccaatgttgtacagaattatatagaagggaacacaacaatcaccaaatcagcagcctgctacagcctgtacaacattataaaacagctccaggaaaatgatgtgaaaacatccagagattcaatgcttgaagaccctaaacatgtggcgctacacaatctgatactatcttatgttgatatgagtaaaaatccggcaagtttgatcaacagcctcaagcggcttcccagagaaaaactcaaaaagcttgccaagatcatactacagctatctgcagggccagagagtgacaatgccagtggtaataccctgcagaagggtgacagcaataattaagtgcaatgcacttggattgtgtatggttcgtaagatatatgattatagtattgcgagctggagtgatttaatagaggaagtagccaatatggtcctaatagatcacatcaataggaaacaatgtgtggagtgtcgaaaagattttgagtttatagctatatatacctcatataattagttaattaaaaccaattaagctataagtccaaaaaagggt\n"
     ]
    }
   ],
   "source": [
    "name = \"X63408.1 Turkey Rhinitracheitis Virus M2 gene\"\n",
    "seq_X63408 = \"\"\"GGGACAAGTGAAGATGTCTAGGCGAAATCCCTGCAGATATGAAATACGGGGCAAATGCAACAGGGGATCA\n",
    "TCCTGTACATTTAACCATAATTATTGGTCCTGGCCTGATCATGTGCTCTTAGTCAGAGCAAACTACATGC\n",
    "TTAACCAATTATTGAGAAACACAGACAGGACAGATGGCCTATCCTTGATATCAGGGGCAGGACGAGAAGA\n",
    "TAGAACCCAGGATTTTGTTCTAGGATCTGCCAATGTTGTACAGAATTATATAGAAGGGAACACAACAATC\n",
    "ACCAAATCAGCAGCCTGCTACAGCCTGTACAACATTATAAAACAGCTCCAGGAAAATGATGTGAAAACAT\n",
    "CCAGAGATTCAATGCTTGAAGACCCTAAACATGTGGCGCTACACAATCTGATACTATCTTATGTTGATAT\n",
    "GAGTAAAAATCCGGCAAGTTTGATCAACAGCCTCAAGCGGCTTCCCAGAGAAAAACTCAAAAAGCTTGCC\n",
    "AAGATCATACTACAGCTATCTGCAGGGCCAGAGAGTGACAATGCCAGTGGTAATACCCTGCAGAAGGGTG\n",
    "ACAGCAATAATTAAGTGCAATGCACTTGGATTGTGTATGGTTCGTAAGATATATGATTATAGTATTGCGA\n",
    "GCTGGAGTGATTTAATAGAGGAAGTAGCCAATATGGTCCTAATAGATCACATCAATAGGAAACAATGTGT\n",
    "GGAGTGTCGAAAAGATTTTGAGTTTATAGCTATATATACCTCATATAATTAGTTAATTAAAACCAATTAA\n",
    "GCTATAAGTCCAAAAAAGGGT\"\"\"\n",
    "\n",
    "seq_X63408 = seq_X63408.replace(\"\\n\",\"\")\n",
    "print seq_X63408.lower()"
   ]
  },
  {
   "cell_type": "code",
   "execution_count": 15,
   "metadata": {},
   "outputs": [
    {
     "name": "stdout",
     "output_type": "stream",
     "text": [
      "187 codon ORF pos 13 frame 2: MSRRNPCRYEIRGKCNRGSSCTFNHNYWSWPDHVLLVRANYMLNQLLRNTDRTDGLSLISGAGREDRTQDFVLGSANVVQNYIEGNTTITKSAACYSLYNIIKQLQENDVKTSRDSMLEDPKHVALHNLILSYVDMSKNPASLINSLKRLPREKLKKLAKIILQLSAGPESDNASGNTLQKGDSNN* \n",
      "\n",
      "22 codon ORF pos 579 frame 1: MHLDCVWFVRYMIIVLRAGVI* \n",
      "\n",
      "30 codon ORF pos 662 frame 3: MVLIDHINRKQCVECRKDFEFIAIYTSYN* \n",
      "\n"
     ]
    }
   ],
   "source": [
    "def simple_ORF_finder(seq,):\n",
    "    search_from_pos = 0 # this is moved past each orf we find to search for additional ones\n",
    "    start_codon = \"atg\"\n",
    "    subj = seq.lower()\n",
    "    nt_AA_map = get_AA_map()\n",
    "    \n",
    "    ORF_min = 10 # minimum codons to consider it an ORF\n",
    "    \n",
    "    while True:\n",
    "        pos = subj.find(start_codon, search_from_pos)\n",
    "        if pos == -1: break\n",
    "        \n",
    "        # found an atg see how many valid codons are after, tracking their translation too\n",
    "        cur_orf = \"\"; cur_len = 0; cur_start = pos\n",
    "\n",
    "        while cur_len==0 or cur_orf[-1] != '*':\n",
    "            codon = subj[pos: pos+3]\n",
    "            if len(codon) == 3:\n",
    "                cur_orf += nt_AA_map[codon.upper()]\n",
    "                cur_len += 1\n",
    "            pos += len(codon)\n",
    "            \n",
    "        if len(cur_orf) >= ORF_min:\n",
    "            frame = 1 + (cur_start % 3)\n",
    "            print \"{} codon ORF pos {} frame {}: {} \\n\".format(cur_len, cur_start, frame, cur_orf)\n",
    "        search_from_pos = pos\n",
    "\n",
    "simple_ORF_finder(seq_X63408)"
   ]
  },
  {
   "cell_type": "markdown",
   "metadata": {},
   "source": [
    "#### Searching the reverse complement"
   ]
  },
  {
   "cell_type": "code",
   "execution_count": null,
   "metadata": {},
   "outputs": [],
   "source": []
  },
  {
   "cell_type": "markdown",
   "metadata": {},
   "source": [
    "### Simple Global Alignments\n",
    "Let's download some tRNA sequences from GenBank and perform a global alignment"
   ]
  },
  {
   "cell_type": "code",
   "execution_count": null,
   "metadata": {},
   "outputs": [],
   "source": [
    "t_lists = [] # list of results, each of them a list\n",
    "efetch(\"KC953095,MF431745,MF431746\", feat_name=\"tRNA\", qual_name=\"all\", prt_result=False, result_list=t_lists)\n",
    "\n",
    "# pick out the results we want from t_lists\n",
    "tRNA_type = 'Phe';\n",
    "\n",
    "cur_tRNA = \"\"; tRNA_result = []\n",
    "for t in t_lists:\n",
    "    if t[1] != \"tRNA\": continue\n",
    "\n",
    "    if t[2]=='product' and t[3].find(tRNA_type) > 0:\n",
    "        cur_tRNA = t[3]\n",
    "    elif t[2]=='transcription' and cur_tRNA.find(tRNA_type) > 0:\n",
    "        t[1] = cur_tRNA\n",
    "        tRNA_result.append( t )\n",
    "        cur_tRNA = \"\"\n",
    "\n",
    "print len(tRNA_result), \"sequence records returned into tRNA_result variable\""
   ]
  },
  {
   "cell_type": "code",
   "execution_count": null,
   "metadata": {},
   "outputs": [],
   "source": [
    "tRNA_result"
   ]
  },
  {
   "cell_type": "code",
   "execution_count": null,
   "metadata": {},
   "outputs": [],
   "source": [
    "# define the show alignments function\n",
    "from Bio import pairwise2\n",
    "\n",
    "#show a form of alignment (not as smart as BLAST or BLAT) between consecutive sequences\n",
    "def showAlignments(rnaSeqs):\n",
    "    def alignLine(align1, align2, score=None, maxScore=None): # return line of |'s and blanks representing aligment between align1 and align2\n",
    "        line = \"\"\n",
    "        for i in xrange(len(align1)):\n",
    "            if align1[i] == align2[i]:\n",
    "                line += \"|\"\n",
    "            else:\n",
    "                line += \" \"\n",
    "                \n",
    "        if score and maxScore: # if we have this then add the score portion to the line\n",
    "            line += \"\\tscore=\" + str(int(score)) + \" of \" + str(maxScore)\n",
    "            \n",
    "        return line\n",
    "\n",
    "    badSeqs = [s for s in rnaSeqs if s[0].strip() == \"\" or s[0][:5]==\"NNNNN\"]\n",
    "    rnaSeqs = [s for s in rnaSeqs if s[0].strip() != \"\" and s[0][:5]!=\"NNNNN\"]\n",
    "    if len(rnaSeqs) > 1:\n",
    "        #globalxs last 2 parms are for gap and gap_extend\n",
    "        ixAlign = 0; lastAlign = len(rnaSeqs)-1; lastBottomSeq = \"\"\n",
    "        for ixAlign in xrange(lastAlign):\n",
    "            r1 = rnaSeqs[ixAlign]; r2 = rnaSeqs[ixAlign+1]\n",
    "            a = pairwise2.align.globalxs(r1[0], r2[0], -1.0, -0.1)[0]\n",
    "            if a[0] != lastBottomSeq:\n",
    "                print a[0] + \"\\t\" + r1[1]\n",
    "            print alignLine(a[0], a[1], a[2], max(len(r1[0]), len(r2[0])))\n",
    "            print a[1] + \"\\t\" + r2[1]\n",
    "            lastBottomSeq = a[1]\n",
    "\n",
    "        if len(badSeqs) > 0:\n",
    "            for s in badSeqs: print s[0] + \"\\t\" + s[1]"
   ]
  },
  {
   "cell_type": "code",
   "execution_count": null,
   "metadata": {},
   "outputs": [],
   "source": [
    "# put tRNA_result into form showAlignments expects which is \n",
    "# list of lists with each internal list having format of\n",
    "# 1st 2 elements: [sequence, name] so we'll swap element 0 and 3 in tRNA_result\n",
    "for l in tRNA_result:\n",
    "    if len(l[0]) < 40: # probably not swapped with a tRNA sequence\n",
    "        l[0], l[3] = l[3], l[0]  # this is Python's swap syntax\n",
    "        l[1], l[3] = l[3], l[1]\n",
    "\n",
    "print\n",
    "print \"Alignment of {} sequences from {} taxa\".format( l[3], len(tRNA_result) )\n",
    "print\n",
    "showAlignments(tRNA_result)"
   ]
  },
  {
   "cell_type": "markdown",
   "metadata": {},
   "source": [
    "### Some regex code doing same thing with different tools (Python, awk, grep)\n",
    "\n",
    "Use Python's regular expression module **re** to get the name of the Dbxref ID in a gff line"
   ]
  },
  {
   "cell_type": "code",
   "execution_count": null,
   "metadata": {},
   "outputs": [],
   "source": [
    "gff_ln = \"NW_017852934.1\\tGnomon\\texon\\t63559\\t64173\\tID=id2;\"+ \\\n",
    "         \"Parent=rna0;Dbxref=GeneID:109596929,Genbank:XM_020012568.1;gbkey=mRNA;\"+ \\\n",
    "         \"gene=LOC109596929;product=putative ATP-dependent DNA helicase Q1;transcript_id=XM_020012568.1\"\n",
    "print gff_ln\n",
    "print\n",
    "\n",
    "import re\n",
    "\n",
    "id_re = \"Dbxref=([^,;]+)\"\n",
    "mtch = re.search(id_re, gff_ln)\n",
    "\n",
    "if mtch:\n",
    "    print mtch.group()\n",
    "    if mtch.groups(): # we have capture groups, print the first one\n",
    "        print mtch.group(1)\n"
   ]
  },
  {
   "cell_type": "markdown",
   "metadata": {},
   "source": [
    "Let's do the same regex extraction in **awk** for this gff style line"
   ]
  },
  {
   "cell_type": "code",
   "execution_count": null,
   "metadata": {},
   "outputs": [],
   "source": [
    "%%bash\n",
    "gff_ln=\"NW_017852934.1\\tGnomon\\texon\\t63559\\t64173\\tID=id2;Parent=rna0;Dbxref=GeneID:109596929,Genbank:XM_020012568.1;gbkey=mRNA;gene=LOC109596929;product=putative ATP-dependent DNA helicase Q1;transcript_id=XM_020012568.1\"\n",
    "echo -e $gff_ln # -e arg enables \\t to be interpreted as a tab character\n",
    "echo\n",
    "\n",
    "gawk 'match($0, \"Dbxref=([^,;]+)\", ary) {print substr($0,RSTART,RLENGTH); print ary[1]}' <(echo -e $gff_ln)"
   ]
  },
  {
   "cell_type": "markdown",
   "metadata": {},
   "source": [
    "**grep** is a little more complicated since it does not support *capture groups*. Those are what the parentheses define. They let us match a portion of a string and then extract a subportion from what matched. Unfortunately, grep doesn't have this.\n",
    "\n",
    "The **-o** option of grep outputs only the matched portion, not the entire line."
   ]
  },
  {
   "cell_type": "code",
   "execution_count": null,
   "metadata": {},
   "outputs": [],
   "source": [
    "%%bash\n",
    "gff_ln=\"NW_017852934.1\\tGnomon\\texon\\t63559\\t64173\\tID=id2;Parent=rna0;Dbxref=GeneID:109596929,Genbank:XM_020012568.1;gbkey=mRNA;gene=LOC109596929;product=putative ATP-dependent DNA helicase Q1;transcript_id=XM_020012568.1\"\n",
    "echo -e $gff_ln # -e arg enables \\t to be interpreted as a tab character\n",
    "echo\n",
    "\n",
    "echo -e $gff_ln | grep -o \"Dbxref=[^,;]*\"\n",
    "echo -e $gff_ln | grep -o \"Dbxref=[^,;]*\" | grep -o \"=.*\"\n",
    "echo -e $gff_ln | grep -o \"Dbxref=[^,;]*\" | grep -o \"=.*\" | grep -o \"[^=].*\""
   ]
  },
  {
   "cell_type": "markdown",
   "metadata": {},
   "source": [
    "In the above, the first grep gets us Dbxref and everything after it up to, but not including, a comma or semi-colon.\n",
    "The next grep takes this as input and gives us the = sign and everything after it. Then the third grep removes the = sign.\n",
    "\n",
    "It's a lot more tedious than if we had match groups signified by parentheses in the regular expression. And I'm not saying this is the best way to accomplish the result. Let me know if you come up with a better way to do this with the standard grep command."
   ]
  },
  {
   "cell_type": "markdown",
   "metadata": {},
   "source": [
    "### Various examples"
   ]
  },
  {
   "cell_type": "code",
   "execution_count": null,
   "metadata": {},
   "outputs": [],
   "source": [
    "def stats(num_list): # return min, Max and Average of the passed in numeric list\n",
    "    if len(num_list) == 0:\n",
    "        return 0, 0, 0\n",
    "\n",
    "    m = num_list[0] # set min as first element in list\n",
    "    M = num_list[0] # set Max as first element in list\n",
    "    s = 0           # initialize sum variable s to 0\n",
    "    \n",
    "    for n in num_list:\n",
    "        s += n    # update our running sum\n",
    "        if n < m: # reset min\n",
    "            m = n\n",
    "        elif n > M: # reset Max\n",
    "            M = n\n",
    "    A = s*1.0 / len(num_list)\n",
    "    \n",
    "    return m, M, A"
   ]
  },
  {
   "cell_type": "code",
   "execution_count": null,
   "metadata": {},
   "outputs": [],
   "source": [
    "number_list = [23, 45.6, 2, 987, -12]\n",
    "print number_list, \"== List to pass to our stats() function.\"\n",
    "print\n",
    "\n",
    "list_min, list_max, list_avg = stats( number_list )\n",
    "\n",
    "print \"{} is min, {} is Max, {} is Avg of list.\".format(list_min, list_max, list_avg)"
   ]
  },
  {
   "cell_type": "code",
   "execution_count": null,
   "metadata": {},
   "outputs": [],
   "source": [
    "print \"table of char codes can be found at https://unicode-table.com\"\n",
    "print \"notice strings are prefixed with a u in the Python code\"\n",
    "print\n",
    "print u\"using unicode: \\u00DCmlaut \\u00FC \\u00C6 \\u0996\"\n",
    "print u\"using unicode: \\u2713 \\u262F \\u221E \\u2766 \\u2705\"\n",
    "print u\"so many cats:  \\U0001F408  \\U0001F431  \\U0001F638  \\U0001F639  \\U0001F63A  \\U0001F63B\",\n",
    "print u\" \\U0001F63C  \\U0001F63D  \\U0001F63E  \\U0001F63F  \\U0001F640\"\n"
   ]
  },
  {
   "cell_type": "code",
   "execution_count": null,
   "metadata": {},
   "outputs": [],
   "source": []
  }
 ],
 "metadata": {
  "kernelspec": {
   "display_name": "Python 2",
   "language": "python",
   "name": "python2"
  },
  "language_info": {
   "codemirror_mode": {
    "name": "ipython",
    "version": 2
   },
   "file_extension": ".py",
   "mimetype": "text/x-python",
   "name": "python",
   "nbconvert_exporter": "python",
   "pygments_lexer": "ipython2",
   "version": "2.7.10"
  }
 },
 "nbformat": 4,
 "nbformat_minor": 2
}
