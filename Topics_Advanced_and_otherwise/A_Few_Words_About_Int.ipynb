{
 "cells": [
  {
   "cell_type": "markdown",
   "metadata": {},
   "source": [
    "# Size of Int, Issues with Int & Float Division, and what's the Print function"
   ]
  },
  {
   "cell_type": "markdown",
   "metadata": {},
   "source": [
    "## (1) Python data types and how big is an Int\n",
    "Quick recap: Python has integers, floating point numbers and strings. These can be stored in named variables and composited in lists, dictionaries (Python name for maps) and classes.\n",
    "These are fewer than you'll find in most other programming languages. And that's a *feature* not a bug. (There's also a data type complex, and a compositor tuple that's like list but can't be modified once created.)\n",
    "\n",
    "You've seen all this before:\n",
    "+ int example:    **5280**\n",
    "+ float example:  **3.14**\n",
    "+ string example: **\"Strix occidentalis caurina\"**\n",
    "\n",
    "When storing such a thing into a variable, Python figures out what data type to use from the item itself. This is also something that you do not see in many other progamming languages. Most want you to ***declare*** the type of a variable before you store anything into it. How pedantic.\n",
    "\n",
    "There is also a long integer data type. But what I want to show you is that you will probably never need it and even if you do, Python will handle this for you; at least it will since version 2.2 and we are all using version 2.7 of Python. **Version 2.7 is the *de facto* version used by the bioinformatic community.**\n",
    "\n",
    "Fyi, here's how we can check the version we are running. As usual in Python, there's more than one way and I'm just showing you a couple of them here."
   ]
  },
  {
   "cell_type": "code",
   "execution_count": null,
   "metadata": {},
   "outputs": [],
   "source": [
    "import sys\n",
    "print sys.version\n",
    "print\n",
    "print sys.version_info\n",
    "print\n",
    "print \"Major minor\",sys.version_info[0:2]"
   ]
  },
  {
   "cell_type": "markdown",
   "metadata": {},
   "source": [
    "### So how big is an *int* in Python\n",
    "We imported the **sys** class in the example above. It has a lot of useful info we can view about the system. But since Python wants to run lean and mean this module is not included by default. It can show us the largest integer that Python can hold."
   ]
  },
  {
   "cell_type": "code",
   "execution_count": null,
   "metadata": {},
   "outputs": [],
   "source": [
    "import sys\n",
    "print sys.maxint"
   ]
  },
  {
   "cell_type": "markdown",
   "metadata": {},
   "source": [
    "Wow, that's a big number. It would be nice to see some commas to make it more readable.\n",
    "\n",
    "The way to do this is a little more complicated and different in most every programming language. As an aside, since I bop between programming languages like Python or javascript a lot, I often write a function called commafy() in each language so I won't have to look this thing up every other week."
   ]
  },
  {
   "cell_type": "code",
   "execution_count": null,
   "metadata": {},
   "outputs": [],
   "source": [
    "print \"{:,}\".format(sys.maxint)"
   ]
  },
  {
   "cell_type": "markdown",
   "metadata": {},
   "source": [
    "I know that if I see 4 commas that's a trillion, but we've got 6 commas. Five means quadrillion and six gives us quintillion. By the way, I didn't remember that, I had to look it up.\n",
    "\n",
    "So if we had to say this (and I hope we never do) it would be:\n",
    "*nine quintillion, two hundred twenty three quadrillion, three hundred seventy two trillion, thirty six billion, eight hundred fifty four million, seven hundred seventy five thousand, eight hundred seven.*\n",
    "\n",
    "We can see an approximation of this value in scientific notation using the format specifier again. That 18 divided by 3 also tells us we'd have 6 commas."
   ]
  },
  {
   "cell_type": "code",
   "execution_count": null,
   "metadata": {},
   "outputs": [],
   "source": [
    "print \"{:E}\".format(sys.maxint)"
   ]
  },
  {
   "cell_type": "markdown",
   "metadata": {},
   "source": [
    "And remember that's Python's biggest integer. We can show it's an int type using **type** of course"
   ]
  },
  {
   "cell_type": "code",
   "execution_count": null,
   "metadata": {},
   "outputs": [],
   "source": [
    "biggest_int = sys.maxint\n",
    "type(biggest_int)"
   ]
  },
  {
   "cell_type": "markdown",
   "metadata": {},
   "source": [
    "### Where does that wacky number come from\n",
    "\n",
    "Computers store everything in binary which only has 0 or 1 as digits, while we most often use decimal which has 0 and 1 to 9 as digits. \n",
    "\n",
    "Each **b**inary dig**it** is termed a **bit** and if you look at the emphasis to the left I'll think you'll know what bit is short for. Computer chips, aka CPUs, are built to have a preferred size of what's called a computer word. That's what is referred to when someone says they are running 64 bit Windows, for example.\n",
    "\n",
    "This is what gives us the clue for where that 9 quintillion number comes from. The natural integer size for a system is often the word size for the computer. Each bit in the word means we have twice as many numbers we can count up to. So a 4 bit word would mean 2\\*2\\*2\\*2 or 16 things we could count. This 16 is also represented by\n",
    "$2^{4}$. And with this word size we could count from 0 up to 15.\n",
    "\n",
    "So our big number must be $2^{64}$ right? Almost, but we don't want to just count from 0 up to a maximum number. An integer can also be a negative number. The most common way to accomodate positive and negative numbers in a computer word is to use the highest order bit as a flag to mean a negative number. Don't worry what that means. The main point is that by stealing a bit we reduce the biggest number by half. So our 4 bit word could count from 0 to 7 but in return we get to count down from 0 to -7.\n",
    "\n",
    "First, let's see how Python handles *2 to the power of* operations. $2^{4}$ is represented as **2\\*\\*4** in Python. Or, you use the pow() function which takes two arguments, so **pow(2,4)**."
   ]
  },
  {
   "cell_type": "code",
   "execution_count": null,
   "metadata": {},
   "outputs": [],
   "source": [
    "# Python uses ** to mean power of\n",
    "print 2**4, \"is 2 to the 4th\"\n",
    "print 2**3, \"is 2 cubed\"\n",
    "print 2**16, \"is 2 to the 16th\"\n",
    "\n",
    "# You can also use the built-in function pow() to do the same thing. The choice is yours.\n",
    "print pow(2,32), \"is 2 to the 32\""
   ]
  },
  {
   "cell_type": "markdown",
   "metadata": {},
   "source": [
    "Remember we used a bit from our 4 bit word example to handle negative integers. So 2 cubed or $2^{3}$ or 2\\*\\*3 is 8 as we see in the result above. This means we can count up to 8, but we start counting at 0 not 1. Therefore we can represent 0 through 7. This works all the way up for each larger and larger computer word. The largest positive integer represented by a word size of N bits is going to be $2^{N-1}-1$. \n",
    "\n",
    "So for N=4 that's $2^{4-1}-1 == 2^{3}-1 == 8-1 == 7$"
   ]
  },
  {
   "cell_type": "code",
   "execution_count": null,
   "metadata": {},
   "outputs": [],
   "source": [
    "def print_max_int_for_N(N):\n",
    "    print N, \"bits can represent\", 2**(N-1)-1, \"as its maximum integer\"\n",
    "N=4\n",
    "print_max_int_for_N(N)\n",
    "N=8\n",
    "print_max_int_for_N(N)\n",
    "print_max_int_for_N(16)\n",
    "print_max_int_for_N(32)\n",
    "print_max_int_for_N(64)\n",
    "print \"Remind me bout maxint\", sys.maxint, \"is sys.maxint\""
   ]
  },
  {
   "cell_type": "markdown",
   "metadata": {},
   "source": [
    "You can probably see that the 64 bit maxint is exactly what our Python sys.maxint contains.\n",
    "\n",
    "Now just a few more things about long integers and how Python handles everything behind the scene and we'll be done with this."
   ]
  },
  {
   "cell_type": "code",
   "execution_count": null,
   "metadata": {},
   "outputs": [],
   "source": [
    "biggest_int = sys.maxint\n",
    "print biggest_int, type(biggest_int)\n",
    "print\n",
    "big_num = biggest_int + 1\n",
    "print big_num, type(big_num)\n",
    "big_num = big_num - 223372036854775808\n",
    "print big_num, type(big_num)\n",
    "big_num = biggest_int * 2**32\n",
    "print big_num, type(big_num)\n",
    "big_num = big_num - big_num\n",
    "print big_num, type(big_num)"
   ]
  },
  {
   "cell_type": "markdown",
   "metadata": {},
   "source": [
    "Notice above we've got the first line of output showing the biggest int and its type as **int**. Then we add 1 to that value and assign it to a variable named big_num. We see that big_num is indeed 1 greater but has type **long**.\n",
    "\n",
    "After this we subtract everything to leave an even 9 quintillion in big_num. It stays a **long** integer.\n",
    "\n",
    "As a long integer we can make really, really big numbers. I don't even know how to say that next one. But even when we subtract it from itself the 0 is a long integer.\n",
    "\n",
    "Bottom line: Python **int**s are really big and even when you need bigger integers, Python will handle it seamlessly for you behind the scene."
   ]
  },
  {
   "cell_type": "markdown",
   "metadata": {},
   "source": [
    "## (2) Dividing Numbers\n",
    "#### Why is this a thing or the Great Division Division\n",
    "Originally in Python and in the version we are using (i.e., version 2.7) the division operator **/** has a somewhat unexpected implementation. It changes its meaning based on the argument types in use. That is, if both arguments are **int**s it acts one way and if at least one argument is a **float** (or complex) it behaves another way. Huh?\n",
    "\n",
    "This has been changed in the Version 3 implementations of Python.\n",
    "\n",
    "Luckily, with just a little work we can avail ourselves of the version 3 solution if we want to do this. Otherwise, there are a couple of ways to get your desired result. Let's see the issue."
   ]
  },
  {
   "cell_type": "code",
   "execution_count": null,
   "metadata": {},
   "outputs": [],
   "source": [
    "print \"#do some division with ints\"\n",
    "print 24/3, \"(24/3 gives us 8, no surprise)\"\n",
    "print 3/2, \"(3/2 gives us 1, we were expecting something a little bit more like 1.5)\"\n",
    "print\n",
    "print \"#do some division with a float\"\n",
    "print \"24/3.0 =\", 24/3.0, \"\\n24/float(3) =\", 24/float(3), \"\\n24.0/3 =\", 24.0/3\n",
    "print\n",
    "print \"#now let's see if we can get 1.5\"\n",
    "print 3/2.0, \"#yep 3/2.0 does it\"\n",
    "print float(3)/2, \"#so does float(3)/2\""
   ]
  },
  {
   "cell_type": "markdown",
   "metadata": {},
   "source": [
    "Ok, we see what we have to do. If we don't want our result truncated we have to represent one of the args as a float. Either one or both will do. And you can just add a .0 if it is a constant integer expression like 34 or you can use the **float** function. That's probably what you would use more often since the value will likely be in a variable.\n",
    "\n",
    "This truncation to an integer is called for on occassion but 99 times out of 100 you want 3/2 to give you 1.5 not 1 as an answer.\n",
    "\n",
    "When Version 3 of Python came out they added a new operator for this integer truncation concept. This concept is called floor() in the math books. This new operator is a double slash instead of the single slash for division. So it looks like **3//2** if you really want this result to be truncated to 1 for you.\n",
    "\n",
    "One nice thing is that this floor operator, the double slash, does the same thing in Version 2.7 and Version 3.x Python. It has the same programmatic semantics. So you can use this when you want this behavior."
   ]
  },
  {
   "cell_type": "code",
   "execution_count": null,
   "metadata": {},
   "outputs": [],
   "source": [
    "print float(3)//2\n",
    "print 3//2"
   ]
  },
  {
   "cell_type": "markdown",
   "metadata": {},
   "source": [
    "Alright, that's great to have the few times I want to do that. But it would be nice to not have to remember to convert one of the args to a float when I want 3/2 to give me 1.5.\n",
    "\n",
    "Short of moving to Python 3, which is a non-starter, is there a better way. There is a one and done way per file to get the expected workings for the division single slash operator. Then the slash and double slash would work the same in Version 2.7 as they do in the Version 3 family."
   ]
  },
  {
   "cell_type": "code",
   "execution_count": null,
   "metadata": {},
   "outputs": [],
   "source": [
    "print \"3/2 =\",3/2\n",
    "print \"3//2 =\",3//2\n",
    "print \"Bring in the new style division with from __future__ import division\"\n",
    "from __future__ import division\n",
    "print \"3/2 =\",3/2\n",
    "print \"3//2 =\",3//2\n",
    "print \"Note: after we change how division works, it'll stick that way until we Reload & Clear Ouput the notebook Kernel\""
   ]
  },
  {
   "cell_type": "markdown",
   "metadata": {},
   "source": [
    "After you have run the above with the **from \\_\\_future\\_\\_ import division** line it will change how division works until you **Reload & Clear Ouput** for this notebook Kernel.\n",
    "\n",
    "Bottom line: if you include the line **from \\_\\_future\\_\\_ import division** at the top of your Python files you'll get the expected behavior. And that's two underscores before future and two underscores after future. You'll get the error *ImportError: No module named \\_future\\_* if you use only a single underscore."
   ]
  },
  {
   "cell_type": "markdown",
   "metadata": {},
   "source": [
    "## (3) One last note about print in the different versions\n",
    "I know this isn't about **int** but while we are thinking about differences between Python versions I thought I would mention one thing about print in version 2 and version 3. Let's see an example print statement in our Version 2.7."
   ]
  },
  {
   "cell_type": "code",
   "execution_count": null,
   "metadata": {},
   "outputs": [],
   "source": [
    "print \"Just the facts, no extraneous symbols needed except quotes to denote a string\""
   ]
  },
  {
   "cell_type": "markdown",
   "metadata": {},
   "source": [
    "The simplicity in the above incorporates the original mindset of Python's creator Guido van Rossum. Try to make this as simple for the human as possible.\n",
    "\n",
    "As a quick comparison here's the original example program that makes students worldwide start every introductory programming class having their computer print out Hello World. My copy of the book with this example, *The C Programming Language*,  colloquially called K&R, is from 1978:\n",
    "\n",
    "```c\n",
    "main()\n",
    "{\n",
    "    printf(\"hello, world\\n\");\n",
    "}\n",
    "```\n",
    "And after saving this incantation into a file named **hello.c** you run the command **cc hello.c** and then run **a.out** to get the words **hello, world** to appear on your screen. This was progress back in the day.\n",
    "\n",
    "In Version 3 of Python the print ***statement*** is replaced by the print ***function*** and has a slightly different syntax."
   ]
  },
  {
   "cell_type": "code",
   "execution_count": null,
   "metadata": {},
   "outputs": [],
   "source": [
    "# here's an example that just happens to work the same way in Version 2 and Version 3\n",
    "print(\"Mostly just the facts, but in Version 3 we must use parentheses to enclose the arguments\")"
   ]
  },
  {
   "cell_type": "markdown",
   "metadata": {},
   "source": [
    "Here's an example that shows that the parentheses (aka parens) don't do exactly what we expect when there is more than a single argument."
   ]
  },
  {
   "cell_type": "code",
   "execution_count": null,
   "metadata": {},
   "outputs": [],
   "source": [
    "# print statement and what looks like a function but really isn't in Version 2\n",
    "print \"one\", \"two\", \"three\"\n",
    "print(\"one\", \"two\", \"three\")"
   ]
  },
  {
   "cell_type": "markdown",
   "metadata": {},
   "source": [
    "There were good reasons to move **print** to be a function. You can do internet searches to find various rationale. It was really the only kind of special purpose statement of this kind in the language.\n",
    "\n",
    "What you lose is that clean look that introduces you to Python and inherent simplicity. You can put off grappling with the notion of a function until after you get int, float, string and variables.\n",
    "\n",
    "But functions are introduced pretty quickly and all functions have that format of function name followed by comma separated arguments enclosed in parens. And that makes for consistency. Also there were some really funky things that accreted into the print statement syntax like the dangling comma at the end to repress the new line, and the quirky syntax for output to a file. These and more are handled more cleanly in the print function."
   ]
  },
  {
   "cell_type": "markdown",
   "metadata": {},
   "source": [
    "### Ok, so why are you telling me this.\n",
    "\n",
    "Well just as with the division issue discussed above, if you want to make your programs have a good chance of running the same way in Version 2 and Version 3 you can change print to be a function in Version 2. You do this in the same way as we fixed the single slash to work in the traditional way.\n",
    "\n",
    "To change print from being a statement to being a function use **from \\_\\_future\\_\\_ import print_function** at the top of your Python file. But beware, all existing print ***statements*** will now cause an error. You have to use the parens around the arguments everywhere after this change."
   ]
  },
  {
   "cell_type": "code",
   "execution_count": null,
   "metadata": {},
   "outputs": [],
   "source": [
    "from __future__ import print_function\n",
    "print(\"one\", \"two\", \"three\")\n",
    "#print \"one\", \"two\", \"three\" # don't do this it will throw an error (go ahead remove the # and try it)"
   ]
  },
  {
   "cell_type": "markdown",
   "metadata": {},
   "source": [
    "Just like the division import change, the print statement is gone in this tutorial until you **Restart & Clear Output** for this notebook. By the way, both changes can be done in a single line.\n",
    "```python\n",
    "from __future__ import print_function, division\n",
    "```"
   ]
  },
  {
   "cell_type": "markdown",
   "metadata": {},
   "source": [
    "## Bottom, Bottom Line\n",
    "\n",
    "Don't worry about **long** integers in Python, the **int** is plenty big and changes into a long as needed behind the scene.\n",
    "\n",
    "If you don't want to be surprised by integers being divided yielding an integer result, add **from \\_\\_future\\_\\_ import division** at the top of your Python file.\n",
    "\n",
    "If you want to use the Version 3 print ***function*** with its added functionality and don't mind losing the print ***statement***, then add **from \\_\\_future\\_\\_ import print_function** at the top of your Python file.\n",
    "\n",
    "And, finally, if you want to change both the division semantics and print into a function add the following to the top of your Python file.\n",
    "```python\n",
    "from __future__ import print_function, division\n",
    "```\n",
    "You can have blank lines and comments above this in your file, but not much else is allowed since it changes some fundamental things."
   ]
  },
  {
   "cell_type": "code",
   "execution_count": null,
   "metadata": {},
   "outputs": [],
   "source": [
    "glb=globals();\n",
    "for g in glb:\n",
    "    if g[0]!=\"_\": print (g)"
   ]
  }
 ],
 "metadata": {
  "kernelspec": {
   "display_name": "Python 2",
   "language": "python",
   "name": "python2"
  },
  "language_info": {
   "codemirror_mode": {
    "name": "ipython",
    "version": 2
   },
   "file_extension": ".py",
   "mimetype": "text/x-python",
   "name": "python",
   "nbconvert_exporter": "python",
   "pygments_lexer": "ipython2",
   "version": "2.7.10"
  }
 },
 "nbformat": 4,
 "nbformat_minor": 2
}
