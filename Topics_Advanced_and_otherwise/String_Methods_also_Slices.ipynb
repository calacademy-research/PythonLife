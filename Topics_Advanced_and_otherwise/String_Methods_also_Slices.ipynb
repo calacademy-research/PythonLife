{
 "cells": [
  {
   "cell_type": "markdown",
   "metadata": {},
   "source": [
    "## Slices, String & List, and String Methods"
   ]
  },
  {
   "cell_type": "markdown",
   "metadata": {},
   "source": [
    "Quick review of string indexing and slices."
   ]
  },
  {
   "cell_type": "code",
   "execution_count": 1,
   "metadata": {},
   "outputs": [
    {
     "name": "stdout",
     "output_type": "stream",
     "text": [
      "st = 'abcdefgh'\n",
      "ix is 01234567\n",
      "\n",
      "First char is at index 0 and is st[0]: 'a'\n",
      "Last char, the 8th, is at index 7 and is st[7]: 'h'\n"
     ]
    }
   ],
   "source": [
    "st = 'abcdefgh'\n",
    "ix = '01234567'\n",
    "\n",
    "print \"st = '{}'\\nix is {}\".format(st,ix)\n",
    "print\n",
    "print \"First char is at index 0 and is st[0]: '{}'\".format( st[0] )\n",
    "print \"Last char, the 8th, is at index 7 and is st[7]: '{}'\".format( st[7] )"
   ]
  },
  {
   "cell_type": "markdown",
   "metadata": {},
   "source": [
    "You can pull out pieces of a string using the [*start*:*end*] syntax.\n",
    "\n",
    "The name for this is **slice**. Slices work the same way for lists.\n",
    "The *start* and *end* must each evaluate to an int, or be absent to use a default int value.\n",
    "\n",
    "The *end* value is *exclusionary* meaning it excludes the indexed character (or list item for lists). You see this in the example below."
   ]
  },
  {
   "cell_type": "code",
   "execution_count": 2,
   "metadata": {},
   "outputs": [
    {
     "name": "stdout",
     "output_type": "stream",
     "text": [
      "1st to 5th char is st[0:5]: abcde\n",
      "You can also leave out 0, st[:5] abcde\n",
      "\n",
      "Note that st[5] is 'f' and was not included in the slice, it was excluded.\n"
     ]
    }
   ],
   "source": [
    "print \"1st to 5th char is st[0:5]:\", st[0:5]\n",
    "print \"You can also leave out 0, st[:5]\", st[:5]\n",
    "print\n",
    "print \"Note that st[5] is '{}' and was not included in the slice, it was excluded.\".format( st[5] )"
   ]
  },
  {
   "cell_type": "code",
   "execution_count": 3,
   "metadata": {},
   "outputs": [
    {
     "name": "stdout",
     "output_type": "stream",
     "text": [
      "2nd to 5th char is st[1:5] bcde\n"
     ]
    }
   ],
   "source": [
    "print \"2nd to 5th char is st[1:5]\", st[1:5]"
   ]
  },
  {
   "cell_type": "code",
   "execution_count": 4,
   "metadata": {},
   "outputs": [
    {
     "name": "stdout",
     "output_type": "stream",
     "text": [
      "2nd to last char is st[1:len(st)]:  bcdefgh\n",
      "You can also leave out the len(st): bcdefgh\n"
     ]
    }
   ],
   "source": [
    "print \"2nd to last char is st[1:len(st)]: \", st[1 : len(st)]\n",
    "print \"You can also leave out the len(st):\", st[1:]"
   ]
  },
  {
   "cell_type": "markdown",
   "metadata": {},
   "source": [
    "I think that it was the desire to use the length of the string as the *end* value that prompted the designer of Python to make the *end* value exclusionary.\n",
    "\n",
    "You'll usually assign the slice to a variable if you want to do more than just print it."
   ]
  },
  {
   "cell_type": "code",
   "execution_count": 5,
   "metadata": {},
   "outputs": [
    {
     "name": "stdout",
     "output_type": "stream",
     "text": [
      "defg\n"
     ]
    }
   ],
   "source": [
    "my_slice = st[3:7]\n",
    "print my_slice"
   ]
  },
  {
   "cell_type": "markdown",
   "metadata": {},
   "source": [
    "The string index can be negative to refer to the characters at the end of the string.<br>True for single index of a character and for the slice values. Also works the same way for list objects."
   ]
  },
  {
   "cell_type": "code",
   "execution_count": 6,
   "metadata": {},
   "outputs": [
    {
     "name": "stdout",
     "output_type": "stream",
     "text": [
      "Last char can referenced as st[-1]: 'h'\n",
      "2nd to last char can referenced as st[-2]: 'g'\n"
     ]
    }
   ],
   "source": [
    "print \"Last char can referenced as st[-1]: '{}'\".format( st[-1] )\n",
    "print \"2nd to last char can referenced as st[-2]: '{}'\".format( st[-2] )"
   ]
  },
  {
   "cell_type": "code",
   "execution_count": 7,
   "metadata": {},
   "outputs": [
    {
     "name": "stdout",
     "output_type": "stream",
     "text": [
      "Last 4 chars of the string are st[-4:]: efgh\n",
      "Final 4 but exclude the last char is st[-4:-1]: efg\n"
     ]
    }
   ],
   "source": [
    "print \"Last 4 chars of the string are st[-4:]: {}\".format( st[-4:] )\n",
    "print \"Final 4 but exclude the last char is st[-4:-1]: {}\".format( st[-4:-1] )"
   ]
  },
  {
   "cell_type": "markdown",
   "metadata": {},
   "source": [
    "Strings are immutable, i.e., can't be changed once created. Not true for Python lists and dictionaries, they are mutable.\n",
    "<br>See the error below when we try to change 'c' to 'C' in place in the string."
   ]
  },
  {
   "cell_type": "code",
   "execution_count": 8,
   "metadata": {},
   "outputs": [
    {
     "name": "stdout",
     "output_type": "stream",
     "text": [
      "abcdefgh\n"
     ]
    },
    {
     "ename": "TypeError",
     "evalue": "'str' object does not support item assignment",
     "output_type": "error",
     "traceback": [
      "\u001b[0;31m---------------------------------------------------------------------------\u001b[0m",
      "\u001b[0;31mTypeError\u001b[0m                                 Traceback (most recent call last)",
      "\u001b[0;32m<ipython-input-8-85b642cdbb6f>\u001b[0m in \u001b[0;36m<module>\u001b[0;34m()\u001b[0m\n\u001b[1;32m      1\u001b[0m \u001b[0;32mprint\u001b[0m \u001b[0mst\u001b[0m\u001b[0;34m\u001b[0m\u001b[0m\n\u001b[0;32m----> 2\u001b[0;31m \u001b[0mst\u001b[0m\u001b[0;34m[\u001b[0m\u001b[0;36m2\u001b[0m\u001b[0;34m]\u001b[0m \u001b[0;34m=\u001b[0m \u001b[0;34m'C'\u001b[0m\u001b[0;34m\u001b[0m\u001b[0m\n\u001b[0m",
      "\u001b[0;31mTypeError\u001b[0m: 'str' object does not support item assignment"
     ]
    }
   ],
   "source": [
    "print st\n",
    "st[2] = 'C'"
   ]
  },
  {
   "cell_type": "markdown",
   "metadata": {},
   "source": [
    "Strings are immutable but you can reassign a value to the same variable name. If we use slices to make our change by reassigning to **st**, then a new immutable string is created and our variable will now point to it."
   ]
  },
  {
   "cell_type": "code",
   "execution_count": 9,
   "metadata": {},
   "outputs": [
    {
     "name": "stdout",
     "output_type": "stream",
     "text": [
      "new_st made from st slices: abCdefgh\n",
      "st reassigned with slices: abCdefgh\n"
     ]
    }
   ],
   "source": [
    "new_st = st[0:2] + 'C' + st[3:]\n",
    "st     = st[0:2] + 'C' + st[3:]\n",
    "\n",
    "print 'new_st made from st slices:', new_st\n",
    "print 'st reassigned with slices:', st"
   ]
  },
  {
   "cell_type": "markdown",
   "metadata": {},
   "source": [
    "**Slices** work the same way for lists. Let's turn our string into a list and then we'll change the first item to be 'alpha' instead of 'a' so you can see that list items can be more than a single character. We'll also change the final entry to 'omega' of course."
   ]
  },
  {
   "cell_type": "code",
   "execution_count": 10,
   "metadata": {},
   "outputs": [
    {
     "name": "stdout",
     "output_type": "stream",
     "text": [
      "Turn our string into a list (useful for teaching not much else)\n",
      "lst = list(st) and lst becomes:\n",
      "\n",
      "['a', 'b', 'C', 'd', 'e', 'f', 'g', 'h']\n"
     ]
    }
   ],
   "source": [
    "lst = list(st)\n",
    "print \"Turn our string into a list (useful for teaching not much else)\"\n",
    "print \"lst = list(st) and lst becomes:\"\n",
    "print\n",
    "print lst"
   ]
  },
  {
   "cell_type": "code",
   "execution_count": 11,
   "metadata": {},
   "outputs": [
    {
     "name": "stdout",
     "output_type": "stream",
     "text": [
      "Let's make first and last values longer than 1 char (lists, unlike, strings can be modified):\n",
      "\n",
      "['alpha', 'b', 'C', 'd', 'e', 'f', 'g', 'omega']\n"
     ]
    }
   ],
   "source": [
    "print \"Let's make first and last values longer than 1 char (lists, unlike, strings can be modified):\\n\"\n",
    "\n",
    "lst[0]  = 'alpha'\n",
    "lst[-1] = 'omega'\n",
    "print lst"
   ]
  },
  {
   "cell_type": "code",
   "execution_count": 12,
   "metadata": {},
   "outputs": [
    {
     "name": "stdout",
     "output_type": "stream",
     "text": [
      "First item is at index 0 and is lst[0]: 'alpha'\n",
      "\n",
      "Last item, the 8th, is at index 7 and is lst[7]:      'omega'\n",
      "We can also use -1 to get the last item with lst[-1]: 'omega'\n"
     ]
    }
   ],
   "source": [
    "print \"First item is at index 0 and is lst[0]: '{}'\".format( lst[0] )\n",
    "print\n",
    "print \"Last item, the 8th, is at index 7 and is lst[7]:      '{}'\".format( lst[7] )\n",
    "print \"We can also use -1 to get the last item with lst[-1]: '{}'\".format( lst[-1] )"
   ]
  },
  {
   "cell_type": "code",
   "execution_count": 13,
   "metadata": {},
   "outputs": [
    {
     "name": "stdout",
     "output_type": "stream",
     "text": [
      "Third item, 'c', to last item with lst[2:] ['C', 'd', 'e', 'f', 'g', 'omega']\n",
      "Same as above except exclude last item, lst[2:-1] ['C', 'd', 'e', 'f', 'g']\n"
     ]
    }
   ],
   "source": [
    "print \"Third item, 'c', to last item with lst[2:]\", lst[2:]\n",
    "print \"Same as above except exclude last item, lst[2:-1]\", lst[2:-1]"
   ]
  },
  {
   "cell_type": "markdown",
   "metadata": {},
   "source": [
    "### String Methods as well as List and Dictionary Methods\n",
    "Back to strings, though we'll see lists and dictionary methods too. Let's see what methods can be called from a string. We'll also try to make documentation links to them. Don't worry much about the code below if it doesn't make sense.\n",
    "It packs a lot into a small space."
   ]
  },
  {
   "cell_type": "code",
   "execution_count": 14,
   "metadata": {},
   "outputs": [
    {
     "data": {
      "text/plain": [
       "['capitalize',\n",
       " 'center',\n",
       " 'count',\n",
       " 'decode',\n",
       " 'encode',\n",
       " 'endswith',\n",
       " 'expandtabs',\n",
       " 'find',\n",
       " 'format',\n",
       " 'index',\n",
       " 'isalnum',\n",
       " 'isalpha',\n",
       " 'isdigit',\n",
       " 'islower',\n",
       " 'isspace',\n",
       " 'istitle',\n",
       " 'isupper',\n",
       " 'join',\n",
       " 'ljust',\n",
       " 'lower',\n",
       " 'lstrip',\n",
       " 'partition',\n",
       " 'replace',\n",
       " 'rfind',\n",
       " 'rindex',\n",
       " 'rjust',\n",
       " 'rpartition',\n",
       " 'rsplit',\n",
       " 'rstrip',\n",
       " 'split',\n",
       " 'splitlines',\n",
       " 'startswith',\n",
       " 'strip',\n",
       " 'swapcase',\n",
       " 'title',\n",
       " 'translate',\n",
       " 'upper',\n",
       " 'zfill']"
      ]
     },
     "execution_count": 14,
     "metadata": {},
     "output_type": "execute_result"
    }
   ],
   "source": [
    "string_methods = [method for method in dir(\"any string\") if not method.startswith(\"_\")]\n",
    "string_methods # let's ask Python to output them in a one per line format"
   ]
  },
  {
   "cell_type": "markdown",
   "metadata": {},
   "source": [
    "**String method documentation links at Tutorial Point**<br><br>[capitalize](https://www.tutorialspoint.com/python/string_capitalize.htm \"string capitalize method documentation\")&nbsp;&nbsp;&nbsp; [center](https://www.tutorialspoint.com/python/string_center.htm \"string center method documentation\")&nbsp;&nbsp;&nbsp; [count](https://www.tutorialspoint.com/python/string_count.htm \"string count method documentation\")&nbsp;&nbsp;&nbsp; [decode](https://www.tutorialspoint.com/python/string_decode.htm \"string decode method documentation\")&nbsp;&nbsp;&nbsp; [encode](https://www.tutorialspoint.com/python/string_encode.htm \"string encode method documentation\")&nbsp;&nbsp;&nbsp; [endswith](https://www.tutorialspoint.com/python/string_endswith.htm \"string endswith method documentation\")&nbsp;&nbsp;&nbsp; [expandtabs](https://www.tutorialspoint.com/python/string_expandtabs.htm \"string expandtabs method documentation\")&nbsp;&nbsp;&nbsp; [find](https://www.tutorialspoint.com/python/string_find.htm \"string find method documentation\")&nbsp;&nbsp;&nbsp; [format](https://www.tutorialspoint.com/python/string_format.htm \"string format method documentation\")&nbsp;&nbsp;&nbsp; [index](https://www.tutorialspoint.com/python/string_index.htm \"string index method documentation\")&nbsp;&nbsp;&nbsp; [isalnum](https://www.tutorialspoint.com/python/string_isalnum.htm \"string isalnum method documentation\")&nbsp;&nbsp;&nbsp; [isalpha](https://www.tutorialspoint.com/python/string_isalpha.htm \"string isalpha method documentation\")&nbsp;&nbsp;&nbsp; [isdigit](https://www.tutorialspoint.com/python/string_isdigit.htm \"string isdigit method documentation\")&nbsp;&nbsp;&nbsp; [islower](https://www.tutorialspoint.com/python/string_islower.htm \"string islower method documentation\")&nbsp;&nbsp;&nbsp; [isspace](https://www.tutorialspoint.com/python/string_isspace.htm \"string isspace method documentation\")&nbsp;&nbsp;&nbsp; [istitle](https://www.tutorialspoint.com/python/string_istitle.htm \"string istitle method documentation\")&nbsp;&nbsp;&nbsp; [isupper](https://www.tutorialspoint.com/python/string_isupper.htm \"string isupper method documentation\")&nbsp;&nbsp;&nbsp; [join](https://www.tutorialspoint.com/python/string_join.htm \"string join method documentation\")&nbsp;&nbsp;&nbsp; [ljust](https://www.tutorialspoint.com/python/string_ljust.htm \"string ljust method documentation\")&nbsp;&nbsp;&nbsp; [lower](https://www.tutorialspoint.com/python/string_lower.htm \"string lower method documentation\")&nbsp;&nbsp;&nbsp; [lstrip](https://www.tutorialspoint.com/python/string_lstrip.htm \"string lstrip method documentation\")&nbsp;&nbsp;&nbsp; [partition](https://www.tutorialspoint.com/python/string_partition.htm \"string partition method documentation\")&nbsp;&nbsp;&nbsp; [replace](https://www.tutorialspoint.com/python/string_replace.htm \"string replace method documentation\")&nbsp;&nbsp;&nbsp; [rfind](https://www.tutorialspoint.com/python/string_rfind.htm \"string rfind method documentation\")&nbsp;&nbsp;&nbsp; [rindex](https://www.tutorialspoint.com/python/string_rindex.htm \"string rindex method documentation\")&nbsp;&nbsp;&nbsp; [rjust](https://www.tutorialspoint.com/python/string_rjust.htm \"string rjust method documentation\")&nbsp;&nbsp;&nbsp; [rpartition](https://www.tutorialspoint.com/python/string_rpartition.htm \"string rpartition method documentation\")&nbsp;&nbsp;&nbsp; [rsplit](https://www.tutorialspoint.com/python/string_rsplit.htm \"string rsplit method documentation\")&nbsp;&nbsp;&nbsp; [rstrip](https://www.tutorialspoint.com/python/string_rstrip.htm \"string rstrip method documentation\")&nbsp;&nbsp;&nbsp; [split](https://www.tutorialspoint.com/python/string_split.htm \"string split method documentation\")&nbsp;&nbsp;&nbsp; [splitlines](https://www.tutorialspoint.com/python/string_splitlines.htm \"string splitlines method documentation\")&nbsp;&nbsp;&nbsp; [startswith](https://www.tutorialspoint.com/python/string_startswith.htm \"string startswith method documentation\")&nbsp;&nbsp;&nbsp; [strip](https://www.tutorialspoint.com/python/string_strip.htm \"string strip method documentation\")&nbsp;&nbsp;&nbsp; [swapcase](https://www.tutorialspoint.com/python/string_swapcase.htm \"string swapcase method documentation\")&nbsp;&nbsp;&nbsp; [title](https://www.tutorialspoint.com/python/string_title.htm \"string title method documentation\")&nbsp;&nbsp;&nbsp; [translate](https://www.tutorialspoint.com/python/string_translate.htm \"string translate method documentation\")&nbsp;&nbsp;&nbsp; [upper](https://www.tutorialspoint.com/python/string_upper.htm \"string upper method documentation\")&nbsp;&nbsp;&nbsp; [zfill](https://www.tutorialspoint.com/python/string_zfill.htm \"string zfill method documentation\")&nbsp;&nbsp;&nbsp; "
   ]
  },
  {
   "cell_type": "markdown",
   "metadata": {},
   "source": [
    "**List method documentation links at Tutorial Point**<br><br> [append](https://www.tutorialspoint.com/python/list_append.htm \"list append method documentaion\")&nbsp;&nbsp;&nbsp; [count](https://www.tutorialspoint.com/python/list_count.htm \"list count method documentaion\")&nbsp;&nbsp;&nbsp; [extend](https://www.tutorialspoint.com/python/list_extend.htm \"list extend method documentaion\")&nbsp;&nbsp;&nbsp; [index](https://www.tutorialspoint.com/python/list_index.htm \"list index method documentaion\")&nbsp;&nbsp;&nbsp; [insert](https://www.tutorialspoint.com/python/list_insert.htm \"list insert method documentaion\")&nbsp;&nbsp;&nbsp; [pop](https://www.tutorialspoint.com/python/list_pop.htm \"list pop method documentaion\")&nbsp;&nbsp;&nbsp; [remove](https://www.tutorialspoint.com/python/list_remove.htm \"list remove method documentaion\")&nbsp;&nbsp;&nbsp; [reverse](https://www.tutorialspoint.com/python/list_reverse.htm \"list reverse method documentaion\")&nbsp;&nbsp;&nbsp; [sort](https://www.tutorialspoint.com/python/list_sort.htm \"list sort method documentaion\")&nbsp;&nbsp;&nbsp;"
   ]
  },
  {
   "cell_type": "markdown",
   "metadata": {},
   "source": [
    "**Dictionary method documentation links at Tutorial Point**<br><br> [clear](https://www.tutorialspoint.com/python/dictionary_clear.htm \"dictionary clear method documentaion\")&nbsp;&nbsp;&nbsp; [copy](https://www.tutorialspoint.com/python/dictionary_copy.htm \"dictionary copy method documentaion\")&nbsp;&nbsp;&nbsp; [fromkeys](https://www.tutorialspoint.com/python/dictionary_fromkeys.htm \"dictionary fromkeys method documentaion\")&nbsp;&nbsp;&nbsp; [get](https://www.tutorialspoint.com/python/dictionary_get.htm \"dictionary get method documentaion\")&nbsp;&nbsp;&nbsp; [has_key](https://www.tutorialspoint.com/python/dictionary_has_key.htm \"dictionary has_key method documentaion\")&nbsp;&nbsp;&nbsp; [items](https://www.tutorialspoint.com/python/dictionary_items.htm \"dictionary items method documentaion\")&nbsp;&nbsp;&nbsp; [iteritems](https://www.tutorialspoint.com/python/dictionary_iteritems.htm \"dictionary iteritems method documentaion\")&nbsp;&nbsp;&nbsp; [iterkeys](https://www.tutorialspoint.com/python/dictionary_iterkeys.htm \"dictionary iterkeys method documentaion\")&nbsp;&nbsp;&nbsp; [itervalues](https://www.tutorialspoint.com/python/dictionary_itervalues.htm \"dictionary itervalues method documentaion\")&nbsp;&nbsp;&nbsp; [keys](https://www.tutorialspoint.com/python/dictionary_keys.htm \"dictionary keys method documentaion\")&nbsp;&nbsp;&nbsp; [pop](https://www.tutorialspoint.com/python/dictionary_pop.htm \"dictionary pop method documentaion\")&nbsp;&nbsp;&nbsp; [popitem](https://www.tutorialspoint.com/python/dictionary_popitem.htm \"dictionary popitem method documentaion\")&nbsp;&nbsp;&nbsp; [setdefault](https://www.tutorialspoint.com/python/dictionary_setdefault.htm \"dictionary setdefault method documentaion\")&nbsp;&nbsp;&nbsp; [update](https://www.tutorialspoint.com/python/dictionary_update.htm \"dictionary update method documentaion\")&nbsp;&nbsp;&nbsp; [values](https://www.tutorialspoint.com/python/dictionary_values.htm \"dictionary values method documentaion\")&nbsp;&nbsp;&nbsp; [viewitems](https://www.tutorialspoint.com/python/dictionary_viewitems.htm \"dictionary viewitems method documentaion\")&nbsp;&nbsp;&nbsp; [viewkeys](https://www.tutorialspoint.com/python/dictionary_viewkeys.htm \"dictionary viewkeys method documentaion\")&nbsp;&nbsp;&nbsp; [viewvalues](https://www.tutorialspoint.com/python/dictionary_viewvalues.htm \"dictionary viewvalues method documentaion\")&nbsp;&nbsp;&nbsp;"
   ]
  },
  {
   "cell_type": "markdown",
   "metadata": {},
   "source": [
    "### Code for how the above link cell contents were created\n",
    "\n",
    "This was used to create the links in the Markdown cells above. Not really part of the tutorial, although some may find it interesting."
   ]
  },
  {
   "cell_type": "code",
   "execution_count": 15,
   "metadata": {},
   "outputs": [],
   "source": [
    "def method_markdown_link(method, datatype):\n",
    "    site = \"https://www.tutorialspoint.com/python/\"\n",
    "    return \"[{0}]({1}{2}_{0}.htm \\\"{2} {0} method documentation\\\")\".format(method, site, datatype)\n",
    "\n",
    "def make_markdown_link_block(typename, typevar):\n",
    "    md = \"**{} method documentation links at Tutorial Point**<br><br>\".format(typename.capitalize())\n",
    "    methods = [method for method in dir(typevar) if not method.startswith(\"_\")]\n",
    "    spacing = \"&nbsp;\" * 3\n",
    "    for method in methods:\n",
    "        md += method_markdown_link( method, typename ) + spacing + \" \"\n",
    "    return md + \"\\n\\n\"\n",
    "\n",
    "#print make_markdown_link_block(\"string\", \"any string\")\n",
    "#print make_markdown_link_block(\"list\", list)\n",
    "#print make_markdown_link_block(\"dictionary\", dict)\n",
    "\n",
    "# copy the output to a Jupyter Markdown cell"
   ]
  },
  {
   "cell_type": "markdown",
   "metadata": {},
   "source": [
    "Here's a method that writes the Markdown links into the Code Cell Output. These links replace this page, that's why I prefer to use the Markdown cell type as we've done above. Following the links in the Markdown cell creates a new tab for the documentation."
   ]
  },
  {
   "cell_type": "code",
   "execution_count": 16,
   "metadata": {
    "scrolled": true
   },
   "outputs": [
    {
     "data": {
      "text/markdown": [
       "**String method documentation links at Tutorial Point**<br><br>[capitalize](https://www.tutorialspoint.com/python/string_capitalize.htm \"string capitalize method documentation\")&nbsp;&nbsp;&nbsp; [center](https://www.tutorialspoint.com/python/string_center.htm \"string center method documentation\")&nbsp;&nbsp;&nbsp; [count](https://www.tutorialspoint.com/python/string_count.htm \"string count method documentation\")&nbsp;&nbsp;&nbsp; [decode](https://www.tutorialspoint.com/python/string_decode.htm \"string decode method documentation\")&nbsp;&nbsp;&nbsp; [encode](https://www.tutorialspoint.com/python/string_encode.htm \"string encode method documentation\")&nbsp;&nbsp;&nbsp; [endswith](https://www.tutorialspoint.com/python/string_endswith.htm \"string endswith method documentation\")&nbsp;&nbsp;&nbsp; [expandtabs](https://www.tutorialspoint.com/python/string_expandtabs.htm \"string expandtabs method documentation\")&nbsp;&nbsp;&nbsp; [find](https://www.tutorialspoint.com/python/string_find.htm \"string find method documentation\")&nbsp;&nbsp;&nbsp; [format](https://www.tutorialspoint.com/python/string_format.htm \"string format method documentation\")&nbsp;&nbsp;&nbsp; [index](https://www.tutorialspoint.com/python/string_index.htm \"string index method documentation\")&nbsp;&nbsp;&nbsp; [isalnum](https://www.tutorialspoint.com/python/string_isalnum.htm \"string isalnum method documentation\")&nbsp;&nbsp;&nbsp; [isalpha](https://www.tutorialspoint.com/python/string_isalpha.htm \"string isalpha method documentation\")&nbsp;&nbsp;&nbsp; [isdigit](https://www.tutorialspoint.com/python/string_isdigit.htm \"string isdigit method documentation\")&nbsp;&nbsp;&nbsp; [islower](https://www.tutorialspoint.com/python/string_islower.htm \"string islower method documentation\")&nbsp;&nbsp;&nbsp; [isspace](https://www.tutorialspoint.com/python/string_isspace.htm \"string isspace method documentation\")&nbsp;&nbsp;&nbsp; [istitle](https://www.tutorialspoint.com/python/string_istitle.htm \"string istitle method documentation\")&nbsp;&nbsp;&nbsp; [isupper](https://www.tutorialspoint.com/python/string_isupper.htm \"string isupper method documentation\")&nbsp;&nbsp;&nbsp; [join](https://www.tutorialspoint.com/python/string_join.htm \"string join method documentation\")&nbsp;&nbsp;&nbsp; [ljust](https://www.tutorialspoint.com/python/string_ljust.htm \"string ljust method documentation\")&nbsp;&nbsp;&nbsp; [lower](https://www.tutorialspoint.com/python/string_lower.htm \"string lower method documentation\")&nbsp;&nbsp;&nbsp; [lstrip](https://www.tutorialspoint.com/python/string_lstrip.htm \"string lstrip method documentation\")&nbsp;&nbsp;&nbsp; [partition](https://www.tutorialspoint.com/python/string_partition.htm \"string partition method documentation\")&nbsp;&nbsp;&nbsp; [replace](https://www.tutorialspoint.com/python/string_replace.htm \"string replace method documentation\")&nbsp;&nbsp;&nbsp; [rfind](https://www.tutorialspoint.com/python/string_rfind.htm \"string rfind method documentation\")&nbsp;&nbsp;&nbsp; [rindex](https://www.tutorialspoint.com/python/string_rindex.htm \"string rindex method documentation\")&nbsp;&nbsp;&nbsp; [rjust](https://www.tutorialspoint.com/python/string_rjust.htm \"string rjust method documentation\")&nbsp;&nbsp;&nbsp; [rpartition](https://www.tutorialspoint.com/python/string_rpartition.htm \"string rpartition method documentation\")&nbsp;&nbsp;&nbsp; [rsplit](https://www.tutorialspoint.com/python/string_rsplit.htm \"string rsplit method documentation\")&nbsp;&nbsp;&nbsp; [rstrip](https://www.tutorialspoint.com/python/string_rstrip.htm \"string rstrip method documentation\")&nbsp;&nbsp;&nbsp; [split](https://www.tutorialspoint.com/python/string_split.htm \"string split method documentation\")&nbsp;&nbsp;&nbsp; [splitlines](https://www.tutorialspoint.com/python/string_splitlines.htm \"string splitlines method documentation\")&nbsp;&nbsp;&nbsp; [startswith](https://www.tutorialspoint.com/python/string_startswith.htm \"string startswith method documentation\")&nbsp;&nbsp;&nbsp; [strip](https://www.tutorialspoint.com/python/string_strip.htm \"string strip method documentation\")&nbsp;&nbsp;&nbsp; [swapcase](https://www.tutorialspoint.com/python/string_swapcase.htm \"string swapcase method documentation\")&nbsp;&nbsp;&nbsp; [title](https://www.tutorialspoint.com/python/string_title.htm \"string title method documentation\")&nbsp;&nbsp;&nbsp; [translate](https://www.tutorialspoint.com/python/string_translate.htm \"string translate method documentation\")&nbsp;&nbsp;&nbsp; [upper](https://www.tutorialspoint.com/python/string_upper.htm \"string upper method documentation\")&nbsp;&nbsp;&nbsp; [zfill](https://www.tutorialspoint.com/python/string_zfill.htm \"string zfill method documentation\")&nbsp;&nbsp;&nbsp; \n",
       "\n",
       "**List method documentation links at Tutorial Point**<br><br>[append](https://www.tutorialspoint.com/python/list_append.htm \"list append method documentation\")&nbsp;&nbsp;&nbsp; [count](https://www.tutorialspoint.com/python/list_count.htm \"list count method documentation\")&nbsp;&nbsp;&nbsp; [extend](https://www.tutorialspoint.com/python/list_extend.htm \"list extend method documentation\")&nbsp;&nbsp;&nbsp; [index](https://www.tutorialspoint.com/python/list_index.htm \"list index method documentation\")&nbsp;&nbsp;&nbsp; [insert](https://www.tutorialspoint.com/python/list_insert.htm \"list insert method documentation\")&nbsp;&nbsp;&nbsp; [pop](https://www.tutorialspoint.com/python/list_pop.htm \"list pop method documentation\")&nbsp;&nbsp;&nbsp; [remove](https://www.tutorialspoint.com/python/list_remove.htm \"list remove method documentation\")&nbsp;&nbsp;&nbsp; [reverse](https://www.tutorialspoint.com/python/list_reverse.htm \"list reverse method documentation\")&nbsp;&nbsp;&nbsp; [sort](https://www.tutorialspoint.com/python/list_sort.htm \"list sort method documentation\")&nbsp;&nbsp;&nbsp; \n",
       "\n",
       "**Dictionary method documentation links at Tutorial Point**<br><br>[clear](https://www.tutorialspoint.com/python/dictionary_clear.htm \"dictionary clear method documentation\")&nbsp;&nbsp;&nbsp; [copy](https://www.tutorialspoint.com/python/dictionary_copy.htm \"dictionary copy method documentation\")&nbsp;&nbsp;&nbsp; [fromkeys](https://www.tutorialspoint.com/python/dictionary_fromkeys.htm \"dictionary fromkeys method documentation\")&nbsp;&nbsp;&nbsp; [get](https://www.tutorialspoint.com/python/dictionary_get.htm \"dictionary get method documentation\")&nbsp;&nbsp;&nbsp; [has_key](https://www.tutorialspoint.com/python/dictionary_has_key.htm \"dictionary has_key method documentation\")&nbsp;&nbsp;&nbsp; [items](https://www.tutorialspoint.com/python/dictionary_items.htm \"dictionary items method documentation\")&nbsp;&nbsp;&nbsp; [iteritems](https://www.tutorialspoint.com/python/dictionary_iteritems.htm \"dictionary iteritems method documentation\")&nbsp;&nbsp;&nbsp; [iterkeys](https://www.tutorialspoint.com/python/dictionary_iterkeys.htm \"dictionary iterkeys method documentation\")&nbsp;&nbsp;&nbsp; [itervalues](https://www.tutorialspoint.com/python/dictionary_itervalues.htm \"dictionary itervalues method documentation\")&nbsp;&nbsp;&nbsp; [keys](https://www.tutorialspoint.com/python/dictionary_keys.htm \"dictionary keys method documentation\")&nbsp;&nbsp;&nbsp; [pop](https://www.tutorialspoint.com/python/dictionary_pop.htm \"dictionary pop method documentation\")&nbsp;&nbsp;&nbsp; [popitem](https://www.tutorialspoint.com/python/dictionary_popitem.htm \"dictionary popitem method documentation\")&nbsp;&nbsp;&nbsp; [setdefault](https://www.tutorialspoint.com/python/dictionary_setdefault.htm \"dictionary setdefault method documentation\")&nbsp;&nbsp;&nbsp; [update](https://www.tutorialspoint.com/python/dictionary_update.htm \"dictionary update method documentation\")&nbsp;&nbsp;&nbsp; [values](https://www.tutorialspoint.com/python/dictionary_values.htm \"dictionary values method documentation\")&nbsp;&nbsp;&nbsp; [viewitems](https://www.tutorialspoint.com/python/dictionary_viewitems.htm \"dictionary viewitems method documentation\")&nbsp;&nbsp;&nbsp; [viewkeys](https://www.tutorialspoint.com/python/dictionary_viewkeys.htm \"dictionary viewkeys method documentation\")&nbsp;&nbsp;&nbsp; [viewvalues](https://www.tutorialspoint.com/python/dictionary_viewvalues.htm \"dictionary viewvalues method documentation\")&nbsp;&nbsp;&nbsp; \n",
       "\n"
      ],
      "text/plain": [
       "<IPython.core.display.Markdown object>"
      ]
     },
     "metadata": {},
     "output_type": "display_data"
    }
   ],
   "source": [
    "from IPython.display import display, Markdown\n",
    "md1 = make_markdown_link_block(\"string\", \"any string\")\n",
    "md2 = make_markdown_link_block(\"list\", list)\n",
    "md3 = make_markdown_link_block(\"dictionary\", dict)\n",
    "\n",
    "display(Markdown(md1 + md2 + md3))"
   ]
  },
  {
   "cell_type": "code",
   "execution_count": null,
   "metadata": {},
   "outputs": [],
   "source": []
  }
 ],
 "metadata": {
  "kernelspec": {
   "display_name": "Python 2",
   "language": "python",
   "name": "python2"
  },
  "language_info": {
   "codemirror_mode": {
    "name": "ipython",
    "version": 2
   },
   "file_extension": ".py",
   "mimetype": "text/x-python",
   "name": "python",
   "nbconvert_exporter": "python",
   "pygments_lexer": "ipython2",
   "version": "2.7.13"
  }
 },
 "nbformat": 4,
 "nbformat_minor": 2
}
