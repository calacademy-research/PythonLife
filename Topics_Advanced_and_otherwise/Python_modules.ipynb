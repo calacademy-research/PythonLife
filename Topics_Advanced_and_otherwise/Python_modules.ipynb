{
 "cells": [
  {
   "cell_type": "code",
   "execution_count": null,
   "metadata": {},
   "outputs": [],
   "source": [
    "who"
   ]
  },
  {
   "cell_type": "code",
   "execution_count": null,
   "metadata": {},
   "outputs": [],
   "source": [
    "import collections\n",
    "%who"
   ]
  },
  {
   "cell_type": "code",
   "execution_count": null,
   "metadata": {},
   "outputs": [],
   "source": [
    "dir(collections)"
   ]
  },
  {
   "cell_type": "markdown",
   "metadata": {},
   "source": [
    "defaultdict is there but we often just import what we need and then that doesn't require the reference to its containing object. The *collection* object in this case."
   ]
  },
  {
   "cell_type": "code",
   "execution_count": null,
   "metadata": {},
   "outputs": [],
   "source": [
    "from collections import defaultdict\n",
    "%who"
   ]
  },
  {
   "cell_type": "code",
   "execution_count": null,
   "metadata": {},
   "outputs": [],
   "source": [
    "from collections import *\n",
    "%who"
   ]
  },
  {
   "cell_type": "markdown",
   "metadata": {},
   "source": [
    "The defaultdict method from the collections module helps with a common problem with dictionary types. Notice what happens when we run the code below."
   ]
  },
  {
   "cell_type": "code",
   "execution_count": null,
   "metadata": {},
   "outputs": [],
   "source": [
    "regmap = {}\n",
    "v = regmap['a']\n",
    "print v # we won't get here"
   ]
  },
  {
   "cell_type": "markdown",
   "metadata": {},
   "source": [
    "We got an error because we are *referencing* a dictionary element with a key named 'a' before a value is *assigned* to this key.\n",
    "\n",
    "The **defaultdict** extension lets us define a default value that will only be assigned when a dictionary element is referenced before it is assigned. Just this one thing is what makes the defaultdict different from a plain-vanilla dict."
   ]
  },
  {
   "cell_type": "code",
   "execution_count": null,
   "metadata": {},
   "outputs": [],
   "source": [
    "defmap = defaultdict(int)\n",
    "v = defmap['a']\n",
    "print v\n",
    "\n",
    "defmap2 = defaultdict(str)\n",
    "v = defmap2['a']\n",
    "print repr(v)\n",
    "\n",
    "defmap2 = defaultdict(lambda: \"empty\")\n",
    "v = defmap2['a']\n",
    "print repr(v)"
   ]
  },
  {
   "cell_type": "code",
   "execution_count": null,
   "metadata": {},
   "outputs": [],
   "source": [
    "functions = [f for f in dir(__builtin__) if f[0].islower()]\n",
    "spacing = \" \"\n",
    "for f in functions: print f + spacing,"
   ]
  },
  {
   "cell_type": "code",
   "execution_count": null,
   "metadata": {},
   "outputs": [],
   "source": [
    "from bisect import bisect_left\n",
    "\n",
    "def binary_search(lst, itm, lo=0, hi=None):\n",
    "    if hi is None:\n",
    "        hi = len(lst)  # hi defaults to len(lst)\n",
    "        \n",
    "    pos = bisect_left(lst, itm, lo, hi)  # find insertion position\n",
    "    return pos if pos != hi and lst[pos] == itm else -1 # -1 if we didn't find the item \n",
    "\n",
    "nums = range(10, 25)\n",
    "ix = binary_search(nums, 15)\n",
    "print ix, nums[ix] if ix != -1 else \"didn't find it\""
   ]
  },
  {
   "cell_type": "code",
   "execution_count": null,
   "metadata": {},
   "outputs": [],
   "source": [
    "import sys\n",
    "for e in dir(sys):\n",
    "    if e[0].islower(): print e + \" \","
   ]
  },
  {
   "cell_type": "code",
   "execution_count": null,
   "metadata": {
    "scrolled": false
   },
   "outputs": [],
   "source": [
    "import os\n",
    "for e in dir(os):\n",
    "    if e[0].islower(): print e + \" \","
   ]
  },
  {
   "cell_type": "code",
   "execution_count": null,
   "metadata": {},
   "outputs": [],
   "source": [
    "str.rstrip?"
   ]
  }
 ],
 "metadata": {
  "kernelspec": {
   "display_name": "Python 2",
   "language": "python",
   "name": "python2"
  },
  "language_info": {
   "codemirror_mode": {
    "name": "ipython",
    "version": 2
   },
   "file_extension": ".py",
   "mimetype": "text/x-python",
   "name": "python",
   "nbconvert_exporter": "python",
   "pygments_lexer": "ipython2",
   "version": "2.7.10"
  }
 },
 "nbformat": 4,
 "nbformat_minor": 2
}
