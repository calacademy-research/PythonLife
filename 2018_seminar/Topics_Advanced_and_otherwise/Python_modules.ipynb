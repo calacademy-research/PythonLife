{
 "cells": [
  {
   "cell_type": "code",
   "execution_count": 1,
   "metadata": {},
   "outputs": [
    {
     "name": "stdout",
     "output_type": "stream",
     "text": [
      "Interactive namespace is empty.\n"
     ]
    }
   ],
   "source": [
    "who"
   ]
  },
  {
   "cell_type": "code",
   "execution_count": 2,
   "metadata": {},
   "outputs": [
    {
     "name": "stdout",
     "output_type": "stream",
     "text": [
      "collections\t \n"
     ]
    }
   ],
   "source": [
    "import collections\n",
    "%who"
   ]
  },
  {
   "cell_type": "code",
   "execution_count": 3,
   "metadata": {},
   "outputs": [
    {
     "data": {
      "text/plain": [
       "['Callable',\n",
       " 'Container',\n",
       " 'Counter',\n",
       " 'Hashable',\n",
       " 'ItemsView',\n",
       " 'Iterable',\n",
       " 'Iterator',\n",
       " 'KeysView',\n",
       " 'Mapping',\n",
       " 'MappingView',\n",
       " 'MutableMapping',\n",
       " 'MutableSequence',\n",
       " 'MutableSet',\n",
       " 'OrderedDict',\n",
       " 'Sequence',\n",
       " 'Set',\n",
       " 'Sized',\n",
       " 'ValuesView',\n",
       " '__all__',\n",
       " '__builtins__',\n",
       " '__doc__',\n",
       " '__file__',\n",
       " '__name__',\n",
       " '__package__',\n",
       " '_abcoll',\n",
       " '_chain',\n",
       " '_class_template',\n",
       " '_eq',\n",
       " '_field_template',\n",
       " '_get_ident',\n",
       " '_heapq',\n",
       " '_imap',\n",
       " '_iskeyword',\n",
       " '_itemgetter',\n",
       " '_repeat',\n",
       " '_repr_template',\n",
       " '_starmap',\n",
       " '_sys',\n",
       " 'defaultdict',\n",
       " 'deque',\n",
       " 'namedtuple']"
      ]
     },
     "execution_count": 3,
     "metadata": {},
     "output_type": "execute_result"
    }
   ],
   "source": [
    "dir(collections)"
   ]
  },
  {
   "cell_type": "markdown",
   "metadata": {},
   "source": [
    "defaultdict is there but we often just import what we need and then that doesn't require the reference to its containing object. The *collection* object in this case."
   ]
  },
  {
   "cell_type": "code",
   "execution_count": 4,
   "metadata": {},
   "outputs": [
    {
     "name": "stdout",
     "output_type": "stream",
     "text": [
      "collections\t defaultdict\t \n"
     ]
    }
   ],
   "source": [
    "from collections import defaultdict\n",
    "%who"
   ]
  },
  {
   "cell_type": "code",
   "execution_count": 5,
   "metadata": {},
   "outputs": [
    {
     "name": "stdout",
     "output_type": "stream",
     "text": [
      "Callable\t Container\t Counter\t Hashable\t ItemsView\t Iterable\t Iterator\t KeysView\t Mapping\t \n",
      "MappingView\t MutableMapping\t MutableSequence\t MutableSet\t OrderedDict\t Sequence\t Set\t Sized\t ValuesView\t \n",
      "collections\t defaultdict\t deque\t namedtuple\t \n"
     ]
    }
   ],
   "source": [
    "from collections import *\n",
    "%who"
   ]
  },
  {
   "cell_type": "code",
   "execution_count": 9,
   "metadata": {},
   "outputs": [
    {
     "data": {
      "text/plain": [
       "collections.deque"
      ]
     },
     "execution_count": 9,
     "metadata": {},
     "output_type": "execute_result"
    }
   ],
   "source": [
    "collections.deque"
   ]
  },
  {
   "cell_type": "markdown",
   "metadata": {},
   "source": [
    "The defaultdict method from the collections module helps with a common problem with dictionary types. Notice what happens when we run the code below."
   ]
  },
  {
   "cell_type": "code",
   "execution_count": 6,
   "metadata": {},
   "outputs": [
    {
     "ename": "KeyError",
     "evalue": "'a'",
     "output_type": "error",
     "traceback": [
      "\u001b[0;31m---------------------------------------------------------------------------\u001b[0m",
      "\u001b[0;31mKeyError\u001b[0m                                  Traceback (most recent call last)",
      "\u001b[0;32m<ipython-input-6-5b64542964ae>\u001b[0m in \u001b[0;36m<module>\u001b[0;34m()\u001b[0m\n\u001b[1;32m      1\u001b[0m \u001b[0mregmap\u001b[0m \u001b[0;34m=\u001b[0m \u001b[0;34m{\u001b[0m\u001b[0;34m}\u001b[0m\u001b[0;34m\u001b[0m\u001b[0m\n\u001b[0;32m----> 2\u001b[0;31m \u001b[0mv\u001b[0m \u001b[0;34m=\u001b[0m \u001b[0mregmap\u001b[0m\u001b[0;34m[\u001b[0m\u001b[0;34m'a'\u001b[0m\u001b[0;34m]\u001b[0m\u001b[0;34m\u001b[0m\u001b[0m\n\u001b[0m\u001b[1;32m      3\u001b[0m \u001b[0;32mprint\u001b[0m \u001b[0mv\u001b[0m \u001b[0;31m# we won't get here\u001b[0m\u001b[0;34m\u001b[0m\u001b[0m\n",
      "\u001b[0;31mKeyError\u001b[0m: 'a'"
     ]
    }
   ],
   "source": [
    "regmap = {}\n",
    "v = regmap['a']\n",
    "print v # we won't get here"
   ]
  },
  {
   "cell_type": "markdown",
   "metadata": {},
   "source": [
    "We got an error because we are *referencing* a dictionary element with a key named 'a' before a value is *assigned* to this key.\n",
    "\n",
    "The **defaultdict** extension lets us define a default value that will only be assigned when a dictionary element is referenced before it is assigned. Just this one thing is what makes the defaultdict different from a plain-vanilla dict."
   ]
  },
  {
   "cell_type": "code",
   "execution_count": null,
   "metadata": {},
   "outputs": [],
   "source": [
    "defmap = defaultdict(int)\n",
    "v = defmap['a']\n",
    "print v\n",
    "\n",
    "defmap2 = defaultdict(str)\n",
    "v = defmap2['a']\n",
    "print repr(v)\n",
    "\n",
    "defmap2 = defaultdict(lambda: \"empty\")\n",
    "v = defmap2['a']\n",
    "print repr(v)"
   ]
  },
  {
   "cell_type": "code",
   "execution_count": null,
   "metadata": {},
   "outputs": [],
   "source": [
    "functions = [f for f in dir(__builtin__) if f[0].islower()]\n",
    "spacing = \" \"\n",
    "for f in functions: print f + spacing,"
   ]
  },
  {
   "cell_type": "code",
   "execution_count": null,
   "metadata": {},
   "outputs": [],
   "source": [
    "from bisect import bisect_left\n",
    "\n",
    "def binary_search(lst, itm, lo=0, hi=None):\n",
    "    if hi is None:\n",
    "        hi = len(lst)  # hi defaults to len(lst)\n",
    "        \n",
    "    pos = bisect_left(lst, itm, lo, hi)  # find insertion position\n",
    "    return pos if pos != hi and lst[pos] == itm else -1 # -1 if we didn't find the item \n",
    "\n",
    "nums = range(10, 25)\n",
    "ix = binary_search(nums, 15)\n",
    "print ix, nums[ix] if ix != -1 else \"didn't find it\""
   ]
  },
  {
   "cell_type": "code",
   "execution_count": null,
   "metadata": {},
   "outputs": [],
   "source": [
    "import sys\n",
    "for e in dir(sys):\n",
    "    if e[0].islower(): print e + \" \","
   ]
  },
  {
   "cell_type": "code",
   "execution_count": null,
   "metadata": {
    "scrolled": false
   },
   "outputs": [],
   "source": [
    "import os\n",
    "for e in dir(os):\n",
    "    if e[0].islower(): print e + \" \","
   ]
  },
  {
   "cell_type": "code",
   "execution_count": null,
   "metadata": {},
   "outputs": [],
   "source": [
    "str.rstrip?"
   ]
  }
 ],
 "metadata": {
  "kernelspec": {
   "display_name": "Python 2",
   "language": "python",
   "name": "python2"
  },
  "language_info": {
   "codemirror_mode": {
    "name": "ipython",
    "version": 2
   },
   "file_extension": ".py",
   "mimetype": "text/x-python",
   "name": "python",
   "nbconvert_exporter": "python",
   "pygments_lexer": "ipython2",
   "version": "2.7.13"
  }
 },
 "nbformat": 4,
 "nbformat_minor": 2
}
