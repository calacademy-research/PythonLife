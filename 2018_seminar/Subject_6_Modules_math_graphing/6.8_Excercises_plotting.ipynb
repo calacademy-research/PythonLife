{
 "cells": [
  {
   "cell_type": "markdown",
   "metadata": {},
   "source": [
    "---\n",
    "# Exercises\n",
    "\n",
    "__1. Dissecting and improving the plotting examples.__\n",
    "\n",
    "a) Use the **barFPKMs()** function to plot the expression levels of these additional genes: MAK10, DDR2, HSP12.\n",
    "\n",
    "b) Modify the **scatterFPKMs()** function to plot genes that vary in expression level between the two conditions by 2 fold or more in red, and other genes in black.\n",
    "\n",
    "c) Modify the **histogramFPKMs()** function to plot the ratio of expression levels between two conditions, rather than their absolute expression levels.\n",
    "\n",
    "d) Make the **barFPKMs()** function make more beautiful plots, following [Tufte's style](http://stackoverflow.com/questions/13701485/r-graphs-creating-tuftes-horizontal-bar-lines). That's grey bars, no lines, borders, grid, or ticks, except for implicit white lines within the bars. Hint: Google is your friend, as is the **dir()** function.\n",
    "\n",
    "e) Modify the **barFPKMs()** function again to take an *axes* object as an argument and plot the bar plot on that axes object, rather than making an entirely new figure. Use this function four times to plot the expression levels of all four genes (HMLALPHA2, MAK10, DDR2, and HSP12) in a single figure. Be sure to label each subplot with the gene names."
   ]
  },
  {
   "cell_type": "markdown",
   "metadata": {
    "collapsed": true
   },
   "source": [
    "__2. Plotting %A, %T, %G, %C, and %Ns across read position.__\n",
    "\n",
    "The following is a function to open a fastq file containing sequencing reads and parse out the sequence identifiers, the raw sequence, and the quality scores for the bases called in the raw sequence. The function is a generator, which returns these three values every time it is looped through, just like a filehandle."
   ]
  },
  {
   "cell_type": "code",
   "execution_count": null,
   "metadata": {},
   "outputs": [],
   "source": [
    "#!/usr/env/bin python\n",
    "\n",
    "def parse_fastq(fastq_file):\n",
    "    fh = open(fastq_file, 'r')\n",
    "    \n",
    "    while True:\n",
    "        ID = fh.readline().strip()\n",
    "        seq = fh.readline().strip()\n",
    "        ID2 = fh.readline().strip()\n",
    "        qual = fh.readline().strip()\n",
    "        \n",
    "        if not ID:\n",
    "            break # end of file, finished successfully\n",
    "    \n",
    "        yield ID, seq, ID2, qual"
   ]
  },
  {
   "cell_type": "markdown",
   "metadata": {},
   "source": [
    "And here is a function to calculate the frequency of each of the 4 nucleotides and \"N\" by read position for a fastq file. This metric can tell you if there is any bias in the %GC content of sequenced reads based on position. Note that this function uses the first function to parse the file."
   ]
  },
  {
   "cell_type": "code",
   "execution_count": null,
   "metadata": {},
   "outputs": [],
   "source": [
    "import numpy as np\n",
    "\n",
    "def base_frequencies(fastq_file):\n",
    "    fastq = parse_fastq(fastq_file)\n",
    "    \n",
    "    bases = ['A', 'T', 'C', 'G', 'N']\n",
    "    \n",
    "    # First initialize some arrays of the sequence length\n",
    "    for ID, seq, ID2, qual in fastq:    \n",
    "        seq = np.array(list(seq))\n",
    "        readlength = len(seq)\n",
    "        base_freqs = {base : (seq == base).astype(int) for base in bases}\n",
    "        break\n",
    "    \n",
    "    # fastq is an iterator, and like filehandles,\n",
    "    # iterators 'remember' their place\n",
    "    for ID, seq, ID2, qual in fastq:    \n",
    "        seq = np.array(list(seq))\n",
    "        for base in bases:\n",
    "            base_freqs[base] += seq == base\n",
    "            \n",
    "    # Find out the total number of reads\n",
    "    totals = sum(base_freqs.values()).astype(float)\n",
    "    \n",
    "    # Calculate the percent frequencies of each base at all positions\n",
    "    base_percents = {base : (base_freqs[base] / totals) for base in bases}\n",
    "    \n",
    "    return base_percents, readlength"
   ]
  },
  {
   "cell_type": "markdown",
   "metadata": {},
   "source": [
    "Use these two functions to calculate the base frequencies of the reads in the 'illumina_reads.fastq' file.\n",
    "\n",
    "a) Now that you have the frequencies, write a function to plot the % As, %Ts, %Gs, %Cs, and %Ns by read position as a line graph. Your final graph should show read position on the x-axis (1 - 100), and percent (%) on the y axis. The figure should contain five lines: one for %As, one for %Ts, one for %Cs, one for %Gs, and one for %Ns.\n",
    "\n",
    "b) Add a figure title to your graph and labels for the x-axis (\"Read Position\") and y-axis \"% Nucleotide\". Add a legend for the five lines. Save the figure in the .png format. Hint: look up methods to do this using **dir(** *Axes* **)** (note that 'Axes' here is a variable referencing an Axes object). "
   ]
  },
  {
   "cell_type": "markdown",
   "metadata": {},
   "source": [
    "__3. Scatter plot practice__\n",
    "\n",
    "Make a single figure that contains three separate scatter plots (each in different colors) that compares the FPKMs for the following samples (use the \"fpkm_table.tab\" file):  \n",
    "1. WT versus hoD\n",
    "2. WT versus sir4DK\n",
    "3. hoD versus sir4DK\n",
    "\n",
    "Remember to set the x and y axes to log scale and make both axes range from 1 to 10e5 (as in the lecture example)! Add lables to the Axes. Save this plot as an image file in the format of your choice. To see all the different possible formats, try *plt.savefig?* in ipython."
   ]
  },
  {
   "cell_type": "markdown",
   "metadata": {},
   "source": [
    "__4. Bar plots__\n",
    "\n",
    "In the course files is 'exercise4.tab', which is a table that has FPKM values for one gene across wild type plus five mutant conditions, with three replicates for each measurement. You want to make a simple bar plot with error bars of this gene's expression across all genotypes.\n",
    "\n",
    "(a) Google how to calculate the standard error of the mean using **scipy.stats** and apply the appropriate method to get the standard error of the mean (**sem**) for the gene's expression in each genetic condition.\n",
    "\n",
    "(b) Write a function that takes the name of the tab delimited file and plots the mean measurement of the gene across all mutant conditions as a bar plot. Add error bars representing the standard error of the mean you calculated in part (a). Hint: read the documentation of *Axes**.bar()*** to figure out how to add error bars to your bar plot."
   ]
  }
 ],
 "metadata": {
  "anaconda-cloud": {},
  "kernelspec": {
   "display_name": "Python 2",
   "language": "python",
   "name": "python2"
  },
  "language_info": {
   "codemirror_mode": {
    "name": "ipython",
    "version": 2
   },
   "file_extension": ".py",
   "mimetype": "text/x-python",
   "name": "python",
   "nbconvert_exporter": "python",
   "pygments_lexer": "ipython2",
   "version": "2.7.13"
  }
 },
 "nbformat": 4,
 "nbformat_minor": 1
}
