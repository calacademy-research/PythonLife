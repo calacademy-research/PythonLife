{
 "cells": [
  {
   "cell_type": "markdown",
   "metadata": {},
   "source": [
    "# Problem 1 - Writing Mathematical Functions\n",
    "\n",
    "## A)\n",
    "Write a function that accepts an array of floats as inputs. Return an array where every value of the input array has been divided by 1.5."
   ]
  },
  {
   "cell_type": "code",
   "execution_count": null,
   "metadata": {},
   "outputs": [],
   "source": [
    "import numpy as np;\n",
    "\n",
    "def divide_by_1p5(array):\n",
    "    return array / 1.5;\n",
    "\n",
    "# Test it out\n",
    "test_array = np.array([1, 2, 3, 4, 5]);\n",
    "out_array = divide_by_1p5(test_array);\n",
    "out_array"
   ]
  },
  {
   "cell_type": "markdown",
   "metadata": {},
   "source": [
    "## B)\n",
    "\n",
    "Use a random function (uniform or normal) to generate an array of floats. Write a function that accepts this array, and returns a list of values that are more than one standard deviation greater or less than the mean of the array."
   ]
  },
  {
   "cell_type": "code",
   "execution_count": null,
   "metadata": {},
   "outputs": [],
   "source": [
    "def getOutliers(array):\n",
    "    mean=np.mean(array)\n",
    "    std=np.std(array)\n",
    "    highCutoff=mean+std\n",
    "    lowCutoff=mean-std\n",
    "    greater = array > highCutoff\n",
    "    less = array < lowCutoff\n",
    "    greater_or_less = greater | less\n",
    "    return array[greater_or_less];\n",
    "\n",
    "# Test it out\n",
    "a = np.random.normal(50, 10, 100)\n",
    "print getOutliers(a)\n",
    "\n",
    "#Sorting makes it easier to see\n",
    "print np.sort(getOutliers(a))"
   ]
  },
  {
   "cell_type": "markdown",
   "metadata": {},
   "source": [
    "## B) - Alternate solution"
   ]
  },
  {
   "cell_type": "code",
   "execution_count": null,
   "metadata": {},
   "outputs": [],
   "source": [
    "def getOutliers(array):\n",
    "    mean=np.mean(array)\n",
    "    std=np.std(array)\n",
    "    highCutoff=mean+std\n",
    "    lowCutoff=mean-std\n",
    "    outliers=[]\n",
    "    for i in array:\n",
    "        if i > highCutoff or i < lowCutoff:\n",
    "            outliers.append(i)\n",
    "    return np.array(outliers)\n",
    "\n",
    "# Test it out\n",
    "a = np.random.normal(50, 10, 100);\n",
    "print getOutliers(a)\n",
    "\n",
    "#Sorting makes it easier to see\n",
    "print np.sort(getOutliers(a))"
   ]
  },
  {
   "cell_type": "markdown",
   "metadata": {},
   "source": [
    "## C)\n",
    "Write a function that estimates a p-value from the exponential distribution (another distribution in numpy). The function should take a number as an input (lets call it x), and return an estimate at the probability that a number drawn from the exponential distribution will be equal to or greater than x. \n",
    "\n",
    "To do this, generate many samples from the exponential distribution (use the default scale=1.0), count the number of samples greater than x, and divide the result by the number of samples you generated. \n",
    "\n",
    "Don't use a loop to count the number of samples greater than x. Instead look at what happens when you use np.sum() on a boolean array, or read about the method np.count_nonzero().\n",
    "\n",
    "Calling your function should look like this:\n",
    "```python\n",
    "out = my_function(3)\n",
    "print out #prints 0.050316 (or close to this number)\n",
    "```"
   ]
  },
  {
   "cell_type": "code",
   "execution_count": null,
   "metadata": {},
   "outputs": [],
   "source": [
    "def estimate_p(measurement):\n",
    "    N_SAMPLES = 1000000 \n",
    "    samples = np.random.exponential(scale = 1.0, size = N_SAMPLES)\n",
    "    return np.sum(samples > measurement) / float(len(samples))\n",
    "\n",
    "print \"Estimated p-value for 3 is \", estimate_p(3);\n",
    "print \"Estimated p-value for 5 is \", estimate_p(5);"
   ]
  },
  {
   "cell_type": "markdown",
   "metadata": {},
   "source": [
    "We can also check how close we got by using the 'expon' distribution in scipy.stats\n",
    "\n",
    "Importing this object gives us access to a variety of functions on the distribution - see the documentation [here](http://docs.scipy.org/doc/scipy-0.16.0/reference/generated/scipy.stats.expon.html)\n",
    "\n",
    "Using the sf (survival) function computes the integral of the distribution from X to infinity - essentially what we're trying to estimate above by taking many samples and counting the proportion of them greater than X."
   ]
  },
  {
   "cell_type": "code",
   "execution_count": null,
   "metadata": {},
   "outputs": [],
   "source": [
    "from scipy.stats import expon\n",
    "\n",
    "print \"Actual p-value for 3 is \", expon.sf(3);\n",
    "print \"Actual p-value for 5 is \", expon.sf(5);"
   ]
  },
  {
   "cell_type": "markdown",
   "metadata": {},
   "source": [
    "# 2: Strings to arrays\n"
   ]
  },
  {
   "cell_type": "markdown",
   "metadata": {},
   "source": [
    "## A)\n",
    "\n",
    "So we had this idea that we might be able to find a periodicity in the spacing of pyrimidine residues downstream of the termination site in Rho dependent genes (by and large, we don't). Nevertheless:\n",
    "\n",
    "Make a function that takes a DNA string as input (Only G, C, A, or T's) and an arbitrary substring (e.g. \"CT\"). The function should find all locations of the substring in the string and return it as an array. For Example:\n",
    "```python\n",
    "a = find_substring(\"GCACTTGCACGTACGCCGT\", \"AC\") \n",
    "#output a contains [2, 8, 12] (or a numpy array with these values)\n",
    "```"
   ]
  },
  {
   "cell_type": "code",
   "execution_count": null,
   "metadata": {},
   "outputs": [],
   "source": [
    "def findsubstring(string,Substring):\n",
    "    length = len(Substring)\n",
    "    posList=[]\n",
    "    for pos,letter in enumerate(string):\n",
    "        if string[pos:pos+length]==Substring:\n",
    "            posList.append(pos)\n",
    "    return np.array(posList)\n",
    " \n",
    "x = findsubstring('ACTAGGGCTAATAGATTACGGACTATG','CT')\n",
    "print x"
   ]
  },
  {
   "cell_type": "markdown",
   "metadata": {},
   "source": [
    "## A) - Alternate\n",
    "If you looked at a list of python string methods, you might notice the \"find\" method will locate a substring within a string.  However, it only finds the first match after the 'start' position.  So to search for all matches, you need to loop through, finding each match, and then updating the 'start' position so it looks for the next match next time.  Here's what a solution using this method looks like."
   ]
  },
  {
   "cell_type": "code",
   "execution_count": null,
   "metadata": {},
   "outputs": [],
   "source": [
    "def findsubstring(string, Substring):\n",
    "    posList = [];\n",
    "    end_of_loop = False\n",
    "    while(not end_of_loop):\n",
    "        if(len(posList) == 0):\n",
    "            start_position = -1;\n",
    "        else:\n",
    "            start_position = posList[-1];\n",
    "        \n",
    "        next_pos = string.find(Substring, start_position+1);\n",
    "        if(next_pos > -1):\n",
    "            posList.append(next_pos);\n",
    "        else:\n",
    "            end_of_loop = True;\n",
    "        \n",
    "    return np.array(posList);\n",
    "\n",
    "x = findsubstring('ACTAGGGCTAATAGATTACGGACTATG','CT')\n",
    "print x"
   ]
  },
  {
   "cell_type": "markdown",
   "metadata": {
    "collapsed": true
   },
   "source": [
    "## A) - Alternate #2\n",
    "Python has a more advanced module for string searching called 're' (stands for Regular Expressions).  Regular Expression syntax is a whole language of its own, but it lets you use wildcards and other customizations to search for particular patterns.  However, we can also use it for our simple example."
   ]
  },
  {
   "cell_type": "code",
   "execution_count": null,
   "metadata": {},
   "outputs": [],
   "source": [
    "import re\n",
    "def findsubstring(string, Substring):\n",
    "    return [x.start() for x in re.finditer(Substring, string)];\n",
    "\n",
    "x = findsubstring('ACTAGGGCTAATAGATTACGGACTATG','CT')\n",
    "print x"
   ]
  },
  {
   "cell_type": "markdown",
   "metadata": {},
   "source": [
    "## B:\n",
    "\n",
    "Using the result of find_substring from (a), find the distance between each pair of adjacent substrings. (i.e. How many basepairs separate each position where we found the subtring.) Check if a numpy method does this.\n",
    "\n",
    "For Example:\n",
    "\n",
    "differences = find_differences(a)"
   ]
  },
  {
   "cell_type": "code",
   "execution_count": null,
   "metadata": {},
   "outputs": [],
   "source": [
    "difference = np.diff(x) # Just had to find the np.diff method\n",
    "print difference"
   ]
  }
 ],
 "metadata": {
  "anaconda-cloud": {},
  "kernelspec": {
   "display_name": "Python 2",
   "language": "python",
   "name": "python2"
  },
  "language_info": {
   "codemirror_mode": {
    "name": "ipython",
    "version": 2
   },
   "file_extension": ".py",
   "mimetype": "text/x-python",
   "name": "python",
   "nbconvert_exporter": "python",
   "pygments_lexer": "ipython2",
   "version": "2.7.13"
  }
 },
 "nbformat": 4,
 "nbformat_minor": 1
}
