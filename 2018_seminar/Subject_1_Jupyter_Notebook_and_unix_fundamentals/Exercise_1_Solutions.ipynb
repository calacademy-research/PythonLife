{
 "cells": [
  {
   "cell_type": "markdown",
   "metadata": {},
   "source": [
    "I'm going to use bash with a jupyter notebook for the solutions by starting the cell with the %%bash 'magic' command. In your own hands, these will be more effective if typed into a separate terminal.\n",
    "\n",
    "### Greetings!"
   ]
  },
  {
   "cell_type": "code",
   "execution_count": 1,
   "metadata": {},
   "outputs": [],
   "source": [
    "%%bash\n",
    "python Greet_User.py James > greetings.txt\n",
    "python Greet_User.py David >> greetings.txt\n",
    "python Greet_User.py Chris >> greetings.txt"
   ]
  },
  {
   "cell_type": "markdown",
   "metadata": {},
   "source": [
    "### Someone else's code"
   ]
  },
  {
   "cell_type": "code",
   "execution_count": 2,
   "metadata": {},
   "outputs": [
    {
     "name": "stdout",
     "output_type": "stream",
     "text": [
      "GGCCAATT\n"
     ]
    }
   ],
   "source": [
    "%%bash\n",
    "##A\n",
    "python Rev_Comp.py AATTGGCC\n",
    "\n",
    "##B\n",
    "python Get_Fasta_Seq.py Yeast_Genome.fasta chrIII > chrIII.seq"
   ]
  },
  {
   "cell_type": "markdown",
   "metadata": {},
   "source": [
    "### Good old wc"
   ]
  },
  {
   "cell_type": "code",
   "execution_count": 3,
   "metadata": {},
   "outputs": [
    {
     "name": "stdout",
     "output_type": "stream",
     "text": [
      "  316621 chrIII.seq\n",
      "  316621\n"
     ]
    }
   ],
   "source": [
    "%%bash\n",
    "wc -m chrIII.seq\n",
    "\n",
    "##in one line\n",
    "python Get_Fasta_Seq.py Yeast_Genome.fasta chrIII | wc -m"
   ]
  },
  {
   "cell_type": "markdown",
   "metadata": {},
   "source": [
    "### Building a pipeline"
   ]
  },
  {
   "cell_type": "code",
   "execution_count": 4,
   "metadata": {},
   "outputs": [
    {
     "name": "stdout",
     "output_type": "stream",
     "text": [
      "  316621 chrIII.seq\n",
      "  316621 chrIII_revcomp.seq\n"
     ]
    }
   ],
   "source": [
    "%%bash\n",
    "python Get_Fasta_Seq.py Yeast_Genome.fasta chrIII | python Rev_Comp.py > chrIII_revcomp.seq\n",
    "\n",
    "wc -m chrIII.seq\n",
    "wc -m chrIII_revcomp.seq"
   ]
  },
  {
   "cell_type": "markdown",
   "metadata": {},
   "source": [
    "### Star-Struck"
   ]
  },
  {
   "cell_type": "code",
   "execution_count": 5,
   "metadata": {},
   "outputs": [
    {
     "name": "stdout",
     "output_type": "stream",
     "text": [
      "greetings.txt\n",
      "hello.txt\n",
      "pythons_of_the_world.txt\n",
      "test.txt\n",
      "wishes.txt\n"
     ]
    }
   ],
   "source": [
    "%%bash\n",
    "ls *.txt"
   ]
  },
  {
   "cell_type": "code",
   "execution_count": 6,
   "metadata": {},
   "outputs": [
    {
     "name": "stdout",
     "output_type": "stream",
     "text": [
      "greetings.txt\n",
      "hello.txt\n",
      "pythons_of_the_world.txt\n",
      "test.txt\n",
      "wishes.txt\n",
      "chrIII.seq\n",
      "chrIII_revcomp.seq\n",
      "    8160 pythons_of_the_world.txt\n",
      "       3 greetings.txt\n",
      "       2 hello.txt\n",
      "      73 pythons_of_the_world.txt\n",
      "       1 test.txt\n",
      "       2 wishes.txt\n",
      "      81 total\n",
      "      23\n",
      "       2\n",
      " 16887590\n",
      "      81\n"
     ]
    },
    {
     "name": "stderr",
     "output_type": "stream",
     "text": [
      "ls: Notes: No such file or directory\n"
     ]
    }
   ],
   "source": [
    "%%bash\n",
    "##A) List all text (.txt) files\n",
    "ls *.txt\n",
    "##B) List all files starting with the letter 'c'\n",
    "ls c*\n",
    "##C) List all files within the Notes folder\n",
    "ls Notes\n",
    "##D) Count the number of characters in the pythons_of_the_world.txt file\n",
    "wc -m pythons_of_the_world.txt\n",
    "##E) Count the number of lines in each text (.txt) file\n",
    "wc -l *.txt\n",
    "##F) Count the number of files/folders within the 1.1 folder\n",
    "ls | wc -l\n",
    "##G) Count the number of files starting with the letter 'c'\n",
    "ls c* | wc -l\n",
    "##H) Count the total number of characters in all files within the 1.1 folder (should be a single number)\n",
    "cat * | wc -m\n",
    "##I) Count the total number of lines in all text (.txt) files within the 1.1 folder (should be a single number)\n",
    "cat *.txt | wc -l"
   ]
  },
  {
   "cell_type": "markdown",
   "metadata": {},
   "source": [
    "### Wait, you said this woulndn't be on the test!"
   ]
  },
  {
   "cell_type": "code",
   "execution_count": 7,
   "metadata": {},
   "outputs": [
    {
     "name": "stdout",
     "output_type": "stream",
     "text": [
      "17\n",
      "  243150  243150 12400255\n",
      "7\n",
      "2\n",
      "6\n"
     ]
    }
   ],
   "source": [
    "%%bash\n",
    "\n",
    "##A\n",
    "grep -c '>' Yeast_Genome.fasta\n",
    "\n",
    "##B\n",
    "grep -v '>' Yeast_Genome.fasta | wc \n",
    "##nucleotides are the total number of characters (12400255) - the total number of newline characters (243150), which is 12157105\n",
    "\n",
    "##C \n",
    "cut -d ' ' -f 1 pythons_of_the_world.txt | grep -c -i 'Python'\n",
    "cut -d ' ' -f 2 pythons_of_the_world.txt | grep -c -i 'Python'\n",
    "cut -d ' ' -f 3 pythons_of_the_world.txt | grep -c -i 'Python'"
   ]
  },
  {
   "cell_type": "markdown",
   "metadata": {},
   "source": [
    "### Moving beyond the lecture"
   ]
  },
  {
   "cell_type": "code",
   "execution_count": 8,
   "metadata": {},
   "outputs": [
    {
     "name": "stdout",
     "output_type": "stream",
     "text": [
      "Filesystem                          Size   Used  Avail Capacity   iused    ifree %iused  Mounted on\n",
      "/dev/disk1                         634Gi  610Gi   24Gi    97% 160031275  6228483   96%   /\n",
      "devfs                              190Ki  190Ki    0Bi   100%       658        0  100%   /dev\n",
      "map -hosts                           0Bi    0Bi    0Bi   100%         0        0  100%   /net\n",
      "map auto_home                        0Bi    0Bi    0Bi   100%         0        0  100%   /home\n",
      "/dev/disk0s4                       296Gi  261Gi   35Gi    89%    378026 36422998    1%   /Volumes/BOOTCAMP\n",
      "localhost:/bqIUcvQm8_IlfGNY6_Q65k  634Gi  634Gi    0Bi   100%         0        0  100%   /Volumes/MobileBackups\n"
     ]
    }
   ],
   "source": [
    "%%bash\n",
    "df -h"
   ]
  }
 ],
 "metadata": {
  "kernelspec": {
   "display_name": "Python 3 (ipykernel)",
   "language": "python",
   "name": "python3"
  },
  "language_info": {
   "codemirror_mode": {
    "name": "ipython",
    "version": 3
   },
   "file_extension": ".py",
   "mimetype": "text/x-python",
   "name": "python",
   "nbconvert_exporter": "python",
   "pygments_lexer": "ipython3",
   "version": "3.12.4"
  }
 },
 "nbformat": 4,
 "nbformat_minor": 4
}
