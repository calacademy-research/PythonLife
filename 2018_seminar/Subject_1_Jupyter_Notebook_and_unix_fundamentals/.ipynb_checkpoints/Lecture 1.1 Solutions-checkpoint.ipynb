{
 "cells": [
  {
   "cell_type": "markdown",
   "metadata": {},
   "source": [
    "I'm going to use bash with a jupyter notebook for the solutions by starting the cell with the %%bash 'magic' command. In your own hands, these will be more effective if typed into a separate terminal.\n",
    "\n",
    "### Problem 1"
   ]
  },
  {
   "cell_type": "code",
   "execution_count": 3,
   "metadata": {
    "collapsed": false
   },
   "outputs": [],
   "source": [
    "%%bash\n",
    "python Greet_User.py James > greetings.txt\n",
    "python Greet_User.py David >> greetings.txt\n",
    "python Greet_User.py Chris >> greetings.txt"
   ]
  },
  {
   "cell_type": "markdown",
   "metadata": {},
   "source": [
    "### Problem 2"
   ]
  },
  {
   "cell_type": "code",
   "execution_count": 4,
   "metadata": {
    "collapsed": false
   },
   "outputs": [
    {
     "name": "stdout",
     "output_type": "stream",
     "text": [
      "GGCCAATT\n"
     ]
    }
   ],
   "source": [
    "%%bash\n",
    "##A\n",
    "python Rev_Comp.py AATTGGCC\n",
    "\n",
    "##B\n",
    "python Get_Fasta_Seq.py Yeast_Genome.fasta chrIII > chrIII.seq"
   ]
  },
  {
   "cell_type": "markdown",
   "metadata": {},
   "source": [
    "### Problem 3"
   ]
  },
  {
   "cell_type": "code",
   "execution_count": 5,
   "metadata": {
    "collapsed": false
   },
   "outputs": [
    {
     "name": "stdout",
     "output_type": "stream",
     "text": [
      "316621 chrIII.seq\n",
      "316621\n"
     ]
    }
   ],
   "source": [
    "%%bash\n",
    "wc -m chrIII.seq\n",
    "\n",
    "##in one line\n",
    "python Get_Fasta_Seq.py Yeast_Genome.fasta chrIII | wc -m"
   ]
  },
  {
   "cell_type": "markdown",
   "metadata": {},
   "source": [
    "### Problem 4"
   ]
  },
  {
   "cell_type": "code",
   "execution_count": 1,
   "metadata": {
    "collapsed": false
   },
   "outputs": [
    {
     "name": "stdout",
     "output_type": "stream",
     "text": [
      "316621 chrIII.seq\n",
      "316621 chrIII_revcomp.seq\n"
     ]
    }
   ],
   "source": [
    "%%bash\n",
    "python Get_Fasta_Seq.py Yeast_Genome.fasta chrIII | python Rev_Comp.py > chrIII_revcomp.seq\n",
    "\n",
    "wc -m chrIII.seq\n",
    "wc -m chrIII_revcomp.seq"
   ]
  },
  {
   "cell_type": "markdown",
   "metadata": {},
   "source": [
    "### Problem 5"
   ]
  },
  {
   "cell_type": "code",
   "execution_count": 2,
   "metadata": {
    "collapsed": false
   },
   "outputs": [
    {
     "name": "stdout",
     "output_type": "stream",
     "text": [
      "cat1.txt\n",
      "cat2.txt\n",
      "greetings.txt\n",
      "palinscmp.txt\n",
      "palinsreg.txt\n",
      "pythons_of_the_world.txt\n",
      "wishes.txt\n",
      "cat1.txt\n",
      "cat2.txt\n",
      "chrIII_revcomp.seq\n",
      "chrIII.seq\n",
      "data\n",
      "project_notes.txt\n",
      "python_notes2.txt\n",
      "8160 pythons_of_the_world.txt\n",
      "     1 cat1.txt\n",
      "     1 cat2.txt\n",
      "     3 greetings.txt\n",
      "  1360 palinscmp.txt\n",
      "  1329 palinsreg.txt\n",
      "    73 pythons_of_the_world.txt\n",
      "     2 wishes.txt\n",
      "  2769 total\n",
      "24\n",
      "4\n",
      "17629686\n",
      "2769\n"
     ]
    },
    {
     "name": "stderr",
     "output_type": "stream",
     "text": [
      "cat: Notes: Is a directory\n"
     ]
    }
   ],
   "source": [
    "%%bash\n",
    "##A) List all text (.txt) files\n",
    "ls *.txt\n",
    "##B) List all files starting with the letter 'c'\n",
    "ls c*\n",
    "##C) List all files within the Notes folder\n",
    "ls Notes\n",
    "##D) Count the number of characters in the pythons_of_the_world.txt file\n",
    "wc -m pythons_of_the_world.txt\n",
    "##E) Count the number of lines in each text (.txt) file\n",
    "wc -l *.txt\n",
    "##F) Count the number of files/folders within the 1.1 folder\n",
    "ls | wc -l\n",
    "##G) Count the number of files starting with the letter 'c'\n",
    "ls c* | wc -l\n",
    "##H) Count the total number of characters in all files within the 1.1 folder (should be a single number)\n",
    "cat * | wc -m\n",
    "##I) Count the total number of lines in all text (.txt) files within the 1.1 folder (should be a single number)\n",
    "cat *.txt | wc -l"
   ]
  },
  {
   "cell_type": "markdown",
   "metadata": {},
   "source": [
    "### Problem 6"
   ]
  },
  {
   "cell_type": "code",
   "execution_count": 15,
   "metadata": {
    "collapsed": false
   },
   "outputs": [
    {
     "name": "stdout",
     "output_type": "stream",
     "text": [
      "17\n",
      " 243150  243150 12400255\n",
      "7\n",
      "2\n",
      "6\n"
     ]
    }
   ],
   "source": [
    "%%bash\n",
    "\n",
    "##A\n",
    "grep -c '>' Yeast_Genome.fasta\n",
    "\n",
    "##B\n",
    "grep -v '>' Yeast_Genome.fasta | wc \n",
    "##nucleotides are the total number of characters (12400255) - the total number of newline characters (243150), which is 12157105\n",
    "\n",
    "##C \n",
    "cut -d ' ' -f 1 pythons_of_the_world.txt | grep -c -i 'Python'\n",
    "cut -d ' ' -f 2 pythons_of_the_world.txt | grep -c -i 'Python'\n",
    "cut -d ' ' -f 3 pythons_of_the_world.txt | grep -c -i 'Python'"
   ]
  },
  {
   "cell_type": "markdown",
   "metadata": {},
   "source": [
    "### Problem 7"
   ]
  },
  {
   "cell_type": "code",
   "execution_count": 16,
   "metadata": {
    "collapsed": false
   },
   "outputs": [
    {
     "name": "stdout",
     "output_type": "stream",
     "text": [
      "Filesystem      Size  Used Avail Use% Mounted on\n",
      "udev             12G     0   12G   0% /dev\n",
      "tmpfs           2.4G  9.8M  2.4G   1% /run\n",
      "/dev/sda1       1.8T  1.1T  628G  64% /\n",
      "tmpfs            12G  956K   12G   1% /dev/shm\n",
      "tmpfs           5.0M  4.0K  5.0M   1% /run/lock\n",
      "tmpfs            12G     0   12G   0% /sys/fs/cgroup\n",
      "cgmfs           100K     0  100K   0% /run/cgmanager/fs\n",
      "tmpfs           2.4G   88K  2.4G   1% /run/user/1000\n",
      "/dev/sdc1       3.9G  1.7G  2.2G  44% /media/james/UUI\n"
     ]
    }
   ],
   "source": [
    "%%bash\n",
    "df -h"
   ]
  }
 ],
 "metadata": {
  "kernelspec": {
   "display_name": "Python 2",
   "language": "python",
   "name": "python2"
  },
  "language_info": {
   "codemirror_mode": {
    "name": "ipython",
    "version": 2
   },
   "file_extension": ".py",
   "mimetype": "text/x-python",
   "name": "python",
   "nbconvert_exporter": "python",
   "pygments_lexer": "ipython2",
   "version": "2.7.12"
  }
 },
 "nbformat": 4,
 "nbformat_minor": 0
}
