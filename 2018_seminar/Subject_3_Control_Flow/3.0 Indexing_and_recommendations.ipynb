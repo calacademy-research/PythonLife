{
 "cells": [
  {
   "cell_type": "markdown",
   "metadata": {},
   "source": [
    "Going over string and list indexing (slice)\n",
    "methods available to string from jim’s notes (tutorials point)\n",
    "\n",
    "Recommend intro book \"python crash course\" and link to ibss reading recommendation list\n",
    "\n",
    "ipython vs. python\n",
    "  example of the questionmark in command line "
   ]
  },
  {
   "cell_type": "markdown",
   "metadata": {},
   "source": [
    "# String indexing review\n",
    "Let's go over indexing a bit. First, let's define a simple string. The index of each letter is displayed underneath."
   ]
  },
  {
   "cell_type": "code",
   "execution_count": 1,
   "metadata": {},
   "outputs": [
    {
     "name": "stdout",
     "output_type": "stream",
     "text": [
      "letters =  'abcdefgh'\n",
      "indexes are 01234567\n"
     ]
    }
   ],
   "source": [
    "letters = 'abcdefgh'\n",
    "numbers = '01234567'\n",
    "print \"letters =  '{}'\\nindexes are {}\".format(letters,numbers)"
   ]
  },
  {
   "cell_type": "markdown",
   "metadata": {},
   "source": [
    "Now, let's look at the first letter:"
   ]
  },
  {
   "cell_type": "code",
   "execution_count": 2,
   "metadata": {},
   "outputs": [
    {
     "name": "stdout",
     "output_type": "stream",
     "text": [
      "First char is at index 0 and is letter[0]: 'a'\n"
     ]
    }
   ],
   "source": [
    "print \"First char is at index 0 and is letter[0]: '{}'\".format( letters[0] )"
   ]
  },
  {
   "cell_type": "markdown",
   "metadata": {},
   "source": [
    "And the last...."
   ]
  },
  {
   "cell_type": "code",
   "execution_count": 3,
   "metadata": {},
   "outputs": [
    {
     "name": "stdout",
     "output_type": "stream",
     "text": [
      "Last char is at index 7 and is letter[7]: 'h'\n"
     ]
    }
   ],
   "source": [
    "print \"Last char is at index 7 and is letter[7]: '{}'\".format( letters[7] )"
   ]
  },
  {
   "cell_type": "markdown",
   "metadata": {},
   "source": [
    "And, finally, let's look at a range using the the [**start:end**] syntax. This is called taking a **slice** of the string. We can do the same thing with lists."
   ]
  },
  {
   "cell_type": "code",
   "execution_count": 4,
   "metadata": {},
   "outputs": [
    {
     "name": "stdout",
     "output_type": "stream",
     "text": [
      "2nd to 5th char are letters[2:5] cde\n",
      "Same thing, numbers 234\n",
      "Fifth element: 4\n"
     ]
    }
   ],
   "source": [
    "print \"2nd to 5th char are letters[2:5]\", letters[2:5]\n",
    "print \"Same thing, numbers\", numbers[2:5]\n",
    "print \"Fifth element:\", numbers[4]"
   ]
  },
  {
   "cell_type": "markdown",
   "metadata": {},
   "source": [
    "Note that even though we ended with **:5**, (aka: the sixth element), that is NOT included.\n",
    "\n",
    "We're specifying that we want to start at position 2 (zero-based) in the string. But now, instead of contenting ourselves with a single character from the string, we're saying that we want more characters, up to but not including the character at position 5.\n",
    "\n",
    "You might have thought that you were going to get the character at position 5 too. But that's not the way it works. Don't worry – you'll get used to it. If it helps, think of the second index (the one after the colon) as specifying the first character that you don't want. Incidentally, a benefit of this mechanism is that you can quickly tell how many characters you are going to end up with simply by subtracting the first index from the second."
   ]
  },
  {
   "cell_type": "markdown",
   "metadata": {},
   "source": [
    "# Books! \n",
    "\n",
    "  Check out \"Python Crash Course, A Hands-On, Project-Based Introduction to Programming\"\n",
    "by Eric Matthes.\n",
    "\n",
    "  In fact, check out the reading list: https://docs.google.com/document/d/1g4sTsL2XBa8qzq3h4pnnbszEqPE1jb9gRx-ylWSJsDA/edit?usp=sharing"
   ]
  },
  {
   "cell_type": "markdown",
   "metadata": {},
   "source": [
    "# The ipython enhanced interactive interpreter"
   ]
  },
  {
   "cell_type": "markdown",
   "metadata": {},
   "source": [
    "The **ipython** program is a \"wrapper\" around **python**, and we really like it. To use it, instead of typing **python** at the terminal console, enter **ipython**. Try \"len?\" here and in the ipython console."
   ]
  },
  {
   "cell_type": "code",
   "execution_count": 5,
   "metadata": {},
   "outputs": [],
   "source": [
    "len?"
   ]
  },
  {
   "cell_type": "code",
   "execution_count": null,
   "metadata": {},
   "outputs": [],
   "source": []
  }
 ],
 "metadata": {
  "kernelspec": {
   "display_name": "Python 3 (ipykernel)",
   "language": "python",
   "name": "python3"
  },
  "language_info": {
   "codemirror_mode": {
    "name": "ipython",
    "version": 3
   },
   "file_extension": ".py",
   "mimetype": "text/x-python",
   "name": "python",
   "nbconvert_exporter": "python",
   "pygments_lexer": "ipython3",
   "version": "3.12.4"
  }
 },
 "nbformat": 4,
 "nbformat_minor": 4
}
