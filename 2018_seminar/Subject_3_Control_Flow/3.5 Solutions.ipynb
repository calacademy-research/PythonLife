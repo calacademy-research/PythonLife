{
 "cells": [
  {
   "cell_type": "markdown",
   "metadata": {},
   "source": [
    "---\n",
    "## Exercises\n",
    "\n",
    "### 1. Truth or Consequences\n",
    "\n",
    "Use the **bool** function to evaluate the truth of the following expressions in Python. If you don't see exactly why they are **True** or **False**, please ask a TA."
   ]
  },
  {
   "cell_type": "code",
   "execution_count": null,
   "metadata": {},
   "outputs": [],
   "source": [
    "print 'A) \"\" (the empty string) is', bool(\"\")\n",
    "\n",
    "print 'B) 0 is', bool(0)\n",
    "\n",
    "# All non-zero numbers are True\n",
    "print 'C) 42 is', bool(42)\n",
    "\n",
    "# A space is a character, so this string is not empty\n",
    "print 'D) \" \" (a space) is', bool(\" \")\n",
    "\n",
    "# A zero is False, but this is the non-empty string \"0\"\n",
    "print 'E) \"0\" is', bool(\"0\")\n",
    "\n",
    "print 'F) None is', bool(None)\n",
    "\n",
    "# This is a string object, not a None object\n",
    "print 'G) \"None\" is', bool(\"None\")\n",
    "\n",
    "# The bool function itself is True, since functions are objects\n",
    "print 'H) bool is', bool(bool)\n",
    "\n",
    "# bool called without arguments returns False\n",
    "print 'I) bool() is', bool(bool())\n",
    "\n",
    "# The string.upper method is also an object, and so is True\n",
    "print 'J) ''.upper is', bool(''.upper)\n",
    "\n",
    "# The ''.upper() returns the empty string ''\n",
    "print 'K) ''.upper() is', bool(''.upper())"
   ]
  },
  {
   "cell_type": "markdown",
   "metadata": {},
   "source": [
    "### 2. Logical Gymnastics (Adapted from [Learn Python the Hard Way](https://learnpythonthehardway.org/book/))\n",
    "\n",
    "Try to predict how the Python interpreter will evaluate the following statements. Then, test your guesses."
   ]
  },
  {
   "cell_type": "code",
   "execution_count": null,
   "metadata": {},
   "outputs": [],
   "source": [
    "print 'A)', True and True\n",
    "\n",
    "print 'B)', False and True\n",
    "\n",
    "print 'C)', 1 == 1 and 2 == 1\n",
    "\n",
    "print 'D)', 'test' == 'test'\n",
    "\n",
    "print 'E)', 1 == 1 and 2 != 1\n",
    "\n",
    "print 'F)', (1 == 1 and 2) != 1\n",
    "\n",
    "print 'G)', (1 == 1 and 1) != 1\n",
    "\n",
    "print 'H)', not (True and False)\n",
    "\n",
    "print 'I)', not (1 == 1 and 0 != 1)\n",
    "\n",
    "print 'J)', not (1 != 10 or 3 == 4)\n",
    "\n",
    "print 'K)', 1 == 1 and (not (\"testing\" == 1 or 1 == 0))\n",
    "\n",
    "print 'L)', 3 == 3 and (not (\"testing\" == \"testing\" or \"Python\" == \"Fun\"))\n",
    "\n",
    "print 'M)', True + 1\n",
    "\n",
    "print 'N)', 2 - 2 and True\n",
    "\n",
    "print 'O)', True and 2 - 2\n",
    "\n",
    "print 'P)', 2 and True - 2\n",
    "\n",
    "print 'Q)', True - 1 and True"
   ]
  },
  {
   "cell_type": "markdown",
   "metadata": {},
   "source": [
    "### 2. Operator, Give Me the Number for 911\n",
    "Add only one line of code to finish the function `swap` below. It should return \"0\" if the user enters \"1\", and print \"1\" if the user enters \"0\" (don't worry about other numbers). "
   ]
  },
  {
   "cell_type": "code",
   "execution_count": null,
   "metadata": {},
   "outputs": [],
   "source": [
    "# Remember that 1 is True, and 0 is False, so:\n",
    "print not 1\n",
    "print not 0\n",
    "\n",
    "# And we can coerce from a boolean to an int with int()\n",
    "print int(True)\n",
    "print int(False)"
   ]
  },
  {
   "cell_type": "code",
   "execution_count": null,
   "metadata": {},
   "outputs": [],
   "source": [
    "s = raw_input(\"Enter a number: \")\n",
    "\n",
    "def swap(s):\n",
    "    s = int(s)\n",
    "    t = int(not s)\n",
    "    return t\n",
    "\n",
    "print swap(s)"
   ]
  },
  {
   "cell_type": "markdown",
   "metadata": {},
   "source": [
    "### 4. For Hobbit in Fellowship\n",
    "Write a program that prints the lyrics to [\"For He's a Jolly Good Fellow\"](https://en.wikipedia.org/wiki/For_He%27s_a_Jolly_Good_Fellow)\n",
    "\n",
    "A) Using only 7 lines of code or fewer."
   ]
  },
  {
   "cell_type": "code",
   "execution_count": null,
   "metadata": {},
   "outputs": [],
   "source": [
    "for x in range(3):\n",
    "    print \"For he's a jolly good fellow,\"\n",
    "\n",
    "for x in range(3):\n",
    "    print \"Which nobody can deny,\"\n",
    "\n",
    "for x in range(3):\n",
    "    print \"For he's a jolly good fellow,\"\n",
    "    \n",
    "print \"Which nobody can deny,\""
   ]
  },
  {
   "cell_type": "markdown",
   "metadata": {},
   "source": [
    "B) Using only a single print statement."
   ]
  },
  {
   "cell_type": "code",
   "execution_count": null,
   "metadata": {},
   "outputs": [],
   "source": [
    "def repeat(phrase, number):\n",
    "    for x in range(number):\n",
    "        print phrase\n",
    "\n",
    "repeat(\"For he's a jolly good fellow,\", 3)\n",
    "repeat(\"Which nobody can deny\", 3)\n",
    "repeat(\"For he's a jolly good fellow,\", 3)\n",
    "repeat(\"Which nobody can deny\", 1)"
   ]
  },
  {
   "cell_type": "markdown",
   "metadata": {},
   "source": [
    "Bonus Challenge) Without ever repeating a line of code."
   ]
  },
  {
   "cell_type": "code",
   "execution_count": null,
   "metadata": {},
   "outputs": [],
   "source": [
    "for x in range(10):\n",
    "    if x % 6 < 3:\n",
    "        print \"For he's a jolly good fellow\"\n",
    "    else:\n",
    "        print \"Which nobody can deny\""
   ]
  },
  {
   "cell_type": "markdown",
   "metadata": {},
   "source": [
    "### 5. 99 Bottles of Beer\n",
    "Write a program that sings [\"99 Bottles of Beer on the Wall\"](https://en.wikipedia.org/wiki/99_Bottles_of_Beer), ending with:\n",
    "\n",
    "1 bottle of beer on the wall, 1 bottle of beer,  \n",
    "If that one bottle should happen to fall, what a waste of alcohol!"
   ]
  },
  {
   "cell_type": "code",
   "execution_count": null,
   "metadata": {},
   "outputs": [],
   "source": [
    "bottles = 9\n",
    "while bottles:\n",
    "    print \"{0} bottles of beer on the wall, {0} bottles of beer,\".format(bottles)\n",
    "    bottles -= 1\n",
    "    if bottles:\n",
    "        print \"Take one down, pass it around, {} bottles of beer on the wall...\".format(bottles)\n",
    "    else:\n",
    "        print \"If that one bottle should happen to fall, what a waste of alcohol!\""
   ]
  },
  {
   "cell_type": "markdown",
   "metadata": {},
   "source": [
    "### 6. My Pet Gene Finder\n",
    "\n",
    "Write your first gene-finding program: have the user enter a string of six nucleotides. If the length of the string is not six, tell the user to input another string. "
   ]
  },
  {
   "cell_type": "code",
   "execution_count": null,
   "metadata": {},
   "outputs": [],
   "source": [
    "seq = ''\n",
    "while len(seq) != 6:\n",
    "    seq = raw_input('Please input a sequence with 6 nucleotides:')"
   ]
  },
  {
   "cell_type": "markdown",
   "metadata": {},
   "source": [
    "Write a function that looks for 'ATG' in the sequence and returns the position where it is found. If 'ATG' appears multiple times, return only the location of the first instance. If the string does not contain 'ATG', return -1."
   ]
  },
  {
   "cell_type": "code",
   "execution_count": null,
   "metadata": {},
   "outputs": [],
   "source": [
    "\n",
    "\n",
    "#same as 1st part (ask for input sequence)\n",
    "seq = ''\n",
    "while not len(seq) == 6:\n",
    "    seq = raw_input('Please input a sequence with 6 nucleotides:')\n",
    "\n",
    "# now looking for ATG\n",
    "for idx in range(4):\n",
    "    substring = seq[idx:idx+3]\n",
    "    if substring == 'ATG':\n",
    "        return idx\n",
    "return -1\n",
    "\n"
   ]
  },
  {
   "cell_type": "markdown",
   "metadata": {},
   "source": [
    "### 7. FizzBuzz\n",
    "FizzBuzz is a counting game where you need to be a bit on your toes. You start counting upwards, but:  \n",
    "When you have a number that's a multiple of three, you say \"Fizz\"  \n",
    "When you have a number that's a multiple of five, you say \"Buzz\"  \n",
    "When you have a number that's a multiple of both three and five, you say \"FizzBuzz\"  \n",
    "Otherwise, you just say the number  \n",
    "\n",
    "Write a function that plays FizzBuzz. This function should take one argument, which is the maximum number it will count to. The output should look like this:  \n",
    "1  \n",
    "2  \n",
    "Fizz  \n",
    "4  \n",
    "Buzz  \n",
    "Fizz  \n",
    "7  \n",
    "8  \n",
    "Fizz  \n",
    "Buzz  \n",
    "11  \n",
    "Fizz  \n",
    "13  \n",
    "14  \n",
    "FizzBuzz  \n",
    "...\n",
    "\n",
    "You may find the **%** (modulo) operator helpful. This gives you the remainder when you divide one number by another, so:  "
   ]
  },
  {
   "cell_type": "code",
   "execution_count": null,
   "metadata": {},
   "outputs": [],
   "source": [
    "print '0 % 3 =', 0 % 3\n",
    "print '1 % 3 =', 1 % 3\n",
    "print '2 % 3 =', 2 % 3\n",
    "print '3 % 3 =', 3 % 3\n",
    "print '4 % 3 =', 4 % 3"
   ]
  },
  {
   "cell_type": "code",
   "execution_count": null,
   "metadata": {},
   "outputs": [],
   "source": [
    "nmax = 15\n",
    "for num in range(1, nmax+1):\n",
    "    if num % 15 == 0:\n",
    "#OR     if num % 5 == 0 and num % 3 == 0:\n",
    "        print \"FizzBuzz\"\n",
    "    elif num % 3 == 0:\n",
    "        print \"Fizz\"\n",
    "    elif num % 5 == 0:\n",
    "        print \"Buzz\"\n",
    "    else:\n",
    "        print num\n",
    "\n"
   ]
  },
  {
   "cell_type": "code",
   "execution_count": null,
   "metadata": {},
   "outputs": [],
   "source": [
    "# Here's a way to do it without any if statements.\n",
    "# For extra credit, see if you can figure out why it works.\n",
    "nmax = 15\n",
    "\n",
    "for num in range(1, nmax+1):\n",
    "    print 'Fizz' * (not num % 3) + 'Buzz' * (not num % 5) or num\n",
    "        "
   ]
  },
  {
   "cell_type": "markdown",
   "metadata": {},
   "source": [
    "### 8. Getting comfortable with Loops (adapted from [Learning Python](http://www.amazon.com/gp/product/1449355730/ref=pd_lpo_sbs_dp_ss_1?pf_rd_p=1944687762&pf_rd_s=lpo-top-stripe-1&pf_rd_t=201&pf_rd_i=0596002815&pf_rd_m=ATVPDKIKX0DER&pf_rd_r=0H4E3BSC5ZC5HMJAKM5Z))\n",
    "Computers only really understand numbers, not letters. Therefore, letters and symbols are stored in the computer according to numbers. The American Standard Code for Information Interchange (ASCII) is a formalized code that links characters and numbers. You determine the ASCII number code of a letter using the built-in function ord(character).\n",
    "\n",
    "For example,"
   ]
  },
  {
   "cell_type": "code",
   "execution_count": null,
   "metadata": {},
   "outputs": [],
   "source": [
    "print ord('T')"
   ]
  },
  {
   "cell_type": "markdown",
   "metadata": {},
   "source": [
    "a) Write a for loop that prints the ASCII code of each character in the string 'Rock and Roll'."
   ]
  },
  {
   "cell_type": "code",
   "execution_count": null,
   "metadata": {},
   "outputs": [],
   "source": [
    "for c in 'Rock and Roll':\n",
    "    print ord(c)"
   ]
  },
  {
   "cell_type": "markdown",
   "metadata": {},
   "source": [
    "b) Biologists have taken advantage of ASCII encoding to create a compressed format for sequence quality scores. In the fastq file format, for example, sequences are followed 2 lines later by a string of the same length that represents the quality scores for each base in the sequence. Each character in the quality string is converted to its ASCII value, minus 32 (in some cases 64), to get the quality score. Here's an example of an entry from a fastq file:\n",
    "\n",
    "```\n",
    "@HWI-ST665R:175:C278GACXX:3:1101:2732:1990 1:N:0:CGATGT\n",
    "CATGGTAGGCTTGGTTTTCGTCATGGTCAATAACCTCGTCTCCCGGTTTGAACAAGTACCATAGGTCAAAAAACGTCGCTCTTTCGCAACGCGGGCTATT\n",
    "+\n",
    "@@@FB::?FDFAFDDFGABFFHIIDHIGGG>@7@EHGHECEE=DFFDCCEAC;>>=(38;AA55(;@3(4()05954>:9><-09<A(:>AC:CBCCBC?\n",
    "```\n",
    "\n",
    "Write a function to calculate the mean quality score of this sequence."
   ]
  },
  {
   "cell_type": "code",
   "execution_count": null,
   "metadata": {},
   "outputs": [],
   "source": [
    "quality_string = '@@@FB::?FDFAFDDFGABFFHIIDHIGGG>@7@EHGHECEE=DFFDCCEAC;>>=(38;AA55(;@3(4()05954>:9><-09<A(:>AC:CBCCBC?'\n",
    "\n",
    "# Calculates the mean quality score in a quality score string from a fastq file\n",
    "total_q = 0\n",
    "for q in quality_string:\n",
    "    total_q += ord(q) - 32 # definition of the quality score\n",
    "\n",
    "# Make sure to convert to a float here, otherwise you will round down\n",
    "mean_q = float(total_q) / len(quality)\n",
    "return mean_q"
   ]
  },
  {
   "cell_type": "markdown",
   "metadata": {
    "collapsed": true
   },
   "source": [
    "### 9. All Roads Lead to Rome  (adapted from [Learning Python](http://www.amazon.com/gp/product/1449355730/ref=pd_lpo_sbs_dp_ss_1?pf_rd_p=1944687762&pf_rd_s=lpo-top-stripe-1&pf_rd_t=201&pf_rd_i=0596002815&pf_rd_m=ATVPDKIKX0DER&pf_rd_r=0H4E3BSC5ZC5HMJAKM5Z))\n",
    "A coworker (who obviously is not a native Python speaker) hands you the following code, which tests if the iupac code **N** is in a sequence **seq** and returns the index of the first N."
   ]
  },
  {
   "cell_type": "code",
   "execution_count": null,
   "metadata": {},
   "outputs": [],
   "source": [
    "seq = \"ATCGATNGCTANCGTAGCNT\"\n",
    "code = \"N\"\n",
    " \n",
    "found = i = 0\n",
    "while not found and i < len(seq):\n",
    "    # Check if this position in the sequence\n",
    "    # contains the iupac code N.\n",
    "    if code == seq[i]:\n",
    "        found = 1\n",
    "    else:\n",
    "        i = i+1\n",
    "if found:\n",
    "    print 'at index', i\n",
    "else:\n",
    "    print code, 'not found'"
   ]
  },
  {
   "cell_type": "markdown",
   "metadata": {},
   "source": [
    "As is, the script does not follow normal Python coding techniques. Follow the steps below to improve it.  \n",
    "a) Rewrite this code with a **break** statement to eliminate the 'found' flag"
   ]
  },
  {
   "cell_type": "code",
   "execution_count": null,
   "metadata": {},
   "outputs": [],
   "source": [
    "i = 0\n",
    "while i < len(seq):\n",
    "    if code == seq[i]:\n",
    "        break\n",
    "    else:\n",
    "        i = i + 1\n",
    "\n",
    "if i < len(seq):\n",
    "    print 'at index', i\n",
    "else:\n",
    "    print code, 'not found'"
   ]
  },
  {
   "cell_type": "markdown",
   "metadata": {},
   "source": [
    "b) Now rewrite it again to use a **for** loop to eliminate the explicit string indexing logic (i.e. seq[i])."
   ]
  },
  {
   "cell_type": "code",
   "execution_count": null,
   "metadata": {},
   "outputs": [],
   "source": [
    "for i, nuc in enumerate(seq):\n",
    "    if code == nuc:\n",
    "        break\n",
    "        \n",
    "if i < len(seq):\n",
    "    print 'at index', i\n",
    "else:\n",
    "    print code, 'not found'"
   ]
  },
  {
   "cell_type": "markdown",
   "metadata": {},
   "source": [
    "c) Remove the loop completely by rewriting the examples using an expression with **in**. The string method **.index()** will also help you. \n",
    "(HINT: usage of **in** and **.index()** is shown below)"
   ]
  },
  {
   "cell_type": "code",
   "execution_count": null,
   "metadata": {},
   "outputs": [],
   "source": [
    "print \"c\" in \"abcd\""
   ]
  },
  {
   "cell_type": "code",
   "execution_count": null,
   "metadata": {},
   "outputs": [],
   "source": [
    "\"abcd\".index(\"c\")"
   ]
  },
  {
   "cell_type": "code",
   "execution_count": null,
   "metadata": {},
   "outputs": [],
   "source": [
    "if code in seq:\n",
    "    print 'at index', seq.index(code)\n",
    "else:\n",
    "    print code, 'not found'"
   ]
  }
 ],
 "metadata": {
  "kernelspec": {
   "display_name": "Python 2",
   "language": "python",
   "name": "python2"
  },
  "language_info": {
   "codemirror_mode": {
    "name": "ipython",
    "version": 2
   },
   "file_extension": ".py",
   "mimetype": "text/x-python",
   "name": "python",
   "nbconvert_exporter": "python",
   "pygments_lexer": "ipython2",
   "version": "2.7.13"
  }
 },
 "nbformat": 4,
 "nbformat_minor": 1
}
