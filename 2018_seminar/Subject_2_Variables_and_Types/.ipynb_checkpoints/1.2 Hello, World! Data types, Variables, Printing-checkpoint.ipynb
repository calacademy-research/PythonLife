{
 "cells": [
  {
   "cell_type": "markdown",
   "metadata": {
    "collapsed": true
   },
   "source": [
    "# The Very Basics: Hello, World! Data types, Variables, Printing\n",
    "## Topics:\n",
    "\n",
    "* Output: print statement\n",
    "* Interlude: two ways to run your script\n",
    "* Variables: integers, floating-point numbers (decimal), strings (text)\n",
    "* Numerical operations\n",
    "* Strings: quotes, single double and triple!\n",
    "* Strings: escapes and special characters; raw strings\n",
    "* Strings: as sequence type, index and slice (substring)\n",
    "* Concatenating (+) strings\n",
    "* Inserting and formatting variables in strings\n",
    "* Input: raw_input() function\n",
    "\n",
    "## Introduction:\n",
    "In this lesson, we will write our first programs. First we must learn how to interact with the Python language in a fundamental way, then we'll learn about different classes of data and how to manipulate them.\n",
    "A First Python Program: hello.py"
   ]
  },
  {
   "cell_type": "code",
   "execution_count": 1,
   "metadata": {
    "collapsed": false
   },
   "outputs": [
    {
     "name": "stdout",
     "output_type": "stream",
     "text": [
      "hello world\n"
     ]
    }
   ],
   "source": [
    "print 'hello world'"
   ]
  },
  {
   "cell_type": "markdown",
   "metadata": {},
   "source": [
    "This bit of code tells python to use the print function to ouput the string 'hello world'. Of course, you can print a variety of data types in python: strings like what we just did, integers, floats, etc."
   ]
  },
  {
   "cell_type": "code",
   "execution_count": 2,
   "metadata": {
    "collapsed": false
   },
   "outputs": [
    {
     "name": "stdout",
     "output_type": "stream",
     "text": [
      "hello world\n",
      "<type 'str'>\n"
     ]
    }
   ],
   "source": [
    "print 'hello world'\n",
    "print type('hello world')"
   ]
  },
  {
   "cell_type": "code",
   "execution_count": 3,
   "metadata": {
    "collapsed": false
   },
   "outputs": [
    {
     "name": "stdout",
     "output_type": "stream",
     "text": [
      "1\n",
      "<type 'int'>\n"
     ]
    }
   ],
   "source": [
    "print 1\n",
    "print type(1)"
   ]
  },
  {
   "cell_type": "code",
   "execution_count": 4,
   "metadata": {
    "collapsed": false
   },
   "outputs": [
    {
     "name": "stdout",
     "output_type": "stream",
     "text": [
      "1.0\n",
      "<type 'float'>\n"
     ]
    }
   ],
   "source": [
    "print 1.0\n",
    "print type(1.0)"
   ]
  },
  {
   "cell_type": "markdown",
   "metadata": {},
   "source": [
    "Here we see 3 different types of data:\n",
    "* strings are indicated by quotation marks, regardless of what's inside the quotations (generally speaking), but MUST start with a letter\n",
    "* integers are indicated by numbers with no decimals\n",
    "* floats are indicated by numbers with decimals (we'll go over the importance soon)\n",
    "\n",
    "What happens if we put a number in parentheses and if we forget to add parentheses around strings?"
   ]
  },
  {
   "cell_type": "code",
   "execution_count": 5,
   "metadata": {
    "collapsed": false
   },
   "outputs": [
    {
     "name": "stdout",
     "output_type": "stream",
     "text": [
      "1\n",
      "<type 'str'>\n"
     ]
    }
   ],
   "source": [
    "print '1'\n",
    "print type('1')"
   ]
  },
  {
   "cell_type": "code",
   "execution_count": 6,
   "metadata": {
    "collapsed": false
   },
   "outputs": [
    {
     "ename": "SyntaxError",
     "evalue": "invalid syntax (<ipython-input-6-0542465381fc>, line 1)",
     "output_type": "error",
     "traceback": [
      "\u001b[1;36m  File \u001b[1;32m\"<ipython-input-6-0542465381fc>\"\u001b[1;36m, line \u001b[1;32m1\u001b[0m\n\u001b[1;33m    print hello world\u001b[0m\n\u001b[1;37m                    ^\u001b[0m\n\u001b[1;31mSyntaxError\u001b[0m\u001b[1;31m:\u001b[0m invalid syntax\n"
     ]
    }
   ],
   "source": [
    "print hello world"
   ]
  },
  {
   "cell_type": "markdown",
   "metadata": {},
   "source": [
    "The integer, 1, becomes a string and the string 'hello world' yields an error."
   ]
  },
  {
   "cell_type": "markdown",
   "metadata": {},
   "source": [
    "## A bit more about strings\n",
    "You can use either single quotes or double quotes for strings, but only on a single line. If you want to write multiple lines for strings, you have to use 3 single quotes or 3 double quotes to start and end the string"
   ]
  },
  {
   "cell_type": "code",
   "execution_count": 7,
   "metadata": {
    "collapsed": false
   },
   "outputs": [
    {
     "name": "stdout",
     "output_type": "stream",
     "text": [
      "This is how you \n",
      "         quote multiple lines\n"
     ]
    }
   ],
   "source": [
    "print '''This is how you \n",
    "         quote multiple lines'''"
   ]
  },
  {
   "cell_type": "code",
   "execution_count": 8,
   "metadata": {
    "collapsed": false
   },
   "outputs": [
    {
     "ename": "SyntaxError",
     "evalue": "EOL while scanning string literal (<ipython-input-8-96e0de3dbf74>, line 1)",
     "output_type": "error",
     "traceback": [
      "\u001b[1;36m  File \u001b[1;32m\"<ipython-input-8-96e0de3dbf74>\"\u001b[1;36m, line \u001b[1;32m1\u001b[0m\n\u001b[1;33m    print 'this is not\u001b[0m\n\u001b[1;37m                      ^\u001b[0m\n\u001b[1;31mSyntaxError\u001b[0m\u001b[1;31m:\u001b[0m EOL while scanning string literal\n"
     ]
    }
   ],
   "source": [
    "print 'this is not \n",
    "        going to work'"
   ]
  },
  {
   "cell_type": "markdown",
   "metadata": {},
   "source": [
    "## Assigning Variables\n",
    "Variables are simply representations of the data that you want to work with--Just like how we understand the letters in the equation F = ma to be representations of numbers corresponding to force, mass, and acceleration. To create a variable, you write out your variable name, an \"=\" sign, then what you want it to represent."
   ]
  },
  {
   "cell_type": "code",
   "execution_count": 9,
   "metadata": {
    "collapsed": false
   },
   "outputs": [
    {
     "name": "stdout",
     "output_type": "stream",
     "text": [
      "Me\n",
      "<type 'str'>\n"
     ]
    }
   ],
   "source": [
    "gradStudent = 'Me'\n",
    "\n",
    "print gradStudent\n",
    "print type(gradStudent)"
   ]
  },
  {
   "cell_type": "code",
   "execution_count": 10,
   "metadata": {
    "collapsed": false
   },
   "outputs": [
    {
     "name": "stdout",
     "output_type": "stream",
     "text": [
      "22\n",
      "<type 'int'>\n",
      "I'm not actually 22, but could you imagine though?\n"
     ]
    }
   ],
   "source": [
    "age = 22\n",
    "\n",
    "print age\n",
    "print type(age)\n",
    "\n",
    "print \"I'm not actually 22, but could you imagine though?\""
   ]
  },
  {
   "cell_type": "code",
   "execution_count": 11,
   "metadata": {
    "collapsed": false
   },
   "outputs": [
    {
     "name": "stdout",
     "output_type": "stream",
     "text": [
      "2.45\n",
      "<type 'float'>\n"
     ]
    }
   ],
   "source": [
    "grandeCoffee = 2.45\n",
    "\n",
    "print grandeCoffee\n",
    "print type(grandeCoffee)"
   ]
  },
  {
   "cell_type": "markdown",
   "metadata": {},
   "source": [
    "Like in math, it's easy to use variables to keep track of values instead of having numbers all over the place"
   ]
  },
  {
   "cell_type": "code",
   "execution_count": 12,
   "metadata": {
    "collapsed": false
   },
   "outputs": [
    {
     "name": "stdout",
     "output_type": "stream",
     "text": [
      "Me, aged 22, bought a coffe from Starbucks costing $2.45\n"
     ]
    }
   ],
   "source": [
    "print '{}, aged {}, bought a coffe from Starbucks costing ${}' .format(gradStudent, age, grandeCoffee)"
   ]
  },
  {
   "cell_type": "markdown",
   "metadata": {},
   "source": [
    "Note, what I did there was use the \"{}\" signs in the string to indicate a place where I'll add a variable. I then fill in the blanks in order by following up with \".format()\" with a list of variables inside the parentheses. I'll go over this soon as well."
   ]
  },
  {
   "cell_type": "code",
   "execution_count": 13,
   "metadata": {
    "collapsed": false
   },
   "outputs": [
    {
     "name": "stdout",
     "output_type": "stream",
     "text": [
      "2324.97\n"
     ]
    }
   ],
   "source": [
    "mass         = 237.0\n",
    "acceleration = 9.81\n",
    "force = mass*acceleration\n",
    "\n",
    "print force"
   ]
  },
  {
   "cell_type": "markdown",
   "metadata": {},
   "source": [
    "A set of functions can be set to a variable. In the simple, above case, the variable \"force\" is defined by the function mass times acceleration."
   ]
  },
  {
   "cell_type": "markdown",
   "metadata": {},
   "source": [
    "## Numerical operations on Strings\n",
    "You can perform basic numerical operations (addition multiplication) on strings and the outcome is a visual representation of the math!"
   ]
  },
  {
   "cell_type": "code",
   "execution_count": 14,
   "metadata": {
    "collapsed": false
   },
   "outputs": [
    {
     "name": "stdout",
     "output_type": "stream",
     "text": [
      "aca\n",
      "bdb\n"
     ]
    }
   ],
   "source": [
    "stringA = 'aca'\n",
    "stringB = 'bdb'\n",
    "\n",
    "print stringA\n",
    "print stringB"
   ]
  },
  {
   "cell_type": "code",
   "execution_count": 15,
   "metadata": {
    "collapsed": false
   },
   "outputs": [
    {
     "name": "stdout",
     "output_type": "stream",
     "text": [
      "stringA + stringB is\n",
      "acabdb\n"
     ]
    }
   ],
   "source": [
    "print 'stringA + stringB is'\n",
    "print stringA + stringB"
   ]
  },
  {
   "cell_type": "code",
   "execution_count": 16,
   "metadata": {
    "collapsed": false
   },
   "outputs": [
    {
     "name": "stdout",
     "output_type": "stream",
     "text": [
      "stringA times 3 is\n",
      "acaacaaca\n"
     ]
    }
   ],
   "source": [
    "print 'stringA times 3 is'\n",
    "print stringA * 3"
   ]
  },
  {
   "cell_type": "markdown",
   "metadata": {},
   "source": [
    "As we see here, adding strings basically concatenate them together and multplying strings by an integer (it doesn't work with floats) will yield the same string repeated over and over again."
   ]
  },
  {
   "cell_type": "markdown",
   "metadata": {},
   "source": [
    "## Numerical operations on Integers\n",
    "Math with integers works the same way all non-decimal math is done. All integer arithmetic will yield integer results if only integers are used."
   ]
  },
  {
   "cell_type": "code",
   "execution_count": 17,
   "metadata": {
    "collapsed": true
   },
   "outputs": [],
   "source": [
    "myMoney   = 23 # in dollars\n",
    "yourMoney = 31\n",
    "pizzaCost = 5"
   ]
  },
  {
   "cell_type": "code",
   "execution_count": 18,
   "metadata": {
    "collapsed": false
   },
   "outputs": [
    {
     "name": "stdout",
     "output_type": "stream",
     "text": [
      "How much do we have we we pooled our money together?\n",
      "54\n"
     ]
    }
   ],
   "source": [
    "print 'How much do we have we we pooled our money together?'\n",
    "print myMoney + yourMoney"
   ]
  },
  {
   "cell_type": "code",
   "execution_count": 19,
   "metadata": {
    "collapsed": false
   },
   "outputs": [
    {
     "name": "stdout",
     "output_type": "stream",
     "text": [
      "How much more money do you have than I do?\n",
      "8\n"
     ]
    }
   ],
   "source": [
    "print 'How much more money do you have than I do?'\n",
    "print yourMoney - myMoney"
   ]
  },
  {
   "cell_type": "code",
   "execution_count": 20,
   "metadata": {
    "collapsed": false
   },
   "outputs": [
    {
     "name": "stdout",
     "output_type": "stream",
     "text": [
      "How much do I have if you double your money?\n",
      "62\n"
     ]
    }
   ],
   "source": [
    "print 'How much do I have if you double your money?'\n",
    "print yourMoney*2"
   ]
  },
  {
   "cell_type": "markdown",
   "metadata": {},
   "source": [
    "Multiplication is indicated with an asterisk \"*\""
   ]
  },
  {
   "cell_type": "code",
   "execution_count": 21,
   "metadata": {
    "collapsed": false
   },
   "outputs": [
    {
     "name": "stdout",
     "output_type": "stream",
     "text": [
      "What if you square it?\n",
      "961\n"
     ]
    }
   ],
   "source": [
    "print 'What if you square it?'\n",
    "print yourMoney**2"
   ]
  },
  {
   "cell_type": "markdown",
   "metadata": {},
   "source": [
    "And doing exponents requires two asterisks \"**\""
   ]
  },
  {
   "cell_type": "code",
   "execution_count": 22,
   "metadata": {
    "collapsed": false
   },
   "outputs": [
    {
     "name": "stdout",
     "output_type": "stream",
     "text": [
      "How many pizzas can I buy?\n",
      "4\n"
     ]
    }
   ],
   "source": [
    "print 'How many pizzas can I buy?'\n",
    "print myMoney/pizzaCost"
   ]
  },
  {
   "cell_type": "markdown",
   "metadata": {},
   "source": [
    "2 things to note here. Division is indicated by a slash \"/\" sign. Also, notice that 23/5 does NOT yield a decimal value? Integer division will yield only the integer portion of the quotient."
   ]
  },
  {
   "cell_type": "code",
   "execution_count": 23,
   "metadata": {
    "collapsed": false
   },
   "outputs": [
    {
     "name": "stdout",
     "output_type": "stream",
     "text": [
      "How much money do I have left over after buying 4 pizzas?\n",
      "3\n"
     ]
    }
   ],
   "source": [
    "print 'How much money do I have left over after buying 4 pizzas?'\n",
    "print myMoney%pizzaCost"
   ]
  },
  {
   "cell_type": "markdown",
   "metadata": {},
   "source": [
    "However, you can get the remainder of a division by using the percent \"%\" sign instead of the division sign"
   ]
  },
  {
   "cell_type": "markdown",
   "metadata": {},
   "source": [
    "## Numerical operations on Floats\n",
    "All float math is the same as integer math, so I'll discuss additional features that doing float math has."
   ]
  },
  {
   "cell_type": "code",
   "execution_count": 24,
   "metadata": {
    "collapsed": true
   },
   "outputs": [],
   "source": [
    "temperature = 23.1 # celsius"
   ]
  },
  {
   "cell_type": "code",
   "execution_count": 25,
   "metadata": {
    "collapsed": false
   },
   "outputs": [
    {
     "name": "stdout",
     "output_type": "stream",
     "text": [
      "46.2\n",
      "<type 'float'>\n"
     ]
    }
   ],
   "source": [
    "print temperature*2\n",
    "print type(temperature*2)"
   ]
  },
  {
   "cell_type": "code",
   "execution_count": 26,
   "metadata": {
    "collapsed": false
   },
   "outputs": [
    {
     "name": "stdout",
     "output_type": "stream",
     "text": [
      "24.1\n",
      "<type 'float'>\n"
     ]
    }
   ],
   "source": [
    "print temperature + 1\n",
    "print type(temperature + 1)"
   ]
  },
  {
   "cell_type": "markdown",
   "metadata": {},
   "source": [
    "When you do math with a float, the resulting number will also be a float"
   ]
  },
  {
   "cell_type": "markdown",
   "metadata": {},
   "source": [
    "## Coercion\n",
    "You can force number types to become another type using the int(), float(), and str() functions"
   ]
  },
  {
   "cell_type": "code",
   "execution_count": 27,
   "metadata": {
    "collapsed": false
   },
   "outputs": [
    {
     "name": "stdout",
     "output_type": "stream",
     "text": [
      "<type 'int'> <type 'float'> <type 'str'>\n"
     ]
    }
   ],
   "source": [
    "print type(1), type(float(1)), type(str(1))"
   ]
  },
  {
   "cell_type": "code",
   "execution_count": 28,
   "metadata": {
    "collapsed": false
   },
   "outputs": [
    {
     "name": "stdout",
     "output_type": "stream",
     "text": [
      "<type 'float'> <type 'int'> <type 'str'>\n"
     ]
    }
   ],
   "source": [
    "print type(1.), type(int(1.)), type(str(1.))"
   ]
  },
  {
   "cell_type": "markdown",
   "metadata": {},
   "source": [
    "int() forces values to be an integer. Floats will be rounded down to the nearest integer.\n",
    "float() forces values to become a float\n",
    "str() forces values to become a string"
   ]
  },
  {
   "cell_type": "markdown",
   "metadata": {},
   "source": [
    "## Even more on strings: indexing, special characters, formatting, and inputs"
   ]
  },
  {
   "cell_type": "markdown",
   "metadata": {},
   "source": [
    "## Indexing\n",
    "Python has this thing called \"indexing\" whereby you can pull specific parts of strings or lists (to be discussed in future lectures)."
   ]
  },
  {
   "cell_type": "code",
   "execution_count": 29,
   "metadata": {
    "collapsed": true
   },
   "outputs": [],
   "source": [
    "someString = 'abcdefghij'"
   ]
  },
  {
   "cell_type": "code",
   "execution_count": 30,
   "metadata": {
    "collapsed": false
   },
   "outputs": [
    {
     "name": "stdout",
     "output_type": "stream",
     "text": [
      "a\n"
     ]
    }
   ],
   "source": [
    "print someString[0]"
   ]
  },
  {
   "cell_type": "markdown",
   "metadata": {},
   "source": [
    "We index by adding square brackets \"[]\" right after a string. Python indexing starts with 0 instead of 1. Since we wanted the first letter of the string, we use [0] as our index."
   ]
  },
  {
   "cell_type": "code",
   "execution_count": 31,
   "metadata": {
    "collapsed": false
   },
   "outputs": [
    {
     "name": "stdout",
     "output_type": "stream",
     "text": [
      "what are the other letters of someString?\n",
      "b\n",
      "c\n",
      "d\n",
      "e\n",
      "f\n",
      "g\n",
      "h\n",
      "i\n",
      "j\n"
     ]
    }
   ],
   "source": [
    "print 'what are the other letters of someString?'\n",
    "\n",
    "print someString[1]\n",
    "print someString[2]\n",
    "print someString[3]\n",
    "print someString[4]\n",
    "print someString[5]\n",
    "print someString[6]\n",
    "print someString[7]\n",
    "print someString[8]\n",
    "print someString[9]"
   ]
  },
  {
   "cell_type": "markdown",
   "metadata": {},
   "source": [
    "You can also store these as variables!"
   ]
  },
  {
   "cell_type": "code",
   "execution_count": 32,
   "metadata": {
    "collapsed": false
   },
   "outputs": [
    {
     "name": "stdout",
     "output_type": "stream",
     "text": [
      "b\n",
      "c\n",
      "d\n",
      "bdc\n"
     ]
    }
   ],
   "source": [
    "var1 = someString[1]\n",
    "var2 = someString[2]\n",
    "var3 = someString[3]\n",
    "\n",
    "print var1\n",
    "print var2\n",
    "print var3\n",
    "\n",
    "print var1 + var3 + var2"
   ]
  },
  {
   "cell_type": "code",
   "execution_count": 33,
   "metadata": {
    "collapsed": false
   },
   "outputs": [
    {
     "name": "stdout",
     "output_type": "stream",
     "text": [
      "What if we use an index larger than the length of the string?\n"
     ]
    },
    {
     "ename": "IndexError",
     "evalue": "string index out of range",
     "output_type": "error",
     "traceback": [
      "\u001b[1;31m---------------------------------------------------------------------------\u001b[0m",
      "\u001b[1;31mIndexError\u001b[0m                                Traceback (most recent call last)",
      "\u001b[1;32m<ipython-input-33-33328b11c688>\u001b[0m in \u001b[0;36m<module>\u001b[1;34m()\u001b[0m\n\u001b[0;32m      1\u001b[0m \u001b[1;32mprint\u001b[0m \u001b[1;34m'What if we use an index larger than the length of the string?'\u001b[0m\u001b[1;33m\u001b[0m\u001b[0m\n\u001b[1;32m----> 2\u001b[1;33m \u001b[1;32mprint\u001b[0m \u001b[0msomeString\u001b[0m\u001b[1;33m[\u001b[0m\u001b[1;36m20\u001b[0m\u001b[1;33m]\u001b[0m\u001b[1;33m\u001b[0m\u001b[0m\n\u001b[0m",
      "\u001b[1;31mIndexError\u001b[0m: string index out of range"
     ]
    }
   ],
   "source": [
    "print 'What if we use an index larger than the length of the string?'\n",
    "print someString[20]"
   ]
  },
  {
   "cell_type": "code",
   "execution_count": 34,
   "metadata": {
    "collapsed": false
   },
   "outputs": [
    {
     "name": "stdout",
     "output_type": "stream",
     "text": [
      "What if we use negative values?\n",
      "i\n"
     ]
    }
   ],
   "source": [
    "print 'What if we use negative values?'\n",
    "print someString[-2]"
   ]
  },
  {
   "cell_type": "markdown",
   "metadata": {},
   "source": [
    "Using negative values counts backwards instead"
   ]
  },
  {
   "cell_type": "code",
   "execution_count": 35,
   "metadata": {
    "collapsed": false
   },
   "outputs": [
    {
     "name": "stdout",
     "output_type": "stream",
     "text": [
      "bcde\n"
     ]
    }
   ],
   "source": [
    "print someString[1:5]"
   ]
  },
  {
   "cell_type": "markdown",
   "metadata": {},
   "source": [
    "Here, we have a different indexing notation. In this case, the first number represents the first letter to print all the way up to the letter in the position of the second number, exclusive."
   ]
  },
  {
   "cell_type": "code",
   "execution_count": 36,
   "metadata": {
    "collapsed": false
   },
   "outputs": [
    {
     "name": "stdout",
     "output_type": "stream",
     "text": [
      "Let us get the first 5 letters\n",
      "abcde\n"
     ]
    }
   ],
   "source": [
    "print 'Let us get the first 5 letters'\n",
    "print someString[0:5]"
   ]
  },
  {
   "cell_type": "markdown",
   "metadata": {},
   "source": [
    "## Special Characters\n",
    "There are special characters than can be used in strings to do some interesting things. They're generally indicated with a backslash and some letter. The most common ones for string formatting I've seen are \\t and \\n, which correspond to tabs and newlines"
   ]
  },
  {
   "cell_type": "code",
   "execution_count": 2,
   "metadata": {
    "collapsed": false
   },
   "outputs": [
    {
     "name": "stdout",
     "output_type": "stream",
     "text": [
      "some\thing is missing\n",
      "somethi\n",
      "g is broken\n",
      "something th\u0007t will drive you b\u0007n\u0007n\u0007s\n",
      "\\a solu\\tio\\n\n",
      "\\another solu\\tio\\n\n"
     ]
    }
   ],
   "source": [
    "s = 'some\\thing is missing'\n",
    "print s\n",
    "s2 = \"somethi\\ng is broken\"\n",
    "print s2\n",
    "s3 = '''something th\\at will drive you b\\an\\an\\as'''\n",
    "print s3\n",
    " \n",
    "s4 = r'\\a solu\\tio\\n'\n",
    "print s4\n",
    " \n",
    "s5 = '\\\\another solu\\\\tio\\\\n'\n",
    "print s5"
   ]
  },
  {
   "cell_type": "markdown",
   "metadata": {},
   "source": [
    "This ugly (and possibly loud, if your sound is working properly) mess is caused by escape characters. In python strings, several special characters (full list here: https://docs.python.org/2/reference/lexical_analysis.html#string-literals) can be preceded by a backslash (\\) to produce special output, such as a tab (\\t) newline (\\n) or even a bell noise (\\a).\n",
    "This is handy, since it means you can liberally pepper your strings with tabs and line breaks. In fact, lots of the data that we use are conveniently stored in files that are delimited by such tabs and line breaks. This might be a problem, however, say if you wanted to use a backslash in your string. Python offers two ways around this: the safest is to escape your escape, using a second backslash (see s5 above, '\\'). A fancier way involves a special kind of string, the raw string.\n",
    "Raw strings start with r' and end with ' will treat every character between as exactly what it looks like, with the exception of the single quote (which ends the string). \n",
    "\n",
    "If you do use raw strings, watch out for two catches:\n",
    "* You must still escape single quotes you want to appear inside the string.\n",
    "* The last character of the string cannot be a backslash, since this will escape the closing quote.\n",
    "Color coding from synthax highlighting will help you notice the problems:"
   ]
  },
  {
   "cell_type": "markdown",
   "metadata": {},
   "source": [
    "## Formatting\n",
    "We've learned about strings and variables, but how can we put them together? This is where formatting comes into play, where we can combine them together on a line. It's useful when you're processing data and each line requires that you have a set of tab delimited data. The following is a slightly more complex example to get the point across"
   ]
  },
  {
   "cell_type": "code",
   "execution_count": 39,
   "metadata": {
    "collapsed": false
   },
   "outputs": [
    {
     "name": "stdout",
     "output_type": "stream",
     "text": [
      "1\todd\todd\n",
      "2\teven\teven\n",
      "3\todd\todd\n",
      "4\teven\teven\n",
      "5\todd\todd\n",
      "6\teven\teven\n",
      "7\todd\todd\n",
      "8\teven\teven\n",
      "9\todd\todd\n",
      "10\teven\teven\n"
     ]
    }
   ],
   "source": [
    "# Let's see if numbers from 0 to 10 are even or odd\n",
    "# Spit out the number, whether or not it's even or odd\n",
    "# Let's also see if it's square is even or odd\n",
    "for i in range(1,11):\n",
    "    isOdd = ''\n",
    "    if i%2 == 0:\n",
    "        isOdd = 'even'\n",
    "    else:\n",
    "        isOdd = 'odd'\n",
    "    \n",
    "    square = ''\n",
    "    if i**2%2 == 0:\n",
    "        square = 'even'\n",
    "    else:\n",
    "        square = 'odd'\n",
    "        \n",
    "    print '{}\\t{}\\t{}'.format(i, isOdd, square)"
   ]
  },
  {
   "cell_type": "markdown",
   "metadata": {},
   "source": [
    "To format strings or , in other words, to be able to place variables within a string, just place curly braces {} where you'd like variables to appear; then use .format() and type in a list of variables to input."
   ]
  },
  {
   "cell_type": "code",
   "execution_count": 40,
   "metadata": {
    "collapsed": true
   },
   "outputs": [],
   "source": [
    "pet = 'cat'\n",
    "howMany = 13"
   ]
  },
  {
   "cell_type": "code",
   "execution_count": 41,
   "metadata": {
    "collapsed": false
   },
   "outputs": [
    {
     "name": "stdout",
     "output_type": "stream",
     "text": [
      "I have a cat, 13 of them. Does this make me a hoarder?\n"
     ]
    }
   ],
   "source": [
    "print 'I have a {}, {} of them. Does this make me a hoarder?' .format(pet, howMany)"
   ]
  },
  {
   "cell_type": "markdown",
   "metadata": {},
   "source": [
    "If you put too many variables in the .format() list, the excess will not be included in the string."
   ]
  },
  {
   "cell_type": "markdown",
   "metadata": {},
   "source": [
    "## Input\n",
    "This will seem random, but it's something fun to be able to do at this stage of coding. It basically will make it so that your python script will spit out a string that will require you to type something in and then storing it as a string. This sounds more complicated than it really is. The following shows the format of how it's done."
   ]
  },
  {
   "cell_type": "code",
   "execution_count": null,
   "metadata": {
    "collapsed": false
   },
   "outputs": [],
   "source": [
    "name = raw_input(\"what's your name? \")\n",
    "print name"
   ]
  },
  {
   "cell_type": "code",
   "execution_count": null,
   "metadata": {
    "collapsed": false
   },
   "outputs": [],
   "source": [
    "age = raw_input(\"How old are you? \")\n",
    "print age\n",
    "print type(age)"
   ]
  },
  {
   "cell_type": "markdown",
   "metadata": {},
   "source": [
    "Notice that everything is read in as a string, even numbers. Remember that if you want numbers to be an int or a float, just use coercion with int() and float() functions"
   ]
  },
  {
   "cell_type": "markdown",
   "metadata": {},
   "source": [
    "# Questions"
   ]
  },
  {
   "cell_type": "markdown",
   "metadata": {},
   "source": [
    "1-Write a script that will ask for someone's age and print out the year they're born in. The final output should be in the format: You are \"age\" years old, so you were born in \"year\""
   ]
  },
  {
   "cell_type": "markdown",
   "metadata": {},
   "source": [
    "2- A haiku consists of 3 lines that have 5 syllables in the first line, 7 in the second, and 5 in the last. Here's a sample haiku:\n",
    "\n",
    "   The light of the moon It moves west, flowers' shadows, They all creep eastward.\n",
    "\n",
    "\n",
    "Turn this haiku into a string and add new line characters to transform it into a proper haiku"
   ]
  },
  {
   "cell_type": "markdown",
   "metadata": {},
   "source": [
    "3-Write a code that will ask 2 questions. Each question will ask for a number between 0 and 70. Index the haiku in question 2 with the smaller number being the start position and the larger number being the end position. What is the result?"
   ]
  },
  {
   "cell_type": "markdown",
   "metadata": {},
   "source": [
    "4-Write a code that asks for how much money you have and also how much something costs (e.g. a pencil). Calculate how many of these things you can buy and how much money you would have left over."
   ]
  }
 ],
 "metadata": {
  "anaconda-cloud": {},
  "kernelspec": {
   "display_name": "Python [conda env:python2]",
   "language": "python",
   "name": "conda-env-python2-py"
  },
  "language_info": {
   "codemirror_mode": {
    "name": "ipython",
    "version": 2
   },
   "file_extension": ".py",
   "mimetype": "text/x-python",
   "name": "python",
   "nbconvert_exporter": "python",
   "pygments_lexer": "ipython2",
   "version": "2.7.12"
  }
 },
 "nbformat": 4,
 "nbformat_minor": 0
}
