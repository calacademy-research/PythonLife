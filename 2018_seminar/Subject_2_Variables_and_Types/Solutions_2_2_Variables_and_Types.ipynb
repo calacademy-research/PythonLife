{
 "cells": [
  {
   "cell_type": "markdown",
   "metadata": {},
   "source": [
    "__Budget__\n",
    "\n",
    "Write a code that asks for how much money you have and also how much something costs (e.g. a pencil). Calculate how many of these things you can buy and how much money you would have left over."
   ]
  },
  {
   "cell_type": "code",
   "execution_count": null,
   "metadata": {},
   "outputs": [],
   "source": [
    "money  = int(raw_input('How much money do you have?\\n'))\n",
    "pencil = int(raw_input('How much does a pencil cost?\\n'))\n",
    "\n",
    "canBuy   = money/pencil\n",
    "leftOver = money%pencil\n",
    "\n",
    "print 'I can buy {} pencils with {} dollars left over' .format(canBuy, leftOver)"
   ]
  },
  {
   "cell_type": "markdown",
   "metadata": {},
   "source": [
    "__Ratio__\n",
    "\n",
    "  Read two numbers in (user input).\n",
    "  Print out their ratio."
   ]
  },
  {
   "cell_type": "code",
   "execution_count": null,
   "metadata": {},
   "outputs": [],
   "source": [
    "num1 = float(raw_input(\"Enter a number and press return:  \"))\n",
    "num2 = float(raw_input(\"Now enter another number and press return:  \"))\n",
    "\n",
    "print \"The ratio of these two numbers is\"\n",
    "print num1 / num2"
   ]
  },
  {
   "cell_type": "code",
   "execution_count": null,
   "metadata": {},
   "outputs": [],
   "source": [
    "# How to limit the number og digits in output?\n",
    "\n",
    "# with round\n",
    "print \"The ratio of these two numbers is\"\n",
    "print round(num1 / num2, 3)\n",
    "\n",
    "# with string formatting\n",
    "# Old way\n",
    "print \"The ratio of these two numbers is %.3f\" %  (num1 / num2)\n",
    "\n",
    "# New way\n",
    "print \"The ratio of these two numbers is {:.3f}\".format(num1 / num2)"
   ]
  },
  {
   "cell_type": "markdown",
   "metadata": {},
   "source": [
    "__Sum and Mean__\n",
    "\n",
    "  Read five numbers in. Print out their sum and mean."
   ]
  },
  {
   "cell_type": "code",
   "execution_count": null,
   "metadata": {},
   "outputs": [
    {
     "name": "stdout",
     "output_type": "stream",
     "text": [
      "Enter five numbers, pressing return after each number:\n"
     ]
    }
   ],
   "source": [
    "print \"Enter five numbers, pressing return after each number:\"\n",
    "num1 = float(raw_input(\"Number 1:  \"))\n",
    "num2 = float(raw_input(\"Number 2:  \"))\n",
    "num3 = float(raw_input(\"Number 3:  \"))\n",
    "num4 = float(raw_input(\"Number 4:  \"))\n",
    "num5 = float(raw_input(\"Number 5:  \"))\n",
    " \n",
    "total_sum = num1 + num2 + num3 + num4 + num5\n",
    "mean = total_sum / 5\n",
    " \n",
    "print \"The sum of these numbers is {}\".format(total_sum)\n",
    "# Old way...\n",
    "# print \"And the mean is %.2f\" % mean\n",
    "\n",
    "# New way:\n",
    "print \"And the mean is {:.2f}\".format(mean)"
   ]
  },
  {
   "cell_type": "code",
   "execution_count": null,
   "metadata": {},
   "outputs": [],
   "source": []
  }
 ],
 "metadata": {
  "anaconda-cloud": {},
  "kernelspec": {
   "display_name": "Python 2",
   "language": "python",
   "name": "python2"
  },
  "language_info": {
   "codemirror_mode": {
    "name": "ipython",
    "version": 2
   },
   "file_extension": ".py",
   "mimetype": "text/x-python",
   "name": "python",
   "nbconvert_exporter": "python",
   "pygments_lexer": "ipython2",
   "version": "2.7.13"
  }
 },
 "nbformat": 4,
 "nbformat_minor": 1
}
