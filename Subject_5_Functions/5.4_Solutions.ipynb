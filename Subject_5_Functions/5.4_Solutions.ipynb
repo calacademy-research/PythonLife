{
 "cells": [
  {
   "cell_type": "markdown",
   "metadata": {},
   "source": [
    "# Solutions:\n",
    "\n",
    "## Functions"
   ]
  },
  {
   "cell_type": "markdown",
   "metadata": {},
   "source": [
    "__1. Fun with Functions__\n",
    "    \n",
    "    a) Write a function that takes an integer x as input, and returns twice the value of x\n",
    "    b) Write a function that takes an integer x as input, and returns the square of x\n",
    "    c) Write a function that takes two numbers, and returns their sum\n",
    "    d) Write a function that takes three numbers, and returns their sum and their product\n",
    "    e) Write a function that takes up to (but not always) three numbers, and returns their product"
   ]
  },
  {
   "cell_type": "code",
   "execution_count": 7,
   "metadata": {},
   "outputs": [
    {
     "name": "stdout",
     "output_type": "stream",
     "text": [
      "twice 4 is 8\n",
      "square of 4 is 16\n",
      "sum of 4 and 6 is 10\n",
      "sum of 4,6,and 10 is 20, product is 240\n",
      "1\n",
      "4\n",
      "24\n",
      "240\n"
     ]
    }
   ],
   "source": [
    "##(a)\n",
    "def twice_x(x):\n",
    "    twice = x + x\n",
    "    return twice\n",
    "\n",
    "##(b)\n",
    "def square_x(x):\n",
    "    square = x**2\n",
    "    return square\n",
    "\n",
    "##(c)\n",
    "def sum_of(x,y):\n",
    "    the_sum = x + y\n",
    "    return the_sum\n",
    "\n",
    "##(d)\n",
    "def sum_prod(x,y,z):\n",
    "    the_sum = x + y + z\n",
    "    the_product = x * y * z\n",
    "    return the_sum,the_product\n",
    "\n",
    "##(e)\n",
    "def var_prod(x=1,y=1,z=1):\n",
    "    the_product = x * y * z\n",
    "    return the_product\n",
    "\n",
    "##lets check these\n",
    "a = 4\n",
    "b = 6\n",
    "c = 10\n",
    "twice =  twice_x(a)\n",
    "print \"twice {0} is {1}\".format(a,twice)\n",
    "\n",
    "square = square_x(a)\n",
    "print \"square of {0} is {1}\".format(a,square)\n",
    "\n",
    "sum_of_nums = sum_of(a,b)\n",
    "print \"sum of {0} and {1} is {2}\".format(a,b,sum_of_nums)\n",
    "\n",
    "sum_of_nums,prod_of_nums = sum_prod(a,b,c)\n",
    "print 'sum of {0},{1},and {2} is {3}, product is {4}'.format(a,b,c,sum_of_nums,prod_of_nums)\n",
    "\n",
    "prod = varprod()\n",
    "print prod\n",
    "\n",
    "prod = varprod(a)\n",
    "print prod\n",
    "\n",
    "prod = varprod(a,b)\n",
    "print prod\n",
    "\n",
    "prod = varprod(a,b,c)\n",
    "print prod"
   ]
  },
  {
   "cell_type": "markdown",
   "metadata": {},
   "source": [
    "__2. The Greeter Redux__\n",
    "\n",
    "Write a function that asks the user for their name and the year they were born in, greets the user, and returns their name and age."
   ]
  },
  {
   "cell_type": "code",
   "execution_count": null,
   "metadata": {},
   "outputs": [],
   "source": [
    "def greet_user(CURRENT_YEAR=2016):\n",
    "    user_name = raw_input(\"What is your name?\")\n",
    "    birth_year = int(raw_input(\"What year were you born?\"))\n",
    "    user_age = CURRENT_YEAR - birth_year\n",
    "    print \"Hello {0}!!\".format(user_name)\n",
    "    return user_name,user_age\n",
    "\n",
    "print greet_user()"
   ]
  },
  {
   "cell_type": "markdown",
   "metadata": {},
   "source": [
    "__3. Sequence Analyis__\n",
    "\n",
    "Write a function that calculates the percentage of As,Cs,Ts,Gs from its input DNA sequence (Hint: The **count()** method of strings will be very useful!). Run it on the below DNA sequences:\n",
    "\n",
    "    ACGT\n",
    "    AAACGGGT\n",
    "    ACCCCCCCCCG\n",
    "    AAAAAAAAAAA\n",
    "    GAGNNNNNNNNA\n",
    "    AccgAcAcGGAa\n",
    "    CTgTggTGGT\n",
    "    zzfsafsdgs\n"
   ]
  },
  {
   "cell_type": "code",
   "execution_count": 8,
   "metadata": {},
   "outputs": [
    {
     "name": "stdout",
     "output_type": "stream",
     "text": [
      "(0.25, 0.25, 0.25, 0.25)\n",
      "(0.375, 0.125, 0.375, 0.125)\n",
      "(0.09090909090909091, 0.8181818181818182, 0.09090909090909091, 0.0)\n",
      "(1.0, 0.0, 0.0, 0.0)\n",
      "(0.16666666666666666, 0.0, 0.16666666666666666, 0.0)\n",
      "(0.4166666666666667, 0.3333333333333333, 0.25, 0.0)\n",
      "(0.0, 0.1, 0.5, 0.4)\n",
      "(0.1, 0.0, 0.1, 0.0)\n"
     ]
    }
   ],
   "source": [
    "##returns percentage of As,Cs,Gs, and Ts in the input in a tuple (in order)\n",
    "def seq_stats(input_seq):\n",
    "    \n",
    "    ##set to upper case for easy matching\n",
    "    input_seq = input_seq.upper()\n",
    "    total_nucs = len(input_seq)\n",
    "    \n",
    "    As = input_seq.count('A')\n",
    "    Cs = input_seq.count('C')\n",
    "    Gs = input_seq.count('G')\n",
    "    Ts = input_seq.count('T')\n",
    "    \n",
    "    percent_A = float(As)/total_nucs\n",
    "    percent_C = Cs/float(total_nucs)\n",
    "    percent_G = Gs/float(total_nucs)\n",
    "    percent_T = Ts/float(total_nucs)\n",
    "    \n",
    "    return (percent_A,percent_C,percent_G,percent_T)\n",
    "\n",
    "print seq_stats('ACGT')\n",
    "print seq_stats('AAACGGGT')\n",
    "print seq_stats('ACCCCCCCCCG')\n",
    "print seq_stats('AAAAAAAAAAA')\n",
    "print seq_stats('GAGNNNNNNNNA')\n",
    "print seq_stats('AccgAcAcGGAa')\n",
    "print seq_stats('CTgTggTGGT')\n",
    "print seq_stats('zzfsafsdgs')"
   ]
  },
  {
   "cell_type": "markdown",
   "metadata": {},
   "source": [
    "__4. Sequence Annotation__\n",
    "\n",
    "Write a function that takes a sequence of DNA, and returns a fasta-formatted string. The sequence of the fasta string should all be capitalized, and the name of the sequence should be the percentage of the sequence that is G or C. For example, \n",
    "\n",
    "    AcgT\n",
    "\n",
    "should be outputted as\n",
    "\n",
    "    >.50GC\n",
    "    ACGT\n"
   ]
  },
  {
   "cell_type": "code",
   "execution_count": null,
   "metadata": {},
   "outputs": [],
   "source": [
    "def makeFasta_annotate(gene_seq):\n",
    "    \n",
    "    fasta_string_base = '>{0:.2f}GC\\n{1}'\n",
    "    pA,pC,pG,pT = seq_stats(gene_seq)\n",
    "    percent_GC = pC + pG\n",
    "    fasta_string = fasta_string_base.format(percent_GC,gene_seq)\n",
    "    return fasta_string\n",
    "\n",
    "fasta_text = makeFasta_annotate('AAGTGTGTAGT')\n",
    "print fasta_text"
   ]
  },
  {
   "cell_type": "markdown",
   "metadata": {},
   "source": [
    "__5. Reverse Complement__\n",
    "\n",
    "Write a function that takes a sequence of DNA, and returns the reverse complement of the given DNA sequence. Hint - the string **replace()** method will prove very useful!"
   ]
  },
  {
   "cell_type": "code",
   "execution_count": null,
   "metadata": {},
   "outputs": [],
   "source": [
    "def rev_comp(input_seq):\n",
    "    input_seq = input_seq.upper()\n",
    "    \n",
    "    ##swap A and T\n",
    "    input_seq = input_seq.replace('A','b')\n",
    "    input_seq = input_seq.replace('T','A')\n",
    "    input_seq = input_seq.replace('b','T')\n",
    "    \n",
    "    ##swap G and C\n",
    "    input_seq = input_seq.replace('C','b')\n",
    "    input_seq = input_seq.replace('G','C')\n",
    "    input_seq = input_seq.replace('b','G')\n",
    "    \n",
    "    ##reverse the sequence\n",
    "    input_seq = input_seq[::-1]\n",
    "    return input_seq\n",
    "    \n",
    "print rev_comp('ATGCCCCCC')    "
   ]
  },
  {
   "cell_type": "markdown",
   "metadata": {},
   "source": [
    "__6. Putting it all together__\n",
    "\n",
    "Using all the functions you have written, write a 'master' function which takes a sequence of DNA as input, as returns a fasta sequence containing both the inputted sequence and its reverse complement, with the GC content in the '>' name fields"
   ]
  },
  {
   "cell_type": "code",
   "execution_count": null,
   "metadata": {},
   "outputs": [],
   "source": [
    "def analyze_seq(input_seq):\n",
    "    \n",
    "    \n",
    "    rev_comp_input = rev_comp(input_seq)\n",
    "    \n",
    "    input_seq_fasta = makeFasta_annotate(input_seq)\n",
    "    rev_comp_seq_fasta = makeFasta_annotate(rev_comp_input)\n",
    "    #print makeFasta_annotate(rev_comp_input)\n",
    "    comb_fasta = input_seq_fasta + '\\n' + rev_comp_seq_fasta\n",
    "    return comb_fasta\n",
    "print analyze_seq('ATGCCCCCC')"
   ]
  }
 ],
 "metadata": {
  "kernelspec": {
   "display_name": "Python 2",
   "language": "python",
   "name": "python2"
  },
  "language_info": {
   "codemirror_mode": {
    "name": "ipython",
    "version": 2
   },
   "file_extension": ".py",
   "mimetype": "text/x-python",
   "name": "python",
   "nbconvert_exporter": "python",
   "pygments_lexer": "ipython2",
   "version": "2.7.13"
  }
 },
 "nbformat": 4,
 "nbformat_minor": 2
}
