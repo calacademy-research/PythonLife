{
 "cells": [
  {
   "cell_type": "markdown",
   "metadata": {},
   "source": [
    "# Functions \n",
    "\n",
    "When we began the course, we noted that Python was written in two languages - \"C\", and Python itself. We will now explore how to create our own tools and commands. The first step on that path is Functions. \n",
    "\n",
    "We have seen several functions. One is \"len\". We can tell something is a funciton because of those parenthesis - __len()__.\n",
    "\n",
    "Let's build our first function."
   ]
  },
  {
   "cell_type": "code",
   "execution_count": null,
   "metadata": {},
   "outputs": [],
   "source": [
    "def hello_world():\n",
    "    print(\"Hello, world!\")"
   ]
  },
  {
   "cell_type": "markdown",
   "metadata": {},
   "source": [
    "Okay, not so exciting. Let's invoke it..."
   ]
  },
  {
   "cell_type": "code",
   "execution_count": null,
   "metadata": {},
   "outputs": [],
   "source": [
    "hello_world()"
   ]
  },
  {
   "cell_type": "markdown",
   "metadata": {},
   "source": [
    "And, in a loop:"
   ]
  },
  {
   "cell_type": "code",
   "execution_count": null,
   "metadata": {},
   "outputs": [],
   "source": [
    "for i in range(10):\n",
    "    hello_world()"
   ]
  },
  {
   "cell_type": "markdown",
   "metadata": {},
   "source": [
    "Still, not all that exciting. Let's make something more interesting."
   ]
  },
  {
   "cell_type": "code",
   "execution_count": null,
   "metadata": {},
   "outputs": [],
   "source": [
    "def hello_user(user_name):\n",
    "    print \"Hello\",user_name + \"!\""
   ]
  },
  {
   "cell_type": "markdown",
   "metadata": {},
   "source": [
    "This is our first argument. The variable __user_name__ is specified evert time you call the function..."
   ]
  },
  {
   "cell_type": "code",
   "execution_count": null,
   "metadata": {},
   "outputs": [],
   "source": [
    "hello_user(\"joe\")"
   ]
  },
  {
   "cell_type": "markdown",
   "metadata": {},
   "source": [
    "Handy.. let's use it to do something useful..."
   ]
  },
  {
   "cell_type": "code",
   "execution_count": null,
   "metadata": {},
   "outputs": [],
   "source": [
    "users = ['joe','fred','jane']\n",
    "for user in users:\n",
    "    hello_user(user)"
   ]
  },
  {
   "cell_type": "markdown",
   "metadata": {},
   "source": [
    "Nice. Let's try it with a nicer print.."
   ]
  },
  {
   "cell_type": "code",
   "execution_count": null,
   "metadata": {},
   "outputs": [],
   "source": [
    "def hello_user(user_name):\n",
    "    print \"Hello\",user_name.capitalize() + \"!\""
   ]
  },
  {
   "cell_type": "markdown",
   "metadata": {},
   "source": [
    "And let's re-run the above code block with this new function defined. Lo! We have a prettier print funciton.\n",
    "\n",
    "Because we isolated our greet user function, we only had to change code there. If you are careful about how you name and design your code, you will be able to make understanding and fixing it much simpler. In this case, we compartmantalized the concept of \"print\", and isolated it from list iteration.\n",
    "\n",
    "This leads us to another concept - DRY - or \"Don't Repeat Yourself\". Generally, if you look at some code and you see large blocks that look similar, it's a good bet that you can re-write that code to be more efficent, probably using funcitons."
   ]
  },
  {
   "cell_type": "markdown",
   "metadata": {},
   "source": [
    "### Returning values\n",
    "The keyword \"return\" will allow you to pass a single value out. That value can be of any type, including lists, dictionaries, and tuples."
   ]
  },
  {
   "cell_type": "code",
   "execution_count": null,
   "metadata": {},
   "outputs": [],
   "source": [
    "def square(x):\n",
    "    squared = x*x\n",
    "    return squared\n",
    "\n",
    "returned_value = square(10)\n",
    "print returned_value"
   ]
  },
  {
   "cell_type": "markdown",
   "metadata": {},
   "source": [
    "## Function syntax, explained:\n",
    "To define a function, you use the keyword __def__. Then comes the function name, in this case __square__, with parentheses containing any input __arguments__ the function might need. In this case, we need a value to pass in and \"square\" so we've created an  __argument__ called __x__. After that, the function does its thing, executing the indented block of code immediately below the __def__. In this case, it calculates the square of x. The last thing that it does is return that value to the rest of the program.\n",
    "\n",
    "Technically speaking, a function does not need to explicitly return something, although it's uncommon that you'll write any that don't. If you don't return something explicitly, Python will nevertheless return the special object None. None is logically false (for if statements), and printing None will result in nothing being printed (although None is not the empty string)."
   ]
  },
  {
   "cell_type": "markdown",
   "metadata": {},
   "source": [
    "## Namespaces and scope\n",
    "\n",
    "Not all variables are accessible from all parts of our program, and not all variables exist for the same amount of time. Where a variable is accessible and how long it exists depend on how it is defined. We call the part of a program where a variable is accessible its scope, and the duration for which the variable exists its lifetime.\n",
    "\n",
    "A variable which is defined inside a function is local to that function. It is accessible from the point at which it is defined until the end of the function, and exists for as long as the function is executing. The parameter names in the function definition behave like local variables, but they contain the values that we pass into the function when we call it. When we use the assignment operator (=) inside a function, its default behaviour is to create a new local variable – unless a variable with the same name is already defined in the local scope. This is just like any other variable, except that variables with the \"local\" scope vanish when we exit the function.\n",
    "\n",
    "\n",
    "Example:"
   ]
  },
  {
   "cell_type": "code",
   "execution_count": null,
   "metadata": {},
   "outputs": [],
   "source": [
    "# This is defined at the outermost \"scope\"\n",
    "a_is_outside = 0\n",
    "\n",
    "if a_is_outside == 0:\n",
    "    # This is still a global variable\n",
    "    b_is_also_outside = 1\n",
    "\n",
    "def my_function(c_is_argument):\n",
    "    # this is a local variable\n",
    "    d_is_inside = 3\n",
    "    b_is_also_outside = \"Stomped it! This was an int before.\"\n",
    "    print(c_is_argument)\n",
    "    print(d_is_inside)\n",
    "    print \"I'm inside, and I'm printing b:\",b_is_also_global\n",
    "\n",
    "# Now we call the function, passing the value 7 as the first and only parameter\n",
    "my_function(7)\n",
    "\n"
   ]
  },
  {
   "cell_type": "code",
   "execution_count": null,
   "metadata": {},
   "outputs": [],
   "source": [
    "# a still exists\n",
    "print(a_is_outside)\n",
    "# b never changed!\n",
    "print(b_is_also_outside)"
   ]
  },
  {
   "cell_type": "code",
   "execution_count": null,
   "metadata": {},
   "outputs": [],
   "source": [
    "\n",
    "# c and d don't exist anymore -- these statements will give us name errors!\n",
    "print(c_is_argument)\n",
    "print(d_is_inside)"
   ]
  },
  {
   "cell_type": "markdown",
   "metadata": {},
   "source": [
    "## Globals and locals\n",
    "An \"outside\" variable, in the case above, is called a \"global\" variable. Since it was defined outside of all funcitons, it's visible everywhere. These are handy, obviously, but they're also a little clumsy - one of the nice things about funcitons is that when they're well conceived, they are self contained. When they reference variables that aren't passed as arguments, then it's harder to know what they're doing. Generally speaking, \"global\" variables aren't a good idea inside of any project that is more than a few dozen lines. And, sadly, one never knows when a project will grow from a tiny steed into a large project, so it's a good idea to program with as few globals as possible. \n",
    "\n",
    "It is possible to program without global variables, but sometimes it requires cleverness.\n",
    "\n",
    "Finally, let's see how to access global variables from inside functions. Why would we want to permit that, given the sweeping genaralities above? Well, we can also have \"modules\", which is pretty much just a file, and global variables only span modules. We'll explore modules (and classes!) later. \n",
    "\n",
    "For now, let's re-write the code above, but change only one line. "
   ]
  },
  {
   "cell_type": "code",
   "execution_count": null,
   "metadata": {},
   "outputs": [],
   "source": [
    "# This is defined at the outermost \"scope\"\n",
    "a_is_outside = 0\n",
    "\n",
    "if a_is_outside == 0:\n",
    "    # This is still a global variable\n",
    "    b_is_also_outside = 1\n",
    "\n",
    "def my_function(c_is_argument):\n",
    "    # this is a local variable\n",
    "    global b_is_also_outside\n",
    "    d_is_inside = 3\n",
    "    b_is_also_outside = \"Stomped it! This was an int before.\"\n",
    "    print(c_is_argument)\n",
    "    print(d_is_inside)\n",
    "    print \"I'm inside, and I'm printing b:\",b_is_also_global\n",
    "\n",
    "# Now we call the function, passing the value 7 as the first and only parameter\n",
    "my_function(7)"
   ]
  },
  {
   "cell_type": "code",
   "execution_count": null,
   "metadata": {},
   "outputs": [],
   "source": [
    "# a still exists\n",
    "print(a_is_outside)\n",
    "# b never changed!... no, wait... now it's a \"global\"....\n",
    "print(b_is_also_outside)"
   ]
  },
  {
   "cell_type": "markdown",
   "metadata": {},
   "source": [
    "## Other implications of funcitons.\n",
    "As you have seen, we can call functions within funcitons. Remember __len()__?"
   ]
  },
  {
   "cell_type": "code",
   "execution_count": null,
   "metadata": {},
   "outputs": [],
   "source": [
    "def square(x):\n",
    "    squared = x*x\n",
    "    return squared"
   ]
  },
  {
   "cell_type": "code",
   "execution_count": null,
   "metadata": {},
   "outputs": [],
   "source": [
    "def to_the_fourth(x):\n",
    "    x = square(x)\n",
    "    x = square(x)\n",
    "    return x\n",
    "\n",
    "print \"to the 4th power...\", to_the_fourth(2)"
   ]
  },
  {
   "cell_type": "markdown",
   "metadata": {},
   "source": [
    "How about.. to the nth power? We can pass two variables in..."
   ]
  },
  {
   "cell_type": "code",
   "execution_count": null,
   "metadata": {},
   "outputs": [],
   "source": [
    "def to_the_nth(x,n):\n",
    "    t = 1\n",
    "    for i in range(n):\n",
    "        t = t * x\n",
    "    return t\n",
    "\n",
    "print \"to the nth power: \", to_the_nth(2,4)"
   ]
  },
  {
   "cell_type": "markdown",
   "metadata": {},
   "source": [
    "Let's run that in the debugger... *brian simison*"
   ]
  },
  {
   "cell_type": "markdown",
   "metadata": {},
   "source": [
    "Thought excercise: What happens when you have a function call itself? Try it on your own time... this is call recursion, and it's exceptionally powerful. It has subtle implications that aren't immediately obvious. Try it on your own time!"
   ]
  },
  {
   "cell_type": "markdown",
   "metadata": {},
   "source": [
    "### Default values\n",
    "We can have a \"default\" value:"
   ]
  },
  {
   "cell_type": "code",
   "execution_count": null,
   "metadata": {},
   "outputs": [],
   "source": [
    "def to_the_nth(x,n=2): # n is 2 unless otherwise specified....\n",
    "    t = 1\n",
    "    for i in range(n):\n",
    "        t = t * x\n",
    "    return t\n",
    "\n",
    "print \"to the 2nd power: \", to_the_nth(2)\n",
    "print \"to the 5th power: \", to_the_nth(2,5)\n"
   ]
  },
  {
   "cell_type": "markdown",
   "metadata": {},
   "source": [
    "### Returning tuples\n",
    "A tuple can be a handy way to return more than one value from a function...\n"
   ]
  },
  {
   "cell_type": "code",
   "execution_count": null,
   "metadata": {},
   "outputs": [],
   "source": [
    "\n",
    "def second_and_fourth(x):\n",
    "    second = square(x)\n",
    "    fourth = to_the_nth(x,4)\n",
    "    return second,fourth\n",
    "    \n",
    "print second_and_fourth(5)"
   ]
  },
  {
   "cell_type": "code",
   "execution_count": null,
   "metadata": {},
   "outputs": [],
   "source": [
    "And you can assign a tuple to two variables!"
   ]
  },
  {
   "cell_type": "code",
   "execution_count": null,
   "metadata": {},
   "outputs": [],
   "source": [
    "foo, bar = (\"foo Contents\",\"bar contents\")\n",
    "print \"first variable:\", foo\n",
    "print \"second variable:\",bar"
   ]
  },
  {
   "cell_type": "code",
   "execution_count": null,
   "metadata": {},
   "outputs": [],
   "source": [
    "We can do the same with a function that returns a tuple:"
   ]
  },
  {
   "cell_type": "code",
   "execution_count": null,
   "metadata": {},
   "outputs": [],
   "source": [
    "second, fourth = second_and_fourth(5)\n",
    "print \"second:\",second\n",
    "print \"fourth:\", fourth"
   ]
  },
  {
   "cell_type": "code",
   "execution_count": null,
   "metadata": {},
   "outputs": [],
   "source": []
  }
 ],
 "metadata": {
  "kernelspec": {
   "display_name": "Python 2",
   "language": "python",
   "name": "python2"
  },
  "language_info": {
   "codemirror_mode": {
    "name": "ipython",
    "version": 2
   },
   "file_extension": ".py",
   "mimetype": "text/x-python",
   "name": "python",
   "nbconvert_exporter": "python",
   "pygments_lexer": "ipython2",
   "version": "2.7.13"
  }
 },
 "nbformat": 4,
 "nbformat_minor": 2
}
