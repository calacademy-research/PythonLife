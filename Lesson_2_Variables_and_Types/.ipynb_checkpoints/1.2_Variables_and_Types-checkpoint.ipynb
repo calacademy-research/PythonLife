{
 "cells": [
  {
   "cell_type": "markdown",
   "metadata": {
    "collapsed": true
   },
   "source": [
    "# Variables and Types\n",
    "\n",
    "* Basic data types: strings, integers, floating-point numbers\n",
    "* Coercion\n",
    "* Variables\n",
    "* Numerical operations on strings, integers and floats\n",
    "* Strings: indexing, special characters, formatting, and inputs\n",
    "\n",
    "---\n",
    "\n",
    "### What is a type?\n",
    "Computers - as we have previously observerd - aren't terribly smart. While we are able to represent information like \"Hello\" and \"3.14159\", it's pretty clear that the things we might do with the value of Pi and a greeting are pretty different. It's hard to sum two strings, and it doesn't make a lot of sense to remove the apostrophies from an integer. In fact, internally, Python has the ability to represent these data very differently. Each kind of data is called a \"Type\". Soon, we will work directly with types, but the important thing to know for now is that they exist, and that every kind of data is of a \"Type\". Here are the basics (and, in parenthesis, some synonyms/similar types):\n",
    "\n",
    " * Integer (int, long)\n",
    " * Float (double)\n",
    " * String (char - sort of)\n",
    " * Boolean\n",
    " * many others...\n",
    " \n",
    "### Back to the code...\n",
    "\n",
    "In lesson 1, you wrote your first Python program - \"Hello, world!\". Let's review what we did then:"
   ]
  },
  {
   "cell_type": "code",
   "execution_count": 1,
   "metadata": {},
   "outputs": [
    {
     "name": "stdout",
     "output_type": "stream",
     "text": [
      "hello\n"
     ]
    }
   ],
   "source": [
    "print \"hello\""
   ]
  },
  {
   "cell_type": "markdown",
   "metadata": {},
   "source": [
    "This bit of code tells python to use the __print__ function to output the text *hello world*. Of course, you can print a variety of data types in python: text like what we just did, numbers and other kinds of objects that we will learn about later in the course. "
   ]
  },
  {
   "cell_type": "code",
   "execution_count": 7,
   "metadata": {},
   "outputs": [
    {
     "name": "stdout",
     "output_type": "stream",
     "text": [
      "1 3.2\n"
     ]
    }
   ],
   "source": [
    "print 1,\n",
    "print 3.2"
   ]
  },
  {
   "cell_type": "markdown",
   "metadata": {},
   "source": [
    "Python has a handy function - __type()__ - that allows us to check what is the type of an object:"
   ]
  },
  {
   "cell_type": "code",
   "execution_count": 3,
   "metadata": {},
   "outputs": [
    {
     "name": "stdout",
     "output_type": "stream",
     "text": [
      "<type 'str'>\n"
     ]
    }
   ],
   "source": [
    "print type('hello world')"
   ]
  },
  {
   "cell_type": "code",
   "execution_count": 4,
   "metadata": {},
   "outputs": [
    {
     "name": "stdout",
     "output_type": "stream",
     "text": [
      "<type 'int'>\n"
     ]
    }
   ],
   "source": [
    "print type(1)"
   ]
  },
  {
   "cell_type": "code",
   "execution_count": 5,
   "metadata": {},
   "outputs": [
    {
     "name": "stdout",
     "output_type": "stream",
     "text": [
      "<type 'float'>\n"
     ]
    }
   ],
   "source": [
    "print type(3.2)"
   ]
  },
  {
   "cell_type": "markdown",
   "metadata": {},
   "source": [
    "Here we see 3 different types of objects:\n",
    "* __strings__ are indicated by quotation marks, regardless of what's inside the quotations\n",
    "* __integers__ are numbers with no decimals\n",
    "* __floats__ are numbers with decimals\n",
    "\n",
    "What happens if we put a number in quotation marks?"
   ]
  },
  {
   "cell_type": "code",
   "execution_count": 10,
   "metadata": {},
   "outputs": [
    {
     "name": "stdout",
     "output_type": "stream",
     "text": [
      "1\n",
      "the following notation indicates the type of object --> <type 'str'>\n"
     ]
    }
   ],
   "source": [
    "print '1'\n",
    "print 'the following notation indicates the type of object -->', type('1')"
   ]
  },
  {
   "cell_type": "markdown",
   "metadata": {},
   "source": [
    "What if we forget to add quotation marks around strings?"
   ]
  },
  {
   "cell_type": "code",
   "execution_count": 5,
   "metadata": {},
   "outputs": [
    {
     "name": "stdout",
     "output_type": "stream",
     "text": [
      "hello world\n"
     ]
    }
   ],
   "source": [
    "echo hello world"
   ]
  },
  {
   "cell_type": "markdown",
   "metadata": {},
   "source": [
    "## Coercion\n",
    "You can force number types to become another type using the __int()__, __float()__, and __str()__ functions (Also, you can print multiple things separating them by a comma.)\n",
    "\n",
    "Why might you do this? Well, when reading from a text file, everything starts life as a string. Clearly, there are times when data manipulation is called for. Conversely, we will need to cleanly format numerical output, and that may require some string operations on our integers."
   ]
  },
  {
   "cell_type": "code",
   "execution_count": 9,
   "metadata": {},
   "outputs": [
    {
     "name": "stdout",
     "output_type": "stream",
     "text": [
      "1 <type 'int'>\n",
      "1.0 <type 'float'>\n",
      "1 <type 'str'>\n"
     ]
    }
   ],
   "source": [
    "print 1, type(1)\n",
    "print float(1), type(float(1))\n",
    "print str(1), type(str(1))"
   ]
  },
  {
   "cell_type": "code",
   "execution_count": 10,
   "metadata": {},
   "outputs": [
    {
     "name": "stdout",
     "output_type": "stream",
     "text": [
      "1.3 <type 'float'>\n",
      "1 <type 'int'>\n",
      "1.3 <type 'str'>\n"
     ]
    }
   ],
   "source": [
    "print 1.3, type(1.3)\n",
    "print int(1.3), type(int(1.3))\n",
    "print str(1.3), type(str(1.3))"
   ]
  },
  {
   "cell_type": "markdown",
   "metadata": {},
   "source": [
    "__int()__ forces values to be an integer. Floats will be rounded down to the nearest integer.\n",
    "\n",
    "__float()__ forces values to become a float\n",
    "\n",
    "__str()__ forces values to become a string"
   ]
  },
  {
   "cell_type": "markdown",
   "metadata": {},
   "source": [
    "## Variables\n",
    "\n",
    "Variables are simply representations of the data that you want to work with, just like how we understand that the letters in the equation __F = ma__ are representations of numbers corresponding to __force__, __mass__, and __acceleration__. To create a variable, you write out your variable name, an \"=\" sign, then what object you want it to represent."
   ]
  },
  {
   "cell_type": "code",
   "execution_count": 12,
   "metadata": {
    "collapsed": true
   },
   "outputs": [],
   "source": [
    "gradStudent = 'Debora'"
   ]
  },
  {
   "cell_type": "code",
   "execution_count": 13,
   "metadata": {},
   "outputs": [
    {
     "name": "stdout",
     "output_type": "stream",
     "text": [
      "Debora\n"
     ]
    }
   ],
   "source": [
    "print gradStudent"
   ]
  },
  {
   "cell_type": "code",
   "execution_count": 14,
   "metadata": {},
   "outputs": [
    {
     "name": "stdout",
     "output_type": "stream",
     "text": [
      "<type 'str'>\n"
     ]
    }
   ],
   "source": [
    "print type(gradStudent)"
   ]
  },
  {
   "cell_type": "code",
   "execution_count": 15,
   "metadata": {},
   "outputs": [
    {
     "name": "stdout",
     "output_type": "stream",
     "text": [
      "29\n",
      "<type 'int'>\n"
     ]
    }
   ],
   "source": [
    "age = 29\n",
    "\n",
    "print age\n",
    "print type(age)"
   ]
  },
  {
   "cell_type": "markdown",
   "metadata": {},
   "source": [
    "Like in math, it's easy to use variables to keep track of values instead of having numbers all over the place"
   ]
  },
  {
   "cell_type": "code",
   "execution_count": 16,
   "metadata": {},
   "outputs": [
    {
     "name": "stdout",
     "output_type": "stream",
     "text": [
      "980.7\n"
     ]
    }
   ],
   "source": [
    "mass         = 100\n",
    "earthGravity = 9.807\n",
    "weight = mass*earthGravity\n",
    "\n",
    "print weight"
   ]
  },
  {
   "cell_type": "code",
   "execution_count": 17,
   "metadata": {},
   "outputs": [
    {
     "name": "stdout",
     "output_type": "stream",
     "text": [
      "162.2\n"
     ]
    }
   ],
   "source": [
    "moonGravity = 1.622\n",
    "weightMoon = mass*moonGravity\n",
    "\n",
    "print weightMoon"
   ]
  },
  {
   "cell_type": "markdown",
   "metadata": {},
   "source": [
    "The result of an operation can be set to a variable. In the simple, above case, the variable __weight__ is defined by the operation __mass__ times __gravity__."
   ]
  },
  {
   "cell_type": "markdown",
   "metadata": {},
   "source": [
    "### It's objects all the way down...\n",
    "\n",
    "In Python, *everything* is an **object**. This includes variables, strings, floats, functions (when we get to them) - any kind of data Python can represent. Everything is an object, and all objects have types.\n",
    "\n",
    "We have made some references to memory. Variables represent memory of all kinds. A variable can hold a string, as we saw above, or a more complex object like a function, or a complex data type like an array or a dictionary (we'll get there).\n",
    "\n",
    "Python can perform operations on objects. Some kinds of objects can do anything. For instance, any object can be **print**ed. Other objects (of a different type) can support more limited (or additional specialized) operations. For instance, it doesn't make sense to subtract two strings, but that works dandy with an integer. \n",
    "\n",
    "What happens when you subtract a float from an integer? Try it!\n",
    "\n",
    "In Python, a variable doesn't exist until you assign a value to it (with '='). You can even create a varilable with no contents by assigning a special object, called **None**, to a variable. (What type is **None**? Ask your friendly local Python intrepeter...). Once assigned, you may overwrite - and lose the contents of - a variable, by using '=' again. If you have never referred to a variable before and try to use it for something other than assigning to, you'll get an error, because Python has never heard of it before."
   ]
  },
  {
   "cell_type": "markdown",
   "metadata": {},
   "source": [
    "### Naming variables\n",
    "Variables are named whatever you like, within the strictures of a few basic rules:\n",
    "\n",
    "1) Python variable names are case-sensitive, so __Var__ and __var__ are different variables.\n",
    "\n",
    "2) Though variable names can contain letters, numbers and underscores ( _ ), they MUST start with a letter (a-z).\n",
    "\n",
    "3) Variable names, __CANNOT__ contain spaces or special non-alphanumeric characters (e.g. holyS#+%?), nor can they be any of the following words that already have special meaning in python:"
   ]
  },
  {
   "cell_type": "code",
   "execution_count": null,
   "metadata": {
    "collapsed": true
   },
   "outputs": [],
   "source": [
    "and    assert   break    class   continue\n",
    "def    del      elif     else    except   \n",
    "exec   finally  for      from    global   \n",
    "if     import   in       is      lambda\n",
    "not    or       pass     print   raise\n",
    "return try      while    yield"
   ]
  },
  {
   "cell_type": "markdown",
   "metadata": {},
   "source": [
    "For the most part, jupyter notebooks will remind you that these words are off-limits by coloring them in helpful ways when you type them.\n",
    "\n",
    "Here are some invalid python variable names:"
   ]
  },
  {
   "cell_type": "code",
   "execution_count": null,
   "metadata": {
    "collapsed": true
   },
   "outputs": [],
   "source": [
    "1sample sampleA.1 class"
   ]
  },
  {
   "cell_type": "markdown",
   "metadata": {},
   "source": [
    "And here are some good alternatives:"
   ]
  },
  {
   "cell_type": "code",
   "execution_count": null,
   "metadata": {
    "collapsed": true
   },
   "outputs": [],
   "source": [
    "sample_1 SampleA1 bootcamp_class"
   ]
  },
  {
   "cell_type": "markdown",
   "metadata": {},
   "source": [
    "## Numerical operations on Strings\n",
    "You can perform basic numerical operations (addition multiplication) on strings and the outcome is a visual representation of the math!"
   ]
  },
  {
   "cell_type": "code",
   "execution_count": 18,
   "metadata": {},
   "outputs": [
    {
     "name": "stdout",
     "output_type": "stream",
     "text": [
      "aca\n",
      "bdb\n"
     ]
    }
   ],
   "source": [
    "stringA = 'aca'\n",
    "stringB = 'bdb'\n",
    "\n",
    "print stringA\n",
    "print stringB"
   ]
  },
  {
   "cell_type": "code",
   "execution_count": 19,
   "metadata": {},
   "outputs": [
    {
     "name": "stdout",
     "output_type": "stream",
     "text": [
      "stringA + stringB is\n",
      "acabdb\n"
     ]
    }
   ],
   "source": [
    "print 'stringA + stringB is'\n",
    "print stringA + stringB"
   ]
  },
  {
   "cell_type": "code",
   "execution_count": 22,
   "metadata": {},
   "outputs": [
    {
     "name": "stdout",
     "output_type": "stream",
     "text": [
      "stringA times 3 is\n",
      "acaacaaca\n"
     ]
    }
   ],
   "source": [
    "print 'stringA times 3 is'\n",
    "print stringA * 3\n",
    "#print stringA * 3.0\n",
    "\n",
    "# by the way, lines starting with the pound sign (#)\n",
    "# makes them comments, ignored by the interpreter"
   ]
  },
  {
   "cell_type": "markdown",
   "metadata": {},
   "source": [
    "As we see here, adding strings concatenates them and multplying strings by an integer (it doesn't work with floats) will yield the same string repeated over and over again.\n",
    "\n",
    "Also, note the # sign, which indicates lines that are ignored by python. As you write your own code, it's good practice to use commented lines to describe what bits of code do and how they do it."
   ]
  },
  {
   "cell_type": "markdown",
   "metadata": {},
   "source": [
    "## Numerical operations on Integers\n",
    "Math with integers works the same way all non-decimal math is done. All integer arithmetic will yield integer results if only integers are used."
   ]
  },
  {
   "cell_type": "code",
   "execution_count": 20,
   "metadata": {
    "collapsed": true
   },
   "outputs": [],
   "source": [
    "myMoney   = float(23) # in dollars\n",
    "yourMoney = 31\n",
    "pizzaCost = 5"
   ]
  },
  {
   "cell_type": "code",
   "execution_count": 21,
   "metadata": {},
   "outputs": [
    {
     "name": "stdout",
     "output_type": "stream",
     "text": [
      "How much do we have if we pooled our money\n",
      "together?\n",
      "54.0\n"
     ]
    }
   ],
   "source": [
    "print '''How much do we have if we pooled our money\n",
    "together?'''\n",
    "print myMoney + yourMoney"
   ]
  },
  {
   "cell_type": "code",
   "execution_count": 22,
   "metadata": {},
   "outputs": [
    {
     "name": "stdout",
     "output_type": "stream",
     "text": [
      "How much do you have if you double your\n",
      "money?\n",
      "62\n"
     ]
    }
   ],
   "source": [
    "print '''How much do you have if you double your\n",
    "money?'''\n",
    "print yourMoney*2"
   ]
  },
  {
   "cell_type": "markdown",
   "metadata": {},
   "source": [
    "Multiplication is indicated with an asterisk \"*\""
   ]
  },
  {
   "cell_type": "code",
   "execution_count": 23,
   "metadata": {},
   "outputs": [
    {
     "name": "stdout",
     "output_type": "stream",
     "text": [
      "What if you square it?\n",
      "961\n"
     ]
    }
   ],
   "source": [
    "print 'What if you square it?'\n",
    "print yourMoney**2"
   ]
  },
  {
   "cell_type": "markdown",
   "metadata": {},
   "source": [
    "And doing exponents requires two asterisks \"**\""
   ]
  },
  {
   "cell_type": "code",
   "execution_count": 24,
   "metadata": {},
   "outputs": [
    {
     "name": "stdout",
     "output_type": "stream",
     "text": [
      "How many pizzas can I buy?\n",
      "4.6\n"
     ]
    }
   ],
   "source": [
    "print 'How many pizzas can I buy?'\n",
    "print myMoney/pizzaCost"
   ]
  },
  {
   "cell_type": "markdown",
   "metadata": {},
   "source": [
    "2 things to note here. Division is indicated by a slash \"/\" sign. Also, notice that 23/5 does NOT yield a decimal value? Integer division will yield only the integer portion of the quotient. However, you can get the remainder of a division by using the percent \"%\" sign instead of the division sign."
   ]
  },
  {
   "cell_type": "code",
   "execution_count": 29,
   "metadata": {},
   "outputs": [
    {
     "name": "stdout",
     "output_type": "stream",
     "text": [
      "How much money do I have left over after \n",
      "buying 4 pizzas?\n",
      "3\n"
     ]
    }
   ],
   "source": [
    "print '''How much money do I have left over after \n",
    "buying 4 pizzas?'''\n",
    "print myMoney%pizzaCost"
   ]
  },
  {
   "cell_type": "markdown",
   "metadata": {},
   "source": [
    "If you want to get the exact result of the previous division, you can use coercion"
   ]
  },
  {
   "cell_type": "code",
   "execution_count": 30,
   "metadata": {},
   "outputs": [
    {
     "name": "stdout",
     "output_type": "stream",
     "text": [
      "EXACTLY How many pizzas can I buy?\n",
      "4.6\n"
     ]
    }
   ],
   "source": [
    "print 'EXACTLY How many pizzas can I buy?'\n",
    "print float(myMoney)/pizzaCost"
   ]
  },
  {
   "cell_type": "markdown",
   "metadata": {},
   "source": [
    "Python will follow math precedence rules. You can also use parentheses to change precedence, just like in math."
   ]
  },
  {
   "cell_type": "code",
   "execution_count": 31,
   "metadata": {},
   "outputs": [
    {
     "name": "stdout",
     "output_type": "stream",
     "text": [
      "How many pizzas can we buy together?\n",
      "10\n"
     ]
    }
   ],
   "source": [
    "print 'How many pizzas can we buy together?'\n",
    "print (myMoney+yourMoney)/pizzaCost"
   ]
  },
  {
   "cell_type": "markdown",
   "metadata": {},
   "source": [
    "## Numerical operations on Floats\n",
    "All float math is the same as integer math..."
   ]
  },
  {
   "cell_type": "code",
   "execution_count": 32,
   "metadata": {
    "collapsed": true
   },
   "outputs": [],
   "source": [
    "temperature = 23.1 # celsius"
   ]
  },
  {
   "cell_type": "code",
   "execution_count": 33,
   "metadata": {},
   "outputs": [
    {
     "name": "stdout",
     "output_type": "stream",
     "text": [
      "46.2\n",
      "<type 'float'>\n"
     ]
    }
   ],
   "source": [
    "print temperature*2\n",
    "print type(temperature*2)"
   ]
  },
  {
   "cell_type": "code",
   "execution_count": 34,
   "metadata": {},
   "outputs": [
    {
     "name": "stdout",
     "output_type": "stream",
     "text": [
      "24.0\n",
      "<type 'float'>\n"
     ]
    }
   ],
   "source": [
    "print temperature + 0.9\n",
    "print type(temperature + 0.9)"
   ]
  },
  {
   "cell_type": "markdown",
   "metadata": {},
   "source": [
    "When you do math with a float, the resulting number will always be a float."
   ]
  },
  {
   "cell_type": "markdown",
   "metadata": {},
   "source": [
    "## Strings\n",
    "Strings can be surrounded by either single quotes or double quotes for strings, but only on a single line. If you want to write strings with multiple lines, you have to use 3 single quotes or 3 double quotes to start and end the string"
   ]
  },
  {
   "cell_type": "code",
   "execution_count": 26,
   "metadata": {},
   "outputs": [
    {
     "name": "stdout",
     "output_type": "stream",
     "text": [
      "This is how you \n",
      "         quote multiple lines\n"
     ]
    }
   ],
   "source": [
    "print '''This is how you \n",
    "         quote multiple lines'''\n",
    "#triple quote can span lines"
   ]
  },
  {
   "cell_type": "code",
   "execution_count": 27,
   "metadata": {},
   "outputs": [
    {
     "name": "stdout",
     "output_type": "stream",
     "text": [
      "this is not \n",
      "        going to work\n"
     ]
    }
   ],
   "source": [
    "print \"\"\"this is not \n",
    "        going to work\"\"\""
   ]
  },
  {
   "cell_type": "markdown",
   "metadata": {},
   "source": [
    "### Indexing\n",
    "Python has this thing called \"indexing\" whereby you can pull specific parts of strings or lists (to be discussed in future lectures)."
   ]
  },
  {
   "cell_type": "code",
   "execution_count": 42,
   "metadata": {},
   "outputs": [
    {
     "name": "stdout",
     "output_type": "stream",
     "text": [
      "abcdefghij\n"
     ]
    }
   ],
   "source": [
    "someString = 'abcdefghij'\n",
    "print someString[::] # why does :: work (reverse string)and not just a single :?"
   ]
  },
  {
   "cell_type": "markdown",
   "metadata": {},
   "source": [
    "We index by adding square brackets \"[]\" right after a string. Python indexing starts with 0 instead of 1, so if we want the first letter of the string, we use [0] as our index."
   ]
  },
  {
   "cell_type": "code",
   "execution_count": 34,
   "metadata": {},
   "outputs": [
    {
     "name": "stdout",
     "output_type": "stream",
     "text": [
      "what are the other letters of someString?\n",
      "b\n",
      "c\n",
      "d\n",
      "e\n",
      "f\n",
      "g\n",
      "h\n",
      "i\n",
      "j\n"
     ]
    }
   ],
   "source": [
    "print 'what are the other letters of someString?'\n",
    "\n",
    "print someString[1]\n",
    "print someString[2]\n",
    "print someString[3]\n",
    "print someString[4]\n",
    "print someString[5]\n",
    "print someString[6]\n",
    "print someString[7]\n",
    "print someString[8]\n",
    "print someString[9]"
   ]
  },
  {
   "cell_type": "markdown",
   "metadata": {},
   "source": [
    "You can also store these as variables!"
   ]
  },
  {
   "cell_type": "code",
   "execution_count": 35,
   "metadata": {},
   "outputs": [
    {
     "name": "stdout",
     "output_type": "stream",
     "text": [
      "b\n",
      "c\n",
      "d\n",
      "bdc\n"
     ]
    }
   ],
   "source": [
    "var1 = someString[1]\n",
    "var2 = someString[2]\n",
    "var3 = someString[3]\n",
    "\n",
    "print var1\n",
    "print var2\n",
    "print var3\n",
    "\n",
    "print var1 + var3 + var2"
   ]
  },
  {
   "cell_type": "code",
   "execution_count": 37,
   "metadata": {},
   "outputs": [
    {
     "name": "stdout",
     "output_type": "stream",
     "text": [
      "What if we use an index larger than the\n",
      "length of the string?\n",
      "c\n"
     ]
    }
   ],
   "source": [
    "print '''What if we use an index larger than the\n",
    "length of the string?'''\n",
    "print someString[2]"
   ]
  },
  {
   "cell_type": "code",
   "execution_count": 42,
   "metadata": {},
   "outputs": [
    {
     "name": "stdout",
     "output_type": "stream",
     "text": [
      "What if we use negative values?\n",
      "i\n"
     ]
    }
   ],
   "source": [
    "print 'What if we use negative values?'\n",
    "print someString[-2]"
   ]
  },
  {
   "cell_type": "markdown",
   "metadata": {},
   "source": [
    "Using negative values counts backwards instead."
   ]
  },
  {
   "cell_type": "code",
   "execution_count": 43,
   "metadata": {},
   "outputs": [
    {
     "name": "stdout",
     "output_type": "stream",
     "text": [
      "bcde\n"
     ]
    }
   ],
   "source": [
    "print someString[1:5]"
   ]
  },
  {
   "cell_type": "markdown",
   "metadata": {},
   "source": [
    "Here, we have a different indexing notation. In this case, the number before the colon represents the first letter to print, and it will continue printing the string all the way up to __but not including__ the letter in the position of the second number."
   ]
  },
  {
   "cell_type": "code",
   "execution_count": 45,
   "metadata": {},
   "outputs": [
    {
     "name": "stdout",
     "output_type": "stream",
     "text": [
      "Let us get the first 5 letters\n",
      "abcde\n",
      "abcde\n",
      "cdefghij\n"
     ]
    }
   ],
   "source": [
    "print 'Let us get the first 5 letters'\n",
    "print someString[0:5]\n",
    "print someString[:5]\n",
    "print someString[2:]\n",
    "# if you omit the number before the colon,\n",
    "# it starts from the begining"
   ]
  },
  {
   "cell_type": "markdown",
   "metadata": {},
   "source": [
    "Using a second colon within the indexing brackets allows more customizing of the string slicing, and it can get pretty confusing!"
   ]
  },
  {
   "cell_type": "code",
   "execution_count": 46,
   "metadata": {},
   "outputs": [
    {
     "name": "stdout",
     "output_type": "stream",
     "text": [
      "Get every second letter\n",
      "acegi\n"
     ]
    }
   ],
   "source": [
    "print 'Get every second letter'\n",
    "print someString[::2]"
   ]
  },
  {
   "cell_type": "code",
   "execution_count": 47,
   "metadata": {},
   "outputs": [
    {
     "name": "stdout",
     "output_type": "stream",
     "text": [
      "Reverse the string\n",
      "jihgfedcba\n"
     ]
    }
   ],
   "source": [
    "print 'Reverse the string'\n",
    "print someString[::-1]"
   ]
  },
  {
   "cell_type": "code",
   "execution_count": 48,
   "metadata": {},
   "outputs": [
    {
     "name": "stdout",
     "output_type": "stream",
     "text": [
      "Print the first five letters, reversed\n",
      "edcba\n"
     ]
    }
   ],
   "source": [
    "print 'Print the first five letters, reversed'\n",
    "print someString[4::-1]"
   ]
  },
  {
   "cell_type": "markdown",
   "metadata": {},
   "source": [
    "### Special Characters\n",
    "There are special characters than can be used in strings to do some interesting things. They're generally indicated with a backslash and some letter. The most common ones for string formatting I've seen are \\t and \\n, which correspond to tabs and newlines"
   ]
  },
  {
   "cell_type": "code",
   "execution_count": 50,
   "metadata": {},
   "outputs": [
    {
     "name": "stdout",
     "output_type": "stream",
     "text": [
      "some\thing is missing\n",
      "somethi\n",
      "g is broken\n",
      "something th\u0007t will drive you b\u0007n\u0007n\u0007s\n"
     ]
    }
   ],
   "source": [
    "s = 'some\\thing is missing'\n",
    "print s\n",
    "s2 = \"somethi\\ng is broken\"\n",
    "print s2\n",
    "s3 = '''something th\\at will drive you b\\an\\an\\as'''\n",
    "print s3"
   ]
  },
  {
   "cell_type": "code",
   "execution_count": 52,
   "metadata": {},
   "outputs": [
    {
     "name": "stdout",
     "output_type": "stream",
     "text": [
      "\\a solu\\tio\\n\n",
      "\\another solu\\tio\\n\n"
     ]
    }
   ],
   "source": [
    "s4 = r'\\a solu\\tio\\n'\n",
    "print s4\n",
    " \n",
    "s5 = '\\\\another solu\\\\tio\\\\n'\n",
    "print s5"
   ]
  },
  {
   "cell_type": "markdown",
   "metadata": {},
   "source": [
    "This ugly (and possibly loud, if your sound is working properly) mess is caused by escape characters. In python strings, several special characters (full list here: https://docs.python.org/2/reference/lexical_analysis.html#string-literals) can be preceded by a backslash (\\) to produce special output, such as a tab (\\t) newline (\\n) or even a bell noise (\\a).\n",
    "This is handy, since it means you can liberally pepper your strings with tabs and line breaks. In fact, lots of the data that we use are conveniently stored in files that are delimited by such tabs and line breaks. This might be a problem, however, say if you wanted to use a backslash in your string. Python offers two ways around this: the safest is to escape your special character, using a second backslash (see s5 above, '\\'). A fancier way involves a special kind of string, the raw string.\n",
    "Raw strings start with r' and end with ' will treat every character between as exactly what it looks like, with the exception of the single quote (which ends the string). \n",
    "\n",
    "If you do use raw strings, watch out for two catches:\n",
    "* You must still escape single quotes you want to appear inside the string.\n",
    "* The last character of the string cannot be a backslash, since this will escape the closing quote.\n",
    "Color coding from synthax highlighting will help you notice the problems:"
   ]
  },
  {
   "cell_type": "code",
   "execution_count": 56,
   "metadata": {},
   "outputs": [
    {
     "name": "stdout",
     "output_type": "stream",
     "text": [
      "but there ain\\'t a problem with this\n",
      "but this is okay\\ \n"
     ]
    }
   ],
   "source": [
    "#s6 = r'don\\'t do this'\n",
    "s6 = r'but there ain\\'t a problem with this'\n",
    "print s6\n",
    " \n",
    "#s7 = r'this is bad\\'\n",
    "s7 = r'but this is okay\\ '\n",
    "print s7"
   ]
  },
  {
   "cell_type": "markdown",
   "metadata": {},
   "source": [
    "### Formatting\n",
    "We've learned about strings and variables, but how can we put them together? This is where formatting comes into play, where we can combine them together on a line. To format strings or, in other words, to be able to place variables within a string, just place curly braces {} where you'd like variables to appear; then use .format() and type in a list of variables to input. Variables that are not strings will be coerced to string type.\n",
    "\n",
    "If you put too many variables in the .format() list, the excess will not be included in the string."
   ]
  },
  {
   "cell_type": "code",
   "execution_count": 57,
   "metadata": {},
   "outputs": [
    {
     "name": "stdout",
     "output_type": "stream",
     "text": [
      "I have a cat, 13 of them.\n"
     ]
    }
   ],
   "source": [
    "pet = 'cat'\n",
    "howMany = 13\n",
    "\n",
    "print \"I have a {}, {} of them.\".format(pet, howMany)"
   ]
  },
  {
   "cell_type": "markdown",
   "metadata": {},
   "source": [
    "You can also reference the same variables more than once by their index in the parentheses."
   ]
  },
  {
   "cell_type": "code",
   "execution_count": 58,
   "metadata": {},
   "outputs": [
    {
     "name": "stdout",
     "output_type": "stream",
     "text": [
      "With string formatting, you can use\n",
      "indexes to plug IN THE same variables\n",
      "multiple times, and IN any order you wish.\n"
     ]
    }
   ],
   "source": [
    "t = 'THE'\n",
    "n = 'IN'\n",
    "sentence = '''With string formatting, you can use\n",
    "indexes to plug {1} {0} same variables\n",
    "multiple times, and {1} any order you wish.'''\n",
    "print sentence.format(t, n)"
   ]
  },
  {
   "cell_type": "markdown",
   "metadata": {},
   "source": [
    "String formatting is useful when you're processing data and you want to generate output where each line has a set of tab separated values. The following is a slightly more complex example to get the point across"
   ]
  },
  {
   "cell_type": "code",
   "execution_count": 68,
   "metadata": {},
   "outputs": [
    {
     "name": "stdout",
     "output_type": "stream",
     "text": [
      "1\todd\todd\n",
      "2\teven\teven\n",
      "3\todd\todd\n",
      "4\teven\teven\n",
      "5\todd\todd\n",
      "6\teven\teven\n",
      "7\todd\todd\n",
      "8\teven\teven\n",
      "9\todd\todd\n",
      "10\teven\teven\n"
     ]
    }
   ],
   "source": [
    "# Let's see if numbers from 0 to 10 are even or odd.\n",
    "# Spit out the number, whether or not it's even or odd\n",
    "# Let's also see if it's square is even or odd\n",
    "for i in range(1,11):\n",
    "    isOdd = ''\n",
    "    if i%2 == 0:\n",
    "        isOdd = 'even'\n",
    "    else:\n",
    "        isOdd = 'odd'\n",
    "    \n",
    "    square = ''\n",
    "    if i**3%2 == 0:\n",
    "        square = 'even'\n",
    "    else:\n",
    "        square = 'odd'\n",
    "        \n",
    "    print '{}\\t{}\\t{}'.format(i, isOdd, square)"
   ]
  },
  {
   "cell_type": "markdown",
   "metadata": {},
   "source": [
    "### User input\n",
    "This will seem random, but it's something fun to be able to do at this stage of coding. It basically will make it so that your python script will print a message that will require you to type something in and then storing it as a string. This sounds more complicated than it really is. The following shows the format of how it's done."
   ]
  },
  {
   "cell_type": "code",
   "execution_count": 59,
   "metadata": {},
   "outputs": [
    {
     "name": "stdout",
     "output_type": "stream",
     "text": [
      "what's your name? Wutan\n",
      "Wutan\n"
     ]
    }
   ],
   "source": [
    "name = raw_input(\"what's your name? \")\n",
    "print name"
   ]
  },
  {
   "cell_type": "markdown",
   "metadata": {},
   "source": [
    "Notice that everything is read in as a string, even numbers. Remember that if you want numbers to be an int or a float, just use coercion with int() and float() functions"
   ]
  },
  {
   "cell_type": "code",
   "execution_count": 62,
   "metadata": {},
   "outputs": [
    {
     "name": "stdout",
     "output_type": "stream",
     "text": [
      "How old are you? 10\n",
      "20\n",
      "<type 'str'>\n"
     ]
    }
   ],
   "source": [
    "age = raw_input(\"How old are you? \")\n",
    "print int (age) + 10\n",
    "print type(age)"
   ]
  },
  {
   "cell_type": "markdown",
   "metadata": {},
   "source": [
    "---\n",
    "\n",
    "## Exercises"
   ]
  },
  {
   "cell_type": "markdown",
   "metadata": {},
   "source": [
    "__1) Age__\n",
    "\n",
    "Write a script that will ask for someone's age and print out the year they're born in. The final output should be in the format: You are \"age\" years old, so you were born in \"year\""
   ]
  },
  {
   "cell_type": "code",
   "execution_count": 63,
   "metadata": {},
   "outputs": [
    {
     "name": "stdout",
     "output_type": "stream",
     "text": [
      "what is your current age?20\n",
      "1998\n",
      "<type 'str'>\n"
     ]
    }
   ],
   "source": [
    "age = raw_input(\"what is your current age?\")\n",
    "print int(2018) - int(age) \n",
    "print type(age)"
   ]
  },
  {
   "cell_type": "markdown",
   "metadata": {},
   "source": [
    "__2) Haiku formatting__\n",
    "\n",
    "A haiku consists of 3 lines that have 5 syllables in the first line, 7 in the second, and 5 in the last. Here's a sample haiku:\n",
    "\n",
    "   The light of the moon It moves west, flowers' shadows, They all creep eastward.\n",
    "\n",
    "\n",
    "Turn this haiku into a string and add new line characters to transform it into a proper haiku"
   ]
  },
  {
   "cell_type": "code",
   "execution_count": 82,
   "metadata": {},
   "outputs": [
    {
     "name": "stdout",
     "output_type": "stream",
     "text": [
      "The light of the moon It moves west\n",
      "flowers' shadows\n",
      "They all creep eastward\n"
     ]
    }
   ],
   "source": [
    "L1 = \"The light of the moon It moves west\\n\"\n",
    "L2 = \"flowers' shadows\\n\"\n",
    "L3 = \"They all creep eastward\"\n",
    "print L1 +  L2 + L3"
   ]
  },
  {
   "cell_type": "code",
   "execution_count": 84,
   "metadata": {},
   "outputs": [
    {
     "name": "stdout",
     "output_type": "stream",
     "text": [
      "The light of the moon It moves west\n",
      "flowers' shadows\n",
      "They all creep eastward\n"
     ]
    }
   ],
   "source": [
    "L1 = \"The light of the moon It moves west\\n\"\n",
    "L2 = \"flowers' shadows\\n\"\n",
    "L3 = \"They all creep eastward\"\n",
    "print L1 +  L2 + L3"
   ]
  },
  {
   "cell_type": "markdown",
   "metadata": {},
   "source": [
    "__3) Haiku slicing__\n",
    "\n",
    "Write a code that will ask 2 questions. Each question will ask for a number between 0 and 70. Index the haiku in question 2 with the smaller number being the start position and the larger number being the end position. What is the result?"
   ]
  },
  {
   "cell_type": "code",
   "execution_count": 104,
   "metadata": {},
   "outputs": [
    {
     "name": "stdout",
     "output_type": "stream",
     "text": [
      "choose a number between 0 and 70 10\n",
      "choose another and different number between 0 and 70 30\n",
      "of the moon It moves\n"
     ]
    }
   ],
   "source": [
    "someString = \"The light of the moon It moves west flowers' shadows They all creep eastward\"\n",
    "Q1 = int(raw_input(\"choose a number between 0 and 70 \"))\n",
    "Q2 = int(raw_input(\"choose another and different number between 0 and 70 \"))\n",
    "print someString[Q1:Q2]"
   ]
  },
  {
   "cell_type": "markdown",
   "metadata": {},
   "source": [
    "__4) Budget__\n",
    "\n",
    "Write a code that asks for how much money you have and also how much something costs (e.g. a pencil). Calculate how many of these things you can buy and how much money you would have left over."
   ]
  },
  {
   "cell_type": "code",
   "execution_count": 115,
   "metadata": {},
   "outputs": [
    {
     "name": "stdout",
     "output_type": "stream",
     "text": [
      "How much money do you have? 10\n",
      "How much does that pencil cost? 1\n",
      "10\n"
     ]
    }
   ],
   "source": [
    "Q3 = int(raw_input(\"How much money do you have? \"))\n",
    "Q4 = int(raw_input(\"How much does that pencil cost? \"))\n",
    "print Q3/Q4"
   ]
  },
  {
   "cell_type": "markdown",
   "metadata": {},
   "source": [
    "__5) Ratio__\n",
    "\n",
    "  Read two numbers in (user input).\n",
    "  Print out their ratio."
   ]
  },
  {
   "cell_type": "code",
   "execution_count": 123,
   "metadata": {},
   "outputs": [
    {
     "name": "stdout",
     "output_type": "stream",
     "text": [
      "enter a number 100\n",
      "enter another number 10\n",
      "I have a 100/10 of them.\n"
     ]
    }
   ],
   "source": [
    "num1 = int(raw_input(\"enter a number \"))\n",
    "num2 = int(raw_input(\"enter another number \"))\n",
    "print \"I have a {}/{} of them.\".format(num1, num2)"
   ]
  },
  {
   "cell_type": "markdown",
   "metadata": {},
   "source": [
    "__6) Sum and Mean__\n",
    "\n",
    "  Read five numbers in. Print out their sum and mean."
   ]
  },
  {
   "cell_type": "code",
   "execution_count": 125,
   "metadata": {},
   "outputs": [
    {
     "name": "stdout",
     "output_type": "stream",
     "text": [
      "enter a number 2\n",
      "enter a number 4\n",
      "enter a number 6\n",
      "enter a number 8\n",
      "enter a number 10\n",
      "30\n",
      "6\n"
     ]
    }
   ],
   "source": [
    "n1 = int(raw_input(\"enter a number \"))\n",
    "n2 = int(raw_input(\"enter a number \"))\n",
    "n3 = int(raw_input(\"enter a number \"))\n",
    "n4 = int(raw_input(\"enter a number \"))\n",
    "n5 = int(raw_input(\"enter a number \"))\n",
    "print n1+n2+n3+n4+n5\n",
    "print (n1+n2+n3+n4+n5)/5"
   ]
  },
  {
   "cell_type": "markdown",
   "metadata": {},
   "source": [
    "### CHALLENGES!\n",
    "\n",
    "__7) Index-tastic__\n",
    "\n",
    "  Ask the user to specify a number of digits (e.g. 1-digit numbers, 2-digit numbers, etc.).\n",
    "  Ask the user to supply five numbers of that many digits separated by spaces.\n",
    "  Parse these numbers out, and calculate sum and mean as in Exercise #6.\n",
    "  \n",
    "Try also doing this without using any additional variables! (Use only the one that contains the string that you read in.)"
   ]
  },
  {
   "cell_type": "code",
   "execution_count": 131,
   "metadata": {},
   "outputs": [
    {
     "name": "stdout",
     "output_type": "stream",
     "text": [
      "for this exercise define the number of digits to use in your numbers 10\n",
      "enter a number following your digit number restriction 12\n",
      "enter a number following your digit number restriction 13\n",
      "enter a number following your digit number restriction 1\n",
      "enter a number following your digit number restriction 15\n",
      "enter a number following your digit number restriction 16\n",
      "12\n",
      "13\n",
      "1\n",
      "15\n",
      "16\n",
      "57\n",
      "this is the mean of your numbers 11\n"
     ]
    }
   ],
   "source": [
    "digits = int(raw_input(\"for this exercise define the number of digits to use in your numbers \"))\n",
    "number1 = int(raw_input(\"enter a number following your digit number restriction \"))\n",
    "number2 = int(raw_input(\"enter a number following your digit number restriction \"))\n",
    "number3 = int(raw_input(\"enter a number following your digit number restriction \"))\n",
    "number4 = int(raw_input(\"enter a number following your digit number restriction \"))\n",
    "number5 = int(raw_input(\"enter a number following your digit number restriction \"))\n",
    "print number1\n",
    "print number2\n",
    "print number3\n",
    "print number4\n",
    "print number5\n",
    "print number1+number2+number3+number4+number5\n",
    "print \"this is the mean of your numbers\",(number1+number2+number3+number4+number5)/5\n"
   ]
  },
  {
   "cell_type": "markdown",
   "metadata": {},
   "source": [
    "__8) Escape!__\n",
    "\n",
    "  Reproduce the triple-quoted string from earlier:"
   ]
  },
  {
   "cell_type": "code",
   "execution_count": 133,
   "metadata": {},
   "outputs": [
    {
     "name": "stdout",
     "output_type": "stream",
     "text": [
      "hello \"world\", if that is your real name.\n",
      "That's World, to you\n"
     ]
    }
   ],
   "source": [
    "s = '''hello \"world\", if that is your real name.\n",
    "That's World, to you'''\n",
    "print s"
   ]
  },
  {
   "cell_type": "code",
   "execution_count": 134,
   "metadata": {},
   "outputs": [
    {
     "name": "stdout",
     "output_type": "stream",
     "text": [
      "hello \"world\", if that is your real name. \n",
      "That's World, to you\n"
     ]
    }
   ],
   "source": [
    "s = '''hello \"world\", if that is your real name. \\nThat's World, to you'''\n",
    "print s"
   ]
  },
  {
   "cell_type": "markdown",
   "metadata": {},
   "source": [
    "in just one string using single or double quotes. Make sure you have the line break and all the quotes and apostrophes in there!"
   ]
  }
 ],
 "metadata": {
  "anaconda-cloud": {},
  "kernelspec": {
   "display_name": "Python 2",
   "language": "python",
   "name": "python2"
  },
  "language_info": {
   "codemirror_mode": {
    "name": "ipython",
    "version": 2
   },
   "file_extension": ".py",
   "mimetype": "text/x-python",
   "name": "python",
   "nbconvert_exporter": "python",
   "pygments_lexer": "ipython2",
   "version": "2.7.13"
  }
 },
 "nbformat": 4,
 "nbformat_minor": 1
}
