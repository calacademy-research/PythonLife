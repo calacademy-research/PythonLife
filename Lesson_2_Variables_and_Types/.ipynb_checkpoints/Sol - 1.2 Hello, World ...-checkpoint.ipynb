{
 "cells": [
  {
   "cell_type": "markdown",
   "metadata": {},
   "source": [
    "## Question 1"
   ]
  },
  {
   "cell_type": "code",
   "execution_count": 1,
   "metadata": {
    "collapsed": false
   },
   "outputs": [
    {
     "name": "stdout",
     "output_type": "stream",
     "text": [
      "How old are you?\n",
      "20\n",
      "You are 20 years old, so you were born in 1996\n"
     ]
    },
    {
     "data": {
      "text/plain": [
       "'\\nThe way to run the script after running it would be:\\npython <name of script> > question1.txt\\n'"
      ]
     },
     "execution_count": 1,
     "metadata": {},
     "output_type": "execute_result"
    }
   ],
   "source": [
    "age = int(raw_input('How old are you?\\n'))\n",
    "\n",
    "currentYear = 2016\n",
    "birthYear   = currentYear - age\n",
    "\n",
    "print 'You are {} years old, so you were born in {}' .format(age, birthYear)"
   ]
  },
  {
   "cell_type": "markdown",
   "metadata": {},
   "source": [
    "## Question 2"
   ]
  },
  {
   "cell_type": "code",
   "execution_count": 3,
   "metadata": {
    "collapsed": false
   },
   "outputs": [
    {
     "name": "stdout",
     "output_type": "stream",
     "text": [
      "The light of the moon \n",
      "It moves west, flowers' shadows, \n",
      "They all creep eastward.\n"
     ]
    }
   ],
   "source": [
    "print \"The light of the moon \\nIt moves west, flowers' shadows, \\nThey all creep eastward.\""
   ]
  },
  {
   "cell_type": "markdown",
   "metadata": {},
   "source": [
    "## Question 3"
   ]
  },
  {
   "cell_type": "code",
   "execution_count": null,
   "metadata": {
    "collapsed": false
   },
   "outputs": [],
   "source": [
    "start = int(raw_input('What is the starting point?\\n'))\n",
    "end   = int(raw_input('What is the ending position?\\n'))\n",
    "haiku = \"The light of the moon \\nIt moves west, flowers' shadows, \\nThey all creep eastward.\"\n",
    "\n",
    "print haiku[start:end]"
   ]
  },
  {
   "cell_type": "markdown",
   "metadata": {},
   "source": [
    "## Question 4"
   ]
  },
  {
   "cell_type": "code",
   "execution_count": 1,
   "metadata": {
    "collapsed": false
   },
   "outputs": [
    {
     "name": "stdout",
     "output_type": "stream",
     "text": [
      "How much money do you have?\n",
      "33\n",
      "How much does a pencil cost?\n",
      "2\n",
      "I can buy 16 pencils with 1 dollars left over\n"
     ]
    }
   ],
   "source": [
    "money  = int(raw_input('How much money do you have?\\n'))\n",
    "pencil = int(raw_input('How much does a pencil cost?\\n'))\n",
    "\n",
    "canBuy   = money/pencil\n",
    "leftOver = money%pencil\n",
    "\n",
    "print 'I can buy {} pencils with {} dollars left over' .format(canBuy, leftOver)"
   ]
  }
 ],
 "metadata": {
  "anaconda-cloud": {},
  "kernelspec": {
   "display_name": "Python [conda env:python2]",
   "language": "python",
   "name": "conda-env-python2-py"
  },
  "language_info": {
   "codemirror_mode": {
    "name": "ipython",
    "version": 2
   },
   "file_extension": ".py",
   "mimetype": "text/x-python",
   "name": "python",
   "nbconvert_exporter": "python",
   "pygments_lexer": "ipython2",
   "version": "2.7.12"
  }
 },
 "nbformat": 4,
 "nbformat_minor": 1
}
