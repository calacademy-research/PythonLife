{
 "cells": [
  {
   "cell_type": "markdown",
   "metadata": {},
   "source": [
    "### 1: The Greeter\n",
    "\n",
    "Write a program that asks for the user's name and tells them hello."
   ]
  },
  {
   "cell_type": "code",
   "execution_count": 1,
   "metadata": {
    "collapsed": false
   },
   "outputs": [
    {
     "name": "stdout",
     "output_type": "stream",
     "text": [
      "Hey, what's your name? Debora\n",
      "Well, hello there Debora!\n"
     ]
    }
   ],
   "source": [
    "# It's nice to format the prompt and give people directions when\n",
    "# asking them to input text\n",
    "name = raw_input(\"Hey, what's your name? \")\n",
    " \n",
    "print \"Well, hello there %s!\" % name"
   ]
  },
  {
   "cell_type": "markdown",
   "metadata": {},
   "source": [
    "### 2: What's My Age Again?\n",
    "\n",
    "Ask for their year of birth and compute their age.\n",
    "Print out their age in the following format:\n",
    "\n",
    "    Your age is 25."
   ]
  },
  {
   "cell_type": "code",
   "execution_count": 2,
   "metadata": {
    "collapsed": false
   },
   "outputs": [
    {
     "name": "stdout",
     "output_type": "stream",
     "text": [
      "Hey, what year were you born? 1988\n",
      "Your age is 28.\n"
     ]
    }
   ],
   "source": [
    "year = int( raw_input(\"Hey, what year were you born? \") )\n",
    " \n",
    "print \"Your age is %s.\" % (2016-year)"
   ]
  },
  {
   "cell_type": "markdown",
   "metadata": {},
   "source": [
    "### 3: Ratio\n",
    "\n",
    "Read two numbers in (user input).\n",
    "Print out their ratio.\n",
    "Figure out how to make this program fail. (There are many ways.)"
   ]
  },
  {
   "cell_type": "code",
   "execution_count": 2,
   "metadata": {
    "collapsed": false
   },
   "outputs": [
    {
     "name": "stdout",
     "output_type": "stream",
     "text": [
      "Enter a number and press return:  1\n",
      "Now enter another number and press return:  2\n",
      "The ratio of these two numbers is 0.500\n"
     ]
    }
   ],
   "source": [
    "num1 = int(raw_input(\"Enter a number and press return:  \"))\n",
    "num2 = float(raw_input(\"Now enter another number and press return:  \"))\n",
    " \n",
    "print \"The ratio of these two numbers is %.3f\" %  (num1 / num2)"
   ]
  },
  {
   "cell_type": "markdown",
   "metadata": {},
   "source": [
    "### 4: Sum and Mean\n",
    "\n",
    "Read five numbers in.\n",
    "Print out their sum and mean."
   ]
  },
  {
   "cell_type": "code",
   "execution_count": 10,
   "metadata": {
    "collapsed": false
   },
   "outputs": [
    {
     "name": "stdout",
     "output_type": "stream",
     "text": [
      "Enter five numbers, pressing return after each number:\n",
      "Number 1:  1\n",
      "Number 2:  1\n",
      "Number 3:  1\n",
      "Number 4:  1\n",
      "Number 5:  1\n",
      "The sum of these numbers is 5.0.\n",
      "And the mean is 1.00\n"
     ]
    }
   ],
   "source": [
    "print \"Enter five numbers, pressing return after each number:\"\n",
    "num1 = float(raw_input(\"Number 1:  \"))\n",
    "num2 = float(raw_input(\"Number 2:  \"))\n",
    "num3 = float(raw_input(\"Number 3:  \"))\n",
    "num4 = float(raw_input(\"Number 4:  \"))\n",
    "num5 = float(raw_input(\"Number 5:  \"))\n",
    " \n",
    "total_sum = num1 + num2 + num3 + num4 + num5\n",
    "mean = total_sum / 5\n",
    " \n",
    "print \"The sum of these numbers is %s.\" % total_sum\n",
    "print \"And the mean is %.2f\" % mean\n",
    " "
   ]
  },
  {
   "cell_type": "markdown",
   "metadata": {},
   "source": [
    "### 5: Swap\n",
    "\n",
    "The user enters two numbers.\n",
    "Store the numbers in two variables called input1 and input2.\n",
    "Swap the values of the two variables so that input1 has the value of input2 and vice versa.\n",
    "Print out the two variables."
   ]
  },
  {
   "cell_type": "code",
   "execution_count": 6,
   "metadata": {
    "collapsed": false
   },
   "outputs": [
    {
     "name": "stdout",
     "output_type": "stream",
     "text": [
      "Please enter a number and press return:\n",
      "4\n",
      "Please enter another number and press return:\n",
      "5\n",
      "Ohhh, so you entered 5 and 4\n"
     ]
    }
   ],
   "source": [
    "input1 = raw_input(\"Please enter a number and press return:\\n\")\n",
    "input2 = raw_input(\"Please enter another number and press return:\\n\")\n",
    " \n",
    "tmp = input1\n",
    "input1 = input2\n",
    "input2 = tmp\n",
    " \n",
    "print \"Ohhh, so you entered %s and %s\" % (input1,input2)"
   ]
  },
  {
   "cell_type": "markdown",
   "metadata": {},
   "source": [
    "## Challenges:\n",
    "### 6: Quickswap\n",
    "\n",
    "    Perform the swap in #5 above in only 1 line of code, and without using any variables other than input1 and input2. (Hint: you need tuples; try Google!)"
   ]
  },
  {
   "cell_type": "code",
   "execution_count": 7,
   "metadata": {
    "collapsed": false
   },
   "outputs": [
    {
     "name": "stdout",
     "output_type": "stream",
     "text": [
      "Please enter a number and press return:\n",
      "3\n",
      "Please enter another number and press return:\n",
      "4\n",
      "Ohhh, so you entered 4 and 3\n"
     ]
    }
   ],
   "source": [
    "input1 = raw_input(\"Please enter a number and press return:\\n\")\n",
    "input2 = raw_input(\"Please enter another number and press return:\\n\")\n",
    " \n",
    "input2,input1 = input1,input2\n",
    " \n",
    "print \"Ohhh, so you entered %s and %s\" % (input1,input2)\n",
    " "
   ]
  },
  {
   "cell_type": "markdown",
   "metadata": {},
   "source": [
    "### 7: Index-tastic\n",
    "\n",
    "Ask the user to specify a number of digits (e.g. 1-digit numbers, 2-digit numbers, etc.).\n",
    "Ask the user to supply five numbers of that many digits separated by spaces.\n",
    "Parse these numbers out, and calculate sum and mean as in Exercise #4.\n",
    "\n",
    "Try also doing this without using any additional variables! (Use only the one that contains the string that you read in.)"
   ]
  },
  {
   "cell_type": "code",
   "execution_count": 14,
   "metadata": {
    "collapsed": false
   },
   "outputs": [
    {
     "name": "stdout",
     "output_type": "stream",
     "text": [
      "Please enter a digit length and press return\n",
      "1\n",
      "Please enter 5 integers of the length you specified separating each by a space.\n",
      "1 2 3 4 5\n",
      "1\n",
      "2\n",
      "3\n",
      "4\n",
      "5\n",
      "15\n",
      "3\n"
     ]
    }
   ],
   "source": [
    "# get our length\n",
    "diglen = int(raw_input(\"Please enter a digit length and press return\\n\"))\n",
    " \n",
    "# get our numbers\n",
    "numstr = raw_input(\"Please enter 5 integers of the length you specified separating each by a space.\\n\")\n",
    " \n",
    "# create an idx variable that can change as we move through the str with slices\n",
    "idx = diglen\n",
    " \n",
    "num1 = int(numstr[0:idx])\n",
    "# move one spot to skip the space between numbers\n",
    "idx += 1\n",
    " \n",
    "num2 = int(numstr[idx: idx + diglen])\n",
    "# then we're going to move by the diglen\n",
    "# this should work until the last one\n",
    "idx += diglen + 1\n",
    " \n",
    "num3 = int(numstr[idx: idx + diglen])\n",
    "idx += diglen + 1\n",
    " \n",
    "num4 = int(numstr[idx: idx + diglen])\n",
    "idx += diglen + 1\n",
    " \n",
    "#And the last one just print to the end of the str\n",
    "num5 = int(numstr[idx:])\n",
    " \n",
    " \n",
    "print num1\n",
    "print num2\n",
    "print num3\n",
    "print num4\n",
    "print num5\n",
    " \n",
    "total_sum = num1 + num2 + num3 + num4 + num5\n",
    "print total_sum\n",
    "mean = total_sum/5\n",
    "print mean\n",
    " \n"
   ]
  },
  {
   "cell_type": "code",
   "execution_count": 15,
   "metadata": {
    "collapsed": false
   },
   "outputs": [
    {
     "name": "stdout",
     "output_type": "stream",
     "text": [
      "Specify a number of digits: 1\n",
      "Please specify 5 numbers contain 1 digits each, separated by spaces: 1 2 3 4 5\n",
      "One is 1\n",
      "Two is 2\n",
      "Three is 3\n",
      "Four is 4\n",
      "Five is 5\n",
      "The sum is 15.\n",
      "The mean is 3.\n",
      "\n",
      "Specify a number of digits: 2\n",
      "Please specify 5 numbers containing 2 digits each, separated by spaces: 10 20 30 40 50\n",
      "150\n",
      "30.0\n"
     ]
    }
   ],
   "source": [
    "# BELOW FOLLOWS AN ALTERNATE SOLUTION FOR THIS PROBLEM THAT INCLUDES THE ONE-LINE SOLUTION:\n",
    " \n",
    "# user will specify a number of digits and 5 numbers separated by a space of that number of digits\n",
    "digits = int(raw_input('Specify a number of digits: ')) + 1\n",
    "cluster_f = raw_input('Please specify 5 numbers contain %s digits each, separated by spaces: ' % (digits-1))\n",
    "one = int(cluster_f[0:digits])\n",
    "two = int(cluster_f[digits:2*digits])\n",
    "three = int(cluster_f[2*digits:3*digits])\n",
    "four = int(cluster_f[3*digits:4*digits])\n",
    "five = int(cluster_f[4*digits:5*digits])\n",
    "print 'One is', one\n",
    "print 'Two is', two\n",
    "print 'Three is', three\n",
    "print 'Four is', four\n",
    "print 'Five is', five\n",
    "sum = one + two + three + four + five\n",
    "print 'The sum is %s.' % (sum)\n",
    "mean = sum / 5\n",
    "print 'The mean is %s.' % (mean)\n",
    "print\n",
    " \n",
    "# a solution using one line without introducing extra variables\n",
    "digits2 = int(raw_input('Specify a number of digits: ')) + 1\n",
    "cluster_f2 = raw_input('Please specify 5 numbers containing %s digits each, separated by spaces: ' % (digits2-1))\n",
    "print int(cluster_f2[0:digits2]) + int(cluster_f2[digits2:2*digits2]) + int(cluster_f2[2*digits2:3*digits2]) + int(cluster_f2[3*digits2:4*digits2]) + int(cluster_f2[4*digits2:5*digits2])\n",
    "print float((int(cluster_f2[0:digits2]) + int(cluster_f2[digits2:2*digits2]) + int(cluster_f2[2*digits2:3*digits2]) + int(cluster_f2[3*digits2:4*digits2]) + int(cluster_f2[4*digits2:5*digits2]))/5)\n",
    " "
   ]
  },
  {
   "cell_type": "markdown",
   "metadata": {},
   "source": [
    "### 8: Escape!\n",
    "\n",
    "Reproduce the triple-quoted string from earlier:"
   ]
  },
  {
   "cell_type": "code",
   "execution_count": 16,
   "metadata": {
    "collapsed": false
   },
   "outputs": [
    {
     "name": "stdout",
     "output_type": "stream",
     "text": [
      "hello \"world\", if that is your real name.\n",
      "That's World, to you\n"
     ]
    }
   ],
   "source": [
    "s = \"hello \\\"world\\\", if that is your real name.\\nThat\\'s World, to you\"\n",
    "print s"
   ]
  },
  {
   "cell_type": "code",
   "execution_count": null,
   "metadata": {
    "collapsed": true
   },
   "outputs": [],
   "source": []
  }
 ],
 "metadata": {
  "kernelspec": {
   "display_name": "Python 2",
   "language": "python",
   "name": "python2"
  },
  "language_info": {
   "codemirror_mode": {
    "name": "ipython",
    "version": 2
   },
   "file_extension": ".py",
   "mimetype": "text/x-python",
   "name": "python",
   "nbconvert_exporter": "python",
   "pygments_lexer": "ipython2",
   "version": "2.7.11"
  }
 },
 "nbformat": 4,
 "nbformat_minor": 0
}
