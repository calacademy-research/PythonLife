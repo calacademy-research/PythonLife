{
 "cells": [
  {
   "cell_type": "markdown",
   "metadata": {},
   "source": [
    "__1) Age__\n",
    "\n",
    "Write a script that will ask for someone's age and print out the year they're born in. The final output should be in the format: You are \"age\" years old, so you were born in \"year\""
   ]
  },
  {
   "cell_type": "code",
   "execution_count": 7,
   "metadata": {},
   "outputs": [
    {
     "name": "stdout",
     "output_type": "stream",
     "text": [
      "How old are you?\n",
      "29\n",
      "You are 29 years old, so you were born in 1988\n"
     ]
    }
   ],
   "source": [
    "age = int(raw_input('How old are you?\\n'))\n",
    "\n",
    "currentYear = 2017\n",
    "birthYear   = currentYear - age\n",
    "\n",
    "print 'You are {} years old, so you were born in {}' .format(age, birthYear)"
   ]
  },
  {
   "cell_type": "markdown",
   "metadata": {},
   "source": [
    "__2) Haiku formatting__\n",
    "\n",
    "A haiku consists of 3 lines that have 5 syllables in the first line, 7 in the second, and 5 in the last. Here's a sample haiku:\n",
    "\n",
    "   The light of the moon It moves west, flowers' shadows, They all creep eastward.\n",
    "\n",
    "\n",
    "Turn this haiku into a string and add new line characters to transform it into a proper haiku"
   ]
  },
  {
   "cell_type": "code",
   "execution_count": 2,
   "metadata": {},
   "outputs": [
    {
     "name": "stdout",
     "output_type": "stream",
     "text": [
      "The light of the moon \n",
      "It moves west, flowers' shadows, \n",
      "They all creep eastward.\n"
     ]
    }
   ],
   "source": [
    "print \"The light of the moon \\nIt moves west, flowers' shadows, \\nThey all creep eastward.\""
   ]
  },
  {
   "cell_type": "markdown",
   "metadata": {},
   "source": [
    "__3) Haiku slicing__\n",
    "\n",
    "Write a code that will ask 2 questions. Each question will ask for a number between 0 and 70. Index the haiku in question 2 with the smaller number being the start position and the larger number being the end position. What is the result?"
   ]
  },
  {
   "cell_type": "code",
   "execution_count": 3,
   "metadata": {},
   "outputs": [
    {
     "name": "stdout",
     "output_type": "stream",
     "text": [
      "What is the starting point?\n",
      "2\n",
      "What is the ending position?\n",
      "6\n",
      "e li\n"
     ]
    }
   ],
   "source": [
    "start = int(raw_input('What is the starting point?\\n'))\n",
    "end   = int(raw_input('What is the ending position?\\n'))\n",
    "haiku = \"The light of the moon \\nIt moves west, flowers' shadows, \\nThey all creep eastward.\"\n",
    "\n",
    "print haiku[start:end]"
   ]
  },
  {
   "cell_type": "markdown",
   "metadata": {},
   "source": [
    "__4) Budget__\n",
    "\n",
    "Write a code that asks for how much money you have and also how much something costs (e.g. a pencil). Calculate how many of these things you can buy and how much money you would have left over."
   ]
  },
  {
   "cell_type": "code",
   "execution_count": 4,
   "metadata": {},
   "outputs": [
    {
     "name": "stdout",
     "output_type": "stream",
     "text": [
      "How much money do you have?\n",
      "10\n",
      "How much does a pencil cost?\n",
      "2\n",
      "I can buy 5 pencils with 0 dollars left over\n"
     ]
    }
   ],
   "source": [
    "money  = int(raw_input('How much money do you have?\\n'))\n",
    "pencil = int(raw_input('How much does a pencil cost?\\n'))\n",
    "\n",
    "canBuy   = money/pencil\n",
    "leftOver = money%pencil\n",
    "\n",
    "print 'I can buy {} pencils with {} dollars left over' .format(canBuy, leftOver)"
   ]
  },
  {
   "cell_type": "markdown",
   "metadata": {},
   "source": [
    "__5) Ratio__\n",
    "\n",
    "  Read two numbers in (user input).\n",
    "  Print out their ratio."
   ]
  },
  {
   "cell_type": "code",
   "execution_count": 4,
   "metadata": {},
   "outputs": [
    {
     "name": "stdout",
     "output_type": "stream",
     "text": [
      "Enter a number and press return:  5\n",
      "Now enter another number and press return:  4\n",
      "The ratio of these two numbers is\n",
      "1.25\n"
     ]
    }
   ],
   "source": [
    "num1 = float(raw_input(\"Enter a number and press return:  \"))\n",
    "num2 = float(raw_input(\"Now enter another number and press return:  \"))\n",
    "\n",
    "print \"The ratio of these two numbers is\"\n",
    "print num1 / num2"
   ]
  },
  {
   "cell_type": "code",
   "execution_count": 6,
   "metadata": {},
   "outputs": [
    {
     "name": "stdout",
     "output_type": "stream",
     "text": [
      "The ratio of these two numbers is\n",
      "1.25\n",
      "The ratio of these two numbers is 1.250\n",
      "The ratio of these two numbers is 1.250\n"
     ]
    }
   ],
   "source": [
    "# How to limit the number og digits in output?\n",
    "\n",
    "# with round\n",
    "print \"The ratio of these two numbers is\"\n",
    "print round(num1 / num2, 3)\n",
    "\n",
    "# with string formatting\n",
    "# Old way\n",
    "print \"The ratio of these two numbers is %.3f\" %  (num1 / num2)\n",
    "\n",
    "# New way\n",
    "print \"The ratio of these two numbers is {:.3f}\".format(num1 / num2)"
   ]
  },
  {
   "cell_type": "markdown",
   "metadata": {},
   "source": [
    "__6) Sum and Mean__\n",
    "\n",
    "  Read five numbers in. Print out their sum and mean."
   ]
  },
  {
   "cell_type": "code",
   "execution_count": 8,
   "metadata": {},
   "outputs": [
    {
     "name": "stdout",
     "output_type": "stream",
     "text": [
      "Enter five numbers, pressing return after each number:\n",
      "Number 1:  4\n",
      "Number 2:  4\n",
      "Number 3:  4\n",
      "Number 4:  3\n",
      "Number 5:  3\n",
      "The sum of these numbers is 18.0\n",
      "And the mean is 3.60\n"
     ]
    }
   ],
   "source": [
    "print \"Enter five numbers, pressing return after each number:\"\n",
    "num1 = float(raw_input(\"Number 1:  \"))\n",
    "num2 = float(raw_input(\"Number 2:  \"))\n",
    "num3 = float(raw_input(\"Number 3:  \"))\n",
    "num4 = float(raw_input(\"Number 4:  \"))\n",
    "num5 = float(raw_input(\"Number 5:  \"))\n",
    " \n",
    "total_sum = num1 + num2 + num3 + num4 + num5\n",
    "mean = total_sum / 5\n",
    " \n",
    "print \"The sum of these numbers is {}\".format(total_sum)\n",
    "# Old way...\n",
    "# print \"And the mean is %.2f\" % mean\n",
    "\n",
    "# New way:\n",
    "print \"And the mean is {:.2f}\".format(mean)"
   ]
  },
  {
   "cell_type": "markdown",
   "metadata": {},
   "source": [
    "### CHALLENGES!\n",
    "\n",
    "__7) Index-tastic__\n",
    "\n",
    "  Ask the user to specify a number of digits (e.g. 1-digit numbers, 2-digit numbers, etc.).\n",
    "  Ask the user to supply five numbers of that many digits separated by spaces.\n",
    "  Parse these numbers out, and calculate sum and mean as in Exercise #6.\n",
    "  \n",
    "Try also doing this without using any additional variables! (Use only the one that contains the string that you read in.)"
   ]
  },
  {
   "cell_type": "code",
   "execution_count": 1,
   "metadata": {},
   "outputs": [
    {
     "name": "stdout",
     "output_type": "stream",
     "text": [
      "Please enter a digit length and press return\n",
      "2\n",
      "Please enter 5 integers of the length you specified separating each by a space.\n",
      "11 22 33 44 55\n",
      "1st number: 11\n",
      "2nd number: 22\n",
      "3rd number: 33\n",
      "4th number: 44\n",
      "5th number: 55\n",
      "Sum: 165\n",
      "Mean: 33.0\n"
     ]
    }
   ],
   "source": [
    "# get our length\n",
    "diglen = int(raw_input(\"Please enter a digit length and press return\\n\"))\n",
    " \n",
    "# get our numbers\n",
    "numstr = raw_input(\"Please enter 5 integers of the length you specified separating each by a space.\\n\")\n",
    " \n",
    "# create an start and end variables that can change as we move through the str with slices\n",
    "start = 0\n",
    "end = diglen\n",
    " \n",
    "num1 = int(numstr[start:end])\n",
    "# move one spot to skip the space between numbers\n",
    "start = end + 1\n",
    "# then we're going to move by the diglen\n",
    "# this should work until the last one\n",
    "end = start + diglen\n",
    " \n",
    "num2 = int(numstr[start: end])\n",
    "start = end + 1\n",
    "end = start + diglen\n",
    " \n",
    "num3 = int(numstr[start: end])\n",
    "start = end + 1\n",
    "end = start + diglen\n",
    " \n",
    "num4 = int(numstr[start: end])\n",
    "start = end + 1\n",
    " \n",
    "#And the last one just print to the end of the str\n",
    "num5 = int(numstr[start:])\n",
    " \n",
    " \n",
    "print '1st number:', num1\n",
    "print '2nd number:', num2\n",
    "print '3rd number:', num3\n",
    "print '4th number:', num4\n",
    "print '5th number:', num5\n",
    " \n",
    "total_sum = num1 + num2 + num3 + num4 + num5\n",
    "print 'Sum:', total_sum\n",
    "mean = total_sum/5.0\n",
    "print 'Mean:', + mean"
   ]
  },
  {
   "cell_type": "code",
   "execution_count": 15,
   "metadata": {},
   "outputs": [
    {
     "name": "stdout",
     "output_type": "stream",
     "text": [
      "Please enter a digit length and press return\n",
      "2\n",
      "Please enter 5 integers of the length you specified separating each by a space.\n",
      "12 12 12 12 12\n",
      "1st number: 12\n",
      "2nd number: 12\n",
      "3rd number: 12\n",
      "4th number: 12\n",
      "5th number: 12\n",
      "Sum: 60\n",
      "Mean: 12.0\n"
     ]
    }
   ],
   "source": [
    "# Let's try to use less variables\n",
    "\n",
    "# get our length\n",
    "numdig = int(raw_input(\"Please enter a digit length and press return\\n\"))\n",
    " \n",
    "# get our numbers\n",
    "numstr = raw_input(\"Please enter 5 integers of the length you specified separating each by a space.\\n\")\n",
    " \n",
    "num1 = int(numstr[:numdig]) \n",
    "num2 = int(numstr[numdig+1 : 2*numdig+1]) \n",
    "num3 = int(numstr[2*numdig+2 : 3*numdig+2])\n",
    "num4 = int(numstr[3*numdig+3 : 4*numdig+3])\n",
    "num5 = int(numstr[4*numdig+4 :])\n",
    " \n",
    "print '1st number:', num1\n",
    "print '2nd number:', num2\n",
    "print '3rd number:', num3\n",
    "print '4th number:', num4\n",
    "print '5th number:', num5\n",
    " \n",
    "total_sum = num1 + num2 + num3 + num4 + num5\n",
    "print 'Sum:', total_sum\n",
    "mean = total_sum/5.0\n",
    "print 'Mean:', + mean"
   ]
  },
  {
   "cell_type": "markdown",
   "metadata": {},
   "source": [
    "__8) Escape!__\n",
    "\n",
    "  Reproduce the triple-quoted string from earlier:"
   ]
  },
  {
   "cell_type": "code",
   "execution_count": 15,
   "metadata": {},
   "outputs": [
    {
     "name": "stdout",
     "output_type": "stream",
     "text": [
      "hello \"world\", if that is your real name.\n",
      "That's World, to you\n"
     ]
    }
   ],
   "source": [
    "s = '''hello \"world\", if that is your real name.\n",
    "That's World, to you'''\n",
    "print s"
   ]
  },
  {
   "cell_type": "markdown",
   "metadata": {},
   "source": [
    "in just one string using single or double quotes. Make sure you have the line break and all the quotes and apostrophes in there!"
   ]
  },
  {
   "cell_type": "code",
   "execution_count": 17,
   "metadata": {},
   "outputs": [
    {
     "name": "stdout",
     "output_type": "stream",
     "text": [
      "hello \"world\", if that is your real name.\n",
      "That's World, to you\n"
     ]
    }
   ],
   "source": [
    "s1 = \"hello \\\"world\\\", if that is your real name.\\nThat's World, to you\"\n",
    "print s1"
   ]
  },
  {
   "cell_type": "code",
   "execution_count": 18,
   "metadata": {},
   "outputs": [
    {
     "name": "stdout",
     "output_type": "stream",
     "text": [
      "hello \"world\", if that is your real name.\n",
      "That's World, to you\n"
     ]
    }
   ],
   "source": [
    "s2 = 'hello \"world\", if that is your real name.\\nThat\\'s World, to you'\n",
    "print s2"
   ]
  }
 ],
 "metadata": {
  "anaconda-cloud": {},
  "kernelspec": {
   "display_name": "Python 2",
   "language": "python",
   "name": "python2"
  },
  "language_info": {
   "codemirror_mode": {
    "name": "ipython",
    "version": 2
   },
   "file_extension": ".py",
   "mimetype": "text/x-python",
   "name": "python",
   "nbconvert_exporter": "python",
   "pygments_lexer": "ipython2",
   "version": "2.7.14"
  }
 },
 "nbformat": 4,
 "nbformat_minor": 1
}
