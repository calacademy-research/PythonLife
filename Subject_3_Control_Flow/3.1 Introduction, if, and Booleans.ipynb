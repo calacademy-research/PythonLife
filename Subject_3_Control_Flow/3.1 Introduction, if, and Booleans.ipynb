{
 "cells": [
  {
   "cell_type": "markdown",
   "metadata": {},
   "source": [
    "# Control Flow: Tests, Loops, and Escapes\n",
    "\n",
    "## Topics\n",
    "- **if** tests\n",
    "- Boolean operators and logic\n",
    "- **for** loops\n",
    "- Using **range()** in a loop\n",
    "- Indexing loops with **enumerate()**\n",
    "- **while** loops\n",
    "- Loop control and escapes with **continue** and **break**\n",
    "- The modulo operator: **%**"
   ]
  },
  {
   "cell_type": "raw",
   "metadata": {},
   "source": [
    "### Control Flow\n",
    "\n",
    "Control flow is how we control the order of operations of the code we write. So far, all the code we have written is evaluated in top to bottom order. To be able to make decisions or repeat blocks of code, though, we need to be able to create a non-linear flow. Let's look at __if__.\n",
    "\n",
    "In fact, let's step back and get philosophical. Let's examine truth."
   ]
  },
  {
   "cell_type": "code",
   "execution_count": null,
   "metadata": {},
   "outputs": [],
   "source": [
    "0 < 1"
   ]
  },
  {
   "cell_type": "markdown",
   "metadata": {},
   "source": [
    "Aha! What's going on here? We have seen our first \"boolean\":"
   ]
  },
  {
   "cell_type": "code",
   "execution_count": null,
   "metadata": {},
   "outputs": [],
   "source": [
    "type(0 < 1)"
   ]
  },
  {
   "cell_type": "markdown",
   "metadata": {},
   "source": [
    "And this can be stored in a variable...."
   ]
  },
  {
   "cell_type": "code",
   "execution_count": null,
   "metadata": {},
   "outputs": [],
   "source": [
    "is_true = (0 < 1)\n",
    "print is_true\n",
    "is_false = (0 > 1)\n",
    "print is_false"
   ]
  },
  {
   "cell_type": "markdown",
   "metadata": {},
   "source": [
    "And it can be referenced directly (note case!):"
   ]
  },
  {
   "cell_type": "code",
   "execution_count": null,
   "metadata": {},
   "outputs": [],
   "source": [
    "is_true = True\n",
    "print is_true"
   ]
  },
  {
   "cell_type": "markdown",
   "metadata": {},
   "source": [
    "There are lots of tests we can run on truth:"
   ]
  },
  {
   "cell_type": "code",
   "execution_count": null,
   "metadata": {},
   "outputs": [],
   "source": [
    "print True\n",
    "print 0 < 1\n",
    "print 1 == 1\n",
    "print 1 != 1\n",
    "print 1 >= 1"
   ]
  },
  {
   "cell_type": "markdown",
   "metadata": {},
   "source": [
    "We can test non-nummerical truths, too:"
   ]
  },
  {
   "cell_type": "code",
   "execution_count": null,
   "metadata": {},
   "outputs": [],
   "source": [
    "print \"hello\" == \"goodbye\"\n",
    "print \"hello\" == \"hello\""
   ]
  },
  {
   "cell_type": "markdown",
   "metadata": {},
   "source": [
    "##  Booleans\n",
    "\n",
    "** More on the Nature of Truth**\n",
    "\n",
    "Truth has a formal meaning in Python, as it does in all programming languages. In short:\n",
    "\n",
    "Zero numbers, empty objects, and the special objects **None** and **False** are things Python believes to be **False**. Everything else Python belives to be **True**.\n",
    "\n",
    "**True** and **False** are Boolean objects, and we can see the truth of any object by coercing it into a Boolean type with the **bool()** function."
   ]
  },
  {
   "cell_type": "code",
   "execution_count": null,
   "metadata": {},
   "outputs": [],
   "source": [
    "print 'Booleans'\n",
    "print 'True:', True\n",
    "print 'False:', False\n",
    "print\n",
    "print 'Integers & Floats'\n",
    "print '10:', bool(10)\n",
    "print '0:', bool(0)\n",
    "print '0.01:', bool(0.01)\n",
    "print\n",
    "print 'Strings'\n",
    "print '\"non-empty\":', bool(\"non-empty\")\n",
    "print '\"\":', bool(\"\")\n",
    "print\n",
    "print 'Other'\n",
    "print 'None:', bool(None)\n",
    "print 'What? We can do that to a function? len:', bool(len)\n",
    "print 'len is of type', type(len)"
   ]
  },
  {
   "cell_type": "markdown",
   "metadata": {},
   "source": [
    "**Boolean Operators**\n",
    "\n",
    "The mathematical relational operators are mostly intuitive:\n",
    "\n",
    "**>** Greater than  \n",
    "**<** Less than  \n",
    "**>=** Greater than or equal to  \n",
    "**<=** Less than or equal to  \n",
    "**==** Equal to  \n",
    "**!=** Not equal to  \n",
    "\n",
    "Note that **==** is the logical equality operator, while **=** is the assignment operator.\n",
    "\n",
    "**and**, **or**, and **not**\n",
    "\n",
    "What if we want to evaluate more than one **if** statement at once? The Boolean operators **and**, **or**, and **not** can help us out. The operator **and** will only return **True** if both accompanying statements are **True**, while **or** will return **True** if either accompanying statement is **True**. **not** returns the inverse of the logical value of the statement given."
   ]
  },
  {
   "cell_type": "markdown",
   "metadata": {},
   "source": [
    "## *if* Statements\n",
    "\n",
    "The **if** statement is one of the most fundamental components of programming, and it is found in some form or another in every general-purpose programming language (and nearly all specialized ones, too). It simply tells the computer to execute a block of code if a given statement is true. If the statement is false, the code is skipped. Although the concept is simple, conditional statements like if allow your programs to make decisions on their own.\n",
    "\n",
    "In Python, we construct our **if** statements with this general form:\n",
    "\n",
    "```python\n",
    "if CONDITION:\n",
    "    DO_SOMETHING\n",
    "    DO_SOMETHING_ELSE\n",
    "else:\n",
    "    DO_THIS_INSTEAD\n",
    "```\n",
    "\n",
    "This syntax mirrors our native language of \"if A, then B, or else C\" statements. For example, \"If you have your car then you should drive, or else I'll drive.\" Our language and Python both start with **if**. The condition, \"A\", must be a statement that evaluates to **True** or **False**. \"Then\" is represented by the colon **:**. The lines of code to be conditionally executed, \"B\" and \"C\", are denoted by indenting them, similar to how we indent code within a funciton. While it is common in English to say \"or else\", just using \"else\" is also correct but sounds archiac and formal. In Python we use just **else** both because it saves us typing and because **or** has a special function that we will discuss later.\n",
    "\n",
    "Lets look at some examples:"
   ]
  },
  {
   "cell_type": "code",
   "execution_count": null,
   "metadata": {},
   "outputs": [],
   "source": [
    "if (True):\n",
    "    print \"Hey, that's true\"\n"
   ]
  },
  {
   "cell_type": "code",
   "execution_count": null,
   "metadata": {},
   "outputs": [],
   "source": [
    "x = 1\n",
    "y = 2\n",
    "if (x > y):\n",
    "    print \"{} is greater than {}\".format(x,y)\n",
    "else: \n",
    "    print \"NOPE. {} is not greater than {}\".format(x,y)"
   ]
  },
  {
   "cell_type": "code",
   "execution_count": null,
   "metadata": {},
   "outputs": [],
   "source": [
    "# Imagine that I have to eat lousy ramen if I have less than $10,\n",
    "# but I can eat the fancier kind if I have more...\n",
    "checkingAccountBalance = 9\n",
    "if checkingAccountBalance < 10:\n",
    "    food = 'ramen'\n",
    "else:\n",
    "    food = 'good ramen'\n",
    "\n",
    "    \n",
    "print \"We are eating {} tonight\".format(food)"
   ]
  },
  {
   "cell_type": "markdown",
   "metadata": {},
   "source": [
    "**if** statements don't always have to have an **else** statement."
   ]
  },
  {
   "cell_type": "code",
   "execution_count": null,
   "metadata": {},
   "outputs": [],
   "source": [
    "# But maybe if my friend Susan comes over for dinner we also eat Cheez-Its\n",
    "checkingAccountBalance = 9\n",
    "guest = ''\n",
    "\n",
    "if checkingAccountBalance < 10:\n",
    "    food = 'ramen'\n",
    "else:\n",
    "    food = 'good ramen'\n",
    "\n",
    "if guest == 'Susan':\n",
    "    food = food + ' and Cheez-Its'\n",
    "    \n",
    "    "
   ]
  },
  {
   "cell_type": "markdown",
   "metadata": {},
   "source": [
    "But what if there's a third option? Or a fourth? "
   ]
  },
  {
   "cell_type": "code",
   "execution_count": null,
   "metadata": {},
   "outputs": [],
   "source": [
    "# This is a bad example of how to test for multiple options.\n",
    "checkingAccountBalance = 9\n",
    "\n",
    "if checkingAccountBalance < 10:\n",
    "    food = 'ramen'\n",
    "else:\n",
    "    if checkingAccountBalance < 100:\n",
    "        food = 'good ramen'\n",
    "    else:\n",
    "        if checkingAccountBalance < 200:\n",
    "            food = 'great ramen'\n",
    "        else:\n",
    "            food = 'ramen that is truly profound in its quality'\n",
    "\n",
    "    "
   ]
  },
  {
   "cell_type": "markdown",
   "metadata": {},
   "source": [
    "All these nested **if** statements are pretty hard to read, and if we wanted to test for even more conditions our code would quickly become illegible.\n",
    "\n",
    "To solve this problem, we have Python's **elif** statement (short for \"else if\"). **elif** tells Python that the indented code immediately following the **elif** statement should only be executed if the preceding **if** or **elif** statement(s) evaluated to **False**."
   ]
  },
  {
   "cell_type": "code",
   "execution_count": null,
   "metadata": {},
   "outputs": [],
   "source": [
    "# This is a good example of how to test for multiple options.\n",
    "checkingAccountBalance = 9\n",
    "\n",
    "if checkingAccountBalance < 10:\n",
    "    food = 'ramen'\n",
    "elif checkingAccountBalance < 100:\n",
    "    food = 'good ramen'\n",
    "elif checkingAccountBalance < 200:\n",
    "    food = 'great ramen'\n",
    "else:\n",
    "    food = 'ramen that is truly profound in its quality'\n",
    "\n",
    "print food"
   ]
  },
  {
   "cell_type": "markdown",
   "metadata": {},
   "source": [
    "As a rule, it's good practice to account for all possibilities in your **if**, **elif**, **else** statements. In the case of our \\$10 budget, we initially cared only if we had \\$10 or more, and so this might be a safe place to use the **if**, **else** construct to account for all possibilities. But what if we actually had a zero balance in our checking accounts, and thus had no money to exchange for noodles? (Don't worry, you can always steal cookies at the departmental seminar.) We've accounted for all positive values with our above logic, but we've left an implicit assumption that having \\$0 or less on our checking account balance still results in our eating ramen this week. The point: we often make oversights that python will not overlook. These can result in interesting, though nonsensical outcomes -- like getting ramen for nothing. The lesson is to be careful and thorough as you compose your logical statements."
   ]
  },
  {
   "cell_type": "code",
   "execution_count": null,
   "metadata": {},
   "outputs": [],
   "source": [
    "if True and False:\n",
    "    print \"This should not print.\"\n",
    "else:\n",
    "    print \"This should print.\"\n",
    "\n",
    "if True or False:\n",
    "    print \"This should print.\"\n",
    "\n",
    "if not False:\n",
    "    print \"This should print.\"\n",
    "\n",
    "if not (True and False): # note the parentheses\n",
    "    print \"This should print.\""
   ]
  },
  {
   "cell_type": "markdown",
   "metadata": {},
   "source": [
    "To learn about order of operations in Python, [go here](http://www.informit.com/articles/article.aspx?p=459269&seqNum=11)  \n",
    "To learn more about operators, [go here](http://www.tutorialspoint.com/python/python_basic_operators.htm)."
   ]
  },
  {
   "cell_type": "markdown",
   "metadata": {},
   "source": [
    "Now, let's play with loops. The first code block looks like something we've seen before - a pretty simple test. Once it's done, x will be set to 5. The next animal - __while__ - is new:"
   ]
  },
  {
   "cell_type": "code",
   "execution_count": null,
   "metadata": {},
   "outputs": [],
   "source": [
    "if 1 < 0:\n",
    "    x = 2\n",
    "else:\n",
    "    x = 5\n",
    "    \n",
    "while x > 0:\n",
    "    print x\n",
    "    x = x - 1\n",
    "\n",
    "print 'done'"
   ]
  },
  {
   "cell_type": "markdown",
   "metadata": {},
   "source": [
    "While this code is written linearly, the order of execution of the lines of this code is not linear. Parts of this code are never run, and other parts are run more than once. We can diagram how the interpreter moves through this code with a flowchart. The **if** and **else** statements are shaded in blue and green, respectively. We can see that either the **if** statement or the **else** statement is executed depending on the value of the truth statement. The **while** statement is shaded in yellow, and forms a loop within the flowchart - hence the name \"while loop\" - that is executed 5 times in this case.\n",
    "\n",
    "![Flow Control Diagram](https://raw.githubusercontent.com/channsoden/pedagogy/master/Control_Flow_Chart.png)\n",
    "\n",
    "Another way to visualize the execution of this code is with the [Python Tutor visualizer](http://www.pythontutor.com/visualize.html#mode=edit). This tool allows you to watch the interpreter move through and exececute the lines of your code. It also shows you the current state of all the variables and objects within Python's memory. Go ahead and try it now. Copy the code from above and paste it into the visualizer, then click \"Vizualize Execution\"!\n",
    "\n",
    "The Python Tutor visualizer is a neat tool not only to help you visualize how your code is working, but to help you debug your code. I encourage you to use it to try to figure out how someone else's code works, as well as to debug when you are stuck on an excercise."
   ]
  }
 ],
 "metadata": {
  "kernelspec": {
   "display_name": "Python 2",
   "language": "python",
   "name": "python2"
  },
  "language_info": {
   "codemirror_mode": {
    "name": "ipython",
    "version": 2
   },
   "file_extension": ".py",
   "mimetype": "text/x-python",
   "name": "python",
   "nbconvert_exporter": "python",
   "pygments_lexer": "ipython2",
   "version": "2.7.13"
  }
 },
 "nbformat": 4,
 "nbformat_minor": 1
}
