{
 "cells": [
  {
   "cell_type": "markdown",
   "metadata": {},
   "source": [
    "---\n",
    "## Exercises\n",
    "\n",
    "### 1. Truth or Consequences\n",
    "\n",
    "Use the **bool** function to evaluate the truth of the following expressions in Python. If you don't see exactly why they are **True** or **False**, please ask a TA.\n",
    "\n",
    "A) \"\" (the empty string)\n",
    "\n",
    "B) 0\n",
    "\n",
    "C) 42\n",
    "\n",
    "D) \" \" (there's a space here!)\n",
    "\n",
    "E) \"0\"\n",
    "\n",
    "F) None\n",
    "\n",
    "G) \"None\"\n",
    "\n",
    "H) bool\n",
    "\n",
    "I) bool()\n",
    "\n",
    "J) ''.upper\n",
    "\n",
    "K) ''.upper()"
   ]
  },
  {
   "cell_type": "markdown",
   "metadata": {},
   "source": [
    "### 2. Logical Gymnastics (Adapted from [Learn Python the Hard Way](https://learnpythonthehardway.org/book/))\n",
    "\n",
    "Try to predict how the Python interpreter will evaluate the following statements. Then, test your guesses.\n",
    "\n",
    "A) True and True\n",
    "\n",
    "B)False and True\n",
    "\n",
    "C) 1 == 1 and 2 == 1\n",
    "\n",
    "D) 'test' == 'test'\n",
    "\n",
    "E) 1 == 1 and 2 != 1\n",
    "\n",
    "F) (1 == 1 and 2) != 1\n",
    "\n",
    "G) (1 == 1 and 1) != 1\n",
    "\n",
    "H) not (True and False)\n",
    "\n",
    "I) not (1 == 1 and 0 != 1)\n",
    "\n",
    "J) not (1 != 10 or 3 == 4)\n",
    "\n",
    "K) 1 == 1 and (not (\"testing\" == 1 or 1 == 0))\n",
    "\n",
    "L) 3 == 3 and (not (\"testing\" == \"testing\" or \"Python\" == \"Fun\"))\n",
    "\n",
    "M) True + 1\n",
    "\n",
    "N) 2 - 2 and True\n",
    "\n",
    "O) True and 2 - 2\n",
    "\n",
    "P) 2 and True - 2\n",
    "\n",
    "Q) True - 1 and True"
   ]
  },
  {
   "cell_type": "markdown",
   "metadata": {},
   "source": [
    "### 4. For Hobbit in Fellowship\n",
    "Write a program that prints the lyrics to [\"For He's a Jolly Good Fellow\"](https://en.wikipedia.org/wiki/For_He%27s_a_Jolly_Good_Fellow)\n",
    "\n",
    "A) Using only 7 lines of code or fewer.\n",
    "\n",
    "B) Using only a single print statement.\n",
    "\n",
    "Bonus Challenge) Without ever repeating a line of code. # Come back to this problem after completing 7. FizzBuzz"
   ]
  },
  {
   "cell_type": "markdown",
   "metadata": {},
   "source": [
    "### 5. 99 Bottles of Beer\n",
    "Write a program that sings [\"99 Bottles of Beer on the Wall\"](https://en.wikipedia.org/wiki/99_Bottles_of_Beer), ending with:\n",
    "\n",
    "1 bottle of beer on the wall, 1 bottle of beer,  \n",
    "If that one bottle should happen to fall, what a waste of alcohol!"
   ]
  },
  {
   "cell_type": "markdown",
   "metadata": {},
   "source": [
    "### 6. My Pet Gene Finder\n",
    "\n",
    "Write your first gene-finding program: have the user enter a string of six nucleotides. If the length of the string is not six, tell the user to input another string. \n",
    "\n",
    "Write a function that looks for 'ATG' in the sequence and returns the position where it is found. If 'ATG' appears multiple times, return only the location of the first instance. If the string does not contain 'ATG', return -1."
   ]
  },
  {
   "cell_type": "markdown",
   "metadata": {},
   "source": [
    "### 7. FizzBuzz\n",
    "FizzBuzz is a counting game where you need to be a bit on your toes. You start counting upwards, but:  \n",
    "When you have a number that's a multiple of three, you say \"Fizz\"  \n",
    "When you have a number that's a multiple of five, you say \"Buzz\"  \n",
    "When you have a number that's a multiple of both three and five, you say \"FizzBuzz\"  \n",
    "Otherwise, you just say the number  \n",
    "\n",
    "Write a function that plays FizzBuzz. This function should take one argument, which is the maximum number it will count to. The output should look like this:  \n",
    "1  \n",
    "2  \n",
    "Fizz  \n",
    "4  \n",
    "Buzz  \n",
    "Fizz  \n",
    "7  \n",
    "8  \n",
    "Fizz  \n",
    "Buzz  \n",
    "11  \n",
    "Fizz  \n",
    "13  \n",
    "14  \n",
    "FizzBuzz  \n",
    "...\n",
    "\n",
    "You may find the **%** (modulo) operator helpful. This gives you the remainder when you divide one number by another, so:"
   ]
  },
  {
   "cell_type": "code",
   "execution_count": 5,
   "metadata": {},
   "outputs": [
    {
     "name": "stdout",
     "output_type": "stream",
     "text": [
      "0 % 3 = 0\n",
      "1 % 3 = 1\n",
      "2 % 3 = 2\n",
      "3 % 3 = 0\n",
      "4 % 3 = 1\n"
     ]
    }
   ],
   "source": [
    "print '0 % 3 =', 0 % 3\n",
    "print '1 % 3 =', 1 % 3\n",
    "print '2 % 3 =', 2 % 3\n",
    "print '3 % 3 =', 3 % 3\n",
    "print '4 % 3 =', 4 % 3"
   ]
  },
  {
   "cell_type": "markdown",
   "metadata": {},
   "source": [
    "### 8. Getting comfortable with Loops (adapted from [Learning Python](http://www.amazon.com/gp/product/1449355730/ref=pd_lpo_sbs_dp_ss_1?pf_rd_p=1944687762&pf_rd_s=lpo-top-stripe-1&pf_rd_t=201&pf_rd_i=0596002815&pf_rd_m=ATVPDKIKX0DER&pf_rd_r=0H4E3BSC5ZC5HMJAKM5Z))\n",
    "Computers only really understand numbers, not letters. Therefore, letters and symbols are stored in the computer according to numbers. The American Standard Code for Information Interchange (ASCII) is a formalized code that links characters and numbers. You determine the ASCII number code of a letter using the built-in function ord(character).\n",
    "\n",
    "For example,"
   ]
  },
  {
   "cell_type": "code",
   "execution_count": 1,
   "metadata": {},
   "outputs": [
    {
     "name": "stdout",
     "output_type": "stream",
     "text": [
      "84\n"
     ]
    }
   ],
   "source": [
    "print ord('T')"
   ]
  },
  {
   "cell_type": "markdown",
   "metadata": {},
   "source": [
    "a) Write a for loop that prints the ASCII code of each character in the string 'Rock and Roll'.\n",
    "\n",
    "b) Biologists have taken advantage of ASCII encoding to create a compressed format for sequence quality scores. In the fastq file format, for example, sequences are followed 2 lines later by a string of the same length that represents the quality scores for each base in the sequence. Each character in the quality string is converted to its ASCII value, minus 32 (in some cases 64), to get the quality score. Here's an example of an entry from a fastq file:\n",
    "\n",
    "```\n",
    "@HWI-ST665R:175:C278GACXX:3:1101:2732:1990 1:N:0:CGATGT\n",
    "CATGGTAGGCTTGGTTTTCGTCATGGTCAATAACCTCGTCTCCCGGTTTGAACAAGTACCATAGGTCAAAAAACGTCGCTCTTTCGCAACGCGGGCTATT\n",
    "+\n",
    "@@@FB::?FDFAFDDFGABFFHIIDHIGGG>@7@EHGHECEE=DFFDCCEAC;>>=(38;AA55(;@3(4()05954>:9><-09<A(:>AC:CBCCBC?\n",
    "```\n",
    "\n",
    "Write a function to calculate the mean quality score of this sequence."
   ]
  },
  {
   "cell_type": "markdown",
   "metadata": {},
   "source": [
    "### 9. Fibonacci sequence\n",
    "Write a function that prints to the screen a sequence of [Fibonacci numbers](https://en.wikipedia.org/wiki/Fibonacci_number) of a specified length. Fibonacci numbers are the numbers in the following sequence:\n",
    "\n",
    "0,1,1,2,3,5,8,13,21,34, ...\n",
    "\n",
    "Such that each number in the sequence is the sum of the two previsous ones (and the sequence starts with 0,1)"
   ]
  },
  {
   "cell_type": "markdown",
   "metadata": {
    "collapsed": true
   },
   "source": [
    "### 10. All Roads Lead to Rome  (adapted from [Learning Python](http://www.amazon.com/gp/product/1449355730/ref=pd_lpo_sbs_dp_ss_1?pf_rd_p=1944687762&pf_rd_s=lpo-top-stripe-1&pf_rd_t=201&pf_rd_i=0596002815&pf_rd_m=ATVPDKIKX0DER&pf_rd_r=0H4E3BSC5ZC5HMJAKM5Z))\n",
    "A coworker (who obviously is not a native Python speaker) hands you the following code, which tests if the iupac code **N** is in a sequence **seq** and returns the index of the first N."
   ]
  },
  {
   "cell_type": "code",
   "execution_count": null,
   "metadata": {},
   "outputs": [],
   "source": [
    "seq = \"ATCGATNGCTANCGTAGCNT\"\n",
    "code = \"N\"\n",
    " \n",
    "found = i = 0\n",
    "while not found and i < len(seq):\n",
    "    # Check if this position in the sequence\n",
    "    # contains the iupac code N.\n",
    "    if code == seq[i]:\n",
    "        found = 1\n",
    "    else:\n",
    "        i = i+1\n",
    "if found:\n",
    "    print 'at index', i\n",
    "else:\n",
    "    print code, 'not found'"
   ]
  },
  {
   "cell_type": "markdown",
   "metadata": {},
   "source": [
    "As is, the script does not follow normal Python coding techniques. Follow the steps below to improve it.  \n",
    "\n",
    "a) Rewrite this code with a **break** statement to eliminate the 'found' flag  \n",
    "\n",
    "b) Now rewrite it again to use a **for** loop to eliminate the explicit string indexing logic (i.e. seq[i]).\n",
    "\n",
    "c) Remove the loop completely by rewriting the examples using an expression with **in**. The string method **.index()** will also help you. \n",
    "(HINT: usage of **in** and **.index()** is shown below)"
   ]
  },
  {
   "cell_type": "code",
   "execution_count": 28,
   "metadata": {},
   "outputs": [
    {
     "name": "stdout",
     "output_type": "stream",
     "text": [
      "True\n"
     ]
    }
   ],
   "source": [
    "print \"c\" in \"abcd\""
   ]
  },
  {
   "cell_type": "code",
   "execution_count": 29,
   "metadata": {},
   "outputs": [
    {
     "data": {
      "text/plain": [
       "2"
      ]
     },
     "execution_count": 29,
     "metadata": {},
     "output_type": "execute_result"
    }
   ],
   "source": [
    "\"abcd\".index(\"c\")"
   ]
  }
 ],
 "metadata": {
  "kernelspec": {
   "display_name": "Python 2",
   "language": "python",
   "name": "python2"
  },
  "language_info": {
   "codemirror_mode": {
    "name": "ipython",
    "version": 2
   },
   "file_extension": ".py",
   "mimetype": "text/x-python",
   "name": "python",
   "nbconvert_exporter": "python",
   "pygments_lexer": "ipython2",
   "version": "2.7.13"
  }
 },
 "nbformat": 4,
 "nbformat_minor": 1
}
