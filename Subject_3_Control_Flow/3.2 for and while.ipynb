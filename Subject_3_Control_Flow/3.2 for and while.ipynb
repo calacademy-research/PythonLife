{
 "cells": [
  {
   "cell_type": "markdown",
   "metadata": {},
   "source": [
    "## *for* loops\n",
    "\n",
    "We have already seen one loop, once - \"While\". That has a test for truth, and a code block. For as long as the test returns __True__, the code block will repeat.\n",
    "\n",
    "The **for** loop allows you run the same block of code on every member of a set of objects. Let's start with strings and charhacters (this works with lists, too, and - soon - lines of text in a file) If you apply a **for** loop over a string, it will perform the action you choose on each character in that string:"
   ]
  },
  {
   "cell_type": "code",
   "execution_count": null,
   "metadata": {},
   "outputs": [],
   "source": [
    "sequence = 'TGTGAATGTA'\n",
    " \n",
    "#iterate over string\n",
    "for base in sequence:\n",
    "    print base"
   ]
  },
  {
   "cell_type": "markdown",
   "metadata": {},
   "source": [
    "Note that you are creating a new variable within the for loop (in this case *base*). The code within the loop is run multiple times, with the value of *base* being successively set to each character within the *sequence*. Thus, the following code is equivalent:"
   ]
  },
  {
   "cell_type": "code",
   "execution_count": null,
   "metadata": {},
   "outputs": [],
   "source": [
    "base = sequence[0]\n",
    "print base\n",
    "\n",
    "base = sequence[1]\n",
    "print base\n",
    "\n",
    "base = sequence[2]\n",
    "print base\n",
    "# etc"
   ]
  },
  {
   "cell_type": "markdown",
   "metadata": {},
   "source": [
    "Just as we can index a string and loop over its charhacters, we can index a list and loop over its elements."
   ]
  },
  {
   "cell_type": "code",
   "execution_count": null,
   "metadata": {},
   "outputs": [],
   "source": [
    "string_of_lazy = \"The quick brown fox jumped over the lazy graduate student\"\n",
    "list_of_lazy = string_of_lazy.split()\n",
    "for lazy_word in list_of_lazy:\n",
    "    print (lazy_word)"
   ]
  },
  {
   "cell_type": "markdown",
   "metadata": {},
   "source": [
    "Ok, cute, but useless. Let's do something a little more interesting. How many times does the letter \"e\" show up?"
   ]
  },
  {
   "cell_type": "code",
   "execution_count": null,
   "metadata": {},
   "outputs": [],
   "source": [
    "string_of_lazy = \"The quick brown fox jumped over the lazy graduate student\"\n",
    "#string_of_lazy = \"The quick brown fox jumped over the lazy dog.\"\n",
    "e_count = 0\n",
    "for lazy_char in string_of_lazy:\n",
    "    if lazy_char == \"e\":\n",
    "        e_count += 1 # Woah\n",
    "print \"I found {} es!\".format(e_count)"
   ]
  },
  {
   "cell_type": "markdown",
   "metadata": {},
   "source": [
    "For those who are too lazy to type"
   ]
  },
  {
   "cell_type": "code",
   "execution_count": null,
   "metadata": {},
   "outputs": [],
   "source": [
    "a = 0\n",
    "a = a + 1"
   ]
  },
  {
   "cell_type": "markdown",
   "metadata": {},
   "source": [
    "There are a host of operators you'll love. "
   ]
  },
  {
   "cell_type": "code",
   "execution_count": 3,
   "metadata": {},
   "outputs": [
    {
     "name": "stdout",
     "output_type": "stream",
     "text": [
      "0\n",
      "1\n",
      "-1\n",
      "-0.333333333333\n",
      "8.66666666667\n"
     ]
    }
   ],
   "source": [
    "a = 0\n",
    "print a\n",
    "a += 1\n",
    "print a\n",
    "a -= 2\n",
    "print a\n",
    "a /= 3.0\n",
    "print a\n",
    "a += 9\n",
    "print a"
   ]
  },
  {
   "cell_type": "markdown",
   "metadata": {},
   "source": [
    "---\n",
    "### Iterable Objects \n",
    "\n",
    "One difference between Python and our hypothetical undergrad is that our undergrad knows that a genome contains genes, and that when we say \"For each gene. . .\" they should ignore small non-coding RNAs or other non-genic features, while Python doesn't know what is in the object you're looping over. We could name this variable whatever we wanted, the name is purely descriptive. Under the hood *sequence* is a string, and a string is a sequence of characters. In Python, any object that contains (or can produce) other objects is called **iterable**, and these are the only types of objects that can be used in a **for** loop. Objects like integers only contain one value, so are not **iterable**.\n",
    "\n",
    "---\n",
    "\n",
    "\n",
    "Just like an **if** statement, if you want to do more than one thing inside the loop, you can start a new block of indented lines after the colon, and then when you're done with the code you want to run every time, go back to the original indentation:"
   ]
  },
  {
   "cell_type": "code",
   "execution_count": null,
   "metadata": {},
   "outputs": [],
   "source": [
    "sequence = 'TGTGAATGTA'\n",
    "\n",
    "AT = 0. # Review: why am I using '0.' instead of '0'?\n",
    "GC = 0.\n",
    "\n",
    "for base in sequence:\n",
    "    if base == 'G' or base == 'C':\n",
    "        GC += 1\n",
    "    else:\n",
    "        AT += 1\n",
    "        \n",
    "print AT\n",
    "print GC\n",
    "\n",
    "GC_content = (GC / (AT + GC)) * 100.\n",
    "\n",
    "print \"This sequence is {}% GC\".format(GC_content)"
   ]
  },
  {
   "cell_type": "markdown",
   "metadata": {},
   "source": [
    "## *while* loops\n",
    "\n",
    "Similar to a **for** loop, a **while** loop allows you to run the same block of code repeatedly. While a **for** loop runs once for every object within an **iterable**, though, a **while** loop runs *until some condition is met*. Returning to our example:\n",
    "\n",
    "    \"While you're here, for each protein in the genome, if the protein is located in the membrane, tell me that protein's expression level.\"\n",
    "\n",
    "Here, the condition is \"you're here\", which is a boolean statement in that it is either true or false. Again, Python's syntax is almost the same:\n",
    "\n",
    "```python\n",
    "while youre_here:\n",
    "    work()\n",
    "    report_results()\n",
    "    \n",
    "    if time == 17:\n",
    "        youre_here = False # The undergrad goes home at 5pm (17h)\n",
    "```\n",
    "\n",
    "Again, the **while** statement ends with a colon, and the instructions within the loop are indented. This undergrad will continue working and reporting results as long as they are in lab (*youre_here* equals **True**). Notice the **if** test at the end of the loop that sends the student home at 5pm. Unless you want your undergrad to work forever, you need to make sure that the conditional statement is eventually not **True**.\n",
    "\n",
    "**Very Important:** Make sure the conditional statement between while and the colon *_will_* be **False** at some point! If you get caught in an infinite loop, press CTRL+C to interrupt your program.\n",
    "\n",
    "Lets look at some simple examples using strings, since they're the only **iterable** we know how to work with at this point."
   ]
  },
  {
   "cell_type": "code",
   "execution_count": null,
   "metadata": {},
   "outputs": [],
   "source": [
    "def prefixes(word):\n",
    "    # Print all the prefixes of a word\n",
    "    while word:\n",
    "        print word\n",
    "        word = word[:-1]\n",
    "    \n",
    "prefixes('banana')"
   ]
  },
  {
   "cell_type": "markdown",
   "metadata": {},
   "source": [
    "Remember that empty strings are **False**, and non-empty strings are **True**. So here, our conditional is the string *word*, and every time through the loop we remove the last character from the string until the string is empty.\n",
    "\n",
    "We can add an **if** statement to turn this function into a search function to tell us if our word starts with a given prefix."
   ]
  },
  {
   "cell_type": "code",
   "execution_count": null,
   "metadata": {},
   "outputs": [],
   "source": [
    "def starts_with(word, prefix):\n",
    "    # Return True if word starts with prefix\n",
    "    while word:\n",
    "        if word == prefix:\n",
    "            return True\n",
    "        else:\n",
    "            word = word[:-1]\n",
    "    \n",
    "    return False # The prefix was never found\n",
    "\n",
    "print starts_with('banana', 'ban')\n",
    "print starts_with('apple', 'ora')"
   ]
  },
  {
   "cell_type": "markdown",
   "metadata": {},
   "source": [
    "Now that we have a function that can tell us if a string starts with a given prefix, we can use this function to find ORFs (start with \"ATG\") in a DNA sequence. We do this with the same strategy, but in reverse, by checking if all suffixes of the sequence start with the prefix \"ATG\"."
   ]
  },
  {
   "cell_type": "code",
   "execution_count": null,
   "metadata": {},
   "outputs": [],
   "source": [
    "def find_orf_start(seq):\n",
    "    while seq:\n",
    "        if starts_with(seq, 'ATG'):\n",
    "            return seq\n",
    "        else:\n",
    "            seq = seq[1:]\n",
    "\n",
    "sequence = ('TGAATCATCCCCTTAAGAGAAGACCCGAAG' +\n",
    "            'TTATTATAGGGAAGGGCAGAAATGACCACC' +\n",
    "            'CTCTCATCTCGCTAGTCCACTTGACACCTC' +\n",
    "            'TTAGTTCATGACGACGTGAGTCGTTCCTAA')\n",
    "            \n",
    "print find_orf_start(sequence)"
   ]
  },
  {
   "cell_type": "markdown",
   "metadata": {},
   "source": [
    "And just for a satisfying sense of completion, lets find the end of the ORF by searching the ORF for stop codons. This time we will use an index *i*, since we want to search from the start of the string and we don't want to chew up the string as we search."
   ]
  },
  {
   "cell_type": "code",
   "execution_count": null,
   "metadata": {},
   "outputs": [],
   "source": [
    "def ends_with(word, suffix):\n",
    "    # Return True if word ends with suffix\n",
    "    while word:\n",
    "        if word == suffix:\n",
    "            return True\n",
    "        else:\n",
    "            word = word[1:]\n",
    "    \n",
    "    return False\n",
    "\n",
    "def find_orf_end(seq):\n",
    "    i = 3\n",
    "    while i < len(seq):\n",
    "        prefix = seq[:i]\n",
    "        if (ends_with(prefix, 'TAG') or\n",
    "            ends_with(prefix, 'TAA') or\n",
    "            ends_with(prefix, 'TGA')):\n",
    "            return prefix\n",
    "        else:\n",
    "            i += 3 # need to search each codon at a time, not each base\n",
    "\n",
    "sequence = ('TGAATCATCCCCTTAAGAGAAGACCCGAAG' +\n",
    "            'TTATTATAGGGAAGGGCAGAAATGACCACC' +\n",
    "            'CTCTCATCTCGCTAGTCCACTTGACACCTC' +\n",
    "            'TTAGTTCATGACGACGTGAGTCGTTCCTAA')\n",
    "            \n",
    "sequence = find_orf_start(sequence)\n",
    "sequence = find_orf_end(sequence)\n",
    "print sequence"
   ]
  },
  {
   "cell_type": "code",
   "execution_count": null,
   "metadata": {},
   "outputs": [],
   "source": []
  }
 ],
 "metadata": {
  "kernelspec": {
   "display_name": "Python 2",
   "language": "python",
   "name": "python2"
  },
  "language_info": {
   "codemirror_mode": {
    "name": "ipython",
    "version": 2
   },
   "file_extension": ".py",
   "mimetype": "text/x-python",
   "name": "python",
   "nbconvert_exporter": "python",
   "pygments_lexer": "ipython2",
   "version": "2.7.13"
  }
 },
 "nbformat": 4,
 "nbformat_minor": 1
}
