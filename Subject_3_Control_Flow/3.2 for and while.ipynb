{
 "cells": [
  {
   "cell_type": "markdown",
   "metadata": {},
   "source": [
    "## *for* loops\n",
    "\n",
    "We have already seen one loop, once - \"while\". That has a test for truth, and a code block. For as long as the test returns __True__, the code block will repeat.\n",
    "\n",
    "The **for** loop allows you to run the same block of code on every member of an object. Let's start with strings and characters (this works with lists, too, and - soon - lines of text in a file) If you apply a **for** loop over a string, it will perform the action you choose on each character in that string:"
   ]
  },
  {
   "cell_type": "code",
   "execution_count": 1,
   "metadata": {},
   "outputs": [
    {
     "name": "stdout",
     "output_type": "stream",
     "text": [
      "T\n",
      "G\n",
      "T\n",
      "G\n",
      "A\n",
      "A\n",
      "T\n",
      "G\n",
      "T\n",
      "A\n"
     ]
    }
   ],
   "source": [
    "sequence = 'TGTGAATGTA'\n",
    " \n",
    "#iterate over string\n",
    "for base in sequence:\n",
    "    print base"
   ]
  },
  {
   "cell_type": "markdown",
   "metadata": {},
   "source": [
    "Note that you are creating a new variable within the **for** loop (in this case *base*). The code within the loop is run multiple times, with the value of *base* being successively set to each character within the *sequence*. Thus, the following code is equivalent:"
   ]
  },
  {
   "cell_type": "code",
   "execution_count": 2,
   "metadata": {},
   "outputs": [
    {
     "name": "stdout",
     "output_type": "stream",
     "text": [
      "T\n",
      "G\n",
      "T\n"
     ]
    }
   ],
   "source": [
    "base = sequence[0]\n",
    "print base\n",
    "\n",
    "base = sequence[1]\n",
    "print base\n",
    "\n",
    "base = sequence[2]\n",
    "print base\n",
    "# etc"
   ]
  },
  {
   "cell_type": "markdown",
   "metadata": {},
   "source": [
    "Just as we can index a string and loop over its characters, we can index a list and loop over its elements."
   ]
  },
  {
   "cell_type": "code",
   "execution_count": 3,
   "metadata": {},
   "outputs": [
    {
     "name": "stdout",
     "output_type": "stream",
     "text": [
      "The\n",
      "quick\n",
      "brown\n",
      "fox\n",
      "jumped\n",
      "over\n",
      "the\n",
      "lazy\n",
      "graduate\n",
      "student\n"
     ]
    }
   ],
   "source": [
    "string_of_lazy = \"The quick brown fox jumped over the lazy graduate student\"\n",
    "list_of_lazy = string_of_lazy.split()\n",
    "for lazy_word in list_of_lazy:\n",
    "    print (lazy_word)"
   ]
  },
  {
   "cell_type": "markdown",
   "metadata": {},
   "source": [
    "Ok, cute, but useless. Let's do something a little more interesting. How many times does the letter \"e\" show up?"
   ]
  },
  {
   "cell_type": "code",
   "execution_count": 5,
   "metadata": {},
   "outputs": [
    {
     "name": "stdout",
     "output_type": "stream",
     "text": [
      "I found 6 e's!\n"
     ]
    }
   ],
   "source": [
    "string_of_lazy = \"The quick brown fox jumped over the lazy graduate student\"\n",
    "#string_of_lazy = \"The quick brown fox jumped over the lazy dog.\"\n",
    "e_count = 0\n",
    "for lazy_char in string_of_lazy:\n",
    "    if lazy_char == \"e\":\n",
    "        e_count += 1\n",
    "print \"I found {} e's!\".format(e_count)"
   ]
  },
  {
   "cell_type": "markdown",
   "metadata": {},
   "source": [
    "For those who don't want to keep typing the same long variable name (var_name in our examples below)."
   ]
  },
  {
   "cell_type": "code",
   "execution_count": 13,
   "metadata": {},
   "outputs": [
    {
     "name": "stdout",
     "output_type": "stream",
     "text": [
      "1\n"
     ]
    }
   ],
   "source": [
    "var_name = 0\n",
    "var_name = var_name + 1\n",
    "print var_name"
   ]
  },
  {
   "cell_type": "markdown",
   "metadata": {},
   "source": [
    "There are a host of operators you'll love. "
   ]
  },
  {
   "cell_type": "code",
   "execution_count": 14,
   "metadata": {},
   "outputs": [
    {
     "name": "stdout",
     "output_type": "stream",
     "text": [
      "0\n",
      "1\n",
      "-1\n",
      "-0.333333333333\n",
      "8.66666666667\n"
     ]
    }
   ],
   "source": [
    "var_name = 0\n",
    "print var_name\n",
    "\n",
    "var_name += 1    #same as var_name = var_name + 1\n",
    "print var_name\n",
    "\n",
    "var_name -= 2\n",
    "print var_name\n",
    "\n",
    "var_name /= 3.0\n",
    "print var_name\n",
    "\n",
    "var_name += 9\n",
    "print var_name"
   ]
  },
  {
   "cell_type": "markdown",
   "metadata": {},
   "source": [
    "---\n",
    "### Iterable Objects \n",
    "\n",
    "Under the hood *sequence* is a string, and a string is a sequence of characters. In Python, any object that contains (or can produce) other objects is called **iterable**, and these are the only types of objects that can be used in a **for** loop. Objects like integers only contain one value, so are not **iterable**.\n",
    "\n",
    "---\n",
    "\n",
    "\n",
    "Just like an **if** statement, if you want to do more than one thing inside the loop, you can start a new block of indented lines after the colon, and then when you're done with the code you want to run every time, go back to the original indentation:"
   ]
  },
  {
   "cell_type": "code",
   "execution_count": null,
   "metadata": {},
   "outputs": [],
   "source": [
    "sequence = 'TGTGAATGTA'\n",
    "\n",
    "AT = 0. # Review: why am I using '0.' instead of '0'?\n",
    "GC = 0.\n",
    "\n",
    "for base in sequence:\n",
    "    if base == 'G' or base == 'C':\n",
    "        GC += 1\n",
    "    else:\n",
    "        AT += 1\n",
    "        \n",
    "print AT\n",
    "print GC\n",
    "\n",
    "GC_content = (GC / (AT + GC)) * 100.\n",
    "\n",
    "print \"This sequence is {}% GC\".format(GC_content)"
   ]
  },
  {
   "cell_type": "markdown",
   "metadata": {},
   "source": [
    "## *while* loops\n",
    "\n",
    "We saw this once, let's take a closer look. Similar to a **for** loop, a **while** loop allows you to run the same block of code repeatedly. While a **for** loop runs once for every object within an **iterable**, though, a **while** loop runs *until some condition is met*. Returning to our example:\n",
    "\n",
    "\n",
    "Again, the **while** statement ends with a colon, and the instructions within the loop are indented. Unless you want to loop forever, you need to make sure that the conditional statement is eventually not **True**.\n",
    "\n",
    "**Very Important:** Make sure the conditional statement between while and the colon *_will_* be **False** at some point! If you get caught in an infinite loop, press CTRL+C to interrupt your program.\n",
    "\n",
    "Lets look at some simple examples using strings. We could also use lists..."
   ]
  },
  {
   "cell_type": "code",
   "execution_count": null,
   "metadata": {},
   "outputs": [],
   "source": [
    "word = 'banana'\n",
    "# Print all the prefixes of a word\n",
    "while word:\n",
    "    print word\n",
    "    word = word[:-1]"
   ]
  },
  {
   "cell_type": "markdown",
   "metadata": {},
   "source": [
    "Remember that empty strings are **False**, and non-empty strings are **True**. So here, our conditional is the string *word*, and every time through the loop we remove the last character from the string until the string is empty.\n",
    "\n",
    "Let's try the same trick, but with a list."
   ]
  },
  {
   "cell_type": "code",
   "execution_count": null,
   "metadata": {},
   "outputs": [],
   "source": [
    "my_list = \"the quick brown fox jumped over the lazy dog\".split()\n",
    "#my_list = ['the', 'quick', 'brown', 'fox', 'jumped', 'over', 'the', 'lazy', 'dog']\n",
    "print my_list\n",
    "while my_list:\n",
    "    print my_list\n",
    "    my_list = my_list[:-1]"
   ]
  },
  {
   "cell_type": "markdown",
   "metadata": {},
   "source": [
    "We can add an **if** statement to turn this function into a search function to tell us if our word starts with a given prefix.\n",
    "\n",
    "We have a new keyword below - see if you can spot it. "
   ]
  },
  {
   "cell_type": "code",
   "execution_count": null,
   "metadata": {},
   "outputs": [],
   "source": [
    "word = 'bananna'\n",
    "prefix = 'ban'\n",
    "#prefix = 'foo'\n",
    "    # Return True if word starts with prefix\n",
    "while word:\n",
    "    if word == prefix:\n",
    "        print (\"It starts with the prefix!\")\n",
    "        break\n",
    "    else:\n",
    "        word = word[:-1]"
   ]
  }
 ],
 "metadata": {
  "kernelspec": {
   "display_name": "Python 2",
   "language": "python",
   "name": "python2"
  },
  "language_info": {
   "codemirror_mode": {
    "name": "ipython",
    "version": 2
   },
   "file_extension": ".py",
   "mimetype": "text/x-python",
   "name": "python",
   "nbconvert_exporter": "python",
   "pygments_lexer": "ipython2",
   "version": "2.7.10"
  }
 },
 "nbformat": 4,
 "nbformat_minor": 1
}
