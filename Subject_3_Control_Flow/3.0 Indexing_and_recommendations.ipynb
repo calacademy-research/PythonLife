{
 "cells": [
  {
   "cell_type": "markdown",
   "metadata": {},
   "source": [
    "Going over string and list indexing (slice)\n",
    "methods available to string from jim’s notes (tutorials point)\n",
    "\n",
    "Recommend intro book \"python crash course\" and link to ibss reading recommendation list\n",
    "\n",
    "ipython vs. python\n",
    "  example of the questionmark in command line "
   ]
  }
 ],
 "metadata": {
  "kernelspec": {
   "display_name": "Python 2",
   "language": "python",
   "name": "python2"
  },
  "language_info": {
   "codemirror_mode": {
    "name": "ipython",
    "version": 2
   },
   "file_extension": ".py",
   "mimetype": "text/x-python",
   "name": "python",
   "nbconvert_exporter": "python",
   "pygments_lexer": "ipython2",
   "version": "2.7.13"
  }
 },
 "nbformat": 4,
 "nbformat_minor": 2
}
