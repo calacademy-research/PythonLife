{
 "cells": [
  {
   "cell_type": "markdown",
   "metadata": {},
   "source": [
    "Going over string and list indexing (slice)\n",
    "methods available to string from jim’s notes (tutorials point)\n",
    "\n",
    "Recommend intro book \"python crash course\" and link to ibss reading recommendation list\n",
    "\n",
    "ipython vs. python\n",
    "  example of the questionmark in command line "
   ]
  },
  {
   "cell_type": "markdown",
   "metadata": {},
   "source": [
    "# String indexing review\n",
    "Let's go over indexing a bit. First, let's define a couple handy strings:"
   ]
  },
  {
   "cell_type": "code",
   "execution_count": null,
   "metadata": {},
   "outputs": [],
   "source": [
    "letters = 'abcdefgh'\n",
    "numbers = '01234567'\n",
    "print \"letters = '{}'\\nnumbers is {}\".format(letters,numbers)"
   ]
  },
  {
   "cell_type": "markdown",
   "metadata": {},
   "source": [
    "Now, let's look at the first letter:"
   ]
  },
  {
   "cell_type": "code",
   "execution_count": null,
   "metadata": {},
   "outputs": [],
   "source": [
    "print \"First char is at index 0 and is letter[0]: '{}'\".format( letters[0] )"
   ]
  },
  {
   "cell_type": "markdown",
   "metadata": {},
   "source": [
    "And the last...."
   ]
  },
  {
   "cell_type": "code",
   "execution_count": null,
   "metadata": {},
   "outputs": [],
   "source": [
    "print \"Last char is at index 0 and is letter[0]: '{}'\".format( letters[7] )"
   ]
  },
  {
   "cell_type": "markdown",
   "metadata": {},
   "source": [
    "And, finally, let's look at a range using the the [start:end] syntax. This is called taking a \"slice\" out of the string. We can do the same thing with lists."
   ]
  },
  {
   "cell_type": "code",
   "execution_count": null,
   "metadata": {},
   "outputs": [],
   "source": [
    "print \"2nd to 5th char is letters[2:5]\", letters[2:5]\n",
    "print \"Same thing, numbers\", numbers[2:5]\n",
    "print \"Fifth element:\", numbers[4]\n"
   ]
  },
  {
   "cell_type": "markdown",
   "metadata": {},
   "source": [
    "Note that even though we ended up with :5, (a.k.a: the sixth element), that is NOT included.\n",
    "\n",
    "We're specifying that we want to start at position 2 (zero-based) in the string. But now, instead of contenting ourselves with a single character from the string, we're saying that we want more characters, up to but not including the character at position 5.\n",
    "\n",
    "You might have thought that you were going to get the character at position 5 too. But that's not the way it works. Don't worry – you'll get used to it. If it helps, think of the second index (the one after the colon) as specifying the first character that you don't want. Incidentally, a benefit of this mechanism is that you can quickly tell how many characters you are going to end up with simply by subtracting the first index from the second."
   ]
  },
  {
   "cell_type": "markdown",
   "metadata": {},
   "source": [
    "# Books! \n",
    "\n",
    "  Check out \"Python Crash Course, A Hands-On, Project-Based Introduction to Programming\"\n",
    "by Eric Matthes.\n",
    "\n",
    "  In fact, check out the reading list: https://docs.google.com/document/d/1g4sTsL2XBa8qzq3h4pnnbszEqPE1jb9gRx-ylWSJsDA/edit?usp=sharing"
   ]
  },
  {
   "cell_type": "markdown",
   "metadata": {},
   "source": [
    "# Ipython"
   ]
  },
  {
   "cell_type": "markdown",
   "metadata": {},
   "source": [
    "Ipython is a \"wrapper\" around python, and we really like it. Try \"len?\" here and in the console."
   ]
  },
  {
   "cell_type": "code",
   "execution_count": null,
   "metadata": {},
   "outputs": [],
   "source": [
    "len?"
   ]
  }
 ],
 "metadata": {
  "kernelspec": {
   "display_name": "Python 2",
   "language": "python",
   "name": "python2"
  },
  "language_info": {
   "codemirror_mode": {
    "name": "ipython",
    "version": 2
   },
   "file_extension": ".py",
   "mimetype": "text/x-python",
   "name": "python",
   "nbconvert_exporter": "python",
   "pygments_lexer": "ipython2",
   "version": "2.7.13"
  }
 },
 "nbformat": 4,
 "nbformat_minor": 2
}
