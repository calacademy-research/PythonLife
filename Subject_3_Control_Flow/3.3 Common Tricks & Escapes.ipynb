{
 "cells": [
  {
   "cell_type": "markdown",
   "metadata": {},
   "source": [
    "## Common Loop Tricks\n",
    "\n",
    "### Looping a given number of times with *range()*\n",
    "\n",
    "Loop 5 times using **while**"
   ]
  },
  {
   "cell_type": "code",
   "execution_count": null,
   "metadata": {},
   "outputs": [],
   "source": [
    "i=0\n",
    "while i < 5:\n",
    "    print i\n",
    "    i += 1"
   ]
  },
  {
   "cell_type": "markdown",
   "metadata": {},
   "source": [
    "Loop 5 times using **for** and **range()**"
   ]
  },
  {
   "cell_type": "code",
   "execution_count": null,
   "metadata": {},
   "outputs": [],
   "source": [
    "# This is way better than the while method, above.\n",
    "\n",
    "for x in range(5):\n",
    "    print x"
   ]
  },
  {
   "cell_type": "code",
   "execution_count": null,
   "metadata": {},
   "outputs": [],
   "source": [
    "# Oooooh, it's a >list<.\n",
    "range(5)"
   ]
  },
  {
   "cell_type": "markdown",
   "metadata": {},
   "source": [
    "What is **range** doing? The **range** function returns another type of **iterable**. As you can see, *range(x)* returns an iterable (this iterable is a list) that contains all the integers from 0 to *x* in order. You don't even have to use these integers, which is handy when you just want to run some code *x* times."
   ]
  },
  {
   "cell_type": "code",
   "execution_count": null,
   "metadata": {},
   "outputs": [],
   "source": [
    "for x in range(5):\n",
    "    print 'hello'"
   ]
  },
  {
   "cell_type": "markdown",
   "metadata": {},
   "source": [
    "This is a good moment to practice reading the Python documentation. Go [here](https://docs.python.org/2/library/functions.html#range) and read the entry on the **range** function. You may not be able to fully understand it yet, but hopefully you can see that **range** has a couple optional arguments that let you count from numbers other than 0, and by numbers other than 1."
   ]
  },
  {
   "cell_type": "code",
   "execution_count": null,
   "metadata": {},
   "outputs": [],
   "source": [
    "range?"
   ]
  },
  {
   "cell_type": "code",
   "execution_count": null,
   "metadata": {},
   "outputs": [],
   "source": [
    " range(5, 12, 2)"
   ]
  },
  {
   "cell_type": "code",
   "execution_count": null,
   "metadata": {},
   "outputs": [],
   "source": [
    "for x in range(5, 12, 2):\n",
    "    print x"
   ]
  },
  {
   "cell_type": "markdown",
   "metadata": {},
   "source": [
    "You can even count backwards by making *step* negative."
   ]
  },
  {
   "cell_type": "code",
   "execution_count": null,
   "metadata": {},
   "outputs": [],
   "source": [
    "for x in range(12, 5, -2):\n",
    "    print x"
   ]
  },
  {
   "cell_type": "markdown",
   "metadata": {},
   "source": [
    "## Escaping loops\n",
    "\n",
    "Occasionally, you might want to get out of a loop before the truth statement is met (with a **while** loop) or you've gone through every element (with a **for** loop). You can modify the default flow of the loop using **break** and **continue**. The keyword **break** ends the loop right where you are, while the keyword **continue** goes back to the top of the loop (bringing in the next object from the **iterable** if it's a **for** loop)."
   ]
  },
  {
   "cell_type": "code",
   "execution_count": null,
   "metadata": {},
   "outputs": [],
   "source": [
    "while True:\n",
    "    break\n",
    "    print 'this will not print'\n",
    "    \n",
    "for x in range(2):\n",
    "    print 'this will print twice'\n",
    "    continue\n",
    "    print 'this will not print'"
   ]
  },
  {
   "cell_type": "code",
   "execution_count": null,
   "metadata": {},
   "outputs": [],
   "source": [
    "# A calculator program to tell you if numbers are prime.\n",
    "\n",
    "while True:\n",
    "    number = raw_input(\"Number to test: \")\n",
    "    \n",
    "    # Quit if nothing is entered.\n",
    "    if number == '':\n",
    "        break\n",
    "    \n",
    "    number = int(number)\n",
    "    \n",
    "    # Prime numbers are >1 by definition.\n",
    "    # If a number <= 1 is entered, stop and start over.\n",
    "    if number <= 1:\n",
    "        print 'Please enter a number greater than 1'\n",
    "        continue\n",
    "    \n",
    "    prime = True\n",
    "    for x in range(2, number):\n",
    "        # Use modulo to test if x is a divisor of number\n",
    "        # if so, the number is not prime, stop the search\n",
    "        if number % x == 0:\n",
    "            print 'Not prime,', x, 'is a factor'\n",
    "            prime = False\n",
    "            break\n",
    "    \n",
    "    if prime:\n",
    "        print number, 'is prime!'"
   ]
  },
  {
   "cell_type": "markdown",
   "metadata": {},
   "source": [
    "In this second example there are two loops. The top **while** loop will run until the user enters a blank input, but will otherwise constantly ask the user for numbers to test. If the number entered is <=1, we don't even bother checking for divisors and the loop goes back to the **while** logical expression.\n",
    "\n",
    "In the second loop, if the user enters a number >1, we assume the number is prime, then check every integer between 2 and *number* to see if it's a divisor. If we find a divisor, we know that *number* is not prime, so set *prime* to **False**, then use **break** to stop checking the rest of the integers. Lastly, if *prime* is still set to **True**, we report that the number is prime."
   ]
  }
 ],
 "metadata": {
  "kernelspec": {
   "display_name": "Python 2",
   "language": "python",
   "name": "python2"
  },
  "language_info": {
   "codemirror_mode": {
    "name": "ipython",
    "version": 2
   },
   "file_extension": ".py",
   "mimetype": "text/x-python",
   "name": "python",
   "nbconvert_exporter": "python",
   "pygments_lexer": "ipython2",
   "version": "2.7.13"
  }
 },
 "nbformat": 4,
 "nbformat_minor": 1
}
