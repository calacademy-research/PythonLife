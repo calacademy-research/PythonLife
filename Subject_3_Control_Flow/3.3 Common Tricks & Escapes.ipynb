{
 "cells": [
  {
   "cell_type": "markdown",
   "metadata": {},
   "source": [
    "## Common Loop Tricks\n",
    "\n",
    "### Looping a given number of times with *range()*\n",
    "\n",
    "Loop 5 times using **while**"
   ]
  },
  {
   "cell_type": "code",
   "execution_count": 1,
   "metadata": {},
   "outputs": [
    {
     "name": "stdout",
     "output_type": "stream",
     "text": [
      "0\n",
      "1\n",
      "2\n",
      "3\n",
      "4\n"
     ]
    }
   ],
   "source": [
    "i=0\n",
    "while i < 5:\n",
    "    print i\n",
    "    i += 1"
   ]
  },
  {
   "cell_type": "markdown",
   "metadata": {},
   "source": [
    "Loop 5 times using **for** and **range()**"
   ]
  },
  {
   "cell_type": "code",
   "execution_count": 2,
   "metadata": {},
   "outputs": [
    {
     "name": "stdout",
     "output_type": "stream",
     "text": [
      "0\n",
      "1\n",
      "2\n",
      "3\n",
      "4\n"
     ]
    }
   ],
   "source": [
    "# This is way better than the while method, above.\n",
    "\n",
    "for x in range(5):\n",
    "    print x"
   ]
  },
  {
   "cell_type": "markdown",
   "metadata": {},
   "source": [
    "What is **range** doing? The **range** function returns another type of **iteratable**. As you can see, *range(x)* returns an iterable that contains all the integers from 0 to *x* in order. You don't even have to use these integers, which is handy when you just want to run some code *x* times."
   ]
  },
  {
   "cell_type": "code",
   "execution_count": 3,
   "metadata": {},
   "outputs": [
    {
     "name": "stdout",
     "output_type": "stream",
     "text": [
      "hello\n",
      "hello\n",
      "hello\n",
      "hello\n",
      "hello\n"
     ]
    }
   ],
   "source": [
    "for x in range(5):\n",
    "    print 'hello'"
   ]
  },
  {
   "cell_type": "markdown",
   "metadata": {},
   "source": [
    "This is a good moment to practice reading the Python documentation. Go [here](https://docs.python.org/2/library/functions.html#range) and read the entry on the **range** function. You may not be able to fully understand it yet, but hopefully you can see that **range** has a couple optional arguments that let you count from numbers other than 0, and by numbers other than 1."
   ]
  },
  {
   "cell_type": "code",
   "execution_count": 4,
   "metadata": {},
   "outputs": [
    {
     "name": "stdout",
     "output_type": "stream",
     "text": [
      "5\n",
      "7\n",
      "9\n",
      "11\n"
     ]
    }
   ],
   "source": [
    "for x in range(5, 12, 2):\n",
    "    print x"
   ]
  },
  {
   "cell_type": "markdown",
   "metadata": {},
   "source": [
    "You can even count backwards by making *step* negative."
   ]
  },
  {
   "cell_type": "code",
   "execution_count": 5,
   "metadata": {},
   "outputs": [
    {
     "name": "stdout",
     "output_type": "stream",
     "text": [
      "12\n",
      "10\n",
      "8\n",
      "6\n"
     ]
    }
   ],
   "source": [
    "for x in range(12, 5, -2):\n",
    "    print x"
   ]
  },
  {
   "cell_type": "markdown",
   "metadata": {},
   "source": [
    "### Looping with *enumerate()*\n",
    "\n",
    "Lets say we have a sequence with some Ns in it, and we want to find the positions of all the Ns within the sequence. We can use a **for** loop similar to how we did above to find the GC content of a sequence, but this time we will need to remember the indexes of the bases as we loop through the sequence.\n",
    "\n",
    "Instead of looping through all the bases themselves, we actually want to loop through the indexes of the bases (since we can use these indexes to access the bases themselves). We can generate all the indexes by combining the **range** and **len** functions"
   ]
  },
  {
   "cell_type": "code",
   "execution_count": 6,
   "metadata": {},
   "outputs": [
    {
     "name": "stdout",
     "output_type": "stream",
     "text": [
      "[0, 1, 2, 3, 4, 5, 6, 7, 8, 9, 10, 11, 12, 13, 14, 15, 16, 17, 18, 19]\n",
      "6\n",
      "11\n",
      "18\n"
     ]
    }
   ],
   "source": [
    "sequence = \"ATCGATNGCTANCGTAGCNT\"\n",
    "\n",
    "print range(len(sequence))\n",
    "\n",
    "for i in range(len(sequence)):\n",
    "    if sequence[i] == \"N\":\n",
    "        print i"
   ]
  },
  {
   "cell_type": "markdown",
   "metadata": {},
   "source": [
    "This kind of problem is so common, in fact, that Python has a built-in alternative to make this prettier and faster, **enumerate()**.\n",
    "\n",
    "**enumerate()** takes an **iterable** as an argument and returns another **iterable** with both the index of the item as well as the item itself. Python is actually able to assign values to more than one variable at once (thanks to something called \"tuples\" that we'll learn about later) so you can capture both outputs of **enumerate** in two variables. To see how this works, try:"
   ]
  },
  {
   "cell_type": "code",
   "execution_count": 7,
   "metadata": {},
   "outputs": [
    {
     "name": "stdout",
     "output_type": "stream",
     "text": [
      "10\n",
      "15\n",
      "-3\n"
     ]
    }
   ],
   "source": [
    "x, y, z = 10, 15, -3\n",
    "\n",
    "print x\n",
    "print y\n",
    "print z"
   ]
  },
  {
   "cell_type": "code",
   "execution_count": 8,
   "metadata": {
    "scrolled": true
   },
   "outputs": [
    {
     "name": "stdout",
     "output_type": "stream",
     "text": [
      "6\n",
      "11\n",
      "18\n"
     ]
    }
   ],
   "source": [
    "# *prettier* method using enumerate()\n",
    "seq = \"ATCGATNGCTANCGTAGCNT\"\n",
    "\n",
    "for i, base in enumerate(seq):\n",
    "    if base == \"N\":\n",
    "        print i"
   ]
  },
  {
   "cell_type": "markdown",
   "metadata": {},
   "source": [
    "## Escaping loops\n",
    "\n",
    "Occasionally, you might want to get out of a loop before the truth statement is met (with a **while** loop) or you've gone through every element (with a **for** loop). You can modify the default flow of the loop using **break** and **continue**. The keyword **break** ends the loop right where you are, while the keyword **continue** goes back to the top of the loop (bringing in the next object from the **iterable** if it's a **for** loop)."
   ]
  },
  {
   "cell_type": "code",
   "execution_count": 9,
   "metadata": {},
   "outputs": [
    {
     "name": "stdout",
     "output_type": "stream",
     "text": [
      "this will print twice\n",
      "this will print twice\n"
     ]
    }
   ],
   "source": [
    "while True:\n",
    "    break\n",
    "    print 'this will not print'\n",
    "    \n",
    "for x in range(2):\n",
    "    print 'this will print twice'\n",
    "    continue\n",
    "    print 'this will not print'"
   ]
  },
  {
   "cell_type": "markdown",
   "metadata": {},
   "source": [
    "Let's look at another approach to finding and printing an ORF. We will also use our newly learned **enumerate** function to loop through the indexes of the sequence, and **range** to count by 3s."
   ]
  },
  {
   "cell_type": "code",
   "execution_count": 10,
   "metadata": {},
   "outputs": [
    {
     "name": "stdout",
     "output_type": "stream",
     "text": [
      "ATGACCACCCTCTCATCTCGCTAG\n",
      "\n"
     ]
    }
   ],
   "source": [
    "def find_orf(seq):\n",
    "    # First, find the position of the start codon\n",
    "    for start, base in enumerate(seq):\n",
    "        codon = seq[start:start+3]\n",
    "        if codon == 'ATG':\n",
    "            break\n",
    "\n",
    "    # At this point, start is equal to the index of the first ATG.\n",
    "    # Or, if ATG was not found, start is equal to the last index\n",
    "    # and we are going to return '', since slicing values outside\n",
    "    # the length of a string is always ''.\n",
    "            \n",
    "    # Then, find the position of the first stop codon after the start\n",
    "    for stop in range(start, len(seq), 3):\n",
    "        codon = seq[stop:stop+3]\n",
    "        if (codon == 'TAG' or\n",
    "            codon == 'TAA' or\n",
    "            codon == 'TGA'):\n",
    "            stop += 3 # include the stop codon\n",
    "            break\n",
    "    \n",
    "    return seq[start:stop]\n",
    "\n",
    "sequence = ('TGAATCATCCCCTTAAGAGAAGACCCGAAG' +\n",
    "            'TTATTATAGGGAAGGGCAGAAATGACCACC' +\n",
    "            'CTCTCATCTCGCTAGTCCACTTGACACCTC' +\n",
    "            'TTAGTTCATGACGACGTGAGTCGTTCCTAA')\n",
    "\n",
    "print find_orf(sequence)\n",
    "print find_orf('GGGGGGGGGGGGGGGG')"
   ]
  },
  {
   "cell_type": "markdown",
   "metadata": {},
   "source": [
    "The utility of **continue** can be harder to see, and it is mostly a stylistic choice to use **continue**. Suppose we want to calculate the GC content of the non-repetitive regions of a sequence. Repeats in sequences are commonly annotated by lower case letters, so we want to ignore any lower case bases."
   ]
  },
  {
   "cell_type": "code",
   "execution_count": 11,
   "metadata": {},
   "outputs": [
    {
     "name": "stdout",
     "output_type": "stream",
     "text": [
      "44.6808510638\n"
     ]
    }
   ],
   "source": [
    "def highQ_GC(seq):\n",
    "    GC = 0.\n",
    "    AT = 0.\n",
    "    \n",
    "    for base in seq:\n",
    "        if base.islower():\n",
    "            continue\n",
    "        \n",
    "        if (base == 'G' or base == 'C'):\n",
    "            GC += 1\n",
    "        else:\n",
    "            AT += 1\n",
    "            \n",
    "    return (GC / (GC + AT)) * 100\n",
    "\n",
    "sequence = ('TGAATCATCCCCTTAAGAGAAGACCCGAAG' +\n",
    "            'TTATTAtagggaagggcagaaatGACCACC' +\n",
    "            'CTCTCATCTCGCTAGTCCACTTGACACCTC' +\n",
    "            'TTAGTTCATGAcgacgtgagTCGTTCCTAA')\n",
    "\n",
    "print highQ_GC(sequence)"
   ]
  },
  {
   "cell_type": "markdown",
   "metadata": {},
   "source": [
    "This could also be written with an **else** clause, like:\n",
    "\n",
    "```python\n",
    "if base.islower():\n",
    "    pass\n",
    "else:\n",
    "    if (base == 'G' or base == 'C'):\n",
    "...\n",
    "```\n",
    "\n",
    "or just by inverting the condition, like:\n",
    "\n",
    "```python\n",
    "if base.isupper():\n",
    "    if (base == 'G' or base == 'C'):\n",
    "...\n",
    "```\n",
    "\n",
    "Why would we ever choose to use **continue**, then? Stylistically, **continue** can make your code easier to read because it makes your code *flatter*. With **if**-**else** statements all the code to be conditionally run must be indented one more level, while with **if ...: continue** we can keep our current level of indentation. This can make a big difference in readability when you have many nested statements and a series of complicated conditions to meet. We can see this in the next example.\n",
    "\n",
    "This next example also shows us breaking the \"Very Important\" rule about **while** loops we just taught you. Using **break**, some while loops are designed such that the control condition at the top of the loop is never **False**!"
   ]
  },
  {
   "cell_type": "code",
   "execution_count": 12,
   "metadata": {},
   "outputs": [
    {
     "name": "stdout",
     "output_type": "stream",
     "text": [
      "Number to test: -7\n",
      "Please enter a number greater than 1\n",
      "Number to test: 4\n",
      "Not prime, 2 is a factor\n",
      "Number to test: 5\n",
      "5 is prime!\n",
      "Number to test: \n"
     ]
    }
   ],
   "source": [
    "# A calculator program to tell you if numbers are prime.\n",
    "\n",
    "while True:\n",
    "    number = raw_input(\"Number to test: \")\n",
    "    \n",
    "    # Quit if nothing is entered.\n",
    "    if number == '':\n",
    "        break\n",
    "    \n",
    "    number = int(number)\n",
    "    \n",
    "    # Prime numbers are >1 by definition.\n",
    "    # If a number <= 1 is entered, stop and start over.\n",
    "    if number <= 1:\n",
    "        print 'Please enter a number greater than 1'\n",
    "        continue\n",
    "    \n",
    "    prime = True\n",
    "    for x in range(2, number):\n",
    "        # Use modulo to test if x is a divisor of number\n",
    "        # if so, the number is not prime, stop the search\n",
    "        if number % x == 0:\n",
    "            print 'Not prime,', x, 'is a factor'\n",
    "            prime = False\n",
    "            break\n",
    "    \n",
    "    if prime:\n",
    "        print number, 'is prime!'"
   ]
  },
  {
   "cell_type": "markdown",
   "metadata": {},
   "source": [
    "In this second example there are two loops. The top **while** loop will run until the user enters a blank input, but will otherwise constantly ask the user for numbers to test. If the number entered is <=1, we don't even bother checking for divisors and the loop goes back to the **while** logical expression.\n",
    "\n",
    "In the second loop, if the user enters a number >1, we assume the number is prime, then check every integer between 2 and *number* to see if it's a divisor. If we find a divisor, we know that *number* is not prime, so set *prime* to **False**, then use **break** to stop checking the rest of the integers. Lastly, if *prime* is still set to **True**, we report that the number is prime."
   ]
  }
 ],
 "metadata": {
  "kernelspec": {
   "display_name": "Python 2",
   "language": "python",
   "name": "python2"
  },
  "language_info": {
   "codemirror_mode": {
    "name": "ipython",
    "version": 2
   },
   "file_extension": ".py",
   "mimetype": "text/x-python",
   "name": "python",
   "nbconvert_exporter": "python",
   "pygments_lexer": "ipython2",
   "version": "2.7.13"
  }
 },
 "nbformat": 4,
 "nbformat_minor": 1
}
