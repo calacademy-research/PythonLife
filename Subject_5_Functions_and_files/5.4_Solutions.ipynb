{
 "cells": [
  {
   "cell_type": "markdown",
   "metadata": {},
   "source": [
    "# Solutions:\n",
    "\n",
    "## Functions"
   ]
  },
  {
   "cell_type": "markdown",
   "metadata": {},
   "source": [
    "__1. Fun with Functions__\n",
    "    \n",
    "    a) Write a function that takes an integer x as input, and returns twice the value of x\n",
    "    b) Write a function that takes an integer x as input, and returns the square of x\n",
    "    c) Write a function that takes two numbers, and returns their sum\n",
    "    d) Write a function that takes three numbers, and returns their sum and their product\n",
    "    e) Write a function that takes up to (but not always) three numbers, and returns their product"
   ]
  },
  {
   "cell_type": "code",
   "execution_count": null,
   "metadata": {},
   "outputs": [],
   "source": [
    "##(a)\n",
    "def twice_x(x):\n",
    "    twice = x + x\n",
    "    return twice\n",
    "\n",
    "##(b)\n",
    "def square_x(x):\n",
    "    square = x**2\n",
    "    return square\n",
    "\n",
    "##(c)\n",
    "def sum_of(x,y):\n",
    "    the_sum = x + y\n",
    "    return the_sum\n",
    "\n",
    "##(d)\n",
    "def sum_prod(x,y,z):\n",
    "    the_sum = x + y + z\n",
    "    the_product = x * y * z\n",
    "    return the_sum,the_product\n",
    "\n",
    "##(e)\n",
    "def var_prod(x=1,y=1,z=1):\n",
    "    the_product = x * y * z\n",
    "    return the_product\n",
    "\n",
    "##lets check these\n",
    "a = 4\n",
    "b = 6\n",
    "c = 10\n",
    "twice =  twice_x(a)\n",
    "print \"twice {0} is {1}\".format(a,twice)\n",
    "\n",
    "square = square_x(a)\n",
    "print \"square of {0} is {1}\".format(a,square)\n",
    "\n",
    "sum_of_nums = sum_of(a,b)\n",
    "print \"sum of {0} and {1} is {2}\".format(a,b,sum_of_nums)\n",
    "\n",
    "sum_of_nums,prod_of_nums = sum_prod(a,b,c)\n",
    "print 'sum of {0},{1},and {2} is {3}, product is {4}'.format(a,b,c,sum_of_nums,prod_of_nums)\n",
    "\n",
    "prod = varprod()\n",
    "print prod\n",
    "\n",
    "prod = varprod(a)\n",
    "print prod\n",
    "\n",
    "prod = varprod(a,b)\n",
    "print prod\n",
    "\n",
    "prod = varprod(a,b,c)\n",
    "print prod"
   ]
  },
  {
   "cell_type": "markdown",
   "metadata": {},
   "source": [
    "__2. The Greeter Redux__\n",
    "\n",
    "Write a function that asks the user for their name and the year they were born in, greets the user, and returns their name and age."
   ]
  },
  {
   "cell_type": "code",
   "execution_count": null,
   "metadata": {},
   "outputs": [],
   "source": [
    "def greet_user(CURRENT_YEAR=2016):\n",
    "    user_name = raw_input(\"What is your name?\")\n",
    "    birth_year = int(raw_input(\"What year were you born?\"))\n",
    "    user_age = CURRENT_YEAR - birth_year\n",
    "    print \"Hello {0}!!\".format(user_name)\n",
    "    return user_name,user_age\n",
    "\n",
    "print greet_user()"
   ]
  },
  {
   "cell_type": "markdown",
   "metadata": {},
   "source": [
    "__3. Sequence Analyis__\n",
    "\n",
    "Write a function that calculates the percentage of As,Cs,Ts,Gs from its input DNA sequence (Hint: The **count()** method of strings will be very useful!). Run it on the below DNA sequences:\n",
    "\n",
    "    ACGT\n",
    "    AAACGGGT\n",
    "    ACCCCCCCCCG\n",
    "    AAAAAAAAAAA\n",
    "    GAGNNNNNNNNA\n",
    "    AccgAcAcGGAa\n",
    "    CTgTggTGGT\n",
    "    zzfsafsdgs\n"
   ]
  },
  {
   "cell_type": "code",
   "execution_count": null,
   "metadata": {},
   "outputs": [],
   "source": [
    "##returns percentage of As,Cs,Gs, and Ts in the input in a tuple (in order)\n",
    "def seq_stats(input_seq):\n",
    "    \n",
    "    ##set to upper case for easy matching\n",
    "    input_seq = input_seq.upper()\n",
    "    total_nucs = len(input_seq)\n",
    "    \n",
    "    As = input_seq.count('A')\n",
    "    Cs = input_seq.count('C')\n",
    "    Gs = input_seq.count('G')\n",
    "    Ts = input_seq.count('T')\n",
    "    \n",
    "    percent_A = float(As)/total_nucs\n",
    "    percent_C = Cs/float(total_nucs)\n",
    "    percent_G = Gs/float(total_nucs)\n",
    "    percent_T = Ts/float(total_nucs)\n",
    "    \n",
    "    return (percent_A,percent_C,percent_G,percent_T)\n",
    "\n",
    "print seq_stats('ACGT')\n",
    "print seq_stats('AAACGGGT')\n",
    "print seq_stats('ACCCCCCCCCG')\n",
    "print seq_stats('AAAAAAAAAAA')\n",
    "print seq_stats('GAGNNNNNNNNA')\n",
    "print seq_stats('AccgAcAcGGAa')\n",
    "print seq_stats('CTgTggTGGT')\n",
    "print seq_stats('zzfsafsdgs')"
   ]
  },
  {
   "cell_type": "markdown",
   "metadata": {},
   "source": [
    "__4. Sequence Annotation__\n",
    "\n",
    "Write a function that takes a sequence of DNA, and returns a fasta-formatted string. The sequence of the fasta string should all be capitalized, and the name of the sequence should be the percentage of the sequence that is G or C. For example, \n",
    "\n",
    "    AcgT\n",
    "\n",
    "should be outputted as\n",
    "\n",
    "    >.50GC\n",
    "    ACGT\n"
   ]
  },
  {
   "cell_type": "code",
   "execution_count": null,
   "metadata": {},
   "outputs": [],
   "source": [
    "def makeFasta_annotate(gene_seq):\n",
    "    \n",
    "    fasta_string_base = '>{0:.2f}GC\\n{1}'\n",
    "    pA,pC,pG,pT = seq_stats(gene_seq)\n",
    "    percent_GC = pC + pG\n",
    "    fasta_string = fasta_string_base.format(percent_GC,gene_seq)\n",
    "    return fasta_string\n",
    "\n",
    "fasta_text = makeFasta_annotate('AAGTGTGTAGT')\n",
    "print fasta_text"
   ]
  },
  {
   "cell_type": "markdown",
   "metadata": {},
   "source": [
    "__5. Reverse Complement__\n",
    "\n",
    "Write a function that takes a sequence of DNA, and returns the reverse complement of the given DNA sequence. Hint - the string **replace()** method will prove very useful!"
   ]
  },
  {
   "cell_type": "code",
   "execution_count": null,
   "metadata": {},
   "outputs": [],
   "source": [
    "def rev_comp(input_seq):\n",
    "    input_seq = input_seq.upper()\n",
    "    \n",
    "    ##swap A and T\n",
    "    input_seq = input_seq.replace('A','b')\n",
    "    input_seq = input_seq.replace('T','A')\n",
    "    input_seq = input_seq.replace('b','T')\n",
    "    \n",
    "    ##swap G and C\n",
    "    input_seq = input_seq.replace('C','b')\n",
    "    input_seq = input_seq.replace('G','C')\n",
    "    input_seq = input_seq.replace('b','G')\n",
    "    \n",
    "    ##reverse the sequence\n",
    "    input_seq = input_seq[::-1]\n",
    "    return input_seq\n",
    "    \n",
    "print rev_comp('ATGCCCCCC')    "
   ]
  },
  {
   "cell_type": "markdown",
   "metadata": {},
   "source": [
    "__6. Putting it all together__\n",
    "\n",
    "Using all the functions you have written, write a 'master' function which takes a sequence of DNA as input, as returns a fasta sequence containing both the inputted sequence and its reverse complement, with the GC content in the '>' name fields"
   ]
  },
  {
   "cell_type": "code",
   "execution_count": null,
   "metadata": {},
   "outputs": [],
   "source": [
    "def analyze_seq(input_seq):\n",
    "    \n",
    "    \n",
    "    rev_comp_input = rev_comp(input_seq)\n",
    "    \n",
    "    input_seq_fasta = makeFasta_annotate(input_seq)\n",
    "    rev_comp_seq_fasta = makeFasta_annotate(rev_comp_input)\n",
    "    #print makeFasta_annotate(rev_comp_input)\n",
    "    comb_fasta = input_seq_fasta + '\\n' + rev_comp_seq_fasta\n",
    "    return comb_fasta\n",
    "print analyze_seq('ATGCCCCCC')"
   ]
  },
  {
   "cell_type": "markdown",
   "metadata": {},
   "source": [
    "# Files"
   ]
  },
  {
   "cell_type": "markdown",
   "metadata": {},
   "source": [
    "### 7. What's in this file anyway?\n",
    "Using only Python, open the file '.secret_message' in the '4.1_Reading_and_Writing_Files' directory and figure out what's in it."
   ]
  },
  {
   "cell_type": "code",
   "execution_count": null,
   "metadata": {},
   "outputs": [],
   "source": [
    "# A clever way\n",
    "fh = open('.secret_message', 'r')\n",
    "\n",
    "# Try adjusting this to half its value - what happens? Why?\n",
    "max_line_width = 36 # some displays may not be wide enough to see the image\n",
    "\n",
    "for line in fh:\n",
    "    print line.strip()[:max_line_width] "
   ]
  },
  {
   "cell_type": "code",
   "execution_count": null,
   "metadata": {},
   "outputs": [],
   "source": [
    "with open('.secret_message') as fp:\n",
    "    for cur_line in fp:\n",
    "        print cur_line,"
   ]
  },
  {
   "cell_type": "markdown",
   "metadata": {},
   "source": [
    "### 8. Pairwise Combinations\n",
    "Write a function that takes a list of names (say, the names of the instructors and TA's: James, David, Chris, Debora, Sumayah, Dat, Gunjan), write each possible pair of names, separated by hyphens '-----', to a file, like below:  \n",
    "James-----David  \n",
    "James-----Chris"
   ]
  },
  {
   "cell_type": "code",
   "execution_count": null,
   "metadata": {},
   "outputs": [],
   "source": [
    "def TA_name_writer(TA_list, fname):\n",
    "\n",
    "    f = open(fname, 'w')\n",
    "\n",
    "    # Use TA_list[:-1] since the last TA will\n",
    "    # already have been paired with all other TAs.\n",
    "    # Use enumerate to keep track of which TA\n",
    "    # we are on to avoid duplicates.\n",
    "    for i, TA in enumerate(TA_list[:-1]):\n",
    "        # TAs <= i have already been paired\n",
    "        # with all TAs >= i+1.\n",
    "        for TA2 in TA_list[i+1:]:\n",
    "            f.write('{}-----{}\\n'.format(TA, TA2))\n",
    "\n",
    "    f.close()\n",
    "    \n",
    "TAs = ['James', 'David', 'Chris', 'Debora', 'Dat', 'Sumayah', 'Gunjan']\n",
    "file_name = 'TA_names.txt'\n",
    "TA_name_writer(TAs, file_name)"
   ]
  },
  {
   "cell_type": "markdown",
   "metadata": {},
   "source": [
    "### 9. String Mutations\n",
    "Write a function that takes the last output file, reads it in, then write the lines back out (to a new file) in reverse order, in all capital letters."
   ]
  },
  {
   "cell_type": "code",
   "execution_count": null,
   "metadata": {},
   "outputs": [],
   "source": [
    "def reverse_TA_names(infile, outfile):\n",
    "    infh = open(infile, 'r')\n",
    "    outfh = open(outfile, 'w')\n",
    "\n",
    "    for line in infh:\n",
    "        line = line.upper()\n",
    "        # We need to strip the \\n before reversing,\n",
    "        # otherwise the \\n will come at the beginning of the line.\n",
    "        line = line.strip()[::-1] # remember that with slicing [x,y,s], s is the step\n",
    "        outfh.write(line+'\\n')\n",
    "\n",
    "    infh.close()\n",
    "    outfh.close()\n",
    "\n",
    "input_file = 'TA_names.txt'\n",
    "output_file = 'TA_names_reversed.txt'\n",
    "reverse_TA_names(input_file, output_file)"
   ]
  },
  {
   "cell_type": "markdown",
   "metadata": {},
   "source": [
    "### 10. Parse a FASTA file\n",
    "Using any text editor, copy the text below into a text file and save it as *seq.fasta*\n",
    "\n",
    "```\n",
    ">gene1\n",
    "ATGAGACGTAGTGCCAGTAGCGCGATGTAGCG\n",
    "ATGACGCATGACGCGCGACGCGCGAGTGAGCC\n",
    "ATACGCACGCATTGGCA\n",
    ">gene2\n",
    "ATGTTCGACGCATACGACGCGCAGTACCAGCA\n",
    "ATGACGCACCGGGATACACGACGCGGATTTTT\n",
    "ACGCACCGAGATAGCATAAAAGACCATTAG\n",
    ">gene3\n",
    "TTATGGCACCCACTAGAGCCAGATTATTTTAAA\n",
    "```\n",
    "\n",
    "Write a function that will open the fasta file, read the lines, and return the data as a dictionary keyed by gene with the sequences as values. Make sure the sequences are contiguous (i.e. contain no endline ('\\n') characters), and make sure to remove the > from the names of the genes."
   ]
  },
  {
   "cell_type": "code",
   "execution_count": null,
   "metadata": {},
   "outputs": [],
   "source": [
    "def parse_fasta(infile):\n",
    "    fh = open(infile, 'r')\n",
    "\n",
    "    # First instantiate a dictionary to fill with your data\n",
    "    genes = {}\n",
    "\n",
    "    for line in fh:\n",
    "        line = line.strip()\n",
    "        if line.startswith('>'):\n",
    "            ID = line[1:] # removes the '>'\n",
    "            genes[ID] = '' # create an empty entry in your dictionary\n",
    "        else:\n",
    "            genes[ID] += line # append to the last entry\n",
    "\n",
    "    return genes\n",
    "\n",
    "\n",
    "# Alternate solution - this version works much faster than the previous!\n",
    "def parse_fasta_fast(infile):\n",
    "    fh = open(infile, 'r')\n",
    "\n",
    "    genes = {}\n",
    "\n",
    "    # Appending to a list is much, much faster than concatenating strings.\n",
    "    for line in fh:\n",
    "        line = line.strip()\n",
    "        if line.startswith('>'):\n",
    "            ID = line[1:]\n",
    "            genes[ID] = []\n",
    "        else:\n",
    "            # append vs concatenation\n",
    "            genes[ID].append(line)\n",
    "            \n",
    "    # Turn the dictionary of lists into a dictionary of strings with the join method.\n",
    "    for gene in genes:\n",
    "        genes[gene] = ''.join(genes[gene])\n",
    "    return genes\n",
    "\n",
    "fasta_file = 'seq.fasta'\n",
    "fasta_dict = parse_fasta(fasta_file)\n",
    "print fasta_dict\n",
    "fasta_dict = parse_fasta_fast(fasta_file)\n",
    "print fasta_dict"
   ]
  }
 ],
 "metadata": {
  "kernelspec": {
   "display_name": "Python 2",
   "language": "python",
   "name": "python2"
  },
  "language_info": {
   "codemirror_mode": {
    "name": "ipython",
    "version": 2
   },
   "file_extension": ".py",
   "mimetype": "text/x-python",
   "name": "python",
   "nbconvert_exporter": "python",
   "pygments_lexer": "ipython2",
   "version": "2.7.13"
  }
 },
 "nbformat": 4,
 "nbformat_minor": 2
}
