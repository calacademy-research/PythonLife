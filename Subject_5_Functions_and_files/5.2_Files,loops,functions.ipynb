{
 "cells": [
  {
   "cell_type": "markdown",
   "metadata": {},
   "source": [
    "# Working with text files\n",
    "\n",
    "Now that we can process text, all we need is... more text. And odds are, that text is going to come in the form of a file, so it's high time that we start using them.\n",
    "\n",
    "## Opening Filehandles\n",
    "\n",
    "A **filehandle** is an object that controls the stream of information between your program and a file stored somewhere on the computer. Filehandles are not filenames, and they are not the files themselves. Like variables, filehandles contain the address of the file on the hard drive or other storage media. But unlike variables, filehandles also keep track of your current read position in the file. Imagine your file is like a book in a library. The filehandle tells Python where that book is, and keeps a bookmark in the book for where you currently are. Because filehandles are not the files themselves, deleting a filehandle in your script using the **del** command does nothing to the file to which the filehandle refers.\n",
    "\n",
    "We create filehandles in the simplest sense with the **open()** command:\n",
    "\n",
    "```python\n",
    "fh = open('some_file')\n",
    "```\n",
    "\n",
    "where some_file is the path to a file (i.e. the filename) on your filesystem. In general, it is good practice to use absolute path nomenclature (e.g. /Users/aaron/some_file or /home/aaron/some_file), but you can be lazy if you know the file you want is going to be in the same directory as your program."
   ]
  },
  {
   "cell_type": "code",
   "execution_count": null,
   "metadata": {},
   "outputs": [],
   "source": [
    "fh = open('hello.txt')\n",
    "contents = fh.read()\n",
    "print contents\n",
    "fh.close()"
   ]
  },
  {
   "cell_type": "markdown",
   "metadata": {},
   "source": [
    "As you can see, the **read()** method of the filehandle just sucks in the whole file in a single string, newlines and all! This is quick and easy, for sure, but it's not necessarily the most orderly way to deal with the contents of a file."
   ]
  },
  {
   "cell_type": "code",
   "execution_count": null,
   "metadata": {},
   "outputs": [],
   "source": [
    "with open('hello.txt') as fp:\n",
    "    for cur_line in fp:\n",
    "        print cur_line,"
   ]
  },
  {
   "cell_type": "markdown",
   "metadata": {},
   "source": [
    "The first line of this program has a lot going on. Let’s start by looking\n",
    "at the open() function. To do any work with a file, even just printing its contents,\n",
    "you first need to open the file to access it. The **open()** function needs\n",
    "one argument: the name of the file you want to open. Python looks for this\n",
    "file in the directory where the program that’s currently being executed is\n",
    "stored.\n",
    "\n",
    "The next line `for curline in fp:` loops over the file's lines via the **fp** filehandle variable - it will execute everything in the code block below it once per line, putting a new line of text in **cur_line** on each loop.\n",
    "\n",
    "(Another nicety of this **with** construct is that when program execution leaves the code block below it, the filehandle is closed for you. Typically you have to manage closing the filehandle yourself, and this is important to do: to flush any waiting output to disk and to release the filehandle for reuse -- there are a finite number of them.)\n",
    "\n",
    "We can do all our string tricks on each line. Let's use a different form, and a different kind of input file..."
   ]
  },
  {
   "cell_type": "markdown",
   "metadata": {},
   "source": [
    "## Reading our first sequences!"
   ]
  },
  {
   "cell_type": "code",
   "execution_count": null,
   "metadata": {},
   "outputs": [],
   "source": [
    "#printing all the lines....\n",
    "nexus_file = open(\"happy_face.fastq\")\n",
    "for cur_line in nexus_file:\n",
    "    print cur_line.strip()"
   ]
  },
  {
   "cell_type": "code",
   "execution_count": null,
   "metadata": {},
   "outputs": [],
   "source": [
    "# Let's start by printing only lines that start with \"@\"\n",
    "nexus_file = open(\"happy_face.fastq\")\n",
    "for cur_line in nexus_file:\n",
    "    cur_line = cur_line.rstrip()\n",
    "    if cur_line.startswith('@'):\n",
    "        print \"Sequence name and description: \", cur_line"
   ]
  },
  {
   "cell_type": "code",
   "execution_count": null,
   "metadata": {},
   "outputs": [],
   "source": [
    "# First version of the function - splits on \"@\" and prints the list\n",
    "def print_sequence_name(cur_line):\n",
    "    as_list = cur_line.split('@')\n",
    "    print as_list"
   ]
  },
  {
   "cell_type": "code",
   "execution_count": null,
   "metadata": {},
   "outputs": [],
   "source": [
    "def simplefunction():\n",
    "    i = 3\n",
    "    m = i * 45\n",
    "    d = m // 15\n",
    "    return d\n",
    "print simplefunction()"
   ]
  },
  {
   "cell_type": "code",
   "execution_count": null,
   "metadata": {},
   "outputs": [],
   "source": [
    "print simplefunction()"
   ]
  },
  {
   "cell_type": "code",
   "execution_count": null,
   "metadata": {},
   "outputs": [],
   "source": [
    "%who"
   ]
  },
  {
   "cell_type": "code",
   "execution_count": null,
   "metadata": {},
   "outputs": [],
   "source": [
    "# Now, let's send each line that starts with @ to a function...\n",
    "nexus_file = open(\"happy_face.fastq\")\n",
    "for cur_line in nexus_file:\n",
    "    cur_line = cur_line.strip()\n",
    "    if cur_line.startswith('@'):\n",
    "        print \"Sequence name and description: \", cur_line\n",
    "        print_sequence_name(cur_line)"
   ]
  },
  {
   "cell_type": "code",
   "execution_count": null,
   "metadata": {},
   "outputs": [],
   "source": [
    "## Writing files"
   ]
  },
  {
   "cell_type": "code",
   "execution_count": null,
   "metadata": {},
   "outputs": [],
   "source": [
    "%%bash\n",
    "ls"
   ]
  },
  {
   "cell_type": "code",
   "execution_count": null,
   "metadata": {},
   "outputs": [],
   "source": [
    "output_file = open(\"output_file\",\"w\")\n",
    "output_file.write (\"one line file! We win!\\n\")"
   ]
  },
  {
   "cell_type": "code",
   "execution_count": null,
   "metadata": {},
   "outputs": [],
   "source": [
    "%%bash\n",
    "ls"
   ]
  },
  {
   "cell_type": "code",
   "execution_count": null,
   "metadata": {},
   "outputs": [],
   "source": [
    "%%bash\n",
    "cat output_file"
   ]
  },
  {
   "cell_type": "markdown",
   "metadata": {},
   "source": [
    "# Stupid letter tricks"
   ]
  },
  {
   "cell_type": "markdown",
   "metadata": {},
   "source": [
    "ASCII is fun - all letters have a corresponding numerical value. The built-in funciton __chr()__ converts them... the alphabet happens to start at ascii 97.."
   ]
  },
  {
   "cell_type": "code",
   "execution_count": null,
   "metadata": {},
   "outputs": [],
   "source": [
    "print chr(97)"
   ]
  },
  {
   "cell_type": "code",
   "execution_count": null,
   "metadata": {},
   "outputs": [],
   "source": [
    "for i in range(97,97+26):\n",
    "    print chr(i),"
   ]
  },
  {
   "cell_type": "code",
   "execution_count": null,
   "metadata": {},
   "outputs": [],
   "source": [
    "print \"table of char codes can be found at https://unicode-table.com\"\n",
    "print \"notice strings are prefixed with a u in the Python code\"\n",
    "print\n",
    "print u\"using unicode: \\u00DCmlaut \\u00FC \\u00C6 \\u0996\"\n",
    "print u\"using unicode: \\u2713 \\u262F \\u221E \\u2766 \\u2705\"\n",
    "print u\"so many cats:  \\U0001F408  \\U0001F431  \\U0001F638  \\U0001F639  \\U0001F63A  \\U0001F63B\",\n",
    "print u\" \\U0001F63C  \\U0001F63D  \\U0001F63E  \\U0001F63F  \\U0001F640\"\n",
    "print u\" \\U00011A31\" "
   ]
  },
  {
   "cell_type": "markdown",
   "metadata": {},
   "source": [
    "<img src=\"the_history_of_unicode_2x.png\">"
   ]
  },
  {
   "cell_type": "code",
   "execution_count": null,
   "metadata": {},
   "outputs": [],
   "source": []
  }
 ],
 "metadata": {
  "kernelspec": {
   "display_name": "Python 2",
   "language": "python",
   "name": "python2"
  },
  "language_info": {
   "codemirror_mode": {
    "name": "ipython",
    "version": 2
   },
   "file_extension": ".py",
   "mimetype": "text/x-python",
   "name": "python",
   "nbconvert_exporter": "python",
   "pygments_lexer": "ipython2",
   "version": "2.7.10"
  }
 },
 "nbformat": 4,
 "nbformat_minor": 2
}
