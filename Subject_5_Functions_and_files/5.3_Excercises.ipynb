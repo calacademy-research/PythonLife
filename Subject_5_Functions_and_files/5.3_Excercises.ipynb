{
 "cells": [
  {
   "cell_type": "markdown",
   "metadata": {},
   "source": [
    "# Exercises:\n",
    "\n",
    "## Functions"
   ]
  },
  {
   "cell_type": "markdown",
   "metadata": {},
   "source": [
    "__1. Fun with Functions__\n",
    "    \n",
    "    a) Write a function that takes an integer x as input, and returns twice the value of x\n",
    "    b) Write a function that takes an integer x as input, and returns the square of x\n",
    "    c) Write a function that takes two numbers, and returns their sum\n",
    "    d) Write a function that takes three numbers, and returns their sum and their product\n",
    "    e) Write a function that takes up to (but not always) three numbers, and returns their product"
   ]
  },
  {
   "cell_type": "markdown",
   "metadata": {},
   "source": [
    "__2. The Greeter Redux__\n",
    "\n",
    "Write a function that asks the user for their name and the year they were born in, greets the user, and returns their name and age."
   ]
  },
  {
   "cell_type": "markdown",
   "metadata": {},
   "source": [
    "__3. Sequence Analyis__\n",
    "\n",
    "Write a function that calculates the percentage of As,Cs,Ts,Gs from its input DNA sequence (Hint: The **count()** method of strings will be very useful!). Run it on the below DNA sequences:\n",
    "\n",
    "    ACGT\n",
    "    AAACGGGT\n",
    "    ACCCCCCCCCG\n",
    "    AAAAAAAAAAA\n",
    "    GAGNNNNNNNNA\n",
    "    AccgAcAcGGAa\n",
    "    CTgTggTGGT\n",
    "    zzfsafsdgs"
   ]
  },
  {
   "cell_type": "markdown",
   "metadata": {},
   "source": [
    "__4. Sequence Annotation__\n",
    "\n",
    "Write a function that takes a sequence of DNA, and returns a fasta-formatted string. The sequence of the fasta string should all be capitalized, and the name of the sequence should be the percentage of the sequence that is G or C. For example, \n",
    "\n",
    "    AcgT\n",
    "\n",
    "should be outputted as\n",
    "\n",
    "    >.50GC\n",
    "    ACGT"
   ]
  },
  {
   "cell_type": "markdown",
   "metadata": {},
   "source": [
    "__5. Reverse Complement__\n",
    "\n",
    "Write a function that takes a sequence of DNA, and returns the reverse complement of the given DNA sequence. Hint - the string **replace()** method will prove very useful!"
   ]
  },
  {
   "cell_type": "markdown",
   "metadata": {},
   "source": [
    "__6. Putting it all together__\n",
    "\n",
    "Using all the functions you have written, write a 'master' function which takes a sequence of DNA as input, as returns a fasta sequence containing both the inputted sequence and its reverse complement, with the GC content in the '>' name fields"
   ]
  },
  {
   "cell_type": "markdown",
   "metadata": {},
   "source": [
    "## Files"
   ]
  },
  {
   "cell_type": "markdown",
   "metadata": {},
   "source": [
    "### 7. What's in this file anyway?\n",
    "Using only Python, open the file '.secret_message' in the '4.1_Reading_and_Writing_Files' directory and figure out what's in it."
   ]
  },
  {
   "cell_type": "markdown",
   "metadata": {},
   "source": [
    "### 8. Pairwise Combinations\n",
    "Write a function that takes a list of names (say, the names of the instructors and TA's: James, David, Chris, Debora, Sumayah, Dat, Gunjan), write each possible pair of names, separated by hyphens '-----', to a file, like below:  \n",
    "James-----David  \n",
    "James-----Chris"
   ]
  },
  {
   "cell_type": "markdown",
   "metadata": {},
   "source": [
    "### 9. String Mutations\n",
    "Write a function that takes the last output file, reads it in, then write the lines back out (to a new file) in reverse order, in all capital letters."
   ]
  },
  {
   "cell_type": "markdown",
   "metadata": {},
   "source": [
    "### 10. Parse a FASTA file\n",
    "Using any text editor, copy the text below into a text file and save it as *seq.fasta*\n",
    "\n",
    "```\n",
    ">gene1\n",
    "ATGAGACGTAGTGCCAGTAGCGCGATGTAGCG\n",
    "ATGACGCATGACGCGCGACGCGCGAGTGAGCC\n",
    "ATACGCACGCATTGGCA\n",
    ">gene2\n",
    "ATGTTCGACGCATACGACGCGCAGTACCAGCA\n",
    "ATGACGCACCGGGATACACGACGCGGATTTTT\n",
    "ACGCACCGAGATAGCATAAAAGACCATTAG\n",
    ">gene3\n",
    "TTATGGCACCCACTAGAGCCAGATTATTTTAAA\n",
    "```\n",
    "\n",
    "Write a function that will open the fasta file, read the lines, and return the data as a dictionary keyed by gene with the sequences as values. Make sure the sequences are contiguous (i.e. contain no endline ('\\n') characters), and make sure to remove the > from the names of the genes."
   ]
  },
  {
   "cell_type": "code",
   "execution_count": null,
   "metadata": {},
   "outputs": [],
   "source": []
  }
 ],
 "metadata": {
  "kernelspec": {
   "display_name": "Python 2",
   "language": "python",
   "name": "python2"
  },
  "language_info": {
   "codemirror_mode": {
    "name": "ipython",
    "version": 2
   },
   "file_extension": ".py",
   "mimetype": "text/x-python",
   "name": "python",
   "nbconvert_exporter": "python",
   "pygments_lexer": "ipython2",
   "version": "2.7.13"
  }
 },
 "nbformat": 4,
 "nbformat_minor": 2
}
