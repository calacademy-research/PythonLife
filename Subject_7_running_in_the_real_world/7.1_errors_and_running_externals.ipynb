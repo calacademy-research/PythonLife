{
 "cells": [
  {
   "cell_type": "markdown",
   "metadata": {},
   "source": [
    "# System Calls With the subprocess Module\n",
    "\n",
    "In this section we will cover how to use the **subprocess** module to interact with other software, making system calls, collecting data, and automating your entire analysis pipeline.\n",
    "\n",
    "In bioinformatics we will often want to use other peoples software, whether that's Python packages like Biopython or packages written in other languages, like the highly efficient C. Rather than reinvent the wheel, we use many specialized packages to quickly and easily perform tasks such as alignment, SNP calling, or phylogenetics. Even simple Unix tools like **wc** can be useful to count the number of genes in a GFF file or length of a FASTA sequence.\n",
    "\n",
    "Most bioinformatics tools, like Unix tools, are run through the command line. Given that you might want to repeat an analysis using some of these tools on, for example, hundreds of genes, manually entering the commands for your entire pipeline is not only boring and error prone but a waste of your time.\n",
    "\n",
    "Here we will teach you to automate your pipeline by using Python to run these command line tools for you.\n",
    "\n",
    "---\n",
    "## Advantages to Automation\n",
    "\n",
    "**Reproducability**\n",
    "\n",
    "Perhaps the greatest advantage to a scientist in automating analysis is that the analysis can be reproduced exactly. Your exact methods are laid out in your Python script, where you and others can scrutinize, repeat, and modify them.\n",
    "\n",
    "**Less Tedium**\n",
    "\n",
    "From printing out the name of every gene expressed over a certain level, to BLASTING those genes against the NCBI database, to sorting and counting the resulting hits, scripting saves you a huge amount of tedious labor. Nobody wants to type, or even copy and paste, hundreds of BLAST queries.\n",
    "\n",
    "**Consistency**\n",
    "\n",
    "As well as being incredibly mind-numbing, manually running bioinformatics tools is dangerous. What if you accidentally type 'Gasterosteus_aculeatus_CA_SNPs.vcf' instead of 'Gasterosteus_aculeatus_AC_SNPs.vcf', accidentally substituting your California population for your Atlantic Coast population? Or 'clean_reads.py expensive_dataset.fq > expensive_dataset.fq' instead of 'clean_reads.py expensive_dataset.fq > expensive_dataset.clean.fq'? There are *thousands* of ways you can accidentally screw up your analysis to either ruin your day or produce erroneous results.\n",
    "\n",
    "Automation reduces the risk of stupid typos and other accidents. You won't forget to include mydata.part.14.bam in the analysis when you run **results = [analyse(data) for data in mydata]**.\n",
    "\n",
    "**Parallelization**\n",
    "\n",
    "Modern computers, even budget laptops, now have multiple processors, which means you can run several or even hundreds of analyses at once (if you have access to a supercomputing cluster)! Python provides a number of tools to help you manage these processes and make the most out of parallel computing.\n",
    "\n",
    "---\n",
    "\n",
    "## subprocess.check_output()\n",
    "The easiest way to make system calls is with the __check_output()__ function in the __subprocess__ module"
   ]
  },
  {
   "cell_type": "code",
   "execution_count": 1,
   "metadata": {},
   "outputs": [
    {
     "name": "stdout",
     "output_type": "stream",
     "text": [
      "7.1_errors_and_running_externals.ipynb\n",
      "another_way.py\n",
      "test_output.py\n",
      "yeast.aa\n",
      "yeast.nt\n",
      "yeast_genome.nsq\n",
      "\n"
     ]
    },
    {
     "data": {
      "text/plain": [
       "str"
      ]
     },
     "execution_count": 1,
     "metadata": {},
     "output_type": "execute_result"
    }
   ],
   "source": [
    "import subprocess as sp\n",
    " \n",
    "output = sp.check_output('ls', shell=True)\n",
    "\n",
    "print output\n",
    "type (output)"
   ]
  },
  {
   "cell_type": "markdown",
   "metadata": {},
   "source": [
    "Here, we used __subprocess.check_output()__ to run the command **ls**, and captured the output in the *output* variable.\n",
    "\n",
    "You'll notice that **check_output()** takes one mandatory argument: the command you want to run as you would type it into your terminal shell. The __shell__ keyword argument we will leave as __True__ for this tutorial. Without it, the process is created directly by the operating system, and any symbols or commands that the shell would recognize (e.g. spaces, \">\", and \"|\") result in an error. Because spaces are a symbol recognized by the shell, when calling __call()__ without __shell=True__, the first argument should be a list of command line arguments that would be separated by spaces spaces on the terminal. So **ls -a -1 /home/james** would become **['ls', '-a', '-1', '/home/james']**."
   ]
  },
  {
   "cell_type": "markdown",
   "metadata": {},
   "source": [
    "## Processing output a line at a time...\n",
    "\n",
    "As you saw above, the variable __output__ contains a multi-line string. Well, that's all fine and good, but what if you want to loop over some output and take action on each line?"
   ]
  },
  {
   "cell_type": "code",
   "execution_count": 3,
   "metadata": {},
   "outputs": [
    {
     "name": "stdout",
     "output_type": "stream",
     "text": [
      "['7.1_errors_and_running_externals.ipynb', 'another_way.py', 'test_output.py', 'yeast.aa', 'yeast.nt', 'yeast_genome.nsq']\n",
      "Here's a line: 7.1_errors_and_running_externals.ipynb\n",
      "Here's a line: another_way.py\n",
      "Here's a line: test_output.py\n",
      "Here's a line: yeast.aa\n",
      "Here's a line: yeast.nt\n",
      "Here's a line: yeast_genome.nsq\n"
     ]
    }
   ],
   "source": [
    "import subprocess as sp\n",
    " \n",
    "output = sp.check_output('ls', shell=True)\n",
    "output_list = output.rstrip().split('\\n')\n",
    "print output_list\n",
    "for cur_line in output_list:\n",
    "    print \"Here's a line:\",cur_line"
   ]
  },
  {
   "cell_type": "markdown",
   "metadata": {},
   "source": [
    "### Redirecting Output to Files\n",
    "Since we are using __shell=True__, you can redirect the output of a command to file exactly as you would on the terminal.\n",
    "\n",
    "To demonstrate this, we will be asking Python to do something very meta: run another Python script! Here's the script we will be running, which should be saved in your 5.2 directory as 'test_output.py'."
   ]
  },
  {
   "cell_type": "code",
   "execution_count": null,
   "metadata": {},
   "outputs": [],
   "source": [
    "#!/usr/bin/env python\n",
    "print 'this is a test'\n",
    "print 'this is only a test'"
   ]
  },
  {
   "cell_type": "markdown",
   "metadata": {},
   "source": [
    "Remember that we can redirect the output of a command to a file with __>__."
   ]
  },
  {
   "cell_type": "code",
   "execution_count": null,
   "metadata": {},
   "outputs": [],
   "source": [
    "import subprocess as sp\n",
    "\n",
    "command = 'python test_output.py > out.txt'\n",
    "output = sp.check_output(command, shell=True)\n",
    "print output"
   ]
  },
  {
   "cell_type": "markdown",
   "metadata": {},
   "source": [
    "This time there is no output to print, since we redirected it. Check 'out.txt' to make sure the output went where you expected it.\n",
    "\n",
    "### Chaining Commands With Pipes\n",
    "We often want to do something else with the output of a program, either parsing it and reformating it, performing a second step in the analysis, or turning it into a figure. To do this, we will *pipe* the output of one command directly into another command.\n",
    "\n",
    "A *pipe* is used to send the output of one program into the input of another. We learned in the first lecture that this is done on the Unix command line with the **|** character. For example, this script should count the number of files that contain the word \"yeast\" in the current directory."
   ]
  },
  {
   "cell_type": "code",
   "execution_count": 4,
   "metadata": {},
   "outputs": [
    {
     "name": "stdout",
     "output_type": "stream",
     "text": [
      "What directory am I in?\n",
      "/Users/jameshenderson/PythonLife/Subject_7_running_in_the_real_world\n",
      "\n",
      "List the files, long form:\n",
      "total 36680\n",
      "-rwxr-xr-x  1 jameshenderson  staff     14350 Apr 12 14:35 7.1_errors_and_running_externals.ipynb\n",
      "-rwxr-xr-x  1 jameshenderson  staff       231 Apr 12 14:30 another_way.py\n",
      "-rwxr-xr-x  1 jameshenderson  staff        74 Apr 12 14:30 test_output.py\n",
      "-rwxr-xr-x  1 jameshenderson  staff   3399727 Apr 12 14:30 yeast.aa\n",
      "-rwxr-xr-x  1 jameshenderson  staff  12308631 Apr 12 14:30 yeast.nt\n",
      "-rwxr-xr-x  1 jameshenderson  staff   3038769 Apr 12 14:30 yeast_genome.nsq\n",
      "\n",
      "now, only yeasts....\n",
      "yeast.aa\n",
      "yeast.nt\n",
      "yeast_genome.nsq\n",
      "\n",
      "Now, count the yeasts...\n",
      "       3\n"
     ]
    }
   ],
   "source": [
    "%%bash\n",
    "echo \"What directory am I in?\"\n",
    "pwd\n",
    "echo\n",
    "echo \"List the files, long form:\"\n",
    "ls -l\n",
    "echo\n",
    "echo \"now, only yeasts....\"\n",
    "ls -1 | grep 'yeast'\n",
    "echo\n",
    "echo \"Now, count the yeasts...\"\n",
    "ls -1 | grep 'yeast' | wc -l"
   ]
  },
  {
   "cell_type": "code",
   "execution_count": 5,
   "metadata": {},
   "outputs": [
    {
     "name": "stdout",
     "output_type": "stream",
     "text": [
      "       3\n",
      "\n"
     ]
    }
   ],
   "source": [
    "import subprocess as sp\n",
    "\n",
    "command = \"ls -1 | grep 'yeast' | wc -l\"\n",
    "print sp.check_output(command, shell=True)"
   ]
  },
  {
   "cell_type": "markdown",
   "metadata": {},
   "source": [
    "## Another way to run\n",
    "\n",
    "Calling programs directly from python is a good way to run. But sometimes, it's nice to have a check... if I'm about to move a whole bunch of files (scary!), it can be nice to print the commands instead of running them directly.\n",
    "  \n",
    "This lets you inspect the generated commands before running them, and potentially (in the case of a group of moves) try one. If it looks good, cut-and-paste all of them to the command line....\n",
    "\n",
    "At the end of this lesson, we'll see a better way to do the above."
   ]
  },
  {
   "cell_type": "code",
   "execution_count": 7,
   "metadata": {},
   "outputs": [
    {
     "name": "stdout",
     "output_type": "stream",
     "text": [
      "wc 7.1_errors_and_running_externals.ipynb\n",
      "wc another_way.py\n",
      "wc test_output.py\n",
      "wc yeast.aa\n",
      "wc yeast.nt\n",
      "wc yeast_genome.nsq\n"
     ]
    }
   ],
   "source": [
    "import subprocess as sp\n",
    "\n",
    "## Another way to run!\n",
    "output = sp.check_output('ls', shell=True)\n",
    "output_list = output.rstrip().split('\\n')\n",
    "for cur_line in output_list:\n",
    "    print \"wc\",cur_line"
   ]
  },
  {
   "cell_type": "markdown",
   "metadata": {},
   "source": [
    "# Handling errors"
   ]
  },
  {
   "cell_type": "code",
   "execution_count": 8,
   "metadata": {},
   "outputs": [],
   "source": [
    "# Ice cream fun! \n",
    "def favorite_ice_cream(n):\n",
    "    ice_creams = [\n",
    "        \"chocolate\",\n",
    "        \"vanilla\",\n",
    "        \"strawberry\"\n",
    "    ]\n",
    "    print(ice_creams[n])"
   ]
  },
  {
   "cell_type": "code",
   "execution_count": 9,
   "metadata": {},
   "outputs": [
    {
     "name": "stdout",
     "output_type": "stream",
     "text": [
      "strawberry\n"
     ]
    }
   ],
   "source": [
    "favorite_ice_cream(2)"
   ]
  },
  {
   "cell_type": "code",
   "execution_count": 10,
   "metadata": {},
   "outputs": [
    {
     "ename": "IndexError",
     "evalue": "list index out of range",
     "output_type": "error",
     "traceback": [
      "\u001b[0;31m---------------------------------------------------------------------------\u001b[0m",
      "\u001b[0;31mIndexError\u001b[0m                                Traceback (most recent call last)",
      "\u001b[0;32m<ipython-input-10-337909c8e735>\u001b[0m in \u001b[0;36m<module>\u001b[0;34m()\u001b[0m\n\u001b[0;32m----> 1\u001b[0;31m \u001b[0mfavorite_ice_cream\u001b[0m\u001b[0;34m(\u001b[0m\u001b[0;36m3\u001b[0m\u001b[0;34m)\u001b[0m\u001b[0;34m\u001b[0m\u001b[0m\n\u001b[0m",
      "\u001b[0;32m<ipython-input-8-65be50bf91a3>\u001b[0m in \u001b[0;36mfavorite_ice_cream\u001b[0;34m(n)\u001b[0m\n\u001b[1;32m      6\u001b[0m         \u001b[0;34m\"strawberry\"\u001b[0m\u001b[0;34m\u001b[0m\u001b[0m\n\u001b[1;32m      7\u001b[0m     ]\n\u001b[0;32m----> 8\u001b[0;31m     \u001b[0;32mprint\u001b[0m\u001b[0;34m(\u001b[0m\u001b[0mice_creams\u001b[0m\u001b[0;34m[\u001b[0m\u001b[0mn\u001b[0m\u001b[0;34m]\u001b[0m\u001b[0;34m)\u001b[0m\u001b[0;34m\u001b[0m\u001b[0m\n\u001b[0m",
      "\u001b[0;31mIndexError\u001b[0m: list index out of range"
     ]
    }
   ],
   "source": [
    "favorite_ice_cream(3)"
   ]
  },
  {
   "cell_type": "markdown",
   "metadata": {},
   "source": [
    "Well, that didn't work. Now that we've defined __favorite_ice_cream()__, let's try to run it safely.... "
   ]
  },
  {
   "cell_type": "code",
   "execution_count": 11,
   "metadata": {},
   "outputs": [
    {
     "name": "stdout",
     "output_type": "stream",
     "text": [
      "Let's ask about our favorite ice cream!\n",
      "Woah, nelly! That was a baaaad idea!\n",
      "But we will carry on.\n"
     ]
    }
   ],
   "source": [
    "print \"Let's ask about our favorite ice cream!\"\n",
    "try:\n",
    "    favorite_ice_cream(3)\n",
    "except:\n",
    "    print \"Woah, nelly! That was a baaaad idea!\"\n",
    "print \"But we will carry on.\""
   ]
  },
  {
   "cell_type": "code",
   "execution_count": 22,
   "metadata": {},
   "outputs": [
    {
     "name": "stdout",
     "output_type": "stream",
     "text": [
      "Let's ask about our favorite ice cream!\n",
      "\n",
      "oops, we got this error: 'list index out of range'\n",
      "\n",
      "But we will carry on.\n"
     ]
    }
   ],
   "source": [
    "print \"Let's ask about our favorite ice cream!\\n\"\n",
    "try:\n",
    "    favorite_ice_cream(3)\n",
    "except Exception as e:\n",
    "    #print \"we got this kind of error:\", type(e)\n",
    "    print \"oops, we got this error: '\" + str(e) +\"'\\n\"\n",
    "print \"But we will carry on.\""
   ]
  },
  {
   "cell_type": "markdown",
   "metadata": {},
   "source": [
    "## Assert and the truth\n",
    "\n",
    "Let's play with \"assert\" - a funciton that returns error if given false. That seems silly; why bother? It's about 'preconditions'...."
   ]
  },
  {
   "cell_type": "code",
   "execution_count": 23,
   "metadata": {},
   "outputs": [],
   "source": [
    "pi = 3.14159\n",
    "def area(radius):\n",
    "    # Pi had better be defined to at least 5 digits....\n",
    "    assert (pi == 3.14159)\n",
    "    return  pi * radius * radius"
   ]
  },
  {
   "cell_type": "code",
   "execution_count": 24,
   "metadata": {},
   "outputs": [
    {
     "name": "stdout",
     "output_type": "stream",
     "text": [
      "31415.9\n"
     ]
    }
   ],
   "source": [
    "print area(100)"
   ]
  },
  {
   "cell_type": "code",
   "execution_count": 25,
   "metadata": {},
   "outputs": [
    {
     "ename": "AssertionError",
     "evalue": "",
     "output_type": "error",
     "traceback": [
      "\u001b[0;31m---------------------------------------------------------------------------\u001b[0m",
      "\u001b[0;31mAssertionError\u001b[0m                            Traceback (most recent call last)",
      "\u001b[0;32m<ipython-input-25-a356047147e1>\u001b[0m in \u001b[0;36m<module>\u001b[0;34m()\u001b[0m\n\u001b[1;32m      1\u001b[0m \u001b[0mpi\u001b[0m \u001b[0;34m=\u001b[0m \u001b[0;36m3.14\u001b[0m\u001b[0;34m\u001b[0m\u001b[0m\n\u001b[0;32m----> 2\u001b[0;31m \u001b[0;32mprint\u001b[0m \u001b[0marea\u001b[0m\u001b[0;34m(\u001b[0m\u001b[0;36m100\u001b[0m\u001b[0;34m)\u001b[0m\u001b[0;34m\u001b[0m\u001b[0m\n\u001b[0m",
      "\u001b[0;32m<ipython-input-23-a44317178b75>\u001b[0m in \u001b[0;36marea\u001b[0;34m(radius)\u001b[0m\n\u001b[1;32m      2\u001b[0m \u001b[0;32mdef\u001b[0m \u001b[0marea\u001b[0m\u001b[0;34m(\u001b[0m\u001b[0mradius\u001b[0m\u001b[0;34m)\u001b[0m\u001b[0;34m:\u001b[0m\u001b[0;34m\u001b[0m\u001b[0m\n\u001b[1;32m      3\u001b[0m     \u001b[0;31m# Pi had better be defined to at least 5 digits....\u001b[0m\u001b[0;34m\u001b[0m\u001b[0;34m\u001b[0m\u001b[0m\n\u001b[0;32m----> 4\u001b[0;31m     \u001b[0;32massert\u001b[0m \u001b[0;34m(\u001b[0m\u001b[0mpi\u001b[0m \u001b[0;34m==\u001b[0m \u001b[0;36m3.14159\u001b[0m\u001b[0;34m)\u001b[0m\u001b[0;34m\u001b[0m\u001b[0m\n\u001b[0m\u001b[1;32m      5\u001b[0m     \u001b[0;32mreturn\u001b[0m  \u001b[0mpi\u001b[0m \u001b[0;34m*\u001b[0m \u001b[0mradius\u001b[0m \u001b[0;34m*\u001b[0m \u001b[0mradius\u001b[0m\u001b[0;34m\u001b[0m\u001b[0m\n",
      "\u001b[0;31mAssertionError\u001b[0m: "
     ]
    }
   ],
   "source": [
    "pi = 3.14\n",
    "print area(100)"
   ]
  },
  {
   "cell_type": "code",
   "execution_count": 26,
   "metadata": {},
   "outputs": [],
   "source": [
    "def favorite_ice_cream(n):\n",
    "    \n",
    "    ice_creams = [\n",
    "        \"chocolate\",\n",
    "        \"vanilla\",\n",
    "        \"strawberry\"\n",
    "    ]\n",
    "    assert (n < len(ice_creams))\n",
    "    print(ice_creams[n])"
   ]
  },
  {
   "cell_type": "code",
   "execution_count": 27,
   "metadata": {},
   "outputs": [
    {
     "ename": "AssertionError",
     "evalue": "",
     "output_type": "error",
     "traceback": [
      "\u001b[0;31m---------------------------------------------------------------------------\u001b[0m",
      "\u001b[0;31mAssertionError\u001b[0m                            Traceback (most recent call last)",
      "\u001b[0;32m<ipython-input-27-337909c8e735>\u001b[0m in \u001b[0;36m<module>\u001b[0;34m()\u001b[0m\n\u001b[0;32m----> 1\u001b[0;31m \u001b[0mfavorite_ice_cream\u001b[0m\u001b[0;34m(\u001b[0m\u001b[0;36m3\u001b[0m\u001b[0;34m)\u001b[0m\u001b[0;34m\u001b[0m\u001b[0m\n\u001b[0m",
      "\u001b[0;32m<ipython-input-26-1b2be32241bb>\u001b[0m in \u001b[0;36mfavorite_ice_cream\u001b[0;34m(n)\u001b[0m\n\u001b[1;32m      6\u001b[0m         \u001b[0;34m\"strawberry\"\u001b[0m\u001b[0;34m\u001b[0m\u001b[0m\n\u001b[1;32m      7\u001b[0m     ]\n\u001b[0;32m----> 8\u001b[0;31m     \u001b[0;32massert\u001b[0m \u001b[0;34m(\u001b[0m\u001b[0mn\u001b[0m \u001b[0;34m<\u001b[0m \u001b[0mlen\u001b[0m\u001b[0;34m(\u001b[0m\u001b[0mice_creams\u001b[0m\u001b[0;34m)\u001b[0m\u001b[0;34m)\u001b[0m\u001b[0;34m\u001b[0m\u001b[0m\n\u001b[0m\u001b[1;32m      9\u001b[0m     \u001b[0;32mprint\u001b[0m\u001b[0;34m(\u001b[0m\u001b[0mice_creams\u001b[0m\u001b[0;34m[\u001b[0m\u001b[0mn\u001b[0m\u001b[0;34m]\u001b[0m\u001b[0;34m)\u001b[0m\u001b[0;34m\u001b[0m\u001b[0m\n",
      "\u001b[0;31mAssertionError\u001b[0m: "
     ]
    }
   ],
   "source": [
    "favorite_ice_cream(3)"
   ]
  },
  {
   "cell_type": "markdown",
   "metadata": {},
   "source": [
    "# Writing and running programs outside of notebook...\n",
    "\n",
    "* SublimeText\n",
    "* PyCharm\n",
    "* nano"
   ]
  },
  {
   "cell_type": "markdown",
   "metadata": {},
   "source": [
    "## Paste \"another way to run\" and execute it with bash..."
   ]
  },
  {
   "cell_type": "code",
   "execution_count": 29,
   "metadata": {},
   "outputs": [
    {
     "name": "stdout",
     "output_type": "stream",
     "text": [
      "wc 7.1_errors_and_running_externals.ipynb\n",
      "wc another_way.py\n",
      "wc test_output.py\n",
      "wc yeast.aa\n",
      "wc yeast.nt\n",
      "wc yeast_genome.nsq\n"
     ]
    }
   ],
   "source": [
    "#!/usr/bin/env python\n",
    "\n",
    "import subprocess as sp\n",
    "\n",
    "## Another way to run!\n",
    "output = sp.check_output('ls', shell=True)\n",
    "output_list = output.rstrip().split('\\n')\n",
    "for cur_line in output_list:\n",
    "    print \"wc\",cur_line"
   ]
  },
  {
   "cell_type": "code",
   "execution_count": null,
   "metadata": {},
   "outputs": [],
   "source": []
  }
 ],
 "metadata": {
  "anaconda-cloud": {},
  "kernelspec": {
   "display_name": "Python 2",
   "language": "python",
   "name": "python2"
  },
  "language_info": {
   "codemirror_mode": {
    "name": "ipython",
    "version": 2
   },
   "file_extension": ".py",
   "mimetype": "text/x-python",
   "name": "python",
   "nbconvert_exporter": "python",
   "pygments_lexer": "ipython2",
   "version": "2.7.10"
  }
 },
 "nbformat": 4,
 "nbformat_minor": 1
}
