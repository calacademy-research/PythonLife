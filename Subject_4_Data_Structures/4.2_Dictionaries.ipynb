{
 "cells": [
  {
   "cell_type": "markdown",
   "metadata": {},
   "source": [
    "# Dictionaries\n",
    "\n",
    "## Topics\n",
    "1. What is a dictionary\n",
    "2. Using dictionaries\n",
    "3. Some dictionary uses\n",
    "4. Dictionary psets"
   ]
  },
  {
   "cell_type": "markdown",
   "metadata": {},
   "source": [
    "# What is a dictionary?"
   ]
  },
  {
   "cell_type": "markdown",
   "metadata": {},
   "source": [
    "A dictionary is a hash table (https://en.wikipedia.org/wiki/Hash_table). It basically lets us create an association between a key and its value and allows us to rapidly obtain the values of the keys. Note that, unlike lists, a dictionary is unordered."
   ]
  },
  {
   "cell_type": "code",
   "execution_count": 1,
   "metadata": {},
   "outputs": [
    {
     "name": "stdout",
     "output_type": "stream",
     "text": [
      "{'key3': 'value3', 'key2': 'value2', 'key1': 'value1'}\n",
      "<type 'dict'>\n"
     ]
    }
   ],
   "source": [
    "'''\n",
    "Let's take a quick look at how we can create dictionaries\n",
    "and what the look like.\n",
    "'''\n",
    "myDict = {'key1': 'value1',\n",
    "          'key2': 'value2',\n",
    "          'key3': 'value3'}\n",
    "\n",
    "print(myDict)\n",
    "print(type(myDict))"
   ]
  },
  {
   "cell_type": "markdown",
   "metadata": {},
   "source": [
    "Dictionary keys can only be immutable objects; these include strings, integers, floats, and tuples.\n",
    "Dictionary values can be anything else. Here are some examples."
   ]
  },
  {
   "cell_type": "code",
   "execution_count": 3,
   "metadata": {},
   "outputs": [
    {
     "name": "stdout",
     "output_type": "stream",
     "text": [
      "{'a': {'key3': 'value3', 'key2': 'value2', 'key1': 'value1'}, 1: 'hi', 2.0: [5, 6, 'c']}\n"
     ]
    }
   ],
   "source": [
    "'''\n",
    "Here, I create a dictionary with a variety of keys and values\n",
    "'''\n",
    "testDictA = {1: 'hi',\n",
    "             2.0: [5,6,'c'],\n",
    "             'a': myDict}\n",
    "\n",
    "print(testDictA)"
   ]
  },
  {
   "cell_type": "markdown",
   "metadata": {},
   "source": [
    "What happens if we use mutable objects as keys in dictionaries? By mutable objects, I mean structures like lists and dictionaries."
   ]
  },
  {
   "cell_type": "code",
   "execution_count": 4,
   "metadata": {},
   "outputs": [
    {
     "ename": "TypeError",
     "evalue": "unhashable type: 'list'",
     "output_type": "error",
     "traceback": [
      "\u001b[1;31m---------------------------------------------------------------------------\u001b[0m",
      "\u001b[1;31mTypeError\u001b[0m                                 Traceback (most recent call last)",
      "\u001b[1;32m<ipython-input-4-68bd26370507>\u001b[0m in \u001b[0;36m<module>\u001b[1;34m()\u001b[0m\n\u001b[0;32m      2\u001b[0m \u001b[0mLet\u001b[0m\u001b[0;31m'\u001b[0m\u001b[0ms\u001b[0m \u001b[0muse\u001b[0m \u001b[0ma\u001b[0m \u001b[0mlist\u001b[0m \u001b[1;32mas\u001b[0m \u001b[0ma\u001b[0m \u001b[0mkey\u001b[0m\u001b[1;33m\u001b[0m\u001b[0m\n\u001b[0;32m      3\u001b[0m '''\n\u001b[1;32m----> 4\u001b[1;33m \u001b[0mtestDictB\u001b[0m \u001b[1;33m=\u001b[0m \u001b[1;33m{\u001b[0m\u001b[1;33m[\u001b[0m\u001b[1;36m2\u001b[0m\u001b[1;33m,\u001b[0m\u001b[1;36m3\u001b[0m\u001b[1;33m,\u001b[0m\u001b[1;36m4\u001b[0m\u001b[1;33m]\u001b[0m\u001b[1;33m:\u001b[0m\u001b[1;34m'a list'\u001b[0m\u001b[1;33m}\u001b[0m\u001b[1;33m\u001b[0m\u001b[0m\n\u001b[0m",
      "\u001b[1;31mTypeError\u001b[0m: unhashable type: 'list'"
     ]
    }
   ],
   "source": [
    "'''\n",
    "Let's use a list as a key\n",
    "'''\n",
    "testDictB = {[2,3,4]:'a list'}"
   ]
  },
  {
   "cell_type": "code",
   "execution_count": 7,
   "metadata": {
    "scrolled": true
   },
   "outputs": [
    {
     "ename": "TypeError",
     "evalue": "unhashable type: 'dict'",
     "output_type": "error",
     "traceback": [
      "\u001b[1;31m---------------------------------------------------------------------------\u001b[0m",
      "\u001b[1;31mTypeError\u001b[0m                                 Traceback (most recent call last)",
      "\u001b[1;32m<ipython-input-7-7e2b9ef178df>\u001b[0m in \u001b[0;36m<module>\u001b[1;34m()\u001b[0m\n\u001b[0;32m      4\u001b[0m \u001b[0manotherDict\u001b[0m \u001b[1;33m=\u001b[0m \u001b[1;33m{\u001b[0m\u001b[1;34m'a'\u001b[0m\u001b[1;33m:\u001b[0m \u001b[1;34m'hi'\u001b[0m\u001b[1;33m}\u001b[0m\u001b[1;33m\u001b[0m\u001b[0m\n\u001b[0;32m      5\u001b[0m \u001b[1;33m\u001b[0m\u001b[0m\n\u001b[1;32m----> 6\u001b[1;33m \u001b[0mtestDictC\u001b[0m \u001b[1;33m=\u001b[0m \u001b[1;33m{\u001b[0m\u001b[0manotherDict\u001b[0m\u001b[1;33m:\u001b[0m \u001b[1;34m'a dictionary'\u001b[0m\u001b[1;33m}\u001b[0m\u001b[1;33m\u001b[0m\u001b[0m\n\u001b[0m",
      "\u001b[1;31mTypeError\u001b[0m: unhashable type: 'dict'"
     ]
    }
   ],
   "source": [
    "'''\n",
    "Let's use a variable as a key\n",
    "'''\n",
    "anotherDict = {'a': 'hi'}\n",
    "\n",
    "testDictC = {anotherDict: 'a dictionary'}"
   ]
  },
  {
   "cell_type": "markdown",
   "metadata": {},
   "source": [
    "# Using Dictionaries"
   ]
  },
  {
   "cell_type": "markdown",
   "metadata": {},
   "source": [
    "We have a dictionary, how do we use it?"
   ]
  },
  {
   "cell_type": "code",
   "execution_count": 2,
   "metadata": {},
   "outputs": [
    {
     "name": "stdout",
     "output_type": "stream",
     "text": [
      "value1\n"
     ]
    }
   ],
   "source": [
    "'''\n",
    "We have a dictionary, how can we get the values given a key?\n",
    "'''\n",
    "myDict = {'key1': 'value1',\n",
    "          'key2': 'value2',\n",
    "          'key3': 'value3'}\n",
    "\n",
    "# to get a value, use the dictionary[key] format\n",
    "print(myDict['key1'])"
   ]
  },
  {
   "cell_type": "code",
   "execution_count": 3,
   "metadata": {},
   "outputs": [
    {
     "name": "stdout",
     "output_type": "stream",
     "text": [
      "value3\n",
      "value2\n",
      "value1\n"
     ]
    }
   ],
   "source": [
    "'''\n",
    "But what if I want to get all the values? keys?\n",
    "Like a list, we can loop through dictionaries\n",
    "'''\n",
    "### Getting Values ###\n",
    "# looping through dictionary\n",
    "for i in myDict:\n",
    "    print(myDict[i])\n",
    "\n",
    "\n"
   ]
  },
  {
   "cell_type": "code",
   "execution_count": 4,
   "metadata": {},
   "outputs": [
    {
     "name": "stdout",
     "output_type": "stream",
     "text": [
      "['value3', 'value2', 'value1']\n"
     ]
    }
   ],
   "source": [
    "# to get a list of values, use the values method\n",
    "dictVal = myDict.values()\n",
    "print(dictVal)"
   ]
  },
  {
   "cell_type": "code",
   "execution_count": 9,
   "metadata": {},
   "outputs": [
    {
     "name": "stdout",
     "output_type": "stream",
     "text": [
      "key3\n",
      "key2\n",
      "key1\n"
     ]
    }
   ],
   "source": [
    "\n",
    "### Getting Keys###\n",
    "# Similar to values, you can loop through a dictionary to get keys\n",
    "for i in myDict.keys():\n",
    "    print(i)\n",
    "    \n"
   ]
  },
  {
   "cell_type": "code",
   "execution_count": 10,
   "metadata": {},
   "outputs": [
    {
     "name": "stdout",
     "output_type": "stream",
     "text": [
      "key3\n",
      "key2\n",
      "key1\n"
     ]
    }
   ],
   "source": [
    "# In fact, the above is so common, it has a shorthand:\n",
    "for i in myDict:\n",
    "    print(i)"
   ]
  },
  {
   "cell_type": "code",
   "execution_count": null,
   "metadata": {},
   "outputs": [],
   "source": [
    "# The above is just returning a list of keys....\n",
    "dictKeys = myDict.keys()\n",
    "print(dictKeys)"
   ]
  },
  {
   "cell_type": "code",
   "execution_count": 13,
   "metadata": {
    "scrolled": true
   },
   "outputs": [
    {
     "name": "stdout",
     "output_type": "stream",
     "text": [
      "('key3', 'value3')\n",
      "('key2', 'value2')\n",
      "('key1', 'value1')\n"
     ]
    }
   ],
   "source": [
    "'''\n",
    "Now I want key and value pairs!\n",
    "'''\n",
    "for i in myDict:\n",
    "    print(i, myDict[i])"
   ]
  },
  {
   "cell_type": "code",
   "execution_count": 15,
   "metadata": {},
   "outputs": [
    {
     "name": "stdout",
     "output_type": "stream",
     "text": [
      "{'key3': 'value3', 'key2': 'value2', 'key1': 'value1', 'key4': 'value5'}\n"
     ]
    }
   ],
   "source": [
    "'''\n",
    "Let's add a new key/value pair....\n",
    "'''\n",
    "# to do this, simply use the following format: dictionary[newkey] = newvalue\n",
    "myDict['key4'] = 'value5'\n",
    "\n",
    "print(myDict)"
   ]
  },
  {
   "cell_type": "code",
   "execution_count": 16,
   "metadata": {},
   "outputs": [
    {
     "name": "stdout",
     "output_type": "stream",
     "text": [
      "{'key3': 'value3', 'key2': 'value2', 'key1': 'value1', 'key4': 'value4'}\n"
     ]
    }
   ],
   "source": [
    "'''\n",
    "I accidentally set value5 to key4, when I actually meant to do key5.\n",
    "You can change the values of a key by reassigning a new value to the key\n",
    "'''\n",
    "myDict['key4'] = 'value4'\n",
    "\n",
    "print(myDict)"
   ]
  },
  {
   "cell_type": "code",
   "execution_count": 29,
   "metadata": {},
   "outputs": [
    {
     "name": "stdout",
     "output_type": "stream",
     "text": [
      "{'key3': 'value3', 'key2': 'value2', 'key1': 'value1', 'key4': 'value4'}\n",
      "{'key3': 'value3', 'key1': 'value1', 'key4': 'value4'}\n"
     ]
    }
   ],
   "source": [
    "'''\n",
    "I actually don't want key2 nor its value in my dictionary.\n",
    "Let's remove it using the del function\n",
    "'''\n",
    "print(myDict)\n",
    "\n",
    "del myDict['key2']\n",
    "\n",
    "print(myDict)"
   ]
  },
  {
   "cell_type": "code",
   "execution_count": 7,
   "metadata": {},
   "outputs": [
    {
     "name": "stdout",
     "output_type": "stream",
     "text": [
      "[[1, 2], [3, 4]]\n",
      "{1: 2, 3: 4}\n",
      "[('a', 1), ('b', 2), ('c', 3)]\n",
      "{'a': 1, 'c': 3, 'b': 2}\n"
     ]
    }
   ],
   "source": [
    "'''\n",
    "I have 2 lists of corresponding values, and I'm too lazy to rerwrite my code,\n",
    "how can I make a dictionary?\n",
    "'''\n",
    "# Dictionaries can be made using list of lists using dict function\n",
    "print([[1,2],[3,4]])\n",
    "print(dict([[1,2],[3,4]]))\n",
    "\n",
    "# 2 lists of the first, second, and third letter of alphabet\n",
    "listA = ['a','b','c']\n",
    "listB = [1,2,3]\n",
    "\n",
    "# the zip() function creates a list of tuples based on 2 lists\n",
    "listOfTuples = zip(listA, listB)\n",
    "print(listOfTuples)\n",
    "\n",
    "# convert the \"zipped\" lists into a dictionary\n",
    "print(dict(listOfTuples))"
   ]
  }
 ],
 "metadata": {
  "kernelspec": {
   "display_name": "Python 2",
   "language": "python",
   "name": "python2"
  },
  "language_info": {
   "codemirror_mode": {
    "name": "ipython",
    "version": 2
   },
   "file_extension": ".py",
   "mimetype": "text/x-python",
   "name": "python",
   "nbconvert_exporter": "python",
   "pygments_lexer": "ipython2",
   "version": "2.7.13"
  }
 },
 "nbformat": 4,
 "nbformat_minor": 2
}
