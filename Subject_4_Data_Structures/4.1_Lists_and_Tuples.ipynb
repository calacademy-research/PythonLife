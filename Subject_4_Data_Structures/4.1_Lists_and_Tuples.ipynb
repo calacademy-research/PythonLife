{
 "cells": [
  {
   "cell_type": "markdown",
   "metadata": {},
   "source": [
    "# Basic Data Structures\n",
    "\n",
    "## Topics:\n",
    "- List review and advanced topics\n",
    "- Tuples"
   ]
  },
  {
   "cell_type": "markdown",
   "metadata": {},
   "source": [
    "## Summing Lists and Counting Characters - a review\n"
   ]
  },
  {
   "cell_type": "markdown",
   "metadata": {},
   "source": [
    "### Summing lists by looping through each item\n",
    "We are going to quickly look at 3 ways to loop through the items in a list and add them up. Then we are going to see a way to do this type of thing more generally that doesn't directly involve looping through each item."
   ]
  },
  {
   "cell_type": "code",
   "execution_count": 1,
   "metadata": {},
   "outputs": [
    {
     "name": "stdout",
     "output_type": "stream",
     "text": [
      "[1, 2, 3.2, 4.7]\n"
     ]
    }
   ],
   "source": [
    "# here's the simple list we will use\n",
    "numlist = [1, 2, 3.2, 4.7]\n",
    "print numlist"
   ]
  },
  {
   "cell_type": "code",
   "execution_count": 2,
   "metadata": {
    "scrolled": true
   },
   "outputs": [
    {
     "name": "stdout",
     "output_type": "stream",
     "text": [
      "3.2\n"
     ]
    }
   ],
   "source": [
    "# How to access the data in a list\n",
    "print numlist[2]"
   ]
  },
  {
   "cell_type": "code",
   "execution_count": null,
   "metadata": {},
   "outputs": [],
   "source": [
    "# See the contents of the whole list\n",
    "print numlist"
   ]
  },
  {
   "cell_type": "code",
   "execution_count": 3,
   "metadata": {},
   "outputs": [
    {
     "name": "stdout",
     "output_type": "stream",
     "text": [
      "<type 'list'>\n"
     ]
    }
   ],
   "source": [
    "# How do I check if li1 is a list?\n",
    "print type(numlist)"
   ]
  },
  {
   "cell_type": "markdown",
   "metadata": {},
   "source": [
    "**(1)** <font color='blue'>**while loop**</font> -- this is probably most familiar to those with other programming language experience."
   ]
  },
  {
   "cell_type": "code",
   "execution_count": 5,
   "metadata": {},
   "outputs": [
    {
     "name": "stdout",
     "output_type": "stream",
     "text": [
      "4\n",
      "10.9\n"
     ]
    }
   ],
   "source": [
    "numlist = [1, 2, 3.2, 4.7]\n",
    "print len(numlist)\n",
    "addition = 0; i = 0\n",
    "while i < len(numlist):\n",
    "    addition = addition + numlist[i]\n",
    "    i += 1\n",
    "    \n",
    "print addition"
   ]
  },
  {
   "cell_type": "markdown",
   "metadata": {},
   "source": [
    "**(2)** <font color='blue'>**for loop**</font> -- this initializes and increments the index with just one line by using the **range()** function, the while loop took 3 statements to handle that."
   ]
  },
  {
   "cell_type": "code",
   "execution_count": 7,
   "metadata": {},
   "outputs": [
    {
     "name": "stdout",
     "output_type": "stream",
     "text": [
      "10.9\n"
     ]
    }
   ],
   "source": [
    "numlist = [1, 2, 3.2, 4.7]\n",
    "\n",
    "addition = 0\n",
    "for i in range( len(numlist) ):\n",
    "    addition += numlist[i]\n",
    "    \n",
    "print addition"
   ]
  },
  {
   "cell_type": "code",
   "execution_count": 6,
   "metadata": {},
   "outputs": [
    {
     "name": "stdout",
     "output_type": "stream",
     "text": [
      "[0, 1, 2, 3, 4, 5, 6, 7, 8]\n"
     ]
    }
   ],
   "source": [
    "print range(9)"
   ]
  },
  {
   "cell_type": "markdown",
   "metadata": {},
   "source": [
    "**(3a)** <font color='blue'>**for .. in loop**</font>. this will return each list item in turn so we can deal with it. cleanest look so far."
   ]
  },
  {
   "cell_type": "code",
   "execution_count": 8,
   "metadata": {},
   "outputs": [
    {
     "name": "stdout",
     "output_type": "stream",
     "text": [
      "10.9 sum\n"
     ]
    }
   ],
   "source": [
    "numlist = [1, 2, 3.2, 4.7]\n",
    "\n",
    "addition = 0\n",
    "for val in numlist:\n",
    "    addition += val\n",
    "    \n",
    "print \"{} sum\".format(addition)"
   ]
  },
  {
   "cell_type": "markdown",
   "metadata": {},
   "source": [
    "### The sum() built-in function\n",
    "***Sum*** is a special case in Python. There's a built-in function called **sum()** that sums a list.\n",
    "Anything else than adding up int or float values and you have to do it some other way. That's what we will look at in the next sections. Let's see sum() in action."
   ]
  },
  {
   "cell_type": "code",
   "execution_count": 9,
   "metadata": {},
   "outputs": [
    {
     "name": "stdout",
     "output_type": "stream",
     "text": [
      "10.9\n",
      "10.9 it still adds up\n"
     ]
    }
   ],
   "source": [
    "# there's a built-in sum() function for numeric lists: int and float types.\n",
    "# anything more complicated you'll have to do yourself\n",
    "\n",
    "print sum([1, 2, 3.2, 4.7])\n",
    "numlist = [1, 2, 3.2, 4.7]\n",
    "print sum(numlist), \"it still adds up\""
   ]
  },
  {
   "cell_type": "code",
   "execution_count": 12,
   "metadata": {},
   "outputs": [
    {
     "data": {
      "text/plain": [
       "'4.7hello'"
      ]
     },
     "execution_count": 12,
     "metadata": {},
     "output_type": "execute_result"
    }
   ],
   "source": [
    " str(4.7) + \"hello\""
   ]
  },
  {
   "cell_type": "markdown",
   "metadata": {},
   "source": [
    "## Printing, lists and loops\n",
    "\n",
    "We've already seen that it is easy to loop through a list"
   ]
  },
  {
   "cell_type": "code",
   "execution_count": 13,
   "metadata": {},
   "outputs": [
    {
     "name": "stdout",
     "output_type": "stream",
     "text": [
      "January\n",
      "February\n",
      "March\n",
      "April\n",
      "May\n",
      "June\n",
      "July\n",
      "August\n",
      "September\n",
      "October\n",
      "November\n",
      "December\n"
     ]
    }
   ],
   "source": [
    "months = [\"January\", \"February\", \"March\",\n",
    "         \"April\", \"May\", \"June\", \"July\",\n",
    "         \"August\", \"September\", \"October\",\n",
    "         \"November\", \"December\"]\n",
    "\n",
    "# This loop for printing the months\n",
    "for x in months:\n",
    "    print x"
   ]
  },
  {
   "cell_type": "code",
   "execution_count": 14,
   "metadata": {},
   "outputs": [
    {
     "name": "stdout",
     "output_type": "stream",
     "text": [
      "January February March April May June July August September October November December\n"
     ]
    }
   ],
   "source": [
    "# print review! What can a comma do?\n",
    "for x in months:\n",
    "    print x,"
   ]
  },
  {
   "cell_type": "markdown",
   "metadata": {},
   "source": [
    "## More Lists\n",
    "\n",
    "A __list__ provides a way of storing an ordered series of values in a structure referenced by a single variable. \n",
    "\n",
    "\n",
    "We can define a list as a succession of elements separated by commas and enclosed in square brackets __[ ]__. For example, we can create a list of characters as follows:"
   ]
  },
  {
   "cell_type": "markdown",
   "metadata": {},
   "source": [
    "### Types within types\n",
    "\n",
    "Lists are interesting because they are containers that can hold arbitrary types inside of them.\n",
    "\n",
    "So far in this example, our lists are holding both floats and ints. We've also seen lists of strings. However, they can hold any type - numberic, boolean even anohter list - and not all entries in a list need to be the same type. We would call this a \"heterogenous\" list.\n"
   ]
  },
  {
   "cell_type": "code",
   "execution_count": 15,
   "metadata": {},
   "outputs": [
    {
     "name": "stdout",
     "output_type": "stream",
     "text": [
      "<type 'str'>\n",
      "<type 'int'>\n",
      "<type 'float'>\n"
     ]
    }
   ],
   "source": [
    "mixed_list = [\"Beethoven\", 27, 2.718];\n",
    "\n",
    "print type(mixed_list[0])  # Print the type of the first item\n",
    "print type(mixed_list[1])  # ..................the second item\n",
    "print type(mixed_list[2])  # etc.."
   ]
  },
  {
   "cell_type": "markdown",
   "metadata": {},
   "source": [
    "You can also define lists using other variables.  When doing this, it's as if you took whatever was stored in the variable and typed it in instead."
   ]
  },
  {
   "cell_type": "code",
   "execution_count": 16,
   "metadata": {},
   "outputs": [
    {
     "name": "stdout",
     "output_type": "stream",
     "text": [
      "['Bach', 'Beethoven', 'Mozart']\n",
      "['Bach', 'Beethoven', 'Mozart']\n"
     ]
    }
   ],
   "source": [
    "# For example, these both create identical lists\n",
    "\n",
    "sample_list1 = ['Bach', 'Beethoven', 'Mozart']\n",
    "\n",
    "# same as\n",
    "\n",
    "a = 'Bach'\n",
    "b = 'Beethoven'\n",
    "c = 'Mozart'\n",
    "\n",
    "sample_list2 = [a, b, c]\n",
    "\n",
    "print sample_list1\n",
    "print sample_list2"
   ]
  },
  {
   "cell_type": "markdown",
   "metadata": {},
   "source": [
    "Lists have lots of really useful features. \n",
    "\n",
    "One is that they are __ordered__, which means the order of items in a list __does not change__ (this is not true for dictionaries, as we will see later). This means you can access individual items in a list or entire sections by indexing or slicing. \n",
    "\n",
    "You can also manipulate your list using built-in methods. For example, we can add to the list by using __append()__ or __extend()__ methods.\n",
    "\n",
    "## Adding to a List"
   ]
  },
  {
   "cell_type": "code",
   "execution_count": 18,
   "metadata": {},
   "outputs": [
    {
     "name": "stdout",
     "output_type": "stream",
     "text": [
      "Before\n",
      "[4, 8, 15, 16, 23]\n",
      "After\n",
      "[4, 8, 15, 16, 23, 42, 'joe']\n"
     ]
    }
   ],
   "source": [
    "#add single item to list - using 'append'\n",
    "li1 = [4, 8, 15, 16, 23]\n",
    "print 'Before'\n",
    "print li1\n",
    "\n",
    "li1.append(42)\n",
    "li1.append(\"joe\")\n",
    "print 'After'\n",
    "print li1"
   ]
  },
  {
   "cell_type": "code",
   "execution_count": 22,
   "metadata": {},
   "outputs": [
    {
     "name": "stdout",
     "output_type": "stream",
     "text": [
      "After using extend\n",
      "li1:  ['Monday', 'Tuesday', 'Wednesday', 'Thursday', 'Friday', 'Saturday', 'Sunday']\n",
      "foo list: ['Monday', 'Tuesday', 'Wednesday', 'Thursday', 'Friday', 'Saturday', 'Sunday']\n"
     ]
    }
   ],
   "source": [
    "#combine two lists - using 'extend'\n",
    "li1 = ['Monday', 'Tuesday', 'Wednesday', 'Thursday']\n",
    "li2 = ['Friday', 'Saturday', 'Sunday']\n",
    "\n",
    "#li1.extend(li2)\n",
    "li1+=li2\n",
    "\n",
    "print \"After using extend\"\n",
    "print \"li1: \", li1\n",
    "print \"foo list:\", foo"
   ]
  },
  {
   "cell_type": "markdown",
   "metadata": {},
   "source": [
    "### Note: extend vs append\n",
    "\n",
    "`a.append(5)` increases the length of list `a` by one, putting the int 5 in the final slot\n",
    "\n",
    "`a.extend(b)` takes all of the elements in list `b` and adds them to the end of list `a`.  Here `b` must be another list"
   ]
  },
  {
   "cell_type": "markdown",
   "metadata": {},
   "source": [
    "What happens when we use append on two lists? \"append\" adds its argument to the end of the list as a single element... but what if that element is a list? "
   ]
  },
  {
   "cell_type": "code",
   "execution_count": 23,
   "metadata": {},
   "outputs": [
    {
     "name": "stdout",
     "output_type": "stream",
     "text": [
      "['Monday', 'Tuesday', 'Wednesday', 'Thursday', ['Friday', 'Saturday', 'Sunday']]\n"
     ]
    }
   ],
   "source": [
    "li1 = ['Monday', 'Tuesday', 'Wednesday', 'Thursday']\n",
    "li2 = ['Friday', 'Saturday', 'Sunday']\n",
    "li1.append(li2)\n",
    "print li1"
   ]
  },
  {
   "cell_type": "code",
   "execution_count": null,
   "metadata": {},
   "outputs": [],
   "source": [
    "Woah... list-ception! We just put a list in a list. "
   ]
  },
  {
   "cell_type": "code",
   "execution_count": 24,
   "metadata": {},
   "outputs": [
    {
     "name": "stdout",
     "output_type": "stream",
     "text": [
      "Monday\n",
      "Tuesday\n"
     ]
    }
   ],
   "source": [
    "print li1[0]\n",
    "print li1[1]"
   ]
  },
  {
   "cell_type": "code",
   "execution_count": 25,
   "metadata": {},
   "outputs": [
    {
     "name": "stdout",
     "output_type": "stream",
     "text": [
      "['Friday', 'Saturday', 'Sunday']\n"
     ]
    }
   ],
   "source": [
    "print li1[4]"
   ]
  },
  {
   "cell_type": "code",
   "execution_count": 26,
   "metadata": {},
   "outputs": [
    {
     "name": "stdout",
     "output_type": "stream",
     "text": [
      "li1:  ['one', 'two']\n",
      "li2:  ['three', 'four']\n",
      "li4:  ['one', 'two', 'three', 'four']\n"
     ]
    }
   ],
   "source": [
    "#combine two list by concatenation\n",
    "li1 = ['one', 'two']\n",
    "li2 = ['three', 'four']\n",
    "\n",
    "li4 = li1 + li2 # Note: This creates a NEW list, so we assign it to a variable\n",
    "\n",
    "print \"li1: \", li1\n",
    "print \"li2: \", li2\n",
    "print \"li4: \", li4"
   ]
  },
  {
   "cell_type": "markdown",
   "metadata": {},
   "source": [
    "## Other useful list methods\n",
    "You can find more documentation for python lists [here](https://docs.python.org/2/tutorial/datastructures.html)"
   ]
  },
  {
   "cell_type": "markdown",
   "metadata": {},
   "source": [
    "The above commands illustrate several of the most common ways to grow lists:\n",
    "\n",
    "1) The list method __append()__, which adds a single item to the end of a list\n",
    "\n",
    "2) The list method __extend()__, which adds a whole list to the end of the list you ask to extend itself\n",
    "\n",
    "3) The list concatenation operator, '+', which stitches two things together to make a new whole, without changing either original list.\n",
    "\n",
    "The __insert()__ method is another way to add to a list. This method takes two arguments (in order): an index to insert at, and the object to insert. You can also insert by slicing, something like this: __li[2:2] = [var_to_insert]__. The first one is somewhat clearer, so it might be preferred unless you have very particular reasons for doing the other one."
   ]
  },
  {
   "cell_type": "code",
   "execution_count": 29,
   "metadata": {},
   "outputs": [
    {
     "name": "stdout",
     "output_type": "stream",
     "text": [
      "Before Insert\n",
      "['Tuesday', 'Wednesday', 'Thursday', 'Friday']\n",
      "\n",
      "After Insert at index 1\n",
      "['Monday', 'Tuesday', 'Wednesday', 'Thursday', 'Friday']\n",
      "\n"
     ]
    }
   ],
   "source": [
    "#using insert\n",
    "li1 = ['Tuesday', 'Wednesday', 'Thursday', 'Friday']\n",
    "\n",
    "print 'Before Insert'\n",
    "print li1\n",
    "print\n",
    "\n",
    "li1.insert(0,'Monday')\n",
    "\n",
    "print 'After Insert at index 1'\n",
    "print li1\n",
    "print"
   ]
  },
  {
   "cell_type": "code",
   "execution_count": 30,
   "metadata": {},
   "outputs": [
    {
     "name": "stdout",
     "output_type": "stream",
     "text": [
      "['Monday', 'Tuesday', 'Wednesday', 'Wednesday afternoon', 'Thursday', 'Friday']\n"
     ]
    }
   ],
   "source": [
    "li1.insert(3,\"Wednesday afternoon\")\n",
    "print li1"
   ]
  },
  {
   "cell_type": "markdown",
   "metadata": {},
   "source": [
    "## Removing items from a list"
   ]
  },
  {
   "cell_type": "code",
   "execution_count": 31,
   "metadata": {},
   "outputs": [
    {
     "name": "stdout",
     "output_type": "stream",
     "text": [
      "['One', 'Ring', 'to', 'rule', 'them', 'all']\n",
      "After using del:\n",
      "['One', 'Ring', 'to', 'them', 'all']\n"
     ]
    }
   ],
   "source": [
    "#remove any item from the list with 'del'\n",
    "li= ['One','Ring','to','rule','them','all']\n",
    "print li\n",
    "\n",
    "del li[3]\n",
    "\n",
    "print 'After using del:'\n",
    "print li"
   ]
  },
  {
   "cell_type": "code",
   "execution_count": 32,
   "metadata": {},
   "outputs": [
    {
     "name": "stdout",
     "output_type": "stream",
     "text": [
      "Before pop\n",
      "['One', 'Ring', 'to', 'rule', 'them', 'all']\n",
      "After pop\n",
      "['One', 'Ring', 'to', 'rule', 'them']\n",
      "Thing we popped: all\n"
     ]
    }
   ],
   "source": [
    "#remove the last item from the list with pop\n",
    "li= ['One','Ring','to','rule','them','all']\n",
    "print 'Before pop'\n",
    "print li\n",
    "word=li.pop()\n",
    "print 'After pop'\n",
    "print li\n",
    "print \"Thing we popped:\", word"
   ]
  },
  {
   "cell_type": "markdown",
   "metadata": {},
   "source": [
    "Here, we are removing things from lists in two ways:\n",
    "\n",
    "1) The built-in function __del__ removes a particular item from the list. Not that unlike __pop()__, this is destructive, and does not return the deleted item.\n",
    "\n",
    "2) The list method __pop()__ removes the last item from the list and returns the variable.\n"
   ]
  },
  {
   "cell_type": "code",
   "execution_count": null,
   "metadata": {},
   "outputs": [],
   "source": [
    "# We can pop arbitrary elements, too!\n",
    "li= ['One','Ring','to','rule','them','all']\n",
    "print 'Before pop'\n",
    "print li\n",
    "word=li.pop(3)\n",
    "print 'After pop'\n",
    "print li\n",
    "print \"Thing we popped:\", word"
   ]
  },
  {
   "cell_type": "markdown",
   "metadata": {},
   "source": [
    "\n",
    "## Changing lists in place\n",
    "\n",
    "In addition to adding things to lists and taking them away again, we can also __change lists in place__."
   ]
  },
  {
   "cell_type": "code",
   "execution_count": 33,
   "metadata": {},
   "outputs": [
    {
     "name": "stdout",
     "output_type": "stream",
     "text": [
      "[0, 0, 0, 0]\n"
     ]
    }
   ],
   "source": [
    "#create list of zeros\n",
    "noLi = 4 * ([0])\n",
    "\n",
    "# This is equivalent to:\n",
    "#  noLi = [0] + [0] + [0] + [0]\n",
    "\n",
    "#  Once you understand how the addition operator works, the multiplication operator\n",
    "#  works in an analogous way.\n",
    "#  3*4 is the same as adding 3 to itself 4 times, so\n",
    "#  [3] * 4 is equivalent to adding the list [3] to itself 4 times.\n",
    "\n",
    "print noLi"
   ]
  },
  {
   "cell_type": "code",
   "execution_count": 34,
   "metadata": {},
   "outputs": [
    {
     "name": "stdout",
     "output_type": "stream",
     "text": [
      "[0, 20, 500, 10]\n"
     ]
    }
   ],
   "source": [
    "#modify items in list\n",
    "mice_brain = 10\n",
    "rat_brain = 20\n",
    "human_brain = 500\n",
    "\n",
    "noLi[1] = rat_brain\n",
    "noLi[2] = human_brain\n",
    "noLi[3] = mice_brain\n",
    "\n",
    "print noLi"
   ]
  },
  {
   "cell_type": "code",
   "execution_count": 35,
   "metadata": {},
   "outputs": [
    {
     "name": "stdout",
     "output_type": "stream",
     "text": [
      "sorted list!\n",
      "[0, 10, 20, 500]\n"
     ]
    }
   ],
   "source": [
    "#sort list\n",
    "print 'sorted list!'\n",
    "noLi.sort()\n",
    "print noLi"
   ]
  },
  {
   "cell_type": "code",
   "execution_count": 36,
   "metadata": {},
   "outputs": [
    {
     "name": "stdout",
     "output_type": "stream",
     "text": [
      "reverse the list\n",
      "[500, 20, 10, 0]\n"
     ]
    }
   ],
   "source": [
    "#reverse order\n",
    "print 'reverse the list'\n",
    "noLi.reverse()\n",
    "print noLi"
   ]
  },
  {
   "cell_type": "code",
   "execution_count": 37,
   "metadata": {},
   "outputs": [
    {
     "name": "stdout",
     "output_type": "stream",
     "text": [
      "sorted() vs .sort()\n",
      "original: [100, 20, 500, 10]\n",
      "Sorted: [10, 20, 100, 500]\n",
      "Original [10, 20, 100, 500]\n"
     ]
    }
   ],
   "source": [
    "# Sorting a list in place vs. returning a sorted value and leaving the original unsorted\n",
    "noLi = [100, 20, 500, 10]\n",
    "print 'sorted() vs .sort()'\n",
    "another_noLi = sorted(noLi)\n",
    "print \"original:\",noLi\n",
    "print \"Sorted:\",another_noLi\n",
    "noLi.sort()\n",
    "print \"Original\", noLi"
   ]
  },
  {
   "cell_type": "code",
   "execution_count": 38,
   "metadata": {},
   "outputs": [
    {
     "name": "stdout",
     "output_type": "stream",
     "text": [
      "['One', 'Ring', 'all', 'rule', 'them', 'to']\n"
     ]
    }
   ],
   "source": [
    "#sort string list\n",
    "li= ['One','Ring','to','rule','them','all']\n",
    "li.sort()\n",
    "\n",
    "print li\n",
    "# Why is it not sorting in alphabetical order?"
   ]
  },
  {
   "cell_type": "markdown",
   "metadata": {},
   "source": [
    "\n",
    "\n",
    "## Characterizing lists"
   ]
  },
  {
   "cell_type": "code",
   "execution_count": 39,
   "metadata": {
    "scrolled": true
   },
   "outputs": [
    {
     "name": "stdout",
     "output_type": "stream",
     "text": [
      "6\n"
     ]
    }
   ],
   "source": [
    "#figure out how long a list is with 'len'\n",
    "li= ['One','Ring','to','rule','them','all']\n",
    "print len(li)"
   ]
  },
  {
   "cell_type": "code",
   "execution_count": 40,
   "metadata": {},
   "outputs": [
    {
     "name": "stdout",
     "output_type": "stream",
     "text": [
      "4\n",
      "Max = 500\n",
      "Min = 0\n"
     ]
    }
   ],
   "source": [
    "# max and min - a lot like sum()!\n",
    "noLi = [0, 10, 20, 500]\n",
    "print len(noLi)\n",
    "print 'Max =', max(noLi)\n",
    "print 'Min =', min(noLi)"
   ]
  },
  {
   "cell_type": "code",
   "execution_count": 42,
   "metadata": {},
   "outputs": [
    {
     "ename": "ValueError",
     "evalue": "'rugle' is not in list",
     "output_type": "error",
     "traceback": [
      "\u001b[0;31m---------------------------------------------------------------------------\u001b[0m",
      "\u001b[0;31mValueError\u001b[0m                                Traceback (most recent call last)",
      "\u001b[0;32m<ipython-input-42-3bacd64a7c8d>\u001b[0m in \u001b[0;36m<module>\u001b[0;34m()\u001b[0m\n\u001b[1;32m      1\u001b[0m \u001b[0;31m#find where something is stored\u001b[0m\u001b[0;34m\u001b[0m\u001b[0;34m\u001b[0m\u001b[0m\n\u001b[1;32m      2\u001b[0m \u001b[0mli\u001b[0m\u001b[0;34m=\u001b[0m \u001b[0;34m[\u001b[0m\u001b[0;34m'One'\u001b[0m\u001b[0;34m,\u001b[0m\u001b[0;34m'Ring'\u001b[0m\u001b[0;34m,\u001b[0m\u001b[0;34m'to'\u001b[0m\u001b[0;34m,\u001b[0m\u001b[0;34m'rule'\u001b[0m\u001b[0;34m,\u001b[0m\u001b[0;34m'them'\u001b[0m\u001b[0;34m,\u001b[0m\u001b[0;34m'all'\u001b[0m\u001b[0;34m]\u001b[0m\u001b[0;34m\u001b[0m\u001b[0m\n\u001b[0;32m----> 3\u001b[0;31m \u001b[0midx\u001b[0m \u001b[0;34m=\u001b[0m \u001b[0mli\u001b[0m\u001b[0;34m.\u001b[0m\u001b[0mindex\u001b[0m\u001b[0;34m(\u001b[0m\u001b[0;34m'rugle'\u001b[0m\u001b[0;34m)\u001b[0m\u001b[0;34m\u001b[0m\u001b[0m\n\u001b[0m\u001b[1;32m      4\u001b[0m \u001b[0;32mprint\u001b[0m \u001b[0midx\u001b[0m\u001b[0;34m\u001b[0m\u001b[0m\n\u001b[1;32m      5\u001b[0m \u001b[0;32mprint\u001b[0m \u001b[0mli\u001b[0m\u001b[0;34m[\u001b[0m\u001b[0midx\u001b[0m\u001b[0;34m]\u001b[0m\u001b[0;34m\u001b[0m\u001b[0m\n",
      "\u001b[0;31mValueError\u001b[0m: 'rugle' is not in list"
     ]
    }
   ],
   "source": [
    "#find where something is stored\n",
    "li= ['One','Ring','to','rule','them','all']\n",
    "idx = li.index('rule')\n",
    "print idx\n",
    "print li[idx]"
   ]
  },
  {
   "cell_type": "markdown",
   "metadata": {},
   "source": [
    "Here, we have started to characterize our lists.\n",
    "\n",
    "1) The built-in functions __len()__, __max()__ and __min()__ tell us how many items are in the list and the maximum and minimum values in the list.\n",
    "\n",
    "2) The list method __index()__ tells us where an item is in the list.\n",
    "\n",
    "3) We can iterate over each item in the list and print it using the syntax __for x in mylist__:"
   ]
  },
  {
   "cell_type": "markdown",
   "metadata": {},
   "source": [
    "### Transforming/Filtering lists\n",
    "What if you wanted to change the list so that all the letters in the names of the months are in CAPS?"
   ]
  },
  {
   "cell_type": "code",
   "execution_count": 46,
   "metadata": {},
   "outputs": [
    {
     "name": "stdout",
     "output_type": "stream",
     "text": [
      "['January', 'Februajjjjjjry', 'March', 'April', 'May', 'June', 'July', 'August', 'September', 'October', 'November', 'December']\n"
     ]
    }
   ],
   "source": [
    "# One way to do this\n",
    "months = [\"January\", \"februaJJJJJJry\", \"March\", \"April\", \"May\", \"June\", \"July\", \"August\", \"September\", \"October\", \"November\", \"December\"]\n",
    "\n",
    "caps_months = [];\n",
    "for month in months:\n",
    "    caps_months.append(month.capitalize())  # Remember, if you have a string, then the '.upper()' method will return an all-caps version\n",
    "    \n",
    "print caps_months"
   ]
  },
  {
   "cell_type": "code",
   "execution_count": 48,
   "metadata": {},
   "outputs": [
    {
     "name": "stdout",
     "output_type": "stream",
     "text": [
      "['JANUARY', 'JUNE', 'JULY']\n"
     ]
    }
   ],
   "source": [
    "# Another example - create a list of upper-case month names that start with the letter 'J'\n",
    "months = [\"January\", \"februaJJJJJJry\", \"March\", \"April\", \"May\", \"June\", \"July\", \"August\", \"September\", \"October\", \"November\", \"December\"]\n",
    "\n",
    "j_months = [];\n",
    "for month in months:\n",
    "    if month[0] == 'J':\n",
    "        j_months.append(month.upper())\n",
    "        \n",
    "print j_months\n"
   ]
  },
  {
   "cell_type": "markdown",
   "metadata": {},
   "source": [
    "# Tuples\n",
    "\n",
    "A tuple is essentially a list that you can not change. You can index, slice them and add them together to make new tuples but not use __sort()__, __reverse()__, delete or remove items from them. If you ever have a tuple that you want to change, you have to turn it into a list.\n"
   ]
  },
  {
   "cell_type": "code",
   "execution_count": 49,
   "metadata": {},
   "outputs": [
    {
     "name": "stdout",
     "output_type": "stream",
     "text": [
      "['January', 'February', 'March', 'April', 'May', 'June', 'July', 'August', 'September', 'October', 'November', 'December']\n",
      "('January', 'February', 'March', 'April', 'May', 'June', 'July', 'August', 'September', 'October', 'November', 'December')\n"
     ]
    }
   ],
   "source": [
    "months_list = [\"January\", \"February\", \"March\",\n",
    "         \"April\", \"May\", \"June\", \"July\",\n",
    "         \"August\", \"September\", \"October\",\n",
    "         \"November\", \"December\"]\n",
    "\n",
    "months_tuple = (\"January\", \"February\", \"March\",\n",
    "         \"April\", \"May\", \"June\", \"July\",\n",
    "         \"August\", \"September\", \"October\",\n",
    "         \"November\", \"December\")\n",
    "\n",
    "print months_list\n",
    "print months_tuple"
   ]
  },
  {
   "cell_type": "code",
   "execution_count": 50,
   "metadata": {},
   "outputs": [
    {
     "name": "stdout",
     "output_type": "stream",
     "text": [
      "<type 'list'>\n",
      "<type 'tuple'>\n",
      "December\n"
     ]
    },
    {
     "ename": "AttributeError",
     "evalue": "'tuple' object has no attribute 'pop'",
     "output_type": "error",
     "traceback": [
      "\u001b[0;31m---------------------------------------------------------------------------\u001b[0m",
      "\u001b[0;31mAttributeError\u001b[0m                            Traceback (most recent call last)",
      "\u001b[0;32m<ipython-input-50-f29560cf0607>\u001b[0m in \u001b[0;36m<module>\u001b[0;34m()\u001b[0m\n\u001b[1;32m      2\u001b[0m \u001b[0;32mprint\u001b[0m \u001b[0mtype\u001b[0m\u001b[0;34m(\u001b[0m\u001b[0mmonths_tuple\u001b[0m\u001b[0;34m)\u001b[0m\u001b[0;34m\u001b[0m\u001b[0m\n\u001b[1;32m      3\u001b[0m \u001b[0;32mprint\u001b[0m \u001b[0mmonths_list\u001b[0m\u001b[0;34m.\u001b[0m\u001b[0mpop\u001b[0m\u001b[0;34m(\u001b[0m\u001b[0;34m)\u001b[0m\u001b[0;34m\u001b[0m\u001b[0m\n\u001b[0;32m----> 4\u001b[0;31m \u001b[0;32mprint\u001b[0m \u001b[0mmonths_tuple\u001b[0m\u001b[0;34m.\u001b[0m\u001b[0mpop\u001b[0m\u001b[0;34m(\u001b[0m\u001b[0;34m)\u001b[0m\u001b[0;34m\u001b[0m\u001b[0m\n\u001b[0m",
      "\u001b[0;31mAttributeError\u001b[0m: 'tuple' object has no attribute 'pop'"
     ]
    }
   ],
   "source": [
    "print type(months_list)\n",
    "print type(months_tuple)\n",
    "print months_list.pop()\n",
    "print months_tuple.pop()"
   ]
  },
  {
   "cell_type": "code",
   "execution_count": 51,
   "metadata": {},
   "outputs": [
    {
     "name": "stdout",
     "output_type": "stream",
     "text": [
      "<type 'tuple'>\n",
      "\n",
      "('chrII', '378445')\n",
      "chrII\n"
     ]
    }
   ],
   "source": [
    "SNP = ('chrII', '378445')\n",
    "print type(SNP)\n",
    "print\n",
    "print SNP\n",
    "print SNP[0]"
   ]
  },
  {
   "cell_type": "code",
   "execution_count": null,
   "metadata": {},
   "outputs": [],
   "source": [
    "# Tuples"
   ]
  },
  {
   "cell_type": "code",
   "execution_count": 52,
   "metadata": {},
   "outputs": [
    {
     "ename": "TypeError",
     "evalue": "'tuple' object does not support item assignment",
     "output_type": "error",
     "traceback": [
      "\u001b[0;31m---------------------------------------------------------------------------\u001b[0m",
      "\u001b[0;31mTypeError\u001b[0m                                 Traceback (most recent call last)",
      "\u001b[0;32m<ipython-input-52-a2ed57acabc3>\u001b[0m in \u001b[0;36m<module>\u001b[0;34m()\u001b[0m\n\u001b[1;32m      1\u001b[0m \u001b[0;31m#Let's see if python will let us change the SNP tuple:\u001b[0m\u001b[0;34m\u001b[0m\u001b[0;34m\u001b[0m\u001b[0m\n\u001b[0;32m----> 2\u001b[0;31m \u001b[0mSNP\u001b[0m\u001b[0;34m[\u001b[0m\u001b[0;36m0\u001b[0m\u001b[0;34m]\u001b[0m \u001b[0;34m=\u001b[0m \u001b[0;34m'chrV'\u001b[0m\u001b[0;34m\u001b[0m\u001b[0m\n\u001b[0m\u001b[1;32m      3\u001b[0m \u001b[0;32mprint\u001b[0m \u001b[0mSNP\u001b[0m\u001b[0;34m\u001b[0m\u001b[0m\n",
      "\u001b[0;31mTypeError\u001b[0m: 'tuple' object does not support item assignment"
     ]
    }
   ],
   "source": [
    "#Let's see if python will let us change the SNP tuple:\n",
    "SNP[0] = 'chrV'\n",
    "print SNP"
   ]
  },
  {
   "cell_type": "code",
   "execution_count": 53,
   "metadata": {},
   "outputs": [
    {
     "name": "stdout",
     "output_type": "stream",
     "text": [
      "<type 'list'>\n",
      "['chrV', '378445']\n"
     ]
    }
   ],
   "source": [
    "#What if we first coerce the tuple to a list?\n",
    "SNP = list(SNP)\n",
    "print type(SNP)\n",
    "SNP[0] = 'chrV'\n",
    "print SNP"
   ]
  },
  {
   "cell_type": "markdown",
   "metadata": {},
   "source": [
    "### enumerate\n",
    "\n",
    "This brings us to a nice trick - enumerate. What if we want access to the index (position in the list) for each item in a list (or tuple, for that matter)?"
   ]
  },
  {
   "cell_type": "code",
   "execution_count": 54,
   "metadata": {},
   "outputs": [
    {
     "name": "stdout",
     "output_type": "stream",
     "text": [
      "1 January\n",
      "2 February\n",
      "3 March\n",
      "4 April\n",
      "5 May\n",
      "6 June\n",
      "7 July\n",
      "8 August\n",
      "9 September\n",
      "10 October\n",
      "11 November\n",
      "12 December\n"
     ]
    }
   ],
   "source": [
    "# This works, but it's kinda clunky...\n",
    "months_list = [\"January\", \"February\", \"March\",\n",
    "         \"April\", \"May\", \"June\", \"July\",\n",
    "         \"August\", \"September\", \"October\",\n",
    "         \"November\", \"December\"]\n",
    "for i in range(len(months_list)):\n",
    "    print i+1, months_list[i]"
   ]
  },
  {
   "cell_type": "markdown",
   "metadata": {},
   "source": [
    "The **enumerate** function lets you loop over both at once - with the magic of next() and tuples!"
   ]
  },
  {
   "cell_type": "code",
   "execution_count": 56,
   "metadata": {},
   "outputs": [
    {
     "name": "stdout",
     "output_type": "stream",
     "text": [
      "<enumerate object at 0x1080f3140>\n",
      "<type 'enumerate'>\n",
      "(0, 'January')\n",
      "(1, 'February')\n",
      "(2, 'March')\n",
      "<type 'tuple'>\n"
     ]
    }
   ],
   "source": [
    "# Let's play with enumerate....\n",
    "months_list = [\"January\", \"February\", \"March\",\n",
    "         \"April\", \"May\", \"June\", \"July\",\n",
    "         \"August\", \"September\", \"October\",\n",
    "         \"November\", \"December\"]\n",
    "\n",
    "my_iterable = enumerate(months_list)\n",
    "print (enumerate(months_list))\n",
    "print type(my_iterable)\n",
    "\n",
    "my_next = my_iterable.next()\n",
    "print my_next\n",
    "\n",
    "my_next = my_iterable.next()\n",
    "print my_next\n",
    "\n",
    "my_next = my_iterable.next()\n",
    "print my_next\n",
    "\n",
    "\n",
    "print type(my_next)"
   ]
  },
  {
   "cell_type": "code",
   "execution_count": 3,
   "metadata": {},
   "outputs": [
    {
     "name": "stdout",
     "output_type": "stream",
     "text": [
      "[(3, 'April'), (4, 'May'), (5, 'June'), (6, 'July'), (7, 'August'), (8, 'September'), (9, 'October'), (10, 'November'), (11, 'December')]\n"
     ]
    }
   ],
   "source": [
    " print list(my_iterable)"
   ]
  },
  {
   "cell_type": "markdown",
   "metadata": {},
   "source": [
    "Let's use it in a loop!"
   ]
  },
  {
   "cell_type": "code",
   "execution_count": 55,
   "metadata": {},
   "outputs": [
    {
     "name": "stdout",
     "output_type": "stream",
     "text": [
      "index: 0 Value: January\n",
      "index: 1 Value: February\n",
      "index: 2 Value: March\n",
      "index: 3 Value: April\n",
      "index: 4 Value: May\n",
      "index: 5 Value: June\n",
      "index: 6 Value: July\n",
      "index: 7 Value: August\n",
      "index: 8 Value: September\n",
      "index: 9 Value: October\n",
      "index: 10 Value: November\n",
      "index: 11 Value: December\n"
     ]
    }
   ],
   "source": [
    "for my_index, my_val in enumerate(months_list):\n",
    "    print \"index:\", my_index, \"Value:\",my_val"
   ]
  },
  {
   "cell_type": "markdown",
   "metadata": {},
   "source": [
    "## So...what's the point of a Tuple then?\n",
    "\n",
    "Tuples, as other immutable objects, are lighter than lists. Using tuples allow programmers to optimize their code. \n",
    "\n",
    "They are also sometimes required as input; we'll look at a case of that when we talk about dictionaries."
   ]
  },
  {
   "cell_type": "code",
   "execution_count": 57,
   "metadata": {},
   "outputs": [
    {
     "name": "stdout",
     "output_type": "stream",
     "text": [
      "list time:  0.941941022873\n",
      "tuple time:  0.214615106583\n"
     ]
    }
   ],
   "source": [
    "import timeit\n",
    "# Create 10 million lists\n",
    "print 'list time: ', timeit.timeit(\"['Bach', 'Beethoven', 'Mozart']\", number=10000000)\n",
    "\n",
    "# Create 10 million tuples\n",
    "print 'tuple time: ', timeit.timeit(\"('Bach', 'Beethoven', 'Mozart')\", number=10000000)\n",
    "\n"
   ]
  },
  {
   "cell_type": "markdown",
   "metadata": {},
   "source": [
    "Just creating a tuple is substantially faster than creating a list!\n",
    "\n",
    "Most of the time, you'll just use a list.  However, you need to be aware of tuples because they are commonly to store (or, when we look at functions) return multiple values from a block of code."
   ]
  },
  {
   "cell_type": "code",
   "execution_count": null,
   "metadata": {},
   "outputs": [],
   "source": [
    "\n",
    "\n",
    "numeric_list =[34, 4, 54, 103, 6]\n",
    "min_val = min(numeric_list)\n",
    "max_val = max(numeric_list)\n",
    "results = max_val, min_val\n",
    "\n",
    "\n",
    "# What exactly is results?\n",
    "print type(results)\n",
    "\n",
    "print results[0]\n",
    "print results[1]"
   ]
  },
  {
   "cell_type": "code",
   "execution_count": 59,
   "metadata": {},
   "outputs": [
    {
     "name": "stdout",
     "output_type": "stream",
     "text": [
      "Too many commas: (1, 2, 3)\n",
      "No, really.. too many: (1, 2, 3) It's confusing!\n"
     ]
    }
   ],
   "source": [
    "# Comma is \"overloaded\"...\n",
    "my_tuple = 1,2,3\n",
    "print \"Too many commas:\", my_tuple \n",
    "\n",
    "print \"No, really.. too many:\",\n",
    "print my_tuple,\n",
    "print \"It's confusing!\""
   ]
  },
  {
   "cell_type": "code",
   "execution_count": 60,
   "metadata": {},
   "outputs": [
    {
     "ename": "NameError",
     "evalue": "name 'maxmin' is not defined",
     "output_type": "error",
     "traceback": [
      "\u001b[0;31m---------------------------------------------------------------------------\u001b[0m",
      "\u001b[0;31mNameError\u001b[0m                                 Traceback (most recent call last)",
      "\u001b[0;32m<ipython-input-60-061718b7a0e2>\u001b[0m in \u001b[0;36m<module>\u001b[0;34m()\u001b[0m\n\u001b[1;32m      1\u001b[0m \u001b[0;31m# However, even then you don't need to work with the tuple directly usually\u001b[0m\u001b[0;34m\u001b[0m\u001b[0;34m\u001b[0m\u001b[0m\n\u001b[1;32m      2\u001b[0m \u001b[0;34m\u001b[0m\u001b[0m\n\u001b[0;32m----> 3\u001b[0;31m \u001b[0mlargest\u001b[0m\u001b[0;34m,\u001b[0m \u001b[0msmallest\u001b[0m \u001b[0;34m=\u001b[0m \u001b[0mmaxmin\u001b[0m\u001b[0;34m(\u001b[0m\u001b[0;34m[\u001b[0m\u001b[0;36m34\u001b[0m\u001b[0;34m,\u001b[0m \u001b[0;36m4\u001b[0m\u001b[0;34m,\u001b[0m \u001b[0;36m54\u001b[0m\u001b[0;34m,\u001b[0m \u001b[0;36m103\u001b[0m\u001b[0;34m,\u001b[0m \u001b[0;36m6\u001b[0m\u001b[0;34m]\u001b[0m\u001b[0;34m)\u001b[0m\u001b[0;34m\u001b[0m\u001b[0m\n\u001b[0m\u001b[1;32m      4\u001b[0m \u001b[0;32mprint\u001b[0m \u001b[0mlargest\u001b[0m\u001b[0;34m\u001b[0m\u001b[0m\n\u001b[1;32m      5\u001b[0m \u001b[0;32mprint\u001b[0m \u001b[0msmallest\u001b[0m\u001b[0;34m\u001b[0m\u001b[0m\n",
      "\u001b[0;31mNameError\u001b[0m: name 'maxmin' is not defined"
     ]
    }
   ],
   "source": [
    "# However, even then you don't need to work with the tuple directly usually\n",
    "\n",
    "largest, smallest = maxmin([34, 4, 54, 103, 6])\n",
    "print largest\n",
    "print smallest"
   ]
  },
  {
   "cell_type": "markdown",
   "metadata": {},
   "source": [
    "## Using a list as a queue or a stack..\n",
    "\n",
    "This looks simple, initially, but there's a lot of hidden complexity here. We'll explore these implications in detail in later subjects.\n",
    "\n",
    "We have several ways to add and remove items from a list. Why so many? Well, let's look at a couple cases.\n",
    "\n",
    "We can use a list as a queue, otherwise known as \"Fist-in First-out\" or \"FiFo\":"
   ]
  },
  {
   "cell_type": "code",
   "execution_count": 62,
   "metadata": {},
   "outputs": [
    {
     "name": "stdout",
     "output_type": "stream",
     "text": [
      "['first', 'second', 'third']\n",
      "First element: first\n",
      "['second', 'third']\n",
      "Second element: second\n",
      "['third']\n",
      "Third element: third\n",
      "[]\n"
     ]
    }
   ],
   "source": [
    "my_queue=[] # Aha! an empty queue!\n",
    "my_queue.append(\"first\")\n",
    "my_queue.append(\"second\")\n",
    "my_queue.append(\"third\")\n",
    "print my_queue\n",
    "print \"First element:\", my_queue.pop(0)\n",
    "print my_queue\n",
    "print \"Second element:\", my_queue.pop(0)\n",
    "print my_queue\n",
    "print \"Third element:\", my_queue.pop(0)\n",
    "print my_queue"
   ]
  },
  {
   "cell_type": "markdown",
   "metadata": {},
   "source": [
    "Or, we can use a list as a \"Stack\", or \"Last in, first out\", AKA: \"Lifo\"\n",
    "![stack](stack.png)"
   ]
  },
  {
   "cell_type": "code",
   "execution_count": 63,
   "metadata": {},
   "outputs": [
    {
     "name": "stdout",
     "output_type": "stream",
     "text": [
      "['first', 'second', 'third']\n",
      "Third element: third\n",
      "Second element: second\n",
      "First element: first\n"
     ]
    }
   ],
   "source": [
    "my_queue=[] # Aha! an empty queue!\n",
    "my_queue.append(\"first\")\n",
    "my_queue.append(\"second\")\n",
    "my_queue.append(\"third\")\n",
    "print my_queue\n",
    "print \"Third element:\", my_queue.pop()\n",
    "print \"Second element:\", my_queue.pop()\n",
    "print \"First element:\", my_queue.pop()"
   ]
  },
  {
   "cell_type": "markdown",
   "metadata": {},
   "source": [
    "Queues seem straightforward. But why stacks? A good real world example of a stack is your \"undo\" function."
   ]
  },
  {
   "cell_type": "markdown",
   "metadata": {},
   "source": [
    "# Summary So Far...\n",
    "\n",
    "__Lists are:__\n",
    "\n",
    "1) ordered collections of arbitrary variables.\n",
    "\n",
    "2) accessible by slicing.\n",
    "\n",
    "3) can be grown or shrunk in place.\n",
    "\n",
    "4) mutable (can be changed in place).\n",
    "\n",
    "5) defined with list = [X,Y]\n",
    "\n",
    "List methods include: \n",
    "\n",
    "__append(x)__: Add 'x' to the end of the list  \n",
    "__extend(Z)__: Add the contents of list 'Z' to the end of the list  \n",
    "__insert(x)__: Add item 'x' to the start of the list (or to a specified position)  \n",
    "__pop()__: Remove an item from the end of the list  \n",
    "__reverse()__: Reverse the list (in-place)  \n",
    "__index(x)__: Find the location (index) of x in the list  \n",
    "__sort()__: Sort the list (in-place)  \n",
    "\n",
    "Built in functions include: \n",
    "\n",
    "__sorted(Z)__:  Get a sorted copy of 'Z' (doesn't modify Z itself)  \n",
    "__len__:  Get the number of items in the list (i.e., its length)  \n",
    "__max__:  Get the maximum of all list items  \n",
    "__min__:  Get the minimum of all list items  \n",
    "__type__: Get the type of a python variable  \n",
    "\n",
    "Questions?"
   ]
  },
  {
   "cell_type": "markdown",
   "metadata": {},
   "source": [
    "## Advanced Type:  List of Lists\n",
    "\n",
    "Let's first start by making a couple of lists."
   ]
  },
  {
   "cell_type": "code",
   "execution_count": null,
   "metadata": {},
   "outputs": [],
   "source": [
    "# Things related to research\n",
    "time_wasters = ['facebook', 'xanga', '9gag', 'reddit'] # instead of working, this is what we do\n",
    "lab_space = ['wet lab', 'cold room', 'shared space'] # potentially where we waste time\n",
    "\n",
    "print 'time_wasters:', time_wasters\n",
    "print 'lab_space:', lab_space"
   ]
  },
  {
   "cell_type": "markdown",
   "metadata": {},
   "source": [
    "Incidentally, making a list of lists is fairly simple -- we can just create a new list variable and fill it with lists that we've already defined. Another way would be to manually input everything ourselves."
   ]
  },
  {
   "cell_type": "code",
   "execution_count": null,
   "metadata": {
    "scrolled": true
   },
   "outputs": [],
   "source": [
    "research = [time_wasters, lab_space]\n",
    "\n",
    "# time_wasters and lab_space are both lists already?  So what's in research now?\n",
    "\n",
    "print research"
   ]
  },
  {
   "cell_type": "code",
   "execution_count": null,
   "metadata": {},
   "outputs": [],
   "source": [
    "print 'Number of items in `research`', len(research)\n",
    "print type(research[0])\n",
    "print type(research[1])"
   ]
  },
  {
   "cell_type": "code",
   "execution_count": null,
   "metadata": {},
   "outputs": [],
   "source": [
    "# Or you could define a list of lists all in one statement\n",
    "\n",
    "research = [\n",
    "    ['facebook', 'xanga', '9gag', 'reddit'],\n",
    "    ['wet lab', 'cold room', 'shared space'],\n",
    "]\n",
    "# each list within the main list is contained in its own square brackets\n",
    "print research"
   ]
  },
  {
   "cell_type": "markdown",
   "metadata": {},
   "source": [
    "## Retrieving Elements in List of Lists\n",
    "Getting elements in a list of lists is similar to getting elements in a list. The difference is that we add another index. Let's first see what happens when we try to retrieve the first and second elements of \"research\"."
   ]
  },
  {
   "cell_type": "code",
   "execution_count": null,
   "metadata": {},
   "outputs": [],
   "source": [
    "# Let's get the first list in research\n",
    "List_a = research[0]\n",
    "List_b = research[1]\n",
    "\n",
    "print 'List_a has ', List_a\n",
    "print 'List_b has ', List_b"
   ]
  },
  {
   "cell_type": "markdown",
   "metadata": {},
   "source": [
    "Let's now try to retrieve '9gag' and 'cold room' from each list. The natural way, now that we have 2 different lists is simply to index them, but it can be a pain if you have a lot of lists nested within a list. We can use to sets of indexing instead."
   ]
  },
  {
   "cell_type": "code",
   "execution_count": null,
   "metadata": {},
   "outputs": [],
   "source": [
    "# Long way\n",
    "# Print the 3rd item OF the first list\n",
    "List_a = research[0]\n",
    "print(List_a[2])\n",
    "\n",
    "# Print the 2nd item OF the second list\n",
    "List_b = research[1]\n",
    "print(List_b[1])\n"
   ]
  },
  {
   "cell_type": "code",
   "execution_count": null,
   "metadata": {},
   "outputs": [],
   "source": [
    "# Faster way without creating new variables for each nested list\n",
    "a = (research[0])[2]\n",
    "b = research[1][1]\n",
    "\n",
    "print a\n",
    "print b"
   ]
  },
  {
   "cell_type": "markdown",
   "metadata": {},
   "source": [
    "This works for as many nested lists you have; just keep using as many indices until you get what you want"
   ]
  },
  {
   "cell_type": "code",
   "execution_count": null,
   "metadata": {},
   "outputs": [],
   "source": [
    "# E.g.\n",
    "\n",
    "big_list = [\n",
    "    [\n",
    "        [1,2,3],\n",
    "        [6,5,4],\n",
    "        [7,8,2]\n",
    "    ],\n",
    "    [\n",
    "        [11,12,13],\n",
    "        [15,15,15],\n",
    "        [83,94,19]\n",
    "    ]\n",
    "]\n",
    "print big_list\n",
    "print big_list[1][2][0]"
   ]
  },
  {
   "cell_type": "markdown",
   "metadata": {},
   "source": [
    "There's nothing special about lists of lists. We can have lists of anything, including lists, or lists of lists, or lists of lists of lists or...."
   ]
  },
  {
   "cell_type": "code",
   "execution_count": null,
   "metadata": {},
   "outputs": [],
   "source": [
    "innermost_list = ['a','b']\n",
    "outside_list = [innermost_list,innermost_list]\n",
    "space_list = [outside_list,innermost_list]\n",
    "print space_list\n",
    "print space_list[0][1][0]"
   ]
  },
  {
   "cell_type": "markdown",
   "metadata": {},
   "source": [
    "## Operations on Nested Lists\n",
    "Like regular lists, all other list operations still work. Let's add a list of hangout places to *research*."
   ]
  },
  {
   "cell_type": "code",
   "execution_count": null,
   "metadata": {},
   "outputs": [],
   "source": [
    "# Make a list of hangouts\n",
    "time_wasters = ['facebook', 'xanga', '9gag', 'reddit']\n",
    "lab_space = ['wet lab', 'cold room', 'shared space']\n",
    "research = [time_wasters, lab_space]\n",
    "\n",
    "hangout = ['Jupiter','Gardens','SF']\n",
    "research.append(hangout) # research should now have a sublist of hangouts\n",
    "\n",
    "print research\n",
    "print \"Number of items in research:\", len(research)"
   ]
  },
  {
   "cell_type": "markdown",
   "metadata": {},
   "source": [
    "What happens if you modify the *hangout* sublist under *research*?"
   ]
  },
  {
   "cell_type": "code",
   "execution_count": null,
   "metadata": {},
   "outputs": [],
   "source": [
    "# Add Starbucks to the hangout sublist under research\n",
    "hangout.append('Starbucks')\n",
    "\n",
    "print research[2]\n",
    "print hangout"
   ]
  },
  {
   "cell_type": "markdown",
   "metadata": {},
   "source": [
    "Notice how there's a change in hangout as well? That's because the 2 lists are the same exact one, just in 2 different locations. If this is a problem, simply copy of the elements of the *hangout* list to add to *research*."
   ]
  },
  {
   "cell_type": "code",
   "execution_count": null,
   "metadata": {},
   "outputs": [],
   "source": [
    "# Using a copy of 'hangout' instead - Method 1\n",
    "# Reinitialize the original research list\n",
    "time_wasters = ['facebook', 'xanga', '9gag', 'reddit']\n",
    "lab_space = ['wet lab', 'cold room', 'shared space']\n",
    "research = [time_wasters, lab_space]\n",
    "\n",
    "research.append([]) # add a new empty list ot be filled\n",
    "research[2].append(hangout[0]) # start adding stuff from hangout list\n",
    "research[2].append(hangout[1])\n",
    "research[2].append(hangout[2])\n",
    "research[2].append('Peets') # add a new thing - this ISNT added to hangouts since we created a new list\n",
    "print hangout\n",
    "print research[2] # Now they're different!"
   ]
  },
  {
   "cell_type": "code",
   "execution_count": null,
   "metadata": {},
   "outputs": [],
   "source": [
    "time_wasters = ['facebook', 'xanga', '9gag', 'reddit']\n",
    "lab_space = ['wet lab', 'cold room', 'shared space']\n",
    "research = [time_wasters, lab_space]\n",
    "\n",
    "# Method 2\n",
    "research.append(hangout[:])  # Using [:] makes a copy\n",
    "research[2].append('Peets')\n",
    "print hangout\n",
    "print research[2]"
   ]
  },
  {
   "cell_type": "markdown",
   "metadata": {},
   "source": [
    "In this case, we modified *research* without altering *hangout*.\n",
    "\n",
    "*PythonTutor.com example*"
   ]
  },
  {
   "cell_type": "markdown",
   "metadata": {},
   "source": [
    "## Nested Loops\n",
    "As implied, these are simply loops within loops. First, let's make two lists that we want to work with."
   ]
  },
  {
   "cell_type": "code",
   "execution_count": null,
   "metadata": {},
   "outputs": [],
   "source": [
    "# Create two lists of letters and numbers\n",
    "letters = ['a','b','c','d']\n",
    "numbers = [1,2,3,4]"
   ]
  },
  {
   "cell_type": "markdown",
   "metadata": {},
   "source": [
    "Then we make a function that will create each pairwise combination of letters and numbers"
   ]
  },
  {
   "cell_type": "code",
   "execution_count": null,
   "metadata": {},
   "outputs": [],
   "source": [
    "def combo(list_a, list_b):\n",
    "    for i in list_a:      # 'i' holds the item in list_a\n",
    "        for j in list_b:  # 'j' holds the item in list_b\n",
    "            print i, j\n",
    "            \n",
    "combo(letters, numbers)"
   ]
  },
  {
   "cell_type": "markdown",
   "metadata": {},
   "source": [
    "In this case, changing the order of the lists simply changes the order in which it prints. It's up to you how you want your data to look."
   ]
  },
  {
   "cell_type": "code",
   "execution_count": null,
   "metadata": {},
   "outputs": [],
   "source": [
    "combo(numbers, letters)"
   ]
  },
  {
   "cell_type": "markdown",
   "metadata": {},
   "source": [
    "Another example..."
   ]
  },
  {
   "cell_type": "code",
   "execution_count": null,
   "metadata": {},
   "outputs": [],
   "source": [
    "# reinitialize research\n",
    "time_wasters = ['facebook', 'xanga', '9gag', 'reddit']\n",
    "lab_space = ['wet lab', 'cold room', 'shared space']\n",
    "research = [time_wasters, lab_space]\n",
    "\n",
    "for i in research[0]:\n",
    "    for j in research[1]:\n",
    "        print 'procrastinate with {} in the {}' .format(i, j)\n",
    "            "
   ]
  }
 ],
 "metadata": {
  "anaconda-cloud": {},
  "kernelspec": {
   "display_name": "Python 2",
   "language": "python",
   "name": "python2"
  },
  "language_info": {
   "codemirror_mode": {
    "name": "ipython",
    "version": 2
   },
   "file_extension": ".py",
   "mimetype": "text/x-python",
   "name": "python",
   "nbconvert_exporter": "python",
   "pygments_lexer": "ipython2",
   "version": "2.7.13"
  }
 },
 "nbformat": 4,
 "nbformat_minor": 1
}
