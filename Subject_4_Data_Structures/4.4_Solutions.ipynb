{
 "cells": [
  {
   "cell_type": "markdown",
   "metadata": {},
   "source": [
    "## Problem 2 - Fun with numbers"
   ]
  },
  {
   "cell_type": "code",
   "execution_count": null,
   "metadata": {},
   "outputs": [],
   "source": [
    "##Exercise 2##\n",
    "## 2A\n",
    "\n",
    "# One way to do it\n",
    "listA=[1, 2, 3, 4, 5]\n",
    "listB = [5, 6, 7, 8, 9]\n",
    "listC = []\n",
    "for i in range(len(listA)):\n",
    "    listC.append(listA[i] * listB[i])\n",
    "    \n",
    "print listC\n",
    "\n",
    "# Another way\n",
    "listC = []\n",
    "for a,b in zip(listA, listB):\n",
    "    listC.append(a*b)\n",
    "print listC   \n",
    "\n",
    " "
   ]
  },
  {
   "cell_type": "code",
   "execution_count": null,
   "metadata": {},
   "outputs": [],
   "source": [
    "## 2B\n",
    "# Uncomment each to test with different values\n",
    "myList = [3, 53, 57, 23, 41]\n",
    "#myList = [5, 10, 20, 30, 40, 50]\n",
    "\n",
    "sortedList = myList[:] # Median shouldn't also sort our input list\n",
    "sortedList.sort()\n",
    "N = len(sortedList)\n",
    "if(N % 2 == 1):\n",
    "    print sortedList[(N-1)/2]\n",
    "else:\n",
    "    left = sortedList[(N/2)-1]\n",
    "    right = sortedList[(N/2)]\n",
    "    print (left+right)/2\n",
    "\n",
    "\n"
   ]
  },
  {
   "cell_type": "code",
   "execution_count": null,
   "metadata": {},
   "outputs": [],
   "source": [
    "## 2C\n",
    "input_list = [1, 2, 3, 4, 5, 6, 7, 8]\n",
    "lower_bound = 2\n",
    "upper_bound = 6\n",
    "\n",
    "# ------ solution 1 \n",
    "out_list = []\n",
    "    \n",
    "for number in input_list:\n",
    "    if number >= lower_bound and number <= upper_bound:\n",
    "        out_list.append(number)\n",
    "\n",
    "print out_list"
   ]
  },
  {
   "cell_type": "markdown",
   "metadata": {},
   "source": [
    "## Problem 3 - A list of lists"
   ]
  },
  {
   "cell_type": "code",
   "execution_count": null,
   "metadata": {},
   "outputs": [],
   "source": [
    "## 3A\n",
    " \n",
    "experiment = []\n",
    "run1 = [2,3,5,5]\n",
    "run2 = [2,2,4,5]\n",
    "run3 = [3,3,4,6]\n",
    "\n",
    "experiment.append(run1)\n",
    "experiment.append(run2)\n",
    "experiment.append(run3)\n",
    "\n",
    "print experiment"
   ]
  },
  {
   "cell_type": "code",
   "execution_count": null,
   "metadata": {},
   "outputs": [],
   "source": [
    "## 3B\n",
    "\n",
    "run1 = [2,3,5,5]\n",
    "run2 = [2,2,4,5]\n",
    "run3 = [3,3,4,6]\n",
    "runList = [run1,run2,run3]\n",
    "\n",
    "# This function assumes that the list of runs is in order\n",
    "\n",
    "runNumber = 0\n",
    "for runs in runList:\n",
    "    runNumber += 1\n",
    "    minimum = min(runs)\n",
    "    avg     = float(sum(runs))/float(len(runs))\n",
    "    maximum = max(runs)\n",
    "\n",
    "    print '{}\\t{}\\t{}\\t{}' .format(runNumber, minimum, avg, maximum)\n",
    "        \n"
   ]
  },
  {
   "cell_type": "markdown",
   "metadata": {},
   "source": [
    "## Problem 4 - list transpose"
   ]
  },
  {
   "cell_type": "code",
   "execution_count": null,
   "metadata": {},
   "outputs": [],
   "source": [
    "## 4\n",
    "input_list = [\n",
    "    [1, 2, 3, 4],\n",
    "    [5, 6, 7, 8]\n",
    "]\n",
    "nrows = len(input_list)\n",
    "ncols = len(input_list[0]) # We're assuming every row has the same number of columns\n",
    "\n",
    "output_list = []\n",
    "for i in range(ncols):\n",
    "\n",
    "    new_row = [] # create an empty list for each new row\n",
    "\n",
    "    for j in range(nrows):\n",
    "        new_row.append(input_list[j][i])\n",
    "\n",
    "    output_list.append(new_row) # add the row to our output list\n",
    "\n",
    "print output_list\n",
    "    \n"
   ]
  },
  {
   "cell_type": "markdown",
   "metadata": {},
   "source": [
    "# Dictionaries"
   ]
  },
  {
   "cell_type": "code",
   "execution_count": null,
   "metadata": {},
   "outputs": [],
   "source": [
    "listA = ['a','b','c']\n",
    "listB = [1,2,3]\n",
    "if len(listA) != len(listB): # make sure they're the same lengths. If not...\n",
    "    # I bet a clever student could do better than this.\n",
    "    # but the lazy instructor doesn't have time to write it up!\n",
    "    return 'These lists are not the same lengths'\n",
    "else: # if they are the same lengths\n",
    "    return dict(zip(listA, listB))   "
   ]
  },
  {
   "cell_type": "code",
   "execution_count": 3,
   "metadata": {},
   "outputs": [
    {
     "name": "stdout",
     "output_type": "stream",
     "text": [
      "{'a': 0.15, 'c': 0.35, 't': 0.25, 'g': 0.25}\n",
      "-11.6838498257\n",
      "2.07085730508e-12\n"
     ]
    }
   ],
   "source": [
    "import math\n",
    "\n",
    "seq = 'aagtcgcgccctagctttgc' # set default value to be this sequence we want to test\n",
    "nucleotideList        = ['a','t','c','g'] # create a list of nucleotides\n",
    "nucleotideProportions = [seq.count(i)/float(len(seq)) for i in nucleotideList] # create a list of nucleotide proportions\n",
    "probabilityDictionary = dict(zip(nucleotideList, nucleotideProportions)) # make a dictionary using dict and zip\n",
    "    \n",
    "print probabilityDictionary\n",
    "\n",
    "\n",
    "\n",
    "logProbability = 0\n",
    "for i in seq: # loop through each nucleotide of the sequence\n",
    "    logProbability += math.log10(probabilityDictionary[i])\n",
    "\n",
    "print logProbability\n",
    "\n",
    "print(10**logProbability) # get actual probability of sequence occuring"
   ]
  },
  {
   "cell_type": "code",
   "execution_count": null,
   "metadata": {},
   "outputs": [],
   "source": []
  }
 ],
 "metadata": {
  "anaconda-cloud": {},
  "kernelspec": {
   "display_name": "Python 2",
   "language": "python",
   "name": "python2"
  },
  "language_info": {
   "codemirror_mode": {
    "name": "ipython",
    "version": 2
   },
   "file_extension": ".py",
   "mimetype": "text/x-python",
   "name": "python",
   "nbconvert_exporter": "python",
   "pygments_lexer": "ipython2",
   "version": "2.7.13"
  }
 },
 "nbformat": 4,
 "nbformat_minor": 1
}
