{
 "cells": [
  {
   "cell_type": "markdown",
   "metadata": {},
   "source": [
    "## Problem 2 - Fun with numbers"
   ]
  },
  {
   "cell_type": "code",
   "execution_count": 1,
   "metadata": {},
   "outputs": [
    {
     "name": "stdout",
     "output_type": "stream",
     "text": [
      "[4, 6, 8, 20, 30, 40]\n",
      "[4, 6, 8, 20, 30, 40]\n",
      "[4, 6, 8, 20, 30, 40]\n"
     ]
    }
   ],
   "source": [
    "##Exercise 2##\n",
    "## 2A\n",
    "\n",
    "# One way to do it\n",
    "listA=[1, 2, 3, 4, 5]\n",
    "listB = [5, 6, 7, 8, 9]] \n",
    "listB)\n",
    "listC = []\n",
    "for i in range(len(listA)):\n",
    "    listC.append(listA[i] * listB[i])\n",
    "    \n",
    "print listC\n",
    "\n",
    "# Another way\n",
    "def multiply_lists2(listA, listB):\n",
    "    listC = []\n",
    "    for a,b in zip(listA, listB):\n",
    "        listC.append(a*b)\n",
    "    \n",
    "    return listC\n",
    "\n",
    "# Another way\n",
    "def multiply_lists3(listA, listB):\n",
    "    return [a*b for a,b in zip(listA, listB)]\n",
    "\n",
    "\n",
    "## Test our solutions\n",
    "a = [2, 3, 4, 2, 3, 4]\n",
    "b = [2, 2, 2, 10, 10, 10]\n",
    "\n",
    "print multiply_lists(a, b)\n",
    "print multiply_lists2(a, b)\n",
    "print multiply_lists3(a, b)\n",
    " "
   ]
  },
  {
   "cell_type": "code",
   "execution_count": 2,
   "metadata": {},
   "outputs": [
    {
     "name": "stdout",
     "output_type": "stream",
     "text": [
      "Median a: 41\n",
      "Median b: 25\n"
     ]
    }
   ],
   "source": [
    "## 2B\n",
    "\n",
    "def median(myList):\n",
    "    sortedList = myList[:] # Median shouldn't also sort our input list\n",
    "    sortedList.sort()\n",
    "    N = len(sortedList)\n",
    "    if(N % 2 == 1):\n",
    "        return sortedList[(N-1)/2]\n",
    "    else:\n",
    "        left = sortedList[(N/2)-1]\n",
    "        right = sortedList[(N/2)]\n",
    "        return (left+right)/2\n",
    "\n",
    "a = [3, 53, 57, 23, 41]\n",
    "print \"Median a:\", median(a)\n",
    "\n",
    "b = [5, 10, 20, 30, 40, 50]\n",
    "print \"Median b:\", median(b)"
   ]
  },
  {
   "cell_type": "code",
   "execution_count": 3,
   "metadata": {},
   "outputs": [
    {
     "name": "stdout",
     "output_type": "stream",
     "text": [
      "[2, 3, 4, 5, 6]\n",
      "[2, 3, 4, 5, 6]\n"
     ]
    }
   ],
   "source": [
    "## 2C\n",
    "def my_filter(input_list, lower_bound, upper_bound):\n",
    "    out_list = []\n",
    "    \n",
    "    for number in input_list:\n",
    "        if number >= lower_bound and number <= upper_bound:\n",
    "            out_list.append(number)\n",
    "            \n",
    "    return out_list\n",
    "\n",
    "# Or, an alternate solution\n",
    "def my_filter2(input_list, lower_bound, upper_bound):\n",
    "    return [number for number in input_list\n",
    "            if number >= lower_bound and number <= upper_bound]\n",
    "    \n",
    "a = [1, 2, 3, 4, 5, 6, 7, 8]\n",
    "\n",
    "print my_filter(a, 2, 6)\n",
    "print my_filter2(a, 2, 6)"
   ]
  },
  {
   "cell_type": "markdown",
   "metadata": {},
   "source": [
    "## Problem 3"
   ]
  },
  {
   "cell_type": "code",
   "execution_count": 5,
   "metadata": {},
   "outputs": [
    {
     "name": "stdout",
     "output_type": "stream",
     "text": [
      "[[2, 3, 5, 5], [2, 2, 4, 5], [3, 3, 4, 6]]\n"
     ]
    }
   ],
   "source": [
    "## 3A\n",
    " \n",
    "experiment = []\n",
    "run1 = [2,3,5,5]\n",
    "run2 = [2,2,4,5]\n",
    "run3 = [3,3,4,6]\n",
    "\n",
    "experiment.append(run1)\n",
    "experiment.append(run2)\n",
    "experiment.append(run3)\n",
    "\n",
    "print experiment"
   ]
  },
  {
   "cell_type": "code",
   "execution_count": 7,
   "metadata": {},
   "outputs": [
    {
     "name": "stdout",
     "output_type": "stream",
     "text": [
      "1\t2\t3.75\t5\n",
      "2\t2\t3.25\t5\n",
      "3\t3\t4.0\t6\n"
     ]
    }
   ],
   "source": [
    "## 3B\n",
    "\n",
    "run1 = [2,3,5,5]\n",
    "run2 = [2,2,4,5]\n",
    "run3 = [3,3,4,6]\n",
    "listOfRuns = [run1,run2,run3]\n",
    "\n",
    "# This function assumes that the list of runs is in order\n",
    "def get_mean(runList):\n",
    "    runNumber = 0\n",
    "    for runs in runList:\n",
    "        runNumber += 1\n",
    "        minimum = min(runs)\n",
    "        avg     = float(sum(runs))/float(len(runs))\n",
    "        maximum = max(runs)\n",
    "        \n",
    "        print '{}\\t{}\\t{}\\t{}' .format(runNumber, minimum, avg, maximum)\n",
    "        \n",
    "get_mean(listOfRuns)"
   ]
  },
  {
   "cell_type": "markdown",
   "metadata": {},
   "source": [
    "## Problem 4"
   ]
  },
  {
   "cell_type": "code",
   "execution_count": 17,
   "metadata": {},
   "outputs": [
    {
     "name": "stdout",
     "output_type": "stream",
     "text": [
      "[[1, 5], [2, 6], [3, 7], [4, 8]]\n",
      "\n",
      "transpose it twice and get the original back:\n",
      "[[1, 2, 3, 4], [5, 6, 7, 8]]\n"
     ]
    }
   ],
   "source": [
    "## 4\n",
    "def transpose(input_list):\n",
    "    nrows = len(input_list)\n",
    "    ncols = len(input_list[0]) # We're assuming every row has the same number of columns\n",
    "    \n",
    "    output_list = []\n",
    "    for i in range(ncols):\n",
    "        \n",
    "        new_row = [] # create an empty list for each new row\n",
    "        \n",
    "        for j in range(nrows):\n",
    "            new_row.append(input_list[j][i])\n",
    "            \n",
    "        output_list.append(new_row) # add the row to our output list\n",
    "\n",
    "    return output_list\n",
    "    \n",
    "A = [\n",
    "    [1, 2, 3, 4],\n",
    "    [5, 6, 7, 8]\n",
    "]\n",
    "\n",
    "print transpose(A)\n",
    "\n",
    "print\n",
    "print 'transpose it twice and get the original back:'\n",
    "print transpose(transpose(A))"
   ]
  }
 ],
 "metadata": {
  "anaconda-cloud": {},
  "kernelspec": {
   "display_name": "Python 2",
   "language": "python",
   "name": "python2"
  },
  "language_info": {
   "codemirror_mode": {
    "name": "ipython",
    "version": 2
   },
   "file_extension": ".py",
   "mimetype": "text/x-python",
   "name": "python",
   "nbconvert_exporter": "python",
   "pygments_lexer": "ipython2",
   "version": "2.7.13"
  }
 },
 "nbformat": 4,
 "nbformat_minor": 1
}
