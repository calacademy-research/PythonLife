{
 "cells": [
  {
   "cell_type": "markdown",
   "metadata": {},
   "source": [
    "\n",
    "\n",
    "\n",
    "# 1: Writing Mathematical Functions\n",
    "    \n",
    "### A:\n",
    "Write a function that accepts an array of floats as inputs. Return an array where every value of the input array has been divided by 1.5.\n",
    "\n",
    "### B:\n",
    "Use a random function (uniform or normal) to generate an array of floats. Write a function that accepts this array, and returns a list of values that are more than one standard deviation greater or less than the mean of the array.\n",
    "\n",
    "### C:\n",
    "Write a function that estimates a p-value from the exponential distribution (another distribution in numpy).  The function should take a number as an input (lets call it x), and return an estimate at the probability that a number drawn from the exponential distribution will be equal to or greater than x.  \n",
    "    \n",
    "To do this, generate many samples from the exponential distribution (use the default scale=1.0), count the number of samples greater than x, and divide the result by the number of samples you generated.  \n",
    "    \n",
    "Don't use a loop to count the number of samples greater than x.  Instead look at what happens when you use np.sum() on a boolean array, or read about the method np.count_nonzero().\n",
    "    \n",
    "Calling your function should look like this:\n",
    "```python\n",
    "out = my_function(3)\n",
    "print out #prints 0.050316 (or close to this number)\n",
    "```\n"
   ]
  },
  {
   "cell_type": "markdown",
   "metadata": {},
   "source": [
    "\n",
    "# 2: Strings to arrays\n",
    "\n",
    "So we had this idea that we might be able to find a periodicity in the spacing of pyrimidine residues downstream of the termination site in Rho dependent genes (by and large, we don't). Nevertheless:\n",
    "## A:\n",
    "Make a function that takes a DNA string as input (Only G, C, A, or T's) and an arbitrary substring (e.g. \"CT\"). The function should find all locations of the substring in the string and return it as an array. For Example:\n",
    "    \n",
    "```python\n",
    "a = find_substring(\"GCACTTGCACGTACGCCGT\", \"AC\") \n",
    "#output a contains [2, 8, 12] (or a numpy array with these values)\n",
    "```\n",
    "## B:    \n",
    "Using the result of find_substring from (a), find the distance between each pair of adjacent substrings. (i.e. How many basepairs separate each position where we found the subtring.) Check if a numpy method does this.\n",
    "    For Example:\n",
    "    \n",
    "```python\n",
    "differences = find_differences(a)\n",
    "```"
   ]
  },
  {
   "cell_type": "code",
   "execution_count": null,
   "metadata": {},
   "outputs": [],
   "source": []
  }
 ],
 "metadata": {
  "anaconda-cloud": {},
  "kernelspec": {
   "display_name": "Python 2",
   "language": "python",
   "name": "python2"
  },
  "language_info": {
   "codemirror_mode": {
    "name": "ipython",
    "version": 2
   },
   "file_extension": ".py",
   "mimetype": "text/x-python",
   "name": "python",
   "nbconvert_exporter": "python",
   "pygments_lexer": "ipython2",
   "version": "2.7.13"
  }
 },
 "nbformat": 4,
 "nbformat_minor": 1
}
