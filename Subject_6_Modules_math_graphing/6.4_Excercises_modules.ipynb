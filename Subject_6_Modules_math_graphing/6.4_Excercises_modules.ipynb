{
 "cells": [
  {
   "cell_type": "markdown",
   "metadata": {},
   "source": [
    "## Exercises\n",
    "\n",
    "__1) Math Overload__\n",
    "\n",
    "Use the **math** module to compute the following:\n",
    "\n",
    "* $4^8$\n",
    "* $log_{10}(3)$\n",
    "* $e^3$\n",
    "* $cos(\\pi)$\n",
    "* $ln(e^3)$"
   ]
  },
  {
   "cell_type": "markdown",
   "metadata": {},
   "source": [
    "__2) pip and modules__\n",
    "\n",
    "\n",
    "Find and install \"prettytable\". \n",
    "\n",
    "Generate some output that looks like this:\n",
    "```\n",
    "+-----------+------+------------+-----------------+\n",
    "| Col | Area | Population | Annual Rainfall |\n",
    "+-----------+------+------------+-----------------+\n",
    "|  Adelaide | 1295 |  1158259   |      600.5      |\n",
    "|  Brisbane | 5905 |  1857594   |      1146.4     |\n",
    "|   Darwin  | 112  |   120900   |      1714.7     |\n",
    "|   Hobart  | 1357 |   205556   |      619.5      |\n",
    "|   Sydney  | 2058 |  4336374   |      1214.8     |\n",
    "| Melbourne | 1566 |  3806092   |      646.9      |\n",
    "|   Perth   | 5386 |  1554769   |      869.4      |\n",
    "+-----------+------+------------+-----------------+\n",
    "```"
   ]
  },
  {
   "cell_type": "markdown",
   "metadata": {},
   "source": [
    "__3) Imports, imports, imports__\n",
    "\n",
    "Using a program you wrote that has one function in it, store that\n",
    "function in a separate file. Import the function into your main program file, and\n",
    "call the function using each of these approaches:\n",
    "```pythyon\n",
    "import module_name\n",
    "from module_name import function_name\n",
    "from module_name import function_name as fn\n",
    "import module_name as mn\n",
    "from module_name import *\n",
    "```\n"
   ]
  }
 ],
 "metadata": {
  "anaconda-cloud": {},
  "kernelspec": {
   "display_name": "Python 2",
   "language": "python",
   "name": "python2"
  },
  "language_info": {
   "codemirror_mode": {
    "name": "ipython",
    "version": 2
   },
   "file_extension": ".py",
   "mimetype": "text/x-python",
   "name": "python",
   "nbconvert_exporter": "python",
   "pygments_lexer": "ipython2",
   "version": "2.7.13"
  }
 },
 "nbformat": 4,
 "nbformat_minor": 1
}
