{
 "cells": [
  {
   "cell_type": "markdown",
   "metadata": {},
   "source": [
    "# Introduction to Plotting using Matplotlib\n",
    "## Topics\n",
    " - Matplotlib API basics\n",
    " - Scatter plots & line plots\n",
    " - Histograms\n",
    " - Bar plots\n",
    "\n",
    "Okay, there's a lot more to this than we can realistically cover in one lecture, but there are lots of things you can do to make really cool figures in Python. We're going to be using Matplotlib, which is a plotting library that took a lot of the plotting functionality from the popular MATLAB software, re-wrote it in Python, and (I have heard) made it about 10 times saner and easier to use.\n",
    "\n",
    "Matplotlib has a ton of features and can be incredibly powerful, thus, we only have time to cover the basics. Our goal is to give you a good enough understanding of how everything is set up so that you can start on your own and teach yourself the rest of what you'll need. Fortunately, the inline documentation for Matplotlib is pretty good, and you can look at the [extensive gallery](http://matplotlib.org/gallery.html#api) of examples and figure out how to make similar plots with your own data.\n",
    "\n",
    "---\n",
    "\n",
    "Let's make our first plot! Let's say we have some data that's approximately a line, but there's some noise in it. Let's plot it:"
   ]
  },
  {
   "cell_type": "code",
   "execution_count": null,
   "metadata": {},
   "outputs": [],
   "source": [
    "%matplotlib inline"
   ]
  },
  {
   "cell_type": "markdown",
   "metadata": {},
   "source": [
    "The above line tells iPython notebook to display created figures in the notebook, which is handy for these demonstrations"
   ]
  },
  {
   "cell_type": "code",
   "execution_count": null,
   "metadata": {
    "scrolled": true
   },
   "outputs": [],
   "source": [
    "#!/usr/bin/env python\n",
    " \n",
    "import numpy as np\n",
    "import matplotlib.pyplot as plt\n",
    " \n",
    "x = np.arange(0,100)\n",
    "y = 0.5 * x + 5 + 10*np.random.uniform(0,3,len(x))\n",
    "\n",
    "fig = plt.figure()\n",
    "ax = fig.add_subplot(1,1,1)\n",
    "ax.plot(x, y)\n",
    "\n",
    "plt.show()"
   ]
  },
  {
   "cell_type": "markdown",
   "metadata": {},
   "source": [
    "Not too hard, but what did we just do?\n",
    "\n",
    "### *matplotlib.pyplot.**figure()***  \n",
    "This instantiates a figure object, which you can fill with one or more subplot objects (e.g. Fig. 1A, Fig. 1B, Fig. 1C, etc). **figure()** has many optional arguments which set global properties of your figure, like the size and resolution. One of the most usefull is the **figsize** kwarg."
   ]
  },
  {
   "cell_type": "code",
   "execution_count": null,
   "metadata": {},
   "outputs": [],
   "source": [
    "fig = plt.figure(figsize=(12,15))\n",
    "ax = fig.add_subplot(1,1,1)\n",
    "ax.plot(x, y)\n",
    "plt.show()"
   ]
  },
  {
   "cell_type": "markdown",
   "metadata": {},
   "source": [
    "### *figure.**add_subplot()***  \n",
    "This method of figure objects does exactly what it says on the tin; it instantiates an Axes object within the figure. In Matplotlib what we would think of as a graph, plot, or figure, is called an Axes, after the X and Y axes. Axes have many properties like x and y limits, a set of major (and sometimes minor) ticks for the x and y axes, an optional legend, and lots more data. Most of the time when you are making a figure you'll be working with the Axes. \n",
    "\n",
    "![Parts of a Figure](http://matplotlib.org/_images/fig_map.png \"Parts of a Figure\")\n",
    "\n",
    "The [manual](http://matplotlib.org/api/figure_api.html#matplotlib.pyplot.figure) tells us to look at [matplotlib.pyplot.subplot()](http://matplotlib.org/api/pyplot_api.html#matplotlib.pyplot.subplot) for an explanation of the three mandatory arguments to **add_subplot()**. There we see they are **(nrows, ncols, plot_number)**. Note that plot_number starts at 1, not 0 like you would expect from Python. So to create a 4 x 1 array of plots we could do:"
   ]
  },
  {
   "cell_type": "code",
   "execution_count": null,
   "metadata": {},
   "outputs": [],
   "source": [
    "fig.add_subplot?"
   ]
  },
  {
   "cell_type": "code",
   "execution_count": null,
   "metadata": {},
   "outputs": [],
   "source": [
    "fig = plt.figure(figsize=(6, 12))\n",
    "ax1 = fig.add_subplot(4,1,1)\n",
    "ax2 = fig.add_subplot(4,1,2)\n",
    "ax3 = fig.add_subplot(4,1,3)\n",
    "ax4 = fig.add_subplot(4,1,4)"
   ]
  },
  {
   "cell_type": "code",
   "execution_count": null,
   "metadata": {},
   "outputs": [],
   "source": [
    "fig = plt.figure(figsize=(6, 12))\n",
    "\n",
    "# Geez, that was tedious, lets just keep all these in a list.\n",
    "axs = [fig.add_subplot(4,1,i+1) for i in range(4)]\n",
    "\n",
    "print axs"
   ]
  },
  {
   "cell_type": "markdown",
   "metadata": {},
   "source": [
    "### *Axes.**plot()***  \n",
    "Lastly, we plot our data series using this aptly named method. We can consult the documentation to find out what other kinds of arguments we can give it."
   ]
  },
  {
   "cell_type": "code",
   "execution_count": null,
   "metadata": {},
   "outputs": [],
   "source": [
    "ax1.plot?"
   ]
  },
  {
   "cell_type": "markdown",
   "metadata": {},
   "source": [
    "You can see that there's a lot of different things you can do for something as simple as plotting... Markers, colors, lines. If you keep reading, you can even incorporate labels for the lines. Let's try this code, now, and see what it looks like:"
   ]
  },
  {
   "cell_type": "code",
   "execution_count": null,
   "metadata": {},
   "outputs": [],
   "source": [
    "fig = plt.figure(figsize=(6,12))\n",
    "axs = [fig.add_subplot(4,1,i+1) for i in range(4)]\n",
    "\n",
    "# Plot the actual values on each subplot -- using different styles\n",
    "axs[0].plot(x, y)\n",
    "axs[1].plot(x, y, 'bo')\n",
    "axs[2].plot(x, y, 'r+')\n",
    "axs[3].plot(x, y, '--')\n",
    "\n",
    "from scipy import stats\n",
    "r_slope, r_int, r_rval, r_pval, r_stderr = stats.linregress(x, y)\n",
    "\n",
    "# Plot trendline on each subplot\n",
    "axs[0].plot(x, x * r_slope + r_int, 'g-.', label='Dashed-dotted Line')\n",
    "axs[1].plot(x, x * r_slope + r_int, 'r-', label='Solid Line')\n",
    "axs[2].plot(x, x * r_slope + r_int, 'b-', linewidth=4, label='Thick Line')\n",
    "axs[3].plot(x, x * r_slope + r_int, '-', label='Regression Line')\n",
    "\n",
    "plt.show()"
   ]
  },
  {
   "cell_type": "markdown",
   "metadata": {},
   "source": [
    "### *Axes.**legend()***  \n",
    "Hey, where are the labels? to incorporate these, we use the **legend()** method of our axes. Like *figure.**add_subplot()*** instantiates an Axes object, *Axes.**legend()*** instantiates a legend object for the indicated Axes object."
   ]
  },
  {
   "cell_type": "code",
   "execution_count": null,
   "metadata": {},
   "outputs": [],
   "source": [
    "#### All this is the same as before. ####\n",
    "fig = plt.figure(figsize=(6,12))\n",
    "axs = [fig.add_subplot(4,1,i+1) for i in range(4)]\n",
    "\n",
    "# Plot the actual values on each subplot -- using different styles\n",
    "axs[0].plot(x, y)\n",
    "axs[1].plot(x, y, 'bo')\n",
    "axs[2].plot(y, 'r+')\n",
    "axs[3].plot(x, '--')\n",
    "\n",
    "from scipy import stats\n",
    "r_slope, r_int, r_rval, r_pval, r_stderr = stats.linregress(x, y)\n",
    "\n",
    "# Plot trendline on each subplot\n",
    "axs[0].plot(x, x * r_slope + r_int, 'g-.', label='Dashed-dotted Line')\n",
    "axs[1].plot(x, x * r_slope + r_int, 'r-', label='Solid Line')\n",
    "axs[2].plot(x, x * r_slope + r_int, 'b-', linewidth=4, label='Thick Line')\n",
    "axs[3].plot(x, x * r_slope + r_int, '-', label='Regression Line')\n",
    "##########################################\n",
    "\n",
    "# Add the legend for each plot\n",
    "axs[0].legend(loc='upper left')\n",
    "axs[1].legend(loc='upper left')\n",
    "axs[2].legend(loc='upper left')\n",
    "axs[3].legend(loc='upper left')\n",
    "\n",
    "# Or you could use a list comprehension for the legends:\n",
    "#    legends = [ax.legend(loc='upper left') for ax in axs]\n",
    "\n",
    "plt.show()"
   ]
  },
  {
   "cell_type": "markdown",
   "metadata": {
    "collapsed": true
   },
   "source": [
    "Or, if we decide that we don't like the labels that we gave it before, we can pass a list of labels to **legend()**. This case, we're plotting two lines, and each line will take the label corresponding to the string in the position in the list by the order in which it's plotted:"
   ]
  },
  {
   "cell_type": "code",
   "execution_count": null,
   "metadata": {},
   "outputs": [],
   "source": [
    "fig = plt.figure(figsize=(6,4))\n",
    "ax = fig.add_subplot(1,1,1)\n",
    "ax.plot(x, y)\n",
    "\n",
    "from scipy import stats\n",
    "r_slope, r_int, r_rval, r_pval, r_stderr = stats.linregress(x, y)\n",
    "ax.plot(x, x * r_slope + r_int, 'g-.', label='Dashed-dotted Line')\n",
    "\n",
    "legend = ax.legend(['Fun!', 'Python Knowledge'], loc='upper left')\n",
    "plt.show()"
   ]
  },
  {
   "cell_type": "markdown",
   "metadata": {},
   "source": [
    "To see what other arguments we can give the **legend()** method, lets consult Python's help system:"
   ]
  },
  {
   "cell_type": "code",
   "execution_count": null,
   "metadata": {},
   "outputs": [],
   "source": [
    "ax.legend?"
   ]
  },
  {
   "cell_type": "markdown",
   "metadata": {},
   "source": [
    "Lets try some of those tweaks:"
   ]
  },
  {
   "cell_type": "code",
   "execution_count": null,
   "metadata": {},
   "outputs": [],
   "source": [
    "fig = plt.figure(figsize=(6,4))\n",
    "ax = fig.add_subplot(1,1,1)\n",
    "ax.plot(x, y, 'bo')\n",
    "\n",
    "from scipy import stats\n",
    "r_slope, r_int, r_rval, r_pval, r_stderr = stats.linregress(x, y)\n",
    "ax.plot(x, x * r_slope + r_int, 'g-.', label='Dashed-dotted Line')\n",
    "\n",
    "legend = ax.legend(['Fun!', 'Python Knowledge'], loc='lower right', numpoints=1, fancybox=True, shadow=True)\n",
    "plt.show()"
   ]
  },
  {
   "cell_type": "markdown",
   "metadata": {},
   "source": [
    "### matplotlib.pyplot.savefig()\n",
    "Ok, so let's say you've spent all this time and you're reasonably satisfied with the figure you've created. To save the figure into a file, use the savefig function:"
   ]
  },
  {
   "cell_type": "code",
   "execution_count": null,
   "metadata": {},
   "outputs": [],
   "source": [
    "fig = plt.figure(figsize=(6,4))\n",
    "ax = fig.add_subplot(1,1,1)\n",
    "ax.plot(x, y)\n",
    "\n",
    "from scipy import stats\n",
    "r_slope, r_int, r_rval, r_pval, r_stderr = stats.linregress(x, y)\n",
    "ax.plot(x, x * r_slope + r_int, 'g-.', label='Dashed-dotted Line')\n",
    "\n",
    "legend = ax.legend(['Fun!', 'Python Knowledge'], loc='upper left')\n",
    "\n",
    "plt.savefig('firstfigure.png',format='png')\n",
    "#OR\n",
    "plt.savefig('firstfigure.pdf',format='pdf')"
   ]
  },
  {
   "cell_type": "markdown",
   "metadata": {},
   "source": [
    "Check your 5.1 directory to see the new figures. Pretty cool! You can load your data, graph it in the way that you want, and then save that figure, ready to go, or import into Illustrator or any other image editor of your choice for further editing."
   ]
  },
  {
   "cell_type": "markdown",
   "metadata": {},
   "source": [
    "## Making our own plotting functions\n",
    "\n",
    "You know how in papers, they will sometimes have a kind of fancy figure, and then they'll have things in the same style, but for a bunch of different ways of slicing and dicing their data? It's really pretty effective scientific story-telling. It allows them to connect all those figures together conceptually, and readers only have to look for the relevant differences.\n",
    "\n",
    "The thing is, if you're going to actually make those figures, it can be annoying to tweak the plots in the same way every time. Fortunately, the whole point of this class is to learn how to take boring things that a person could do and automate them with the computer."
   ]
  },
  {
   "cell_type": "markdown",
   "metadata": {},
   "source": [
    "## Scatter Plots\n",
    "Let's say we are interested in what the correlation is between gene expression between samples (to compare replicates, let's say, or even different treatment conditions). Let's create a function that will take a table of FPKM values (a measure of gene expression) and make a scatter plot of the FPKM values in one sample vs another.\n",
    "\n",
    "As sample data we will use the file 'FPKM_table.tab'. You can less into the file and see that it is a tab-delimited file where each row is a gene, and each column represents the FPKM of that gene across different mutant conditions."
   ]
  },
  {
   "cell_type": "code",
   "execution_count": null,
   "metadata": {},
   "outputs": [],
   "source": [
    "#!/usr/bin/env python\n",
    " \n",
    "import matplotlib.pyplot as plt\n",
    "\n",
    "# Function to parse and plot the data\n",
    "def scatterFPKMs(tableFile, sample1, sample2):\n",
    "    # Figure out which columns we need.\n",
    "    fh = open(tableFile, 'r')\n",
    "    header = fh.readline().strip().split()\n",
    "    i1 = header.index(sample1)\n",
    "    i2 = header.index(sample2)\n",
    "    \n",
    "    # Pull out the data series from each column\n",
    "    x = []\n",
    "    y = []\n",
    "    for line in fh:\n",
    "        line = line.strip().split()\n",
    "        x.append(line[i1])\n",
    "        y.append(line[i2])\n",
    "        \n",
    "    # Make a plot and plot the data\n",
    "    fig = plt.figure()\n",
    "    ax = fig.add_subplot(1,1,1)\n",
    "    ax.plot(x, y, 'bo')\n",
    "        \n",
    "    plt.show()\n",
    " \n",
    "scatterFPKMs(\"FPKM_table.tab\",'WT','sir2')"
   ]
  },
  {
   "cell_type": "markdown",
   "metadata": {},
   "source": [
    "Looks good! Except all the interesting business seems to be going on in the lower left hand corner. We should be able to see a clearer picture by setting the axes to log scale. We will also cut out very lowly expressed things by setting limits on the axes."
   ]
  },
  {
   "cell_type": "code",
   "execution_count": null,
   "metadata": {},
   "outputs": [],
   "source": [
    "#!/usr/bin/env python\n",
    " \n",
    "import matplotlib.pyplot as plt\n",
    "\n",
    "# Function to parse and plot the data\n",
    "def scatterFPKMs(tableFile,sample1,sample2):\n",
    "    # Figure out which columns we need.\n",
    "    fh = open(tableFile, 'r')\n",
    "    header = fh.readline().strip().split()\n",
    "    i1 = header.index(sample1)\n",
    "    i2 = header.index(sample2)\n",
    "    \n",
    "    # Pull out the data series from each column\n",
    "    x = []\n",
    "    y = []\n",
    "    for line in fh:\n",
    "        line = line.strip().split()\n",
    "        x.append(line[i1])\n",
    "        y.append(line[i2])\n",
    "    \n",
    "    # Make a plot\n",
    "    fig = plt.figure()\n",
    "    ax = fig.add_subplot(1,1,1)\n",
    "    # Set log scales\n",
    "    ax.set_yscale('log')\n",
    "    ax.set_xscale('log')\n",
    "    # Set limits on the axes\n",
    "    # Because the scale is log, min must be >0\n",
    "    ax.set_xlim(1, 100000)\n",
    "    ax.set_ylim(1, 100000)\n",
    "    \n",
    "    # Plot the data\n",
    "    ax.plot(x, y, 'bo', alpha=.2)\n",
    "    \n",
    "    ax.set_ylabel(sample2)\n",
    "    ax.set_xlabel(sample1)\n",
    "        \n",
    "    plt.show()\n",
    " \n",
    "scatterFPKMs(\"FPKM_table.tab\",'WT','sir2')"
   ]
  },
  {
   "cell_type": "markdown",
   "metadata": {
    "collapsed": true
   },
   "source": [
    "## Histograms\n",
    "Another thing that would be good to know is the overall distribution of expression values across all genes in the genome. Let's create a function that will take a sample name from this FPKM table and plot a histogram of the FPKM values in that sample:"
   ]
  },
  {
   "cell_type": "code",
   "execution_count": null,
   "metadata": {},
   "outputs": [],
   "source": [
    "#!/usr/bin/env python\n",
    " \n",
    "import matplotlib.pyplot as plt\n",
    " \n",
    "# Function to parse and plot the data\n",
    "# in this case, we are grabbing one sample\n",
    "def histogramFPKMs(tableFile, sample):\n",
    "    # Figure out which column we need.\n",
    "    fh = open(tableFile, 'r')\n",
    "    header = fh.readline().strip().split()\n",
    "    idx = header.index(sample)\n",
    "    \n",
    "    # Parse out the relevant column\n",
    "    FPKMs = [float(line.strip().split()[idx]) for line in fh]\n",
    "    #print(FPKMs)\n",
    "    # Make a plot\n",
    "    fig = plt.figure()\n",
    "    ax = fig.add_subplot(1,1,1)\n",
    "    \n",
    "    # Plot the data as a histogram\n",
    "    ax.hist(FPKMs,bins=30,range=(0,1000))\n",
    "    ax.set_xlabel(sample + \" (FPKM)\")\n",
    "    \n",
    "    plt.show()\n",
    " \n",
    "histogramFPKMs(\"FPKM_table.tab\",\"WT\")\n",
    " "
   ]
  },
  {
   "cell_type": "markdown",
   "metadata": {},
   "source": [
    "You can set what bin intervals to use in your histogram with the **bins** keyword argument and set where you want the x-axis ticks (labels) to show up with the **set_xticks()** method. **bins** can be an integer, as above, specifying the number of equally sized bins to use, or it can be a list specifying the cutoff points for all the bins. **set_xticks()** takes a list of x values at which to place labels.\n",
    "\n",
    "Finally, you can draw partially transparent graphs with the **alpha** keyword argument. **alpha** ranges from 0 to 1, with 0 being fully transparent and 1 being fully opaque. Most of the matplotlib functions know how to deal with this alpha property, so that can sometimes be useful when your plots start getting visually busy."
   ]
  },
  {
   "cell_type": "code",
   "execution_count": null,
   "metadata": {},
   "outputs": [],
   "source": [
    "#!/usr/bin/env python\n",
    " \n",
    "import matplotlib.pyplot as plt\n",
    " \n",
    "# Function to parse and plot the data\n",
    "# in this case, the samples plotted are supplied in a list\n",
    "def histogramFPKMs(tableFile, samples):\n",
    "    # Figure out which columns we need.\n",
    "    fh = open(tableFile, 'r')\n",
    "    header = fh.readline().strip().split()\n",
    "    idxs = [header.index(sample) for sample in samples]\n",
    "    \n",
    "    # Parse out the relevant columns\n",
    "    data = [[] for idx in idxs]\n",
    "    for line in fh:\n",
    "        line = line.strip().split()\n",
    "        for i, idx in enumerate(idxs):\n",
    "            fpkm = float(line[idx])\n",
    "            data[i].append(fpkm)\n",
    "    \n",
    "    # Make a plot\n",
    "    fig = plt.figure(figsize=(10,4))\n",
    "    ax = fig.add_subplot(1,1,1)\n",
    "    \n",
    "    # Just for fun, lets use bins that increase in size progressively.\n",
    "    # [0, 10, 22, 36, 52, 70, ..., 972]\n",
    "    bins = [10*(x)+2*sum(range(x)) for x in range(28)]\n",
    "    # To make the labels readable we will only use every 3rd mark as a tick.\n",
    "    ticks = [tick for i, tick in enumerate(bins) if i % 3 == 0]\n",
    "    \n",
    "    \n",
    "    # Plot bars for each sample in partialy tranparent layers\n",
    "    for sample, sample_name in zip(data, samples):\n",
    "        ax.hist(sample, bins=bins, range=(0,1000), alpha=0.5, label=sample_name)\n",
    "        ax.set_xticks(ticks)\n",
    "        \n",
    "    ax.legend(loc='upper right')\n",
    "    \n",
    "    plt.show()\n",
    " \n",
    "histogramFPKMs(\"FPKM_table.tab\", ['WT', 'sir3'])"
   ]
  },
  {
   "cell_type": "markdown",
   "metadata": {},
   "source": [
    "As you can see above, because of the transparency, when one sample has more genes expressed at a given level the orange bar is stacked on top, while if the other sample has more genes expressed at that level the blue bar is stacked on top. Underneath, the orange and blue bars merge together."
   ]
  },
  {
   "cell_type": "markdown",
   "metadata": {
    "collapsed": true
   },
   "source": [
    "## Bar Plots\n",
    "Sometimes, despite the mountains of data you have, you just want to look at a simple bar plot of expression values for a single gene across multiple conditions. To make bar graphs matplotlib has a method, *Axes.**bar()*** that can do just that. It can be a little tricky to get your x-axis to work, however, because Matplotlib still assumes you have numerical data for both axes. You need to position your bars along a number range, then change the labels from numbers to your categorical labels. Let's say we just want to plot the expression value of a gene called \"HMLALPHA2\" in our FPKM_table.tab from before:"
   ]
  },
  {
   "cell_type": "code",
   "execution_count": null,
   "metadata": {},
   "outputs": [],
   "source": [
    "#!/usr/bin/env python\n",
    " \n",
    "import matplotlib.pyplot as plt\n",
    "\n",
    "# Function to parse and plot the data\n",
    "def barFPKMs(tableFile, gene):\n",
    "    # Grab the header\n",
    "    fh = open(tableFile, 'r')\n",
    "    header = fh.readline().strip().split()\n",
    "    \n",
    "    # Grab the data for our gene\n",
    "    # The gene names are in the first column\n",
    "    for line in fh:\n",
    "        if line.startswith(gene):\n",
    "            data = line.strip().split()[1:]\n",
    "            data = map(float, data) # Convert all data to a float\n",
    "            break\n",
    "    else:\n",
    "        print \"Gene not found\"\n",
    "        return 0\n",
    "    \n",
    "    # Make a plot\n",
    "    fig = plt.figure()\n",
    "    ax = fig.add_subplot(1, 1, 1)\n",
    "    \n",
    "    # Matplotlib assumes you have numerical data for both axes\n",
    "    # But for the X axis, we have categorical data\n",
    "    # So we need to plug in a range of numbers to place the bars at\n",
    "    x = range(len(data))\n",
    "    \n",
    "    # Now we change the labels for our categorical data\n",
    "    labels = header[1:] # We don't need to label 'Gene' at -1\n",
    "    \n",
    "    ax.bar(x, data, align='center', tick_label=labels)\n",
    "    \n",
    "    plt.show()\n",
    "    \n",
    "barFPKMs('FPKM_table.tab', 'HMLALPHA2')"
   ]
  },
  {
   "cell_type": "markdown",
   "metadata": {
    "collapsed": true
   },
   "source": [
    "One final note: the [matplotlib documentation](http://matplotlib.org/contents.html) can be immensely helpful in aiding you to make a plot that fits your science needs. Not only is there a gallery of example plots, but there are also demo scripts that give you the code for how to make these plots. These demo scripts can easily be adapted for your own plotting purposes. No need to try and remember all of these functions and methods! Plus, unless you make the same kind of plot many many times, it would be virtually impossible to remember all of the different methods and functions that this plotting library contains."
   ]
  },
  {
   "cell_type": "markdown",
   "metadata": {},
   "source": [
    "---\n",
    "# Exercises\n",
    "\n",
    "__1. Dissecting and improving the plotting examples.__\n",
    "\n",
    "a) Use the **barFPKMs()** function to plot the expression levels of these additional genes: MAK10, DDR2, HSP12.\n",
    "\n",
    "b) Modify the **scatterFPKMs()** function to plot genes that vary in expression level between the two conditions by 2 fold or more in red, and other genes in black.\n",
    "\n",
    "c) Modify the **histogramFPKMs()** function to plot the ratio of expression levels between two conditions, rather than their absolute expression levels.\n",
    "\n",
    "d) Make the **barFPKMs()** function make more beautiful plots, following [Tufte's style](http://stackoverflow.com/questions/13701485/r-graphs-creating-tuftes-horizontal-bar-lines). That's grey bars, no lines, borders, grid, or ticks, except for implicit white lines within the bars. Hint: Google is your friend, as is the **dir()** function.\n",
    "\n",
    "e) Modify the **barFPKMs()** function again to take an *axes* object as an argument and plot the bar plot on that axes object, rather than making an entirely new figure. Use this function four times to plot the expression levels of all four genes (HMLALPHA2, MAK10, DDR2, and HSP12) in a single figure. Be sure to label each subplot with the gene names."
   ]
  },
  {
   "cell_type": "markdown",
   "metadata": {
    "collapsed": true
   },
   "source": [
    "__2. Plotting %A, %T, %G, %C, and %Ns across read position.__\n",
    "\n",
    "The following is a function to open a fastq file containing sequencing reads and parse out the sequence identifiers, the raw sequence, and the quality scores for the bases called in the raw sequence. The function is a generator, which returns these three values every time it is looped through, just like a filehandle."
   ]
  },
  {
   "cell_type": "code",
   "execution_count": null,
   "metadata": {},
   "outputs": [],
   "source": [
    "#!/usr/env/bin python\n",
    "\n",
    "def parse_fastq(fastq_file):\n",
    "    fh = open(fastq_file, 'r')\n",
    "    \n",
    "    while True:\n",
    "        ID = fh.readline().strip()\n",
    "        seq = fh.readline().strip()\n",
    "        ID2 = fh.readline().strip()\n",
    "        qual = fh.readline().strip()\n",
    "        \n",
    "        if not ID:\n",
    "            break # end of file, finished successfully\n",
    "    \n",
    "        yield ID, seq, ID2, qual"
   ]
  },
  {
   "cell_type": "markdown",
   "metadata": {},
   "source": [
    "And here is a function to calculate the frequency of each of the 4 nucleotides and \"N\" by read position for a fastq file. This metric can tell you if there is any bias in the %GC content of sequenced reads based on position. Note that this function uses the first function to parse the file."
   ]
  },
  {
   "cell_type": "code",
   "execution_count": null,
   "metadata": {},
   "outputs": [],
   "source": [
    "import numpy as np\n",
    "\n",
    "def base_frequencies(fastq_file):\n",
    "    fastq = parse_fastq(fastq_file)\n",
    "    \n",
    "    bases = ['A', 'T', 'C', 'G', 'N']\n",
    "    \n",
    "    # First initialize some arrays of the sequence length\n",
    "    for ID, seq, ID2, qual in fastq:    \n",
    "        seq = np.array(list(seq))\n",
    "        readlength = len(seq)\n",
    "        base_freqs = {base : (seq == base).astype(int) for base in bases}\n",
    "        break\n",
    "    \n",
    "    # fastq is an iterator, and like filehandles,\n",
    "    # iterators 'remember' their place\n",
    "    for ID, seq, ID2, qual in fastq:    \n",
    "        seq = np.array(list(seq))\n",
    "        for base in bases:\n",
    "            base_freqs[base] += seq == base\n",
    "            \n",
    "    # Find out the total number of reads\n",
    "    totals = sum(base_freqs.values()).astype(float)\n",
    "    \n",
    "    # Calculate the percent frequencies of each base at all positions\n",
    "    base_percents = {base : (base_freqs[base] / totals) for base in bases}\n",
    "    \n",
    "    return base_percents, readlength"
   ]
  },
  {
   "cell_type": "markdown",
   "metadata": {},
   "source": [
    "Use these two functions to calculate the base frequencies of the reads in the 'illumina_reads.fastq' file.\n",
    "\n",
    "a) Now that you have the frequencies, write a function to plot the % As, %Ts, %Gs, %Cs, and %Ns by read position as a line graph. Your final graph should show read position on the x-axis (1 - 100), and percent (%) on the y axis. The figure should contain five lines: one for %As, one for %Ts, one for %Cs, one for %Gs, and one for %Ns.\n",
    "\n",
    "b) Add a figure title to your graph and labels for the x-axis (\"Read Position\") and y-axis \"% Nucleotide\". Add a legend for the five lines. Save the figure in the .png format. Hint: look up methods to do this using **dir(** *Axes* **)** (note that 'Axes' here is a variable referencing an Axes object). "
   ]
  },
  {
   "cell_type": "markdown",
   "metadata": {},
   "source": [
    "__3. Scatter plot practice__\n",
    "\n",
    "Make a single figure that contains three separate scatter plots (each in different colors) that compares the FPKMs for the following samples (use the \"fpkm_table.tab\" file):  \n",
    "1. WT versus hoD\n",
    "2. WT versus sir4DK\n",
    "3. hoD versus sir4DK\n",
    "\n",
    "Remember to set the x and y axes to log scale and make both axes range from 1 to 10e5 (as in the lecture example)! Add lables to the Axes. Save this plot as an image file in the format of your choice. To see all the different possible formats, try *plt.savefig?* in ipython."
   ]
  },
  {
   "cell_type": "markdown",
   "metadata": {},
   "source": [
    "__4. Bar plots__\n",
    "\n",
    "In the course files is 'exercise4.tab', which is a table that has FPKM values for one gene across wild type plus five mutant conditions, with three replicates for each measurement. You want to make a simple bar plot with error bars of this gene's expression across all genotypes.\n",
    "\n",
    "(a) Google how to calculate the standard error of the mean using **scipy.stats** and apply the appropriate method to get the standard error of the mean (**sem**) for the gene's expression in each genetic condition.\n",
    "\n",
    "(b) Write a function that takes the name of the tab delimited file and plots the mean measurement of the gene across all mutant conditions as a bar plot. Add error bars representing the standard error of the mean you calculated in part (a). Hint: read the documentation of *Axes**.bar()*** to figure out how to add error bars to your bar plot."
   ]
  }
 ],
 "metadata": {
  "anaconda-cloud": {},
  "kernelspec": {
   "display_name": "Python 2",
   "language": "python",
   "name": "python2"
  },
  "language_info": {
   "codemirror_mode": {
    "name": "ipython",
    "version": 2
   },
   "file_extension": ".py",
   "mimetype": "text/x-python",
   "name": "python",
   "nbconvert_exporter": "python",
   "pygments_lexer": "ipython2",
   "version": "2.7.13"
  }
 },
 "nbformat": 4,
 "nbformat_minor": 1
}
