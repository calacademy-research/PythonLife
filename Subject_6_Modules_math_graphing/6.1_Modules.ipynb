{
 "cells": [
  {
   "cell_type": "markdown",
   "metadata": {},
   "source": [
    "# Modules and math libraries\n",
    "## Topics\n",
    "- Modules - indepedent collections of related functions\n",
    "- Using Modules - math & collections\n",
    "\n",
    "## Introduction\n",
    "\n",
    "\n",
    "\n",
    "First up we'll be discussing modules and how they are used to organize code.\n"
   ]
  },
  {
   "cell_type": "markdown",
   "metadata": {},
   "source": [
    "## Modules\n",
    "\n",
    "In all of the examples so far, we defined our functions right above the code that we hoped to execute. If you have many functions, you can see how this would get messy in a hurry. \n",
    "Furthermore, part of the benefit of functions is that you can call them multiple times within a program to execute the same operations without writing them all out again. \n",
    "\n",
    "But wouldn't it be nice to share functions across programs, too? \n",
    "\n",
    "For example, working with genomic data means lots of time getting sequence out of FASTA files, and shuttling that sequence from program to program. Many of the programs we work with overlap to a significant degree, as they need to parse FASTA files, calculate evolutionary rates, and interface with our lab servers, for example -- all of which means that many of them share functions. And if the same function exists in two or more different programs, we hit the same problems that we hit before: complex debugging, decreased readability, and, of course, too much typing.\n",
    "\n",
    "Modules solve these problems. In short, they're collections of code that are kept together in a single file that can be read and __import__ed by any number of programs.\n",
    "\n",
    "### The Basics: Using the math module\n",
    "\n",
    "To illustrate the basics, we'll go through the use of the __math__ module, a module which we use almost all the time. To use a function or variable in the __math__ module, use the syntax \n",
    "__math.__*NameOfThing"
   ]
  },
  {
   "cell_type": "code",
   "execution_count": null,
   "metadata": {},
   "outputs": [],
   "source": [
    "##to use a module in your code, first import it\n",
    "import math\n",
    "\n",
    "x = 5\n",
    "\n",
    "##Modules usually contain functions\n",
    "log10 = math.log10(x)\n",
    "cos = math.cos(x)\n",
    "\n",
    "##sometimes modules contain data\n",
    "pi = math.pi\n",
    "e = math.e\n",
    "\n",
    "print log10, cos, pi, e"
   ]
  },
  {
   "cell_type": "code",
   "execution_count": null,
   "metadata": {},
   "outputs": [],
   "source": [
    "math.cos?"
   ]
  },
  {
   "cell_type": "markdown",
   "metadata": {},
   "source": [
    "### The collections module\n",
    "\n",
    "Another useful module is the __collections__ module. It has five new data types that are, as you might guess from the name, collections of other things. The full documentation is [here](https://docs.python.org/2/library/collections.html). We will cover two of the most commonly used objects: __Counter__ and __defaultdict__. Let's start with __Counter__, which counts things."
   ]
  },
  {
   "cell_type": "code",
   "execution_count": null,
   "metadata": {},
   "outputs": [],
   "source": [
    "import collections\n",
    " \n",
    "my_genera = ['Helicobacter', 'Escherichia', 'Lactobacillus',\n",
    "             'Lactobacillus', 'Oryza', 'Wolbachia', 'Oryza',\n",
    "             'Rattus', 'Lactobacillus', 'Drosophila']\n",
    " \n",
    "c = collections.Counter(my_genera)\n",
    "print c\n",
    "##Note that placing the list into Counter() immediately gets\n",
    "##you the count."
   ]
  },
  {
   "cell_type": "markdown",
   "metadata": {},
   "source": [
    "The collections module gives us a new data type, __Counter__, that counts things. It is essentially a dictionary where the key is some element we are recording and the value is the count of how often it appears. "
   ]
  },
  {
   "cell_type": "code",
   "execution_count": null,
   "metadata": {},
   "outputs": [],
   "source": [
    "# The hard way - setting up a dictionary and keeping manual track of counts.\n",
    "counts = {}\n",
    " \n",
    "for genus in my_genera:\n",
    "    if genus not in counts:\n",
    "        counts[genus] = 0\n",
    "    counts[genus] += 1\n",
    "\n",
    "print \"The dictionary\", counts"
   ]
  },
  {
   "cell_type": "markdown",
   "metadata": {},
   "source": [
    "Using a __Counter__ is faster to write and saves us writing this bit of code every time we want to something. Another big advantage of the __Counter__ type is that it makes it really easy to sort by frequency:"
   ]
  },
  {
   "cell_type": "code",
   "execution_count": null,
   "metadata": {},
   "outputs": [],
   "source": [
    "my_seq = ['MET', 'GLU', 'VAL', 'LYS', 'ARG', 'GLU', 'HIS', 'TRP', 'ALA',\n",
    "          'THR', 'ARG', 'LEU', 'GLY', 'LEU', 'ILE', 'LEU', 'ALA', 'MET',\n",
    "          'ALA', 'GLY', 'ASN', 'ALA', 'VAL', 'GLY', 'LEU', 'GLY', 'ASN',\n",
    "          'PHE', 'LEU', 'ARG', 'PHE', 'PRO', 'VAL', 'GLN', 'ALA', 'ALA',\n",
    "          'GLU', 'ASN', 'GLY', 'GLY', 'GLY', 'ALA', 'PHE', 'MET', 'ILE',\n",
    "          'PRO', 'TYR', 'ILE', 'ILE', 'ALA', 'PHE', 'LEU', 'LEU', 'VAL',\n",
    "          'GLY', 'ILE', 'PRO', 'LEU', 'MET', 'TRP', 'ILE', 'GLU', 'TRP',\n",
    "          'ALA', 'MET', 'GLY', 'ARG', 'TYR', 'GLY', 'GLY', 'ALA', 'GLN',\n",
    "          'GLY', 'HIS', 'GLY', 'THR', 'THR', 'PRO', 'ILE', 'VAL', 'PHE',\n",
    "          'LEU', 'ILE', 'THR', 'MET', 'PHE', 'ILE', 'ASN', 'VAL', 'SER',\n",
    "          'ILE', 'LEU', 'ILE', 'ARG', 'GLY', 'ILE', 'SER', 'LYS', 'GLY',\n",
    "          'ILE', 'GLU', 'ARG', 'PHE', 'ALA', 'LYS', 'ILE', 'ALA', 'MET',\n",
    "          'PRO', 'THR', 'LEU', 'PHE', 'ILE', 'LEU', 'ALA', 'VAL', 'PHE',\n",
    "          'LEU', 'VAL', 'ILE', 'ARG', 'VAL', 'PHE', 'LEU', 'LEU', 'GLU',\n",
    "          'THR', 'PRO', 'ASN', 'GLY', 'THR', 'ALA', 'ALA', 'ASP']\n",
    "\n",
    "c = collections.Counter(my_seq)\n",
    " \n",
    "print c\n",
    "print\n",
    "print\n",
    "print c.most_common()\n",
    "print \"\\n\\nThis is the most common: \",c.most_common()[0][0],\n",
    "print \" which shows up\", c.most_common()[0][1],\"times.\""
   ]
  },
  {
   "cell_type": "markdown",
   "metadata": {},
   "source": [
    "*Counter.*__most_common()__ returns a list of tuples, sorted in order by highest count to lowest count.\n",
    "\n",
    "The other __collections__ type we will cover is __defaultdict__, which is also like a dictionary, but has a default type for a key that we haven't seen before (with a normal dictionary, if you try to read something where the key isn't in the dict, then you get an error). Let's think about how we'd make a dictionary where each key is a genus, and the value is a list of species in that genus:"
   ]
  },
  {
   "cell_type": "code",
   "execution_count": null,
   "metadata": {},
   "outputs": [],
   "source": [
    "# Let's set up a list of tuples. \n",
    "# Format is (genus, species)\n",
    "my_species = [('Helicobacter','pylori'), \n",
    "              ('Escherichia','coli'),\n",
    "              ('Lactobacillus', 'helveticus'),\n",
    "              ('Lactobacillus', 'acidophilus'),\n",
    "              ('Oryza', 'sativa'), \n",
    "              ('Wolbachia', 'pipientis'),\n",
    "              ('Oryza', 'glabberima'), \n",
    "              ('Rattus', 'norvegicus'),\n",
    "              ('Lactobacillus','casei'), \n",
    "              ('Drosophila','melanogaster')]"
   ]
  },
  {
   "cell_type": "code",
   "execution_count": null,
   "metadata": {},
   "outputs": [],
   "source": [
    "# Review - we can assign tuples in series....\n",
    "foo, bar = (\"genus\",\"species\")\n",
    "print foo\n",
    "print bar"
   ]
  },
  {
   "cell_type": "code",
   "execution_count": null,
   "metadata": {},
   "outputs": [],
   "source": [
    "# we can loop over them, too:\n",
    "for genus, species in my_species:\n",
    "    print \"Genus: \", genus\n",
    "    print \"Species: \", species,\n"
   ]
  },
  {
   "cell_type": "code",
   "execution_count": null,
   "metadata": {},
   "outputs": [],
   "source": [
    "# let's build a dictionary with keys that are genera and \n",
    "# values that are lists of species.\n",
    "\n",
    "old_style_dict = {}\n",
    "for genus, species in my_species:\n",
    "    if genus not in old_style_dict:\n",
    "        old_style_dict[genus] = []\n",
    "    old_style_dict[genus].append(species)\n",
    "\n",
    "print \"normal dictionary -- \", old_style_dict"
   ]
  },
  {
   "cell_type": "markdown",
   "metadata": {},
   "source": [
    "Let's try that in the [debugger](http://www.pythontutor.com/visualize.html#mode=edit)"
   ]
  },
  {
   "cell_type": "markdown",
   "metadata": {},
   "source": [
    "With a __defaultdict__, we can once again save the line in the for loop where we check for a non-existent key:"
   ]
  },
  {
   "cell_type": "code",
   "execution_count": null,
   "metadata": {},
   "outputs": [],
   "source": [
    "import collections\n",
    "    \n",
    "default_style_dict = collections.defaultdict(list)\n",
    " \n",
    "for genus, species in my_species:\n",
    "    default_style_dict[genus].append(species)\n",
    "\n",
    "print \"default dict -- \", default_style_dict"
   ]
  },
  {
   "cell_type": "markdown",
   "metadata": {},
   "source": [
    "Moreover, if we check for the species in a genus that has no species, we no longer receive an error."
   ]
  },
  {
   "cell_type": "code",
   "execution_count": null,
   "metadata": {},
   "outputs": [],
   "source": [
    "print old_style_dict['no-such-thing']"
   ]
  },
  {
   "cell_type": "code",
   "execution_count": null,
   "metadata": {},
   "outputs": [],
   "source": [
    "print default_style_dict['no-such-thing']"
   ]
  },
  {
   "cell_type": "markdown",
   "metadata": {},
   "source": [
    "One thing to look at is the line where we actually declare the defaultdict: here we've given it another type, and if we use a key that's not in the dictionary already, it will initialize it to be an empty variable of that type. Most often, this will be a list, but you could imagine uses for other types, like a string, an integer (here \"empty\" actually would mean 0), or even another dict. It's possible to even have a defaultdict of defaultdicts!"
   ]
  },
  {
   "cell_type": "markdown",
   "metadata": {},
   "source": [
    "## Finding modules\n",
    "\n",
    "There are literally thousands of Python modules available, and most of them can be installed with the \"pip\" utility that we ran on the first day of class.\n",
    "\n",
    "For example, I needed a way to work with YAML files (a very simple format for markup)....\n",
    "[so I looked it up...](http://bfy.tw/HMqn)\n",
    "\n",
    "And found that pyYaml is a thing! Hooray!\n",
    "\n",
    "```bash\n",
    "pip install pyyaml\n",
    "```\n",
    "\n",
    "Got me access to pyyaml, and then all I had to do was import..."
   ]
  },
  {
   "cell_type": "markdown",
   "metadata": {},
   "source": [
    "## Making modules\n"
   ]
  },
  {
   "cell_type": "markdown",
   "metadata": {},
   "source": [
    "Now that you know the basics of __import__ing and using a module, you will learn how to write our own modules, which is almost just as easy!\n",
    "\n",
    "Any file of python code with a *.py* extension can be __import__ed as a module from your script. When you invoke an __import__ operation from a program, all the statements in the __import__ed module are executed immediately. The program also gains access to names assigned in the module (names can be functions, variables, classes, etc.), which can be invoked in the program using the syntax *module.name*. Find the following script in the file *greeting_module.py*:\n",
    "\n",
    "```python\n",
    "print 'The top of the greeting_module has been read.'\n",
    " \n",
    "def hello(name):\n",
    " greeting = \"Hello {}!\".format(name)\n",
    " return greeting\n",
    " \n",
    "def ahoy(name):\n",
    " greeting = \"Ahoy-hoy {}!\".format(name)\n",
    " return greeting\n",
    " \n",
    "x = 5\n",
    " \n",
    "print 'The bottom of the greeting_module has been read.'\n",
    "```\n",
    "\n",
    "The following script will call the module **greeting_module** and use the functions and variables located within the module."
   ]
  },
  {
   "cell_type": "code",
   "execution_count": null,
   "metadata": {},
   "outputs": [],
   "source": [
    "# Make sure you reset your kernel before running this cell,\n",
    "# or you won't see the output from greeting_module.\n",
    "import greeting_module\n",
    "\n",
    "greeting = greeting_module.hello('Christopher')\n",
    "print greeting\n",
    "print\n",
    "\n",
    "x = 1\n",
    "print 'x within greeting_module:', greeting_module.x\n",
    "print 'x within the __main__ module:', x"
   ]
  },
  {
   "cell_type": "markdown",
   "metadata": {},
   "source": [
    "### Other stuff to know about modules\n",
    "\n",
    "You can import just a few things from a module \n",
    "\n",
    "```python\n",
    "from greeting_module import ahoy\n",
    "```\n",
    "\n",
    "and you can rename a module...\n",
    "\n",
    "```python\n",
    "import greeting_module as insult_module\n",
    "```"
   ]
  },
  {
   "cell_type": "code",
   "execution_count": null,
   "metadata": {},
   "outputs": [],
   "source": [
    "# And we can use a clever bit of iPython to show us what's currently imported...\n",
    "import collections\n",
    "import greeting_module\n",
    "%who"
   ]
  },
  {
   "cell_type": "code",
   "execution_count": null,
   "metadata": {},
   "outputs": [],
   "source": [
    "# and, we can look at the contents of a module...\n",
    "dir(greeting_module)"
   ]
  },
  {
   "cell_type": "code",
   "execution_count": null,
   "metadata": {},
   "outputs": [],
   "source": [
    "# some of them get complex!\n",
    "dir(collections)"
   ]
  },
  {
   "cell_type": "markdown",
   "metadata": {},
   "source": [
    "### Woah - a bit about naming\n",
    "\n",
    "[pep8](https://www.python.org/dev/peps/pep-0008/) tells us \"Use one leading underscore only for non-public methods and instance variables.\" \n",
    "\n",
    "That means that those variables and methods that start with '_' aren't meant to be used outside of the collections module.\n",
    "\n",
    "Generally speaking, you woudn't use __dir()__ on a collection, you'd look on the web for the module's documentation. As you can see, they get hairy under the covers!\n",
    "\n",
    "The >double< underscore methods are called \"dunder\" methods (double-under). These let us alter the behaviour of Python itself - this is a fairly advanced topic. For now, know that you woudn't invoke those directly."
   ]
  },
  {
   "cell_type": "markdown",
   "metadata": {},
   "source": [
    "## More about import\n",
    "\n",
    "__import__ can bring in whole modules (as above, where we imported all of collections).\n",
    "\n",
    "It can also bring in just one function, and it can place it in \"local\" scope. And it can rename it!\n",
    "\n",
    "This is useful in case of a naming conflict."
   ]
  },
  {
   "cell_type": "code",
   "execution_count": null,
   "metadata": {},
   "outputs": [],
   "source": [
    "import greeting_module\n",
    "from greeting_module import ahoy"
   ]
  },
  {
   "cell_type": "code",
   "execution_count": null,
   "metadata": {},
   "outputs": [],
   "source": [
    "%who"
   ]
  },
  {
   "cell_type": "code",
   "execution_count": null,
   "metadata": {},
   "outputs": [],
   "source": [
    "greeting_module.ahoy(\"joe\")"
   ]
  },
  {
   "cell_type": "code",
   "execution_count": null,
   "metadata": {},
   "outputs": [],
   "source": [
    "ahoy(\"joe\")"
   ]
  },
  {
   "cell_type": "code",
   "execution_count": null,
   "metadata": {},
   "outputs": [],
   "source": [
    "from greeting_module import ahoy as pirate_hello"
   ]
  },
  {
   "cell_type": "code",
   "execution_count": null,
   "metadata": {},
   "outputs": [],
   "source": [
    "%who"
   ]
  },
  {
   "cell_type": "code",
   "execution_count": null,
   "metadata": {},
   "outputs": [],
   "source": [
    "pirate_hello(\"joe\")"
   ]
  }
 ],
 "metadata": {
  "anaconda-cloud": {},
  "kernelspec": {
   "display_name": "Python 2",
   "language": "python",
   "name": "python2"
  },
  "language_info": {
   "codemirror_mode": {
    "name": "ipython",
    "version": 2
   },
   "file_extension": ".py",
   "mimetype": "text/x-python",
   "name": "python",
   "nbconvert_exporter": "python",
   "pygments_lexer": "ipython2",
   "version": "2.7.13"
  }
 },
 "nbformat": 4,
 "nbformat_minor": 1
}
