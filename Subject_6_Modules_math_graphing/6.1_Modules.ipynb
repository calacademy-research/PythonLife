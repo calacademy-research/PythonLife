{
 "cells": [
  {
   "cell_type": "markdown",
   "metadata": {},
   "source": [
    "# Modules and math libraries\n",
    "## Topics\n",
    "- Modules - indepedent collections of related functions\n",
    "- Using Modules - math & collections\n",
    "\n",
    "## Introduction\n",
    "\n",
    "\n",
    "\n",
    "First up we'll be discussing modules and how they are used to organize code.\n"
   ]
  },
  {
   "cell_type": "markdown",
   "metadata": {},
   "source": [
    "## Modules\n",
    "\n",
    "In all of the examples so far, we defined our functions right above the code that we hoped to execute. If you have many functions, you can see how this would get messy in a hurry. \n",
    "Furthermore, part of the benefit of functions is that you can call them multiple times within a program to execute the same operations without writing them all out again. \n",
    "\n",
    "But wouldn't it be nice to share functions across programs, too? \n",
    "\n",
    "For example, working with genomic data means lots of time getting sequence out of FASTA files, and shuttling that sequence from program to program. Many of the programs we work with overlap to a significant degree, as they need to parse FASTA files, calculate evolutionary rates, and interface with our lab servers, for example -- all of which means that many of them share functions. And if the same function exists in two or more different programs, we hit the same problems that we hit before: complex debugging, decreased readability, and, of course, too much typing.\n",
    "\n",
    "Modules solve these problems. In short, they're collections of code that are kept together in a single file that can be read and __import__ed by any number of programs.\n",
    "\n",
    "### The Basics: Using the math module\n",
    "\n",
    "To illustrate the basics, we'll go through the use of the __math__ module, a module which we use almost all the time. To use a function or variable in the __math__ module, use the syntax \n",
    "__math.__*NameOfThing"
   ]
  },
  {
   "cell_type": "code",
   "execution_count": null,
   "metadata": {
    "collapsed": true
   },
   "outputs": [],
   "source": [
    "##to use a module in your code, first import it\n",
    "import math\n",
    "\n",
    "x = 5\n",
    "\n",
    "##Modules usually contain functions\n",
    "log10 = math.log10(x)\n",
    "cos = math.cos(x)\n",
    "\n",
    "##sometimes modules contain variables\n",
    "pi = math.pi\n",
    "e = math.e\n",
    "\n",
    "print log10, cos, pi, e"
   ]
  },
  {
   "cell_type": "code",
   "execution_count": null,
   "metadata": {
    "collapsed": true
   },
   "outputs": [],
   "source": [
    "math.cos?"
   ]
  },
  {
   "cell_type": "markdown",
   "metadata": {},
   "source": [
    "### The collections module\n",
    "\n",
    "Another useful module is the __collections__ module. It has a bunch of new data types that are, as you might guess from the name, collections of other things. We will cover two of the most commonly used objects: __Counter__ and __defaultdict__. Let's start with __Counter__, which counts things."
   ]
  },
  {
   "cell_type": "code",
   "execution_count": null,
   "metadata": {
    "collapsed": true
   },
   "outputs": [],
   "source": [
    "import collections\n",
    " \n",
    "my_genera = ['Helicobacter', 'Escherichia', 'Lactobacillus',\n",
    "             'Lactobacillus', 'Oryza', 'Wolbachia', 'Oryza',\n",
    "             'Rattus', 'Lactobacillus', 'Drosophila']\n",
    " \n",
    "c = collections.Counter(my_genera)\n",
    "print c\n",
    "##Note that placing the list into Counter() immediately gets\n",
    "##you the count."
   ]
  },
  {
   "cell_type": "markdown",
   "metadata": {},
   "source": [
    "The collections module gives us a new data type, __Counter__, that counts things. It is essentially a dictionary where the key is some element we are recording and the value is the count of how often it appears. Remember that list of amino acids we got the count for in the exercises in Section 2.1? There, we created a dictionary where every key was initialized with a value of zero, and then proceeded to add one for each observance. Here, we can just use a __Counter__ to get the count of each unique element in the list."
   ]
  },
  {
   "cell_type": "code",
   "execution_count": null,
   "metadata": {
    "collapsed": true
   },
   "outputs": [],
   "source": [
    "##This is how we did a count in a dictionary. Many more lines of code!\n",
    "counts = {}\n",
    " \n",
    "for genus in my_genera:\n",
    "    if genus not in counts:\n",
    "        counts[genus] = 0\n",
    "    counts[genus] += 1\n",
    "\n",
    "print \"The dictionary\", counts"
   ]
  },
  {
   "cell_type": "markdown",
   "metadata": {},
   "source": [
    "Using a __Counter__ is faster to write and saves us writing this bit of code every time we want to something. Another big advantage of the __Counter__ type is that it makes it really easy to sort by frequency:"
   ]
  },
  {
   "cell_type": "code",
   "execution_count": null,
   "metadata": {
    "collapsed": true
   },
   "outputs": [],
   "source": [
    "my_seq = ['MET', 'GLU', 'VAL', 'LYS', 'ARG', 'GLU', 'HIS', 'TRP', 'ALA',\n",
    "          'THR', 'ARG', 'LEU', 'GLY', 'LEU', 'ILE', 'LEU', 'ALA', 'MET',\n",
    "          'ALA', 'GLY', 'ASN', 'ALA', 'VAL', 'GLY', 'LEU', 'GLY', 'ASN',\n",
    "          'PHE', 'LEU', 'ARG', 'PHE', 'PRO', 'VAL', 'GLN', 'ALA', 'ALA',\n",
    "          'GLU', 'ASN', 'GLY', 'GLY', 'GLY', 'ALA', 'PHE', 'MET', 'ILE',\n",
    "          'PRO', 'TYR', 'ILE', 'ILE', 'ALA', 'PHE', 'LEU', 'LEU', 'VAL',\n",
    "          'GLY', 'ILE', 'PRO', 'LEU', 'MET', 'TRP', 'ILE', 'GLU', 'TRP',\n",
    "          'ALA', 'MET', 'GLY', 'ARG', 'TYR', 'GLY', 'GLY', 'ALA', 'GLN',\n",
    "          'GLY', 'HIS', 'GLY', 'THR', 'THR', 'PRO', 'ILE', 'VAL', 'PHE',\n",
    "          'LEU', 'ILE', 'THR', 'MET', 'PHE', 'ILE', 'ASN', 'VAL', 'SER',\n",
    "          'ILE', 'LEU', 'ILE', 'ARG', 'GLY', 'ILE', 'SER', 'LYS', 'GLY',\n",
    "          'ILE', 'GLU', 'ARG', 'PHE', 'ALA', 'LYS', 'ILE', 'ALA', 'MET',\n",
    "          'PRO', 'THR', 'LEU', 'PHE', 'ILE', 'LEU', 'ALA', 'VAL', 'PHE',\n",
    "          'LEU', 'VAL', 'ILE', 'ARG', 'VAL', 'PHE', 'LEU', 'LEU', 'GLU',\n",
    "          'THR', 'PRO', 'ASN', 'GLY', 'THR', 'ALA', 'ALA', 'ASP']\n",
    "\n",
    "c = collections.Counter(my_seq)\n",
    " \n",
    "print c\n",
    "print\n",
    "print\n",
    "print c.most_common()"
   ]
  },
  {
   "cell_type": "markdown",
   "metadata": {},
   "source": [
    "*Counter.*__most_common()__ returns a list of tuples, sorted in order by highest count to lowest count.\n",
    "\n",
    "The other __collections__ type we will cover is __defaultdict__, which is also like a dictionary, but has a default type for a key that we haven't seen before (with a normal dictionary, if you try to read something where the key isn't in the dict, then you get an error). Let's think about how we'd make a dictionary where each key is a genus, and the value is a list of species in that genus:"
   ]
  },
  {
   "cell_type": "code",
   "execution_count": null,
   "metadata": {
    "collapsed": true
   },
   "outputs": [],
   "source": [
    "import collections\n",
    " \n",
    "my_species = [('Helicobacter','pylori'), ('Escherichia','coli'),\n",
    "              ('Lactobacillus', 'helveticus'),\n",
    "              ('Lactobacillus', 'acidophilus'),\n",
    "              ('Oryza', 'sativa'), ('Wolbachia', 'pipientis'),\n",
    "              ('Oryza', 'glabberima'), ('Rattus', 'norvegicus'),\n",
    "              ('Lactobacillus','casei'), ('Drosophila','melanogaster')]\n",
    " \n",
    "# Below, we put the list into a normal dictionary, \n",
    "# with genera as keys and species as values\n",
    "d1 = {}\n",
    "for genus, species in my_species:\n",
    "    if genus not in d1:\n",
    "        d1[genus] = []\n",
    "    d1[genus].append(species)\n",
    "\n",
    "print \"normal dictionary -- \", d1"
   ]
  },
  {
   "cell_type": "markdown",
   "metadata": {},
   "source": [
    "With a __defaultdict__, we can once again save the line in the for loop where we check for a non-existent key:"
   ]
  },
  {
   "cell_type": "code",
   "execution_count": null,
   "metadata": {
    "collapsed": true
   },
   "outputs": [],
   "source": [
    "d2 = collections.defaultdict(list)\n",
    " \n",
    "for genus, species in my_species:\n",
    "    d2[genus].append(species)\n",
    "\n",
    "print \"default dict -- \", d2"
   ]
  },
  {
   "cell_type": "markdown",
   "metadata": {},
   "source": [
    "Moreover, if we check for the species in a genus that has no species, we no longer receive an error."
   ]
  },
  {
   "cell_type": "code",
   "execution_count": null,
   "metadata": {
    "collapsed": true
   },
   "outputs": [],
   "source": [
    "print d2['Saccharomyces']"
   ]
  },
  {
   "cell_type": "markdown",
   "metadata": {},
   "source": [
    "One thing to look at is the line where we actually declare the defaultdict: here we've given it another type, and if we use a key that's not in the dictionary already, it will initialize it to be an empty variable of that type. Most often, this will be a list, but you could imagine uses for other types, like a string, an integer (here \"empty\" actually would mean 0), or even another dict. It's possible to even have a defaultdict of defaultdicts!"
   ]
  },
  {
   "cell_type": "markdown",
   "metadata": {},
   "source": [
    "## Finding modules\n",
    "\n",
    "Placeholder - googling modules, using pip (did we install pip on windows machines?)\n"
   ]
  },
  {
   "cell_type": "markdown",
   "metadata": {},
   "source": [
    "## Making modules\n",
    "\n",
    "Hand-wave that this is possible"
   ]
  }
 ],
 "metadata": {
  "anaconda-cloud": {},
  "kernelspec": {
   "display_name": "Python 2",
   "language": "python",
   "name": "python2"
  },
  "language_info": {
   "codemirror_mode": {
    "name": "ipython",
    "version": 2
   },
   "file_extension": ".py",
   "mimetype": "text/x-python",
   "name": "python",
   "nbconvert_exporter": "python",
   "pygments_lexer": "ipython2",
   "version": "2.7.13"
  }
 },
 "nbformat": 4,
 "nbformat_minor": 1
}
