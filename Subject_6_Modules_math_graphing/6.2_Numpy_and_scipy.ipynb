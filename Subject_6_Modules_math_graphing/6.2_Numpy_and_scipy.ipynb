{
 "cells": [
  {
   "cell_type": "markdown",
   "metadata": {},
   "source": [
    "# Manipulating Data with Numpy and Scipy\n",
    "## Topics\n",
    "\n",
    "- Array data types with numpy\n",
    "- Basic statistical analysis with numpy tools\n",
    "- Introduction to the scipy packages\n",
    "\n",
    "## Introduction\n",
    "\n",
    "Today we're covering libraries that are an important part of the core Python data stack - numpy and scipy\n",
    "\n",
    "**Numpy** is a library for fast numerical processing on 1-dimensional (arrays) or 2-dimensional (tables/matrics) data types.\n",
    "\n",
    "**Scipy** contains more advanced tools for statistics and regression.\n"
   ]
  },
  {
   "cell_type": "markdown",
   "metadata": {},
   "source": [
    "## NumPy Basics\n",
    "Numerical Python is a powerful library of functions, methods, and data types we can used to analyze our data. Unforunately, it also uses a different set of rules. Let's start off creating some empty arrays, which look like lists, but are in fact vectors.\n",
    "\n",
    "NumPy arrays differ in a few fundamental ways from Python lists:\n",
    "\n",
    "1. **Arrays cannot be of mixed types.** They can be all integers, floats, strings, logical (or boolean) values, or other immutable values. They also cannot contain mutable types such as lists. \n",
    "\n",
    "2. Arrays can be multidimensional, but they must be rectangular. You can have a list of lists, where the first interior list is 3 elements long, the second 5, and the third 12, but for your multidemsional arrays, every row must have the same number of columns.\n",
    "\n",
    "3. We can perform vector operations on them, which can be algebraic functions (like a dot product), or simple replacements of values in a slice of the array."
   ]
  },
  {
   "cell_type": "markdown",
   "metadata": {},
   "source": [
    "### Reviewing basic python lists\n",
    "\n",
    "We have looked at lists before, but we haven't explicitly discussed multi-dimensional arrays. This actually has been implied - we can place anything in a lis, so why not another list? Thusly:"
   ]
  },
  {
   "cell_type": "code",
   "execution_count": 3,
   "metadata": {},
   "outputs": [
    {
     "name": "stdout",
     "output_type": "stream",
     "text": [
      "6\n"
     ]
    }
   ],
   "source": [
    "flat_list = [1,2,3]\n",
    "list_of_lists = [[1,2,3],[4,5,6],[7,8,9]]\n",
    "print list_of_lists[1][2]"
   ]
  },
  {
   "cell_type": "markdown",
   "metadata": {},
   "source": [
    "Noe that what python calls lists, most other languages - and NumPy - call arrays. They're pretty similar, with the exceptions called out above."
   ]
  },
  {
   "cell_type": "markdown",
   "metadata": {},
   "source": [
    "## Arrays\n",
    "Here's one way: start with a list and turn it into an array with the array method:"
   ]
  },
  {
   "cell_type": "code",
   "execution_count": 1,
   "metadata": {},
   "outputs": [
    {
     "name": "stdout",
     "output_type": "stream",
     "text": [
      "<type 'list'>\n",
      "<type 'numpy.ndarray'>\n",
      "[0 0 0 0 0 0 0 0 0 0 0 0 0 0 0 0 0 0 0 0 0 0 0 0 0 0 0 0 0 0 0 0 0 0 0 0 0\n",
      " 0 0 0]\n"
     ]
    }
   ],
   "source": [
    "import numpy as np\n",
    "\n",
    "a = [0] * 40 #Remember this trick? This creates a list with 40 elements, each \"0\"\n",
    "print type(a)\n",
    "a = np.array(a)\n",
    "print type(a)\n",
    "print a"
   ]
  },
  {
   "cell_type": "markdown",
   "metadata": {},
   "source": [
    "You now have an array a of 1 row and 40 columns with zeros. But there's a better way to get a vector of zeros:"
   ]
  },
  {
   "cell_type": "code",
   "execution_count": null,
   "metadata": {
    "collapsed": true
   },
   "outputs": [],
   "source": [
    "a = np.zeros(40)"
   ]
  },
  {
   "cell_type": "markdown",
   "metadata": {},
   "source": [
    "And here's how to declare something that's not all zeros"
   ]
  },
  {
   "cell_type": "code",
   "execution_count": 2,
   "metadata": {},
   "outputs": [
    {
     "name": "stdout",
     "output_type": "stream",
     "text": [
      "[ 0  1  2  3  4  5  6  7  8  9 10 11 12 13 14 15 16 17 18 19 20 21 22 23 24\n",
      " 25 26 27 28 29 30 31 32 33 34 35 36 37 38 39]\n"
     ]
    },
    {
     "data": {
      "text/plain": [
       "numpy.int64"
      ]
     },
     "execution_count": 2,
     "metadata": {},
     "output_type": "execute_result"
    }
   ],
   "source": [
    "a = np.arange(40)\n",
    "print a\n",
    "type(a[0])"
   ]
  },
  {
   "cell_type": "markdown",
   "metadata": {},
   "source": [
    "Notice the int type.\n",
    "\n",
    "What if we want a float? There's a couple ways to do it:"
   ]
  },
  {
   "cell_type": "code",
   "execution_count": 3,
   "metadata": {
    "scrolled": true
   },
   "outputs": [
    {
     "name": "stdout",
     "output_type": "stream",
     "text": [
      "<type 'numpy.float64'>\n",
      "<type 'numpy.float64'>\n"
     ]
    }
   ],
   "source": [
    "a = np.arange(40, dtype=float)  # Explicitly tell it to use floats\n",
    "print type(a[0])\n",
    "\n",
    "a = np.arange(40.0)  # If you give it a float for the length, it will automatically use floats\n",
    "print type(a[0])"
   ]
  },
  {
   "cell_type": "markdown",
   "metadata": {},
   "source": [
    "Like with range(), you can also give arange() more parameters:"
   ]
  },
  {
   "cell_type": "code",
   "execution_count": 4,
   "metadata": {},
   "outputs": [
    {
     "data": {
      "text/plain": [
       "array([40, 41, 42, 43, 44, 45, 46, 47, 48, 49])"
      ]
     },
     "execution_count": 4,
     "metadata": {},
     "output_type": "execute_result"
    }
   ],
   "source": [
    "np.arange(40, 50)  # Start and Stop"
   ]
  },
  {
   "cell_type": "code",
   "execution_count": 5,
   "metadata": {},
   "outputs": [
    {
     "data": {
      "text/plain": [
       "array([40, 42, 44, 46, 48])"
      ]
     },
     "execution_count": 5,
     "metadata": {},
     "output_type": "execute_result"
    }
   ],
   "source": [
    "np.arange(40, 50, 2) # Start, Stop, and increment\n"
   ]
  },
  {
   "cell_type": "code",
   "execution_count": 6,
   "metadata": {},
   "outputs": [
    {
     "data": {
      "text/plain": [
       "array([ 40.  ,  40.25,  40.5 ,  40.75,  41.  ,  41.25,  41.5 ,  41.75,\n",
       "        42.  ,  42.25,  42.5 ,  42.75,  43.  ,  43.25,  43.5 ,  43.75,\n",
       "        44.  ,  44.25,  44.5 ,  44.75,  45.  ,  45.25,  45.5 ,  45.75,\n",
       "        46.  ,  46.25,  46.5 ,  46.75,  47.  ,  47.25,  47.5 ,  47.75,\n",
       "        48.  ,  48.25,  48.5 ,  48.75,  49.  ,  49.25,  49.5 ,  49.75])"
      ]
     },
     "execution_count": 6,
     "metadata": {},
     "output_type": "execute_result"
    }
   ],
   "source": [
    "np.arange(40,50,.25)"
   ]
  },
  {
   "cell_type": "markdown",
   "metadata": {},
   "source": [
    "As I said above, you can have arrays with more than one dimension"
   ]
  },
  {
   "cell_type": "code",
   "execution_count": 7,
   "metadata": {},
   "outputs": [
    {
     "data": {
      "text/plain": [
       "array([[ 0.,  0.,  0.,  0.,  0.,  0.,  0.,  0.,  0.,  0.],\n",
       "       [ 0.,  0.,  0.,  0.,  0.,  0.,  0.,  0.,  0.,  0.],\n",
       "       [ 0.,  0.,  0.,  0.,  0.,  0.,  0.,  0.,  0.,  0.],\n",
       "       [ 0.,  0.,  0.,  0.,  0.,  0.,  0.,  0.,  0.,  0.],\n",
       "       [ 0.,  0.,  0.,  0.,  0.,  0.,  0.,  0.,  0.,  0.],\n",
       "       [ 0.,  0.,  0.,  0.,  0.,  0.,  0.,  0.,  0.,  0.],\n",
       "       [ 0.,  0.,  0.,  0.,  0.,  0.,  0.,  0.,  0.,  0.],\n",
       "       [ 0.,  0.,  0.,  0.,  0.,  0.,  0.,  0.,  0.,  0.],\n",
       "       [ 0.,  0.,  0.,  0.,  0.,  0.,  0.,  0.,  0.,  0.],\n",
       "       [ 0.,  0.,  0.,  0.,  0.,  0.,  0.,  0.,  0.,  0.]])"
      ]
     },
     "execution_count": 7,
     "metadata": {},
     "output_type": "execute_result"
    }
   ],
   "source": [
    "a = np.zeros(  (10, 10)   ) # Note the inner set of parentheses. (Rows, Columns)\n",
    "a"
   ]
  },
  {
   "cell_type": "markdown",
   "metadata": {},
   "source": [
    "And you can even modify a particular element with the same syntax, or a subtly different syntax, as our list-of-lists:"
   ]
  },
  {
   "cell_type": "code",
   "execution_count": 12,
   "metadata": {},
   "outputs": [
    {
     "name": "stdout",
     "output_type": "stream",
     "text": [
      "array([[  0.,   0.,   0.,   0.,   0.,   0.,   0.,   0.,   0.,   0.],\n",
      "       [  0.,   0.,   0.,   0.,   0.,   0.,   0.,   0.,   0.,   0.],\n",
      "       [  0.,   0.,   0.,   0.,   0.,   0.,   0.,   0.,   0.,   0.],\n",
      "       [  0.,   0.,   0.,   0.,   0.,   0.,   0.,   0.,   0.,   0.],\n",
      "       [  0.,   0.,   0.,   0.,   0.,   0.,   0.,   0.,   0.,   0.],\n",
      "       [  0.,   0.,   0.,   0.,   0.,   3.,   0.,   0.,   0.,   0.],\n",
      "       [  0.,   0.,   0.,   0.,   0.,   0.,  42.,   0.,   0.,   0.],\n",
      "       [  0.,   0.,   0.,   0.,   0.,   0.,   0.,   0.,   0.,   0.],\n",
      "       [  0.,   0.,   0.,   0.,   0.,   0.,   0.,   0.,   0.,   0.],\n",
      "       [  0.,   0.,   0.,   0.,   0.,   0.,   0.,   0.,   0.,   0.]])\n"
     ]
    }
   ],
   "source": [
    "a[5,5] = 3  # choose row, then column\n",
    "a[6,6] = 42  # Only one set of []\n",
    "a"
   ]
  },
  {
   "cell_type": "markdown",
   "metadata": {},
   "source": [
    "You can even add a number to a specific position using the '+=' notation."
   ]
  },
  {
   "cell_type": "code",
   "execution_count": 9,
   "metadata": {},
   "outputs": [
    {
     "data": {
      "text/plain": [
       "array([[  0.,   0.,   0.,   0.,   0.,   0.,   0.,   0.,   0.,   0.],\n",
       "       [  0.,   0.,   0.,   0.,   0.,   0.,   0.,   0.,   0.,   0.],\n",
       "       [  0.,   0.,   0.,   0.,   0.,   0.,   0.,   0.,   0.,   0.],\n",
       "       [  0.,   0.,   0.,   0.,   0.,   0.,   0.,   0.,   0.,   0.],\n",
       "       [  0.,   0.,   0.,   0.,   0.,   0.,   0.,   0.,   0.,   0.],\n",
       "       [  0.,   0.,   0.,   0.,   0.,   3.,   0.,   0.,   0.,   0.],\n",
       "       [  0.,   0.,   0.,   0.,   0.,   0.,  52.,   0.,   0.,   0.],\n",
       "       [  0.,   0.,   0.,   0.,   0.,   0.,   0.,   0.,   0.,   0.],\n",
       "       [  0.,   0.,   0.,   0.,   0.,   0.,   0.,   0.,   0.,   0.],\n",
       "       [  0.,   0.,   0.,   0.,   0.,   0.,   0.,   0.,   0.,   0.]])"
      ]
     },
     "execution_count": 9,
     "metadata": {},
     "output_type": "execute_result"
    }
   ],
   "source": [
    "a[6,6]+=10 # Add 10 to the nth row, nth column\n",
    "a"
   ]
  },
  {
   "cell_type": "markdown",
   "metadata": {},
   "source": [
    "So far, the coolest thing I've shown you isn't really that exciting: a range function that can have floats. The real power of arrays is the ability to have one statement affect a large chunk of an array:"
   ]
  },
  {
   "cell_type": "code",
   "execution_count": 13,
   "metadata": {},
   "outputs": [
    {
     "data": {
      "text/plain": [
       "array([[  0.,   0.,   0.,   0.,   0.,   0.,   0.,   0.,   0.,   0.],\n",
       "       [  1.,   1.,   1.,   1.,   1.,   1.,   1.,   1.,   1.,   1.],\n",
       "       [  0.,   0.,   0.,   0.,   0.,   0.,   0.,   0.,   0.,   0.],\n",
       "       [  0.,   0.,   0.,   0.,   0.,   0.,   0.,   0.,   0.,   0.],\n",
       "       [  0.,   0.,   0.,   0.,   0.,   0.,   0.,   0.,   0.,   0.],\n",
       "       [  0.,   0.,   0.,   0.,   0.,   3.,   0.,   0.,   0.,   0.],\n",
       "       [  0.,   0.,   0.,   0.,   0.,   0.,  42.,   0.,   0.,   0.],\n",
       "       [  0.,   0.,   0.,   0.,   0.,   0.,   0.,   0.,   0.,   0.],\n",
       "       [  0.,   0.,   0.,   0.,   0.,   0.,   0.,   0.,   0.,   0.],\n",
       "       [  0.,   0.,   0.,   0.,   0.,   0.,   0.,   0.,   0.,   0.]])"
      ]
     },
     "execution_count": 13,
     "metadata": {},
     "output_type": "execute_result"
    }
   ],
   "source": [
    "a[1,:] = 1\n",
    "a"
   ]
  },
  {
   "cell_type": "code",
   "execution_count": 14,
   "metadata": {},
   "outputs": [
    {
     "data": {
      "text/plain": [
       "array([[  7.,   0.,   0.,   0.,   0.,   0.,   0.,   0.,   0.,   0.],\n",
       "       [  7.,   1.,   1.,   1.,   1.,   1.,   1.,   1.,   1.,   1.],\n",
       "       [  7.,   0.,   0.,   0.,   0.,   0.,   0.,   0.,   0.,   0.],\n",
       "       [  7.,   0.,   0.,   0.,   0.,   0.,   0.,   0.,   0.,   0.],\n",
       "       [  7.,   0.,   0.,   0.,   0.,   0.,   0.,   0.,   0.,   0.],\n",
       "       [  7.,   0.,   0.,   0.,   0.,   3.,   0.,   0.,   0.,   0.],\n",
       "       [  7.,   0.,   0.,   0.,   0.,   0.,  42.,   0.,   0.,   0.],\n",
       "       [  7.,   0.,   0.,   0.,   0.,   0.,   0.,   0.,   0.,   0.],\n",
       "       [  7.,   0.,   0.,   0.,   0.,   0.,   0.,   0.,   0.,   0.],\n",
       "       [  7.,   0.,   0.,   0.,   0.,   0.,   0.,   0.,   0.,   0.]])"
      ]
     },
     "execution_count": 14,
     "metadata": {},
     "output_type": "execute_result"
    }
   ],
   "source": [
    "a[:,0] = 7\n",
    "a"
   ]
  },
  {
   "cell_type": "code",
   "execution_count": 15,
   "metadata": {},
   "outputs": [
    {
     "data": {
      "text/plain": [
       "array([[  7.,  -1.,  -1.,  -1.,  -1.,  -1.,  -1.,  -1.,  -1.,  -1.],\n",
       "       [  7.,   1.,   1.,   1.,   1.,   1.,   1.,   1.,   1.,   1.],\n",
       "       [  7.,  -1.,  -1.,  -1.,  -1.,  -1.,  -1.,  -1.,  -1.,  -1.],\n",
       "       [  7.,  -1.,  -1.,  -1.,  -1.,  -1.,  -1.,  -1.,  -1.,  -1.],\n",
       "       [  7.,  -1.,  -1.,  -1.,  -1.,  -1.,  -1.,  -1.,  -1.,  -1.],\n",
       "       [  7.,  -1.,  -1.,  -1.,  -1.,   3.,  -1.,  -1.,  -1.,  -1.],\n",
       "       [  7.,  -1.,  -1.,  -1.,  -1.,  -1.,  42.,  -1.,  -1.,  -1.],\n",
       "       [  7.,  -1.,  -1.,  -1.,  -1.,  -1.,  -1.,  -1.,  -1.,  -1.],\n",
       "       [  7.,  -1.,  -1.,  -1.,  -1.,  -1.,  -1.,  -1.,  -1.,  -1.],\n",
       "       [  7.,  -1.,  -1.,  -1.,  -1.,  -1.,  -1.,  -1.,  -1.,  -1.]])"
      ]
     },
     "execution_count": 15,
     "metadata": {},
     "output_type": "execute_result"
    }
   ],
   "source": [
    "a[a == 0] = -1\n",
    "a"
   ]
  },
  {
   "cell_type": "markdown",
   "metadata": {},
   "source": [
    "Let us pause for a moment and think about how we would do this with a for loop in lists:"
   ]
  },
  {
   "cell_type": "code",
   "execution_count": null,
   "metadata": {
    "collapsed": true
   },
   "outputs": [],
   "source": [
    "# Create a list of lists of all zeros\n",
    "LoL = [[0]*10 for i in range(10)] #LoL - List of Lists\n",
    " \n",
    "# Set entries in row 1 to 1\n",
    "for i, elem in enumerate(LoL[1]):\n",
    "    LoL[1][i] = 1\n",
    "\n",
    "# Set entries in column zero to 7\n",
    "for L in LoL:\n",
    "    L[0] = 7"
   ]
  },
  {
   "cell_type": "markdown",
   "metadata": {},
   "source": [
    "We can also take slices of arrays, just as if they were lists:"
   ]
  },
  {
   "cell_type": "code",
   "execution_count": 16,
   "metadata": {},
   "outputs": [
    {
     "data": {
      "text/plain": [
       "array([2, 3, 4])"
      ]
     },
     "execution_count": 16,
     "metadata": {},
     "output_type": "execute_result"
    }
   ],
   "source": [
    "a = np.arange(10)\n",
    "a[2:5]"
   ]
  },
  {
   "cell_type": "code",
   "execution_count": 17,
   "metadata": {},
   "outputs": [
    {
     "data": {
      "text/plain": [
       "9"
      ]
     },
     "execution_count": 17,
     "metadata": {},
     "output_type": "execute_result"
    }
   ],
   "source": [
    "a[-1]"
   ]
  },
  {
   "cell_type": "code",
   "execution_count": 18,
   "metadata": {},
   "outputs": [
    {
     "data": {
      "text/plain": [
       "array([9, 8, 7, 6, 5, 4, 3, 2, 1, 0])"
      ]
     },
     "execution_count": 18,
     "metadata": {},
     "output_type": "execute_result"
    }
   ],
   "source": [
    "a[::-1]"
   ]
  },
  {
   "cell_type": "markdown",
   "metadata": {},
   "source": [
    "Maybe you can see the advantage of the array syntax. But wait, there's more! Act now, and we'll throw in math operations for free!"
   ]
  },
  {
   "cell_type": "markdown",
   "metadata": {},
   "source": [
    "## Vector Math with Arrays\n",
    "We can do math on many values at once with arrays, no for loop required."
   ]
  },
  {
   "cell_type": "code",
   "execution_count": 19,
   "metadata": {},
   "outputs": [
    {
     "data": {
      "text/plain": [
       "array([ 0,  2,  4,  6,  8, 10, 12, 14, 16, 18, 20, 22, 24, 26, 28, 30, 32,\n",
       "       34, 36, 38, 40, 42, 44, 46, 48, 50, 52, 54, 56, 58, 60, 62, 64, 66,\n",
       "       68, 70, 72, 74, 76, 78, 80, 82, 84, 86, 88, 90, 92, 94, 96, 98])"
      ]
     },
     "execution_count": 19,
     "metadata": {},
     "output_type": "execute_result"
    }
   ],
   "source": [
    "a = np.arange(0, 100, 2)\n",
    "b = np.arange(50)\n",
    "\n",
    "a"
   ]
  },
  {
   "cell_type": "code",
   "execution_count": 20,
   "metadata": {},
   "outputs": [
    {
     "data": {
      "text/plain": [
       "array([ 0,  1,  2,  3,  4,  5,  6,  7,  8,  9, 10, 11, 12, 13, 14, 15, 16,\n",
       "       17, 18, 19, 20, 21, 22, 23, 24, 25, 26, 27, 28, 29, 30, 31, 32, 33,\n",
       "       34, 35, 36, 37, 38, 39, 40, 41, 42, 43, 44, 45, 46, 47, 48, 49])"
      ]
     },
     "execution_count": 20,
     "metadata": {},
     "output_type": "execute_result"
    }
   ],
   "source": [
    "b"
   ]
  },
  {
   "cell_type": "code",
   "execution_count": 21,
   "metadata": {},
   "outputs": [
    {
     "data": {
      "text/plain": [
       "array([  0. ,   0.5,   1. ,   1.5,   2. ,   2.5,   3. ,   3.5,   4. ,\n",
       "         4.5,   5. ,   5.5,   6. ,   6.5,   7. ,   7.5,   8. ,   8.5,\n",
       "         9. ,   9.5,  10. ,  10.5,  11. ,  11.5,  12. ,  12.5,  13. ,\n",
       "        13.5,  14. ,  14.5,  15. ,  15.5,  16. ,  16.5,  17. ,  17.5,\n",
       "        18. ,  18.5,  19. ,  19.5,  20. ,  20.5,  21. ,  21.5,  22. ,\n",
       "        22.5,  23. ,  23.5,  24. ,  24.5])"
      ]
     },
     "execution_count": 21,
     "metadata": {},
     "output_type": "execute_result"
    }
   ],
   "source": [
    "b / 2.0"
   ]
  },
  {
   "cell_type": "code",
   "execution_count": 22,
   "metadata": {},
   "outputs": [
    {
     "data": {
      "text/plain": [
       "array([   0,    2,    8,   18,   32,   50,   72,   98,  128,  162,  200,\n",
       "        242,  288,  338,  392,  450,  512,  578,  648,  722,  800,  882,\n",
       "        968, 1058, 1152, 1250, 1352, 1458, 1568, 1682, 1800, 1922, 2048,\n",
       "       2178, 2312, 2450, 2592, 2738, 2888, 3042, 3200, 3362, 3528, 3698,\n",
       "       3872, 4050, 4232, 4418, 4608, 4802])"
      ]
     },
     "execution_count": 22,
     "metadata": {},
     "output_type": "execute_result"
    }
   ],
   "source": [
    "a * b # Pairwise multiplication"
   ]
  },
  {
   "cell_type": "code",
   "execution_count": 26,
   "metadata": {},
   "outputs": [
    {
     "data": {
      "text/plain": [
       "80850"
      ]
     },
     "execution_count": 26,
     "metadata": {},
     "output_type": "execute_result"
    }
   ],
   "source": [
    "(a * b).sum()"
   ]
  },
  {
   "cell_type": "code",
   "execution_count": 27,
   "metadata": {},
   "outputs": [
    {
     "data": {
      "text/plain": [
       "80850"
      ]
     },
     "execution_count": 27,
     "metadata": {},
     "output_type": "execute_result"
    }
   ],
   "source": [
    "np.dot(a, b) # or can take the dot product"
   ]
  },
  {
   "cell_type": "markdown",
   "metadata": {},
   "source": [
    "## Basic Statistics with Numpy\n",
    "\n",
    "NumPy is **huge**, with around 1200 pages of [reference documentation](http://docs.scipy.org/doc/numpy/reference/index.html), but all of you will, at some point, use some basic statistics to get a feel for your data. So let's make sure we hit some of those functions:\n",
    "\n",
    "### Random distributions"
   ]
  },
  {
   "cell_type": "code",
   "execution_count": 28,
   "metadata": {},
   "outputs": [
    {
     "data": {
      "text/plain": [
       "array([ 80.36688279,  76.41797941,  44.01585452,  64.50250085,\n",
       "         7.58819767,  43.67894627,  42.91488035,   1.55866352,\n",
       "         7.45429728,  96.04192728])"
      ]
     },
     "execution_count": 28,
     "metadata": {},
     "output_type": "execute_result"
    }
   ],
   "source": [
    "a = np.random.uniform(0, 100, 10) # Low, High, Size of output\n",
    "a"
   ]
  },
  {
   "cell_type": "code",
   "execution_count": 29,
   "metadata": {},
   "outputs": [
    {
     "data": {
      "text/plain": [
       "array([[ 36.97633676,  71.34839968,  91.28748819],\n",
       "       [ 74.18891082,  70.0081467 ,  82.45181141],\n",
       "       [ 67.62637539,  61.28261491,  38.45541902]])"
      ]
     },
     "execution_count": 29,
     "metadata": {},
     "output_type": "execute_result"
    }
   ],
   "source": [
    "a = np.random.uniform(0, 100, (3,3)) # Can also give a shape for the third argument\n",
    "a"
   ]
  },
  {
   "cell_type": "code",
   "execution_count": 30,
   "metadata": {},
   "outputs": [
    {
     "data": {
      "text/plain": [
       "array([-0.60329543,  0.13584718,  0.70284179, -0.05241544,  1.94625975,\n",
       "       -1.16283852,  1.38540174, -0.11747696,  0.55827299,  0.55768998])"
      ]
     },
     "execution_count": 30,
     "metadata": {},
     "output_type": "execute_result"
    }
   ],
   "source": [
    "a = np.random.normal(0, 1, 10) # Normal distribution with mean=0, std=1, 10 samples\n",
    "a"
   ]
  },
  {
   "cell_type": "markdown",
   "metadata": {},
   "source": [
    "### Summary Statistics"
   ]
  },
  {
   "cell_type": "code",
   "execution_count": 44,
   "metadata": {},
   "outputs": [
    {
     "data": {
      "text/plain": [
       "5.0277401671991839"
      ]
     },
     "execution_count": 44,
     "metadata": {},
     "output_type": "execute_result"
    }
   ],
   "source": [
    "a = np.random.normal(5, 3, 1000)  # Draw 1000 numbers from the standard normal distribution with mean 5 and std 3\n",
    "np.mean(a) # Calculate the mean of this sample"
   ]
  },
  {
   "cell_type": "code",
   "execution_count": 45,
   "metadata": {},
   "outputs": [
    {
     "data": {
      "text/plain": [
       "3.0055975856853401"
      ]
     },
     "execution_count": 45,
     "metadata": {},
     "output_type": "execute_result"
    }
   ],
   "source": [
    "np.std(a) # Standard deviation"
   ]
  },
  {
   "cell_type": "code",
   "execution_count": 46,
   "metadata": {},
   "outputs": [
    {
     "data": {
      "text/plain": [
       "-4.649922139971908"
      ]
     },
     "execution_count": 46,
     "metadata": {},
     "output_type": "execute_result"
    }
   ],
   "source": [
    "np.min(a)"
   ]
  },
  {
   "cell_type": "code",
   "execution_count": 49,
   "metadata": {},
   "outputs": [
    {
     "data": {
      "text/plain": [
       "15.005527426033218"
      ]
     },
     "execution_count": 49,
     "metadata": {},
     "output_type": "execute_result"
    }
   ],
   "source": [
    "np.max(a)"
   ]
  },
  {
   "cell_type": "markdown",
   "metadata": {},
   "source": [
    "### Operating on 2d arrays\n",
    "One of the areas where numpy really shines is its ability to quickly operate along an axis of a 2d array"
   ]
  },
  {
   "cell_type": "code",
   "execution_count": 50,
   "metadata": {},
   "outputs": [
    {
     "data": {
      "text/plain": [
       "array([[ 1.,  1.,  1.],\n",
       "       [ 1.,  1.,  1.],\n",
       "       [ 1.,  1.,  1.],\n",
       "       [ 1.,  1.,  1.],\n",
       "       [ 1.,  1.,  1.]])"
      ]
     },
     "execution_count": 50,
     "metadata": {},
     "output_type": "execute_result"
    }
   ],
   "source": [
    "a = np.ones((5,3))# 5 rows, 3 columns\n",
    "a"
   ]
  },
  {
   "cell_type": "code",
   "execution_count": 51,
   "metadata": {},
   "outputs": [
    {
     "data": {
      "text/plain": [
       "15.0"
      ]
     },
     "execution_count": 51,
     "metadata": {},
     "output_type": "execute_result"
    }
   ],
   "source": [
    "a.sum()  # Sum over all elements"
   ]
  },
  {
   "cell_type": "code",
   "execution_count": 52,
   "metadata": {},
   "outputs": [
    {
     "data": {
      "text/plain": [
       "array([ 5.,  5.,  5.])"
      ]
     },
     "execution_count": 52,
     "metadata": {},
     "output_type": "execute_result"
    }
   ],
   "source": [
    "a.sum(axis=0)  # Sum across all rows"
   ]
  },
  {
   "cell_type": "markdown",
   "metadata": {},
   "source": [
    "Rows are axis 0 and Columns are axis 1.  The order here makes sense because its the same order that you use when indexing an array, rows first - then columns."
   ]
  },
  {
   "cell_type": "code",
   "execution_count": 53,
   "metadata": {},
   "outputs": [
    {
     "data": {
      "text/plain": [
       "array([ 3.,  3.,  3.,  3.,  3.])"
      ]
     },
     "execution_count": 53,
     "metadata": {},
     "output_type": "execute_result"
    }
   ],
   "source": [
    "a.sum(axis=1) # Sum across all columns"
   ]
  },
  {
   "cell_type": "markdown",
   "metadata": {},
   "source": [
    "## Boolean Numpy Arrays for Selection and Filtering"
   ]
  },
  {
   "cell_type": "code",
   "execution_count": 54,
   "metadata": {},
   "outputs": [
    {
     "data": {
      "text/plain": [
       "array([False, False, False, False, False, False, False, False, False, False], dtype=bool)"
      ]
     },
     "execution_count": 54,
     "metadata": {},
     "output_type": "execute_result"
    }
   ],
   "source": [
    "a = np.zeros(10, dtype=bool)\n",
    "a"
   ]
  },
  {
   "cell_type": "code",
   "execution_count": 55,
   "metadata": {},
   "outputs": [
    {
     "data": {
      "text/plain": [
       "array([False, False,  True,  True,  True, False, False, False, False, False], dtype=bool)"
      ]
     },
     "execution_count": 55,
     "metadata": {},
     "output_type": "execute_result"
    }
   ],
   "source": [
    "# Slicing and mass-assignment still work\n",
    "a[2:5] = True\n",
    "a"
   ]
  },
  {
   "cell_type": "code",
   "execution_count": 56,
   "metadata": {},
   "outputs": [
    {
     "data": {
      "text/plain": [
       "array([ True,  True, False, False, False,  True,  True,  True,  True,  True], dtype=bool)"
      ]
     },
     "execution_count": 56,
     "metadata": {},
     "output_type": "execute_result"
    }
   ],
   "source": [
    "# The ~ character inverts the boolean array\n",
    "b = ~a\n",
    "b"
   ]
  },
  {
   "cell_type": "code",
   "execution_count": 57,
   "metadata": {},
   "outputs": [
    {
     "name": "stdout",
     "output_type": "stream",
     "text": [
      "A and B\n",
      "[False False  True]\n",
      "A or B\n",
      "[ True False  True]\n"
     ]
    }
   ],
   "source": [
    "# Demonstrating \"&\" and \"|\"\n",
    "a = np.array([True, False, True])\n",
    "b = np.array([False, False, True])\n",
    "\n",
    "print \"A and B\"\n",
    "print a & b\n",
    "\n",
    "print \"A or B\"\n",
    "print a | b"
   ]
  },
  {
   "cell_type": "markdown",
   "metadata": {},
   "source": [
    "Using boolean expressions, you can specifically read out or assign to pieces of the array based on the values in the array"
   ]
  },
  {
   "cell_type": "code",
   "execution_count": 58,
   "metadata": {},
   "outputs": [
    {
     "name": "stdout",
     "output_type": "stream",
     "text": [
      "[-0.9093292  -0.38349568  1.59518938 -0.87131425  0.93717458  0.82669768\n",
      " -2.04390626 -1.12253879 -0.79154437  0.44235358]\n"
     ]
    }
   ],
   "source": [
    "data = np.random.randn(10)\n",
    "print data"
   ]
  },
  {
   "cell_type": "code",
   "execution_count": 59,
   "metadata": {},
   "outputs": [
    {
     "name": "stdout",
     "output_type": "stream",
     "text": [
      "[ True  True False  True False False  True  True  True False]\n"
     ]
    }
   ],
   "source": [
    "data_less_than_zero = data < 0\n",
    "print data_less_than_zero"
   ]
  },
  {
   "cell_type": "code",
   "execution_count": 60,
   "metadata": {},
   "outputs": [
    {
     "name": "stdout",
     "output_type": "stream",
     "text": [
      "[ 0.          0.          1.59518938  0.          0.93717458  0.82669768\n",
      "  0.          0.          0.          0.44235358]\n"
     ]
    }
   ],
   "source": [
    "data[data_less_than_zero] = 0   # Replace all values less than zero, with zero\n",
    "print data"
   ]
  },
  {
   "cell_type": "code",
   "execution_count": 62,
   "metadata": {},
   "outputs": [
    {
     "name": "stdout",
     "output_type": "stream",
     "text": [
      "[ 0.          1.07550616  0.34544577  0.          0.          0.          0.\n",
      "  0.          0.15442195  0.        ]\n"
     ]
    }
   ],
   "source": [
    "data = np.random.randn(10)\n",
    "data[data < 0] = 0  # You could also do this without a temporary variable (data_less_than_zero)\n",
    "print data"
   ]
  },
  {
   "cell_type": "code",
   "execution_count": 63,
   "metadata": {},
   "outputs": [
    {
     "name": "stdout",
     "output_type": "stream",
     "text": [
      "[[  6.23717641e+00   8.80782937e+00   5.40597691e+00   9.03869185e+00\n",
      "    8.29905142e+00]\n",
      " [  7.29382233e+00   8.41829140e+00   2.22242822e+00   2.86624536e+00\n",
      "    7.52556347e+00]\n",
      " [  9.72531908e+00   9.04788218e+00   4.61996442e-01   3.41040697e+00\n",
      "    9.14872526e+00]\n",
      " [  5.43894345e+00   1.74339648e+00   6.87611094e+00   3.22668737e+00\n",
      "    5.65490951e+00]\n",
      " [  3.55830717e+00   2.11664450e-01   2.11080705e+00   4.14700914e+00\n",
      "    4.16095568e+00]\n",
      " [  7.81660076e-03   1.33226926e+00   3.57243621e+00   8.30873762e+00\n",
      "    5.93400567e+00]\n",
      " [  4.57288564e+00   3.18551642e+00   8.69727819e+00   9.13311128e+00\n",
      "    6.33788661e+00]\n",
      " [  7.40308453e+00   7.06811798e+00   1.37375831e+00   1.93750256e+00\n",
      "    3.07290483e+00]\n",
      " [  4.39326261e-01   1.98668809e+00   9.44701870e+00   6.21914146e+00\n",
      "    4.34115565e+00]\n",
      " [  4.16006962e+00   6.57722628e+00   9.26633831e+00   3.80616456e+00\n",
      "    1.88230195e+00]\n",
      " [  6.16942233e-01   6.28879907e+00   6.94299950e+00   5.22103135e+00\n",
      "    2.27494724e+00]\n",
      " [  7.45552808e+00   1.79312531e+00   8.39346627e+00   1.08771965e+00\n",
      "    8.69611370e+00]\n",
      " [  3.22437981e+00   7.27489400e-01   7.30830954e+00   7.49461360e+00\n",
      "    3.02593478e+00]\n",
      " [  2.22270340e+00   8.75404174e+00   4.74619980e+00   1.60423273e+00\n",
      "    4.92573941e+00]\n",
      " [  9.66359939e+00   1.47976975e+00   9.63358565e+00   4.56109516e+00\n",
      "    1.53218038e-01]\n",
      " [  9.36652687e+00   9.58640094e-01   6.34188684e+00   2.57681903e+00\n",
      "    1.51416440e+00]\n",
      " [  9.12234006e+00   6.91054323e+00   8.12709415e+00   2.52790682e+00\n",
      "    6.28406420e+00]\n",
      " [  6.94811644e+00   2.94346718e+00   4.42174265e+00   8.71027668e-01\n",
      "    1.38856150e-02]\n",
      " [  7.71161835e+00   7.90844759e+00   8.93022523e+00   2.86277098e+00\n",
      "    5.92979623e+00]\n",
      " [  7.09781017e+00   5.65132068e+00   1.48019390e+00   8.89568547e+00\n",
      "    3.03397468e+00]]\n"
     ]
    }
   ],
   "source": [
    "data = np.random.rand(20,5)*10 # Random data from 0 to 10\n",
    "print data"
   ]
  },
  {
   "cell_type": "code",
   "execution_count": 64,
   "metadata": {},
   "outputs": [
    {
     "name": "stdout",
     "output_type": "stream",
     "text": [
      "[ 7.55774519  5.66527016  6.35886599  4.58800955  2.8377487   3.83105307\n",
      "  6.38533563  4.17107364  4.48666603  5.13842014  4.26894388  5.4851906\n",
      "  4.35614542  4.45058342  5.0982536   4.15160745  6.59438969  3.03964791\n",
      "  6.66857167  5.23179698]\n"
     ]
    }
   ],
   "source": [
    "# Show me the mean of each row\n",
    "row_means = data.mean(axis=1)\n",
    "print row_means"
   ]
  },
  {
   "cell_type": "code",
   "execution_count": 65,
   "metadata": {},
   "outputs": [
    {
     "name": "stdout",
     "output_type": "stream",
     "text": [
      "mean_greater_five:  [ True  True  True False False False  True False False  True False  True\n",
      " False False  True False  True False  True  True]\n",
      "\n"
     ]
    }
   ],
   "source": [
    "# Give me a subset of the data matrix, containing only rows with a mean > 5 and the second column < 4 \n",
    "mean_greater_five = data.mean(axis=1) > 5\n",
    "print \"mean_greater_five: \", mean_greater_five\n",
    "print"
   ]
  },
  {
   "cell_type": "code",
   "execution_count": 66,
   "metadata": {},
   "outputs": [
    {
     "name": "stdout",
     "output_type": "stream",
     "text": [
      "\n",
      "new_matrix\n",
      "[[ 6.23717641  8.80782937  5.40597691  9.03869185  8.29905142]\n",
      " [ 7.29382233  8.4182914   2.22242822  2.86624536  7.52556347]\n",
      " [ 9.72531908  9.04788218  0.46199644  3.41040697  9.14872526]\n",
      " [ 4.57288564  3.18551642  8.69727819  9.13311128  6.33788661]\n",
      " [ 4.16006962  6.57722628  9.26633831  3.80616456  1.88230195]\n",
      " [ 7.45552808  1.79312531  8.39346627  1.08771965  8.6961137 ]\n",
      " [ 9.66359939  1.47976975  9.63358565  4.56109516  0.15321804]\n",
      " [ 9.12234006  6.91054323  8.12709415  2.52790682  6.2840642 ]\n",
      " [ 7.71161835  7.90844759  8.93022523  2.86277098  5.92979623]\n",
      " [ 7.09781017  5.65132068  1.4801939   8.89568547  3.03397468]]\n"
     ]
    }
   ],
   "source": [
    "new_matrix = data[mean_greater_five, :]\n",
    "print\n",
    "print \"new_matrix\"\n",
    "print new_matrix"
   ]
  },
  {
   "cell_type": "code",
   "execution_count": 67,
   "metadata": {},
   "outputs": [
    {
     "name": "stdout",
     "output_type": "stream",
     "text": [
      "\n",
      "new_matrix\n",
      "[[ 6.23717641  8.80782937  5.40597691  9.03869185  8.29905142]\n",
      " [ 7.29382233  8.4182914   2.22242822  2.86624536  7.52556347]\n",
      " [ 9.72531908  9.04788218  0.46199644  3.41040697  9.14872526]\n",
      " [ 4.57288564  3.18551642  8.69727819  9.13311128  6.33788661]\n",
      " [ 4.16006962  6.57722628  9.26633831  3.80616456  1.88230195]\n",
      " [ 7.45552808  1.79312531  8.39346627  1.08771965  8.6961137 ]\n",
      " [ 9.66359939  1.47976975  9.63358565  4.56109516  0.15321804]\n",
      " [ 9.12234006  6.91054323  8.12709415  2.52790682  6.2840642 ]\n",
      " [ 7.71161835  7.90844759  8.93022523  2.86277098  5.92979623]\n",
      " [ 7.09781017  5.65132068  1.4801939   8.89568547  3.03397468]]\n"
     ]
    }
   ],
   "source": [
    "# OR, all in one line - without a temporary variable\n",
    "new_matrix = data[ (data.mean(axis=1) > 5) ]\n",
    "print\n",
    "print \"new_matrix\"\n",
    "print new_matrix"
   ]
  },
  {
   "cell_type": "markdown",
   "metadata": {},
   "source": [
    "## SciPy and Fitting\n",
    "\n",
    "SciPy (pronounced \"Sigh Pie\") is a collection of libraries that builds on NumPy, and has lots of convenient, fast functions for working with large amounts of scientific data. It's slightly smaller than NumPy, with only 900-odd pages of documentation. That includes sections on integrating C or Fortran code into Python, which is way outside the scope of this course, but if you ever do get to the point where you need a super-efficient implementation of something, you're covered. Especially in the one-off nature of academic science, you're often better served spending less time writing code that takes longer to run, compared to spending lots and lots of time writing code that runs slightly faster.\n",
    "\n",
    "The [stats](http://docs.scipy.org/doc/scipy/reference/tutorial/stats.html) module of SciPy has functions for even more statistical distributions, statistical tests, and other assorted functions that a good statistician might need. As an example, let's see how we might use the [linregress](http://docs.scipy.org/doc/scipy/reference/generated/scipy.stats.linregress.html#scipy.stats.linregress) function, which does a linear regression on some data. Linear regression is the process of finding a line that minimizes the sum of the square of the vertical distances from each point to the line.\n",
    "\n",
    "First, we'll set up some noisy data:"
   ]
  },
  {
   "cell_type": "code",
   "execution_count": 72,
   "metadata": {},
   "outputs": [
    {
     "data": {
      "image/png": "[encoded data removed]",
      "text/plain": [
       "<matplotlib.figure.Figure at 0x7f85500f0cd0>"
      ]
     },
     "metadata": {},
     "output_type": "display_data"
    }
   ],
   "source": [
    "import numpy as np\n",
    "\n",
    "slope = 0.5\n",
    "intercept = -10\n",
    "\n",
    "x = np.arange(0, 100)\n",
    "y = slope*x + intercept\n",
    "noise = 5 * np.random.normal(0, 1, size=len(x))\n",
    "\n",
    "y = y + noise\n",
    "\n",
    "# Plot the line - more detials on this are covered in a later lecture\n",
    "%matplotlib inline\n",
    "import matplotlib.pyplot as plt\n",
    "plt.plot(y);"
   ]
  },
  {
   "cell_type": "markdown",
   "metadata": {},
   "source": [
    "However, using a bit of linear algebra, we can actually compute the best fit linear coefficients"
   ]
  },
  {
   "cell_type": "code",
   "execution_count": 73,
   "metadata": {},
   "outputs": [
    {
     "name": "stdout",
     "output_type": "stream",
     "text": [
      "0.505348919553 -9.21261718063 0.953969863155\n"
     ]
    },
    {
     "data": {
      "image/png": "[encoded data removed]",
      "text/plain": [
       "<matplotlib.figure.Figure at 0x7f8538961c10>"
      ]
     },
     "metadata": {},
     "output_type": "display_data"
    }
   ],
   "source": [
    "n = len(x)\n",
    " \n",
    "m = (n * sum(x * y) - sum(x) * sum(y)) / (n * sum(x**2) - (sum(x))**2)\n",
    "b = (sum(y) - m * sum(x))/n\n",
    "r = (n * sum(x * y) - sum(x) * sum(y)) / np.sqrt((n*sum(x**2) - sum(x)**2)\n",
    "* (n * sum(y**2) - sum(y)**2))\n",
    " \n",
    "print m, b, r\n",
    "\n",
    "y2 = m*x + b\n",
    "plt.plot(x,y)\n",
    "plt.plot(x,y2);"
   ]
  },
  {
   "cell_type": "markdown",
   "metadata": {},
   "source": [
    "This gives us pretty much the right result, but it was kind of a pain to type in. If only the libraries had some sort of function that could do linear regression for us..."
   ]
  },
  {
   "cell_type": "code",
   "execution_count": 77,
   "metadata": {},
   "outputs": [
    {
     "name": "stdout",
     "output_type": "stream",
     "text": [
      "Regression Slope:  0.505348919553\n",
      "Regression Intercept:  -9.21261718063\n",
      "Regression correlation:  0.953969863155\n",
      "R^2:,  0.910058499807\n",
      "p(slope is 0):  4.66984580408e-53\n"
     ]
    }
   ],
   "source": [
    "from scipy import stats\n",
    " \n",
    "r_slope, r_int, r_rval, r_pval, r_stderr = stats.linregress(x, y)\n",
    " \n",
    "print \"Regression Slope: \", r_slope\n",
    "print \"Regression Intercept: \", r_int\n",
    "print \"Regression correlation: \", r_rval\n",
    "print \"R^2:, \", r_rval**2\n",
    "print \"p(slope is 0): \", r_pval"
   ]
  },
  {
   "cell_type": "markdown",
   "metadata": {},
   "source": [
    "Or, if you want to just compute the correlation, there's a function for that"
   ]
  },
  {
   "cell_type": "code",
   "execution_count": 80,
   "metadata": {},
   "outputs": [
    {
     "name": "stdout",
     "output_type": "stream",
     "text": [
      "Pearson:  (0.95396986315454735, 4.6698458040795495e-53)\n",
      "\n",
      "Spearman:  SpearmanrResult(correlation=0.95786378637863778, pvalue=6.7450753596269949e-55)\n"
     ]
    }
   ],
   "source": [
    "from scipy.stats import pearsonr, spearmanr\n",
    "\n",
    "result = pearsonr(x, y)\n",
    "print \"Pearson: \", result\n",
    "\n",
    "print\n",
    "\n",
    "result = spearmanr(x, y)\n",
    "print \"Spearman: \", result"
   ]
  },
  {
   "cell_type": "markdown",
   "metadata": {},
   "source": [
    "Scipy can also be used to calculate a t-test"
   ]
  },
  {
   "cell_type": "code",
   "execution_count": 82,
   "metadata": {},
   "outputs": [
    {
     "data": {
      "image/png": "[encoded data removed]",
      "text/plain": [
       "<matplotlib.figure.Figure at 0x7f853270a6d0>"
      ]
     },
     "metadata": {},
     "output_type": "display_data"
    },
    {
     "name": "stdout",
     "output_type": "stream",
     "text": [
      "P = 3.49076882386e-11\n"
     ]
    }
   ],
   "source": [
    "from scipy.stats import ttest_ind\n",
    "\n",
    "# Generate two sets of samples from the normal distribution\n",
    "\n",
    "group1 = np.random.normal(1.3, 1, 1000)\n",
    "group2 = np.random.normal(1, 1, 1000)\n",
    "\n",
    "# Some plotting code (ignore for now)\n",
    "plt.hist(group1, 100, (-5, 5), alpha=.6)\n",
    "plt.hist(group2, 100, (-5, 5), alpha=.6)\n",
    "plt.show()\n",
    "\n",
    "\n",
    "result = ttest_ind(group1, group2)\n",
    "print \"P =\", result.pvalue\n",
    "\n"
   ]
  },
  {
   "cell_type": "markdown",
   "metadata": {},
   "source": [
    "## End of Part 1 - Break for Exercises\n",
    "\n",
    "<ol>\n",
    "<li style=\"margin-bottom: 20px\"><b>Writing Mathematical Functions</b>\n",
    "    <ol>\n",
    "    <li>Write a function that accepts an array of floats as inputs. Return an array where every value of the input array has been divided by 1.5.</li>\n",
    "    <li>Use a random function (uniform or normal) to generate an array of floats. Write a function that accepts this array, and returns a list of values that are more than one standard deviation greater or less than the mean of the array.</li>\n",
    "    <li>Write a function that estimates a p-value from the exponential distribution (another distribution in numpy).  The function should take a number as an input (lets call it x), and return an estimate at the probability that a number drawn from the exponential distribution will be equal to or greater than x.  <br/><br/>To do this, generate many samples from the exponential distribution (use the default scale=1.0), count the number of samples greater than x, and divide the result by the number of samples you generated.  <br/><br/>Don't use a loop to count the number of samples greater than x.  Instead look at what happens when you use np.sum() on a boolean array, or read about the method np.count_nonzero().<br/><br/>Calling your function should look like this:<br/>\n",
    "    ```\n",
    "    out = my_function(3)\n",
    "print out #prints 0.050316 (or close to this number)\n",
    "    ```</li>\n",
    "    </ol>\n",
    "</li>\n",
    "\n",
    "<li><b>Strings to arrays</b><br/>\n",
    "So we had this idea that we might be able to find a periodicity in the spacing of pyrimidine residues downstream of the termination site in Rho dependent genes (by and large, we don't). Nevertheless:\n",
    "    <ol>\n",
    "    <li>Make a function that takes a DNA string as input (Only G, C, A, or T's) and an arbitrary substring (e.g. \"CT\"). The function should find all locations of the substring in the string and return it as an array.<br/><i>For Example:</i><br/>\n",
    "    ```\n",
    "    a = find_substring(\"GCACTTGCACGTACGCCGT\", \"AC\") \n",
    "# output a contains [2, 8, 12] (or a numpy array with these values)\n",
    "    ```</li>\n",
    "    <li>Using the result of find_substring from (a), find the distance between each pair of adjacent substrings. (i.e. How many basepairs separate each position where we found the subtring.) Check if a numpy method does this.<br/><i>For Example:</i><br/>\n",
    "    ```\n",
    "    differences = find_differences(a)\n",
    "# differences contains [6, 4]\n",
    "    ```</li>\n",
    "    <li>Use the fasta-parser you've written to read the S.cerevisiae genome fasta file from Lecture 1.1 . Then, using the functions in part (a) and (b), generate a full list of the spacings between 'CT' nucleotide pairs for each chromosome and return an array of the differences between adjacent positions</li>\n",
    "<li>Using numpy, compute the histogram of these spacings (we'll show you how to plot them later).  Use Google (or the documentation we linked above) to look up the right numpy function and how to use it.</li></ol></li></ol>"
   ]
  }
 ],
 "metadata": {
  "anaconda-cloud": {},
  "kernelspec": {
   "display_name": "Python 2",
   "language": "python",
   "name": "python2"
  },
  "language_info": {
   "codemirror_mode": {
    "name": "ipython",
    "version": 2
   },
   "file_extension": ".py",
   "mimetype": "text/x-python",
   "name": "python",
   "nbconvert_exporter": "python",
   "pygments_lexer": "ipython2",
   "version": "2.7.13"
  }
 },
 "nbformat": 4,
 "nbformat_minor": 1
}
