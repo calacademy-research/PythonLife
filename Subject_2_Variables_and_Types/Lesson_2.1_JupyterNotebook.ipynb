{
 "cells": [
  {
   "cell_type": "markdown",
   "metadata": {},
   "source": [
    "## Jupyter Notebook Intro\n",
    "\n",
    "We'll be using Jupyter Notebooks to teach much of the class.  While there are many ways to write and execute Python code, Jupyter Notebooks are a useful tool, both for learning Python and for writing your own data analysis scripts.\n",
    "\n",
    "boo\n",
    "\n",
    "The main advantage of Jupyter Notebooks is that they provide you with an environment in which you can develop python programs in small chunks (called cells).  The cells can easily be run, modified, and re-run, which is very helpful when trying to fix problems in your code, or when just experimenting with Python in general.  \n",
    "\n",
    "Also, the output of each cell is embedded in the notebook, right underneath the code, for a nice resulting presentation.  Text, and even images and plots, can all be embedded in the notebook, allowing for the easy creation of a nice data-analysis workflow with results and the code that produced the results side-by-side.\n",
    "\n",
    "### Live Jupyter Notebook Demo\n",
    "\n",
    "On the overhead, we're going to walk you throughsome Jupyter Notebook basics.  Follow along on your own laptops.\n",
    "\n",
    "- Launching Jupyter Notebook\n",
    "- Creating a new Notebook\n",
    "- Entering some code, running a cell\n",
    "- Saving a script and running from the command line"
   ]
  },
  {
   "cell_type": "markdown",
   "metadata": {},
   "source": [
    "#### Creating a New Notebook\n",
    "To create a new notebook, click the \"New\" button in the top-right area of the page after the web-browser launches.  Select \"Python 2\" from the list. Let's give the notebook a better title.  At the top of the page, next to the Jupyter logo, click \"Untitled\" and change the title to \"First_Notebook\".\n",
    "\n",
    "#### Running a cell\n",
    "In the first cell, type the following:\n",
    "\n",
    "```python\n",
    "print \"Hello World!\"\n",
    "```\n",
    "\n",
    "Then, to run the cell, hold SHIFT and press ENTER (you also may click the \"run\" button above in the menu).  You'll see the text \"Hello World!\" below the first cell, and a second, empty cell is created for you below.  You can also create new cells yourself by using the \"Insert\" menu at the top of the page, or clicking the **+** icon.\n",
    "\n",
    "#### Optional: Saving a Script\n",
    "\n",
    "Often, folks run code directly from the Jupyter Notebook. However, it is also useful to run Python code directly from the command line - e.g. this code is part of a larger pipeline \n",
    "\n",
    "In the second cell, type this:\n",
    "```python\n",
    "%%writefile hello_world.py\n",
    "print \"Hello, World!\"\n",
    "```\n",
    "\n",
    "The **%%writefile** is a 'magic' function, functions that mean special things to the Jupyter Notebook itself understands. In this case, **%%writefile** saves all the text below the **%%writefile** command (limited, of course, to the cell itself), in this case to **hello_world.py**\n",
    "\n",
    "Congratulations! You've created your first Python program!\n",
    "\n"
   ]
  }
 ],
 "metadata": {
  "kernelspec": {
   "display_name": "Python 2",
   "language": "python",
   "name": "python2"
  },
  "language_info": {
   "codemirror_mode": {
    "name": "ipython",
    "version": 2
   },
   "file_extension": ".py",
   "mimetype": "text/x-python",
   "name": "python",
   "nbconvert_exporter": "python",
   "pygments_lexer": "ipython2",
   "version": "2.7.13"
  }
 },
 "nbformat": 4,
 "nbformat_minor": 2
}
