{
 "cells": [
  {
   "cell_type": "markdown",
   "metadata": {},
   "source": [
    "# The Very Basics: Hello, World! Variables, and Printing\n",
    "\n",
    "##Topics:\n",
    "\n",
    "- Output: print statement\n",
    "- Interlude: two ways to run your script\n",
    "- Variables: integers, floating-point numbers (decimal), strings (text)\n",
    "- Numerical operations\n",
    "- Strings: quotes, single double and triple!\n",
    "- Strings: escapes and special characters; raw strings\n",
    "- Strings: as sequence type, index and slice (substring)\n",
    "- Concatenating (+) strings\n",
    "- Inserting and formatting variables in strings\n",
    "- Input: raw_input() function\n",
    "\n",
    "\n",
    "# Introduction:\n",
    "\n",
    "In this lesson, we will write our first programs. First we must learn how to interact with the Python language in a fundamental way, then we'll learn about different classes of data and how to manipulate them.\n",
    "\n",
    "## A First Python Program: hello.py"
   ]
  },
  {
   "cell_type": "code",
   "execution_count": 1,
   "metadata": {
    "collapsed": false,
    "scrolled": true
   },
   "outputs": [
    {
     "name": "stdout",
     "output_type": "stream",
     "text": [
      "hello world\n"
     ]
    }
   ],
   "source": [
    "print 'hello world'"
   ]
  },
  {
   "cell_type": "markdown",
   "metadata": {
    "collapsed": true
   },
   "source": [
    "This bit of code tells python to use the <b>print</b> function to ouput the string 'hello world'. This works in our ipython notebook, but what if we wanted to save this as a separate python script? To do this, we can use the *%save* magic function. *%save* will save lines of already run ipython code to a file. We need to give it a filepath (for me, my Python Course folder), and the lines we want to save (the first line)"
   ]
  },
  {
   "cell_type": "code",
   "execution_count": 2,
   "metadata": {
    "collapsed": false
   },
   "outputs": [
    {
     "name": "stdout",
     "output_type": "stream",
     "text": [
      "The following commands were written to file `/home/debora/Dropbox/2016_Summer_Python/1.2/hello.py`:\n",
      "get_ipython().magic(u'save /Users/Debora/Dropbox/2016_Summer_Python/1.2/hello.py 1')\n"
     ]
    }
   ],
   "source": [
    "%save /Users/Debora/Dropbox/2016_Summer_Python/1.2/hello.py 1"
   ]
  },
  {
   "cell_type": "markdown",
   "metadata": {},
   "source": [
    "Go ahead and look at your new python script file in the shell using *less*. To run your new script, navigate in your terminal to the directory you saved your script to, and run it using python:"
   ]
  },
  {
   "cell_type": "markdown",
   "metadata": {
    "collapsed": false
   },
   "source": [
    "    python hello.py"
   ]
  },
  {
   "cell_type": "markdown",
   "metadata": {},
   "source": [
    "This should print\n",
    "*hello world*\n",
    "to your terminal\n",
    "\n",
    "The entirety of this script is composed of the most basic python tool for communicating with the user: the print command. The print command does exactly what it says: it outputs the statement that follows the word 'print' to the screen.\n",
    "\n",
    "Unlike some other languages, python print adds a newline character (a.k.a. \"carriage return\", or \"endline character\") to the end of your print statement. Print statements in python have the prompt reappear on the line below the output, as opposed to immediately after the printed statement. In general, this is handy. It does, however, mean that if you want two statements to be printed on the same line, you need to supply them to the same print statement, separated by commas. A space character will be inserted between the two (or more) statements thus supplied."
   ]
  },
  {
   "cell_type": "code",
   "execution_count": 1,
   "metadata": {
    "collapsed": false
   },
   "outputs": [
    {
     "name": "stdout",
     "output_type": "stream",
     "text": [
      "hello\n",
      "world\n",
      "hello world\n"
     ]
    }
   ],
   "source": [
    "print 'hello'\n",
    "print 'world'\n",
    "print 'hello','world'"
   ]
  },
  {
   "cell_type": "markdown",
   "metadata": {},
   "source": [
    "If you don't want the space between print statements, you can separate them by a '+' sign. We'll understand what the '+' operator does to strings later today."
   ]
  },
  {
   "cell_type": "code",
   "execution_count": 2,
   "metadata": {
    "collapsed": false
   },
   "outputs": [
    {
     "name": "stdout",
     "output_type": "stream",
     "text": [
      "helloworld\n"
     ]
    }
   ],
   "source": [
    "print 'hello'+'world'"
   ]
  },
  {
   "cell_type": "markdown",
   "metadata": {},
   "source": [
    "## Variables: integers, floating-point numbers (decimal), strings (text)\n",
    "\n",
    "Computer programming is useful because it allows the programmer to tell the computer to perform operations that are too boring, tedious, or difficult for the programmer to do by hand. A useful computer program needs to be able to interact with the user, perform operations on changing sets of data, and make decisions about how to proceed based on conditions specific to each instance of its execution. To achieve these tasks, computer programs employ variables.\n",
    "\n",
    "Variables in computer science are different from algebraic variables, just like algebraic variables are different from statistical variables or experimental variables. In Python, a variable is a datum with a human-readable name which is assigned a given value. Variables can be reassigned to different values as the logic of the program dictates (variables have variable values, hence variables). \n",
    "\n",
    "In Python, everything and every type of data, from numbers and text to vectors and functions, are called **objects**, and objects are stored in memory. Technically, the values of variables in Python are the memory address of these objects.  Variables point (reference) at data (objects). It is often easier to think of variables as 'storing' values, though some situtations will require understanding of the more technical memory-based definition.\n",
    "\n",
    "Python programs use variables to store parameters taken in from the user, the execution environment, or the data your program is being called upon to process.\n",
    "\n",
    "These variables are named whatever you like, within the strictures of a few basic rules:\n",
    "\n",
    "1) Python variable names are case-sensitive, so Var and var are different variables.\n",
    "\n",
    "2) Though variable names can contain letters, numbers and underscores ( _ ), they MUST start with a letter (a-z).\n",
    "\n",
    "3) Variable names, CANNOT contain spaces or special non-alphanumeric characters (e.g. holyS#+%? is naughty, but holyMackerel is kid tested, mother approved), nor can they be any of the following words that already have special meaning in python:"
   ]
  },
  {
   "cell_type": "code",
   "execution_count": null,
   "metadata": {
    "collapsed": false
   },
   "outputs": [],
   "source": [
    "    and    assert   break    class      continue   def      del      elif\n",
    "    else   except   exec     finally    for        from     global   if\n",
    "    import in       is       lambda     not        or       pass     print\n",
    "    raise  return   try      while      yield"
   ]
  },
  {
   "cell_type": "markdown",
   "metadata": {},
   "source": [
    "For the most part, ipython will remind you that these words are off-limits by coloring these words in helpful ways when you type them.\n",
    "\n",
    "\n",
    "Here are some invalid python variable names:\n",
    "\n",
    "1sample\n",
    "sampleA.1\n",
    "class\n",
    "\n",
    "And here are some good alternatives:\n",
    "\n",
    "sample_1\n",
    "SampleA1\n",
    "bootcamp_class\n",
    "\n",
    "## Variables, Objects, and Types\n",
    "\n",
    "Variables can reference (store) many different types of objects. Today we'll talk about three types of objects: integers, floating point (i.e. decimal) numbers, and strings.\n",
    "\n",
    "Run the following example, through which we'll explore a few properties of variables:"
   ]
  },
  {
   "cell_type": "code",
   "execution_count": 2,
   "metadata": {
    "collapsed": false,
    "scrolled": true
   },
   "outputs": [
    {
     "name": "stdout",
     "output_type": "stream",
     "text": [
      "hella world\n",
      "the variable s is type <type 'str'>\n",
      "42\n",
      "the variable i is type <type 'int'>\n",
      "3.14159\n",
      "the variable f is type <type 'float'>\n"
     ]
    }
   ],
   "source": [
    "# by the way, lines starting with the pound sign (#)\n",
    "# makes them comments, ignored by the interpreter\n",
    " \n",
    "s = 'hella world'\n",
    "i = 42\n",
    "f = 3.14159\n",
    "print s\n",
    "print 'the variable s is type',type(s)\n",
    " \n",
    "print i\n",
    "print 'the variable i is type',type(i)\n",
    " \n",
    "print f\n",
    "print 'the variable f is type',type(f)"
   ]
  },
  {
   "cell_type": "markdown",
   "metadata": {},
   "source": [
    "Lets break this down. First, we begin with a few lines starting in #, which are comments. As you write your own code, use commented lines to describe what bits of code do and how they do it (we'll discuss this in more detail later in the week)."
   ]
  },
  {
   "cell_type": "code",
   "execution_count": null,
   "metadata": {
    "collapsed": true
   },
   "outputs": [],
   "source": [
    "# lines starting with the pound sign (#)\n",
    "# makes them comments, ignored by the interpreter"
   ]
  },
  {
   "cell_type": "markdown",
   "metadata": {},
   "source": [
    "Then come our assignments. In general, variables are assigned by typing the name you want to use, followed by a single equals sign, then the value you'd like to store. This is the same whether the variable you're assigning is an object of type **str** (a character string), **int** (whole number), **float** (non-integer real number), or any number of other fancier things you'll be using in the next week."
   ]
  },
  {
   "cell_type": "code",
   "execution_count": 4,
   "metadata": {
    "collapsed": true
   },
   "outputs": [],
   "source": [
    "s = 'hella world'\n",
    "i = 42\n",
    "f = 3.1412"
   ]
  },
  {
   "cell_type": "markdown",
   "metadata": {},
   "source": [
    "While (as your program tells you with the handy **type**() function) i is currently an integer, that doesn't mean it cannot change. You can easily reassign i to be anything that takes your fancy, including the value of another variable. You would do this with a statement such as the following:"
   ]
  },
  {
   "cell_type": "code",
   "execution_count": 5,
   "metadata": {
    "collapsed": false
   },
   "outputs": [
    {
     "name": "stdout",
     "output_type": "stream",
     "text": [
      "hella world\n",
      "the variable i is now type <type 'str'>\n"
     ]
    }
   ],
   "source": [
    "i = s\n",
    " \n",
    "print i\n",
    "print 'the variable i is now type',type(i)"
   ]
  },
  {
   "cell_type": "markdown",
   "metadata": {},
   "source": [
    "There are plenty of cases where this is exactly what you want to do, but bear in mind that once no more variables are assigned any particular value, that value is lost forever.\n",
    "\n",
    "As an example, consider the case where (for some reason) you want to swap the values of two variables s and i. The first step might appear to be a line very much like the i = s statement above, but if you do this, the value of i is lost forever, meaning you can never assign it to s. This may seem like a rather abstract problem, (unless you've read ahead to today's exercises) but you'll encounter similar situations more often than you might think.\n",
    "\n",
    "## Numerical operations\n",
    "\n",
    "Numerical values can be subjected to a wide variety of operations. While the full list is quite extensive (see https://docs.python.org/2/library/stdtypes.html#numeric-types-int-float-long-complex for the full workup), the most common operations should be familiar. For the most part, we use basic arithmetic operators exactly as you're used to seeing them:"
   ]
  },
  {
   "cell_type": "code",
   "execution_count": 6,
   "metadata": {
    "collapsed": false
   },
   "outputs": [
    {
     "name": "stdout",
     "output_type": "stream",
     "text": [
      "sum 45.14159\n",
      "diff 38.85841\n",
      "prod 131.94678\n",
      "quo 13.3690265121\n",
      "pow 125771.933736\n",
      "x =  5\n",
      "now x is one more than before =  6\n",
      "now x is one more than before =  7\n"
     ]
    }
   ],
   "source": [
    "i = 42\n",
    "f = 3.14159\n",
    " \n",
    "# addition uses the plus sign (+)\n",
    "mysum = i + f\n",
    "# subtraction uses the minus sign (-)\n",
    "mydiff = i - f\n",
    "# multiplication uses the asterisk (*)\n",
    "myprod = i * f\n",
    "# division uses the slash (/)\n",
    "myquo = i / f\n",
    "# and exponents use a double-asterisk (**)\n",
    "mypow = i ** f\n",
    " \n",
    "print 'sum',mysum\n",
    "print 'diff',mydiff\n",
    "print 'prod',myprod\n",
    "print 'quo',myquo\n",
    "print 'pow',mypow\n",
    " \n",
    "x = 5\n",
    "print \"x = \", x\n",
    "x = x + 1\n",
    "print \"now x is one more than before = \", x\n",
    "x += 1\n",
    "print \"now x is one more than before = \", x"
   ]
  },
  {
   "cell_type": "markdown",
   "metadata": {},
   "source": [
    "Note that standard mathematical order of operations applies, but it's far easier ... and safer ... to explicitly order compound operations using parentheses.\n",
    "\n",
    "## String quotes: single, double, and triple!\n",
    "\n",
    "As mentioned, strings are specified by wrapping a series of characters in quotes. These can be quotes of three different flavors. The first two, single (a.k.a. the apostrophe) and double, are familiar (although don't confuse the single quote (') with the backtick (\\`) -- the one that's probably with the tilde (~) on your keyboard).\n",
    "\n",
    "Single and double quotes can more or less be used interchangeably, the only exception being which type of quote is allowed to appear inside the string. If the string itself is double-quoted, single quotes may appear inside the string, and visa-versa:"
   ]
  },
  {
   "cell_type": "code",
   "execution_count": 5,
   "metadata": {
    "collapsed": false
   },
   "outputs": [
    {
     "name": "stdout",
     "output_type": "stream",
     "text": [
      "hello \"world\", if that is your real name.\n",
      "That's World, to you, buddy.\n"
     ]
    }
   ],
   "source": [
    "s = 'hello \"world\", if that is your real name.'\n",
    "print s\n",
    "s2 =\"That's World, to you, buddy.\"\n",
    "print s2"
   ]
  },
  {
   "cell_type": "markdown",
   "metadata": {},
   "source": [
    "The key things to notice here are that double quotes are present in the first, and a single quote appears in the second, but the two cannot be combined. In order to use both single and double quotes in the same print statement, employ the extra-spiffy triple quote, which is actually just three single quotes:"
   ]
  },
  {
   "cell_type": "code",
   "execution_count": 6,
   "metadata": {
    "collapsed": false
   },
   "outputs": [
    {
     "name": "stdout",
     "output_type": "stream",
     "text": [
      "hello \"world\", if that is your real name.\n",
      "That's World, to you, buddy.\n"
     ]
    }
   ],
   "source": [
    "s = '''hello \"world\", if that is your real name.\n",
    "That's World, to you, buddy.'''\n",
    " \n",
    "print s"
   ]
  },
  {
   "cell_type": "markdown",
   "metadata": {},
   "source": [
    "This snippet does almost exactly the same thing as the last snippet.\n",
    "\n",
    "Note two aspects of the triple quotes:\n",
    "\n",
    "1) Both single and double quotes can be used inside triple quotes.\n",
    "\n",
    "2) Triple quoted strings can span multiple lines, and line breaks inside the quoted string are stored and faithfully displayed in the **print** operation.\n",
    "\n",
    "## Strings: escapes and special characters; raw strings\n",
    "\n",
    "Try the following code snippet:"
   ]
  },
  {
   "cell_type": "code",
   "execution_count": 11,
   "metadata": {
    "collapsed": false
   },
   "outputs": [
    {
     "name": "stdout",
     "output_type": "stream",
     "text": [
      "some\thing is missing\n",
      "somethi\n",
      "g is broken\n",
      "something th\u0007t will drive you b\u0007n\u0007n\u0007s\n",
      "\\a solu\\tio\\n\n",
      "\\another solu\\tio\\n\n"
     ]
    }
   ],
   "source": [
    "s = 'some\\thing is missing'\n",
    "print s\n",
    "s2 = \"somethi\\ng is broken\"\n",
    "print s2\n",
    "s3 = '''something th\\at will drive you b\\an\\an\\as'''\n",
    "print s3\n",
    " \n",
    "s4 = r'\\a solu\\tio\\n'\n",
    "print s4\n",
    " \n",
    "s5 = '\\\\another solu\\\\tio\\\\n'\n",
    "print s5"
   ]
  },
  {
   "cell_type": "markdown",
   "metadata": {},
   "source": [
    "This ugly (and possibly loud, if your sound is working properly) mess is caused by escape characters. In python strings, several special characters (full list here: https://docs.python.org/2/reference/lexical_analysis.html#string-literals) can be preceded by a backslash (\\\\) to produce special output, such as a tab (\\t) newline (\\n) or even a bell noise (\\a).\n",
    "\n",
    "This is handy, since it means you can liberally pepper your strings with tabs and line breaks. In fact, lots of the data that we use are conveniently stored in files that are delimited by such tabs and line breaks. This might be a problem, however, say if you wanted to use a backslash in your string. Python offers two ways around this: the safest is to escape your escape, using a second backslash (see s5 above, '\\\\'). A fancier way involves a special kind of string, the raw string.\n",
    "\n",
    "Raw strings start with r' and end with ' will treat every character between as exactly what it looks like, with the exception of the single quote (which ends the string). If you do use raw strings, watch out for two catches:\n",
    "\n",
    "1) You must still escape single quotes you want to appear inside the string.\n",
    "\n",
    "2) The last character of the string cannot be a backslash, since this will escape the closing quote.\n",
    "\n",
    "Color coding from synthax highlighting will help you notice the problems:"
   ]
  },
  {
   "cell_type": "code",
   "execution_count": 13,
   "metadata": {
    "collapsed": false
   },
   "outputs": [
    {
     "name": "stdout",
     "output_type": "stream",
     "text": [
      "but this is okay\\ \n"
     ]
    }
   ],
   "source": [
    "#s6 = r'don't do this'\n",
    "#s6 = r'but there ain\\'t a problem with this'\n",
    "#print s6\n",
    " \n",
    "#s7 = r'this is bad\\'\n",
    "s7 = r'but this is okay\\ '\n",
    "print s7"
   ]
  },
  {
   "cell_type": "markdown",
   "metadata": {},
   "source": [
    "There are proper times and places for the use of the raw string method, but in general we recommend just escaping your backslashes.\n",
    "\n",
    "As a final point on escapes, \\' and \\\" provide a means to employ single quotes inside a single quoted string, and likewise double quotes in a double quoted string.\n",
    "\n",
    "## Strings: as sequence type, index and slice (substring)\n",
    "\n",
    "Strings are merely successions of characters, and python stores and operates on them as such. The official python lingo for something that can be operated on as an ordered series of sub-elements is a 'sequence'. While several python data types are sequences, strings are the only one we'll deal with today. In the next couple of days, however, some of the notation you learn today will come back in other contexts.\n",
    "\n",
    "The first property of sequences we'll look at is indexing."
   ]
  },
  {
   "cell_type": "code",
   "execution_count": 14,
   "metadata": {
    "collapsed": false
   },
   "outputs": [
    {
     "name": "stdout",
     "output_type": "stream",
     "text": [
      "James C. Hart\n",
      "C\n"
     ]
    }
   ],
   "source": [
    "name = 'James C. Hart'\n",
    "middle_initial = name[6] # variable[i] is the ith index of variable.\n",
    "# (Yeah, comments can be on the same line as other stuff,\n",
    "# but's it's recommended that you keep them on their own lines.)\n",
    " \n",
    "print name\n",
    "print middle_initial"
   ]
  },
  {
   "cell_type": "markdown",
   "metadata": {},
   "source": [
    "Here you've stored a string (my full name), then used a property of sequences, indexing, to ask for a particular character in that string. In the code you see that I've asked for the 6th character in the string, which unless you're a bit odd you'd probably say was the space (since space IS a character) between 'James' and 'C'. The reason 'C' is the 6th character lies in a generalism of python sequences:\n",
    "\n",
    "***NUMBERING STARTS AT ZERO***\n",
    "\n",
    "This is important. ***BOLD CAPITALS AND ITALICS*** kinds of important.\n",
    "\n",
    "Using indexing, it's possible to pick out any number of individual characters in this manner and stitch them back together as substrings, but sequences can also be operated on in contiguous subsets of indices, called slices. Slices look like indices, except with two numbers separated by a colon. The slice starts at the index of the first number, and ends at the index before the second number, so in the example above name[5:9] would be ' C. ' (middle initial, and both flanking spaces). This lets us do handy things like:"
   ]
  },
  {
   "cell_type": "code",
   "execution_count": 18,
   "metadata": {
    "collapsed": false
   },
   "outputs": [
    {
     "name": "stdout",
     "output_type": "stream",
     "text": [
      "James C. Hart\n",
      "Hart\n",
      "C\n",
      "James\n"
     ]
    }
   ],
   "source": [
    "name = 'James C. Hart'\n",
    "middle_initial = name[6]\n",
    " \n",
    "#the start of the sequence to the end of my first name\n",
    "first = name[0:5]\n",
    " \n",
    "# omitting the second number (but using the colon)\n",
    "# goes to the end of the string\n",
    "last = name[9:]\n",
    "print name\n",
    "print last\n",
    "print middle_initial\n",
    "print first"
   ]
  },
  {
   "cell_type": "markdown",
   "metadata": {},
   "source": [
    "A key time saver here is that omission of the first number starts at the beginning of the sequence, and omission of the second number goes all the way to the end. Of course, this only works if the colon is there, otherwise you just get an index.\n",
    "\n",
    "\n",
    "Using negative numbers allows us to select things from the end of the sequence. This can be particularly useful if we don't want to count all the way through a very long string!\n"
   ]
  },
  {
   "cell_type": "code",
   "execution_count": 20,
   "metadata": {
    "collapsed": false
   },
   "outputs": [
    {
     "name": "stdout",
     "output_type": "stream",
     "text": [
      "James C. Hart\n",
      "Hart\n",
      "C\n",
      "\n"
     ]
    }
   ],
   "source": [
    "name = 'James C. Hart'\n",
    "middle_initial = name[-7]\n",
    " \n",
    "#the start of the sequence to the end of my first name\n",
    "first = name[-8:-13]\n",
    "##Note that name[:-8] will give the same value\n",
    " \n",
    "# omitting the second number (but using the colon)\n",
    "# goes to the end of the string\n",
    "last = name[-4:]\n",
    "print name\n",
    "print last\n",
    "print middle_initial\n",
    "print first"
   ]
  },
  {
   "cell_type": "markdown",
   "metadata": {},
   "source": [
    "**Brief interlude on Python's 0-based indexing:**\n",
    "\n",
    "Many programming languages (C, Java) use the same 0-based indexing as Python. Others, such as R, use 1-based indexing. Though both have their advantages and disadvantanges, Python's 0-base 'half-open' indexing offers some elegance.\n",
    "\n",
    "If you want to select the first n elements of a sequence, and the rest of the sequence, you can do this without fussing with any +/- 1."
   ]
  },
  {
   "cell_type": "code",
   "execution_count": null,
   "metadata": {
    "collapsed": false
   },
   "outputs": [],
   "source": [
    "name = 'JamesHart'\n",
    "first = name[:5]\n",
    "last = name[5:]\n",
    "print first\n",
    "print last"
   ]
  },
  {
   "cell_type": "markdown",
   "metadata": {},
   "source": [
    "## Concatenating (+) strings\n",
    "\n",
    "At this point you've merrily sliced away at my good name; time to put me back together again. Python offers a simple operator for putting strings together: +\n",
    "\n",
    "We will refer to this operation as string concatenation."
   ]
  },
  {
   "cell_type": "code",
   "execution_count": 21,
   "metadata": {
    "collapsed": false
   },
   "outputs": [
    {
     "name": "stdout",
     "output_type": "stream",
     "text": [
      "James C. Hart\n",
      "James Hart\n",
      "Hart, James C.\n"
     ]
    }
   ],
   "source": [
    "name = 'James C. Hart'\n",
    "middle_initial = name[6]\n",
    "first = name[0:5]\n",
    "last = name[9:]\n",
    " \n",
    "print name\n",
    " \n",
    "simple_name = first + ' ' + last\n",
    "last_first = last + ', ' + first + ' ' + middle_initial + '.'\n",
    "print simple_name\n",
    "print last_first\n",
    " \n",
    "simple_name_also = first, last"
   ]
  },
  {
   "cell_type": "code",
   "execution_count": 23,
   "metadata": {
    "collapsed": false
   },
   "outputs": [
    {
     "data": {
      "text/plain": [
       "'James5'"
      ]
     },
     "execution_count": 23,
     "metadata": {},
     "output_type": "execute_result"
    }
   ],
   "source": [
    "first +'5'\n"
   ]
  },
  {
   "cell_type": "markdown",
   "metadata": {},
   "source": [
    "'**+**' basically does what you might imagine. Its use is fairly straightforward, but it is oddly similar to another operator we've seen: the plus sign. The difference between string concatenation and numerical addition is only whether the values on either side are strings or numbers. Thus, using one of each, like 'string' + 5 will create a TypeError (more or errors later), and therefore should be avoided. If you meant to concatenate 'string' and the string '5' to get 'string5', the section on inserting and formatting variables in strings will allay your woes.\n",
    "\n",
    "## Coercion\n",
    "\n",
    "If you had instead somehow managed to get a number like '5' stored as a string (for instance, you took it as input from a file or user), then you would need a way to convince python to let you use the number as…well…a number! Your tools for this are coercion functions. You'll see these again and in more detail tomorrow, but for now just know that if something looks like a number, but has quotes around it, the functions int() and float() will give you back real numbers to play with. Use them like so:"
   ]
  },
  {
   "cell_type": "code",
   "execution_count": 24,
   "metadata": {
    "collapsed": false
   },
   "outputs": [
    {
     "name": "stdout",
     "output_type": "stream",
     "text": [
      "53.14\n",
      "8.14\n"
     ]
    }
   ],
   "source": [
    "integer_text = '5'\n",
    "decimal_text = '3.14'\n",
    " \n",
    "print integer_text + decimal_text\n",
    " \n",
    "integer = int(integer_text)\n",
    " \n",
    "#this next one would be trouble -- uncomment to get your very own python bug!\n",
    "#print integer + decimal_text\n",
    " \n",
    "decimal = float(decimal_text)\n",
    " \n",
    "print integer + decimal\n",
    " "
   ]
  },
  {
   "cell_type": "markdown",
   "metadata": {},
   "source": [
    "You're welcome to mess with these a little bit (try **type(integer_text)** and **type(integer)** from earlier, for instance), but their use is incredibly straightforward. Just remember, if you see a **TypeError** when you try to run a script, this should be the first thing you look for!\n",
    "\n",
    "## Inserting and formatting variables in strings\n",
    "\n",
    "The final string topic we'll discuss is the specific formatting and insertion of variables into strings. In last_first in the previous example, we added additional characters to the variables we were stitching together by a bunch of concatenations, adding characters like space, commas and periods. The other method python offers, called string interpolation, for injecting variables into strings is shown in the following:\n"
   ]
  },
  {
   "cell_type": "code",
   "execution_count": 25,
   "metadata": {
    "collapsed": false
   },
   "outputs": [
    {
     "name": "stdout",
     "output_type": "stream",
     "text": [
      "James, Hart C.\n"
     ]
    }
   ],
   "source": [
    "name = 'James C. Hart'\n",
    "middle_initial = name[6]\n",
    "first = name[0:5]\n",
    "last = name[9:]\n",
    " \n",
    " \n",
    "last_first = '%s, %s %s.' % (first, last, middle_initial)\n",
    "print last_first"
   ]
  },
  {
   "cell_type": "markdown",
   "metadata": {},
   "source": [
    "This handily replaces all those + operations with a very readable string, where %s represents spots where the variables or values you supply next will be inserted, in the order you supply them. After the string comes a solitary %, then a set of values in parentheses. These are the values to interpolate, and there must be as many of these as there are %s elements in your string. This is a nice way of composing a string of other strings, but its a downright blessing when you want to compose a string including number values. In the case of numbers, you can always supply them to strings with %s elements (like we just did with string variables), but there are also special interpolation operators for numbers %d and %f (corresponding to integer and floating point, respectively). For a full workup, see https://docs.python.org/2/library/stdtypes.html#string-formatting, but here's a start:"
   ]
  },
  {
   "cell_type": "code",
   "execution_count": 26,
   "metadata": {
    "collapsed": false
   },
   "outputs": [
    {
     "name": "stdout",
     "output_type": "stream",
     "text": [
      "variables can be interpolated as strings here 42 and here 3.14159265\n",
      "To get 2 decimal places write 3.14, or to get 2 decimal places padded\n",
      "to a total width of 5, write [ 3.14] (notice that the '.' counts as a character).\n",
      "The brackets above don't do anything--they're just there to point out to you the left\n",
      "padding; you can replace the spaces in the second example with zeros this\n",
      "way: 003.142.\n"
     ]
    }
   ],
   "source": [
    "i = 42\n",
    "f = 3.14159265\n",
    " \n",
    "string = 'variables can be interpolated as strings here %s and here %s' % (i,f)\n",
    "print string\n",
    " \n",
    " \n",
    "print '''To get 2 decimal places write %.2f, or to get 2 decimal places padded\n",
    "to a total width of 5, write [%5.2f] (notice that the '.' counts as a character).\n",
    "The brackets above don't do anything--they're just there to point out to you the left\n",
    "padding; you can replace the spaces in the second example with zeros this\n",
    "way: %07.3f.''' % (f,f,f)\n",
    "# Remember how we said returns are faithfully reproduced from triple quoted strings?"
   ]
  },
  {
   "cell_type": "markdown",
   "metadata": {},
   "source": [
    "Practically speaking, the most commonly used formatting tools are **%s** to shove variables of any and all types into strings, and **%.xf** where **x** is the number of decimal places to display for floating point numbers. Most commonly, you will see and employ a lot of **%.2f** string interpolations, and almost never see or use any of the other numerical interpolators.\n",
    "\n",
    "## Another Way To Format Strings: The **string.format()** Method\n",
    "\n",
    "\n",
    "String interpolation is one way to format strings. A more versatile way of formatting strings with variables is using the string.format() method. For example:"
   ]
  },
  {
   "cell_type": "code",
   "execution_count": 1,
   "metadata": {
    "collapsed": false
   },
   "outputs": [
    {
     "name": "stdout",
     "output_type": "stream",
     "text": [
      "variables can be interpolated as strings here 42 and here 3.14159265\n",
      "With the new way, you can use indexes to plug in the same variables multiple times, and in any order you wish.\n",
      "To get 2 decimal places write 3.14.\n",
      "To get 2 decimal places padded to a total width of 6, write   3.14\n",
      "You can replace the spaces in the second example with zeros this way: 003.14\n",
      "Or you could even do this: XX3.14\n"
     ]
    }
   ],
   "source": [
    "i = 42\n",
    "f = 3.14159265\n",
    "\n",
    "# Use the curly-brackets {} to specify where you want to insert the variables.\n",
    "# Follow that with the format method with the variables you want to enter in the parentheses.\n",
    " \n",
    "string = 'Variables can be interpolated as strings here {} and here {}.'.format(i, f)\n",
    "print string\n",
    " \n",
    "# You can also reference the same variables more than once by their index in the parentheses.\n",
    " \n",
    "t = 'the'\n",
    "n = 'in'\n",
    "sentence = \"With {0} new way, you can use indexes to plug {1} {0} same variables \" + \\\n",
    "           \"multiple times, and {1} any order you wish.\"\n",
    "print sentence.format(t, n)\n",
    "\n",
    "\n",
    "# You can also format numbers to decimal places with padding.\n",
    "# Note: 'pi' is the name of a specific variable in format.\n",
    "# You *must* specify the number in the \"pi=number\" syntax!\n",
    "\n",
    "print '''To get 2 decimal places write {pi:.2f}.\n",
    "To get 2 decimal places padded to a total width of 6, write {pi:>6.2f}\n",
    "You can replace the spaces in the last example with zeros this way: {pi:0>6.2f}\n",
    "Or you could even do this: {pi:X>6.2f}'''.format(pi=f)"
   ]
  },
  {
   "cell_type": "markdown",
   "metadata": {},
   "source": [
    "## Input: raw_input() function\n",
    "\n",
    "\n",
    "Lastly, we need a way to get data into a program. While there are several ways to gather data from the outside world, the simplest is to just ask. In python, a program asks for information from the user with the **raw_input()** function, as demonstrated here:"
   ]
  },
  {
   "cell_type": "code",
   "execution_count": 28,
   "metadata": {
    "collapsed": false
   },
   "outputs": [
    {
     "name": "stdout",
     "output_type": "stream",
     "text": [
      "what's your name? Debora\n",
      "hello Debora!\n"
     ]
    }
   ],
   "source": [
    "# hello whoever you are!\n",
    " \n",
    "user = raw_input(\"what's your name? \")\n",
    "print 'hello %s!' % (user)"
   ]
  },
  {
   "cell_type": "markdown",
   "metadata": {},
   "source": [
    "The raw_input() function prompts the user by printing to the screen whatever value is given in the parentheses immediately following the raw_input call, (in this case asking \"what's your name?\") and then waits for the user to type whatever they want for as long as they feel like, until the user hits enter. raw_input() (which is a function, like int() or float(), a topic we'll talk a lot more about later) then takes everything up until the user hits enter and returns that as a string. Again, we'll talk more about this idea, but here all you need to know is that raw_input gives back the user's input as a string, and that gets saved to the variable user using the assignment operator (=). After taking this input, we just spit it right back out (employing the string interpolation trick we learned a few minutes ago).\n",
    "\n",
    "(More detailed documentation about the various interpolation options can be found in the python documentation)\n",
    "\n",
    "Now that you know everything you need to know to accept basic input, manipulate numbers and strings, store them in variables, and generate meticulously formatted output…try these practice exercises!"
   ]
  },
  {
   "cell_type": "markdown",
   "metadata": {},
   "source": [
    "## Exercises:\n",
    "\n",
    "**1. The Greeter**\n",
    "\n",
    "  Write a program that asks for the user's name and tells them hello."
   ]
  },
  {
   "cell_type": "markdown",
   "metadata": {},
   "source": [
    "**2. What's My Age Again?**\n",
    "\n",
    "  Ask for their year of birth and compute their age.\n",
    "  Print out their age in the following format:\n",
    "\n",
    "    Your age is 25."
   ]
  },
  {
   "cell_type": "markdown",
   "metadata": {},
   "source": [
    "**3. Ratio**\n",
    "\n",
    "  Read two numbers in (user input).\n",
    "  Print out their ratio.\n",
    "  Figure out how to make this program fail. (There are many ways.)"
   ]
  },
  {
   "cell_type": "markdown",
   "metadata": {},
   "source": [
    "**4. Sum and Mean**\n",
    "\n",
    "  Read five numbers in.\n",
    "  Print out their sum and mean."
   ]
  },
  {
   "cell_type": "markdown",
   "metadata": {},
   "source": [
    "**5. Swap**\n",
    "\n",
    "  The user enters two numbers.\n",
    "  Store the numbers in two variables called input1 and input2.\n",
    "  Swap the values of the two variables so that input1 has the value of input2 and vice versa.\n",
    "  Print out the two variables."
   ]
  },
  {
   "cell_type": "markdown",
   "metadata": {},
   "source": [
    "### Challenges:\n",
    "\n",
    "**6. Quickswap**\n",
    "\n",
    "  Perform the swap in #5 above in only 1 line of code, and without using any variables other than input1 and input2. (Hint: you need tuples; try Google!)"
   ]
  },
  {
   "cell_type": "markdown",
   "metadata": {},
   "source": [
    "**7. Index-tastic**\n",
    "\n",
    "  Ask the user to specify a number of digits (e.g. 1-digit numbers, 2-digit numbers, etc.).\n",
    "  Ask the user to supply five numbers of that many digits separated by spaces.\n",
    "  Parse these numbers out, and calculate sum and mean as in Exercise #4.\n",
    "  \n",
    "  Try also doing this without using any additional variables! (Use only the one that contains the string that you read in.)"
   ]
  },
  {
   "cell_type": "markdown",
   "metadata": {},
   "source": [
    "**8. Escape!**\n",
    "\n",
    "  Reproduce the triple-quoted string from earlier:"
   ]
  },
  {
   "cell_type": "code",
   "execution_count": 1,
   "metadata": {
    "collapsed": false
   },
   "outputs": [
    {
     "name": "stdout",
     "output_type": "stream",
     "text": [
      "hello \"world\", if that is your real name.\n",
      "That's World, to you\n"
     ]
    }
   ],
   "source": [
    "s = '''hello \"world\", if that is your real name.\n",
    "That's World, to you'''\n",
    "print s"
   ]
  },
  {
   "cell_type": "markdown",
   "metadata": {},
   "source": [
    "in just one string using single or double quotes. Make sure you have the line break and all the quotes and apostrophes in there!"
   ]
  }
 ],
 "metadata": {
  "kernelspec": {
   "display_name": "Python 2",
   "language": "python",
   "name": "python2"
  },
  "language_info": {
   "codemirror_mode": {
    "name": "ipython",
    "version": 2
   },
   "file_extension": ".py",
   "mimetype": "text/x-python",
   "name": "python",
   "nbconvert_exporter": "python",
   "pygments_lexer": "ipython2",
   "version": "2.7.12"
  }
 },
 "nbformat": 4,
 "nbformat_minor": 0
}
