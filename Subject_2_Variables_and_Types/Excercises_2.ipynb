{
 "cells": [
  {
   "cell_type": "markdown",
   "metadata": {},
   "source": [
    "---\n",
    "\n",
    "## Exercises"
   ]
  },
  {
   "cell_type": "markdown",
   "metadata": {},
   "source": [
    "__1) Age__\n",
    "\n",
    "Write a script that will ask for someone's age and print out the year they're born in. The final output should be in the format: You are \"age\" years old, so you were born in \"year\""
   ]
  },
  {
   "cell_type": "code",
   "execution_count": 63,
   "metadata": {},
   "outputs": [
    {
     "name": "stdout",
     "output_type": "stream",
     "text": [
      "what is your current age?20\n",
      "1998\n",
      "<type 'str'>\n"
     ]
    }
   ],
   "source": [
    "age = raw_input(\"what is your current age?\")\n",
    "print int(2018) - int(age) \n",
    "print type(age)"
   ]
  },
  {
   "cell_type": "markdown",
   "metadata": {},
   "source": [
    "__2) Haiku formatting__\n",
    "\n",
    "A haiku consists of 3 lines that have 5 syllables in the first line, 7 in the second, and 5 in the last. Here's a sample haiku:\n",
    "\n",
    "   The light of the moon It moves west, flowers' shadows, They all creep eastward.\n",
    "\n",
    "\n",
    "Turn this haiku into a string and add new line characters to transform it into a proper haiku"
   ]
  },
  {
   "cell_type": "code",
   "execution_count": 82,
   "metadata": {},
   "outputs": [
    {
     "name": "stdout",
     "output_type": "stream",
     "text": [
      "The light of the moon It moves west\n",
      "flowers' shadows\n",
      "They all creep eastward\n"
     ]
    }
   ],
   "source": [
    "L1 = \"The light of the moon It moves west\\n\"\n",
    "L2 = \"flowers' shadows\\n\"\n",
    "L3 = \"They all creep eastward\"\n",
    "print L1 +  L2 + L3"
   ]
  },
  {
   "cell_type": "code",
   "execution_count": 84,
   "metadata": {},
   "outputs": [
    {
     "name": "stdout",
     "output_type": "stream",
     "text": [
      "The light of the moon It moves west\n",
      "flowers' shadows\n",
      "They all creep eastward\n"
     ]
    }
   ],
   "source": [
    "L1 = \"The light of the moon It moves west\\n\"\n",
    "L2 = \"flowers' shadows\\n\"\n",
    "L3 = \"They all creep eastward\"\n",
    "print L1 +  L2 + L3"
   ]
  },
  {
   "cell_type": "markdown",
   "metadata": {},
   "source": [
    "__3) Haiku slicing__\n",
    "\n",
    "Write a code that will ask 2 questions. Each question will ask for a number between 0 and 70. Index the haiku in question 2 with the smaller number being the start position and the larger number being the end position. What is the result?"
   ]
  },
  {
   "cell_type": "code",
   "execution_count": 104,
   "metadata": {},
   "outputs": [
    {
     "name": "stdout",
     "output_type": "stream",
     "text": [
      "choose a number between 0 and 70 10\n",
      "choose another and different number between 0 and 70 30\n",
      "of the moon It moves\n"
     ]
    }
   ],
   "source": [
    "someString = \"The light of the moon It moves west flowers' shadows They all creep eastward\"\n",
    "Q1 = int(raw_input(\"choose a number between 0 and 70 \"))\n",
    "Q2 = int(raw_input(\"choose another and different number between 0 and 70 \"))\n",
    "print someString[Q1:Q2]"
   ]
  },
  {
   "cell_type": "markdown",
   "metadata": {},
   "source": [
    "__4) Budget__\n",
    "\n",
    "Write a code that asks for how much money you have and also how much something costs (e.g. a pencil). Calculate how many of these things you can buy and how much money you would have left over."
   ]
  },
  {
   "cell_type": "code",
   "execution_count": 115,
   "metadata": {},
   "outputs": [
    {
     "name": "stdout",
     "output_type": "stream",
     "text": [
      "How much money do you have? 10\n",
      "How much does that pencil cost? 1\n",
      "10\n"
     ]
    }
   ],
   "source": [
    "Q3 = int(raw_input(\"How much money do you have? \"))\n",
    "Q4 = int(raw_input(\"How much does that pencil cost? \"))\n",
    "print Q3/Q4"
   ]
  },
  {
   "cell_type": "markdown",
   "metadata": {},
   "source": [
    "__5) Ratio__\n",
    "\n",
    "  Read two numbers in (user input).\n",
    "  Print out their ratio."
   ]
  },
  {
   "cell_type": "code",
   "execution_count": 123,
   "metadata": {},
   "outputs": [
    {
     "name": "stdout",
     "output_type": "stream",
     "text": [
      "enter a number 100\n",
      "enter another number 10\n",
      "I have a 100/10 of them.\n"
     ]
    }
   ],
   "source": [
    "num1 = int(raw_input(\"enter a number \"))\n",
    "num2 = int(raw_input(\"enter another number \"))\n",
    "print \"I have a {}/{} of them.\".format(num1, num2)"
   ]
  },
  {
   "cell_type": "markdown",
   "metadata": {},
   "source": [
    "__6) Sum and Mean__\n",
    "\n",
    "  Read five numbers in. Print out their sum and mean."
   ]
  },
  {
   "cell_type": "code",
   "execution_count": 125,
   "metadata": {},
   "outputs": [
    {
     "name": "stdout",
     "output_type": "stream",
     "text": [
      "enter a number 2\n",
      "enter a number 4\n",
      "enter a number 6\n",
      "enter a number 8\n",
      "enter a number 10\n",
      "30\n",
      "6\n"
     ]
    }
   ],
   "source": [
    "n1 = int(raw_input(\"enter a number \"))\n",
    "n2 = int(raw_input(\"enter a number \"))\n",
    "n3 = int(raw_input(\"enter a number \"))\n",
    "n4 = int(raw_input(\"enter a number \"))\n",
    "n5 = int(raw_input(\"enter a number \"))\n",
    "print n1+n2+n3+n4+n5\n",
    "print (n1+n2+n3+n4+n5)/5"
   ]
  },
  {
   "cell_type": "markdown",
   "metadata": {},
   "source": [
    "### CHALLENGES!\n",
    "\n",
    "__7) Index-tastic__\n",
    "\n",
    "  Ask the user to specify a number of digits (e.g. 1-digit numbers, 2-digit numbers, etc.).\n",
    "  Ask the user to supply five numbers of that many digits separated by spaces.\n",
    "  Parse these numbers out, and calculate sum and mean as in Exercise #6.\n",
    "  \n",
    "Try also doing this without using any additional variables! (Use only the one that contains the string that you read in.)"
   ]
  },
  {
   "cell_type": "code",
   "execution_count": 131,
   "metadata": {},
   "outputs": [
    {
     "name": "stdout",
     "output_type": "stream",
     "text": [
      "for this exercise define the number of digits to use in your numbers 10\n",
      "enter a number following your digit number restriction 12\n",
      "enter a number following your digit number restriction 13\n",
      "enter a number following your digit number restriction 1\n",
      "enter a number following your digit number restriction 15\n",
      "enter a number following your digit number restriction 16\n",
      "12\n",
      "13\n",
      "1\n",
      "15\n",
      "16\n",
      "57\n",
      "this is the mean of your numbers 11\n"
     ]
    }
   ],
   "source": [
    "digits = int(raw_input(\"for this exercise define the number of digits to use in your numbers \"))\n",
    "number1 = int(raw_input(\"enter a number following your digit number restriction \"))\n",
    "number2 = int(raw_input(\"enter a number following your digit number restriction \"))\n",
    "number3 = int(raw_input(\"enter a number following your digit number restriction \"))\n",
    "number4 = int(raw_input(\"enter a number following your digit number restriction \"))\n",
    "number5 = int(raw_input(\"enter a number following your digit number restriction \"))\n",
    "print number1\n",
    "print number2\n",
    "print number3\n",
    "print number4\n",
    "print number5\n",
    "print number1+number2+number3+number4+number5\n",
    "print \"this is the mean of your numbers\",(number1+number2+number3+number4+number5)/5\n"
   ]
  },
  {
   "cell_type": "markdown",
   "metadata": {},
   "source": [
    "__8) Escape!__\n",
    "\n",
    "  Reproduce the triple-quoted string from earlier:"
   ]
  },
  {
   "cell_type": "code",
   "execution_count": 133,
   "metadata": {},
   "outputs": [
    {
     "name": "stdout",
     "output_type": "stream",
     "text": [
      "hello \"world\", if that is your real name.\n",
      "That's World, to you\n"
     ]
    }
   ],
   "source": [
    "s = '''hello \"world\", if that is your real name.\n",
    "That's World, to you'''\n",
    "print s"
   ]
  },
  {
   "cell_type": "code",
   "execution_count": 134,
   "metadata": {},
   "outputs": [
    {
     "name": "stdout",
     "output_type": "stream",
     "text": [
      "hello \"world\", if that is your real name. \n",
      "That's World, to you\n"
     ]
    }
   ],
   "source": [
    "s = '''hello \"world\", if that is your real name. \\nThat's World, to you'''\n",
    "print s"
   ]
  },
  {
   "cell_type": "markdown",
   "metadata": {},
   "source": [
    "in just one string using single or double quotes. Make sure you have the line break and all the quotes and apostrophes in there!"
   ]
  }
 ],
 "metadata": {
  "anaconda-cloud": {},
  "kernelspec": {
   "display_name": "Python 2",
   "language": "python",
   "name": "python2"
  },
  "language_info": {
   "codemirror_mode": {
    "name": "ipython",
    "version": 2
   },
   "file_extension": ".py",
   "mimetype": "text/x-python",
   "name": "python",
   "nbconvert_exporter": "python",
   "pygments_lexer": "ipython2",
   "version": "2.7.13"
  }
 },
 "nbformat": 4,
 "nbformat_minor": 1
}
