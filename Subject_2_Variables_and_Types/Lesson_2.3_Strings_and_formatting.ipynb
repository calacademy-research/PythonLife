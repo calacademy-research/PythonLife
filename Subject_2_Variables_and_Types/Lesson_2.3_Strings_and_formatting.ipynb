{
 "cells": [
  {
   "cell_type": "markdown",
   "metadata": {},
   "source": [
    "## Strings\n",
    "Strings can be surrounded by either single quotes or double quotes for strings, but only on a single line. If you want to write strings with multiple lines, you have to use 3 single quotes or 3 double quotes to start and end the string"
   ]
  },
  {
   "cell_type": "code",
   "execution_count": null,
   "metadata": {},
   "outputs": [],
   "source": [
    "print '''This is how you \n",
    "         quote multiple lines'''\n",
    "#triple quote can span lines"
   ]
  },
  {
   "cell_type": "code",
   "execution_count": null,
   "metadata": {},
   "outputs": [],
   "source": [
    "print \"\"\"this is not \n",
    "        going to work\"\"\""
   ]
  },
  {
   "cell_type": "markdown",
   "metadata": {},
   "source": [
    "### Indexing and the joy of fenceposts\n",
    "If you are making a 10 foot fence with a post every foot, how many fenceposts will you need? How about a 1 foot fence?\n",
    "\n",
    "Why is that important here? Let's look at a string, and it's length:"
   ]
  },
  {
   "cell_type": "code",
   "execution_count": 12,
   "metadata": {},
   "outputs": [
    {
     "data": {
      "text/plain": [
       "5"
      ]
     },
     "execution_count": 12,
     "metadata": {},
     "output_type": "execute_result"
    }
   ],
   "source": [
    "len(\"hello\")"
   ]
  },
  {
   "cell_type": "markdown",
   "metadata": {},
   "source": [
    "Or, with a variable:"
   ]
  },
  {
   "cell_type": "code",
   "execution_count": 23,
   "metadata": {},
   "outputs": [
    {
     "name": "stdout",
     "output_type": "stream",
     "text": [
      "5\n"
     ]
    }
   ],
   "source": [
    "my_short_string=\"abcde\"\n",
    "print len(my_short_string)"
   ]
  },
  {
   "cell_type": "markdown",
   "metadata": {},
   "source": [
    "Neat! Now, let's look at a powerful tool we can use to manipulate strings. This is the \"index\". We index by adding square brackets \"[]\" right after a string. But, remember our fenceposts, and beware. Python - and the majority of other computer languages - start counting with \"0\". "
   ]
  },
  {
   "cell_type": "code",
   "execution_count": 24,
   "metadata": {},
   "outputs": [
    {
     "name": "stdout",
     "output_type": "stream",
     "text": [
      "a\n"
     ]
    }
   ],
   "source": [
    "print my_short_string[0]"
   ]
  },
  {
   "cell_type": "code",
   "execution_count": 15,
   "metadata": {},
   "outputs": [
    {
     "name": "stdout",
     "output_type": "stream",
     "text": [
      "e\n"
     ]
    }
   ],
   "source": [
    "print my_short_string[1]"
   ]
  },
  {
   "cell_type": "markdown",
   "metadata": {},
   "source": [
    "Great. How about the last one?"
   ]
  },
  {
   "cell_type": "code",
   "execution_count": 16,
   "metadata": {},
   "outputs": [
    {
     "ename": "IndexError",
     "evalue": "string index out of range",
     "output_type": "error",
     "traceback": [
      "\u001b[0;31m---------------------------------------------------------------------------\u001b[0m",
      "\u001b[0;31mIndexError\u001b[0m                                Traceback (most recent call last)",
      "\u001b[0;32m<ipython-input-16-f59a47371b04>\u001b[0m in \u001b[0;36m<module>\u001b[0;34m()\u001b[0m\n\u001b[0;32m----> 1\u001b[0;31m \u001b[0;32mprint\u001b[0m \u001b[0mmy_short_string\u001b[0m\u001b[0;34m[\u001b[0m\u001b[0;36m5\u001b[0m\u001b[0;34m]\u001b[0m\u001b[0;34m\u001b[0m\u001b[0m\n\u001b[0m",
      "\u001b[0;31mIndexError\u001b[0m: string index out of range"
     ]
    }
   ],
   "source": [
    "print my_short_string[5]"
   ]
  },
  {
   "cell_type": "markdown",
   "metadata": {},
   "source": [
    "Well, that didn't work. Let's try a little math... Remember len?"
   ]
  },
  {
   "cell_type": "code",
   "execution_count": 25,
   "metadata": {},
   "outputs": [
    {
     "name": "stdout",
     "output_type": "stream",
     "text": [
      "5\n"
     ]
    }
   ],
   "source": [
    "print len(my_short_string)"
   ]
  },
  {
   "cell_type": "markdown",
   "metadata": {},
   "source": [
    "Let's apply it to this problem..."
   ]
  },
  {
   "cell_type": "code",
   "execution_count": 27,
   "metadata": {},
   "outputs": [
    {
     "name": "stdout",
     "output_type": "stream",
     "text": [
      "Welcome to the off-by-one problem. Expect to see it a lot!\n",
      "!\n"
     ]
    }
   ],
   "source": [
    "print \"Welcome to the off-by-one problem. Expect to see it a lot!\"\n",
    "print my_short_string[len(my_short_string)-1]"
   ]
  },
  {
   "cell_type": "code",
   "execution_count": 26,
   "metadata": {},
   "outputs": [
    {
     "name": "stdout",
     "output_type": "stream",
     "text": [
      "Let's try the same thing, but with a new string...\n"
     ]
    }
   ],
   "source": [
    "print \"Let's try the same thing, but with a new string...\"\n",
    "my_short_string = \"This is a much longer string!\""
   ]
  },
  {
   "cell_type": "code",
   "execution_count": null,
   "metadata": {},
   "outputs": [],
   "source": [
    "print \"okay, back to a shorter string\"\n",
    "my_short_string = \"abcdefghij\""
   ]
  },
  {
   "cell_type": "markdown",
   "metadata": {},
   "source": [
    "You can also store these as variables!"
   ]
  },
  {
   "cell_type": "code",
   "execution_count": 28,
   "metadata": {},
   "outputs": [
    {
     "name": "stdout",
     "output_type": "stream",
     "text": [
      "T\n",
      "h\n",
      "i\n",
      "Thi\n",
      "Tih\n"
     ]
    }
   ],
   "source": [
    "var1 = my_short_string[0]\n",
    "var2 = my_short_string[1]\n",
    "var3 = my_short_string[2]\n",
    "\n",
    "print var1\n",
    "print var2\n",
    "print var3\n",
    "\n",
    "print var1 + var2 + var3\n",
    "print var1 + var3 + var2"
   ]
  },
  {
   "cell_type": "code",
   "execution_count": 29,
   "metadata": {},
   "outputs": [
    {
     "name": "stdout",
     "output_type": "stream",
     "text": [
      "What if we use negative values?\n",
      "g\n"
     ]
    }
   ],
   "source": [
    "print 'What if we use negative values?'\n",
    "print my_short_string[-2]"
   ]
  },
  {
   "cell_type": "markdown",
   "metadata": {},
   "source": [
    "Using negative values counts backwards instead."
   ]
  },
  {
   "cell_type": "code",
   "execution_count": 1,
   "metadata": {},
   "outputs": [
    {
     "ename": "NameError",
     "evalue": "name 'my_short_string' is not defined",
     "output_type": "error",
     "traceback": [
      "\u001b[0;31m---------------------------------------------------------------------------\u001b[0m",
      "\u001b[0;31mNameError\u001b[0m                                 Traceback (most recent call last)",
      "\u001b[0;32m<ipython-input-1-ffb1e48f466f>\u001b[0m in \u001b[0;36m<module>\u001b[0;34m()\u001b[0m\n\u001b[0;32m----> 1\u001b[0;31m \u001b[0;32mprint\u001b[0m \u001b[0mmy_short_string\u001b[0m\u001b[0;34m[\u001b[0m\u001b[0;36m1\u001b[0m\u001b[0;34m:\u001b[0m\u001b[0;36m5\u001b[0m\u001b[0;34m]\u001b[0m\u001b[0;34m\u001b[0m\u001b[0m\n\u001b[0m",
      "\u001b[0;31mNameError\u001b[0m: name 'my_short_string' is not defined"
     ]
    }
   ],
   "source": [
    "print my_short_string[1:5]"
   ]
  },
  {
   "cell_type": "markdown",
   "metadata": {},
   "source": [
    "Here, we have a different indexing notation. In this case, the number before the colon represents the first letter to print, and it will continue printing the string all the way up to __but not including__ the letter in the position of the second number."
   ]
  },
  {
   "cell_type": "code",
   "execution_count": null,
   "metadata": {},
   "outputs": [],
   "source": [
    "print 'Let us get the first 5 letters'\n",
    "print my_short_string[0:5]\n",
    "print my_short_string[:5]\n",
    "print my_short_string[2:]\n",
    "# if you omit the number before the colon,\n",
    "# it starts from the begining"
   ]
  },
  {
   "cell_type": "code",
   "execution_count": 31,
   "metadata": {},
   "outputs": [
    {
     "name": "stdout",
     "output_type": "stream",
     "text": [
      "abcdefghij\n"
     ]
    }
   ],
   "source": [
    "print \"Let's omit both for a degenerate case...\"\n",
    "print my_short_string[:] "
   ]
  },
  {
   "cell_type": "markdown",
   "metadata": {},
   "source": [
    "Using a second colon within the indexing brackets allows more customizing of the string slicing, and it can get pretty confusing!"
   ]
  },
  {
   "cell_type": "code",
   "execution_count": null,
   "metadata": {},
   "outputs": [],
   "source": [
    "print 'Get every second letter'\n",
    "print my_short_string[::2]"
   ]
  },
  {
   "cell_type": "code",
   "execution_count": null,
   "metadata": {},
   "outputs": [],
   "source": [
    "print 'Reverse the string'\n",
    "print my_short_string[::-1]"
   ]
  },
  {
   "cell_type": "code",
   "execution_count": null,
   "metadata": {},
   "outputs": [],
   "source": [
    "print 'Print the first five letters, reversed'\n",
    "print my_short_string[4::-1]"
   ]
  },
  {
   "cell_type": "markdown",
   "metadata": {},
   "source": [
    "### Fun with string operations\n",
    "There are a host of handy functions that will operate on strings. Let's sample a few:"
   ]
  },
  {
   "cell_type": "code",
   "execution_count": 32,
   "metadata": {},
   "outputs": [
    {
     "name": "stdout",
     "output_type": "stream",
     "text": [
      "ABCDEFGHIJ\n"
     ]
    }
   ],
   "source": [
    "print my_short_string.upper()"
   ]
  },
  {
   "cell_type": "code",
   "execution_count": 33,
   "metadata": {},
   "outputs": [
    {
     "name": "stdout",
     "output_type": "stream",
     "text": [
      "i would like to stop yelling\n"
     ]
    }
   ],
   "source": [
    "print \"I WOULD LIKE TO STOP YELLING\".lower()"
   ]
  },
  {
   "cell_type": "code",
   "execution_count": 35,
   "metadata": {},
   "outputs": [
    {
     "name": "stdout",
     "output_type": "stream",
     "text": [
      "ZZZbcdefghij\n"
     ]
    }
   ],
   "source": [
    "print my_short_string.replace(\"a\",\"ZZZ\")"
   ]
  },
  {
   "cell_type": "code",
   "execution_count": 37,
   "metadata": {},
   "outputs": [
    {
     "name": "stdout",
     "output_type": "stream",
     "text": [
      "my short string is unchanged, because we never used '='\n",
      "abcdefghij\n"
     ]
    }
   ],
   "source": [
    "print \"my short string is unchanged, because we never used '='\"\n",
    "print my_short_string"
   ]
  },
  {
   "cell_type": "code",
   "execution_count": 38,
   "metadata": {},
   "outputs": [
    {
     "name": "stdout",
     "output_type": "stream",
     "text": [
      "but we could!\n",
      "ABCDEFGHIJ\n"
     ]
    }
   ],
   "source": [
    "print \"but we could!\"\n",
    "my_short_string = my_short_string.upper()\n",
    "print my_short_string"
   ]
  },
  {
   "cell_type": "markdown",
   "metadata": {},
   "source": [
    "### The misery of quotes\n",
    "\n",
    "Quotes enclose a string. Up until now, we've been using single and double quotes interchangably. As far as Python is concerned, they're the same... mostly."
   ]
  },
  {
   "cell_type": "code",
   "execution_count": 39,
   "metadata": {},
   "outputs": [
    {
     "name": "stdout",
     "output_type": "stream",
     "text": [
      "hello\n",
      "hello\n"
     ]
    }
   ],
   "source": [
    "print \"hello\"\n",
    "print 'hello'"
   ]
  },
  {
   "cell_type": "markdown",
   "metadata": {},
   "source": [
    "But what if you want to print a quote? We discussed escaping charhacters in the last lesson, but there's a simple way, too."
   ]
  },
  {
   "cell_type": "code",
   "execution_count": 40,
   "metadata": {},
   "outputs": [
    {
     "name": "stdout",
     "output_type": "stream",
     "text": [
      "hello'\n",
      "hello\"\n"
     ]
    }
   ],
   "source": [
    "print \"hello'\"\n",
    "print 'hello\"'"
   ]
  },
  {
   "cell_type": "markdown",
   "metadata": {},
   "source": [
    "Generally, Python folks prefer single quotes, but this is a purely stylistic choice. Want to know more about style? Check out \"PEP 8\". It's a \"style guide\", and most languages - and instutions - have recommendations that they like their coders to conform to.\n",
    "\n",
    "https://www.python.org/dev/peps/pep-0008/"
   ]
  },
  {
   "cell_type": "markdown",
   "metadata": {},
   "source": [
    "### Special Characters\n",
    "There are special characters than can be used in strings to do some interesting things. They're generally indicated with a backslash and some letter. The most common ones for string formatting I've seen are \\t and \\n, which correspond to tabs and newlines"
   ]
  },
  {
   "cell_type": "code",
   "execution_count": 43,
   "metadata": {},
   "outputs": [
    {
     "name": "stdout",
     "output_type": "stream",
     "text": [
      "some\thing is missing\n",
      "somethi\n",
      "g is broken\n",
      "something th\u0007t will drive you b\u0007n\u0007n\u0007s\n"
     ]
    }
   ],
   "source": [
    "s = 'some\\thing is missing'\n",
    "print s\n",
    "s2 = \"somethi\\ng is broken\"\n",
    "print s2\n",
    "s3 = '''something th\\at will drive you b\\an\\an\\as'''\n",
    "print s3"
   ]
  },
  {
   "cell_type": "code",
   "execution_count": null,
   "metadata": {},
   "outputs": [],
   "source": [
    "s4 = r'\\a solu\\tio\\n'\n",
    "print s4\n",
    " \n",
    "s5 = '\\\\another solu\\\\tio\\\\n'\n",
    "print s5"
   ]
  },
  {
   "cell_type": "markdown",
   "metadata": {},
   "source": [
    "This ugly (and possibly loud, if your sound is working properly) mess is caused by escape characters. In python strings, several special characters (full list here: https://docs.python.org/2/reference/lexical_analysis.html#string-literals) can be preceded by a backslash (\\) to produce special output, such as a tab (\\t) newline (\\n) or even a bell noise (\\a).\n",
    "This is handy, since it means you can liberally pepper your strings with tabs and line breaks. In fact, lots of the data that we use are conveniently stored in files that are delimited by such tabs and line breaks. This might be a problem, however, say if you wanted to use a backslash in your string. Python offers two ways around this: the safest is to escape your special character, using a second backslash (see s5 above, '\\'). A fancier way involves a special kind of string, the raw string.\n",
    "Raw strings start with r' and end with ' will treat every character between as exactly what it looks like, with the exception of the single quote (which ends the string). \n",
    "\n",
    "If you do use raw strings, watch out for two catches:\n",
    "* You must still escape single quotes you want to appear inside the string.\n",
    "* The last character of the string cannot be a backslash, since this will escape the closing quote.\n",
    "Color coding from synthax highlighting will help you notice the problems:"
   ]
  },
  {
   "cell_type": "code",
   "execution_count": null,
   "metadata": {},
   "outputs": [],
   "source": [
    "#s6 = r'don\\'t do this'\n",
    "s6 = r'but there ain\\'t a problem with this'\n",
    "print s6\n",
    " \n",
    "#s7 = r'this is bad\\'\n",
    "s7 = r'but this is okay\\ '\n",
    "print s7"
   ]
  },
  {
   "cell_type": "markdown",
   "metadata": {},
   "source": [
    "### Formatting\n",
    "We've learned about strings and variables, but how can we put them together? This is where formatting comes into play, where we can combine them together on a line. To format strings or, in other words, to be able to place variables within a string, just place curly braces {} where you'd like variables to appear; then use .format() and type in a list of variables to input. Variables that are not strings will be coerced to string type.\n",
    "\n",
    "If you put too many variables in the .format() list, the excess will not be included in the string."
   ]
  },
  {
   "cell_type": "code",
   "execution_count": null,
   "metadata": {},
   "outputs": [],
   "source": [
    "pet = 'cat'\n",
    "howMany = 13\n",
    "\n",
    "print \"I have a {}, {} of them.\".format(pet, howMany)"
   ]
  },
  {
   "cell_type": "markdown",
   "metadata": {},
   "source": [
    "You can also reference the same variables more than once by their index in the parentheses."
   ]
  },
  {
   "cell_type": "code",
   "execution_count": null,
   "metadata": {},
   "outputs": [],
   "source": [
    "t = 'THE'\n",
    "n = 'IN'\n",
    "sentence = '''With string formatting, you can use\n",
    "indexes to plug {1} {0} same variables\n",
    "multiple times, and {1} any order you wish.'''\n",
    "print sentence.format(t, n)"
   ]
  },
  {
   "cell_type": "markdown",
   "metadata": {},
   "source": [
    "String formatting is useful when you're processing data and you want to generate output where each line has a set of tab separated values. The following is a slightly more complex example to get the point across"
   ]
  },
  {
   "cell_type": "code",
   "execution_count": null,
   "metadata": {},
   "outputs": [],
   "source": [
    "# Let's see if numbers from 0 to 10 are even or odd.\n",
    "# Spit out the number, whether or not it's even or odd\n",
    "# Let's also see if it's square is even or odd\n",
    "for i in range(1,11):\n",
    "    isOdd = ''\n",
    "    if i%2 == 0:\n",
    "        isOdd = 'even'\n",
    "    else:\n",
    "        isOdd = 'odd'\n",
    "    \n",
    "    square = ''\n",
    "    if i**3%2 == 0:\n",
    "        square = 'even'\n",
    "    else:\n",
    "        square = 'odd'\n",
    "        \n",
    "    print '{}\\t{}\\t{}'.format(i, isOdd, square)"
   ]
  }
 ],
 "metadata": {
  "anaconda-cloud": {},
  "kernelspec": {
   "display_name": "Python 2",
   "language": "python",
   "name": "python2"
  },
  "language_info": {
   "codemirror_mode": {
    "name": "ipython",
    "version": 2
   },
   "file_extension": ".py",
   "mimetype": "text/x-python",
   "name": "python",
   "nbconvert_exporter": "python",
   "pygments_lexer": "ipython2",
   "version": "2.7.13"
  }
 },
 "nbformat": 4,
 "nbformat_minor": 1
}
