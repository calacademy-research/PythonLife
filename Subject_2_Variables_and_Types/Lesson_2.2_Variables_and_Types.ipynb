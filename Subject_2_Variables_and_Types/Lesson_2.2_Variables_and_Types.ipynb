{
 "cells": [
  {
   "cell_type": "markdown",
   "metadata": {
    "collapsed": true
   },
   "source": [
    "# Subject 2 - Variables and Types\n",
    "\n",
    "* Basic data types: strings, integers, floating-point numbers\n",
    "* Coercion\n",
    "* Variables\n",
    "* Numerical operations on strings, integers and floats\n",
    "* Strings: indexing, special characters, formatting, and inputs\n",
    "\n",
    "---\n",
    "\n",
    "### What is a type?\n",
    "Computers - as we have previously observerd - aren't terribly smart. While we are able to represent information like \"Hello\" and \"3.14159\", it's pretty clear that the things we might do with the value of Pi and a greeting are pretty different. It's hard to divide two strings, and it doesn't make a lot of sense to remove the apostrophies from an integer. In fact, internally, Python has the ability to represent these data very differently. Each kind of data is called a \"Type\". Soon, we will work directly with types, but the important thing to know for now is that they exist, and that every kind of data is of a \"Type\". Here are the basics (and, in parenthesis, some synonyms/similar types):\n",
    "\n",
    " * Integer (int, long)\n",
    " * Float (double)\n",
    " * String (char - sort of)\n",
    " * Boolean\n",
    " * many others...\n",
    " \n",
    "### Back to the code...\n",
    "\n",
    "In lesson 1.1, you wrote your first Python program - \"Hello, world!\". Let's review what we did then:"
   ]
  },
  {
   "cell_type": "code",
   "execution_count": 1,
   "metadata": {},
   "outputs": [
    {
     "name": "stdout",
     "output_type": "stream",
     "text": [
      "hello\n"
     ]
    }
   ],
   "source": [
    "print \"hello\""
   ]
  },
  {
   "cell_type": "markdown",
   "metadata": {},
   "source": [
    "This bit of code tells python to use the __print__ function to output the text *hello world*. Of course, you can print a variety of data types in python: text like what we just did, numbers and other kinds of objects that we will learn about later in the course. "
   ]
  },
  {
   "cell_type": "code",
   "execution_count": 7,
   "metadata": {},
   "outputs": [
    {
     "name": "stdout",
     "output_type": "stream",
     "text": [
      "1 3.2\n"
     ]
    }
   ],
   "source": [
    "print 1,\n",
    "print 3.2"
   ]
  },
  {
   "cell_type": "markdown",
   "metadata": {},
   "source": [
    "*print* can get really complicated - it's our first function. We'll get to know functions better in future lessons, but for now, it's like a command in shell. It takes input and does something to it. In this case, prints. \n",
    "\n",
    "A useful formatting trick with print is the comma. Let's try it:"
   ]
  },
  {
   "cell_type": "code",
   "execution_count": 5,
   "metadata": {},
   "outputs": [
    {
     "name": "stdout",
     "output_type": "stream",
     "text": [
      "Hello There\n"
     ]
    }
   ],
   "source": [
    "print \"Hello\",\"There\""
   ]
  },
  {
   "cell_type": "markdown",
   "metadata": {},
   "source": [
    "As you can see, it's pretty smart. It inserts a space for us, and - helpfully - it's not too fussy about types."
   ]
  },
  {
   "cell_type": "code",
   "execution_count": 7,
   "metadata": {},
   "outputs": [
    {
     "name": "stdout",
     "output_type": "stream",
     "text": [
      "Hello there, I am 27 years old.\n"
     ]
    }
   ],
   "source": [
    "print \"Hello there, I am\",27, \"years old.\""
   ]
  },
  {
   "cell_type": "markdown",
   "metadata": {},
   "source": [
    "Python has a handy function for types. (Aha! Now we know two fuincitons- *print*, and *type*. A hint that something is a function is that it's followed by two parenthesis, which contain its arguments; the data we'll pass it that it will operate on) \n",
    "\n",
    "  The function  __type()__ allows us to check what is the type of an object (a what?! - we'll get there):"
   ]
  },
  {
   "cell_type": "code",
   "execution_count": 3,
   "metadata": {},
   "outputs": [
    {
     "name": "stdout",
     "output_type": "stream",
     "text": [
      "<type 'str'>\n"
     ]
    }
   ],
   "source": [
    "print type('hello world')"
   ]
  },
  {
   "cell_type": "code",
   "execution_count": 4,
   "metadata": {},
   "outputs": [
    {
     "name": "stdout",
     "output_type": "stream",
     "text": [
      "<type 'int'>\n"
     ]
    }
   ],
   "source": [
    "print type(1)"
   ]
  },
  {
   "cell_type": "code",
   "execution_count": 5,
   "metadata": {},
   "outputs": [
    {
     "name": "stdout",
     "output_type": "stream",
     "text": [
      "<type 'float'>\n"
     ]
    }
   ],
   "source": [
    "print type(3.2)"
   ]
  },
  {
   "cell_type": "markdown",
   "metadata": {},
   "source": [
    "Here we see 3 different types of objects:\n",
    "* __strings__ are indicated by quotation marks, regardless of what's inside the quotations\n",
    "* __integers__ are numbers with no decimals\n",
    "* __floats__ are numbers with decimals\n",
    "\n",
    "What happens if we put a number in quotation marks?"
   ]
  },
  {
   "cell_type": "code",
   "execution_count": 10,
   "metadata": {},
   "outputs": [
    {
     "name": "stdout",
     "output_type": "stream",
     "text": [
      "1\n",
      "the following notation indicates the type of object --> <type 'str'>\n"
     ]
    }
   ],
   "source": [
    "print '1'\n",
    "print 'the following notation indicates the type of object -->', type('1')"
   ]
  },
  {
   "cell_type": "markdown",
   "metadata": {},
   "source": [
    "## Variables\n",
    "\n",
    "Variables are simply representations of the data that you want to work with, just like how we understand that the letters in the equation __F = ma__ are representations of numbers corresponding to __force__, __mass__, and __acceleration__. To create a variable, you write out your variable name, an \"=\" sign, then what object you want it to represent."
   ]
  },
  {
   "cell_type": "code",
   "execution_count": 12,
   "metadata": {
    "collapsed": true
   },
   "outputs": [],
   "source": [
    "gradStudent = 'Debora'"
   ]
  },
  {
   "cell_type": "code",
   "execution_count": 13,
   "metadata": {},
   "outputs": [
    {
     "name": "stdout",
     "output_type": "stream",
     "text": [
      "Debora\n"
     ]
    }
   ],
   "source": [
    "print gradStudent"
   ]
  },
  {
   "cell_type": "code",
   "execution_count": 14,
   "metadata": {},
   "outputs": [
    {
     "name": "stdout",
     "output_type": "stream",
     "text": [
      "<type 'str'>\n"
     ]
    }
   ],
   "source": [
    "print type(gradStudent)"
   ]
  },
  {
   "cell_type": "code",
   "execution_count": 15,
   "metadata": {},
   "outputs": [
    {
     "name": "stdout",
     "output_type": "stream",
     "text": [
      "29\n",
      "<type 'int'>\n"
     ]
    }
   ],
   "source": [
    "age = 29\n",
    "\n",
    "print age\n",
    "print type(age)"
   ]
  },
  {
   "cell_type": "markdown",
   "metadata": {},
   "source": [
    "Like in math, it's easy to use variables to keep track of values instead of having numbers all over the place"
   ]
  },
  {
   "cell_type": "code",
   "execution_count": 16,
   "metadata": {},
   "outputs": [
    {
     "name": "stdout",
     "output_type": "stream",
     "text": [
      "980.7\n"
     ]
    }
   ],
   "source": [
    "mass         = 100\n",
    "earthGravity = 9.807\n",
    "weight = mass*earthGravity\n",
    "\n",
    "print weight"
   ]
  },
  {
   "cell_type": "code",
   "execution_count": 17,
   "metadata": {},
   "outputs": [
    {
     "name": "stdout",
     "output_type": "stream",
     "text": [
      "162.2\n"
     ]
    }
   ],
   "source": [
    "moonGravity = 1.622\n",
    "weightMoon = mass*moonGravity\n",
    "\n",
    "print weightMoon"
   ]
  },
  {
   "cell_type": "markdown",
   "metadata": {},
   "source": [
    "The result of an operation can be set to a variable. In the simple, above case, the variable __weight__ is defined by the operation __mass__ times __gravity__."
   ]
  },
  {
   "cell_type": "markdown",
   "metadata": {},
   "source": [
    "## Coercion\n",
    "You can force number types to become another type using the __int()__, __float()__, and __str()__ functions (Also, you can print multiple things separating them by a comma.)\n",
    "\n",
    "Why might you do this? Well, when reading from a text file, everything starts life as a string. Clearly, there are times when data manipulation is called for. Conversely, we will need to cleanly format numerical output, and that may require some string operations on our integers."
   ]
  },
  {
   "cell_type": "code",
   "execution_count": 12,
   "metadata": {},
   "outputs": [
    {
     "name": "stdout",
     "output_type": "stream",
     "text": [
      "1 <type 'int'>\n"
     ]
    }
   ],
   "source": [
    "print 1, type(1)"
   ]
  },
  {
   "cell_type": "code",
   "execution_count": 13,
   "metadata": {},
   "outputs": [
    {
     "name": "stdout",
     "output_type": "stream",
     "text": [
      "1.0 <type 'float'>\n"
     ]
    }
   ],
   "source": [
    "print float(1), type(float(1))\n"
   ]
  },
  {
   "cell_type": "code",
   "execution_count": 15,
   "metadata": {},
   "outputs": [
    {
     "name": "stdout",
     "output_type": "stream",
     "text": [
      "1 <type 'str'>\n"
     ]
    }
   ],
   "source": [
    "print str(1), type(str(1))"
   ]
  },
  {
   "cell_type": "code",
   "execution_count": 14,
   "metadata": {},
   "outputs": [
    {
     "name": "stdout",
     "output_type": "stream",
     "text": [
      "1.3 <type 'float'>\n"
     ]
    }
   ],
   "source": [
    "print 1.3, type(1.3)"
   ]
  },
  {
   "cell_type": "markdown",
   "metadata": {},
   "source": [
    "Let's force an float to be an int..."
   ]
  },
  {
   "cell_type": "code",
   "execution_count": 16,
   "metadata": {},
   "outputs": [
    {
     "name": "stdout",
     "output_type": "stream",
     "text": [
      "1 <type 'int'>\n"
     ]
    }
   ],
   "source": [
    "print int(1.7), type(int(1.3))"
   ]
  },
  {
   "cell_type": "markdown",
   "metadata": {},
   "source": [
    "*Wait, what?* Hey! That's not a nice thing to do with a float..."
   ]
  },
  {
   "cell_type": "markdown",
   "metadata": {},
   "source": [
    "### Functions to convert types\n",
    "\n",
    "__int()__ forces values to be an integer. Floats will be rounded down to the nearest integer.\n",
    "\n",
    "__float()__ forces values to become a float\n",
    "\n",
    "__str()__ forces values to become a string"
   ]
  },
  {
   "cell_type": "markdown",
   "metadata": {},
   "source": [
    "### It's objects all the way down...\n",
    "\n",
    "In Python, *everything* is an **object**. This includes variables, strings, floats, functions  - any kind of data Python can represent. Everything is an object, and all objects have types.\n",
    "\n",
    "We have made some references to memory. Variables represent memory of all kinds. A variable can hold a string, as we saw above, or a more complex object like a function, or a complex data type like an array or a dictionary (we'll get there).\n",
    "\n",
    "Python can perform operations on objects. Some kinds of objects can do anything. For instance, any object can be **print**ed. Other objects (of a different type) can support more limited (or additional specialized) operations. For instance, it doesn't make sense to subtract two strings, but that works dandy with an integer. \n",
    "\n",
    "What happens when you subtract a float from an integer? Try it!\n",
    "\n",
    "In Python, a variable doesn't exist until you assign a value to it (with '='). You can even create a varilable with no contents by assigning a special object, called **None**, to a variable. (What type is **None**? Ask your friendly local Python intrepeter...). Once assigned, you may overwrite - and lose the contents of - a variable, by using '=' again. If you have never referred to a variable before and try to use it for something other than assigning to, you'll get an error, because Python has never heard of it before."
   ]
  },
  {
   "cell_type": "markdown",
   "metadata": {},
   "source": [
    "### Naming variables\n",
    "Variables are named whatever you like, within the strictures of a few basic rules:\n",
    "\n",
    "1) Python variable names are case-sensitive, so __Var__ and __var__ are different variables.\n",
    "\n",
    "2) Though variable names can contain letters, numbers and underscores ( _ ), they MUST start with a letter (a-z).\n",
    "\n",
    "3) Variable names, __CANNOT__ contain spaces or special non-alphanumeric characters (e.g. holyS#+%?), nor can they be any of the following words that already have special meaning in python:"
   ]
  },
  {
   "cell_type": "code",
   "execution_count": null,
   "metadata": {
    "collapsed": true
   },
   "outputs": [],
   "source": [
    "and    assert   break    class   continue\n",
    "def    del      elif     else    except   \n",
    "exec   finally  for      from    global   \n",
    "if     import   in       is      lambda\n",
    "not    or       pass     print   raise\n",
    "return try      while    yield"
   ]
  },
  {
   "cell_type": "markdown",
   "metadata": {},
   "source": [
    "For the most part, jupyter notebooks will remind you that these words are off-limits by coloring them in helpful ways when you type them.\n",
    "\n",
    "Here are some invalid python variable names:"
   ]
  },
  {
   "cell_type": "code",
   "execution_count": null,
   "metadata": {
    "collapsed": true
   },
   "outputs": [],
   "source": [
    "1sample sampleA.1 class"
   ]
  },
  {
   "cell_type": "markdown",
   "metadata": {},
   "source": [
    "And here are some good alternatives:"
   ]
  },
  {
   "cell_type": "code",
   "execution_count": null,
   "metadata": {
    "collapsed": true
   },
   "outputs": [],
   "source": [
    "sample_1 SampleA1 bootcamp_class"
   ]
  },
  {
   "cell_type": "markdown",
   "metadata": {},
   "source": [
    "## Numerical operations on Strings\n",
    "You can perform basic numerical operations (addition multiplication) on strings and the outcome is a visual representation of the math!"
   ]
  },
  {
   "cell_type": "code",
   "execution_count": 18,
   "metadata": {},
   "outputs": [
    {
     "name": "stdout",
     "output_type": "stream",
     "text": [
      "aca\n",
      "bdb\n"
     ]
    }
   ],
   "source": [
    "stringA = 'aca'\n",
    "stringB = 'bdb'\n",
    "\n",
    "print stringA\n",
    "print stringB"
   ]
  },
  {
   "cell_type": "code",
   "execution_count": 19,
   "metadata": {},
   "outputs": [
    {
     "name": "stdout",
     "output_type": "stream",
     "text": [
      "stringA + stringB is\n",
      "acabdb\n"
     ]
    }
   ],
   "source": [
    "print 'stringA + stringB is'\n",
    "print stringA + stringB"
   ]
  },
  {
   "cell_type": "code",
   "execution_count": 22,
   "metadata": {},
   "outputs": [
    {
     "name": "stdout",
     "output_type": "stream",
     "text": [
      "stringA times 3 is\n",
      "acaacaaca\n"
     ]
    }
   ],
   "source": [
    "print 'stringA times 3 is'\n",
    "print stringA * 3\n",
    "#print stringA * 3.0\n",
    "\n",
    "# by the way, lines starting with the pound sign (#)\n",
    "# makes them comments, ignored by the interpreter"
   ]
  },
  {
   "cell_type": "markdown",
   "metadata": {},
   "source": [
    "As we see here, adding strings concatenates them and multplying strings by an integer (it doesn't work with floats) will yield the same string repeated over and over again.\n",
    "\n",
    "Also, note the # sign, which indicates lines that are ignored by python. As you write your own code, it's good practice to use commented lines to describe what bits of code do and how they do it."
   ]
  },
  {
   "cell_type": "markdown",
   "metadata": {},
   "source": [
    "## Numerical operations on Integers\n",
    "Math with integers works the same way all non-decimal math is done. All integer arithmetic will yield integer results if only integers are used."
   ]
  },
  {
   "cell_type": "code",
   "execution_count": 20,
   "metadata": {
    "collapsed": true
   },
   "outputs": [],
   "source": [
    "myMoney   = float(23) # in dollars\n",
    "yourMoney = 31\n",
    "pizzaCost = 5"
   ]
  },
  {
   "cell_type": "code",
   "execution_count": 21,
   "metadata": {},
   "outputs": [
    {
     "name": "stdout",
     "output_type": "stream",
     "text": [
      "How much do we have if we pooled our money\n",
      "together?\n",
      "54.0\n"
     ]
    }
   ],
   "source": [
    "print '''How much do we have if we pooled our money\n",
    "together?'''\n",
    "print myMoney + yourMoney"
   ]
  },
  {
   "cell_type": "code",
   "execution_count": 22,
   "metadata": {},
   "outputs": [
    {
     "name": "stdout",
     "output_type": "stream",
     "text": [
      "How much do you have if you double your\n",
      "money?\n",
      "62\n"
     ]
    }
   ],
   "source": [
    "print '''How much do you have if you double your\n",
    "money?'''\n",
    "print yourMoney*2"
   ]
  },
  {
   "cell_type": "markdown",
   "metadata": {},
   "source": [
    "Multiplication is indicated with an asterisk \"*\""
   ]
  },
  {
   "cell_type": "code",
   "execution_count": 23,
   "metadata": {},
   "outputs": [
    {
     "name": "stdout",
     "output_type": "stream",
     "text": [
      "What if you square it?\n",
      "961\n"
     ]
    }
   ],
   "source": [
    "print 'What if you square it?'\n",
    "print yourMoney**2"
   ]
  },
  {
   "cell_type": "markdown",
   "metadata": {},
   "source": [
    "And doing exponents requires two asterisks \"**\""
   ]
  },
  {
   "cell_type": "code",
   "execution_count": 24,
   "metadata": {},
   "outputs": [
    {
     "name": "stdout",
     "output_type": "stream",
     "text": [
      "How many pizzas can I buy?\n",
      "4.6\n"
     ]
    }
   ],
   "source": [
    "print 'How many pizzas can I buy?'\n",
    "print myMoney/pizzaCost"
   ]
  },
  {
   "cell_type": "markdown",
   "metadata": {},
   "source": [
    "2 things to note here. Division is indicated by a slash \"/\" sign. Also, notice that 23/5 does NOT yield a decimal value? Integer division will yield only the integer portion of the quotient. However, you can get the remainder of a division by using the percent \"%\" sign instead of the division sign."
   ]
  },
  {
   "cell_type": "code",
   "execution_count": 29,
   "metadata": {},
   "outputs": [
    {
     "name": "stdout",
     "output_type": "stream",
     "text": [
      "How much money do I have left over after \n",
      "buying 4 pizzas?\n",
      "3\n"
     ]
    }
   ],
   "source": [
    "print '''How much money do I have left over after \n",
    "buying 4 pizzas?'''\n",
    "print myMoney%pizzaCost"
   ]
  },
  {
   "cell_type": "markdown",
   "metadata": {},
   "source": [
    "If you want to get the exact result of the previous division, you can use coercion"
   ]
  },
  {
   "cell_type": "code",
   "execution_count": 30,
   "metadata": {},
   "outputs": [
    {
     "name": "stdout",
     "output_type": "stream",
     "text": [
      "EXACTLY How many pizzas can I buy?\n",
      "4.6\n"
     ]
    }
   ],
   "source": [
    "print 'EXACTLY How many pizzas can I buy?'\n",
    "print float(myMoney)/pizzaCost"
   ]
  },
  {
   "cell_type": "markdown",
   "metadata": {},
   "source": [
    "Python will follow math precedence rules. You can also use parentheses to change precedence, just like in math."
   ]
  },
  {
   "cell_type": "code",
   "execution_count": 31,
   "metadata": {},
   "outputs": [
    {
     "name": "stdout",
     "output_type": "stream",
     "text": [
      "How many pizzas can we buy together?\n",
      "10\n"
     ]
    }
   ],
   "source": [
    "print 'How many pizzas can we buy together?'\n",
    "print (myMoney+yourMoney)/pizzaCost"
   ]
  },
  {
   "cell_type": "markdown",
   "metadata": {},
   "source": [
    "## Numerical operations on Floats\n",
    "All float math is the same as integer math..."
   ]
  },
  {
   "cell_type": "code",
   "execution_count": 32,
   "metadata": {
    "collapsed": true
   },
   "outputs": [],
   "source": [
    "temperature = 23.1 # celsius"
   ]
  },
  {
   "cell_type": "code",
   "execution_count": 33,
   "metadata": {},
   "outputs": [
    {
     "name": "stdout",
     "output_type": "stream",
     "text": [
      "46.2\n",
      "<type 'float'>\n"
     ]
    }
   ],
   "source": [
    "print temperature*2\n",
    "print type(temperature*2)"
   ]
  },
  {
   "cell_type": "code",
   "execution_count": 34,
   "metadata": {},
   "outputs": [
    {
     "name": "stdout",
     "output_type": "stream",
     "text": [
      "24.0\n",
      "<type 'float'>\n"
     ]
    }
   ],
   "source": [
    "print temperature + 0.9\n",
    "print type(temperature + 0.9)"
   ]
  },
  {
   "cell_type": "markdown",
   "metadata": {},
   "source": [
    "When you do math with a float, the resulting number will always be a float, even if some of the inputs are integers. What happens when you coerce a float with a fractional value?"
   ]
  },
  {
   "cell_type": "markdown",
   "metadata": {},
   "source": [
    "## User input\n",
    "Input can take many forms, and we will cover some of its complexities in later lessons. But, for now, it's a great way to examine variables and types, and it will allow us to work with some more interesting excercises. \n",
    "\n",
    "*raw_input* is a function (more on that soon!) which prints a string for the user, and then accepts (and returns) the user's input as a string. "
   ]
  },
  {
   "cell_type": "code",
   "execution_count": 3,
   "metadata": {},
   "outputs": [
    {
     "name": "stdout",
     "output_type": "stream",
     "text": [
      "what's your name? hjkgh\n",
      "hjkgh\n"
     ]
    }
   ],
   "source": [
    "name = raw_input(\"what's your name? \")\n",
    "print name"
   ]
  },
  {
   "cell_type": "markdown",
   "metadata": {},
   "source": [
    "Notice that everything is read in as a string, even numbers. Remember that if you want numbers to be an int or a float, just use coercion with int() and float() functions"
   ]
  },
  {
   "cell_type": "code",
   "execution_count": 4,
   "metadata": {},
   "outputs": [
    {
     "name": "stdout",
     "output_type": "stream",
     "text": [
      "How old are you? 23\n",
      "33\n",
      "<type 'str'>\n"
     ]
    }
   ],
   "source": [
    "age = raw_input(\"How old are you? \")\n",
    "print int (age) + 10\n",
    "print type(age)"
   ]
  },
  {
   "cell_type": "code",
   "execution_count": null,
   "metadata": {},
   "outputs": [],
   "source": []
  }
 ],
 "metadata": {
  "anaconda-cloud": {},
  "kernelspec": {
   "display_name": "Python 2",
   "language": "python",
   "name": "python2"
  },
  "language_info": {
   "codemirror_mode": {
    "name": "ipython",
    "version": 2
   },
   "file_extension": ".py",
   "mimetype": "text/x-python",
   "name": "python",
   "nbconvert_exporter": "python",
   "pygments_lexer": "ipython2",
   "version": "2.7.13"
  }
 },
 "nbformat": 4,
 "nbformat_minor": 1
}
